{
 "cells": [
  {
   "cell_type": "markdown",
   "metadata": {},
   "source": [
    "# Pre-trained Model Library\n",
    "\n",
    "**XenonPy.MDL** is a library of pre-trained models that were obtained by feeding diverse materials data on structure-property relationships into neural networks and some other supervised learning algorithms.\n",
    "\n",
    "XenonPy offers a simple-to-use toolchain to perform **transfer learning** with the given **pre-trained models** seamlessly.\n",
    "In this tutorial, we will focus on model querying and retrieving."
   ]
  },
  {
   "cell_type": "markdown",
   "metadata": {},
   "source": [
    "### useful functions\n",
    "\n",
    "Run this cell will load some well-used packages such as `numpy`, `pandas`, and so on.\n",
    "The running will also import some valuable functions which are written by ourselves.\n",
    "There is no magic,  see `samples/tools.ipynb` to know what will be imported."
   ]
  },
  {
   "cell_type": "code",
   "execution_count": 1,
   "metadata": {},
   "outputs": [],
   "source": [
    "%run tools.ipynb"
   ]
  },
  {
   "cell_type": "markdown",
   "metadata": {},
   "source": [
    "### access pre-trained models with MDL class\n",
    "\n",
    "We exposed a wide range of APIs to let you query and download our models.\n",
    "These APIs basically can be accessed via any HTTP requests.\n",
    "For convenience, we implemented some of the most-used APIs and wrapped them into XenonPy.\n",
    "All these functions can be accessed using `xenonpy.datatools.MDL`."
   ]
  },
  {
   "cell_type": "code",
   "execution_count": 2,
   "metadata": {},
   "outputs": [],
   "source": [
    "# --- import necessary libraries\n",
    "\n",
    "from xenonpy.datatools import MDL"
   ]
  },
  {
   "cell_type": "code",
   "execution_count": 3,
   "metadata": {},
   "outputs": [
    {
     "data": {
      "text/plain": [
       "MDL(api_key='')"
      ]
     },
     "execution_count": 3,
     "metadata": {},
     "output_type": "execute_result"
    }
   ],
   "source": [
    "# --- init and check\n",
    "\n",
    "mdl = MDL()\n",
    "mdl"
   ]
  },
  {
   "cell_type": "markdown",
   "metadata": {},
   "source": [
    "You can see MDL has an optional parameter ``api_key``, at now it is invalidity. Public model uploading is scheduled; this parameter is the placeholder that will be used to identify users in the future.\n",
    "\n",
    "If everything is right, we can query models via some keywords.\n",
    "Let's say we want to retrieve some models that trained by the inorganic compounds data and can predict the property of volume.\n",
    "In this case, we need to feed the parameter `modelset_has` with **Stable inorganic compounds** and the `property_has` with **volume**.\n",
    "\n",
    "If successful, the calling will return a `pandas.DataFrame` object will as the querying result. This will contains information about what models there are and their downloadable urls. All the available names are listing at https://xenonpy.readthedocs.io/en/latest/features.html#xenonpy-mdl."
   ]
  },
  {
   "cell_type": "code",
   "execution_count": 4,
   "metadata": {},
   "outputs": [],
   "source": [
    "# --- query data\n",
    "\n",
    "summary = mdl(\n",
    "    modelset_has=\"Stable inorganic compounds\",  # sub string in the name of modelset\n",
    "    property_has=\"volume\", # substring for property name \n",
    ")"
   ]
  },
  {
   "cell_type": "markdown",
   "metadata": {
    "nbsphinx": "hidden"
   },
   "source": [
    "You can use `?` mark under any function's name to show it's docs."
   ]
  },
  {
   "cell_type": "code",
   "execution_count": 5,
   "metadata": {
    "nbsphinx": "hidden"
   },
   "outputs": [
    {
     "data": {
      "text/plain": [
       "\u001b[0;31mSignature:\u001b[0m      \n",
       "\u001b[0mmdl\u001b[0m\u001b[0;34m(\u001b[0m\u001b[0;34m\u001b[0m\n",
       "\u001b[0;34m\u001b[0m    \u001b[0mmodelset_has\u001b[0m\u001b[0;34m,\u001b[0m\u001b[0;34m\u001b[0m\n",
       "\u001b[0;34m\u001b[0m    \u001b[0;34m*\u001b[0m\u001b[0;34m,\u001b[0m\u001b[0;34m\u001b[0m\n",
       "\u001b[0;34m\u001b[0m    \u001b[0mproperty_has\u001b[0m\u001b[0;34m=\u001b[0m\u001b[0;34m''\u001b[0m\u001b[0;34m,\u001b[0m\u001b[0;34m\u001b[0m\n",
       "\u001b[0;34m\u001b[0m    \u001b[0mdescriptor_has\u001b[0m\u001b[0;34m=\u001b[0m\u001b[0;34m''\u001b[0m\u001b[0;34m,\u001b[0m\u001b[0;34m\u001b[0m\n",
       "\u001b[0;34m\u001b[0m    \u001b[0mmethod_has\u001b[0m\u001b[0;34m=\u001b[0m\u001b[0;34m''\u001b[0m\u001b[0;34m,\u001b[0m\u001b[0;34m\u001b[0m\n",
       "\u001b[0;34m\u001b[0m    \u001b[0mlang_has\u001b[0m\u001b[0;34m=\u001b[0m\u001b[0;34m''\u001b[0m\u001b[0;34m,\u001b[0m\u001b[0;34m\u001b[0m\n",
       "\u001b[0;34m\u001b[0m    \u001b[0mregress_is\u001b[0m\u001b[0;34m=\u001b[0m\u001b[0;32mTrue\u001b[0m\u001b[0;34m,\u001b[0m\u001b[0;34m\u001b[0m\n",
       "\u001b[0;34m\u001b[0m    \u001b[0mtransferred_is\u001b[0m\u001b[0;34m=\u001b[0m\u001b[0;32mFalse\u001b[0m\u001b[0;34m,\u001b[0m\u001b[0;34m\u001b[0m\n",
       "\u001b[0;34m\u001b[0m    \u001b[0msucceed_is\u001b[0m\u001b[0;34m=\u001b[0m\u001b[0;32mTrue\u001b[0m\u001b[0;34m,\u001b[0m\u001b[0;34m\u001b[0m\n",
       "\u001b[0;34m\u001b[0m\u001b[0;34m)\u001b[0m\u001b[0;34m\u001b[0m\u001b[0;34m\u001b[0m\u001b[0m\n",
       "\u001b[0;31mType:\u001b[0m            MDL\n",
       "\u001b[0;31mString form:\u001b[0m     MDL(api_key='')\n",
       "\u001b[0;31mFile:\u001b[0m            ~/projects/xenonpy/xenonpy/datatools/mdl.py\n",
       "\u001b[0;31mDocstring:\u001b[0m       <no docstring>\n",
       "\u001b[0;31mClass docstring:\u001b[0m\n",
       "Base class for all estimators in scikit-learn\n",
       "\n",
       "Notes\n",
       "-----\n",
       "All estimators should specify all the parameters that can be set\n",
       "at the class level in their ``__init__`` as explicit keyword\n",
       "arguments (no ``*args`` or ``**kwargs``).\n",
       "\u001b[0;31mInit docstring:\u001b[0m \n",
       "Access to XenonPy.MDL library.\n",
       "\n",
       "Parameters\n",
       "----------\n",
       "api_key\n",
       "    Not implement yet.\n",
       "\u001b[0;31mCall docstring:\u001b[0m \n",
       "Query models with specific keywords and download to a specific destination\n",
       "\n",
       "Parameters\n",
       "----------\n",
       "modelset_has: str\n",
       "    The part of a model set's name.\n",
       "    For example, ``modelset_has='test`` will hit ``*test*``\n",
       "property_has: str\n",
       "    A part of the name of property.\n",
       "descriptor_has: str\n",
       "    A part of the name of descriptor.\n",
       "method_has: str\n",
       "    A part of the name of training method.\n",
       "lang_has: str\n",
       "    A part of the name of programming language.\n",
       "regress_is: bool\n",
       "    If``True``, searching in regression models,\n",
       "    else, searching in classification models.\n",
       "    Default is ``True``.\n",
       "transferred_is: bool\n",
       "    If ``True``, searching in transferred models.\n",
       "    Default is ``False``.\n",
       "succeed_is: bool\n",
       "    If ``True``, searching in succeed models.\n",
       "    Default is ``True``.\n",
       "\n",
       "Returns\n",
       "-------\n",
       "ret: pd.DataFrame\n",
       "    A summary of all downloaded models.\n"
      ]
     },
     "metadata": {},
     "output_type": "display_data"
    }
   ],
   "source": [
    "mdl?"
   ]
  },
  {
   "cell_type": "code",
   "execution_count": 6,
   "metadata": {},
   "outputs": [
    {
     "data": {
      "text/html": [
       "<div>\n",
       "<style scoped>\n",
       "    .dataframe tbody tr th:only-of-type {\n",
       "        vertical-align: middle;\n",
       "    }\n",
       "\n",
       "    .dataframe tbody tr th {\n",
       "        vertical-align: top;\n",
       "    }\n",
       "\n",
       "    .dataframe thead th {\n",
       "        text-align: right;\n",
       "    }\n",
       "</style>\n",
       "<table border=\"1\" class=\"dataframe\">\n",
       "  <thead>\n",
       "    <tr style=\"text-align: right;\">\n",
       "      <th></th>\n",
       "      <th>url</th>\n",
       "      <th>modelSet</th>\n",
       "      <th>property</th>\n",
       "      <th>descriptor</th>\n",
       "      <th>method</th>\n",
       "      <th>lang</th>\n",
       "      <th>regress</th>\n",
       "      <th>transferred</th>\n",
       "      <th>succeed</th>\n",
       "      <th>mae</th>\n",
       "      <th>r</th>\n",
       "    </tr>\n",
       "    <tr>\n",
       "      <th>mId</th>\n",
       "      <th></th>\n",
       "      <th></th>\n",
       "      <th></th>\n",
       "      <th></th>\n",
       "      <th></th>\n",
       "      <th></th>\n",
       "      <th></th>\n",
       "      <th></th>\n",
       "      <th></th>\n",
       "      <th></th>\n",
       "      <th></th>\n",
       "    </tr>\n",
       "  </thead>\n",
       "  <tbody>\n",
       "    <tr>\n",
       "      <th>M23001</th>\n",
       "      <td>http://xenon.ism.ac.jp/mdl/S1/inorganic.crysta...</td>\n",
       "      <td>Stable inorganic compounds in materials projec...</td>\n",
       "      <td>inorganic.crystal.volume</td>\n",
       "      <td>xenonpy.composition</td>\n",
       "      <td>pytorch.nn.neural_network</td>\n",
       "      <td>python</td>\n",
       "      <td>True</td>\n",
       "      <td>False</td>\n",
       "      <td>True</td>\n",
       "      <td>22.565939</td>\n",
       "      <td>0.996093</td>\n",
       "    </tr>\n",
       "    <tr>\n",
       "      <th>M23002</th>\n",
       "      <td>http://xenon.ism.ac.jp/mdl/S1/inorganic.crysta...</td>\n",
       "      <td>Stable inorganic compounds in materials projec...</td>\n",
       "      <td>inorganic.crystal.volume</td>\n",
       "      <td>xenonpy.composition</td>\n",
       "      <td>pytorch.nn.neural_network</td>\n",
       "      <td>python</td>\n",
       "      <td>True</td>\n",
       "      <td>False</td>\n",
       "      <td>True</td>\n",
       "      <td>295.966614</td>\n",
       "      <td>0.991945</td>\n",
       "    </tr>\n",
       "    <tr>\n",
       "      <th>M23003</th>\n",
       "      <td>http://xenon.ism.ac.jp/mdl/S1/inorganic.crysta...</td>\n",
       "      <td>Stable inorganic compounds in materials projec...</td>\n",
       "      <td>inorganic.crystal.volume</td>\n",
       "      <td>xenonpy.composition</td>\n",
       "      <td>pytorch.nn.neural_network</td>\n",
       "      <td>python</td>\n",
       "      <td>True</td>\n",
       "      <td>False</td>\n",
       "      <td>True</td>\n",
       "      <td>151.815582</td>\n",
       "      <td>0.994928</td>\n",
       "    </tr>\n",
       "    <tr>\n",
       "      <th>M23004</th>\n",
       "      <td>http://xenon.ism.ac.jp/mdl/S1/inorganic.crysta...</td>\n",
       "      <td>Stable inorganic compounds in materials projec...</td>\n",
       "      <td>inorganic.crystal.volume</td>\n",
       "      <td>xenonpy.composition</td>\n",
       "      <td>pytorch.nn.neural_network</td>\n",
       "      <td>python</td>\n",
       "      <td>True</td>\n",
       "      <td>False</td>\n",
       "      <td>True</td>\n",
       "      <td>50.362647</td>\n",
       "      <td>0.995265</td>\n",
       "    </tr>\n",
       "    <tr>\n",
       "      <th>M23005</th>\n",
       "      <td>http://xenon.ism.ac.jp/mdl/S1/inorganic.crysta...</td>\n",
       "      <td>Stable inorganic compounds in materials projec...</td>\n",
       "      <td>inorganic.crystal.volume</td>\n",
       "      <td>xenonpy.composition</td>\n",
       "      <td>pytorch.nn.neural_network</td>\n",
       "      <td>python</td>\n",
       "      <td>True</td>\n",
       "      <td>False</td>\n",
       "      <td>True</td>\n",
       "      <td>87.297256</td>\n",
       "      <td>0.993133</td>\n",
       "    </tr>\n",
       "  </tbody>\n",
       "</table>\n",
       "</div>"
      ],
      "text/plain": [
       "                                                      url  \\\n",
       "mId                                                         \n",
       "M23001  http://xenon.ism.ac.jp/mdl/S1/inorganic.crysta...   \n",
       "M23002  http://xenon.ism.ac.jp/mdl/S1/inorganic.crysta...   \n",
       "M23003  http://xenon.ism.ac.jp/mdl/S1/inorganic.crysta...   \n",
       "M23004  http://xenon.ism.ac.jp/mdl/S1/inorganic.crysta...   \n",
       "M23005  http://xenon.ism.ac.jp/mdl/S1/inorganic.crysta...   \n",
       "\n",
       "                                                 modelSet  \\\n",
       "mId                                                         \n",
       "M23001  Stable inorganic compounds in materials projec...   \n",
       "M23002  Stable inorganic compounds in materials projec...   \n",
       "M23003  Stable inorganic compounds in materials projec...   \n",
       "M23004  Stable inorganic compounds in materials projec...   \n",
       "M23005  Stable inorganic compounds in materials projec...   \n",
       "\n",
       "                        property           descriptor  \\\n",
       "mId                                                     \n",
       "M23001  inorganic.crystal.volume  xenonpy.composition   \n",
       "M23002  inorganic.crystal.volume  xenonpy.composition   \n",
       "M23003  inorganic.crystal.volume  xenonpy.composition   \n",
       "M23004  inorganic.crystal.volume  xenonpy.composition   \n",
       "M23005  inorganic.crystal.volume  xenonpy.composition   \n",
       "\n",
       "                           method    lang  regress  transferred  succeed  \\\n",
       "mId                                                                        \n",
       "M23001  pytorch.nn.neural_network  python     True        False     True   \n",
       "M23002  pytorch.nn.neural_network  python     True        False     True   \n",
       "M23003  pytorch.nn.neural_network  python     True        False     True   \n",
       "M23004  pytorch.nn.neural_network  python     True        False     True   \n",
       "M23005  pytorch.nn.neural_network  python     True        False     True   \n",
       "\n",
       "               mae         r  \n",
       "mId                           \n",
       "M23001   22.565939  0.996093  \n",
       "M23002  295.966614  0.991945  \n",
       "M23003  151.815582  0.994928  \n",
       "M23004   50.362647  0.995265  \n",
       "M23005   87.297256  0.993133  "
      ]
     },
     "execution_count": 6,
     "metadata": {},
     "output_type": "execute_result"
    }
   ],
   "source": [
    "summary.head(5)"
   ]
  },
  {
   "cell_type": "markdown",
   "metadata": {},
   "source": [
    "### model downloading\n",
    "\n",
    "Maybe you have noticed that the result also has a column named 'url.' As the name means, we can use this information to download models.\n",
    "Since HTTP downloading in python is not an easy job for a novice, we also offered a rather simple function to help your downloading.\n",
    "\n",
    "Assuming we want to download the top 5 best performance models based on their **MAE**. The downloading procedure is straight-forward as below."
   ]
  },
  {
   "cell_type": "markdown",
   "metadata": {},
   "source": [
    "#### 1. sort models by the value of **MAE**"
   ]
  },
  {
   "cell_type": "code",
   "execution_count": 7,
   "metadata": {},
   "outputs": [
    {
     "data": {
      "text/html": [
       "<div>\n",
       "<style scoped>\n",
       "    .dataframe tbody tr th:only-of-type {\n",
       "        vertical-align: middle;\n",
       "    }\n",
       "\n",
       "    .dataframe tbody tr th {\n",
       "        vertical-align: top;\n",
       "    }\n",
       "\n",
       "    .dataframe thead th {\n",
       "        text-align: right;\n",
       "    }\n",
       "</style>\n",
       "<table border=\"1\" class=\"dataframe\">\n",
       "  <thead>\n",
       "    <tr style=\"text-align: right;\">\n",
       "      <th></th>\n",
       "      <th>url</th>\n",
       "      <th>modelSet</th>\n",
       "      <th>property</th>\n",
       "      <th>descriptor</th>\n",
       "      <th>method</th>\n",
       "      <th>lang</th>\n",
       "      <th>regress</th>\n",
       "      <th>transferred</th>\n",
       "      <th>succeed</th>\n",
       "      <th>mae</th>\n",
       "      <th>r</th>\n",
       "    </tr>\n",
       "    <tr>\n",
       "      <th>mId</th>\n",
       "      <th></th>\n",
       "      <th></th>\n",
       "      <th></th>\n",
       "      <th></th>\n",
       "      <th></th>\n",
       "      <th></th>\n",
       "      <th></th>\n",
       "      <th></th>\n",
       "      <th></th>\n",
       "      <th></th>\n",
       "      <th></th>\n",
       "    </tr>\n",
       "  </thead>\n",
       "  <tbody>\n",
       "    <tr>\n",
       "      <th>M23001</th>\n",
       "      <td>http://xenon.ism.ac.jp/mdl/S1/inorganic.crysta...</td>\n",
       "      <td>Stable inorganic compounds in materials projec...</td>\n",
       "      <td>inorganic.crystal.volume</td>\n",
       "      <td>xenonpy.composition</td>\n",
       "      <td>pytorch.nn.neural_network</td>\n",
       "      <td>python</td>\n",
       "      <td>True</td>\n",
       "      <td>False</td>\n",
       "      <td>True</td>\n",
       "      <td>22.565939</td>\n",
       "      <td>0.996093</td>\n",
       "    </tr>\n",
       "    <tr>\n",
       "      <th>M23265</th>\n",
       "      <td>http://xenon.ism.ac.jp/mdl/S1/inorganic.crysta...</td>\n",
       "      <td>Stable inorganic compounds in materials projec...</td>\n",
       "      <td>inorganic.crystal.volume</td>\n",
       "      <td>xenonpy.composition</td>\n",
       "      <td>pytorch.nn.neural_network</td>\n",
       "      <td>python</td>\n",
       "      <td>True</td>\n",
       "      <td>False</td>\n",
       "      <td>True</td>\n",
       "      <td>22.759855</td>\n",
       "      <td>0.995420</td>\n",
       "    </tr>\n",
       "    <tr>\n",
       "      <th>M24137</th>\n",
       "      <td>http://xenon.ism.ac.jp/mdl/S1/inorganic.crysta...</td>\n",
       "      <td>Stable inorganic compounds in materials projec...</td>\n",
       "      <td>inorganic.crystal.volume</td>\n",
       "      <td>xenonpy.composition</td>\n",
       "      <td>pytorch.nn.neural_network</td>\n",
       "      <td>python</td>\n",
       "      <td>True</td>\n",
       "      <td>False</td>\n",
       "      <td>True</td>\n",
       "      <td>22.883263</td>\n",
       "      <td>0.995601</td>\n",
       "    </tr>\n",
       "    <tr>\n",
       "      <th>M23203</th>\n",
       "      <td>http://xenon.ism.ac.jp/mdl/S1/inorganic.crysta...</td>\n",
       "      <td>Stable inorganic compounds in materials projec...</td>\n",
       "      <td>inorganic.crystal.volume</td>\n",
       "      <td>xenonpy.composition</td>\n",
       "      <td>pytorch.nn.neural_network</td>\n",
       "      <td>python</td>\n",
       "      <td>True</td>\n",
       "      <td>False</td>\n",
       "      <td>True</td>\n",
       "      <td>22.954258</td>\n",
       "      <td>0.995931</td>\n",
       "    </tr>\n",
       "    <tr>\n",
       "      <th>M25054</th>\n",
       "      <td>http://xenon.ism.ac.jp/mdl/S1/inorganic.crysta...</td>\n",
       "      <td>Stable inorganic compounds in materials projec...</td>\n",
       "      <td>inorganic.crystal.volume</td>\n",
       "      <td>xenonpy.composition</td>\n",
       "      <td>pytorch.nn.neural_network</td>\n",
       "      <td>python</td>\n",
       "      <td>True</td>\n",
       "      <td>False</td>\n",
       "      <td>True</td>\n",
       "      <td>22.983179</td>\n",
       "      <td>0.996287</td>\n",
       "    </tr>\n",
       "  </tbody>\n",
       "</table>\n",
       "</div>"
      ],
      "text/plain": [
       "                                                      url  \\\n",
       "mId                                                         \n",
       "M23001  http://xenon.ism.ac.jp/mdl/S1/inorganic.crysta...   \n",
       "M23265  http://xenon.ism.ac.jp/mdl/S1/inorganic.crysta...   \n",
       "M24137  http://xenon.ism.ac.jp/mdl/S1/inorganic.crysta...   \n",
       "M23203  http://xenon.ism.ac.jp/mdl/S1/inorganic.crysta...   \n",
       "M25054  http://xenon.ism.ac.jp/mdl/S1/inorganic.crysta...   \n",
       "\n",
       "                                                 modelSet  \\\n",
       "mId                                                         \n",
       "M23001  Stable inorganic compounds in materials projec...   \n",
       "M23265  Stable inorganic compounds in materials projec...   \n",
       "M24137  Stable inorganic compounds in materials projec...   \n",
       "M23203  Stable inorganic compounds in materials projec...   \n",
       "M25054  Stable inorganic compounds in materials projec...   \n",
       "\n",
       "                        property           descriptor  \\\n",
       "mId                                                     \n",
       "M23001  inorganic.crystal.volume  xenonpy.composition   \n",
       "M23265  inorganic.crystal.volume  xenonpy.composition   \n",
       "M24137  inorganic.crystal.volume  xenonpy.composition   \n",
       "M23203  inorganic.crystal.volume  xenonpy.composition   \n",
       "M25054  inorganic.crystal.volume  xenonpy.composition   \n",
       "\n",
       "                           method    lang  regress  transferred  succeed  \\\n",
       "mId                                                                        \n",
       "M23001  pytorch.nn.neural_network  python     True        False     True   \n",
       "M23265  pytorch.nn.neural_network  python     True        False     True   \n",
       "M24137  pytorch.nn.neural_network  python     True        False     True   \n",
       "M23203  pytorch.nn.neural_network  python     True        False     True   \n",
       "M25054  pytorch.nn.neural_network  python     True        False     True   \n",
       "\n",
       "              mae         r  \n",
       "mId                          \n",
       "M23001  22.565939  0.996093  \n",
       "M23265  22.759855  0.995420  \n",
       "M24137  22.883263  0.995601  \n",
       "M23203  22.954258  0.995931  \n",
       "M25054  22.983179  0.996287  "
      ]
     },
     "execution_count": 7,
     "metadata": {},
     "output_type": "execute_result"
    }
   ],
   "source": [
    "summary = summary.sort_values('mae')\n",
    "summary.head(5)"
   ]
  },
  {
   "cell_type": "markdown",
   "metadata": {},
   "source": [
    "#### 2. get the first 5 **url**s"
   ]
  },
  {
   "cell_type": "code",
   "execution_count": 8,
   "metadata": {},
   "outputs": [
    {
     "data": {
      "text/plain": [
       "mId\n",
       "M23001    http://xenon.ism.ac.jp/mdl/S1/inorganic.crysta...\n",
       "M23265    http://xenon.ism.ac.jp/mdl/S1/inorganic.crysta...\n",
       "M24137    http://xenon.ism.ac.jp/mdl/S1/inorganic.crysta...\n",
       "M23203    http://xenon.ism.ac.jp/mdl/S1/inorganic.crysta...\n",
       "M25054    http://xenon.ism.ac.jp/mdl/S1/inorganic.crysta...\n",
       "Name: url, dtype: object"
      ]
     },
     "execution_count": 8,
     "metadata": {},
     "output_type": "execute_result"
    }
   ],
   "source": [
    "urls = summary['url'].iloc[:5]\n",
    "urls"
   ]
  },
  {
   "cell_type": "markdown",
   "metadata": {},
   "source": [
    "#### 3. download models by using ``mdl.pull`` method"
   ]
  },
  {
   "cell_type": "code",
   "execution_count": 9,
   "metadata": {},
   "outputs": [
    {
     "name": "stderr",
     "output_type": "stream",
     "text": [
      "100%|██████████| 5/5 [00:00<00:00,  5.21it/s]\n"
     ]
    }
   ],
   "source": [
    "results = mdl.pull(urls)"
   ]
  },
  {
   "cell_type": "markdown",
   "metadata": {},
   "source": [
    "The result object is a list that contains the local paths where the downloaded models are. You can exactly specify the saving-path by feeding a string of path to the `save_to` parameter of `mdl.pull`."
   ]
  },
  {
   "cell_type": "code",
   "execution_count": 10,
   "metadata": {},
   "outputs": [
    {
     "data": {
      "text/plain": [
       "['/Users/liuchang/projects/xenonpy/samples/S1/inorganic.crystal.volume/xenonpy.composition/pytorch.nn.neural_network/04cd-290-281-153-75-21@1',\n",
       " '/Users/liuchang/projects/xenonpy/samples/S1/inorganic.crystal.volume/xenonpy.composition/pytorch.nn.neural_network/ajc1-290-261-122-66-25-10@1',\n",
       " '/Users/liuchang/projects/xenonpy/samples/S1/inorganic.crystal.volume/xenonpy.composition/pytorch.nn.neural_network/rzr8-290-285-177-111-58-27@1',\n",
       " '/Users/liuchang/projects/xenonpy/samples/S1/inorganic.crystal.volume/xenonpy.composition/pytorch.nn.neural_network/p0nx-290-285-126-52-22-13@1',\n",
       " '/Users/liuchang/projects/xenonpy/samples/S1/inorganic.crystal.volume/xenonpy.composition/pytorch.nn.neural_network/r4t2-290-243-131-67-23@1']"
      ]
     },
     "execution_count": 10,
     "metadata": {},
     "output_type": "execute_result"
    }
   ],
   "source": [
    "results"
   ]
  },
  {
   "cell_type": "markdown",
   "metadata": {},
   "source": [
    "Let's see some other models. For example, the `crystal graph CNN` models."
   ]
  },
  {
   "cell_type": "code",
   "execution_count": 11,
   "metadata": {},
   "outputs": [],
   "source": [
    "summary = mdl(\n",
    "    modelset_has=\"Stable inorganic compounds\",\n",
    "    descriptor_has='crystal_graph',\n",
    ")"
   ]
  },
  {
   "cell_type": "code",
   "execution_count": 12,
   "metadata": {},
   "outputs": [
    {
     "data": {
      "text/html": [
       "<div>\n",
       "<style scoped>\n",
       "    .dataframe tbody tr th:only-of-type {\n",
       "        vertical-align: middle;\n",
       "    }\n",
       "\n",
       "    .dataframe tbody tr th {\n",
       "        vertical-align: top;\n",
       "    }\n",
       "\n",
       "    .dataframe thead th {\n",
       "        text-align: right;\n",
       "    }\n",
       "</style>\n",
       "<table border=\"1\" class=\"dataframe\">\n",
       "  <thead>\n",
       "    <tr style=\"text-align: right;\">\n",
       "      <th></th>\n",
       "      <th>url</th>\n",
       "      <th>modelSet</th>\n",
       "      <th>property</th>\n",
       "      <th>descriptor</th>\n",
       "      <th>method</th>\n",
       "      <th>lang</th>\n",
       "      <th>regress</th>\n",
       "      <th>transferred</th>\n",
       "      <th>succeed</th>\n",
       "      <th>mae</th>\n",
       "      <th>r</th>\n",
       "    </tr>\n",
       "    <tr>\n",
       "      <th>mId</th>\n",
       "      <th></th>\n",
       "      <th></th>\n",
       "      <th></th>\n",
       "      <th></th>\n",
       "      <th></th>\n",
       "      <th></th>\n",
       "      <th></th>\n",
       "      <th></th>\n",
       "      <th></th>\n",
       "      <th></th>\n",
       "      <th></th>\n",
       "    </tr>\n",
       "  </thead>\n",
       "  <tbody>\n",
       "    <tr>\n",
       "      <th>M69008</th>\n",
       "      <td>http://xenon.ism.ac.jp/mdl/S1/inorganic.crysta...</td>\n",
       "      <td>Stable inorganic compounds in materials projec...</td>\n",
       "      <td>inorganic.crystal.efermi</td>\n",
       "      <td>xenonpy.cgcnn.crystal_graph_cnn</td>\n",
       "      <td>pytorch.nn.neural_network</td>\n",
       "      <td>python</td>\n",
       "      <td>True</td>\n",
       "      <td>False</td>\n",
       "      <td>True</td>\n",
       "      <td>0.680264</td>\n",
       "      <td>0.946909</td>\n",
       "    </tr>\n",
       "    <tr>\n",
       "      <th>M69009</th>\n",
       "      <td>http://xenon.ism.ac.jp/mdl/S1/inorganic.crysta...</td>\n",
       "      <td>Stable inorganic compounds in materials projec...</td>\n",
       "      <td>inorganic.crystal.efermi</td>\n",
       "      <td>xenonpy.cgcnn.crystal_graph_cnn</td>\n",
       "      <td>pytorch.nn.neural_network</td>\n",
       "      <td>python</td>\n",
       "      <td>True</td>\n",
       "      <td>False</td>\n",
       "      <td>True</td>\n",
       "      <td>0.680264</td>\n",
       "      <td>0.946909</td>\n",
       "    </tr>\n",
       "    <tr>\n",
       "      <th>M69010</th>\n",
       "      <td>http://xenon.ism.ac.jp/mdl/S1/inorganic.crysta...</td>\n",
       "      <td>Stable inorganic compounds in materials projec...</td>\n",
       "      <td>inorganic.crystal.efermi</td>\n",
       "      <td>xenonpy.cgcnn.crystal_graph_cnn</td>\n",
       "      <td>pytorch.nn.neural_network</td>\n",
       "      <td>python</td>\n",
       "      <td>True</td>\n",
       "      <td>False</td>\n",
       "      <td>True</td>\n",
       "      <td>0.734605</td>\n",
       "      <td>0.940486</td>\n",
       "    </tr>\n",
       "    <tr>\n",
       "      <th>M69011</th>\n",
       "      <td>http://xenon.ism.ac.jp/mdl/S1/inorganic.crysta...</td>\n",
       "      <td>Stable inorganic compounds in materials projec...</td>\n",
       "      <td>inorganic.crystal.efermi</td>\n",
       "      <td>xenonpy.cgcnn.crystal_graph_cnn</td>\n",
       "      <td>pytorch.nn.neural_network</td>\n",
       "      <td>python</td>\n",
       "      <td>True</td>\n",
       "      <td>False</td>\n",
       "      <td>True</td>\n",
       "      <td>0.735575</td>\n",
       "      <td>0.939878</td>\n",
       "    </tr>\n",
       "    <tr>\n",
       "      <th>M69012</th>\n",
       "      <td>http://xenon.ism.ac.jp/mdl/S1/inorganic.crysta...</td>\n",
       "      <td>Stable inorganic compounds in materials projec...</td>\n",
       "      <td>inorganic.crystal.efermi</td>\n",
       "      <td>xenonpy.cgcnn.crystal_graph_cnn</td>\n",
       "      <td>pytorch.nn.neural_network</td>\n",
       "      <td>python</td>\n",
       "      <td>True</td>\n",
       "      <td>False</td>\n",
       "      <td>True</td>\n",
       "      <td>0.716477</td>\n",
       "      <td>0.944133</td>\n",
       "    </tr>\n",
       "  </tbody>\n",
       "</table>\n",
       "</div>"
      ],
      "text/plain": [
       "                                                      url  \\\n",
       "mId                                                         \n",
       "M69008  http://xenon.ism.ac.jp/mdl/S1/inorganic.crysta...   \n",
       "M69009  http://xenon.ism.ac.jp/mdl/S1/inorganic.crysta...   \n",
       "M69010  http://xenon.ism.ac.jp/mdl/S1/inorganic.crysta...   \n",
       "M69011  http://xenon.ism.ac.jp/mdl/S1/inorganic.crysta...   \n",
       "M69012  http://xenon.ism.ac.jp/mdl/S1/inorganic.crysta...   \n",
       "\n",
       "                                                 modelSet  \\\n",
       "mId                                                         \n",
       "M69008  Stable inorganic compounds in materials projec...   \n",
       "M69009  Stable inorganic compounds in materials projec...   \n",
       "M69010  Stable inorganic compounds in materials projec...   \n",
       "M69011  Stable inorganic compounds in materials projec...   \n",
       "M69012  Stable inorganic compounds in materials projec...   \n",
       "\n",
       "                        property                       descriptor  \\\n",
       "mId                                                                 \n",
       "M69008  inorganic.crystal.efermi  xenonpy.cgcnn.crystal_graph_cnn   \n",
       "M69009  inorganic.crystal.efermi  xenonpy.cgcnn.crystal_graph_cnn   \n",
       "M69010  inorganic.crystal.efermi  xenonpy.cgcnn.crystal_graph_cnn   \n",
       "M69011  inorganic.crystal.efermi  xenonpy.cgcnn.crystal_graph_cnn   \n",
       "M69012  inorganic.crystal.efermi  xenonpy.cgcnn.crystal_graph_cnn   \n",
       "\n",
       "                           method    lang  regress  transferred  succeed  \\\n",
       "mId                                                                        \n",
       "M69008  pytorch.nn.neural_network  python     True        False     True   \n",
       "M69009  pytorch.nn.neural_network  python     True        False     True   \n",
       "M69010  pytorch.nn.neural_network  python     True        False     True   \n",
       "M69011  pytorch.nn.neural_network  python     True        False     True   \n",
       "M69012  pytorch.nn.neural_network  python     True        False     True   \n",
       "\n",
       "             mae         r  \n",
       "mId                         \n",
       "M69008  0.680264  0.946909  \n",
       "M69009  0.680264  0.946909  \n",
       "M69010  0.734605  0.940486  \n",
       "M69011  0.735575  0.939878  \n",
       "M69012  0.716477  0.944133  "
      ]
     },
     "execution_count": 12,
     "metadata": {},
     "output_type": "execute_result"
    }
   ],
   "source": [
    "summary.head(5)"
   ]
  },
  {
   "cell_type": "code",
   "execution_count": 13,
   "metadata": {},
   "outputs": [
    {
     "data": {
      "text/plain": [
       "property\n",
       "inorganic.crystal.band_gap                     0.929118\n",
       "inorganic.crystal.density                      0.995538\n",
       "inorganic.crystal.efermi                       0.965173\n",
       "inorganic.crystal.final_energy_per_atom        0.975265\n",
       "inorganic.crystal.formation_energy_per_atom    0.990847\n",
       "inorganic.crystal.total_magnetization          0.666429\n",
       "inorganic.crystal.volume                       0.601476\n",
       "Name: r, dtype: float64"
      ]
     },
     "execution_count": 13,
     "metadata": {},
     "output_type": "execute_result"
    }
   ],
   "source": [
    "summary.groupby('property')['r'].max()"
   ]
  },
  {
   "cell_type": "markdown",
   "metadata": {},
   "source": [
    "### retrieve model"
   ]
  },
  {
   "cell_type": "markdown",
   "metadata": {},
   "source": [
    "You can use `xenonpy.model.utils.Checker` to reload the downloaded models. For example, we load the first downloaded model into our notebook."
   ]
  },
  {
   "cell_type": "code",
   "execution_count": 14,
   "metadata": {},
   "outputs": [],
   "source": [
    "# --- import necessary libraries\n",
    "\n",
    "from xenonpy.model.utils import Checker"
   ]
  },
  {
   "cell_type": "code",
   "execution_count": 15,
   "metadata": {},
   "outputs": [],
   "source": [
    "checker = Checker(results[0])"
   ]
  },
  {
   "cell_type": "markdown",
   "metadata": {},
   "source": [
    "If successful, use ``checker.trained_model`` to retrieve your model.\n",
    "\n",
    "**<span style=\"color: red; \">Warning: checker.trained_model is deprecated, will be removed in v0.5.0</span>**"
   ]
  },
  {
   "cell_type": "code",
   "execution_count": 16,
   "metadata": {},
   "outputs": [
    {
     "name": "stderr",
     "output_type": "stream",
     "text": [
      "/usr/local/miniconda3/envs/xepy37/lib/python3.7/site-packages/ipykernel_launcher.py:1: DeprecationWarning: Call to deprecated function trained_model (This property is rotten and will be removed in v0.5.0).\n",
      "  \"\"\"Entry point for launching an IPython kernel.\n",
      "/usr/local/miniconda3/envs/xepy37/lib/python3.7/site-packages/torch/serialization.py:454: SourceChangeWarning: source code of class 'torch.nn.modules.container.Sequential' has changed. you can retrieve the original source code by accessing the object's source attribute or set `torch.nn.Module.dump_patches = True` and use the patch tool to revert the changes.\n",
      "  warnings.warn(msg, SourceChangeWarning)\n",
      "/usr/local/miniconda3/envs/xepy37/lib/python3.7/site-packages/torch/serialization.py:454: SourceChangeWarning: source code of class 'torch.nn.modules.linear.Linear' has changed. you can retrieve the original source code by accessing the object's source attribute or set `torch.nn.Module.dump_patches = True` and use the patch tool to revert the changes.\n",
      "  warnings.warn(msg, SourceChangeWarning)\n",
      "/usr/local/miniconda3/envs/xepy37/lib/python3.7/site-packages/torch/serialization.py:454: SourceChangeWarning: source code of class 'torch.nn.modules.batchnorm.BatchNorm1d' has changed. you can retrieve the original source code by accessing the object's source attribute or set `torch.nn.Module.dump_patches = True` and use the patch tool to revert the changes.\n",
      "  warnings.warn(msg, SourceChangeWarning)\n",
      "/usr/local/miniconda3/envs/xepy37/lib/python3.7/site-packages/torch/serialization.py:454: SourceChangeWarning: source code of class 'torch.nn.modules.activation.ReLU' has changed. you can retrieve the original source code by accessing the object's source attribute or set `torch.nn.Module.dump_patches = True` and use the patch tool to revert the changes.\n",
      "  warnings.warn(msg, SourceChangeWarning)\n",
      "/usr/local/miniconda3/envs/xepy37/lib/python3.7/site-packages/torch/serialization.py:454: SourceChangeWarning: source code of class 'torch.nn.modules.dropout.Dropout' has changed. you can retrieve the original source code by accessing the object's source attribute or set `torch.nn.Module.dump_patches = True` and use the patch tool to revert the changes.\n",
      "  warnings.warn(msg, SourceChangeWarning)\n"
     ]
    },
    {
     "data": {
      "text/plain": [
       "Sequential(\n",
       "  (0): Layer1d(\n",
       "    (layer): Linear(in_features=290, out_features=281, bias=True)\n",
       "    (batch_nor): BatchNorm1d(281, eps=1e-05, momentum=0.1, affine=True, track_running_stats=True)\n",
       "    (act_func): ReLU()\n",
       "    (dropout): Dropout(p=0.1)\n",
       "  )\n",
       "  (1): Layer1d(\n",
       "    (layer): Linear(in_features=281, out_features=153, bias=True)\n",
       "    (batch_nor): BatchNorm1d(153, eps=1e-05, momentum=0.1, affine=True, track_running_stats=True)\n",
       "    (act_func): ReLU()\n",
       "    (dropout): Dropout(p=0.1)\n",
       "  )\n",
       "  (2): Layer1d(\n",
       "    (layer): Linear(in_features=153, out_features=75, bias=True)\n",
       "    (batch_nor): BatchNorm1d(75, eps=1e-05, momentum=0.1, affine=True, track_running_stats=True)\n",
       "    (act_func): ReLU()\n",
       "    (dropout): Dropout(p=0.1)\n",
       "  )\n",
       "  (3): Layer1d(\n",
       "    (layer): Linear(in_features=75, out_features=21, bias=True)\n",
       "    (batch_nor): BatchNorm1d(21, eps=1e-05, momentum=0.1, affine=True, track_running_stats=True)\n",
       "    (act_func): ReLU()\n",
       "    (dropout): Dropout(p=0.1)\n",
       "  )\n",
       "  (4): Layer1d(\n",
       "    (layer): Linear(in_features=21, out_features=1, bias=True)\n",
       "  )\n",
       ")"
      ]
     },
     "execution_count": 16,
     "metadata": {},
     "output_type": "execute_result"
    }
   ],
   "source": [
    "checker.trained_model"
   ]
  },
  {
   "cell_type": "markdown",
   "metadata": {},
   "source": [
    "You can list all the information for a download model by printing the ``checker`` object."
   ]
  },
  {
   "cell_type": "code",
   "execution_count": 17,
   "metadata": {},
   "outputs": [
    {
     "data": {
      "text/plain": [
       "<Checker> includes:\n",
       "\"init_model.@1\": /Users/liuchang/projects/xenonpy/samples/S1/inorganic.crystal.volume/xenonpy.composition/pytorch.nn.neural_network/04cd-290-281-153-75-21@1/init_model.@1.pkl.z\n",
       "\"describe.@1\": /Users/liuchang/projects/xenonpy/samples/S1/inorganic.crystal.volume/xenonpy.composition/pytorch.nn.neural_network/04cd-290-281-153-75-21@1/describe.@1.pkl.z\n",
       "\"y_true.@1\": /Users/liuchang/projects/xenonpy/samples/S1/inorganic.crystal.volume/xenonpy.composition/pytorch.nn.neural_network/04cd-290-281-153-75-21@1/y_true.@1.pkl.z\n",
       "\"y_pred.@1\": /Users/liuchang/projects/xenonpy/samples/S1/inorganic.crystal.volume/xenonpy.composition/pytorch.nn.neural_network/04cd-290-281-153-75-21@1/y_pred.@1.pkl.z\n",
       "\"runner.@1\": /Users/liuchang/projects/xenonpy/samples/S1/inorganic.crystal.volume/xenonpy.composition/pytorch.nn.neural_network/04cd-290-281-153-75-21@1/runner.@1.pkl.z\n",
       "\"y_indices.@1\": /Users/liuchang/projects/xenonpy/samples/S1/inorganic.crystal.volume/xenonpy.composition/pytorch.nn.neural_network/04cd-290-281-153-75-21@1/y_indices.@1.pkl.z\n",
       "\"y_true_fit.@1\": /Users/liuchang/projects/xenonpy/samples/S1/inorganic.crystal.volume/xenonpy.composition/pytorch.nn.neural_network/04cd-290-281-153-75-21@1/y_true_fit.@1.pkl.z\n",
       "\"y_scale.@1\": /Users/liuchang/projects/xenonpy/samples/S1/inorganic.crystal.volume/xenonpy.composition/pytorch.nn.neural_network/04cd-290-281-153-75-21@1/y_scale.@1.pkl.z\n",
       "\"scores.@1\": /Users/liuchang/projects/xenonpy/samples/S1/inorganic.crystal.volume/xenonpy.composition/pytorch.nn.neural_network/04cd-290-281-153-75-21@1/scores.@1.pkl.z\n",
       "\"trained_model.@1\": /Users/liuchang/projects/xenonpy/samples/S1/inorganic.crystal.volume/xenonpy.composition/pytorch.nn.neural_network/04cd-290-281-153-75-21@1/trained_model.@1.pkl.z\n",
       "\"x_indices.@1\": /Users/liuchang/projects/xenonpy/samples/S1/inorganic.crystal.volume/xenonpy.composition/pytorch.nn.neural_network/04cd-290-281-153-75-21@1/x_indices.@1.pkl.z\n",
       "\"x_scale.@1\": /Users/liuchang/projects/xenonpy/samples/S1/inorganic.crystal.volume/xenonpy.composition/pytorch.nn.neural_network/04cd-290-281-153-75-21@1/x_scale.@1.pkl.z\n",
       "\"y_pred_fit.@1\": /Users/liuchang/projects/xenonpy/samples/S1/inorganic.crystal.volume/xenonpy.composition/pytorch.nn.neural_network/04cd-290-281-153-75-21@1/y_pred_fit.@1.pkl.z"
      ]
     },
     "execution_count": 17,
     "metadata": {},
     "output_type": "execute_result"
    }
   ],
   "source": [
    "checker"
   ]
  },
  {
   "cell_type": "markdown",
   "metadata": {},
   "source": [
    "You can use ``checker[<file name withour extension>]`` to load any data under the model dir. An example is below:"
   ]
  },
  {
   "cell_type": "code",
   "execution_count": 18,
   "metadata": {},
   "outputs": [
    {
     "data": {
      "text/plain": [
       "{'mae': 22.565939,\n",
       " 'rmse': 46.829636,\n",
       " 'r2': 0.991713183810694,\n",
       " 'pearsonr': 0.9960926,\n",
       " 'spearmanr': 0.9976251253835112,\n",
       " 'p_value': 0.0}"
      ]
     },
     "execution_count": 18,
     "metadata": {},
     "output_type": "execute_result"
    }
   ],
   "source": [
    "checker['scores.@1']"
   ]
  },
  {
   "cell_type": "markdown",
   "metadata": {},
   "source": [
    "### download R model\n",
    "\n",
    "There are also a lot of R models in **XenonPy.MDL**, download them is exactly the same works like we did above. Just use ``lang_has='r'`` when querying."
   ]
  },
  {
   "cell_type": "code",
   "execution_count": 19,
   "metadata": {},
   "outputs": [],
   "source": [
    "from xenonpy.datatools import MDL\n",
    "\n",
    "mdl = MDL()\n",
    "\n",
    "summary = mdl(\n",
    "    modelset_has=\"QM9\",  # sub string in the name of modelset\n",
    "    property_has=\"hartree\", # substring for property name\n",
    "    lang_has='r',\n",
    ")"
   ]
  },
  {
   "cell_type": "code",
   "execution_count": 20,
   "metadata": {},
   "outputs": [
    {
     "data": {
      "text/html": [
       "<div>\n",
       "<style scoped>\n",
       "    .dataframe tbody tr th:only-of-type {\n",
       "        vertical-align: middle;\n",
       "    }\n",
       "\n",
       "    .dataframe tbody tr th {\n",
       "        vertical-align: top;\n",
       "    }\n",
       "\n",
       "    .dataframe thead th {\n",
       "        text-align: right;\n",
       "    }\n",
       "</style>\n",
       "<table border=\"1\" class=\"dataframe\">\n",
       "  <thead>\n",
       "    <tr style=\"text-align: right;\">\n",
       "      <th></th>\n",
       "      <th>url</th>\n",
       "      <th>modelSet</th>\n",
       "      <th>property</th>\n",
       "      <th>descriptor</th>\n",
       "      <th>method</th>\n",
       "      <th>lang</th>\n",
       "      <th>regress</th>\n",
       "      <th>transferred</th>\n",
       "      <th>succeed</th>\n",
       "      <th>mae</th>\n",
       "      <th>r</th>\n",
       "    </tr>\n",
       "    <tr>\n",
       "      <th>mId</th>\n",
       "      <th></th>\n",
       "      <th></th>\n",
       "      <th></th>\n",
       "      <th></th>\n",
       "      <th></th>\n",
       "      <th></th>\n",
       "      <th></th>\n",
       "      <th></th>\n",
       "      <th></th>\n",
       "      <th></th>\n",
       "      <th></th>\n",
       "    </tr>\n",
       "  </thead>\n",
       "  <tbody>\n",
       "    <tr>\n",
       "      <th>M18001</th>\n",
       "      <td>http://xenon.ism.ac.jp/mdl/S3/organic.nonpolym...</td>\n",
       "      <td>QM9 Dataset from Quantum-Machine project</td>\n",
       "      <td>organic.nonpolymer.g_hartree</td>\n",
       "      <td>rcdk.fp.fingerprint</td>\n",
       "      <td>mxnet.nn.neural_network</td>\n",
       "      <td>r</td>\n",
       "      <td>True</td>\n",
       "      <td>False</td>\n",
       "      <td>True</td>\n",
       "      <td>15.8705</td>\n",
       "      <td>0.8282</td>\n",
       "    </tr>\n",
       "    <tr>\n",
       "      <th>M18002</th>\n",
       "      <td>http://xenon.ism.ac.jp/mdl/S3/organic.nonpolym...</td>\n",
       "      <td>QM9 Dataset from Quantum-Machine project</td>\n",
       "      <td>organic.nonpolymer.g_hartree</td>\n",
       "      <td>rcdk.fp.fingerprint</td>\n",
       "      <td>mxnet.nn.neural_network</td>\n",
       "      <td>r</td>\n",
       "      <td>True</td>\n",
       "      <td>False</td>\n",
       "      <td>True</td>\n",
       "      <td>19.7939</td>\n",
       "      <td>0.7890</td>\n",
       "    </tr>\n",
       "    <tr>\n",
       "      <th>M18003</th>\n",
       "      <td>http://xenon.ism.ac.jp/mdl/S3/organic.nonpolym...</td>\n",
       "      <td>QM9 Dataset from Quantum-Machine project</td>\n",
       "      <td>organic.nonpolymer.g_hartree</td>\n",
       "      <td>rcdk.fp.fingerprint</td>\n",
       "      <td>mxnet.nn.neural_network</td>\n",
       "      <td>r</td>\n",
       "      <td>True</td>\n",
       "      <td>False</td>\n",
       "      <td>True</td>\n",
       "      <td>14.9261</td>\n",
       "      <td>0.8510</td>\n",
       "    </tr>\n",
       "  </tbody>\n",
       "</table>\n",
       "</div>"
      ],
      "text/plain": [
       "                                                      url  \\\n",
       "mId                                                         \n",
       "M18001  http://xenon.ism.ac.jp/mdl/S3/organic.nonpolym...   \n",
       "M18002  http://xenon.ism.ac.jp/mdl/S3/organic.nonpolym...   \n",
       "M18003  http://xenon.ism.ac.jp/mdl/S3/organic.nonpolym...   \n",
       "\n",
       "                                        modelSet  \\\n",
       "mId                                                \n",
       "M18001  QM9 Dataset from Quantum-Machine project   \n",
       "M18002  QM9 Dataset from Quantum-Machine project   \n",
       "M18003  QM9 Dataset from Quantum-Machine project   \n",
       "\n",
       "                            property           descriptor  \\\n",
       "mId                                                         \n",
       "M18001  organic.nonpolymer.g_hartree  rcdk.fp.fingerprint   \n",
       "M18002  organic.nonpolymer.g_hartree  rcdk.fp.fingerprint   \n",
       "M18003  organic.nonpolymer.g_hartree  rcdk.fp.fingerprint   \n",
       "\n",
       "                         method lang  regress  transferred  succeed      mae  \\\n",
       "mId                                                                            \n",
       "M18001  mxnet.nn.neural_network    r     True        False     True  15.8705   \n",
       "M18002  mxnet.nn.neural_network    r     True        False     True  19.7939   \n",
       "M18003  mxnet.nn.neural_network    r     True        False     True  14.9261   \n",
       "\n",
       "             r  \n",
       "mId             \n",
       "M18001  0.8282  \n",
       "M18002  0.7890  \n",
       "M18003  0.8510  "
      ]
     },
     "execution_count": 20,
     "metadata": {},
     "output_type": "execute_result"
    }
   ],
   "source": [
    "summary.head(3)"
   ]
  },
  {
   "cell_type": "code",
   "execution_count": 21,
   "metadata": {},
   "outputs": [
    {
     "name": "stderr",
     "output_type": "stream",
     "text": [
      "100%|██████████| 3/3 [00:00<00:00, 20.92it/s]\n"
     ]
    }
   ],
   "source": [
    "urls = summary['url'].iloc[:3]\n",
    "results = mdl.pull(urls)"
   ]
  },
  {
   "cell_type": "code",
   "execution_count": 22,
   "metadata": {},
   "outputs": [
    {
     "data": {
      "text/plain": [
       "['/Users/liuchang/projects/xenonpy/samples/S3/organic.nonpolymer.g_hartree/rcdk.fp.fingerprint/mxnet.nn.neural_network/shotgun_G_Hartree_randFP1021_corr-0.8282_mxnet_400-81-10-1_2018-04-20',\n",
       " '/Users/liuchang/projects/xenonpy/samples/S3/organic.nonpolymer.g_hartree/rcdk.fp.fingerprint/mxnet.nn.neural_network/shotgun_G_Hartree_randFP1026_corr-0.789_mxnet_266-127-94-10-1_2018-04-20',\n",
       " '/Users/liuchang/projects/xenonpy/samples/S3/organic.nonpolymer.g_hartree/rcdk.fp.fingerprint/mxnet.nn.neural_network/shotgun_G_Hartree_randFP1033_corr-0.851_mxnet_150-65-21-1_2018-04-20']"
      ]
     },
     "execution_count": 22,
     "metadata": {},
     "output_type": "execute_result"
    }
   ],
   "source": [
    "results"
   ]
  },
  {
   "cell_type": "markdown",
   "metadata": {},
   "source": [
    "**R tutorials will be released later.**"
   ]
  }
 ],
 "metadata": {
  "kernelspec": {
   "display_name": "Python 3",
   "language": "python",
   "name": "python3"
  },
  "language_info": {
   "codemirror_mode": {
    "name": "ipython",
    "version": 3
   },
   "file_extension": ".py",
   "mimetype": "text/x-python",
   "name": "python",
   "nbconvert_exporter": "python",
   "pygments_lexer": "ipython3",
   "version": "3.7.3"
  },
  "pycharm": {
   "stem_cell": {
    "cell_type": "raw",
    "metadata": {
     "collapsed": false
    },
    "source": []
   }
  }
 },
 "nbformat": 4,
 "nbformat_minor": 4
}
