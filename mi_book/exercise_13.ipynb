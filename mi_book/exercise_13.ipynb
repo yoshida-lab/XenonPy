{
 "cells": [
  {
   "cell_type": "markdown",
   "metadata": {},
   "source": [
    "### 演習13）分子動力学シミュレーションのサンプルデータにある300種類のポリマーの構造物性相関データを用いて，密度，定圧熱容量，熱伝導率，線膨張係数をの予測モデルを構築せよ．以下の説明やサンプルコードを参考にモデルの作成方法を自ら工夫し，その結果を考察せよ．"
   ]
  },
  {
   "cell_type": "markdown",
   "metadata": {},
   "source": [
    "ライブラリの導入"
   ]
  },
  {
   "cell_type": "code",
   "execution_count": 1,
   "metadata": {},
   "outputs": [],
   "source": [
    "import os\n",
    "import numpy as np\n",
    "import pandas as pd\n",
    "import pickle as pk\n",
    "\n",
    "import matplotlib.pyplot as plt\n",
    "\n",
    "from xenonpy.descriptor import Fingerprints\n",
    "from xenonpy.datatools import Splitter, Scaler\n",
    "\n",
    "from sklearn.ensemble import RandomForestRegressor as RFR\n",
    "from sklearn.model_selection import GridSearchCV\n",
    "from sklearn.metrics import mean_squared_error, r2_score\n"
   ]
  },
  {
   "cell_type": "markdown",
   "metadata": {},
   "source": [
    "データの導入"
   ]
  },
  {
   "cell_type": "code",
   "execution_count": 2,
   "metadata": {},
   "outputs": [],
   "source": [
    "dir_file = 'data/Book_data_MD.csv'\n",
    "data = pd.read_csv(dir_file)\n"
   ]
  },
  {
   "cell_type": "markdown",
   "metadata": {},
   "source": [
    "ディスクリプタ/フィンガープリントを用意する\n",
    "\n",
    "モデル入力のために、カウント型ECFPとMordredを組み合わせます。これらを別々に計算するのではなく、XenonPyモジュールを用いてカスタマイズされた記述子計算機を作成する。これにより、同じ記述子セットの再計算が容易になる。"
   ]
  },
  {
   "cell_type": "code",
   "execution_count": 3,
   "metadata": {},
   "outputs": [],
   "source": [
    "# prepare customized descriptor function\n",
    "\n",
    "from xenonpy.descriptor.base import BaseDescriptor\n",
    "from xenonpy.descriptor import ECFP\n",
    "from xenonpy.contrib.extend_descriptors.descriptor import Mordred2DDescriptor\n",
    "\n",
    "class CustomDesc(BaseDescriptor):\n",
    "    def __init__(self, n_jobs=-1, on_errors='nan', input_type='smiles'):\n",
    "        super().__init__()\n",
    "        self.n_jobs = n_jobs\n",
    "\n",
    "        self.rdkit_fp = ECFP(n_jobs, on_errors=on_errors, input_type=input_type, return_type='df', radius=3, n_bits=2048, counting=True)\n",
    "        self.rdkit_fp = Mordred2DDescriptor(on_errors=on_errors, return_type='df')\n",
    "\n",
    "fp_fcn = CustomDesc()\n"
   ]
  },
  {
   "cell_type": "code",
   "execution_count": 4,
   "metadata": {},
   "outputs": [
    {
     "name": "stderr",
     "output_type": "stream",
     "text": [
      "  4%|█▌                                        | 11/300 [00:02<00:51,  5.58it/s]"
     ]
    },
    {
     "name": "stdout",
     "output_type": "stream",
     "text": [
      "/Users/stephenwu/opt/miniconda3/envs/iMacHome_xepy38_working/lib/python3.8/site-packages/numpy/core/fromnumeric.py:86: RuntimeWarning: overflow encountered in reduce\n",
      "  return ufunc.reduce(obj, axis, dtype, out, **passkwargs)\n"
     ]
    },
    {
     "name": "stderr",
     "output_type": "stream",
     "text": [
      " 13%|█████▍                                    | 39/300 [00:02<00:10, 24.47it/s]"
     ]
    },
    {
     "name": "stdout",
     "output_type": "stream",
     "text": [
      "/Users/stephenwu/opt/miniconda3/envs/iMacHome_xepy38_working/lib/python3.8/site-packages/numpy/core/fromnumeric.py:86: RuntimeWarning: overflow encountered in reduce\n",
      "  return ufunc.reduce(obj, axis, dtype, out, **passkwargs)\n",
      "/Users/stephenwu/opt/miniconda3/envs/iMacHome_xepy38_working/lib/python3.8/site-packages/numpy/core/fromnumeric.py:86: RuntimeWarning: overflow encountered in reduce\n",
      "  return ufunc.reduce(obj, axis, dtype, out, **passkwargs)\n"
     ]
    },
    {
     "name": "stderr",
     "output_type": "stream",
     "text": [
      " 37%|███████████████▏                         | 111/300 [00:04<00:05, 32.90it/s]"
     ]
    },
    {
     "name": "stdout",
     "output_type": "stream",
     "text": [
      "/Users/stephenwu/opt/miniconda3/envs/iMacHome_xepy38_working/lib/python3.8/site-packages/numpy/core/fromnumeric.py:86: RuntimeWarning: overflow encountered in reduce\n",
      "  return ufunc.reduce(obj, axis, dtype, out, **passkwargs)\n"
     ]
    },
    {
     "name": "stderr",
     "output_type": "stream",
     "text": [
      " 47%|███████████████████▍                     | 142/300 [00:05<00:03, 40.08it/s]"
     ]
    },
    {
     "name": "stdout",
     "output_type": "stream",
     "text": [
      "/Users/stephenwu/opt/miniconda3/envs/iMacHome_xepy38_working/lib/python3.8/site-packages/numpy/core/fromnumeric.py:86: RuntimeWarning: overflow encountered in reduce\n",
      "  return ufunc.reduce(obj, axis, dtype, out, **passkwargs)\n"
     ]
    },
    {
     "name": "stderr",
     "output_type": "stream",
     "text": [
      " 75%|██████████████████████████████▌          | 224/300 [00:07<00:01, 38.89it/s]"
     ]
    },
    {
     "name": "stdout",
     "output_type": "stream",
     "text": [
      "/Users/stephenwu/opt/miniconda3/envs/iMacHome_xepy38_working/lib/python3.8/site-packages/numpy/core/fromnumeric.py:86: RuntimeWarning: overflow encountered in reduce\n",
      "  return ufunc.reduce(obj, axis, dtype, out, **passkwargs)\n"
     ]
    },
    {
     "name": "stderr",
     "output_type": "stream",
     "text": [
      "100%|█████████████████████████████████████████| 300/300 [00:08<00:00, 34.28it/s]\n"
     ]
    }
   ],
   "source": [
    "# calculate descriptors\n",
    "fp = fp_fcn.transform(data['SMILES'])\n"
   ]
  },
  {
   "cell_type": "code",
   "execution_count": 5,
   "metadata": {},
   "outputs": [
    {
     "name": "stdout",
     "output_type": "stream",
     "text": [
      "ETA_alpha         300\n",
      "AETA_alpha        300\n",
      "ETA_shape_p       300\n",
      "ETA_shape_y       300\n",
      "ETA_shape_x       300\n",
      "ETA_eta           300\n",
      "AETA_eta          300\n",
      "ETA_eta_L         300\n",
      "AETA_eta_L        300\n",
      "ETA_eta_F         300\n",
      "AETA_eta_F        300\n",
      "ETA_eta_FL        300\n",
      "AETA_eta_FL       300\n",
      "ETA_dAlpha_A      300\n",
      "ETA_dAlpha_B      300\n",
      "ETA_epsilon_1     300\n",
      "ETA_epsilon_2     300\n",
      "ETA_epsilon_4     300\n",
      "ETA_epsilon_5     300\n",
      "ETA_dEpsilon_A    300\n",
      "ETA_dEpsilon_B    300\n",
      "ETA_dEpsilon_C    300\n",
      "ETA_dEpsilon_D    300\n",
      "ETA_psi_1         300\n",
      "ETA_dPsi_A        300\n",
      "ETA_dPsi_B        300\n",
      "VMcGowan          300\n",
      "apol              300\n",
      "bpol              300\n",
      "dtype: int64\n",
      "Final num. of descriptors = 1929\n"
     ]
    }
   ],
   "source": [
    "# check NA values in the descriptors\n",
    "idx_na = fp.isna().sum() > 0\n",
    "print(fp.isna().sum()[idx_na])\n",
    "\n",
    "# remove all descriptors with NA values and all-zero values\n",
    "idx_0 = (fp == 0).all()\n",
    "\n",
    "# remove all descriptors with error message from Mordred (i.e., not INT or FLOAT)\n",
    "idx_error = [key for key, val in fp.dtypes.iteritems() if not (val == int or val == float)]\n",
    "\n",
    "fp_filtered = fp.loc[:, ~(idx_na | idx_0)].drop(idx_error, axis=1)\n",
    "print(f'Final num. of descriptors = {fp_filtered.shape[1]}')\n"
   ]
  },
  {
   "cell_type": "markdown",
   "metadata": {},
   "source": [
    "予測結果のプロット用関数を用意する。"
   ]
  },
  {
   "cell_type": "code",
   "execution_count": 6,
   "metadata": {},
   "outputs": [],
   "source": [
    "# x-axis: observation data, y-axis: prediction\n",
    "def plot_prediction(x_tr, y_tr, x_te, y_te, dir_file):\n",
    "    xy_min = min(np.concatenate([x_tr, x_te, y_tr, y_te]))\n",
    "    xy_max = max(np.concatenate([x_tr, x_te, y_tr, y_te]))\n",
    "    xy_del = xy_max - xy_min\n",
    "    \n",
    "    _ = plt.figure(figsize=(5,5))\n",
    "    _ = plt.scatter(x_tr, y_tr, s=20, c='k', marker='x', alpha=0.5, label='Training')\n",
    "    _ = plt.scatter(x_te, y_te, s=20, c='k', alpha=0.6, label='Test')\n",
    "    _ = plt.rc('xtick',labelsize=14)\n",
    "    _ = plt.rc('ytick',labelsize=14)\n",
    "    _ = plt.xlabel('Prediction', fontsize=14)\n",
    "    _ = plt.ylabel('Observation', fontsize=14)\n",
    "    _ = plt.legend(fontsize=14)\n",
    "    _ = plt.plot([xy_min,xy_max],[xy_min,xy_max],ls=\"--\",c='k')\n",
    "    _ = plt.savefig(dir_file, dpi = 500, bbox_inches = \"tight\")\n",
    "    _ = plt.close()\n",
    "    "
   ]
  },
  {
   "cell_type": "markdown",
   "metadata": {},
   "source": [
    "データの各物性に対してランダムフォレストモデルを学習させる。\n",
    "\n",
    "[実行に数分かかる]"
   ]
  },
  {
   "cell_type": "code",
   "execution_count": 7,
   "metadata": {},
   "outputs": [
    {
     "name": "stdout",
     "output_type": "stream",
     "text": [
      "CPU times: user 1min 8s, sys: 357 ms, total: 1min 8s\n",
      "Wall time: 1min 8s\n"
     ]
    }
   ],
   "source": [
    "%%time\n",
    "\n",
    "# grids for hyperparameters\n",
    "n_tree = [50, 100, 200]\n",
    "max_feat_r = [0.1, 0.3, 0.5, 0.7]\n",
    "\n",
    "# directories\n",
    "dir_plot = 'output/演習13/Results'\n",
    "dir_mdl = 'output/演習13/Models'\n",
    "os.makedirs(dir_plot, exist_ok=True)\n",
    "os.makedirs(dir_mdl, exist_ok=True)\n",
    "\n",
    "# setup\n",
    "x_all = fp_filtered\n",
    "summary = pd.DataFrame(index=data.drop('SMILES', axis=1).columns, columns=['RMSE_train', 'R2_train', 'RMSE_test', 'R2_test'])\n",
    "\n",
    "# fixing random seed for reproducibility\n",
    "np.random.seed (202202)\n",
    "\n",
    "for prop, y_all in data.drop('SMILES', axis=1).iteritems():\n",
    "    # split data into training (all) and test\n",
    "    sp_test = Splitter(len(y_all), test_size=0.2)\n",
    "    x_train, x_test, y_train, y_test = sp_test.split(x_all, y_all.to_frame())\n",
    "\n",
    "    # scale test data\n",
    "    y_scaler = Scaler().standard()\n",
    "    y_train_s = y_scaler.fit_transform(y_train)\n",
    "    y_test_s = y_scaler.transform(y_test)\n",
    "    \n",
    "    # train model with hyperparameter tuning\n",
    "    max_feat = np.round([x*x_train.shape[1] for x in max_feat_r]).astype(int)\n",
    "    parameters = {'n_estimators': n_tree, 'max_features': max_feat}\n",
    "    mdl = GridSearchCV(RFR(), parameters, scoring='neg_mean_squared_error')\n",
    "    mdl.fit(x_train, y_train_s.values.flatten()) # requires 1D vector for model training\n",
    "    \n",
    "    # save trained model\n",
    "    with open(f'{dir_mdl}/{prop}.pkl', 'wb') as f:\n",
    "        pk.dump({'model': mdl, 'scaler': y_scaler, 'splitter': sp_test, 'descriptor': x_train.columns.values}, f)\n",
    "    \n",
    "    # make predictions for training and test data\n",
    "    prd_train = y_scaler.inverse_transform(mdl.predict(x_train).reshape(-1,1)).flatten()\n",
    "    prd_test = y_scaler.inverse_transform(mdl.predict(x_test).reshape(-1,1)).flatten()\n",
    "\n",
    "    # get performance statistics\n",
    "    summary.loc[prop, 'RMSE_train'] = np.sqrt(mean_squared_error(prd_train, y_train.values.flatten()))\n",
    "    summary.loc[prop, 'R2_train'] = r2_score(prd_train, y_train.values.flatten())\n",
    "    summary.loc[prop, 'RMSE_test'] = np.sqrt(mean_squared_error(prd_test, y_test.values.flatten()))\n",
    "    summary.loc[prop, 'R2_test'] = r2_score(prd_test, y_test.values.flatten())\n",
    "\n",
    "    if prop == 'thermal_conductivity':\n",
    "        break\n",
    "        \n",
    "    # save plot\n",
    "    file_name = f'{dir_plot}/{prop}.png'\n",
    "    plot_prediction(prd_train, y_train.values.flatten(), prd_test, y_test.values.flatten(), file_name)\n",
    "    \n",
    "# save statistics\n",
    "summary.to_csv(f'{dir_plot}/prediction_summary.csv')\n"
   ]
  },
  {
   "cell_type": "code",
   "execution_count": 8,
   "metadata": {},
   "outputs": [],
   "source": [
    "file_name = f'{dir_plot}/{prop}.png'\n",
    "plot_prediction(prd_train, y_train.values.flatten(), prd_test, y_test.values.flatten(), file_name)\n"
   ]
  },
  {
   "cell_type": "code",
   "execution_count": null,
   "metadata": {},
   "outputs": [],
   "source": []
  }
 ],
 "metadata": {
  "kernelspec": {
   "display_name": "iMacHome_xepy38_working",
   "language": "python",
   "name": "imachome_xepy38_working"
  },
  "language_info": {
   "codemirror_mode": {
    "name": "ipython",
    "version": 3
   },
   "file_extension": ".py",
   "mimetype": "text/x-python",
   "name": "python",
   "nbconvert_exporter": "python",
   "pygments_lexer": "ipython3",
   "version": "3.8.12"
  }
 },
 "nbformat": 4,
 "nbformat_minor": 4
}
