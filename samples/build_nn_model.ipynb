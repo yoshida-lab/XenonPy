{
 "cells": [
  {
   "cell_type": "code",
   "execution_count": 1,
   "metadata": {},
   "outputs": [],
   "source": [
    "%run tools.ipynb"
   ]
  },
  {
   "cell_type": "markdown",
   "metadata": {},
   "source": [
    "### play with NN model"
   ]
  },
  {
   "cell_type": "code",
   "execution_count": 2,
   "metadata": {},
   "outputs": [],
   "source": [
    "# --- import necessary libraries\n",
    "\n",
    "from xenonpy.model import Layer1d\n",
    "from torch.nn import Sequential\n",
    "import torch\n",
    "import torch.nn.functional as F\n",
    "import matplotlib.pyplot as plt\n",
    "import plotly.express as px"
   ]
  },
  {
   "cell_type": "code",
   "execution_count": 3,
   "metadata": {},
   "outputs": [],
   "source": [
    "from xenonpy.model.training import Trainer, SGD, MSELoss\n",
    "from xenonpy.model.utils import regression_metrics\n",
    "from xenonpy.model.training.extension import TensorConverter, Validator"
   ]
  },
  {
   "cell_type": "code",
   "execution_count": 4,
   "metadata": {},
   "outputs": [],
   "source": [
    "x = np.linspace(-1, 1, 100)\n",
    "y = np.power(x, 2) + 0.2 * np.random.rand(x.size)\n",
    "\n",
    "x_val = np.linspace(-1, 1, 100)\n",
    "y_val = np.power(x_val, 2) + 0.2 * np.random.rand(x_val.size)"
   ]
  },
  {
   "cell_type": "code",
   "execution_count": 5,
   "metadata": {},
   "outputs": [],
   "source": [
    "class Net(torch.nn.Module):\n",
    "    def __init__(self, n_feature, n_hidden, n_output):\n",
    "        super(Net, self).__init__()\n",
    "        self.hidden = torch.nn.Linear(n_feature, n_hidden)   # hidden layer\n",
    "        self.predict = torch.nn.Linear(n_hidden, n_output)   # output layer\n",
    "\n",
    "    def forward(self, x):\n",
    "        x = F.relu(self.hidden(x))      # activation function for hidden layer\n",
    "        x = self.predict(x)             # linear output\n",
    "        return x"
   ]
  },
  {
   "cell_type": "code",
   "execution_count": 6,
   "metadata": {},
   "outputs": [
    {
     "data": {
      "text/plain": [
       "<torch._C.Generator at 0x1a27bce3b0>"
      ]
     },
     "execution_count": 6,
     "metadata": {},
     "output_type": "execute_result"
    },
    {
     "data": {
      "text/plain": [
       "Trainer(cuda=None, epochs=100, loss_func=MSELoss(), lr_scheduler=None,\n",
       "        model=Net(\n",
       "  (hidden): Linear(in_features=1, out_features=10, bias=True)\n",
       "  (predict): Linear(in_features=10, out_features=1, bias=True)\n",
       "),\n",
       "        model_modifier=None,\n",
       "        optimizer=SGD (\n",
       "Parameter Group 0\n",
       "    dampening: 0\n",
       "    lr: 0.01\n",
       "    momentum: 0\n",
       "    nesterov: False\n",
       "    weight_decay: 0\n",
       "),\n",
       "        verbose=True)"
      ]
     },
     "execution_count": 6,
     "metadata": {},
     "output_type": "execute_result"
    }
   ],
   "source": [
    "torch.manual_seed(1)\n",
    "\n",
    "trainer = Trainer(\n",
    "    model=Net(n_feature=1, n_hidden=10, n_output=1),\n",
    "    optimizer=SGD(),\n",
    "    loss_func=MSELoss(),\n",
    "    epochs=100\n",
    ")\n",
    "\n",
    "trainer.extend(\n",
    "    TensorConverter(),\n",
    "    Validator(\n",
    "        x_val=x_val,\n",
    "        y_val=y_val,\n",
    "        metrics_func=regression_metrics),\n",
    ")\n",
    "trainer"
   ]
  },
  {
   "cell_type": "code",
   "execution_count": 50,
   "metadata": {},
   "outputs": [
    {
     "name": "stderr",
     "output_type": "stream",
     "text": [
      "Training: 100%|██████████| 10/10 [00:00<00:00, 295.34it/s]\n"
     ]
    }
   ],
   "source": [
    "trainer.fit(x, y, epochs=10, save_training_state=True)"
   ]
  },
  {
   "cell_type": "code",
   "execution_count": 51,
   "metadata": {},
   "outputs": [
    {
     "data": {
      "application/vnd.plotly.v1+json": {
       "config": {
        "plotlyServerURL": "https://plot.ly"
       },
       "data": [
        {
         "hoverlabel": {
          "namelength": 0
         },
         "hovertemplate": "i_epoch=%{x}<br>train_loss=%{y}",
         "legendgroup": "",
         "line": {
          "color": "#636efa",
          "dash": "solid"
         },
         "mode": "lines",
         "name": "",
         "showlegend": false,
         "type": "scatter",
         "x": [
          1,
          2,
          3,
          4,
          5,
          6,
          7,
          8,
          9,
          10
         ],
         "xaxis": "x",
         "y": [
          0.004931504726409912,
          0.004557976126670837,
          0.004220786392688751,
          0.00391603022813797,
          0.0036403965950012208,
          0.0033908915519714356,
          0.003164851367473602,
          0.0029599112272262573,
          0.0027740266919136047,
          0.0026053392887115476
         ],
         "yaxis": "y"
        }
       ],
       "layout": {
        "autosize": true,
        "legend": {
         "tracegroupgap": 0
        },
        "margin": {
         "t": 60
        },
        "template": {
         "data": {
          "bar": [
           {
            "error_x": {
             "color": "#2a3f5f"
            },
            "error_y": {
             "color": "#2a3f5f"
            },
            "marker": {
             "line": {
              "color": "#E5ECF6",
              "width": 0.5
             }
            },
            "type": "bar"
           }
          ],
          "barpolar": [
           {
            "marker": {
             "line": {
              "color": "#E5ECF6",
              "width": 0.5
             }
            },
            "type": "barpolar"
           }
          ],
          "carpet": [
           {
            "aaxis": {
             "endlinecolor": "#2a3f5f",
             "gridcolor": "white",
             "linecolor": "white",
             "minorgridcolor": "white",
             "startlinecolor": "#2a3f5f"
            },
            "baxis": {
             "endlinecolor": "#2a3f5f",
             "gridcolor": "white",
             "linecolor": "white",
             "minorgridcolor": "white",
             "startlinecolor": "#2a3f5f"
            },
            "type": "carpet"
           }
          ],
          "choropleth": [
           {
            "colorbar": {
             "outlinewidth": 0,
             "ticks": ""
            },
            "type": "choropleth"
           }
          ],
          "contour": [
           {
            "colorbar": {
             "outlinewidth": 0,
             "ticks": ""
            },
            "colorscale": [
             [
              0,
              "#0d0887"
             ],
             [
              0.1111111111111111,
              "#46039f"
             ],
             [
              0.2222222222222222,
              "#7201a8"
             ],
             [
              0.3333333333333333,
              "#9c179e"
             ],
             [
              0.4444444444444444,
              "#bd3786"
             ],
             [
              0.5555555555555556,
              "#d8576b"
             ],
             [
              0.6666666666666666,
              "#ed7953"
             ],
             [
              0.7777777777777778,
              "#fb9f3a"
             ],
             [
              0.8888888888888888,
              "#fdca26"
             ],
             [
              1,
              "#f0f921"
             ]
            ],
            "type": "contour"
           }
          ],
          "contourcarpet": [
           {
            "colorbar": {
             "outlinewidth": 0,
             "ticks": ""
            },
            "type": "contourcarpet"
           }
          ],
          "heatmap": [
           {
            "colorbar": {
             "outlinewidth": 0,
             "ticks": ""
            },
            "colorscale": [
             [
              0,
              "#0d0887"
             ],
             [
              0.1111111111111111,
              "#46039f"
             ],
             [
              0.2222222222222222,
              "#7201a8"
             ],
             [
              0.3333333333333333,
              "#9c179e"
             ],
             [
              0.4444444444444444,
              "#bd3786"
             ],
             [
              0.5555555555555556,
              "#d8576b"
             ],
             [
              0.6666666666666666,
              "#ed7953"
             ],
             [
              0.7777777777777778,
              "#fb9f3a"
             ],
             [
              0.8888888888888888,
              "#fdca26"
             ],
             [
              1,
              "#f0f921"
             ]
            ],
            "type": "heatmap"
           }
          ],
          "heatmapgl": [
           {
            "colorbar": {
             "outlinewidth": 0,
             "ticks": ""
            },
            "colorscale": [
             [
              0,
              "#0d0887"
             ],
             [
              0.1111111111111111,
              "#46039f"
             ],
             [
              0.2222222222222222,
              "#7201a8"
             ],
             [
              0.3333333333333333,
              "#9c179e"
             ],
             [
              0.4444444444444444,
              "#bd3786"
             ],
             [
              0.5555555555555556,
              "#d8576b"
             ],
             [
              0.6666666666666666,
              "#ed7953"
             ],
             [
              0.7777777777777778,
              "#fb9f3a"
             ],
             [
              0.8888888888888888,
              "#fdca26"
             ],
             [
              1,
              "#f0f921"
             ]
            ],
            "type": "heatmapgl"
           }
          ],
          "histogram": [
           {
            "marker": {
             "colorbar": {
              "outlinewidth": 0,
              "ticks": ""
             }
            },
            "type": "histogram"
           }
          ],
          "histogram2d": [
           {
            "colorbar": {
             "outlinewidth": 0,
             "ticks": ""
            },
            "colorscale": [
             [
              0,
              "#0d0887"
             ],
             [
              0.1111111111111111,
              "#46039f"
             ],
             [
              0.2222222222222222,
              "#7201a8"
             ],
             [
              0.3333333333333333,
              "#9c179e"
             ],
             [
              0.4444444444444444,
              "#bd3786"
             ],
             [
              0.5555555555555556,
              "#d8576b"
             ],
             [
              0.6666666666666666,
              "#ed7953"
             ],
             [
              0.7777777777777778,
              "#fb9f3a"
             ],
             [
              0.8888888888888888,
              "#fdca26"
             ],
             [
              1,
              "#f0f921"
             ]
            ],
            "type": "histogram2d"
           }
          ],
          "histogram2dcontour": [
           {
            "colorbar": {
             "outlinewidth": 0,
             "ticks": ""
            },
            "colorscale": [
             [
              0,
              "#0d0887"
             ],
             [
              0.1111111111111111,
              "#46039f"
             ],
             [
              0.2222222222222222,
              "#7201a8"
             ],
             [
              0.3333333333333333,
              "#9c179e"
             ],
             [
              0.4444444444444444,
              "#bd3786"
             ],
             [
              0.5555555555555556,
              "#d8576b"
             ],
             [
              0.6666666666666666,
              "#ed7953"
             ],
             [
              0.7777777777777778,
              "#fb9f3a"
             ],
             [
              0.8888888888888888,
              "#fdca26"
             ],
             [
              1,
              "#f0f921"
             ]
            ],
            "type": "histogram2dcontour"
           }
          ],
          "mesh3d": [
           {
            "colorbar": {
             "outlinewidth": 0,
             "ticks": ""
            },
            "type": "mesh3d"
           }
          ],
          "parcoords": [
           {
            "line": {
             "colorbar": {
              "outlinewidth": 0,
              "ticks": ""
             }
            },
            "type": "parcoords"
           }
          ],
          "scatter": [
           {
            "marker": {
             "colorbar": {
              "outlinewidth": 0,
              "ticks": ""
             }
            },
            "type": "scatter"
           }
          ],
          "scatter3d": [
           {
            "line": {
             "colorbar": {
              "outlinewidth": 0,
              "ticks": ""
             }
            },
            "marker": {
             "colorbar": {
              "outlinewidth": 0,
              "ticks": ""
             }
            },
            "type": "scatter3d"
           }
          ],
          "scattercarpet": [
           {
            "marker": {
             "colorbar": {
              "outlinewidth": 0,
              "ticks": ""
             }
            },
            "type": "scattercarpet"
           }
          ],
          "scattergeo": [
           {
            "marker": {
             "colorbar": {
              "outlinewidth": 0,
              "ticks": ""
             }
            },
            "type": "scattergeo"
           }
          ],
          "scattergl": [
           {
            "marker": {
             "colorbar": {
              "outlinewidth": 0,
              "ticks": ""
             }
            },
            "type": "scattergl"
           }
          ],
          "scattermapbox": [
           {
            "marker": {
             "colorbar": {
              "outlinewidth": 0,
              "ticks": ""
             }
            },
            "type": "scattermapbox"
           }
          ],
          "scatterpolar": [
           {
            "marker": {
             "colorbar": {
              "outlinewidth": 0,
              "ticks": ""
             }
            },
            "type": "scatterpolar"
           }
          ],
          "scatterpolargl": [
           {
            "marker": {
             "colorbar": {
              "outlinewidth": 0,
              "ticks": ""
             }
            },
            "type": "scatterpolargl"
           }
          ],
          "scatterternary": [
           {
            "marker": {
             "colorbar": {
              "outlinewidth": 0,
              "ticks": ""
             }
            },
            "type": "scatterternary"
           }
          ],
          "surface": [
           {
            "colorbar": {
             "outlinewidth": 0,
             "ticks": ""
            },
            "colorscale": [
             [
              0,
              "#0d0887"
             ],
             [
              0.1111111111111111,
              "#46039f"
             ],
             [
              0.2222222222222222,
              "#7201a8"
             ],
             [
              0.3333333333333333,
              "#9c179e"
             ],
             [
              0.4444444444444444,
              "#bd3786"
             ],
             [
              0.5555555555555556,
              "#d8576b"
             ],
             [
              0.6666666666666666,
              "#ed7953"
             ],
             [
              0.7777777777777778,
              "#fb9f3a"
             ],
             [
              0.8888888888888888,
              "#fdca26"
             ],
             [
              1,
              "#f0f921"
             ]
            ],
            "type": "surface"
           }
          ],
          "table": [
           {
            "cells": {
             "fill": {
              "color": "#EBF0F8"
             },
             "line": {
              "color": "white"
             }
            },
            "header": {
             "fill": {
              "color": "#C8D4E3"
             },
             "line": {
              "color": "white"
             }
            },
            "type": "table"
           }
          ]
         },
         "layout": {
          "annotationdefaults": {
           "arrowcolor": "#2a3f5f",
           "arrowhead": 0,
           "arrowwidth": 1
          },
          "colorscale": {
           "diverging": [
            [
             0,
             "#8e0152"
            ],
            [
             0.1,
             "#c51b7d"
            ],
            [
             0.2,
             "#de77ae"
            ],
            [
             0.3,
             "#f1b6da"
            ],
            [
             0.4,
             "#fde0ef"
            ],
            [
             0.5,
             "#f7f7f7"
            ],
            [
             0.6,
             "#e6f5d0"
            ],
            [
             0.7,
             "#b8e186"
            ],
            [
             0.8,
             "#7fbc41"
            ],
            [
             0.9,
             "#4d9221"
            ],
            [
             1,
             "#276419"
            ]
           ],
           "sequential": [
            [
             0,
             "#0d0887"
            ],
            [
             0.1111111111111111,
             "#46039f"
            ],
            [
             0.2222222222222222,
             "#7201a8"
            ],
            [
             0.3333333333333333,
             "#9c179e"
            ],
            [
             0.4444444444444444,
             "#bd3786"
            ],
            [
             0.5555555555555556,
             "#d8576b"
            ],
            [
             0.6666666666666666,
             "#ed7953"
            ],
            [
             0.7777777777777778,
             "#fb9f3a"
            ],
            [
             0.8888888888888888,
             "#fdca26"
            ],
            [
             1,
             "#f0f921"
            ]
           ],
           "sequentialminus": [
            [
             0,
             "#0d0887"
            ],
            [
             0.1111111111111111,
             "#46039f"
            ],
            [
             0.2222222222222222,
             "#7201a8"
            ],
            [
             0.3333333333333333,
             "#9c179e"
            ],
            [
             0.4444444444444444,
             "#bd3786"
            ],
            [
             0.5555555555555556,
             "#d8576b"
            ],
            [
             0.6666666666666666,
             "#ed7953"
            ],
            [
             0.7777777777777778,
             "#fb9f3a"
            ],
            [
             0.8888888888888888,
             "#fdca26"
            ],
            [
             1,
             "#f0f921"
            ]
           ]
          },
          "colorway": [
           "#636efa",
           "#EF553B",
           "#00cc96",
           "#ab63fa",
           "#FFA15A",
           "#19d3f3",
           "#FF6692",
           "#B6E880",
           "#FF97FF",
           "#FECB52"
          ],
          "font": {
           "color": "#2a3f5f"
          },
          "geo": {
           "bgcolor": "white",
           "lakecolor": "white",
           "landcolor": "#E5ECF6",
           "showlakes": true,
           "showland": true,
           "subunitcolor": "white"
          },
          "hoverlabel": {
           "align": "left"
          },
          "hovermode": "closest",
          "mapbox": {
           "style": "light"
          },
          "paper_bgcolor": "white",
          "plot_bgcolor": "#E5ECF6",
          "polar": {
           "angularaxis": {
            "gridcolor": "white",
            "linecolor": "white",
            "ticks": ""
           },
           "bgcolor": "#E5ECF6",
           "radialaxis": {
            "gridcolor": "white",
            "linecolor": "white",
            "ticks": ""
           }
          },
          "scene": {
           "xaxis": {
            "backgroundcolor": "#E5ECF6",
            "gridcolor": "white",
            "gridwidth": 2,
            "linecolor": "white",
            "showbackground": true,
            "ticks": "",
            "zerolinecolor": "white"
           },
           "yaxis": {
            "backgroundcolor": "#E5ECF6",
            "gridcolor": "white",
            "gridwidth": 2,
            "linecolor": "white",
            "showbackground": true,
            "ticks": "",
            "zerolinecolor": "white"
           },
           "zaxis": {
            "backgroundcolor": "#E5ECF6",
            "gridcolor": "white",
            "gridwidth": 2,
            "linecolor": "white",
            "showbackground": true,
            "ticks": "",
            "zerolinecolor": "white"
           }
          },
          "shapedefaults": {
           "line": {
            "color": "#2a3f5f"
           }
          },
          "ternary": {
           "aaxis": {
            "gridcolor": "white",
            "linecolor": "white",
            "ticks": ""
           },
           "baxis": {
            "gridcolor": "white",
            "linecolor": "white",
            "ticks": ""
           },
           "bgcolor": "#E5ECF6",
           "caxis": {
            "gridcolor": "white",
            "linecolor": "white",
            "ticks": ""
           }
          },
          "title": {
           "x": 0.05
          },
          "xaxis": {
           "automargin": true,
           "gridcolor": "white",
           "linecolor": "white",
           "ticks": "",
           "zerolinecolor": "white",
           "zerolinewidth": 2
          },
          "yaxis": {
           "automargin": true,
           "gridcolor": "white",
           "linecolor": "white",
           "ticks": "",
           "zerolinecolor": "white",
           "zerolinewidth": 2
          }
         }
        },
        "xaxis": {
         "anchor": "y",
         "autorange": true,
         "domain": [
          0,
          0.98
         ],
         "range": [
          1,
          10
         ],
         "title": {
          "text": "i_epoch"
         },
         "type": "linear"
        },
        "yaxis": {
         "anchor": "x",
         "autorange": true,
         "domain": [
          0,
          1
         ],
         "range": [
          0.002476107875506083,
          0.005060736139615376
         ],
         "title": {
          "text": "train_loss"
         },
         "type": "linear"
        }
       }
      },
      "image/png": "[encoded data removed]",
      "text/html": [
       "<div>\n",
       "        \n",
       "        \n",
       "            <div id=\"6167edb3-5978-448c-85e3-4be3bbada3d4\" class=\"plotly-graph-div\" style=\"height:600px; width:100%;\"></div>\n",
       "            <script type=\"text/javascript\">\n",
       "                require([\"plotly\"], function(Plotly) {\n",
       "                    window.PLOTLYENV=window.PLOTLYENV || {};\n",
       "                    \n",
       "                if (document.getElementById(\"6167edb3-5978-448c-85e3-4be3bbada3d4\")) {\n",
       "                    Plotly.newPlot(\n",
       "                        '6167edb3-5978-448c-85e3-4be3bbada3d4',\n",
       "                        [{\"hoverlabel\": {\"namelength\": 0}, \"hovertemplate\": \"i_epoch=%{x}<br>train_loss=%{y}\", \"legendgroup\": \"\", \"line\": {\"color\": \"#636efa\", \"dash\": \"solid\"}, \"mode\": \"lines\", \"name\": \"\", \"showlegend\": false, \"type\": \"scatter\", \"x\": [1, 2, 3, 4, 5, 6, 7, 8, 9, 10], \"xaxis\": \"x\", \"y\": [0.004931504726409912, 0.004557976126670837, 0.004220786392688751, 0.00391603022813797, 0.0036403965950012208, 0.0033908915519714356, 0.003164851367473602, 0.0029599112272262573, 0.0027740266919136047, 0.0026053392887115476], \"yaxis\": \"y\"}],\n",
       "                        {\"height\": 600, \"legend\": {\"tracegroupgap\": 0}, \"margin\": {\"t\": 60}, \"template\": {\"data\": {\"bar\": [{\"error_x\": {\"color\": \"#2a3f5f\"}, \"error_y\": {\"color\": \"#2a3f5f\"}, \"marker\": {\"line\": {\"color\": \"#E5ECF6\", \"width\": 0.5}}, \"type\": \"bar\"}], \"barpolar\": [{\"marker\": {\"line\": {\"color\": \"#E5ECF6\", \"width\": 0.5}}, \"type\": \"barpolar\"}], \"carpet\": [{\"aaxis\": {\"endlinecolor\": \"#2a3f5f\", \"gridcolor\": \"white\", \"linecolor\": \"white\", \"minorgridcolor\": \"white\", \"startlinecolor\": \"#2a3f5f\"}, \"baxis\": {\"endlinecolor\": \"#2a3f5f\", \"gridcolor\": \"white\", \"linecolor\": \"white\", \"minorgridcolor\": \"white\", \"startlinecolor\": \"#2a3f5f\"}, \"type\": \"carpet\"}], \"choropleth\": [{\"colorbar\": {\"outlinewidth\": 0, \"ticks\": \"\"}, \"type\": \"choropleth\"}], \"contour\": [{\"colorbar\": {\"outlinewidth\": 0, \"ticks\": \"\"}, \"colorscale\": [[0.0, \"#0d0887\"], [0.1111111111111111, \"#46039f\"], [0.2222222222222222, \"#7201a8\"], [0.3333333333333333, \"#9c179e\"], [0.4444444444444444, \"#bd3786\"], [0.5555555555555556, \"#d8576b\"], [0.6666666666666666, \"#ed7953\"], [0.7777777777777778, \"#fb9f3a\"], [0.8888888888888888, \"#fdca26\"], [1.0, \"#f0f921\"]], \"type\": \"contour\"}], \"contourcarpet\": [{\"colorbar\": {\"outlinewidth\": 0, \"ticks\": \"\"}, \"type\": \"contourcarpet\"}], \"heatmap\": [{\"colorbar\": {\"outlinewidth\": 0, \"ticks\": \"\"}, \"colorscale\": [[0.0, \"#0d0887\"], [0.1111111111111111, \"#46039f\"], [0.2222222222222222, \"#7201a8\"], [0.3333333333333333, \"#9c179e\"], [0.4444444444444444, \"#bd3786\"], [0.5555555555555556, \"#d8576b\"], [0.6666666666666666, \"#ed7953\"], [0.7777777777777778, \"#fb9f3a\"], [0.8888888888888888, \"#fdca26\"], [1.0, \"#f0f921\"]], \"type\": \"heatmap\"}], \"heatmapgl\": [{\"colorbar\": {\"outlinewidth\": 0, \"ticks\": \"\"}, \"colorscale\": [[0.0, \"#0d0887\"], [0.1111111111111111, \"#46039f\"], [0.2222222222222222, \"#7201a8\"], [0.3333333333333333, \"#9c179e\"], [0.4444444444444444, \"#bd3786\"], [0.5555555555555556, \"#d8576b\"], [0.6666666666666666, \"#ed7953\"], [0.7777777777777778, \"#fb9f3a\"], [0.8888888888888888, \"#fdca26\"], [1.0, \"#f0f921\"]], \"type\": \"heatmapgl\"}], \"histogram\": [{\"marker\": {\"colorbar\": {\"outlinewidth\": 0, \"ticks\": \"\"}}, \"type\": \"histogram\"}], \"histogram2d\": [{\"colorbar\": {\"outlinewidth\": 0, \"ticks\": \"\"}, \"colorscale\": [[0.0, \"#0d0887\"], [0.1111111111111111, \"#46039f\"], [0.2222222222222222, \"#7201a8\"], [0.3333333333333333, \"#9c179e\"], [0.4444444444444444, \"#bd3786\"], [0.5555555555555556, \"#d8576b\"], [0.6666666666666666, \"#ed7953\"], [0.7777777777777778, \"#fb9f3a\"], [0.8888888888888888, \"#fdca26\"], [1.0, \"#f0f921\"]], \"type\": \"histogram2d\"}], \"histogram2dcontour\": [{\"colorbar\": {\"outlinewidth\": 0, \"ticks\": \"\"}, \"colorscale\": [[0.0, \"#0d0887\"], [0.1111111111111111, \"#46039f\"], [0.2222222222222222, \"#7201a8\"], [0.3333333333333333, \"#9c179e\"], [0.4444444444444444, \"#bd3786\"], [0.5555555555555556, \"#d8576b\"], [0.6666666666666666, \"#ed7953\"], [0.7777777777777778, \"#fb9f3a\"], [0.8888888888888888, \"#fdca26\"], [1.0, \"#f0f921\"]], \"type\": \"histogram2dcontour\"}], \"mesh3d\": [{\"colorbar\": {\"outlinewidth\": 0, \"ticks\": \"\"}, \"type\": \"mesh3d\"}], \"parcoords\": [{\"line\": {\"colorbar\": {\"outlinewidth\": 0, \"ticks\": \"\"}}, \"type\": \"parcoords\"}], \"scatter\": [{\"marker\": {\"colorbar\": {\"outlinewidth\": 0, \"ticks\": \"\"}}, \"type\": \"scatter\"}], \"scatter3d\": [{\"line\": {\"colorbar\": {\"outlinewidth\": 0, \"ticks\": \"\"}}, \"marker\": {\"colorbar\": {\"outlinewidth\": 0, \"ticks\": \"\"}}, \"type\": \"scatter3d\"}], \"scattercarpet\": [{\"marker\": {\"colorbar\": {\"outlinewidth\": 0, \"ticks\": \"\"}}, \"type\": \"scattercarpet\"}], \"scattergeo\": [{\"marker\": {\"colorbar\": {\"outlinewidth\": 0, \"ticks\": \"\"}}, \"type\": \"scattergeo\"}], \"scattergl\": [{\"marker\": {\"colorbar\": {\"outlinewidth\": 0, \"ticks\": \"\"}}, \"type\": \"scattergl\"}], \"scattermapbox\": [{\"marker\": {\"colorbar\": {\"outlinewidth\": 0, \"ticks\": \"\"}}, \"type\": \"scattermapbox\"}], \"scatterpolar\": [{\"marker\": {\"colorbar\": {\"outlinewidth\": 0, \"ticks\": \"\"}}, \"type\": \"scatterpolar\"}], \"scatterpolargl\": [{\"marker\": {\"colorbar\": {\"outlinewidth\": 0, \"ticks\": \"\"}}, \"type\": \"scatterpolargl\"}], \"scatterternary\": [{\"marker\": {\"colorbar\": {\"outlinewidth\": 0, \"ticks\": \"\"}}, \"type\": \"scatterternary\"}], \"surface\": [{\"colorbar\": {\"outlinewidth\": 0, \"ticks\": \"\"}, \"colorscale\": [[0.0, \"#0d0887\"], [0.1111111111111111, \"#46039f\"], [0.2222222222222222, \"#7201a8\"], [0.3333333333333333, \"#9c179e\"], [0.4444444444444444, \"#bd3786\"], [0.5555555555555556, \"#d8576b\"], [0.6666666666666666, \"#ed7953\"], [0.7777777777777778, \"#fb9f3a\"], [0.8888888888888888, \"#fdca26\"], [1.0, \"#f0f921\"]], \"type\": \"surface\"}], \"table\": [{\"cells\": {\"fill\": {\"color\": \"#EBF0F8\"}, \"line\": {\"color\": \"white\"}}, \"header\": {\"fill\": {\"color\": \"#C8D4E3\"}, \"line\": {\"color\": \"white\"}}, \"type\": \"table\"}]}, \"layout\": {\"annotationdefaults\": {\"arrowcolor\": \"#2a3f5f\", \"arrowhead\": 0, \"arrowwidth\": 1}, \"colorscale\": {\"diverging\": [[0, \"#8e0152\"], [0.1, \"#c51b7d\"], [0.2, \"#de77ae\"], [0.3, \"#f1b6da\"], [0.4, \"#fde0ef\"], [0.5, \"#f7f7f7\"], [0.6, \"#e6f5d0\"], [0.7, \"#b8e186\"], [0.8, \"#7fbc41\"], [0.9, \"#4d9221\"], [1, \"#276419\"]], \"sequential\": [[0.0, \"#0d0887\"], [0.1111111111111111, \"#46039f\"], [0.2222222222222222, \"#7201a8\"], [0.3333333333333333, \"#9c179e\"], [0.4444444444444444, \"#bd3786\"], [0.5555555555555556, \"#d8576b\"], [0.6666666666666666, \"#ed7953\"], [0.7777777777777778, \"#fb9f3a\"], [0.8888888888888888, \"#fdca26\"], [1.0, \"#f0f921\"]], \"sequentialminus\": [[0.0, \"#0d0887\"], [0.1111111111111111, \"#46039f\"], [0.2222222222222222, \"#7201a8\"], [0.3333333333333333, \"#9c179e\"], [0.4444444444444444, \"#bd3786\"], [0.5555555555555556, \"#d8576b\"], [0.6666666666666666, \"#ed7953\"], [0.7777777777777778, \"#fb9f3a\"], [0.8888888888888888, \"#fdca26\"], [1.0, \"#f0f921\"]]}, \"colorway\": [\"#636efa\", \"#EF553B\", \"#00cc96\", \"#ab63fa\", \"#FFA15A\", \"#19d3f3\", \"#FF6692\", \"#B6E880\", \"#FF97FF\", \"#FECB52\"], \"font\": {\"color\": \"#2a3f5f\"}, \"geo\": {\"bgcolor\": \"white\", \"lakecolor\": \"white\", \"landcolor\": \"#E5ECF6\", \"showlakes\": true, \"showland\": true, \"subunitcolor\": \"white\"}, \"hoverlabel\": {\"align\": \"left\"}, \"hovermode\": \"closest\", \"mapbox\": {\"style\": \"light\"}, \"paper_bgcolor\": \"white\", \"plot_bgcolor\": \"#E5ECF6\", \"polar\": {\"angularaxis\": {\"gridcolor\": \"white\", \"linecolor\": \"white\", \"ticks\": \"\"}, \"bgcolor\": \"#E5ECF6\", \"radialaxis\": {\"gridcolor\": \"white\", \"linecolor\": \"white\", \"ticks\": \"\"}}, \"scene\": {\"xaxis\": {\"backgroundcolor\": \"#E5ECF6\", \"gridcolor\": \"white\", \"gridwidth\": 2, \"linecolor\": \"white\", \"showbackground\": true, \"ticks\": \"\", \"zerolinecolor\": \"white\"}, \"yaxis\": {\"backgroundcolor\": \"#E5ECF6\", \"gridcolor\": \"white\", \"gridwidth\": 2, \"linecolor\": \"white\", \"showbackground\": true, \"ticks\": \"\", \"zerolinecolor\": \"white\"}, \"zaxis\": {\"backgroundcolor\": \"#E5ECF6\", \"gridcolor\": \"white\", \"gridwidth\": 2, \"linecolor\": \"white\", \"showbackground\": true, \"ticks\": \"\", \"zerolinecolor\": \"white\"}}, \"shapedefaults\": {\"line\": {\"color\": \"#2a3f5f\"}}, \"ternary\": {\"aaxis\": {\"gridcolor\": \"white\", \"linecolor\": \"white\", \"ticks\": \"\"}, \"baxis\": {\"gridcolor\": \"white\", \"linecolor\": \"white\", \"ticks\": \"\"}, \"bgcolor\": \"#E5ECF6\", \"caxis\": {\"gridcolor\": \"white\", \"linecolor\": \"white\", \"ticks\": \"\"}}, \"title\": {\"x\": 0.05}, \"xaxis\": {\"automargin\": true, \"gridcolor\": \"white\", \"linecolor\": \"white\", \"ticks\": \"\", \"zerolinecolor\": \"white\", \"zerolinewidth\": 2}, \"yaxis\": {\"automargin\": true, \"gridcolor\": \"white\", \"linecolor\": \"white\", \"ticks\": \"\", \"zerolinecolor\": \"white\", \"zerolinewidth\": 2}}}, \"xaxis\": {\"anchor\": \"y\", \"domain\": [0.0, 0.98], \"title\": {\"text\": \"i_epoch\"}}, \"yaxis\": {\"anchor\": \"x\", \"domain\": [0.0, 1.0], \"title\": {\"text\": \"train_loss\"}}},\n",
       "                        {\"responsive\": true}\n",
       "                    ).then(function(){\n",
       "                            \n",
       "var gd = document.getElementById('6167edb3-5978-448c-85e3-4be3bbada3d4');\n",
       "var x = new MutationObserver(function (mutations, observer) {{\n",
       "        var display = window.getComputedStyle(gd).display;\n",
       "        if (!display || display === 'none') {{\n",
       "            console.log([gd, 'removed!']);\n",
       "            Plotly.purge(gd);\n",
       "            observer.disconnect();\n",
       "        }}\n",
       "}});\n",
       "\n",
       "// Listen for the removal of the full notebook cells\n",
       "var notebookContainer = gd.closest('#notebook-container');\n",
       "if (notebookContainer) {{\n",
       "    x.observe(notebookContainer, {childList: true});\n",
       "}}\n",
       "\n",
       "// Listen for the clearing of the current output cell\n",
       "var outputEl = gd.closest('.output');\n",
       "if (outputEl) {{\n",
       "    x.observe(outputEl, {childList: true});\n",
       "}}\n",
       "\n",
       "                        })\n",
       "                };\n",
       "                });\n",
       "            </script>\n",
       "        </div>"
      ]
     },
     "metadata": {},
     "output_type": "display_data"
    }
   ],
   "source": [
    "fig = px.line(trainer.step_info, x='i_epoch', y='train_loss')\n",
    "fig.show()\n"
   ]
  },
  {
   "cell_type": "code",
   "execution_count": 49,
   "metadata": {},
   "outputs": [],
   "source": [
    "trainer.reset()"
   ]
  },
  {
   "cell_type": "markdown",
   "metadata": {},
   "source": [
    "# Model training"
   ]
  },
  {
   "cell_type": "code",
   "execution_count": 4,
   "metadata": {},
   "outputs": [],
   "source": [
    "from xenonpy.model.training import Trainer, SGD, MSELoss, Adam, ReduceLROnPlateau, ExponentialLR\n",
    "from xenonpy.model.training.extension import Validator, TensorConverter\n",
    "from xenonpy.datatools import preset, Splitter\n",
    "from xenonpy.descriptor import Compositions"
   ]
  },
  {
   "cell_type": "code",
   "execution_count": 5,
   "metadata": {},
   "outputs": [],
   "source": [
    "# --- build nn regression model\n",
    "\n",
    "def Net(n_feature, n_hidden1, n_hidden2, n_hidden3, n_output):\n",
    "    return Sequential(\n",
    "        Layer1d(n_in=n_feature, n_out=n_hidden1), \n",
    "        Layer1d(n_in=n_hidden1, n_out=n_hidden2),\n",
    "        Layer1d(n_in=n_hidden2, n_out=n_hidden3),\n",
    "        Layer1d(n_in=n_hidden3, n_out=n_output, act_func=None, batch_nor=None)\n",
    "    ) "
   ]
  },
  {
   "cell_type": "code",
   "execution_count": 6,
   "metadata": {},
   "outputs": [
    {
     "data": {
      "text/html": [
       "<div>\n",
       "<style scoped>\n",
       "    .dataframe tbody tr th:only-of-type {\n",
       "        vertical-align: middle;\n",
       "    }\n",
       "\n",
       "    .dataframe tbody tr th {\n",
       "        vertical-align: top;\n",
       "    }\n",
       "\n",
       "    .dataframe thead th {\n",
       "        text-align: right;\n",
       "    }\n",
       "</style>\n",
       "<table border=\"1\" class=\"dataframe\">\n",
       "  <thead>\n",
       "    <tr style=\"text-align: right;\">\n",
       "      <th></th>\n",
       "      <th>band_gap</th>\n",
       "      <th>composition</th>\n",
       "      <th>density</th>\n",
       "      <th>e_above_hull</th>\n",
       "      <th>efermi</th>\n",
       "      <th>elements</th>\n",
       "      <th>final_energy_per_atom</th>\n",
       "      <th>formation_energy_per_atom</th>\n",
       "      <th>has_bandstructure</th>\n",
       "      <th>is_hubbard</th>\n",
       "      <th>is_ordered</th>\n",
       "      <th>n_elemets</th>\n",
       "      <th>nsites</th>\n",
       "      <th>oxide_type</th>\n",
       "      <th>point_group</th>\n",
       "      <th>pretty_formula</th>\n",
       "      <th>space_group</th>\n",
       "      <th>space_group_number</th>\n",
       "      <th>total_magnetization</th>\n",
       "      <th>volume</th>\n",
       "    </tr>\n",
       "  </thead>\n",
       "  <tbody>\n",
       "    <tr>\n",
       "      <th>mp-1183509</th>\n",
       "      <td>0.0000</td>\n",
       "      <td>{'Ca': 3.0, 'Pm': 1.0}</td>\n",
       "      <td>2.828054</td>\n",
       "      <td>0.100302</td>\n",
       "      <td>NaN</td>\n",
       "      <td>[Ca, Pm]</td>\n",
       "      <td>-2.588686</td>\n",
       "      <td>0.100302</td>\n",
       "      <td>False</td>\n",
       "      <td>False</td>\n",
       "      <td>True</td>\n",
       "      <td>2</td>\n",
       "      <td>4</td>\n",
       "      <td>None</td>\n",
       "      <td>m-3m</td>\n",
       "      <td>Ca3Pm</td>\n",
       "      <td>Fm-3m</td>\n",
       "      <td>225</td>\n",
       "      <td>0.621093</td>\n",
       "      <td>155.736553</td>\n",
       "    </tr>\n",
       "    <tr>\n",
       "      <th>mp-1177991</th>\n",
       "      <td>0.8260</td>\n",
       "      <td>{'Li': 32.0, 'Mn': 5.0, 'Cr': 11.0, 'O': 48.0}</td>\n",
       "      <td>3.622171</td>\n",
       "      <td>0.015253</td>\n",
       "      <td>NaN</td>\n",
       "      <td>[Cr, Li, Mn, O]</td>\n",
       "      <td>-6.237396</td>\n",
       "      <td>-2.221736</td>\n",
       "      <td>False</td>\n",
       "      <td>True</td>\n",
       "      <td>True</td>\n",
       "      <td>4</td>\n",
       "      <td>96</td>\n",
       "      <td>oxide</td>\n",
       "      <td>1</td>\n",
       "      <td>Li32Mn5Cr11O48</td>\n",
       "      <td>P1</td>\n",
       "      <td>1</td>\n",
       "      <td>37.048391</td>\n",
       "      <td>842.026234</td>\n",
       "    </tr>\n",
       "    <tr>\n",
       "      <th>mp-1216393</th>\n",
       "      <td>0.0000</td>\n",
       "      <td>{'Zn': 3.0, 'Fe': 2.0, 'Cu': 10.0, 'Sn': 5.0, ...</td>\n",
       "      <td>5.408977</td>\n",
       "      <td>0.023284</td>\n",
       "      <td>NaN</td>\n",
       "      <td>[Cu, Fe, Se, Sn, Zn]</td>\n",
       "      <td>-4.122414</td>\n",
       "      <td>-0.333213</td>\n",
       "      <td>False</td>\n",
       "      <td>False</td>\n",
       "      <td>True</td>\n",
       "      <td>5</td>\n",
       "      <td>40</td>\n",
       "      <td>None</td>\n",
       "      <td>2</td>\n",
       "      <td>Zn3Fe2Cu10(SnSe4)5</td>\n",
       "      <td>C2</td>\n",
       "      <td>5</td>\n",
       "      <td>7.809951</td>\n",
       "      <td>956.641239</td>\n",
       "    </tr>\n",
       "    <tr>\n",
       "      <th>mp-780649</th>\n",
       "      <td>0.7259</td>\n",
       "      <td>{'V': 8.0, 'O': 12.0, 'F': 4.0}</td>\n",
       "      <td>4.211685</td>\n",
       "      <td>0.018237</td>\n",
       "      <td>3.028795</td>\n",
       "      <td>[F, O, V]</td>\n",
       "      <td>-7.474759</td>\n",
       "      <td>-2.653173</td>\n",
       "      <td>True</td>\n",
       "      <td>True</td>\n",
       "      <td>True</td>\n",
       "      <td>3</td>\n",
       "      <td>24</td>\n",
       "      <td>oxide</td>\n",
       "      <td>1</td>\n",
       "      <td>V2O3F</td>\n",
       "      <td>P1</td>\n",
       "      <td>1</td>\n",
       "      <td>3.000124</td>\n",
       "      <td>266.336314</td>\n",
       "    </tr>\n",
       "    <tr>\n",
       "      <th>mp-1215492</th>\n",
       "      <td>0.0000</td>\n",
       "      <td>{'Yb': 4.0, 'Sm': 1.0, 'S': 5.0}</td>\n",
       "      <td>7.355049</td>\n",
       "      <td>0.006992</td>\n",
       "      <td>NaN</td>\n",
       "      <td>[S, Sm, Yb]</td>\n",
       "      <td>-5.352276</td>\n",
       "      <td>-2.536897</td>\n",
       "      <td>False</td>\n",
       "      <td>False</td>\n",
       "      <td>True</td>\n",
       "      <td>3</td>\n",
       "      <td>10</td>\n",
       "      <td>None</td>\n",
       "      <td>4/mmm</td>\n",
       "      <td>Yb4SmS5</td>\n",
       "      <td>I4/mmm</td>\n",
       "      <td>139</td>\n",
       "      <td>0.000008</td>\n",
       "      <td>226.410887</td>\n",
       "    </tr>\n",
       "  </tbody>\n",
       "</table>\n",
       "</div>"
      ],
      "text/plain": [
       "            band_gap                                        composition  \\\n",
       "mp-1183509    0.0000                             {'Ca': 3.0, 'Pm': 1.0}   \n",
       "mp-1177991    0.8260     {'Li': 32.0, 'Mn': 5.0, 'Cr': 11.0, 'O': 48.0}   \n",
       "mp-1216393    0.0000  {'Zn': 3.0, 'Fe': 2.0, 'Cu': 10.0, 'Sn': 5.0, ...   \n",
       "mp-780649     0.7259                    {'V': 8.0, 'O': 12.0, 'F': 4.0}   \n",
       "mp-1215492    0.0000                   {'Yb': 4.0, 'Sm': 1.0, 'S': 5.0}   \n",
       "\n",
       "             density  e_above_hull    efermi              elements  \\\n",
       "mp-1183509  2.828054      0.100302       NaN              [Ca, Pm]   \n",
       "mp-1177991  3.622171      0.015253       NaN       [Cr, Li, Mn, O]   \n",
       "mp-1216393  5.408977      0.023284       NaN  [Cu, Fe, Se, Sn, Zn]   \n",
       "mp-780649   4.211685      0.018237  3.028795             [F, O, V]   \n",
       "mp-1215492  7.355049      0.006992       NaN           [S, Sm, Yb]   \n",
       "\n",
       "            final_energy_per_atom  formation_energy_per_atom  \\\n",
       "mp-1183509              -2.588686                   0.100302   \n",
       "mp-1177991              -6.237396                  -2.221736   \n",
       "mp-1216393              -4.122414                  -0.333213   \n",
       "mp-780649               -7.474759                  -2.653173   \n",
       "mp-1215492              -5.352276                  -2.536897   \n",
       "\n",
       "            has_bandstructure  is_hubbard  is_ordered  n_elemets  nsites  \\\n",
       "mp-1183509              False       False        True          2       4   \n",
       "mp-1177991              False        True        True          4      96   \n",
       "mp-1216393              False       False        True          5      40   \n",
       "mp-780649                True        True        True          3      24   \n",
       "mp-1215492              False       False        True          3      10   \n",
       "\n",
       "           oxide_type point_group      pretty_formula space_group  \\\n",
       "mp-1183509       None        m-3m               Ca3Pm       Fm-3m   \n",
       "mp-1177991      oxide           1      Li32Mn5Cr11O48          P1   \n",
       "mp-1216393       None           2  Zn3Fe2Cu10(SnSe4)5          C2   \n",
       "mp-780649       oxide           1               V2O3F          P1   \n",
       "mp-1215492       None       4/mmm             Yb4SmS5      I4/mmm   \n",
       "\n",
       "            space_group_number  total_magnetization      volume  \n",
       "mp-1183509                 225             0.621093  155.736553  \n",
       "mp-1177991                   1            37.048391  842.026234  \n",
       "mp-1216393                   5             7.809951  956.641239  \n",
       "mp-780649                    1             3.000124  266.336314  \n",
       "mp-1215492                 139             0.000008  226.410887  "
      ]
     },
     "execution_count": 6,
     "metadata": {},
     "output_type": "execute_result"
    }
   ],
   "source": [
    "data = preset.mp_inorganic\n",
    "data = data.sample(3000)\n",
    "data.head(5)"
   ]
  },
  {
   "cell_type": "code",
   "execution_count": 7,
   "metadata": {},
   "outputs": [
    {
     "data": {
      "text/html": [
       "<div>\n",
       "<style scoped>\n",
       "    .dataframe tbody tr th:only-of-type {\n",
       "        vertical-align: middle;\n",
       "    }\n",
       "\n",
       "    .dataframe tbody tr th {\n",
       "        vertical-align: top;\n",
       "    }\n",
       "\n",
       "    .dataframe thead th {\n",
       "        text-align: right;\n",
       "    }\n",
       "</style>\n",
       "<table border=\"1\" class=\"dataframe\">\n",
       "  <thead>\n",
       "    <tr style=\"text-align: right;\">\n",
       "      <th></th>\n",
       "      <th>ave:atomic_number</th>\n",
       "      <th>ave:atomic_radius</th>\n",
       "      <th>ave:atomic_radius_rahm</th>\n",
       "      <th>ave:atomic_volume</th>\n",
       "      <th>ave:atomic_weight</th>\n",
       "      <th>ave:boiling_point</th>\n",
       "      <th>ave:bulk_modulus</th>\n",
       "      <th>ave:c6_gb</th>\n",
       "      <th>ave:covalent_radius_cordero</th>\n",
       "      <th>ave:covalent_radius_pyykko</th>\n",
       "      <th>...</th>\n",
       "      <th>min:num_s_valence</th>\n",
       "      <th>min:period</th>\n",
       "      <th>min:specific_heat</th>\n",
       "      <th>min:thermal_conductivity</th>\n",
       "      <th>min:vdw_radius</th>\n",
       "      <th>min:vdw_radius_alvarez</th>\n",
       "      <th>min:vdw_radius_mm3</th>\n",
       "      <th>min:vdw_radius_uff</th>\n",
       "      <th>min:sound_velocity</th>\n",
       "      <th>min:Polarizability</th>\n",
       "    </tr>\n",
       "  </thead>\n",
       "  <tbody>\n",
       "    <tr>\n",
       "      <th>mp-1183509</th>\n",
       "      <td>30.250000</td>\n",
       "      <td>193.452194</td>\n",
       "      <td>273.250000</td>\n",
       "      <td>28.721176</td>\n",
       "      <td>66.286690</td>\n",
       "      <td>2067.750000</td>\n",
       "      <td>21.000000</td>\n",
       "      <td>2507.500000</td>\n",
       "      <td>181.750000</td>\n",
       "      <td>171.500000</td>\n",
       "      <td>...</td>\n",
       "      <td>2.0</td>\n",
       "      <td>4.0</td>\n",
       "      <td>0.185</td>\n",
       "      <td>15.00000</td>\n",
       "      <td>231.0</td>\n",
       "      <td>262.0</td>\n",
       "      <td>272.0</td>\n",
       "      <td>339.899994</td>\n",
       "      <td>3810.0</td>\n",
       "      <td>25.000</td>\n",
       "    </tr>\n",
       "    <tr>\n",
       "      <th>mp-1177991</th>\n",
       "      <td>9.052083</td>\n",
       "      <td>146.694458</td>\n",
       "      <td>198.135422</td>\n",
       "      <td>12.580000</td>\n",
       "      <td>19.132076</td>\n",
       "      <td>871.665833</td>\n",
       "      <td>66.303017</td>\n",
       "      <td>592.662476</td>\n",
       "      <td>99.406250</td>\n",
       "      <td>96.010414</td>\n",
       "      <td>...</td>\n",
       "      <td>1.0</td>\n",
       "      <td>2.0</td>\n",
       "      <td>0.477</td>\n",
       "      <td>0.02658</td>\n",
       "      <td>152.0</td>\n",
       "      <td>150.0</td>\n",
       "      <td>182.0</td>\n",
       "      <td>245.100006</td>\n",
       "      <td>317.5</td>\n",
       "      <td>0.802</td>\n",
       "    </tr>\n",
       "    <tr>\n",
       "      <th>mp-1216393</th>\n",
       "      <td>34.049999</td>\n",
       "      <td>138.899994</td>\n",
       "      <td>225.199997</td>\n",
       "      <td>13.107500</td>\n",
       "      <td>77.906502</td>\n",
       "      <td>1746.574951</td>\n",
       "      <td>60.150002</td>\n",
       "      <td>319.975006</td>\n",
       "      <td>126.625000</td>\n",
       "      <td>118.150002</td>\n",
       "      <td>...</td>\n",
       "      <td>1.0</td>\n",
       "      <td>4.0</td>\n",
       "      <td>0.222</td>\n",
       "      <td>0.52000</td>\n",
       "      <td>190.0</td>\n",
       "      <td>182.0</td>\n",
       "      <td>223.0</td>\n",
       "      <td>276.299988</td>\n",
       "      <td>2500.0</td>\n",
       "      <td>3.770</td>\n",
       "    </tr>\n",
       "    <tr>\n",
       "      <th>mp-780649</th>\n",
       "      <td>13.166667</td>\n",
       "      <td>140.104645</td>\n",
       "      <td>196.666672</td>\n",
       "      <td>12.633333</td>\n",
       "      <td>28.146400</td>\n",
       "      <td>1275.930054</td>\n",
       "      <td>99.186180</td>\n",
       "      <td>328.383331</td>\n",
       "      <td>93.500000</td>\n",
       "      <td>86.833336</td>\n",
       "      <td>...</td>\n",
       "      <td>2.0</td>\n",
       "      <td>2.0</td>\n",
       "      <td>0.485</td>\n",
       "      <td>0.02658</td>\n",
       "      <td>147.0</td>\n",
       "      <td>146.0</td>\n",
       "      <td>171.0</td>\n",
       "      <td>314.399994</td>\n",
       "      <td>317.5</td>\n",
       "      <td>0.557</td>\n",
       "    </tr>\n",
       "    <tr>\n",
       "      <th>mp-1215492</th>\n",
       "      <td>42.200001</td>\n",
       "      <td>159.199997</td>\n",
       "      <td>245.800003</td>\n",
       "      <td>19.660000</td>\n",
       "      <td>100.283997</td>\n",
       "      <td>1151.712036</td>\n",
       "      <td>20.049999</td>\n",
       "      <td>1147.000000</td>\n",
       "      <td>147.100006</td>\n",
       "      <td>136.699997</td>\n",
       "      <td>...</td>\n",
       "      <td>2.0</td>\n",
       "      <td>3.0</td>\n",
       "      <td>0.145</td>\n",
       "      <td>0.20500</td>\n",
       "      <td>180.0</td>\n",
       "      <td>189.0</td>\n",
       "      <td>215.0</td>\n",
       "      <td>335.500000</td>\n",
       "      <td>1590.0</td>\n",
       "      <td>2.900</td>\n",
       "    </tr>\n",
       "  </tbody>\n",
       "</table>\n",
       "<p>5 rows × 290 columns</p>\n",
       "</div>"
      ],
      "text/plain": [
       "            ave:atomic_number  ave:atomic_radius  ave:atomic_radius_rahm  \\\n",
       "mp-1183509          30.250000         193.452194              273.250000   \n",
       "mp-1177991           9.052083         146.694458              198.135422   \n",
       "mp-1216393          34.049999         138.899994              225.199997   \n",
       "mp-780649           13.166667         140.104645              196.666672   \n",
       "mp-1215492          42.200001         159.199997              245.800003   \n",
       "\n",
       "            ave:atomic_volume  ave:atomic_weight  ave:boiling_point  \\\n",
       "mp-1183509          28.721176          66.286690        2067.750000   \n",
       "mp-1177991          12.580000          19.132076         871.665833   \n",
       "mp-1216393          13.107500          77.906502        1746.574951   \n",
       "mp-780649           12.633333          28.146400        1275.930054   \n",
       "mp-1215492          19.660000         100.283997        1151.712036   \n",
       "\n",
       "            ave:bulk_modulus    ave:c6_gb  ave:covalent_radius_cordero  \\\n",
       "mp-1183509         21.000000  2507.500000                   181.750000   \n",
       "mp-1177991         66.303017   592.662476                    99.406250   \n",
       "mp-1216393         60.150002   319.975006                   126.625000   \n",
       "mp-780649          99.186180   328.383331                    93.500000   \n",
       "mp-1215492         20.049999  1147.000000                   147.100006   \n",
       "\n",
       "            ave:covalent_radius_pyykko  ...  min:num_s_valence  min:period  \\\n",
       "mp-1183509                  171.500000  ...                2.0         4.0   \n",
       "mp-1177991                   96.010414  ...                1.0         2.0   \n",
       "mp-1216393                  118.150002  ...                1.0         4.0   \n",
       "mp-780649                    86.833336  ...                2.0         2.0   \n",
       "mp-1215492                  136.699997  ...                2.0         3.0   \n",
       "\n",
       "            min:specific_heat  min:thermal_conductivity  min:vdw_radius  \\\n",
       "mp-1183509              0.185                  15.00000           231.0   \n",
       "mp-1177991              0.477                   0.02658           152.0   \n",
       "mp-1216393              0.222                   0.52000           190.0   \n",
       "mp-780649               0.485                   0.02658           147.0   \n",
       "mp-1215492              0.145                   0.20500           180.0   \n",
       "\n",
       "            min:vdw_radius_alvarez  min:vdw_radius_mm3  min:vdw_radius_uff  \\\n",
       "mp-1183509                   262.0               272.0          339.899994   \n",
       "mp-1177991                   150.0               182.0          245.100006   \n",
       "mp-1216393                   182.0               223.0          276.299988   \n",
       "mp-780649                    146.0               171.0          314.399994   \n",
       "mp-1215492                   189.0               215.0          335.500000   \n",
       "\n",
       "            min:sound_velocity  min:Polarizability  \n",
       "mp-1183509              3810.0              25.000  \n",
       "mp-1177991               317.5               0.802  \n",
       "mp-1216393              2500.0               3.770  \n",
       "mp-780649                317.5               0.557  \n",
       "mp-1215492              1590.0               2.900  \n",
       "\n",
       "[5 rows x 290 columns]"
      ]
     },
     "execution_count": 7,
     "metadata": {},
     "output_type": "execute_result"
    },
    {
     "data": {
      "text/html": [
       "<div>\n",
       "<style scoped>\n",
       "    .dataframe tbody tr th:only-of-type {\n",
       "        vertical-align: middle;\n",
       "    }\n",
       "\n",
       "    .dataframe tbody tr th {\n",
       "        vertical-align: top;\n",
       "    }\n",
       "\n",
       "    .dataframe thead th {\n",
       "        text-align: right;\n",
       "    }\n",
       "</style>\n",
       "<table border=\"1\" class=\"dataframe\">\n",
       "  <thead>\n",
       "    <tr style=\"text-align: right;\">\n",
       "      <th></th>\n",
       "      <th>volume</th>\n",
       "    </tr>\n",
       "  </thead>\n",
       "  <tbody>\n",
       "    <tr>\n",
       "      <th>mp-1183509</th>\n",
       "      <td>155.736557</td>\n",
       "    </tr>\n",
       "    <tr>\n",
       "      <th>mp-1177991</th>\n",
       "      <td>842.026245</td>\n",
       "    </tr>\n",
       "    <tr>\n",
       "      <th>mp-1216393</th>\n",
       "      <td>956.641235</td>\n",
       "    </tr>\n",
       "    <tr>\n",
       "      <th>mp-780649</th>\n",
       "      <td>266.336304</td>\n",
       "    </tr>\n",
       "    <tr>\n",
       "      <th>mp-1215492</th>\n",
       "      <td>226.410889</td>\n",
       "    </tr>\n",
       "  </tbody>\n",
       "</table>\n",
       "</div>"
      ],
      "text/plain": [
       "                volume\n",
       "mp-1183509  155.736557\n",
       "mp-1177991  842.026245\n",
       "mp-1216393  956.641235\n",
       "mp-780649   266.336304\n",
       "mp-1215492  226.410889"
      ]
     },
     "execution_count": 7,
     "metadata": {},
     "output_type": "execute_result"
    }
   ],
   "source": [
    "desc = Compositions(featurizers='classic').transform(data['composition']).astype('float32')\n",
    "prop = data['volume'].to_frame().astype('float32')\n",
    "\n",
    "desc.head(5)\n",
    "prop.head(5)"
   ]
  },
  {
   "cell_type": "code",
   "execution_count": 8,
   "metadata": {},
   "outputs": [],
   "source": [
    "sp = Splitter(3000)\n",
    "x_train, x_test, y_train, y_test = sp.split(desc, prop)"
   ]
  },
  {
   "cell_type": "code",
   "execution_count": 9,
   "metadata": {},
   "outputs": [
    {
     "data": {
      "text/plain": [
       "(2400, 290)"
      ]
     },
     "execution_count": 9,
     "metadata": {},
     "output_type": "execute_result"
    },
    {
     "data": {
      "text/plain": [
       "(2400, 1)"
      ]
     },
     "execution_count": 9,
     "metadata": {},
     "output_type": "execute_result"
    },
    {
     "data": {
      "text/plain": [
       "(600, 290)"
      ]
     },
     "execution_count": 9,
     "metadata": {},
     "output_type": "execute_result"
    },
    {
     "data": {
      "text/plain": [
       "(600, 1)"
      ]
     },
     "execution_count": 9,
     "metadata": {},
     "output_type": "execute_result"
    }
   ],
   "source": [
    "x_train.shape\n",
    "y_train.shape\n",
    "x_test.shape\n",
    "y_test.shape"
   ]
  },
  {
   "cell_type": "code",
   "execution_count": 28,
   "metadata": {},
   "outputs": [
    {
     "data": {
      "text/plain": [
       "Sequential(\n",
       "  (0): Layer1d(\n",
       "    (layer): Linear(in_features=290, out_features=200, bias=True)\n",
       "    (batch_nor): BatchNorm1d(200, eps=1e-05, momentum=0.1, affine=True, track_running_stats=True)\n",
       "    (act_func): ReLU()\n",
       "  )\n",
       "  (1): Layer1d(\n",
       "    (layer): Linear(in_features=200, out_features=100, bias=True)\n",
       "    (batch_nor): BatchNorm1d(100, eps=1e-05, momentum=0.1, affine=True, track_running_stats=True)\n",
       "    (act_func): ReLU()\n",
       "  )\n",
       "  (2): Layer1d(\n",
       "    (layer): Linear(in_features=100, out_features=30, bias=True)\n",
       "    (batch_nor): BatchNorm1d(30, eps=1e-05, momentum=0.1, affine=True, track_running_stats=True)\n",
       "    (act_func): ReLU()\n",
       "  )\n",
       "  (3): Layer1d(\n",
       "    (layer): Linear(in_features=30, out_features=1, bias=True)\n",
       "  )\n",
       ")"
      ]
     },
     "execution_count": 28,
     "metadata": {},
     "output_type": "execute_result"
    }
   ],
   "source": [
    "# --- check model\n",
    "nn_model = Net(\n",
    "    n_feature=290,\n",
    "    n_hidden1=200,\n",
    "    n_hidden2=100,\n",
    "    n_hidden3=30,\n",
    "    n_output=1)\n",
    "\n",
    "nn_model"
   ]
  },
  {
   "cell_type": "code",
   "execution_count": 29,
   "metadata": {},
   "outputs": [],
   "source": [
    "trainer = Trainer(\n",
    "    model=nn_model,\n",
    "#     optimizer=SGD(lr=0.001, momentum=0.8, dampening=0.7, weight_decay=0.1),\n",
    "    optimizer=Adam(lr=0.01, weight_decay=0.1),\n",
    "    loss_func=MSELoss(),\n",
    "#     lr_scheduler=ReduceLROnPlateau(),\n",
    "    epochs=1000,\n",
    ")"
   ]
  },
  {
   "cell_type": "code",
   "execution_count": 30,
   "metadata": {},
   "outputs": [],
   "source": [
    "trainer.extend(\n",
    "    TensorConverter(),\n",
    "    Validator(x_test, y_test,\n",
    "        metrics_func=regression_metrics),\n",
    ")"
   ]
  },
  {
   "cell_type": "code",
   "execution_count": 31,
   "metadata": {},
   "outputs": [],
   "source": [
    "from torch.utils.data import DataLoader, TensorDataset"
   ]
  },
  {
   "cell_type": "code",
   "execution_count": 32,
   "metadata": {},
   "outputs": [],
   "source": [
    "dataloader = DataLoader(\n",
    "    TensorDataset(\n",
    "        torch.from_numpy(x_train),\n",
    "        torch.from_numpy(y_train)),\n",
    "    shuffle=True,\n",
    "    batch_size=200\n",
    ")"
   ]
  },
  {
   "cell_type": "code",
   "execution_count": null,
   "metadata": {},
   "outputs": [
    {
     "name": "stderr",
     "output_type": "stream",
     "text": [
      "Training:  30%|███       | 3/10 [00:00<00:00, 25.55it/s]"
     ]
    }
   ],
   "source": [
    "trainer.fit(x_train=x_train, y_train=y_train, epochs=10)"
   ]
  },
  {
   "cell_type": "code",
   "execution_count": 25,
   "metadata": {},
   "outputs": [
    {
     "name": "stderr",
     "output_type": "stream",
     "text": [
      "Training: 100%|██████████| 100/100 [00:09<00:00, 10.87it/s]\n"
     ]
    }
   ],
   "source": [
    "trainer.fit(training_dataset=dataloader, epochs=100)"
   ]
  },
  {
   "cell_type": "code",
   "execution_count": 26,
   "metadata": {},
   "outputs": [
    {
     "data": {
      "text/plain": [
       "Total elapsed: 0:00:09.433292 <seconds>\n",
       "  |- fit: 0:00:09.414722\n",
       "  |- _step_forward: 0:00:00.007380\n",
       "  |- input_proc: 0:00:00.006016\n",
       "  |- output_proc: 0:00:00.005166\n",
       "  |- _before_proc: 0:00:00.000005\n",
       "  |- _after_proc: 0:00:00.000003"
      ]
     },
     "execution_count": 26,
     "metadata": {},
     "output_type": "execute_result"
    }
   ],
   "source": [
    "trainer.timer"
   ]
  },
  {
   "cell_type": "code",
   "execution_count": 27,
   "metadata": {},
   "outputs": [
    {
     "data": {
      "application/vnd.plotly.v1+json": {
       "config": {
        "plotlyServerURL": "https://plot.ly"
       },
       "data": [
        {
         "hoverlabel": {
          "namelength": 0
         },
         "hovertemplate": "total_iters=%{x}<br>train_loss=%{y}",
         "legendgroup": "",
         "line": {
          "color": "#636efa",
          "dash": "solid"
         },
         "mode": "lines",
         "name": "",
         "showlegend": false,
         "type": "scattergl",
         "x": [
          1,
          2,
          3,
          4,
          5,
          6,
          7,
          8,
          9,
          10,
          11,
          12,
          13,
          14,
          15,
          16,
          17,
          18,
          19,
          20,
          21,
          22,
          23,
          24,
          25,
          26,
          27,
          28,
          29,
          30,
          31,
          32,
          33,
          34,
          35,
          36,
          37,
          38,
          39,
          40,
          41,
          42,
          43,
          44,
          45,
          46,
          47,
          48,
          49,
          50,
          51,
          52,
          53,
          54,
          55,
          56,
          57,
          58,
          59,
          60,
          61,
          62,
          63,
          64,
          65,
          66,
          67,
          68,
          69,
          70,
          71,
          72,
          73,
          74,
          75,
          76,
          77,
          78,
          79,
          80,
          81,
          82,
          83,
          84,
          85,
          86,
          87,
          88,
          89,
          90,
          91,
          92,
          93,
          94,
          95,
          96,
          97,
          98,
          99,
          100,
          101,
          102,
          103,
          104,
          105,
          106,
          107,
          108,
          109,
          110,
          111,
          112,
          113,
          114,
          115,
          116,
          117,
          118,
          119,
          120,
          121,
          122,
          123,
          124,
          125,
          126,
          127,
          128,
          129,
          130,
          131,
          132,
          133,
          134,
          135,
          136,
          137,
          138,
          139,
          140,
          141,
          142,
          143,
          144,
          145,
          146,
          147,
          148,
          149,
          150,
          151,
          152,
          153,
          154,
          155,
          156,
          157,
          158,
          159,
          160,
          161,
          162,
          163,
          164,
          165,
          166,
          167,
          168,
          169,
          170,
          171,
          172,
          173,
          174,
          175,
          176,
          177,
          178,
          179,
          180,
          181,
          182,
          183,
          184,
          185,
          186,
          187,
          188,
          189,
          190,
          191,
          192,
          193,
          194,
          195,
          196,
          197,
          198,
          199,
          200,
          201,
          202,
          203,
          204,
          205,
          206,
          207,
          208,
          209,
          210,
          211,
          212,
          213,
          214,
          215,
          216,
          217,
          218,
          219,
          220,
          221,
          222,
          223,
          224,
          225,
          226,
          227,
          228,
          229,
          230,
          231,
          232,
          233,
          234,
          235,
          236,
          237,
          238,
          239,
          240,
          241,
          242,
          243,
          244,
          245,
          246,
          247,
          248,
          249,
          250,
          251,
          252,
          253,
          254,
          255,
          256,
          257,
          258,
          259,
          260,
          261,
          262,
          263,
          264,
          265,
          266,
          267,
          268,
          269,
          270,
          271,
          272,
          273,
          274,
          275,
          276,
          277,
          278,
          279,
          280,
          281,
          282,
          283,
          284,
          285,
          286,
          287,
          288,
          289,
          290,
          291,
          292,
          293,
          294,
          295,
          296,
          297,
          298,
          299,
          300,
          301,
          302,
          303,
          304,
          305,
          306,
          307,
          308,
          309,
          310,
          311,
          312,
          313,
          314,
          315,
          316,
          317,
          318,
          319,
          320,
          321,
          322,
          323,
          324,
          325,
          326,
          327,
          328,
          329,
          330,
          331,
          332,
          333,
          334,
          335,
          336,
          337,
          338,
          339,
          340,
          341,
          342,
          343,
          344,
          345,
          346,
          347,
          348,
          349,
          350,
          351,
          352,
          353,
          354,
          355,
          356,
          357,
          358,
          359,
          360,
          361,
          362,
          363,
          364,
          365,
          366,
          367,
          368,
          369,
          370,
          371,
          372,
          373,
          374,
          375,
          376,
          377,
          378,
          379,
          380,
          381,
          382,
          383,
          384,
          385,
          386,
          387,
          388,
          389,
          390,
          391,
          392,
          393,
          394,
          395,
          396,
          397,
          398,
          399,
          400,
          401,
          402,
          403,
          404,
          405,
          406,
          407,
          408,
          409,
          410,
          411,
          412,
          413,
          414,
          415,
          416,
          417,
          418,
          419,
          420,
          421,
          422,
          423,
          424,
          425,
          426,
          427,
          428,
          429,
          430,
          431,
          432,
          433,
          434,
          435,
          436,
          437,
          438,
          439,
          440,
          441,
          442,
          443,
          444,
          445,
          446,
          447,
          448,
          449,
          450,
          451,
          452,
          453,
          454,
          455,
          456,
          457,
          458,
          459,
          460,
          461,
          462,
          463,
          464,
          465,
          466,
          467,
          468,
          469,
          470,
          471,
          472,
          473,
          474,
          475,
          476,
          477,
          478,
          479,
          480,
          481,
          482,
          483,
          484,
          485,
          486,
          487,
          488,
          489,
          490,
          491,
          492,
          493,
          494,
          495,
          496,
          497,
          498,
          499,
          500,
          501,
          502,
          503,
          504,
          505,
          506,
          507,
          508,
          509,
          510,
          511,
          512,
          513,
          514,
          515,
          516,
          517,
          518,
          519,
          520,
          521,
          522,
          523,
          524,
          525,
          526,
          527,
          528,
          529,
          530,
          531,
          532,
          533,
          534,
          535,
          536,
          537,
          538,
          539,
          540,
          541,
          542,
          543,
          544,
          545,
          546,
          547,
          548,
          549,
          550,
          551,
          552,
          553,
          554,
          555,
          556,
          557,
          558,
          559,
          560,
          561,
          562,
          563,
          564,
          565,
          566,
          567,
          568,
          569,
          570,
          571,
          572,
          573,
          574,
          575,
          576,
          577,
          578,
          579,
          580,
          581,
          582,
          583,
          584,
          585,
          586,
          587,
          588,
          589,
          590,
          591,
          592,
          593,
          594,
          595,
          596,
          597,
          598,
          599,
          600,
          601,
          602,
          603,
          604,
          605,
          606,
          607,
          608,
          609,
          610,
          611,
          612,
          613,
          614,
          615,
          616,
          617,
          618,
          619,
          620,
          621,
          622,
          623,
          624,
          625,
          626,
          627,
          628,
          629,
          630,
          631,
          632,
          633,
          634,
          635,
          636,
          637,
          638,
          639,
          640,
          641,
          642,
          643,
          644,
          645,
          646,
          647,
          648,
          649,
          650,
          651,
          652,
          653,
          654,
          655,
          656,
          657,
          658,
          659,
          660,
          661,
          662,
          663,
          664,
          665,
          666,
          667,
          668,
          669,
          670,
          671,
          672,
          673,
          674,
          675,
          676,
          677,
          678,
          679,
          680,
          681,
          682,
          683,
          684,
          685,
          686,
          687,
          688,
          689,
          690,
          691,
          692,
          693,
          694,
          695,
          696,
          697,
          698,
          699,
          700,
          701,
          702,
          703,
          704,
          705,
          706,
          707,
          708,
          709,
          710,
          711,
          712,
          713,
          714,
          715,
          716,
          717,
          718,
          719,
          720,
          721,
          722,
          723,
          724,
          725,
          726,
          727,
          728,
          729,
          730,
          731,
          732,
          733,
          734,
          735,
          736,
          737,
          738,
          739,
          740,
          741,
          742,
          743,
          744,
          745,
          746,
          747,
          748,
          749,
          750,
          751,
          752,
          753,
          754,
          755,
          756,
          757,
          758,
          759,
          760,
          761,
          762,
          763,
          764,
          765,
          766,
          767,
          768,
          769,
          770,
          771,
          772,
          773,
          774,
          775,
          776,
          777,
          778,
          779,
          780,
          781,
          782,
          783,
          784,
          785,
          786,
          787,
          788,
          789,
          790,
          791,
          792,
          793,
          794,
          795,
          796,
          797,
          798,
          799,
          800,
          801,
          802,
          803,
          804,
          805,
          806,
          807,
          808,
          809,
          810,
          811,
          812,
          813,
          814,
          815,
          816,
          817,
          818,
          819,
          820,
          821,
          822,
          823,
          824,
          825,
          826,
          827,
          828,
          829,
          830,
          831,
          832,
          833,
          834,
          835,
          836,
          837,
          838,
          839,
          840,
          841,
          842,
          843,
          844,
          845,
          846,
          847,
          848,
          849,
          850,
          851,
          852,
          853,
          854,
          855,
          856,
          857,
          858,
          859,
          860,
          861,
          862,
          863,
          864,
          865,
          866,
          867,
          868,
          869,
          870,
          871,
          872,
          873,
          874,
          875,
          876,
          877,
          878,
          879,
          880,
          881,
          882,
          883,
          884,
          885,
          886,
          887,
          888,
          889,
          890,
          891,
          892,
          893,
          894,
          895,
          896,
          897,
          898,
          899,
          900,
          901,
          902,
          903,
          904,
          905,
          906,
          907,
          908,
          909,
          910,
          911,
          912,
          913,
          914,
          915,
          916,
          917,
          918,
          919,
          920,
          921,
          922,
          923,
          924,
          925,
          926,
          927,
          928,
          929,
          930,
          931,
          932,
          933,
          934,
          935,
          936,
          937,
          938,
          939,
          940,
          941,
          942,
          943,
          944,
          945,
          946,
          947,
          948,
          949,
          950,
          951,
          952,
          953,
          954,
          955,
          956,
          957,
          958,
          959,
          960,
          961,
          962,
          963,
          964,
          965,
          966,
          967,
          968,
          969,
          970,
          971,
          972,
          973,
          974,
          975,
          976,
          977,
          978,
          979,
          980,
          981,
          982,
          983,
          984,
          985,
          986,
          987,
          988,
          989,
          990,
          991,
          992,
          993,
          994,
          995,
          996,
          997,
          998,
          999,
          1000,
          1001,
          1002,
          1003,
          1004,
          1005,
          1006,
          1007,
          1008,
          1009,
          1010,
          1011,
          1012,
          1013,
          1014,
          1015,
          1016,
          1017,
          1018,
          1019,
          1020,
          1021,
          1022,
          1023,
          1024,
          1025,
          1026,
          1027,
          1028,
          1029,
          1030,
          1031,
          1032,
          1033,
          1034,
          1035,
          1036,
          1037,
          1038,
          1039,
          1040,
          1041,
          1042,
          1043,
          1044,
          1045,
          1046,
          1047,
          1048,
          1049,
          1050,
          1051,
          1052,
          1053,
          1054,
          1055,
          1056,
          1057,
          1058,
          1059,
          1060,
          1061,
          1062,
          1063,
          1064,
          1065,
          1066,
          1067,
          1068,
          1069,
          1070,
          1071,
          1072,
          1073,
          1074,
          1075,
          1076,
          1077,
          1078,
          1079,
          1080,
          1081,
          1082,
          1083,
          1084,
          1085,
          1086,
          1087,
          1088,
          1089,
          1090,
          1091,
          1092,
          1093,
          1094,
          1095,
          1096,
          1097,
          1098,
          1099,
          1100,
          1101,
          1102,
          1103,
          1104,
          1105,
          1106,
          1107,
          1108,
          1109,
          1110,
          1111,
          1112,
          1113,
          1114,
          1115,
          1116,
          1117,
          1118,
          1119,
          1120,
          1121,
          1122,
          1123,
          1124,
          1125,
          1126,
          1127,
          1128,
          1129,
          1130,
          1131,
          1132,
          1133,
          1134,
          1135,
          1136,
          1137,
          1138,
          1139,
          1140,
          1141,
          1142,
          1143,
          1144,
          1145,
          1146,
          1147,
          1148,
          1149,
          1150,
          1151,
          1152,
          1153,
          1154,
          1155,
          1156,
          1157,
          1158,
          1159,
          1160,
          1161,
          1162,
          1163,
          1164,
          1165,
          1166,
          1167,
          1168,
          1169,
          1170,
          1171,
          1172,
          1173,
          1174,
          1175,
          1176,
          1177,
          1178,
          1179,
          1180,
          1181,
          1182,
          1183,
          1184,
          1185,
          1186,
          1187,
          1188,
          1189,
          1190,
          1191,
          1192,
          1193,
          1194,
          1195,
          1196,
          1197,
          1198,
          1199,
          1200
         ],
         "xaxis": "x",
         "y": [
          468.42625,
          432.4655078125,
          338.0645703125,
          1232.073828125,
          328.636640625,
          300.3816015625,
          298.03435546875,
          528.3753125,
          163.62619140625,
          861.391015625,
          317.8226953125,
          120.141689453125,
          549.993515625,
          439.556484375,
          936.816640625,
          245.92611328125,
          604.48625,
          198.5235546875,
          259.89630859375,
          186.60892578125,
          971.40203125,
          165.61130859375,
          396.4053515625,
          281.2908984375,
          520.553046875,
          260.92478515625,
          1154.71015625,
          214.02568359375,
          560.1448046875,
          736.557734375,
          314.584765625,
          377.5026953125,
          255.26873046875,
          233.41765625,
          187.47099609375,
          266.68576171875,
          182.19990234375,
          905.470625,
          359.575625,
          191.21095703125,
          452.004140625,
          551.233515625,
          477.32546875,
          349.5909765625,
          189.46205078125,
          687.250078125,
          340.46421875,
          246.80525390625,
          515.1619140625,
          429.1771875,
          218.52298828125,
          602.1546875,
          185.468203125,
          294.37916015625,
          603.668203125,
          1152.57171875,
          265.1587109375,
          348.7010546875,
          492.983125,
          192.98173828125,
          399.23515625,
          936.2753125,
          303.03681640625,
          205.31533203125,
          280.36001953125,
          689.67921875,
          976.108125,
          125.63263671875,
          252.62923828125,
          365.735,
          214.83076171875,
          441.345546875,
          357.932421875,
          719.82703125,
          901.433828125,
          446.865,
          310.74814453125,
          270.6284765625,
          489.8549609375,
          674.120625,
          184.840390625,
          340.74765625,
          209.83740234375,
          160.498798828125,
          308.54896484375,
          675.2359375,
          199.87431640625,
          290.0265234375,
          236.27693359375,
          943.891953125,
          565.214765625,
          370.6587109375,
          223.499453125,
          275.28984375,
          440.5942578125,
          605.1400390625,
          307.46615234375,
          272.437265625,
          543.79421875,
          189.055,
          436.0851171875,
          298.33796875,
          196.04484375,
          495.7361328125,
          579.5045703125,
          287.281328125,
          1222.796171875,
          181.65259765625,
          176.13818359375,
          1099.1228125,
          243.25076171875,
          337.6394921875,
          661.30453125,
          560.71046875,
          319.1004296875,
          220.27703125,
          217.77287109375,
          386.4791015625,
          682.886875,
          201.93828125,
          386.7208984375,
          683.241953125,
          225.01359375,
          109.060380859375,
          125.891123046875,
          483.226484375,
          607.6269140625,
          924.89,
          430.791953125,
          360.4931640625,
          383.6603515625,
          250.23732421875,
          635.12890625,
          459.2734375,
          227.46765625,
          397.1681640625,
          179.41525390625,
          205.61771484375,
          240.1349609375,
          931.955390625,
          328.34765625,
          268.09484375,
          433.780078125,
          620.9040625,
          268.8401953125,
          199.9614453125,
          420.6680078125,
          170.18013671875,
          231.86591796875,
          657.718046875,
          442.911953125,
          162.955048828125,
          1076.767734375,
          957.221875,
          356.3291796875,
          173.85259765625,
          465.700078125,
          214.5434375,
          198.802109375,
          177.021796875,
          524.708359375,
          1015.057578125,
          317.222890625,
          221.1555078125,
          581.2424609375,
          206.19298828125,
          347.7230078125,
          685.3378125,
          244.98123046875,
          272.9987890625,
          508.2162109375,
          1476.13328125,
          393.5553515625,
          282.41390625,
          240.41703125,
          304.32857421875,
          200.47248046875,
          539.3703515625,
          396.398828125,
          229.51265625,
          168.2175,
          255.51052734375,
          345.9933984375,
          500.313515625,
          213.40142578125,
          938.352265625,
          152.305615234375,
          325.93203125,
          654.2852734375,
          702.45015625,
          410.53609375,
          451.1476953125,
          396.28203125,
          514.1380078125,
          294.947578125,
          180.47015625,
          228.98099609375,
          589.790859375,
          183.7141796875,
          376.13546875,
          673.2871875,
          363.607578125,
          282.86447265625,
          1021.657578125,
          260.23599609375,
          719.146484375,
          186.53556640625,
          236.20208984375,
          147.098115234375,
          189.10736328125,
          197.5355078125,
          1618.8690625,
          410.341953125,
          298.74685546875,
          345.62140625,
          333.560234375,
          155.4321484375,
          183.794609375,
          179.41630859375,
          444.7391015625,
          212.20646484375,
          304.4857421875,
          894.688671875,
          809.866328125,
          835.750703125,
          192.56853515625,
          179.64708984375,
          396.21203125,
          263.34513671875,
          928.35625,
          391.730625,
          559.4376171875,
          162.68779296875,
          526.954609375,
          652.111875,
          168.61421875,
          117.594423828125,
          508.7359375,
          267.8141015625,
          355.9256640625,
          224.80970703125,
          844.32375,
          448.0221875,
          250.93048828125,
          201.73505859375,
          166.7279296875,
          708.588671875,
          456.368515625,
          426.308203125,
          285.809140625,
          993.973203125,
          140.011650390625,
          543.1411328125,
          205.14521484375,
          220.7260546875,
          250.99091796875,
          313.2491796875,
          732.36953125,
          449.68109375,
          209.930859375,
          1241.1196875,
          159.56189453125,
          509.048046875,
          366.30203125,
          532.556796875,
          306.68783203125,
          262.20826171875,
          189.38677734375,
          427.5815234375,
          157.8315625,
          533.679609375,
          404.96046875,
          262.7133203125,
          171.0011328125,
          505.2870703125,
          1043.103203125,
          261.03734375,
          168.1754296875,
          153.07283203125,
          704.87171875,
          224.1350390625,
          291.4363671875,
          657.414296875,
          359.5492578125,
          876.81515625,
          329.0641015625,
          379.1762109375,
          571.753515625,
          547.8764453125,
          271.9196484375,
          161.921474609375,
          275.273828125,
          145.12609375,
          685.1984375,
          515.767734375,
          276.46439453125,
          211.7848046875,
          477.5963671875,
          170.2429296875,
          1027.849453125,
          283.62392578125,
          305.9315625,
          292.3658984375,
          585.1359765625,
          188.5080859375,
          739.209765625,
          614.7961328125,
          214.684140625,
          290.17974609375,
          186.90380859375,
          565.00546875,
          926.0184375,
          1030.055703125,
          194.22638671875,
          278.55458984375,
          414.7813671875,
          554.2768359375,
          229.65103515625,
          197.99146484375,
          443.7151171875,
          626.1978125,
          326.9676953125,
          210.7300390625,
          340.3860546875,
          405.843984375,
          173.370703125,
          308.84279296875,
          1004.518046875,
          339.452109375,
          539.44140625,
          444.2524609375,
          866.067265625,
          240.0408203125,
          158.140263671875,
          258.32103515625,
          207.49234375,
          491.3510546875,
          852.873046875,
          277.63427734375,
          253.023046875,
          157.2337109375,
          474.0635546875,
          476.2671875,
          210.65767578125,
          207.356640625,
          698.31125,
          313.51912109375,
          556.4986328125,
          170.48095703125,
          318.5830859375,
          564.451953125,
          882.367421875,
          670.9521875,
          216.298515625,
          661.05,
          483.85421875,
          146.042333984375,
          403.531484375,
          185.5996875,
          384.0719921875,
          271.930546875,
          276.30546875,
          725.568203125,
          270.44154296875,
          423.4328125,
          404.1521484375,
          908.573125,
          339.1312890625,
          389.2361328125,
          604.67953125,
          175.88322265625,
          179.69658203125,
          760.270859375,
          396.3737109375,
          118.524013671875,
          352.057421875,
          405.48171875,
          611.6858984375,
          489.8557421875,
          235.041171875,
          173.74640625,
          236.15970703125,
          361.1411328125,
          1122.102890625,
          383.8920703125,
          343.5987890625,
          356.3356640625,
          1216.238125,
          630.4203125,
          242.58986328125,
          149.359951171875,
          242.4375,
          312.64546875,
          230.391640625,
          478.6383984375,
          379.1971875,
          542.9306640625,
          379.8391796875,
          528.722421875,
          413.8941796875,
          257.3041015625,
          462.41078125,
          844.70125,
          138.521513671875,
          223.29595703125,
          255.751640625,
          634.136875,
          159.4388671875,
          376.298125,
          296.17919921875,
          523.1869140625,
          1405.34390625,
          247.1225390625,
          162.2175,
          643.4028125,
          203.7499609375,
          308.14865234375,
          222.72384765625,
          361.5891796875,
          132.263212890625,
          450.2122265625,
          451.70546875,
          397.21078125,
          183.5798828125,
          419.9881640625,
          122.364267578125,
          885.67609375,
          491.6228125,
          199.15751953125,
          715.43609375,
          174.5473828125,
          230.02740234375,
          248.825390625,
          215.872265625,
          1048.991875,
          600.34359375,
          502.54296875,
          296.84193359375,
          264.53064453125,
          213.91833984375,
          112.656875,
          245.4809375,
          696.287265625,
          363.0206640625,
          550.3124609375,
          163.17326171875,
          203.16392578125,
          370.6796875,
          192.936015625,
          857.30890625,
          502.9409375,
          275.81470703125,
          584.776640625,
          496.6698046875,
          187.77021484375,
          268.12302734375,
          246.35818359375,
          154.4803515625,
          319.37880859375,
          654.5141796875,
          428.777578125,
          424.57203125,
          240.0011328125,
          294.873203125,
          437.931875,
          951.247265625,
          405.6378125,
          295.12142578125,
          340.17125,
          523.8852734375,
          609.7017578125,
          184.15330078125,
          814.465546875,
          580.4494140625,
          206.9991796875,
          246.28830078125,
          357.3707421875,
          394.8176171875,
          443.2158984375,
          140.813359375,
          211.69580078125,
          309.98689453125,
          207.934765625,
          150.908642578125,
          200.94041015625,
          240.90283203125,
          313.21322265625,
          170.7956640625,
          1464.99609375,
          260.48640625,
          400.4044921875,
          914.961953125,
          798.11671875,
          196.4225,
          274.8685546875,
          555.6216015625,
          340.49546875,
          646.7713671875,
          394.6645703125,
          317.02380859375,
          403.5503515625,
          283.4544140625,
          154.053720703125,
          424.6670703125,
          1149.016875,
          160.720732421875,
          400.006328125,
          608.3712890625,
          233.39140625,
          117.38630859375,
          244.29048828125,
          717.994453125,
          160.549697265625,
          636.6469921875,
          193.793671875,
          190.73953125,
          704.81796875,
          166.227578125,
          234.61748046875,
          346.127265625,
          908.847578125,
          185.1582421875,
          190.9407421875,
          669.31390625,
          179.7304296875,
          446.3553125,
          278.49498046875,
          394.27375,
          406.043984375,
          144.928037109375,
          593.2515234375,
          250.181015625,
          291.64412109375,
          385.6878125,
          150.665205078125,
          315.03869140625,
          1213.725703125,
          341.06390625,
          473.7428515625,
          316.21921875,
          311.72798828125,
          375.7109375,
          764.3971875,
          289.80173828125,
          469.1009375,
          235.88939453125,
          288.5109375,
          1022.086328125,
          241.0041796875,
          171.6323828125,
          274.89953125,
          197.6509765625,
          320.10443359375,
          513.7051171875,
          214.043359375,
          522.7177734375,
          338.6869921875,
          268.46041015625,
          560.2391015625,
          865.803828125,
          186.7949609375,
          421.3015625,
          187.25291015625,
          313.53125,
          241.41595703125,
          1134.66953125,
          696.29578125,
          381.324609375,
          604.559609375,
          237.43361328125,
          140.479912109375,
          300.1270703125,
          643.6084375,
          100.73267578125,
          236.89328125,
          113.5895703125,
          249.00572265625,
          365.281484375,
          141.09919921875,
          1106.01375,
          809.78265625,
          184.537734375,
          272.1416015625,
          409.7701953125,
          347.585625,
          218.290703125,
          375.6633203125,
          187.4,
          662.00828125,
          145.15091796875,
          205.518359375,
          346.6906640625,
          1251.99375,
          349.451015625,
          201.16994140625,
          291.74033203125,
          512.8523828125,
          214.89490234375,
          312.98880859375,
          226.19435546875,
          432.62140625,
          226.33517578125,
          257.76556640625,
          167.47728515625,
          287.15240234375,
          565.8385546875,
          436.7683203125,
          384.0640234375,
          576.35375,
          173.33875,
          300.14796875,
          865.925859375,
          641.4826953125,
          196.19392578125,
          156.587939453125,
          239.0329296875,
          113.154365234375,
          224.3866015625,
          297.7992578125,
          398.43828125,
          218.338125,
          1182.5371875,
          721.09,
          339.777421875,
          654.7348046875,
          176.68375,
          355.935390625,
          135.30615234375,
          538.740390625,
          243.64609375,
          158.27115234375,
          1279.19109375,
          377.6582421875,
          164.10826171875,
          212.83744140625,
          443.6230859375,
          901.728203125,
          209.3082421875,
          200.82751953125,
          132.818408203125,
          339.95234375,
          351.7176953125,
          333.0897265625,
          588.0236328125,
          289.722109375,
          949.18421875,
          197.16494140625,
          191.48818359375,
          311.61419921875,
          299.85556640625,
          146.177568359375,
          565.0811328125,
          182.0416015625,
          401.7359765625,
          823.649609375,
          660.340078125,
          231.258359375,
          631.3563671875,
          173.0014453125,
          281.1480859375,
          180.2890234375,
          226.85244140625,
          213.5909375,
          568.3425390625,
          662.75375,
          374.1411328125,
          402.9572265625,
          223.23654296875,
          679.335078125,
          103.868369140625,
          133.611884765625,
          827.195234375,
          848.594765625,
          421.825546875,
          174.5407421875,
          211.09845703125,
          191.62470703125,
          196.26978515625,
          992.55484375,
          572.0178125,
          241.858125,
          231.32458984375,
          524.65390625,
          160.920283203125,
          606.28328125,
          256.05302734375,
          232.31578125,
          171.69908203125,
          393.44890625,
          984.68375,
          243.78751953125,
          212.939296875,
          131.97541015625,
          528.006953125,
          517.1465625,
          225.72220703125,
          503.30421875,
          575.9575390625,
          175.9905859375,
          287.39677734375,
          98.891953125,
          140.14923828125,
          322.028671875,
          342.443671875,
          127.85166015625,
          279.4246875,
          819.983125,
          970.735390625,
          426.4553515625,
          269.76765625,
          823.235625,
          181.21884765625,
          246.81673828125,
          189.969921875,
          132.2300390625,
          126.5051171875,
          949.14484375,
          403.1673046875,
          727.1203125,
          203.36509765625,
          290.395546875,
          628.96875,
          841.02015625,
          376.8999609375,
          295.751484375,
          258.91779296875,
          469.2094921875,
          244.31798828125,
          225.93900390625,
          261.707890625,
          531.684375,
          212.20708984375,
          1244.061640625,
          140.780810546875,
          315.91189453125,
          178.15146484375,
          390.354765625,
          452.44203125,
          389.2466796875,
          228.35908203125,
          545.6962109375,
          164.6361328125,
          143.053525390625,
          315.25841796875,
          174.82822265625,
          493.5521484375,
          212.099453125,
          274.7482421875,
          438.073125,
          253.979453125,
          461.145234375,
          326.00146484375,
          103.161103515625,
          1068.995546875,
          581.5937109375,
          195.37169921875,
          341.4716796875,
          476.396953125,
          292.5325390625,
          1213.758671875,
          568.3531640625,
          189.833671875,
          207.793046875,
          189.78638671875,
          227.58150390625,
          176.9065234375,
          240.72021484375,
          207.62009765625,
          408.675,
          338.20703125,
          187.4980078125,
          677.592109375,
          209.28634765625,
          161.440458984375,
          318.736796875,
          336.3731640625,
          299.407890625,
          1227.669296875,
          217.32958984375,
          149.678759765625,
          167.0473046875,
          317.61119140625,
          177.75615234375,
          355.8334375,
          1316.66265625,
          338.91875,
          159.863583984375,
          155.532705078125,
          300.19228515625,
          469.013125,
          197.308828125,
          622.358671875,
          160.89451171875,
          131.1200390625,
          196.93275390625,
          203.12263671875,
          543.6498046875,
          1156.770859375,
          440.6873828125,
          696.76328125,
          223.7794921875,
          139.87029296875,
          341.3169140625,
          286.11599609375,
          313.81072265625,
          101.94642578125,
          223.15333984375,
          504.78359375,
          178.685859375,
          1275.33140625,
          250.8577734375,
          154.306279296875,
          232.506640625,
          864.767578125,
          437.239375,
          153.9242578125,
          297.72205078125,
          141.707939453125,
          706.573203125,
          685.458046875,
          319.5844140625,
          507.6923046875,
          263.34125,
          501.049140625,
          210.7202734375,
          87.309501953125,
          857.416015625,
          198.124296875,
          259.50470703125,
          562.60015625,
          264.24892578125,
          146.68859375,
          508.878203125,
          975.741015625,
          876.124140625,
          199.99763671875,
          285.1618359375,
          322.0122265625,
          163.69205078125,
          162.2214453125,
          522.94671875,
          106.407470703125,
          177.2201953125,
          641.618828125,
          267.13361328125,
          376.573671875,
          298.62783203125,
          851.561015625,
          271.26349609375,
          297.57400390625,
          187.12201171875,
          801.7990625,
          210.0302734375,
          189.9198828125,
          138.35021484375,
          942.168359375,
          427.7358203125,
          215.29578125,
          261.0616015625,
          244.83349609375,
          296.064921875,
          854.470078125,
          520.0791796875,
          334.9448046875,
          184.36947265625,
          144.0421875,
          245.909140625,
          302.2775390625,
          131.739013671875,
          306.753125,
          557.952578125,
          214.20349609375,
          511.826640625,
          1160.29421875,
          227.24515625,
          558.570078125,
          240.46892578125,
          160.9621484375,
          985.140859375,
          147.892587890625,
          274.9164453125,
          537.768046875,
          252.5425,
          737.709140625,
          329.340234375,
          139.193056640625,
          220.3530859375,
          347.377265625,
          965.978203125,
          256.721640625,
          1179.8146875,
          184.22013671875,
          136.593388671875,
          278.231796875,
          186.48345703125,
          227.7270703125,
          336.2526171875,
          203.9380078125,
          342.927421875,
          282.26376953125,
          294.81966796875,
          608.301328125,
          173.864609375,
          161.621728515625,
          210.72337890625,
          164.9935546875,
          424.4893359375,
          171.71115234375,
          815.055234375,
          806.234453125,
          459.4712109375,
          354.3021875,
          173.69498046875,
          324.07595703125,
          394.4666796875,
          181.58849609375,
          219.40654296875,
          758.176015625,
          274.33681640625,
          116.293291015625,
          349.4830078125,
          817.3621875,
          509.3797265625,
          646.7133984375,
          231.23314453125,
          196.6132421875,
          130.05931640625,
          584.16609375,
          175.25619140625,
          182.80080078125,
          239.836171875,
          536.92328125,
          316.35359375,
          173.63287109375,
          768.076640625,
          871.000234375,
          810.98828125,
          321.45984375,
          144.208515625,
          514.7779296875,
          227.5184765625,
          119.458857421875,
          244.84001953125,
          409.3650390625,
          554.4309375,
          79.817109375,
          141.0154296875,
          886.743046875,
          684.132109375,
          263.86705078125,
          375.55421875,
          211.3416796875,
          458.2015234375,
          857.01203125,
          289.22197265625,
          398.9278515625,
          273.73341796875,
          189.34357421875,
          266.69369140625,
          237.2317578125,
          429.3969140625,
          592.9576171875,
          486.7703125,
          139.1109375,
          200.135078125,
          228.38904296875,
          228.90291015625,
          456.0978125,
          260.6248046875,
          288.6151171875,
          1168.860234375,
          130.3948046875,
          366.9539453125,
          416.8922265625,
          267.66275390625,
          201.8562109375,
          143.789580078125,
          561.2450390625,
          197.84892578125,
          1394.5215625,
          492.8478515625,
          389.346015625,
          167.6070703125,
          169.21146484375,
          241.25546875,
          493.45578125,
          804.68203125,
          189.59794921875,
          598.8293359375,
          213.25978515625,
          386.484453125,
          224.8184765625,
          419.45546875,
          118.53509765625,
          404.6141015625,
          253.4251171875,
          342.1692578125,
          196.2394921875,
          274.77318359375,
          172.9544921875,
          83.877109375,
          174.9655859375,
          122.780810546875,
          477.4765625,
          856.707578125,
          385.86828125,
          908.433359375,
          376.1552734375,
          239.80498046875,
          842.911015625,
          162.965166015625,
          143.852607421875,
          158.077998046875,
          200.2016015625,
          779.367421875,
          386.394296875,
          828.306484375,
          231.0581640625,
          247.23625,
          168.34015625,
          219.87228515625,
          420.5354296875,
          900.310625,
          795.662578125,
          186.76177734375,
          284.37234375,
          230.4765625,
          374.1757421875,
          148.434482421875,
          74.172138671875,
          157.172841796875,
          573.95359375,
          920.929296875,
          424.0485546875,
          102.282568359375,
          496.59265625,
          565.548671875,
          183.87791015625,
          719.962890625,
          303.84306640625,
          187.17142578125,
          153.174248046875,
          152.651533203125,
          212.00466796875,
          360.31609375,
          548.4821484375,
          159.98337890625,
          358.1404296875,
          230.08259765625,
          509.8890234375,
          911.421171875,
          185.89666015625,
          334.3525390625,
          285.59923828125,
          289.64021484375,
          122.879921875,
          319.33365234375,
          158.4296484375,
          426.581875,
          705.85171875,
          203.50859375,
          314.8621875,
          1301.252109375,
          305.33216796875,
          79.8100341796875,
          163.635068359375,
          388.2687890625,
          186.18654296875,
          823.778046875,
          181.81048828125,
          490.1630078125,
          480.4137890625,
          139.744599609375,
          155.276865234375,
          249.57291015625,
          355.0724609375,
          282.553984375,
          317.9955859375,
          354.4469140625,
          522.4725,
          601.6898828125,
          601.17046875,
          267.49544921875,
          397.863203125,
          191.45919921875,
          201.90490234375,
          133.813271484375,
          252.9833203125,
          399.8657421875,
          223.774375,
          869.4196875,
          372.7880078125,
          649.744765625,
          118.15853515625,
          203.96830078125,
          376.48,
          225.6269921875,
          897.517890625,
          313.64712890625,
          411.1614453125,
          156.507734375,
          177.2552734375,
          222.3390625,
          597.2088671875,
          173.61423828125,
          710.848203125,
          199.31693359375,
          839.823125,
          498.4191796875,
          449.79390625,
          567.8239453125,
          108.34470703125,
          221.188828125,
          215.63697265625,
          162.592275390625,
          148.779638671875,
          276.6426953125,
          322.196796875,
          194.97318359375,
          158.581259765625,
          228.83939453125,
          480.5105078125,
          219.145078125,
          191.9441015625,
          549.4734375,
          833.079921875,
          273.5262109375,
          697.809140625,
          197.41876953125,
          152.532421875,
          961.376640625,
          288.62279296875,
          170.1465625,
          822.939609375,
          210.4299609375,
          484.2087109375,
          197.60544921875,
          494.4990625,
          243.55427734375,
          221.74294921875,
          152.166796875,
          177.47478515625,
          203.127109375,
          170.14982421875,
          136.972109375,
          639.6733984375,
          337.8838671875,
          632.337578125,
          786.00234375,
          238.8598046875,
          550.40953125,
          222.39064453125,
          210.45029296875,
          615.56921875,
          157.179921875,
          449.96078125,
          136.2176171875,
          263.0135546875,
          875.673671875,
          595.2533203125,
          223.37865234375,
          276.230234375,
          366.3861328125,
          203.57103515625,
          139.14345703125,
          147.4990234375,
          382.368359375,
          1102.457265625,
          267.57384765625,
          232.4544921875,
          516.176484375,
          112.72951171875,
          152.04955078125,
          162.373212890625,
          141.6408984375,
          690.73703125,
          462.9092578125,
          330.4847265625,
          203.06169921875,
          178.07611328125,
          219.546875,
          291.9562890625,
          206.7363671875,
          1237.297734375,
          282.24982421875,
          135.22138671875,
          582.0759765625,
          152.990634765625,
          171.311796875,
          217.40140625,
          129.184150390625,
          449.4701953125,
          183.71640625,
          527.397109375,
          355.7838671875,
          480.36609375,
          813.950390625,
          407.8284375,
          165.12470703125,
          309.07322265625
         ],
         "yaxis": "y"
        }
       ],
       "layout": {
        "autosize": true,
        "legend": {
         "tracegroupgap": 0
        },
        "margin": {
         "t": 60
        },
        "template": {
         "data": {
          "bar": [
           {
            "error_x": {
             "color": "#2a3f5f"
            },
            "error_y": {
             "color": "#2a3f5f"
            },
            "marker": {
             "line": {
              "color": "#E5ECF6",
              "width": 0.5
             }
            },
            "type": "bar"
           }
          ],
          "barpolar": [
           {
            "marker": {
             "line": {
              "color": "#E5ECF6",
              "width": 0.5
             }
            },
            "type": "barpolar"
           }
          ],
          "carpet": [
           {
            "aaxis": {
             "endlinecolor": "#2a3f5f",
             "gridcolor": "white",
             "linecolor": "white",
             "minorgridcolor": "white",
             "startlinecolor": "#2a3f5f"
            },
            "baxis": {
             "endlinecolor": "#2a3f5f",
             "gridcolor": "white",
             "linecolor": "white",
             "minorgridcolor": "white",
             "startlinecolor": "#2a3f5f"
            },
            "type": "carpet"
           }
          ],
          "choropleth": [
           {
            "colorbar": {
             "outlinewidth": 0,
             "ticks": ""
            },
            "type": "choropleth"
           }
          ],
          "contour": [
           {
            "colorbar": {
             "outlinewidth": 0,
             "ticks": ""
            },
            "colorscale": [
             [
              0,
              "#0d0887"
             ],
             [
              0.1111111111111111,
              "#46039f"
             ],
             [
              0.2222222222222222,
              "#7201a8"
             ],
             [
              0.3333333333333333,
              "#9c179e"
             ],
             [
              0.4444444444444444,
              "#bd3786"
             ],
             [
              0.5555555555555556,
              "#d8576b"
             ],
             [
              0.6666666666666666,
              "#ed7953"
             ],
             [
              0.7777777777777778,
              "#fb9f3a"
             ],
             [
              0.8888888888888888,
              "#fdca26"
             ],
             [
              1,
              "#f0f921"
             ]
            ],
            "type": "contour"
           }
          ],
          "contourcarpet": [
           {
            "colorbar": {
             "outlinewidth": 0,
             "ticks": ""
            },
            "type": "contourcarpet"
           }
          ],
          "heatmap": [
           {
            "colorbar": {
             "outlinewidth": 0,
             "ticks": ""
            },
            "colorscale": [
             [
              0,
              "#0d0887"
             ],
             [
              0.1111111111111111,
              "#46039f"
             ],
             [
              0.2222222222222222,
              "#7201a8"
             ],
             [
              0.3333333333333333,
              "#9c179e"
             ],
             [
              0.4444444444444444,
              "#bd3786"
             ],
             [
              0.5555555555555556,
              "#d8576b"
             ],
             [
              0.6666666666666666,
              "#ed7953"
             ],
             [
              0.7777777777777778,
              "#fb9f3a"
             ],
             [
              0.8888888888888888,
              "#fdca26"
             ],
             [
              1,
              "#f0f921"
             ]
            ],
            "type": "heatmap"
           }
          ],
          "heatmapgl": [
           {
            "colorbar": {
             "outlinewidth": 0,
             "ticks": ""
            },
            "colorscale": [
             [
              0,
              "#0d0887"
             ],
             [
              0.1111111111111111,
              "#46039f"
             ],
             [
              0.2222222222222222,
              "#7201a8"
             ],
             [
              0.3333333333333333,
              "#9c179e"
             ],
             [
              0.4444444444444444,
              "#bd3786"
             ],
             [
              0.5555555555555556,
              "#d8576b"
             ],
             [
              0.6666666666666666,
              "#ed7953"
             ],
             [
              0.7777777777777778,
              "#fb9f3a"
             ],
             [
              0.8888888888888888,
              "#fdca26"
             ],
             [
              1,
              "#f0f921"
             ]
            ],
            "type": "heatmapgl"
           }
          ],
          "histogram": [
           {
            "marker": {
             "colorbar": {
              "outlinewidth": 0,
              "ticks": ""
             }
            },
            "type": "histogram"
           }
          ],
          "histogram2d": [
           {
            "colorbar": {
             "outlinewidth": 0,
             "ticks": ""
            },
            "colorscale": [
             [
              0,
              "#0d0887"
             ],
             [
              0.1111111111111111,
              "#46039f"
             ],
             [
              0.2222222222222222,
              "#7201a8"
             ],
             [
              0.3333333333333333,
              "#9c179e"
             ],
             [
              0.4444444444444444,
              "#bd3786"
             ],
             [
              0.5555555555555556,
              "#d8576b"
             ],
             [
              0.6666666666666666,
              "#ed7953"
             ],
             [
              0.7777777777777778,
              "#fb9f3a"
             ],
             [
              0.8888888888888888,
              "#fdca26"
             ],
             [
              1,
              "#f0f921"
             ]
            ],
            "type": "histogram2d"
           }
          ],
          "histogram2dcontour": [
           {
            "colorbar": {
             "outlinewidth": 0,
             "ticks": ""
            },
            "colorscale": [
             [
              0,
              "#0d0887"
             ],
             [
              0.1111111111111111,
              "#46039f"
             ],
             [
              0.2222222222222222,
              "#7201a8"
             ],
             [
              0.3333333333333333,
              "#9c179e"
             ],
             [
              0.4444444444444444,
              "#bd3786"
             ],
             [
              0.5555555555555556,
              "#d8576b"
             ],
             [
              0.6666666666666666,
              "#ed7953"
             ],
             [
              0.7777777777777778,
              "#fb9f3a"
             ],
             [
              0.8888888888888888,
              "#fdca26"
             ],
             [
              1,
              "#f0f921"
             ]
            ],
            "type": "histogram2dcontour"
           }
          ],
          "mesh3d": [
           {
            "colorbar": {
             "outlinewidth": 0,
             "ticks": ""
            },
            "type": "mesh3d"
           }
          ],
          "parcoords": [
           {
            "line": {
             "colorbar": {
              "outlinewidth": 0,
              "ticks": ""
             }
            },
            "type": "parcoords"
           }
          ],
          "scatter": [
           {
            "marker": {
             "colorbar": {
              "outlinewidth": 0,
              "ticks": ""
             }
            },
            "type": "scatter"
           }
          ],
          "scatter3d": [
           {
            "line": {
             "colorbar": {
              "outlinewidth": 0,
              "ticks": ""
             }
            },
            "marker": {
             "colorbar": {
              "outlinewidth": 0,
              "ticks": ""
             }
            },
            "type": "scatter3d"
           }
          ],
          "scattercarpet": [
           {
            "marker": {
             "colorbar": {
              "outlinewidth": 0,
              "ticks": ""
             }
            },
            "type": "scattercarpet"
           }
          ],
          "scattergeo": [
           {
            "marker": {
             "colorbar": {
              "outlinewidth": 0,
              "ticks": ""
             }
            },
            "type": "scattergeo"
           }
          ],
          "scattergl": [
           {
            "marker": {
             "colorbar": {
              "outlinewidth": 0,
              "ticks": ""
             }
            },
            "type": "scattergl"
           }
          ],
          "scattermapbox": [
           {
            "marker": {
             "colorbar": {
              "outlinewidth": 0,
              "ticks": ""
             }
            },
            "type": "scattermapbox"
           }
          ],
          "scatterpolar": [
           {
            "marker": {
             "colorbar": {
              "outlinewidth": 0,
              "ticks": ""
             }
            },
            "type": "scatterpolar"
           }
          ],
          "scatterpolargl": [
           {
            "marker": {
             "colorbar": {
              "outlinewidth": 0,
              "ticks": ""
             }
            },
            "type": "scatterpolargl"
           }
          ],
          "scatterternary": [
           {
            "marker": {
             "colorbar": {
              "outlinewidth": 0,
              "ticks": ""
             }
            },
            "type": "scatterternary"
           }
          ],
          "surface": [
           {
            "colorbar": {
             "outlinewidth": 0,
             "ticks": ""
            },
            "colorscale": [
             [
              0,
              "#0d0887"
             ],
             [
              0.1111111111111111,
              "#46039f"
             ],
             [
              0.2222222222222222,
              "#7201a8"
             ],
             [
              0.3333333333333333,
              "#9c179e"
             ],
             [
              0.4444444444444444,
              "#bd3786"
             ],
             [
              0.5555555555555556,
              "#d8576b"
             ],
             [
              0.6666666666666666,
              "#ed7953"
             ],
             [
              0.7777777777777778,
              "#fb9f3a"
             ],
             [
              0.8888888888888888,
              "#fdca26"
             ],
             [
              1,
              "#f0f921"
             ]
            ],
            "type": "surface"
           }
          ],
          "table": [
           {
            "cells": {
             "fill": {
              "color": "#EBF0F8"
             },
             "line": {
              "color": "white"
             }
            },
            "header": {
             "fill": {
              "color": "#C8D4E3"
             },
             "line": {
              "color": "white"
             }
            },
            "type": "table"
           }
          ]
         },
         "layout": {
          "annotationdefaults": {
           "arrowcolor": "#2a3f5f",
           "arrowhead": 0,
           "arrowwidth": 1
          },
          "colorscale": {
           "diverging": [
            [
             0,
             "#8e0152"
            ],
            [
             0.1,
             "#c51b7d"
            ],
            [
             0.2,
             "#de77ae"
            ],
            [
             0.3,
             "#f1b6da"
            ],
            [
             0.4,
             "#fde0ef"
            ],
            [
             0.5,
             "#f7f7f7"
            ],
            [
             0.6,
             "#e6f5d0"
            ],
            [
             0.7,
             "#b8e186"
            ],
            [
             0.8,
             "#7fbc41"
            ],
            [
             0.9,
             "#4d9221"
            ],
            [
             1,
             "#276419"
            ]
           ],
           "sequential": [
            [
             0,
             "#0d0887"
            ],
            [
             0.1111111111111111,
             "#46039f"
            ],
            [
             0.2222222222222222,
             "#7201a8"
            ],
            [
             0.3333333333333333,
             "#9c179e"
            ],
            [
             0.4444444444444444,
             "#bd3786"
            ],
            [
             0.5555555555555556,
             "#d8576b"
            ],
            [
             0.6666666666666666,
             "#ed7953"
            ],
            [
             0.7777777777777778,
             "#fb9f3a"
            ],
            [
             0.8888888888888888,
             "#fdca26"
            ],
            [
             1,
             "#f0f921"
            ]
           ],
           "sequentialminus": [
            [
             0,
             "#0d0887"
            ],
            [
             0.1111111111111111,
             "#46039f"
            ],
            [
             0.2222222222222222,
             "#7201a8"
            ],
            [
             0.3333333333333333,
             "#9c179e"
            ],
            [
             0.4444444444444444,
             "#bd3786"
            ],
            [
             0.5555555555555556,
             "#d8576b"
            ],
            [
             0.6666666666666666,
             "#ed7953"
            ],
            [
             0.7777777777777778,
             "#fb9f3a"
            ],
            [
             0.8888888888888888,
             "#fdca26"
            ],
            [
             1,
             "#f0f921"
            ]
           ]
          },
          "colorway": [
           "#636efa",
           "#EF553B",
           "#00cc96",
           "#ab63fa",
           "#FFA15A",
           "#19d3f3",
           "#FF6692",
           "#B6E880",
           "#FF97FF",
           "#FECB52"
          ],
          "font": {
           "color": "#2a3f5f"
          },
          "geo": {
           "bgcolor": "white",
           "lakecolor": "white",
           "landcolor": "#E5ECF6",
           "showlakes": true,
           "showland": true,
           "subunitcolor": "white"
          },
          "hoverlabel": {
           "align": "left"
          },
          "hovermode": "closest",
          "mapbox": {
           "style": "light"
          },
          "paper_bgcolor": "white",
          "plot_bgcolor": "#E5ECF6",
          "polar": {
           "angularaxis": {
            "gridcolor": "white",
            "linecolor": "white",
            "ticks": ""
           },
           "bgcolor": "#E5ECF6",
           "radialaxis": {
            "gridcolor": "white",
            "linecolor": "white",
            "ticks": ""
           }
          },
          "scene": {
           "xaxis": {
            "backgroundcolor": "#E5ECF6",
            "gridcolor": "white",
            "gridwidth": 2,
            "linecolor": "white",
            "showbackground": true,
            "ticks": "",
            "zerolinecolor": "white"
           },
           "yaxis": {
            "backgroundcolor": "#E5ECF6",
            "gridcolor": "white",
            "gridwidth": 2,
            "linecolor": "white",
            "showbackground": true,
            "ticks": "",
            "zerolinecolor": "white"
           },
           "zaxis": {
            "backgroundcolor": "#E5ECF6",
            "gridcolor": "white",
            "gridwidth": 2,
            "linecolor": "white",
            "showbackground": true,
            "ticks": "",
            "zerolinecolor": "white"
           }
          },
          "shapedefaults": {
           "line": {
            "color": "#2a3f5f"
           }
          },
          "ternary": {
           "aaxis": {
            "gridcolor": "white",
            "linecolor": "white",
            "ticks": ""
           },
           "baxis": {
            "gridcolor": "white",
            "linecolor": "white",
            "ticks": ""
           },
           "bgcolor": "#E5ECF6",
           "caxis": {
            "gridcolor": "white",
            "linecolor": "white",
            "ticks": ""
           }
          },
          "title": {
           "x": 0.05
          },
          "xaxis": {
           "automargin": true,
           "gridcolor": "white",
           "linecolor": "white",
           "ticks": "",
           "zerolinecolor": "white",
           "zerolinewidth": 2
          },
          "yaxis": {
           "automargin": true,
           "gridcolor": "white",
           "linecolor": "white",
           "ticks": "",
           "zerolinecolor": "white",
           "zerolinewidth": 2
          }
         }
        },
        "xaxis": {
         "anchor": "y",
         "autorange": true,
         "domain": [
          0,
          0.98
         ],
         "range": [
          1,
          1200
         ],
         "title": {
          "text": "total_iters"
         },
         "type": "linear"
        },
        "yaxis": {
         "anchor": "x",
         "autorange": true,
         "domain": [
          0,
          1
         ],
         "range": [
          -11.644357096354156,
          1704.685558268229
         ],
         "title": {
          "text": "train_loss"
         },
         "type": "linear"
        }
       }
      },
      "image/png": "[encoded data removed]",
      "text/html": [
       "<div>\n",
       "        \n",
       "        \n",
       "            <div id=\"dedf6b01-b994-4271-a10b-c4057a5443d0\" class=\"plotly-graph-div\" style=\"height:600px; width:100%;\"></div>\n",
       "            <script type=\"text/javascript\">\n",
       "                require([\"plotly\"], function(Plotly) {\n",
       "                    window.PLOTLYENV=window.PLOTLYENV || {};\n",
       "                    \n",
       "                if (document.getElementById(\"dedf6b01-b994-4271-a10b-c4057a5443d0\")) {\n",
       "                    Plotly.newPlot(\n",
       "                        'dedf6b01-b994-4271-a10b-c4057a5443d0',\n",
       "                        [{\"hoverlabel\": {\"namelength\": 0}, \"hovertemplate\": \"total_iters=%{x}<br>train_loss=%{y}\", \"legendgroup\": \"\", \"line\": {\"color\": \"#636efa\", \"dash\": \"solid\"}, \"mode\": \"lines\", \"name\": \"\", \"showlegend\": false, \"type\": \"scattergl\", \"x\": [1, 2, 3, 4, 5, 6, 7, 8, 9, 10, 11, 12, 13, 14, 15, 16, 17, 18, 19, 20, 21, 22, 23, 24, 25, 26, 27, 28, 29, 30, 31, 32, 33, 34, 35, 36, 37, 38, 39, 40, 41, 42, 43, 44, 45, 46, 47, 48, 49, 50, 51, 52, 53, 54, 55, 56, 57, 58, 59, 60, 61, 62, 63, 64, 65, 66, 67, 68, 69, 70, 71, 72, 73, 74, 75, 76, 77, 78, 79, 80, 81, 82, 83, 84, 85, 86, 87, 88, 89, 90, 91, 92, 93, 94, 95, 96, 97, 98, 99, 100, 101, 102, 103, 104, 105, 106, 107, 108, 109, 110, 111, 112, 113, 114, 115, 116, 117, 118, 119, 120, 121, 122, 123, 124, 125, 126, 127, 128, 129, 130, 131, 132, 133, 134, 135, 136, 137, 138, 139, 140, 141, 142, 143, 144, 145, 146, 147, 148, 149, 150, 151, 152, 153, 154, 155, 156, 157, 158, 159, 160, 161, 162, 163, 164, 165, 166, 167, 168, 169, 170, 171, 172, 173, 174, 175, 176, 177, 178, 179, 180, 181, 182, 183, 184, 185, 186, 187, 188, 189, 190, 191, 192, 193, 194, 195, 196, 197, 198, 199, 200, 201, 202, 203, 204, 205, 206, 207, 208, 209, 210, 211, 212, 213, 214, 215, 216, 217, 218, 219, 220, 221, 222, 223, 224, 225, 226, 227, 228, 229, 230, 231, 232, 233, 234, 235, 236, 237, 238, 239, 240, 241, 242, 243, 244, 245, 246, 247, 248, 249, 250, 251, 252, 253, 254, 255, 256, 257, 258, 259, 260, 261, 262, 263, 264, 265, 266, 267, 268, 269, 270, 271, 272, 273, 274, 275, 276, 277, 278, 279, 280, 281, 282, 283, 284, 285, 286, 287, 288, 289, 290, 291, 292, 293, 294, 295, 296, 297, 298, 299, 300, 301, 302, 303, 304, 305, 306, 307, 308, 309, 310, 311, 312, 313, 314, 315, 316, 317, 318, 319, 320, 321, 322, 323, 324, 325, 326, 327, 328, 329, 330, 331, 332, 333, 334, 335, 336, 337, 338, 339, 340, 341, 342, 343, 344, 345, 346, 347, 348, 349, 350, 351, 352, 353, 354, 355, 356, 357, 358, 359, 360, 361, 362, 363, 364, 365, 366, 367, 368, 369, 370, 371, 372, 373, 374, 375, 376, 377, 378, 379, 380, 381, 382, 383, 384, 385, 386, 387, 388, 389, 390, 391, 392, 393, 394, 395, 396, 397, 398, 399, 400, 401, 402, 403, 404, 405, 406, 407, 408, 409, 410, 411, 412, 413, 414, 415, 416, 417, 418, 419, 420, 421, 422, 423, 424, 425, 426, 427, 428, 429, 430, 431, 432, 433, 434, 435, 436, 437, 438, 439, 440, 441, 442, 443, 444, 445, 446, 447, 448, 449, 450, 451, 452, 453, 454, 455, 456, 457, 458, 459, 460, 461, 462, 463, 464, 465, 466, 467, 468, 469, 470, 471, 472, 473, 474, 475, 476, 477, 478, 479, 480, 481, 482, 483, 484, 485, 486, 487, 488, 489, 490, 491, 492, 493, 494, 495, 496, 497, 498, 499, 500, 501, 502, 503, 504, 505, 506, 507, 508, 509, 510, 511, 512, 513, 514, 515, 516, 517, 518, 519, 520, 521, 522, 523, 524, 525, 526, 527, 528, 529, 530, 531, 532, 533, 534, 535, 536, 537, 538, 539, 540, 541, 542, 543, 544, 545, 546, 547, 548, 549, 550, 551, 552, 553, 554, 555, 556, 557, 558, 559, 560, 561, 562, 563, 564, 565, 566, 567, 568, 569, 570, 571, 572, 573, 574, 575, 576, 577, 578, 579, 580, 581, 582, 583, 584, 585, 586, 587, 588, 589, 590, 591, 592, 593, 594, 595, 596, 597, 598, 599, 600, 601, 602, 603, 604, 605, 606, 607, 608, 609, 610, 611, 612, 613, 614, 615, 616, 617, 618, 619, 620, 621, 622, 623, 624, 625, 626, 627, 628, 629, 630, 631, 632, 633, 634, 635, 636, 637, 638, 639, 640, 641, 642, 643, 644, 645, 646, 647, 648, 649, 650, 651, 652, 653, 654, 655, 656, 657, 658, 659, 660, 661, 662, 663, 664, 665, 666, 667, 668, 669, 670, 671, 672, 673, 674, 675, 676, 677, 678, 679, 680, 681, 682, 683, 684, 685, 686, 687, 688, 689, 690, 691, 692, 693, 694, 695, 696, 697, 698, 699, 700, 701, 702, 703, 704, 705, 706, 707, 708, 709, 710, 711, 712, 713, 714, 715, 716, 717, 718, 719, 720, 721, 722, 723, 724, 725, 726, 727, 728, 729, 730, 731, 732, 733, 734, 735, 736, 737, 738, 739, 740, 741, 742, 743, 744, 745, 746, 747, 748, 749, 750, 751, 752, 753, 754, 755, 756, 757, 758, 759, 760, 761, 762, 763, 764, 765, 766, 767, 768, 769, 770, 771, 772, 773, 774, 775, 776, 777, 778, 779, 780, 781, 782, 783, 784, 785, 786, 787, 788, 789, 790, 791, 792, 793, 794, 795, 796, 797, 798, 799, 800, 801, 802, 803, 804, 805, 806, 807, 808, 809, 810, 811, 812, 813, 814, 815, 816, 817, 818, 819, 820, 821, 822, 823, 824, 825, 826, 827, 828, 829, 830, 831, 832, 833, 834, 835, 836, 837, 838, 839, 840, 841, 842, 843, 844, 845, 846, 847, 848, 849, 850, 851, 852, 853, 854, 855, 856, 857, 858, 859, 860, 861, 862, 863, 864, 865, 866, 867, 868, 869, 870, 871, 872, 873, 874, 875, 876, 877, 878, 879, 880, 881, 882, 883, 884, 885, 886, 887, 888, 889, 890, 891, 892, 893, 894, 895, 896, 897, 898, 899, 900, 901, 902, 903, 904, 905, 906, 907, 908, 909, 910, 911, 912, 913, 914, 915, 916, 917, 918, 919, 920, 921, 922, 923, 924, 925, 926, 927, 928, 929, 930, 931, 932, 933, 934, 935, 936, 937, 938, 939, 940, 941, 942, 943, 944, 945, 946, 947, 948, 949, 950, 951, 952, 953, 954, 955, 956, 957, 958, 959, 960, 961, 962, 963, 964, 965, 966, 967, 968, 969, 970, 971, 972, 973, 974, 975, 976, 977, 978, 979, 980, 981, 982, 983, 984, 985, 986, 987, 988, 989, 990, 991, 992, 993, 994, 995, 996, 997, 998, 999, 1000, 1001, 1002, 1003, 1004, 1005, 1006, 1007, 1008, 1009, 1010, 1011, 1012, 1013, 1014, 1015, 1016, 1017, 1018, 1019, 1020, 1021, 1022, 1023, 1024, 1025, 1026, 1027, 1028, 1029, 1030, 1031, 1032, 1033, 1034, 1035, 1036, 1037, 1038, 1039, 1040, 1041, 1042, 1043, 1044, 1045, 1046, 1047, 1048, 1049, 1050, 1051, 1052, 1053, 1054, 1055, 1056, 1057, 1058, 1059, 1060, 1061, 1062, 1063, 1064, 1065, 1066, 1067, 1068, 1069, 1070, 1071, 1072, 1073, 1074, 1075, 1076, 1077, 1078, 1079, 1080, 1081, 1082, 1083, 1084, 1085, 1086, 1087, 1088, 1089, 1090, 1091, 1092, 1093, 1094, 1095, 1096, 1097, 1098, 1099, 1100, 1101, 1102, 1103, 1104, 1105, 1106, 1107, 1108, 1109, 1110, 1111, 1112, 1113, 1114, 1115, 1116, 1117, 1118, 1119, 1120, 1121, 1122, 1123, 1124, 1125, 1126, 1127, 1128, 1129, 1130, 1131, 1132, 1133, 1134, 1135, 1136, 1137, 1138, 1139, 1140, 1141, 1142, 1143, 1144, 1145, 1146, 1147, 1148, 1149, 1150, 1151, 1152, 1153, 1154, 1155, 1156, 1157, 1158, 1159, 1160, 1161, 1162, 1163, 1164, 1165, 1166, 1167, 1168, 1169, 1170, 1171, 1172, 1173, 1174, 1175, 1176, 1177, 1178, 1179, 1180, 1181, 1182, 1183, 1184, 1185, 1186, 1187, 1188, 1189, 1190, 1191, 1192, 1193, 1194, 1195, 1196, 1197, 1198, 1199, 1200], \"xaxis\": \"x\", \"y\": [468.42625, 432.4655078125, 338.0645703125, 1232.073828125, 328.636640625, 300.3816015625, 298.03435546875, 528.3753125, 163.62619140625, 861.391015625, 317.8226953125, 120.141689453125, 549.993515625, 439.556484375, 936.816640625, 245.92611328125, 604.48625, 198.5235546875, 259.89630859375, 186.60892578125, 971.40203125, 165.61130859375, 396.4053515625, 281.2908984375, 520.553046875, 260.92478515625, 1154.71015625, 214.02568359375, 560.1448046875, 736.557734375, 314.584765625, 377.5026953125, 255.26873046875, 233.41765625, 187.47099609375, 266.68576171875, 182.19990234375, 905.470625, 359.575625, 191.21095703125, 452.004140625, 551.233515625, 477.32546875, 349.5909765625, 189.46205078125, 687.250078125, 340.46421875, 246.80525390625, 515.1619140625, 429.1771875, 218.52298828125, 602.1546875, 185.468203125, 294.37916015625, 603.668203125, 1152.57171875, 265.1587109375, 348.7010546875, 492.983125, 192.98173828125, 399.23515625, 936.2753125, 303.03681640625, 205.31533203125, 280.36001953125, 689.67921875, 976.108125, 125.63263671875, 252.62923828125, 365.735, 214.83076171875, 441.345546875, 357.932421875, 719.82703125, 901.433828125, 446.865, 310.74814453125, 270.6284765625, 489.8549609375, 674.120625, 184.840390625, 340.74765625, 209.83740234375, 160.498798828125, 308.54896484375, 675.2359375, 199.87431640625, 290.0265234375, 236.27693359375, 943.891953125, 565.214765625, 370.6587109375, 223.499453125, 275.28984375, 440.5942578125, 605.1400390625, 307.46615234375, 272.437265625, 543.79421875, 189.055, 436.0851171875, 298.33796875, 196.04484375, 495.7361328125, 579.5045703125, 287.281328125, 1222.796171875, 181.65259765625, 176.13818359375, 1099.1228125, 243.25076171875, 337.6394921875, 661.30453125, 560.71046875, 319.1004296875, 220.27703125, 217.77287109375, 386.4791015625, 682.886875, 201.93828125, 386.7208984375, 683.241953125, 225.01359375, 109.060380859375, 125.891123046875, 483.226484375, 607.6269140625, 924.89, 430.791953125, 360.4931640625, 383.6603515625, 250.23732421875, 635.12890625, 459.2734375, 227.46765625, 397.1681640625, 179.41525390625, 205.61771484375, 240.1349609375, 931.955390625, 328.34765625, 268.09484375, 433.780078125, 620.9040625, 268.8401953125, 199.9614453125, 420.6680078125, 170.18013671875, 231.86591796875, 657.718046875, 442.911953125, 162.955048828125, 1076.767734375, 957.221875, 356.3291796875, 173.85259765625, 465.700078125, 214.5434375, 198.802109375, 177.021796875, 524.708359375, 1015.057578125, 317.222890625, 221.1555078125, 581.2424609375, 206.19298828125, 347.7230078125, 685.3378125, 244.98123046875, 272.9987890625, 508.2162109375, 1476.13328125, 393.5553515625, 282.41390625, 240.41703125, 304.32857421875, 200.47248046875, 539.3703515625, 396.398828125, 229.51265625, 168.2175, 255.51052734375, 345.9933984375, 500.313515625, 213.40142578125, 938.352265625, 152.305615234375, 325.93203125, 654.2852734375, 702.45015625, 410.53609375, 451.1476953125, 396.28203125, 514.1380078125, 294.947578125, 180.47015625, 228.98099609375, 589.790859375, 183.7141796875, 376.13546875, 673.2871875, 363.607578125, 282.86447265625, 1021.657578125, 260.23599609375, 719.146484375, 186.53556640625, 236.20208984375, 147.098115234375, 189.10736328125, 197.5355078125, 1618.8690625, 410.341953125, 298.74685546875, 345.62140625, 333.560234375, 155.4321484375, 183.794609375, 179.41630859375, 444.7391015625, 212.20646484375, 304.4857421875, 894.688671875, 809.866328125, 835.750703125, 192.56853515625, 179.64708984375, 396.21203125, 263.34513671875, 928.35625, 391.730625, 559.4376171875, 162.68779296875, 526.954609375, 652.111875, 168.61421875, 117.594423828125, 508.7359375, 267.8141015625, 355.9256640625, 224.80970703125, 844.32375, 448.0221875, 250.93048828125, 201.73505859375, 166.7279296875, 708.588671875, 456.368515625, 426.308203125, 285.809140625, 993.973203125, 140.011650390625, 543.1411328125, 205.14521484375, 220.7260546875, 250.99091796875, 313.2491796875, 732.36953125, 449.68109375, 209.930859375, 1241.1196875, 159.56189453125, 509.048046875, 366.30203125, 532.556796875, 306.68783203125, 262.20826171875, 189.38677734375, 427.5815234375, 157.8315625, 533.679609375, 404.96046875, 262.7133203125, 171.0011328125, 505.2870703125, 1043.103203125, 261.03734375, 168.1754296875, 153.07283203125, 704.87171875, 224.1350390625, 291.4363671875, 657.414296875, 359.5492578125, 876.81515625, 329.0641015625, 379.1762109375, 571.753515625, 547.8764453125, 271.9196484375, 161.921474609375, 275.273828125, 145.12609375, 685.1984375, 515.767734375, 276.46439453125, 211.7848046875, 477.5963671875, 170.2429296875, 1027.849453125, 283.62392578125, 305.9315625, 292.3658984375, 585.1359765625, 188.5080859375, 739.209765625, 614.7961328125, 214.684140625, 290.17974609375, 186.90380859375, 565.00546875, 926.0184375, 1030.055703125, 194.22638671875, 278.55458984375, 414.7813671875, 554.2768359375, 229.65103515625, 197.99146484375, 443.7151171875, 626.1978125, 326.9676953125, 210.7300390625, 340.3860546875, 405.843984375, 173.370703125, 308.84279296875, 1004.518046875, 339.452109375, 539.44140625, 444.2524609375, 866.067265625, 240.0408203125, 158.140263671875, 258.32103515625, 207.49234375, 491.3510546875, 852.873046875, 277.63427734375, 253.023046875, 157.2337109375, 474.0635546875, 476.2671875, 210.65767578125, 207.356640625, 698.31125, 313.51912109375, 556.4986328125, 170.48095703125, 318.5830859375, 564.451953125, 882.367421875, 670.9521875, 216.298515625, 661.05, 483.85421875, 146.042333984375, 403.531484375, 185.5996875, 384.0719921875, 271.930546875, 276.30546875, 725.568203125, 270.44154296875, 423.4328125, 404.1521484375, 908.573125, 339.1312890625, 389.2361328125, 604.67953125, 175.88322265625, 179.69658203125, 760.270859375, 396.3737109375, 118.524013671875, 352.057421875, 405.48171875, 611.6858984375, 489.8557421875, 235.041171875, 173.74640625, 236.15970703125, 361.1411328125, 1122.102890625, 383.8920703125, 343.5987890625, 356.3356640625, 1216.238125, 630.4203125, 242.58986328125, 149.359951171875, 242.4375, 312.64546875, 230.391640625, 478.6383984375, 379.1971875, 542.9306640625, 379.8391796875, 528.722421875, 413.8941796875, 257.3041015625, 462.41078125, 844.70125, 138.521513671875, 223.29595703125, 255.751640625, 634.136875, 159.4388671875, 376.298125, 296.17919921875, 523.1869140625, 1405.34390625, 247.1225390625, 162.2175, 643.4028125, 203.7499609375, 308.14865234375, 222.72384765625, 361.5891796875, 132.263212890625, 450.2122265625, 451.70546875, 397.21078125, 183.5798828125, 419.9881640625, 122.364267578125, 885.67609375, 491.6228125, 199.15751953125, 715.43609375, 174.5473828125, 230.02740234375, 248.825390625, 215.872265625, 1048.991875, 600.34359375, 502.54296875, 296.84193359375, 264.53064453125, 213.91833984375, 112.656875, 245.4809375, 696.287265625, 363.0206640625, 550.3124609375, 163.17326171875, 203.16392578125, 370.6796875, 192.936015625, 857.30890625, 502.9409375, 275.81470703125, 584.776640625, 496.6698046875, 187.77021484375, 268.12302734375, 246.35818359375, 154.4803515625, 319.37880859375, 654.5141796875, 428.777578125, 424.57203125, 240.0011328125, 294.873203125, 437.931875, 951.247265625, 405.6378125, 295.12142578125, 340.17125, 523.8852734375, 609.7017578125, 184.15330078125, 814.465546875, 580.4494140625, 206.9991796875, 246.28830078125, 357.3707421875, 394.8176171875, 443.2158984375, 140.813359375, 211.69580078125, 309.98689453125, 207.934765625, 150.908642578125, 200.94041015625, 240.90283203125, 313.21322265625, 170.7956640625, 1464.99609375, 260.48640625, 400.4044921875, 914.961953125, 798.11671875, 196.4225, 274.8685546875, 555.6216015625, 340.49546875, 646.7713671875, 394.6645703125, 317.02380859375, 403.5503515625, 283.4544140625, 154.053720703125, 424.6670703125, 1149.016875, 160.720732421875, 400.006328125, 608.3712890625, 233.39140625, 117.38630859375, 244.29048828125, 717.994453125, 160.549697265625, 636.6469921875, 193.793671875, 190.73953125, 704.81796875, 166.227578125, 234.61748046875, 346.127265625, 908.847578125, 185.1582421875, 190.9407421875, 669.31390625, 179.7304296875, 446.3553125, 278.49498046875, 394.27375, 406.043984375, 144.928037109375, 593.2515234375, 250.181015625, 291.64412109375, 385.6878125, 150.665205078125, 315.03869140625, 1213.725703125, 341.06390625, 473.7428515625, 316.21921875, 311.72798828125, 375.7109375, 764.3971875, 289.80173828125, 469.1009375, 235.88939453125, 288.5109375, 1022.086328125, 241.0041796875, 171.6323828125, 274.89953125, 197.6509765625, 320.10443359375, 513.7051171875, 214.043359375, 522.7177734375, 338.6869921875, 268.46041015625, 560.2391015625, 865.803828125, 186.7949609375, 421.3015625, 187.25291015625, 313.53125, 241.41595703125, 1134.66953125, 696.29578125, 381.324609375, 604.559609375, 237.43361328125, 140.479912109375, 300.1270703125, 643.6084375, 100.73267578125, 236.89328125, 113.5895703125, 249.00572265625, 365.281484375, 141.09919921875, 1106.01375, 809.78265625, 184.537734375, 272.1416015625, 409.7701953125, 347.585625, 218.290703125, 375.6633203125, 187.4, 662.00828125, 145.15091796875, 205.518359375, 346.6906640625, 1251.99375, 349.451015625, 201.16994140625, 291.74033203125, 512.8523828125, 214.89490234375, 312.98880859375, 226.19435546875, 432.62140625, 226.33517578125, 257.76556640625, 167.47728515625, 287.15240234375, 565.8385546875, 436.7683203125, 384.0640234375, 576.35375, 173.33875, 300.14796875, 865.925859375, 641.4826953125, 196.19392578125, 156.587939453125, 239.0329296875, 113.154365234375, 224.3866015625, 297.7992578125, 398.43828125, 218.338125, 1182.5371875, 721.09, 339.777421875, 654.7348046875, 176.68375, 355.935390625, 135.30615234375, 538.740390625, 243.64609375, 158.27115234375, 1279.19109375, 377.6582421875, 164.10826171875, 212.83744140625, 443.6230859375, 901.728203125, 209.3082421875, 200.82751953125, 132.818408203125, 339.95234375, 351.7176953125, 333.0897265625, 588.0236328125, 289.722109375, 949.18421875, 197.16494140625, 191.48818359375, 311.61419921875, 299.85556640625, 146.177568359375, 565.0811328125, 182.0416015625, 401.7359765625, 823.649609375, 660.340078125, 231.258359375, 631.3563671875, 173.0014453125, 281.1480859375, 180.2890234375, 226.85244140625, 213.5909375, 568.3425390625, 662.75375, 374.1411328125, 402.9572265625, 223.23654296875, 679.335078125, 103.868369140625, 133.611884765625, 827.195234375, 848.594765625, 421.825546875, 174.5407421875, 211.09845703125, 191.62470703125, 196.26978515625, 992.55484375, 572.0178125, 241.858125, 231.32458984375, 524.65390625, 160.920283203125, 606.28328125, 256.05302734375, 232.31578125, 171.69908203125, 393.44890625, 984.68375, 243.78751953125, 212.939296875, 131.97541015625, 528.006953125, 517.1465625, 225.72220703125, 503.30421875, 575.9575390625, 175.9905859375, 287.39677734375, 98.891953125, 140.14923828125, 322.028671875, 342.443671875, 127.85166015625, 279.4246875, 819.983125, 970.735390625, 426.4553515625, 269.76765625, 823.235625, 181.21884765625, 246.81673828125, 189.969921875, 132.2300390625, 126.5051171875, 949.14484375, 403.1673046875, 727.1203125, 203.36509765625, 290.395546875, 628.96875, 841.02015625, 376.8999609375, 295.751484375, 258.91779296875, 469.2094921875, 244.31798828125, 225.93900390625, 261.707890625, 531.684375, 212.20708984375, 1244.061640625, 140.780810546875, 315.91189453125, 178.15146484375, 390.354765625, 452.44203125, 389.2466796875, 228.35908203125, 545.6962109375, 164.6361328125, 143.053525390625, 315.25841796875, 174.82822265625, 493.5521484375, 212.099453125, 274.7482421875, 438.073125, 253.979453125, 461.145234375, 326.00146484375, 103.161103515625, 1068.995546875, 581.5937109375, 195.37169921875, 341.4716796875, 476.396953125, 292.5325390625, 1213.758671875, 568.3531640625, 189.833671875, 207.793046875, 189.78638671875, 227.58150390625, 176.9065234375, 240.72021484375, 207.62009765625, 408.675, 338.20703125, 187.4980078125, 677.592109375, 209.28634765625, 161.440458984375, 318.736796875, 336.3731640625, 299.407890625, 1227.669296875, 217.32958984375, 149.678759765625, 167.0473046875, 317.61119140625, 177.75615234375, 355.8334375, 1316.66265625, 338.91875, 159.863583984375, 155.532705078125, 300.19228515625, 469.013125, 197.308828125, 622.358671875, 160.89451171875, 131.1200390625, 196.93275390625, 203.12263671875, 543.6498046875, 1156.770859375, 440.6873828125, 696.76328125, 223.7794921875, 139.87029296875, 341.3169140625, 286.11599609375, 313.81072265625, 101.94642578125, 223.15333984375, 504.78359375, 178.685859375, 1275.33140625, 250.8577734375, 154.306279296875, 232.506640625, 864.767578125, 437.239375, 153.9242578125, 297.72205078125, 141.707939453125, 706.573203125, 685.458046875, 319.5844140625, 507.6923046875, 263.34125, 501.049140625, 210.7202734375, 87.309501953125, 857.416015625, 198.124296875, 259.50470703125, 562.60015625, 264.24892578125, 146.68859375, 508.878203125, 975.741015625, 876.124140625, 199.99763671875, 285.1618359375, 322.0122265625, 163.69205078125, 162.2214453125, 522.94671875, 106.407470703125, 177.2201953125, 641.618828125, 267.13361328125, 376.573671875, 298.62783203125, 851.561015625, 271.26349609375, 297.57400390625, 187.12201171875, 801.7990625, 210.0302734375, 189.9198828125, 138.35021484375, 942.168359375, 427.7358203125, 215.29578125, 261.0616015625, 244.83349609375, 296.064921875, 854.470078125, 520.0791796875, 334.9448046875, 184.36947265625, 144.0421875, 245.909140625, 302.2775390625, 131.739013671875, 306.753125, 557.952578125, 214.20349609375, 511.826640625, 1160.29421875, 227.24515625, 558.570078125, 240.46892578125, 160.9621484375, 985.140859375, 147.892587890625, 274.9164453125, 537.768046875, 252.5425, 737.709140625, 329.340234375, 139.193056640625, 220.3530859375, 347.377265625, 965.978203125, 256.721640625, 1179.8146875, 184.22013671875, 136.593388671875, 278.231796875, 186.48345703125, 227.7270703125, 336.2526171875, 203.9380078125, 342.927421875, 282.26376953125, 294.81966796875, 608.301328125, 173.864609375, 161.621728515625, 210.72337890625, 164.9935546875, 424.4893359375, 171.71115234375, 815.055234375, 806.234453125, 459.4712109375, 354.3021875, 173.69498046875, 324.07595703125, 394.4666796875, 181.58849609375, 219.40654296875, 758.176015625, 274.33681640625, 116.293291015625, 349.4830078125, 817.3621875, 509.3797265625, 646.7133984375, 231.23314453125, 196.6132421875, 130.05931640625, 584.16609375, 175.25619140625, 182.80080078125, 239.836171875, 536.92328125, 316.35359375, 173.63287109375, 768.076640625, 871.000234375, 810.98828125, 321.45984375, 144.208515625, 514.7779296875, 227.5184765625, 119.458857421875, 244.84001953125, 409.3650390625, 554.4309375, 79.817109375, 141.0154296875, 886.743046875, 684.132109375, 263.86705078125, 375.55421875, 211.3416796875, 458.2015234375, 857.01203125, 289.22197265625, 398.9278515625, 273.73341796875, 189.34357421875, 266.69369140625, 237.2317578125, 429.3969140625, 592.9576171875, 486.7703125, 139.1109375, 200.135078125, 228.38904296875, 228.90291015625, 456.0978125, 260.6248046875, 288.6151171875, 1168.860234375, 130.3948046875, 366.9539453125, 416.8922265625, 267.66275390625, 201.8562109375, 143.789580078125, 561.2450390625, 197.84892578125, 1394.5215625, 492.8478515625, 389.346015625, 167.6070703125, 169.21146484375, 241.25546875, 493.45578125, 804.68203125, 189.59794921875, 598.8293359375, 213.25978515625, 386.484453125, 224.8184765625, 419.45546875, 118.53509765625, 404.6141015625, 253.4251171875, 342.1692578125, 196.2394921875, 274.77318359375, 172.9544921875, 83.877109375, 174.9655859375, 122.780810546875, 477.4765625, 856.707578125, 385.86828125, 908.433359375, 376.1552734375, 239.80498046875, 842.911015625, 162.965166015625, 143.852607421875, 158.077998046875, 200.2016015625, 779.367421875, 386.394296875, 828.306484375, 231.0581640625, 247.23625, 168.34015625, 219.87228515625, 420.5354296875, 900.310625, 795.662578125, 186.76177734375, 284.37234375, 230.4765625, 374.1757421875, 148.434482421875, 74.172138671875, 157.172841796875, 573.95359375, 920.929296875, 424.0485546875, 102.282568359375, 496.59265625, 565.548671875, 183.87791015625, 719.962890625, 303.84306640625, 187.17142578125, 153.174248046875, 152.651533203125, 212.00466796875, 360.31609375, 548.4821484375, 159.98337890625, 358.1404296875, 230.08259765625, 509.8890234375, 911.421171875, 185.89666015625, 334.3525390625, 285.59923828125, 289.64021484375, 122.879921875, 319.33365234375, 158.4296484375, 426.581875, 705.85171875, 203.50859375, 314.8621875, 1301.252109375, 305.33216796875, 79.8100341796875, 163.635068359375, 388.2687890625, 186.18654296875, 823.778046875, 181.81048828125, 490.1630078125, 480.4137890625, 139.744599609375, 155.276865234375, 249.57291015625, 355.0724609375, 282.553984375, 317.9955859375, 354.4469140625, 522.4725, 601.6898828125, 601.17046875, 267.49544921875, 397.863203125, 191.45919921875, 201.90490234375, 133.813271484375, 252.9833203125, 399.8657421875, 223.774375, 869.4196875, 372.7880078125, 649.744765625, 118.15853515625, 203.96830078125, 376.48, 225.6269921875, 897.517890625, 313.64712890625, 411.1614453125, 156.507734375, 177.2552734375, 222.3390625, 597.2088671875, 173.61423828125, 710.848203125, 199.31693359375, 839.823125, 498.4191796875, 449.79390625, 567.8239453125, 108.34470703125, 221.188828125, 215.63697265625, 162.592275390625, 148.779638671875, 276.6426953125, 322.196796875, 194.97318359375, 158.581259765625, 228.83939453125, 480.5105078125, 219.145078125, 191.9441015625, 549.4734375, 833.079921875, 273.5262109375, 697.809140625, 197.41876953125, 152.532421875, 961.376640625, 288.62279296875, 170.1465625, 822.939609375, 210.4299609375, 484.2087109375, 197.60544921875, 494.4990625, 243.55427734375, 221.74294921875, 152.166796875, 177.47478515625, 203.127109375, 170.14982421875, 136.972109375, 639.6733984375, 337.8838671875, 632.337578125, 786.00234375, 238.8598046875, 550.40953125, 222.39064453125, 210.45029296875, 615.56921875, 157.179921875, 449.96078125, 136.2176171875, 263.0135546875, 875.673671875, 595.2533203125, 223.37865234375, 276.230234375, 366.3861328125, 203.57103515625, 139.14345703125, 147.4990234375, 382.368359375, 1102.457265625, 267.57384765625, 232.4544921875, 516.176484375, 112.72951171875, 152.04955078125, 162.373212890625, 141.6408984375, 690.73703125, 462.9092578125, 330.4847265625, 203.06169921875, 178.07611328125, 219.546875, 291.9562890625, 206.7363671875, 1237.297734375, 282.24982421875, 135.22138671875, 582.0759765625, 152.990634765625, 171.311796875, 217.40140625, 129.184150390625, 449.4701953125, 183.71640625, 527.397109375, 355.7838671875, 480.36609375, 813.950390625, 407.8284375, 165.12470703125, 309.07322265625], \"yaxis\": \"y\"}],\n",
       "                        {\"height\": 600, \"legend\": {\"tracegroupgap\": 0}, \"margin\": {\"t\": 60}, \"template\": {\"data\": {\"bar\": [{\"error_x\": {\"color\": \"#2a3f5f\"}, \"error_y\": {\"color\": \"#2a3f5f\"}, \"marker\": {\"line\": {\"color\": \"#E5ECF6\", \"width\": 0.5}}, \"type\": \"bar\"}], \"barpolar\": [{\"marker\": {\"line\": {\"color\": \"#E5ECF6\", \"width\": 0.5}}, \"type\": \"barpolar\"}], \"carpet\": [{\"aaxis\": {\"endlinecolor\": \"#2a3f5f\", \"gridcolor\": \"white\", \"linecolor\": \"white\", \"minorgridcolor\": \"white\", \"startlinecolor\": \"#2a3f5f\"}, \"baxis\": {\"endlinecolor\": \"#2a3f5f\", \"gridcolor\": \"white\", \"linecolor\": \"white\", \"minorgridcolor\": \"white\", \"startlinecolor\": \"#2a3f5f\"}, \"type\": \"carpet\"}], \"choropleth\": [{\"colorbar\": {\"outlinewidth\": 0, \"ticks\": \"\"}, \"type\": \"choropleth\"}], \"contour\": [{\"colorbar\": {\"outlinewidth\": 0, \"ticks\": \"\"}, \"colorscale\": [[0.0, \"#0d0887\"], [0.1111111111111111, \"#46039f\"], [0.2222222222222222, \"#7201a8\"], [0.3333333333333333, \"#9c179e\"], [0.4444444444444444, \"#bd3786\"], [0.5555555555555556, \"#d8576b\"], [0.6666666666666666, \"#ed7953\"], [0.7777777777777778, \"#fb9f3a\"], [0.8888888888888888, \"#fdca26\"], [1.0, \"#f0f921\"]], \"type\": \"contour\"}], \"contourcarpet\": [{\"colorbar\": {\"outlinewidth\": 0, \"ticks\": \"\"}, \"type\": \"contourcarpet\"}], \"heatmap\": [{\"colorbar\": {\"outlinewidth\": 0, \"ticks\": \"\"}, \"colorscale\": [[0.0, \"#0d0887\"], [0.1111111111111111, \"#46039f\"], [0.2222222222222222, \"#7201a8\"], [0.3333333333333333, \"#9c179e\"], [0.4444444444444444, \"#bd3786\"], [0.5555555555555556, \"#d8576b\"], [0.6666666666666666, \"#ed7953\"], [0.7777777777777778, \"#fb9f3a\"], [0.8888888888888888, \"#fdca26\"], [1.0, \"#f0f921\"]], \"type\": \"heatmap\"}], \"heatmapgl\": [{\"colorbar\": {\"outlinewidth\": 0, \"ticks\": \"\"}, \"colorscale\": [[0.0, \"#0d0887\"], [0.1111111111111111, \"#46039f\"], [0.2222222222222222, \"#7201a8\"], [0.3333333333333333, \"#9c179e\"], [0.4444444444444444, \"#bd3786\"], [0.5555555555555556, \"#d8576b\"], [0.6666666666666666, \"#ed7953\"], [0.7777777777777778, \"#fb9f3a\"], [0.8888888888888888, \"#fdca26\"], [1.0, \"#f0f921\"]], \"type\": \"heatmapgl\"}], \"histogram\": [{\"marker\": {\"colorbar\": {\"outlinewidth\": 0, \"ticks\": \"\"}}, \"type\": \"histogram\"}], \"histogram2d\": [{\"colorbar\": {\"outlinewidth\": 0, \"ticks\": \"\"}, \"colorscale\": [[0.0, \"#0d0887\"], [0.1111111111111111, \"#46039f\"], [0.2222222222222222, \"#7201a8\"], [0.3333333333333333, \"#9c179e\"], [0.4444444444444444, \"#bd3786\"], [0.5555555555555556, \"#d8576b\"], [0.6666666666666666, \"#ed7953\"], [0.7777777777777778, \"#fb9f3a\"], [0.8888888888888888, \"#fdca26\"], [1.0, \"#f0f921\"]], \"type\": \"histogram2d\"}], \"histogram2dcontour\": [{\"colorbar\": {\"outlinewidth\": 0, \"ticks\": \"\"}, \"colorscale\": [[0.0, \"#0d0887\"], [0.1111111111111111, \"#46039f\"], [0.2222222222222222, \"#7201a8\"], [0.3333333333333333, \"#9c179e\"], [0.4444444444444444, \"#bd3786\"], [0.5555555555555556, \"#d8576b\"], [0.6666666666666666, \"#ed7953\"], [0.7777777777777778, \"#fb9f3a\"], [0.8888888888888888, \"#fdca26\"], [1.0, \"#f0f921\"]], \"type\": \"histogram2dcontour\"}], \"mesh3d\": [{\"colorbar\": {\"outlinewidth\": 0, \"ticks\": \"\"}, \"type\": \"mesh3d\"}], \"parcoords\": [{\"line\": {\"colorbar\": {\"outlinewidth\": 0, \"ticks\": \"\"}}, \"type\": \"parcoords\"}], \"scatter\": [{\"marker\": {\"colorbar\": {\"outlinewidth\": 0, \"ticks\": \"\"}}, \"type\": \"scatter\"}], \"scatter3d\": [{\"line\": {\"colorbar\": {\"outlinewidth\": 0, \"ticks\": \"\"}}, \"marker\": {\"colorbar\": {\"outlinewidth\": 0, \"ticks\": \"\"}}, \"type\": \"scatter3d\"}], \"scattercarpet\": [{\"marker\": {\"colorbar\": {\"outlinewidth\": 0, \"ticks\": \"\"}}, \"type\": \"scattercarpet\"}], \"scattergeo\": [{\"marker\": {\"colorbar\": {\"outlinewidth\": 0, \"ticks\": \"\"}}, \"type\": \"scattergeo\"}], \"scattergl\": [{\"marker\": {\"colorbar\": {\"outlinewidth\": 0, \"ticks\": \"\"}}, \"type\": \"scattergl\"}], \"scattermapbox\": [{\"marker\": {\"colorbar\": {\"outlinewidth\": 0, \"ticks\": \"\"}}, \"type\": \"scattermapbox\"}], \"scatterpolar\": [{\"marker\": {\"colorbar\": {\"outlinewidth\": 0, \"ticks\": \"\"}}, \"type\": \"scatterpolar\"}], \"scatterpolargl\": [{\"marker\": {\"colorbar\": {\"outlinewidth\": 0, \"ticks\": \"\"}}, \"type\": \"scatterpolargl\"}], \"scatterternary\": [{\"marker\": {\"colorbar\": {\"outlinewidth\": 0, \"ticks\": \"\"}}, \"type\": \"scatterternary\"}], \"surface\": [{\"colorbar\": {\"outlinewidth\": 0, \"ticks\": \"\"}, \"colorscale\": [[0.0, \"#0d0887\"], [0.1111111111111111, \"#46039f\"], [0.2222222222222222, \"#7201a8\"], [0.3333333333333333, \"#9c179e\"], [0.4444444444444444, \"#bd3786\"], [0.5555555555555556, \"#d8576b\"], [0.6666666666666666, \"#ed7953\"], [0.7777777777777778, \"#fb9f3a\"], [0.8888888888888888, \"#fdca26\"], [1.0, \"#f0f921\"]], \"type\": \"surface\"}], \"table\": [{\"cells\": {\"fill\": {\"color\": \"#EBF0F8\"}, \"line\": {\"color\": \"white\"}}, \"header\": {\"fill\": {\"color\": \"#C8D4E3\"}, \"line\": {\"color\": \"white\"}}, \"type\": \"table\"}]}, \"layout\": {\"annotationdefaults\": {\"arrowcolor\": \"#2a3f5f\", \"arrowhead\": 0, \"arrowwidth\": 1}, \"colorscale\": {\"diverging\": [[0, \"#8e0152\"], [0.1, \"#c51b7d\"], [0.2, \"#de77ae\"], [0.3, \"#f1b6da\"], [0.4, \"#fde0ef\"], [0.5, \"#f7f7f7\"], [0.6, \"#e6f5d0\"], [0.7, \"#b8e186\"], [0.8, \"#7fbc41\"], [0.9, \"#4d9221\"], [1, \"#276419\"]], \"sequential\": [[0.0, \"#0d0887\"], [0.1111111111111111, \"#46039f\"], [0.2222222222222222, \"#7201a8\"], [0.3333333333333333, \"#9c179e\"], [0.4444444444444444, \"#bd3786\"], [0.5555555555555556, \"#d8576b\"], [0.6666666666666666, \"#ed7953\"], [0.7777777777777778, \"#fb9f3a\"], [0.8888888888888888, \"#fdca26\"], [1.0, \"#f0f921\"]], \"sequentialminus\": [[0.0, \"#0d0887\"], [0.1111111111111111, \"#46039f\"], [0.2222222222222222, \"#7201a8\"], [0.3333333333333333, \"#9c179e\"], [0.4444444444444444, \"#bd3786\"], [0.5555555555555556, \"#d8576b\"], [0.6666666666666666, \"#ed7953\"], [0.7777777777777778, \"#fb9f3a\"], [0.8888888888888888, \"#fdca26\"], [1.0, \"#f0f921\"]]}, \"colorway\": [\"#636efa\", \"#EF553B\", \"#00cc96\", \"#ab63fa\", \"#FFA15A\", \"#19d3f3\", \"#FF6692\", \"#B6E880\", \"#FF97FF\", \"#FECB52\"], \"font\": {\"color\": \"#2a3f5f\"}, \"geo\": {\"bgcolor\": \"white\", \"lakecolor\": \"white\", \"landcolor\": \"#E5ECF6\", \"showlakes\": true, \"showland\": true, \"subunitcolor\": \"white\"}, \"hoverlabel\": {\"align\": \"left\"}, \"hovermode\": \"closest\", \"mapbox\": {\"style\": \"light\"}, \"paper_bgcolor\": \"white\", \"plot_bgcolor\": \"#E5ECF6\", \"polar\": {\"angularaxis\": {\"gridcolor\": \"white\", \"linecolor\": \"white\", \"ticks\": \"\"}, \"bgcolor\": \"#E5ECF6\", \"radialaxis\": {\"gridcolor\": \"white\", \"linecolor\": \"white\", \"ticks\": \"\"}}, \"scene\": {\"xaxis\": {\"backgroundcolor\": \"#E5ECF6\", \"gridcolor\": \"white\", \"gridwidth\": 2, \"linecolor\": \"white\", \"showbackground\": true, \"ticks\": \"\", \"zerolinecolor\": \"white\"}, \"yaxis\": {\"backgroundcolor\": \"#E5ECF6\", \"gridcolor\": \"white\", \"gridwidth\": 2, \"linecolor\": \"white\", \"showbackground\": true, \"ticks\": \"\", \"zerolinecolor\": \"white\"}, \"zaxis\": {\"backgroundcolor\": \"#E5ECF6\", \"gridcolor\": \"white\", \"gridwidth\": 2, \"linecolor\": \"white\", \"showbackground\": true, \"ticks\": \"\", \"zerolinecolor\": \"white\"}}, \"shapedefaults\": {\"line\": {\"color\": \"#2a3f5f\"}}, \"ternary\": {\"aaxis\": {\"gridcolor\": \"white\", \"linecolor\": \"white\", \"ticks\": \"\"}, \"baxis\": {\"gridcolor\": \"white\", \"linecolor\": \"white\", \"ticks\": \"\"}, \"bgcolor\": \"#E5ECF6\", \"caxis\": {\"gridcolor\": \"white\", \"linecolor\": \"white\", \"ticks\": \"\"}}, \"title\": {\"x\": 0.05}, \"xaxis\": {\"automargin\": true, \"gridcolor\": \"white\", \"linecolor\": \"white\", \"ticks\": \"\", \"zerolinecolor\": \"white\", \"zerolinewidth\": 2}, \"yaxis\": {\"automargin\": true, \"gridcolor\": \"white\", \"linecolor\": \"white\", \"ticks\": \"\", \"zerolinecolor\": \"white\", \"zerolinewidth\": 2}}}, \"xaxis\": {\"anchor\": \"y\", \"domain\": [0.0, 0.98], \"title\": {\"text\": \"total_iters\"}}, \"yaxis\": {\"anchor\": \"x\", \"domain\": [0.0, 1.0], \"title\": {\"text\": \"train_loss\"}}},\n",
       "                        {\"responsive\": true}\n",
       "                    ).then(function(){\n",
       "                            \n",
       "var gd = document.getElementById('dedf6b01-b994-4271-a10b-c4057a5443d0');\n",
       "var x = new MutationObserver(function (mutations, observer) {{\n",
       "        var display = window.getComputedStyle(gd).display;\n",
       "        if (!display || display === 'none') {{\n",
       "            console.log([gd, 'removed!']);\n",
       "            Plotly.purge(gd);\n",
       "            observer.disconnect();\n",
       "        }}\n",
       "}});\n",
       "\n",
       "// Listen for the removal of the full notebook cells\n",
       "var notebookContainer = gd.closest('#notebook-container');\n",
       "if (notebookContainer) {{\n",
       "    x.observe(notebookContainer, {childList: true});\n",
       "}}\n",
       "\n",
       "// Listen for the clearing of the current output cell\n",
       "var outputEl = gd.closest('.output');\n",
       "if (outputEl) {{\n",
       "    x.observe(outputEl, {childList: true});\n",
       "}}\n",
       "\n",
       "                        })\n",
       "                };\n",
       "                });\n",
       "            </script>\n",
       "        </div>"
      ]
     },
     "metadata": {},
     "output_type": "display_data"
    }
   ],
   "source": [
    "fig = px.line(trainer.step_info, x='total_iters', y='train_loss')\n",
    "fig.show()\n"
   ]
  },
  {
   "cell_type": "markdown",
   "metadata": {},
   "source": [
    "# Model testing"
   ]
  },
  {
   "cell_type": "code",
   "execution_count": 21,
   "metadata": {},
   "outputs": [],
   "source": [
    "y_pred = trainer.predict(x_test)"
   ]
  },
  {
   "cell_type": "code",
   "execution_count": 22,
   "metadata": {},
   "outputs": [
    {
     "data": {
      "application/vnd.plotly.v1+json": {
       "config": {
        "plotlyServerURL": "https://plot.ly"
       },
       "data": [
        {
         "hoverlabel": {
          "namelength": 0
         },
         "hovertemplate": "pred=%{x}<br>true=%{y}",
         "legendgroup": "",
         "marker": {
          "color": "#636efa",
          "symbol": "circle"
         },
         "mode": "markers",
         "name": "",
         "showlegend": false,
         "type": "scatter",
         "x": [
          301.05157470703125,
          358.7203063964844,
          182.62362670898438,
          230.75875854492188,
          333.176513671875,
          327.8858947753906,
          674.0927124023438,
          647.0977172851562,
          3941.390869140625,
          700.2504272460938,
          423.625244140625,
          1173.2532958984375,
          202.4102783203125,
          257.8710632324219,
          220.12347412109375,
          289.1766052246094,
          252.6282958984375,
          466.3365783691406,
          163.58621215820312,
          100.36963653564453,
          343.33502197265625,
          236.2279052734375,
          368.39935302734375,
          224.8172607421875,
          404.2864074707031,
          192.40774536132812,
          173.14369201660156,
          784.8658447265625,
          235.35055541992188,
          151.84466552734375,
          293.6872253417969,
          740.2766723632812,
          161.91754150390625,
          173.99920654296875,
          867.760498046875,
          245.64791870117188,
          1193.8018798828125,
          189.381591796875,
          527.643310546875,
          332.6172180175781,
          564.41796875,
          194.900390625,
          201.48260498046875,
          1566.561767578125,
          797.7957153320312,
          246.27947998046875,
          256.72918701171875,
          824.0655517578125,
          3542.002685546875,
          445.5435791015625,
          152.60089111328125,
          182.00454711914062,
          335.69122314453125,
          1397.44140625,
          357.7911071777344,
          414.6102294921875,
          1402.267578125,
          271.634033203125,
          210.12210083007812,
          637.8598022460938,
          160.05374145507812,
          251.51168823242188,
          86.00536346435547,
          2318.854736328125,
          155.03924560546875,
          198.6149139404297,
          636.018798828125,
          990.3545532226562,
          1390.0819091796875,
          316.2281799316406,
          264.18524169921875,
          464.6175842285156,
          213.84237670898438,
          145.12353515625,
          1557.425537109375,
          403.0789794921875,
          1327.7022705078125,
          485.4801025390625,
          285.58697509765625,
          829.5578002929688,
          646.7843017578125,
          2112.18310546875,
          499.82598876953125,
          647.7567138671875,
          833.1962280273438,
          188.38978576660156,
          380.08038330078125,
          241.53526306152344,
          510.02044677734375,
          268.9403381347656,
          504.9927062988281,
          194.61114501953125,
          268.3067932128906,
          291.66949462890625,
          482.49298095703125,
          296.0611572265625,
          277.7119140625,
          122.16158294677734,
          253.1829833984375,
          272.90997314453125,
          828.2327880859375,
          141.1366729736328,
          1272.7071533203125,
          173.123779296875,
          123.65155029296875,
          306.2501220703125,
          433.17645263671875,
          834.9158325195312,
          426.41693115234375,
          218.11679077148438,
          317.04827880859375,
          195.8660888671875,
          109.61663055419922,
          409.7325744628906,
          281.3316650390625,
          348.77398681640625,
          659.4575805664062,
          193.17086791992188,
          212.42562866210938,
          781.6561889648438,
          267.3500671386719,
          497.9752502441406,
          235.55682373046875,
          626.3349609375,
          678.9727172851562,
          1722.4376220703125,
          253.90390014648438,
          1975.2061767578125,
          266.9295349121094,
          201.75860595703125,
          374.4210205078125,
          486.57000732421875,
          324.76080322265625,
          342.23211669921875,
          359.30389404296875,
          181.29014587402344,
          421.49371337890625,
          824.42578125,
          454.8052978515625,
          434.7300109863281,
          2034.4246826171875,
          821.2090454101562,
          1709.3819580078125,
          119.74976348876953,
          1108.68505859375,
          254.45645141601562,
          213.8720703125,
          274.8714599609375,
          513.6720581054688,
          480.073974609375,
          415.83453369140625,
          651.61962890625,
          442.45599365234375,
          115.4163589477539,
          145.42529296875,
          191.02899169921875,
          519.1708374023438,
          210.7677459716797,
          1966.1207275390625,
          684.2262573242188,
          133.59136962890625,
          409.7813720703125,
          248.83584594726562,
          239.17080688476562,
          183.54808044433594,
          138.12583923339844,
          213.86692810058594,
          1325.587646484375,
          243.1804962158203,
          1139.7791748046875,
          346.0810241699219,
          237.2412109375,
          243.61334228515625,
          203.9633026123047,
          390.43328857421875,
          271.2066650390625,
          906.8381958007812,
          848.73681640625,
          174.77178955078125,
          636.7855224609375,
          909.1209106445312,
          109.10784912109375,
          136.5278778076172,
          2287.064208984375,
          374.33636474609375,
          260.15460205078125,
          145.22666931152344,
          188.13845825195312,
          294.770751953125,
          294.84759521484375,
          2743.4716796875,
          203.07859802246094,
          373.55426025390625,
          775.6690063476562,
          182.503662109375,
          236.51617431640625,
          1129.45068359375,
          191.68089294433594,
          1197.0345458984375,
          528.0202026367188,
          164.2685089111328,
          1220.4149169921875,
          209.82119750976562,
          401.0059814453125,
          192.0297393798828,
          592.77587890625,
          254.17147827148438,
          532.3309936523438,
          168.07626342773438,
          228.01498413085938,
          514.7848510742188,
          426.1796875,
          223.40902709960938,
          307.94378662109375,
          711.0518798828125,
          945.7190551757812,
          1226.0137939453125,
          266.1059875488281,
          121.3947525024414,
          407.4105224609375,
          427.53228759765625,
          341.5223388671875,
          360.4081115722656,
          575.1843872070312,
          379.97003173828125,
          426.4363098144531,
          607.8314819335938,
          501.8739318847656,
          225.7427215576172,
          182.2484130859375,
          378.71929931640625,
          140.15211486816406,
          264.02423095703125,
          814.8827514648438,
          109.82463073730469,
          397.39752197265625,
          437.36016845703125,
          204.78671264648438,
          261.68109130859375,
          553.0562133789062,
          479.49627685546875,
          218.89498901367188,
          616.1886596679688,
          128.06039428710938,
          330.8499755859375,
          327.8619384765625,
          823.5053100585938,
          224.05841064453125,
          204.28860473632812,
          172.38426208496094,
          350.4648742675781,
          106.8199234008789,
          697.8214721679688,
          1077.4163818359375,
          384.7567138671875,
          354.89599609375,
          2524.882080078125,
          1096.588623046875,
          464.57928466796875,
          712.8729248046875,
          172.9441680908203,
          227.9090118408203,
          355.73052978515625,
          463.9958190917969,
          222.03131103515625,
          265.27203369140625,
          507.00360107421875,
          153.73699951171875,
          2535.601806640625,
          618.8340454101562,
          178.56661987304688,
          852.9754638671875,
          311.9284362792969,
          171.53372192382812,
          112.76398468017578,
          202.908203125,
          881.8140869140625,
          146.128173828125,
          1444.4405517578125,
          429.0917663574219,
          286.1291809082031,
          485.1377258300781,
          531.6553344726562,
          124.58851623535156,
          247.69076538085938,
          258.06787109375,
          358.41949462890625,
          1095.5150146484375,
          415.6277770996094,
          232.149169921875,
          150.30625915527344,
          371.4883728027344,
          87.40454864501953,
          970.1370239257812,
          194.79025268554688,
          331.94256591796875,
          229.95684814453125,
          729.1950073242188,
          378.71929931640625,
          379.126708984375,
          348.62982177734375,
          87.1471176147461,
          1214.0413818359375,
          363.57049560546875,
          382.4569396972656,
          1083.8021240234375,
          91.85279846191406,
          310.60357666015625,
          479.49627685546875,
          619.5956420898438,
          419.69488525390625,
          348.66473388671875,
          315.45648193359375,
          714.5825805664062,
          160.64407348632812,
          317.9920959472656,
          227.83428955078125,
          630.2389526367188,
          282.99603271484375,
          465.3056640625,
          1117.472412109375,
          378.71929931640625,
          159.9616241455078,
          249.08779907226562,
          200.58901977539062,
          1232.7310791015625,
          1166.6351318359375,
          256.9270324707031,
          712.013916015625,
          188.08677673339844,
          207.83148193359375,
          89.93888092041016,
          1006.4876098632812,
          1463.829345703125,
          964.3101196289062,
          189.60989379882812,
          311.8881530761719,
          212.97280883789062,
          185.08425903320312,
          558.5733032226562,
          312.4960632324219,
          290.93670654296875,
          440.2902526855469,
          298.45440673828125,
          588.5183715820312,
          147.1097412109375,
          159.48709106445312,
          235.26318359375,
          146.4812774658203,
          531.5753784179688,
          331.445068359375,
          195.23712158203125,
          151.75576782226562,
          359.8707580566406,
          945.9625244140625,
          606.4810180664062,
          1464.6541748046875,
          530.551513671875,
          304.6787109375,
          261.01593017578125,
          141.3109893798828,
          238.22488403320312,
          86.75695037841797,
          905.796875,
          545.6537475585938,
          184.7873077392578,
          212.7324981689453,
          122.86956024169922,
          190.859375,
          172.30442810058594,
          560.3609008789062,
          229.91632080078125,
          412.9053955078125,
          907.7929077148438,
          300.58282470703125,
          433.623779296875,
          249.96035766601562,
          368.70166015625,
          617.1580200195312,
          663.1821899414062,
          217.6688995361328,
          141.32461547851562,
          173.81243896484375,
          251.57955932617188,
          865.4306640625,
          157.43463134765625,
          341.0812683105469,
          216.19775390625,
          440.7519836425781,
          211.81161499023438,
          205.90585327148438,
          425.1170349121094,
          843.1427612304688,
          197.2689208984375,
          254.96311950683594,
          262.3149108886719,
          663.4022216796875,
          251.08456420898438,
          305.22802734375,
          533.6605834960938,
          554.7183837890625,
          167.0587921142578,
          860.0958862304688,
          1917.1302490234375,
          374.683837890625,
          382.2464599609375,
          206.58090209960938,
          315.5296630859375,
          305.2798156738281,
          256.85955810546875,
          380.7035827636719,
          359.4344482421875,
          310.3909912109375,
          1120.4324951171875,
          377.9574890136719,
          127.50521850585938,
          261.00140380859375,
          419.4415588378906,
          1037.0880126953125,
          218.068603515625,
          238.1524658203125,
          1305.0177001953125,
          647.8084106445312,
          804.6184692382812,
          175.2842254638672,
          1329.3372802734375,
          157.79293823242188,
          228.71002197265625,
          235.9669189453125,
          817.9730834960938,
          298.5782165527344,
          196.420654296875,
          200.34405517578125,
          348.31976318359375,
          824.3480834960938,
          706.4067993164062,
          1421.3701171875,
          577.62939453125,
          252.06117248535156,
          142.9663543701172,
          169.501953125,
          134.02166748046875,
          141.00238037109375,
          462.592041015625,
          143.92446899414062,
          383.31298828125,
          352.0758056640625,
          361.29583740234375,
          547.5418090820312,
          326.25274658203125,
          692.8609008789062,
          444.21124267578125,
          171.0609130859375,
          315.20587158203125,
          879.063232421875,
          871.7051391601562,
          197.37945556640625,
          385.4710693359375,
          840.0502319335938,
          143.91482543945312,
          402.9911193847656,
          575.6013793945312,
          329.909912109375,
          168.95523071289062,
          359.3761291503906,
          459.1471252441406,
          1690.770751953125,
          193.37344360351562,
          325.4106140136719,
          225.84356689453125,
          251.34359741210938,
          580.7485961914062,
          1250.7611083984375,
          136.05007934570312,
          713.6453857421875,
          434.8659362792969,
          522.737060546875,
          235.61419677734375,
          194.75732421875,
          626.4182739257812,
          291.3475341796875,
          1282.7425537109375,
          136.55398559570312,
          303.3394775390625,
          1422.7852783203125,
          1161.134033203125,
          272.1834411621094,
          851.1358032226562,
          932.9315185546875,
          234.82369995117188,
          213.21591186523438,
          465.6044921875,
          444.87225341796875,
          879.8407592773438,
          580.5737915039062,
          196.4076385498047,
          1308.998046875,
          487.9239196777344,
          880.460693359375,
          756.65966796875,
          164.3473358154297,
          861.915771484375,
          238.013671875,
          1098.6563720703125,
          643.1050415039062,
          172.60321044921875,
          250.10508728027344,
          341.5252685546875,
          460.420166015625,
          224.4609375,
          200.49557495117188,
          148.9287109375,
          752.7368774414062,
          240.26046752929688,
          314.2818603515625,
          227.7880859375,
          241.53526306152344,
          286.8787536621094,
          248.73199462890625,
          344.3258056640625,
          219.50375366210938,
          172.9459228515625,
          218.63681030273438,
          275.6592102050781,
          393.37176513671875,
          506.7236328125,
          643.0880737304688,
          192.19915771484375,
          489.62921142578125,
          784.2243041992188,
          767.2222900390625,
          190.16807556152344,
          1207.1314697265625,
          425.4637756347656,
          342.91717529296875,
          132.11581420898438,
          332.4326477050781,
          149.1909942626953,
          637.372802734375,
          746.1492309570312,
          1201.2430419921875,
          180.680419921875,
          1043.1419677734375,
          208.46640014648438,
          222.82894897460938,
          90.01358032226562,
          397.6094665527344,
          865.1837768554688,
          814.2969360351562,
          497.7354431152344,
          389.76605224609375,
          322.02001953125,
          281.4195556640625,
          731.8445434570312,
          224.37515258789062,
          221.19598388671875,
          1188.705078125,
          2474.463623046875,
          130.60186767578125,
          465.365478515625,
          206.14926147460938,
          2743.28125,
          207.07766723632812,
          140.90670776367188,
          299.19305419921875,
          364.234130859375,
          1835.5361328125,
          429.30218505859375,
          209.91281127929688,
          174.56626892089844,
          3385.8818359375,
          128.5771484375,
          1022.3054809570312,
          183.26101684570312,
          385.37994384765625,
          407.2364501953125,
          318.9610290527344,
          195.37205505371094,
          615.6554565429688,
          493.5228271484375,
          435.22039794921875,
          325.56365966796875,
          293.3435974121094,
          207.97032165527344,
          930.9829711914062,
          153.15792846679688,
          548.1934204101562,
          821.0831909179688,
          1378.8431396484375,
          133.75367736816406,
          231.49533081054688,
          291.3574523925781,
          324.70123291015625,
          268.7377624511719,
          86.8857192993164,
          1553.1112060546875,
          240.30177307128906,
          875.6854858398438,
          109.62067413330078,
          213.04150390625
         ],
         "xaxis": "x",
         "y": [
          245.3949737548828,
          283.96697998046875,
          110.56817626953125,
          267.30999755859375,
          287.42724609375,
          242.0230255126953,
          776.404296875,
          483.6283264160156,
          3984.12109375,
          792.4104614257812,
          308.2537841796875,
          1042.3221435546875,
          173.89744567871094,
          240.589599609375,
          302.5765075683594,
          289.86492919921875,
          262.0463562011719,
          377.9421081542969,
          48.14426040649414,
          65.82244873046875,
          207.03175354003906,
          187.50350952148438,
          397.1641540527344,
          122.85965728759766,
          435.4654541015625,
          138.17410278320312,
          218.01356506347656,
          1488.9981689453125,
          182.63363647460938,
          34.612667083740234,
          299.6693420410156,
          549.7526245117188,
          99.29004669189453,
          101.04473876953125,
          627.8191528320312,
          146.19664001464844,
          1088.536376953125,
          124.29886627197266,
          517.2362060546875,
          334.8092041015625,
          608.2713623046875,
          670.1571044921875,
          176.79331970214844,
          1277.5133056640625,
          751.6408081054688,
          217.48585510253906,
          198.0770721435547,
          493.8096618652344,
          2584.30712890625,
          421.73431396484375,
          118.78022003173828,
          272.942626953125,
          350.3930358886719,
          1120.506591796875,
          419.59649658203125,
          297.556640625,
          1630.9090576171875,
          269.33013916015625,
          211.76377868652344,
          723.9487915039062,
          77.42633056640625,
          220.45407104492188,
          152.1003875732422,
          2348.958251953125,
          242.412841796875,
          196.46755981445312,
          851.1851196289062,
          1077.1082763671875,
          1178.41162109375,
          287.6935119628906,
          305.1585388183594,
          345.3371887207031,
          204.8520965576172,
          28.94281578063965,
          1438.623046875,
          544.9324340820312,
          1261.943603515625,
          552.541259765625,
          202.196533203125,
          818.6580810546875,
          462.6025390625,
          2100.18798828125,
          523.7537841796875,
          568.7785034179688,
          768.9059448242188,
          112.29486846923828,
          677.3139038085938,
          217.5121307373047,
          487.7994689941406,
          318.810302734375,
          570.6622314453125,
          75.0170669555664,
          213.4365997314453,
          297.2102966308594,
          388.0222473144531,
          306.019775390625,
          281.0293273925781,
          66.05929565429688,
          206.0552978515625,
          274.8033447265625,
          845.2069702148438,
          141.37753295898438,
          936.421875,
          82.76415252685547,
          1108.219482421875,
          143.23446655273438,
          319.9895324707031,
          1151.760009765625,
          447.26318359375,
          160.54029846191406,
          307.85992431640625,
          113.79393768310547,
          61.92416000366211,
          455.7978820800781,
          186.64488220214844,
          354.12939453125,
          628.912353515625,
          66.84010314941406,
          27.52914810180664,
          714.9765014648438,
          200.59695434570312,
          439.0237731933594,
          75.71437072753906,
          868.6787109375,
          1289.1275634765625,
          1617.8013916015625,
          122.00967407226562,
          2003.3082275390625,
          212.7598114013672,
          113.16448211669922,
          533.3228149414062,
          413.3533935546875,
          308.0039978027344,
          88.66193389892578,
          362.27191162109375,
          84.79183197021484,
          468.1658935546875,
          901.2772216796875,
          507.9178771972656,
          449.98834228515625,
          2325.132568359375,
          1011.6503295898438,
          2191.5283203125,
          715.2268676757812,
          1565.177978515625,
          124.89447021484375,
          50.55546951293945,
          330.8437194824219,
          395.6172180175781,
          523.7274169921875,
          476.6416931152344,
          497.6809387207031,
          252.546630859375,
          257.036865234375,
          140.82447814941406,
          92.95127868652344,
          634.1097412109375,
          73.31568145751953,
          2762.07421875,
          557.4668579101562,
          99.7035903930664,
          341.7083435058594,
          114.89435577392578,
          217.6239776611328,
          103.23951721191406,
          25.928476333618164,
          46.09358596801758,
          1313.0789794921875,
          347.75048828125,
          892.398193359375,
          519.6431274414062,
          261.5438537597656,
          248.2250518798828,
          191.21250915527344,
          329.60638427734375,
          54.231388092041016,
          1193.505615234375,
          752.6220092773438,
          137.35101318359375,
          804.175048828125,
          956.6412353515625,
          243.8032684326172,
          190.3502960205078,
          1734.2989501953125,
          469.0822448730469,
          212.1764373779297,
          33.654571533203125,
          243.84530639648438,
          547.2396240234375,
          304.89044189453125,
          2502.013427734375,
          113.02073669433594,
          501.3760986328125,
          735.448486328125,
          99.81303405761719,
          142.65484619140625,
          3072.869384765625,
          92.52057647705078,
          827.7156982421875,
          439.1931457519531,
          83.31097412109375,
          2179.06103515625,
          170.29664611816406,
          555.7200927734375,
          82.00614929199219,
          579.3547973632812,
          210.54833984375,
          461.5679016113281,
          161.33213806152344,
          82.1076889038086,
          476.3894348144531,
          445.552734375,
          243.46640014648438,
          302.7113952636719,
          604.6564331054688,
          984.8563232421875,
          1263.5596923828125,
          259.1754150390625,
          89.515380859375,
          646.3735961914062,
          693.8870239257812,
          497.6738586425781,
          287.493408203125,
          665.055419921875,
          318.26324462890625,
          428.6484375,
          533.0130004882812,
          407.4671630859375,
          142.2108154296875,
          287.876708984375,
          282.6474304199219,
          160.80274963378906,
          296.8853454589844,
          1438.1700439453125,
          241.50828552246094,
          342.6291198730469,
          230.51736450195312,
          208.2490234375,
          345.973876953125,
          680.7781372070312,
          559.3072509765625,
          234.31126403808594,
          665.0259399414062,
          166.11915588378906,
          334.79345703125,
          946.3717041015625,
          694.0665283203125,
          257.1092224121094,
          63.052738189697266,
          128.92588806152344,
          316.94122314453125,
          30.334518432617188,
          280.6880798339844,
          880.9629516601562,
          280.4745788574219,
          409.90399169921875,
          2112.780029296875,
          1098.685546875,
          459.27239990234375,
          762.2841186523438,
          100.40324401855469,
          206.23690795898438,
          307.9960021972656,
          549.5364379882812,
          127.18439483642578,
          258.4862976074219,
          493.8445739746094,
          64.60443878173828,
          2105.0849609375,
          629.216552734375,
          87.73809814453125,
          1258.642822265625,
          269.1739501953125,
          121.95832061767578,
          296.7750244140625,
          379.65380859375,
          1054.0982666015625,
          149.9608917236328,
          1712.932861328125,
          445.6891784667969,
          113.02184295654297,
          474.9809875488281,
          405.9981994628906,
          42.499778747558594,
          251.99032592773438,
          298.7648620605469,
          313.3594055175781,
          839.6005859375,
          238.7244873046875,
          82.59306335449219,
          127.25322723388672,
          319.05853271484375,
          53.62175750732422,
          682.2813110351562,
          204.37899780273438,
          265.6334533691406,
          876.28564453125,
          734.3356323242188,
          287.869140625,
          367.2705383300781,
          280.32281494140625,
          82.87962341308594,
          1401.63916015625,
          315.543701171875,
          471.82684326171875,
          858.4373168945312,
          111.75141906738281,
          307.3976135253906,
          484.7164611816406,
          533.4490356445312,
          741.7471923828125,
          302.1732177734375,
          247.51145935058594,
          818.6214599609375,
          156.75033569335938,
          316.4974060058594,
          246.15298461914062,
          698.629150390625,
          133.1757354736328,
          359.6455993652344,
          1051.076416015625,
          283.5045471191406,
          72.4402084350586,
          106.96442413330078,
          131.1380615234375,
          1069.4990234375,
          1935.8470458984375,
          259.3377990722656,
          662.0514526367188,
          128.11891174316406,
          290.1021423339844,
          108.83087921142578,
          1113.6695556640625,
          1399.1536865234375,
          663.211181640625,
          167.58181762695312,
          209.72740173339844,
          1279.7041015625,
          214.3868408203125,
          684.7922973632812,
          427.6186218261719,
          255.33258056640625,
          399.4574890136719,
          117.41743469238281,
          558.5319213867188,
          430.7874450683594,
          188.28431701660156,
          204.3323211669922,
          30.944339752197266,
          485.783203125,
          313.799072265625,
          110.43885040283203,
          814.0552368164062,
          489.7666015625,
          1140.447998046875,
          628.1591796875,
          949.5402221679688,
          542.8145751953125,
          345.3859558105469,
          33.61565017700195,
          142.55030822753906,
          109.6175308227539,
          80.34314727783203,
          929.690185546875,
          625.1547241210938,
          145.57559204101562,
          172.57406616210938,
          128.47010803222656,
          51.75934600830078,
          117.04643249511719,
          714.54443359375,
          152.6180419921875,
          396.07342529296875,
          836.7485961914062,
          202.94216918945312,
          347.2324523925781,
          338.1656799316406,
          412.4035949707031,
          441.2801513671875,
          691.2337646484375,
          225.73951721191406,
          88.82017517089844,
          130.88124084472656,
          214.3733367919922,
          693.22119140625,
          177.02337646484375,
          226.410888671875,
          166.60902404785156,
          360.179443359375,
          226.2609405517578,
          84.13837432861328,
          345.0339660644531,
          1013.0972900390625,
          271.5121765136719,
          280.7777404785156,
          270.6672058105469,
          796.2816772460938,
          349.6133728027344,
          230.37619018554688,
          517.9290771484375,
          341.998046875,
          146.32447814941406,
          835.8253173828125,
          1163.9686279296875,
          194.87249755859375,
          382.34405517578125,
          117.87300872802734,
          183.59381103515625,
          225.4580078125,
          273.5875244140625,
          405.8972473144531,
          271.8124694824219,
          217.3224639892578,
          1070.2467041015625,
          154.64593505859375,
          36.773101806640625,
          85.33839416503906,
          447.7905578613281,
          1040.7464599609375,
          310.78839111328125,
          782.6456909179688,
          1155.2939453125,
          1359.3084716796875,
          629.562255859375,
          203.11868286132812,
          2052.83935546875,
          110.0738296508789,
          179.4195098876953,
          121.6879653930664,
          637.1677856445312,
          160.36410522460938,
          72.11426544189453,
          154.25796508789062,
          346.3074645996094,
          734.4208374023438,
          785.265380859375,
          856.9163818359375,
          557.8997192382812,
          185.65699768066406,
          137.77645874023438,
          173.16317749023438,
          62.17112731933594,
          261.4507751464844,
          507.0709228515625,
          147.94515991210938,
          487.52105712890625,
          352.52313232421875,
          394.644287109375,
          557.0842895507812,
          249.0086212158203,
          506.9747009277344,
          621.966796875,
          95.54371643066406,
          214.9376678466797,
          602.9197387695312,
          529.6210327148438,
          99.19754791259766,
          407.0938720703125,
          1264.3968505859375,
          285.6408996582031,
          306.0877380371094,
          792.1260375976562,
          323.2305908203125,
          273.1697692871094,
          346.0801696777344,
          481.38262939453125,
          1404.9715576171875,
          122.825927734375,
          246.32022094726562,
          230.39089965820312,
          137.47183227539062,
          529.2749633789062,
          1132.520751953125,
          263.1504211425781,
          832.2298583984375,
          427.06396484375,
          504.2755432128906,
          288.3003234863281,
          295.69635009765625,
          666.9739379882812,
          243.73202514648438,
          768.314453125,
          85.23184967041016,
          114.33189392089844,
          849.4332885742188,
          1139.203369140625,
          165.73968505859375,
          948.48291015625,
          1122.7232666015625,
          140.5593719482422,
          203.27719116210938,
          485.8771057128906,
          579.339599609375,
          739.72314453125,
          543.839111328125,
          180.97068786621094,
          1243.421875,
          467.97784423828125,
          892.0332641601562,
          731.49365234375,
          240.82249450683594,
          554.9323120117188,
          59.69054412841797,
          949.1586303710938,
          514.9933471679688,
          90.62617492675781,
          248.3343505859375,
          268.7535095214844,
          470.83709716796875,
          102.87960052490234,
          138.92147827148438,
          92.4696273803711,
          643.4360961914062,
          54.50074005126953,
          516.0800170898438,
          275.4081726074219,
          217.56558227539062,
          189.08828735351562,
          243.28709411621094,
          286.372802734375,
          136.57962036132812,
          147.3466033935547,
          142.13836669921875,
          609.0969848632812,
          306.6333923339844,
          452.5822448730469,
          544.0172729492188,
          188.00103759765625,
          354.17547607421875,
          762.3378295898438,
          679.2453002929688,
          192.67620849609375,
          1172.283203125,
          365.7400207519531,
          300.8729553222656,
          160.77780151367188,
          268.4249572753906,
          159.69456481933594,
          842.1051635742188,
          775.317138671875,
          1263.570556640625,
          46.52903366088867,
          1033.9892578125,
          205.1877899169922,
          133.49171447753906,
          48.27211380004883,
          337.7312927246094,
          905.8029174804688,
          1075.0455322265625,
          552.1060180664062,
          455.91119384765625,
          309.4005432128906,
          346.6241149902344,
          532.8469848632812,
          112.2880859375,
          174.86093139648438,
          1058.6458740234375,
          2594.417236328125,
          143.00399780273438,
          457.95794677734375,
          182.89112854003906,
          2531.0888671875,
          188.66563415527344,
          145.2952117919922,
          165.31056213378906,
          365.8920593261719,
          1529.0843505859375,
          424.5238952636719,
          179.259521484375,
          125.87567901611328,
          3255.65625,
          148.56231689453125,
          1338.830078125,
          209.63494873046875,
          351.11590576171875,
          456.11065673828125,
          298.30780029296875,
          184.5342559814453,
          489.6341857910156,
          459.5817565917969,
          432.5032958984375,
          311.5349426269531,
          101.42098999023438,
          167.81642150878906,
          822.0186767578125,
          83.57111358642578,
          523.5973510742188,
          706.5774536132812,
          1028.2022705078125,
          74.00484466552734,
          218.4325408935547,
          368.5836486816406,
          345.0082702636719,
          330.0935363769531,
          80.13813018798828,
          1593.629638671875,
          130.10842895507812,
          504.0545654296875,
          261.546630859375,
          123.15321350097656
         ],
         "yaxis": "y"
        }
       ],
       "layout": {
        "autosize": true,
        "legend": {
         "tracegroupgap": 0
        },
        "margin": {
         "t": 60
        },
        "template": {
         "data": {
          "bar": [
           {
            "error_x": {
             "color": "#2a3f5f"
            },
            "error_y": {
             "color": "#2a3f5f"
            },
            "marker": {
             "line": {
              "color": "#E5ECF6",
              "width": 0.5
             }
            },
            "type": "bar"
           }
          ],
          "barpolar": [
           {
            "marker": {
             "line": {
              "color": "#E5ECF6",
              "width": 0.5
             }
            },
            "type": "barpolar"
           }
          ],
          "carpet": [
           {
            "aaxis": {
             "endlinecolor": "#2a3f5f",
             "gridcolor": "white",
             "linecolor": "white",
             "minorgridcolor": "white",
             "startlinecolor": "#2a3f5f"
            },
            "baxis": {
             "endlinecolor": "#2a3f5f",
             "gridcolor": "white",
             "linecolor": "white",
             "minorgridcolor": "white",
             "startlinecolor": "#2a3f5f"
            },
            "type": "carpet"
           }
          ],
          "choropleth": [
           {
            "colorbar": {
             "outlinewidth": 0,
             "ticks": ""
            },
            "type": "choropleth"
           }
          ],
          "contour": [
           {
            "colorbar": {
             "outlinewidth": 0,
             "ticks": ""
            },
            "colorscale": [
             [
              0,
              "#0d0887"
             ],
             [
              0.1111111111111111,
              "#46039f"
             ],
             [
              0.2222222222222222,
              "#7201a8"
             ],
             [
              0.3333333333333333,
              "#9c179e"
             ],
             [
              0.4444444444444444,
              "#bd3786"
             ],
             [
              0.5555555555555556,
              "#d8576b"
             ],
             [
              0.6666666666666666,
              "#ed7953"
             ],
             [
              0.7777777777777778,
              "#fb9f3a"
             ],
             [
              0.8888888888888888,
              "#fdca26"
             ],
             [
              1,
              "#f0f921"
             ]
            ],
            "type": "contour"
           }
          ],
          "contourcarpet": [
           {
            "colorbar": {
             "outlinewidth": 0,
             "ticks": ""
            },
            "type": "contourcarpet"
           }
          ],
          "heatmap": [
           {
            "colorbar": {
             "outlinewidth": 0,
             "ticks": ""
            },
            "colorscale": [
             [
              0,
              "#0d0887"
             ],
             [
              0.1111111111111111,
              "#46039f"
             ],
             [
              0.2222222222222222,
              "#7201a8"
             ],
             [
              0.3333333333333333,
              "#9c179e"
             ],
             [
              0.4444444444444444,
              "#bd3786"
             ],
             [
              0.5555555555555556,
              "#d8576b"
             ],
             [
              0.6666666666666666,
              "#ed7953"
             ],
             [
              0.7777777777777778,
              "#fb9f3a"
             ],
             [
              0.8888888888888888,
              "#fdca26"
             ],
             [
              1,
              "#f0f921"
             ]
            ],
            "type": "heatmap"
           }
          ],
          "heatmapgl": [
           {
            "colorbar": {
             "outlinewidth": 0,
             "ticks": ""
            },
            "colorscale": [
             [
              0,
              "#0d0887"
             ],
             [
              0.1111111111111111,
              "#46039f"
             ],
             [
              0.2222222222222222,
              "#7201a8"
             ],
             [
              0.3333333333333333,
              "#9c179e"
             ],
             [
              0.4444444444444444,
              "#bd3786"
             ],
             [
              0.5555555555555556,
              "#d8576b"
             ],
             [
              0.6666666666666666,
              "#ed7953"
             ],
             [
              0.7777777777777778,
              "#fb9f3a"
             ],
             [
              0.8888888888888888,
              "#fdca26"
             ],
             [
              1,
              "#f0f921"
             ]
            ],
            "type": "heatmapgl"
           }
          ],
          "histogram": [
           {
            "marker": {
             "colorbar": {
              "outlinewidth": 0,
              "ticks": ""
             }
            },
            "type": "histogram"
           }
          ],
          "histogram2d": [
           {
            "colorbar": {
             "outlinewidth": 0,
             "ticks": ""
            },
            "colorscale": [
             [
              0,
              "#0d0887"
             ],
             [
              0.1111111111111111,
              "#46039f"
             ],
             [
              0.2222222222222222,
              "#7201a8"
             ],
             [
              0.3333333333333333,
              "#9c179e"
             ],
             [
              0.4444444444444444,
              "#bd3786"
             ],
             [
              0.5555555555555556,
              "#d8576b"
             ],
             [
              0.6666666666666666,
              "#ed7953"
             ],
             [
              0.7777777777777778,
              "#fb9f3a"
             ],
             [
              0.8888888888888888,
              "#fdca26"
             ],
             [
              1,
              "#f0f921"
             ]
            ],
            "type": "histogram2d"
           }
          ],
          "histogram2dcontour": [
           {
            "colorbar": {
             "outlinewidth": 0,
             "ticks": ""
            },
            "colorscale": [
             [
              0,
              "#0d0887"
             ],
             [
              0.1111111111111111,
              "#46039f"
             ],
             [
              0.2222222222222222,
              "#7201a8"
             ],
             [
              0.3333333333333333,
              "#9c179e"
             ],
             [
              0.4444444444444444,
              "#bd3786"
             ],
             [
              0.5555555555555556,
              "#d8576b"
             ],
             [
              0.6666666666666666,
              "#ed7953"
             ],
             [
              0.7777777777777778,
              "#fb9f3a"
             ],
             [
              0.8888888888888888,
              "#fdca26"
             ],
             [
              1,
              "#f0f921"
             ]
            ],
            "type": "histogram2dcontour"
           }
          ],
          "mesh3d": [
           {
            "colorbar": {
             "outlinewidth": 0,
             "ticks": ""
            },
            "type": "mesh3d"
           }
          ],
          "parcoords": [
           {
            "line": {
             "colorbar": {
              "outlinewidth": 0,
              "ticks": ""
             }
            },
            "type": "parcoords"
           }
          ],
          "scatter": [
           {
            "marker": {
             "colorbar": {
              "outlinewidth": 0,
              "ticks": ""
             }
            },
            "type": "scatter"
           }
          ],
          "scatter3d": [
           {
            "line": {
             "colorbar": {
              "outlinewidth": 0,
              "ticks": ""
             }
            },
            "marker": {
             "colorbar": {
              "outlinewidth": 0,
              "ticks": ""
             }
            },
            "type": "scatter3d"
           }
          ],
          "scattercarpet": [
           {
            "marker": {
             "colorbar": {
              "outlinewidth": 0,
              "ticks": ""
             }
            },
            "type": "scattercarpet"
           }
          ],
          "scattergeo": [
           {
            "marker": {
             "colorbar": {
              "outlinewidth": 0,
              "ticks": ""
             }
            },
            "type": "scattergeo"
           }
          ],
          "scattergl": [
           {
            "marker": {
             "colorbar": {
              "outlinewidth": 0,
              "ticks": ""
             }
            },
            "type": "scattergl"
           }
          ],
          "scattermapbox": [
           {
            "marker": {
             "colorbar": {
              "outlinewidth": 0,
              "ticks": ""
             }
            },
            "type": "scattermapbox"
           }
          ],
          "scatterpolar": [
           {
            "marker": {
             "colorbar": {
              "outlinewidth": 0,
              "ticks": ""
             }
            },
            "type": "scatterpolar"
           }
          ],
          "scatterpolargl": [
           {
            "marker": {
             "colorbar": {
              "outlinewidth": 0,
              "ticks": ""
             }
            },
            "type": "scatterpolargl"
           }
          ],
          "scatterternary": [
           {
            "marker": {
             "colorbar": {
              "outlinewidth": 0,
              "ticks": ""
             }
            },
            "type": "scatterternary"
           }
          ],
          "surface": [
           {
            "colorbar": {
             "outlinewidth": 0,
             "ticks": ""
            },
            "colorscale": [
             [
              0,
              "#0d0887"
             ],
             [
              0.1111111111111111,
              "#46039f"
             ],
             [
              0.2222222222222222,
              "#7201a8"
             ],
             [
              0.3333333333333333,
              "#9c179e"
             ],
             [
              0.4444444444444444,
              "#bd3786"
             ],
             [
              0.5555555555555556,
              "#d8576b"
             ],
             [
              0.6666666666666666,
              "#ed7953"
             ],
             [
              0.7777777777777778,
              "#fb9f3a"
             ],
             [
              0.8888888888888888,
              "#fdca26"
             ],
             [
              1,
              "#f0f921"
             ]
            ],
            "type": "surface"
           }
          ],
          "table": [
           {
            "cells": {
             "fill": {
              "color": "#EBF0F8"
             },
             "line": {
              "color": "white"
             }
            },
            "header": {
             "fill": {
              "color": "#C8D4E3"
             },
             "line": {
              "color": "white"
             }
            },
            "type": "table"
           }
          ]
         },
         "layout": {
          "annotationdefaults": {
           "arrowcolor": "#2a3f5f",
           "arrowhead": 0,
           "arrowwidth": 1
          },
          "colorscale": {
           "diverging": [
            [
             0,
             "#8e0152"
            ],
            [
             0.1,
             "#c51b7d"
            ],
            [
             0.2,
             "#de77ae"
            ],
            [
             0.3,
             "#f1b6da"
            ],
            [
             0.4,
             "#fde0ef"
            ],
            [
             0.5,
             "#f7f7f7"
            ],
            [
             0.6,
             "#e6f5d0"
            ],
            [
             0.7,
             "#b8e186"
            ],
            [
             0.8,
             "#7fbc41"
            ],
            [
             0.9,
             "#4d9221"
            ],
            [
             1,
             "#276419"
            ]
           ],
           "sequential": [
            [
             0,
             "#0d0887"
            ],
            [
             0.1111111111111111,
             "#46039f"
            ],
            [
             0.2222222222222222,
             "#7201a8"
            ],
            [
             0.3333333333333333,
             "#9c179e"
            ],
            [
             0.4444444444444444,
             "#bd3786"
            ],
            [
             0.5555555555555556,
             "#d8576b"
            ],
            [
             0.6666666666666666,
             "#ed7953"
            ],
            [
             0.7777777777777778,
             "#fb9f3a"
            ],
            [
             0.8888888888888888,
             "#fdca26"
            ],
            [
             1,
             "#f0f921"
            ]
           ],
           "sequentialminus": [
            [
             0,
             "#0d0887"
            ],
            [
             0.1111111111111111,
             "#46039f"
            ],
            [
             0.2222222222222222,
             "#7201a8"
            ],
            [
             0.3333333333333333,
             "#9c179e"
            ],
            [
             0.4444444444444444,
             "#bd3786"
            ],
            [
             0.5555555555555556,
             "#d8576b"
            ],
            [
             0.6666666666666666,
             "#ed7953"
            ],
            [
             0.7777777777777778,
             "#fb9f3a"
            ],
            [
             0.8888888888888888,
             "#fdca26"
            ],
            [
             1,
             "#f0f921"
            ]
           ]
          },
          "colorway": [
           "#636efa",
           "#EF553B",
           "#00cc96",
           "#ab63fa",
           "#FFA15A",
           "#19d3f3",
           "#FF6692",
           "#B6E880",
           "#FF97FF",
           "#FECB52"
          ],
          "font": {
           "color": "#2a3f5f"
          },
          "geo": {
           "bgcolor": "white",
           "lakecolor": "white",
           "landcolor": "#E5ECF6",
           "showlakes": true,
           "showland": true,
           "subunitcolor": "white"
          },
          "hoverlabel": {
           "align": "left"
          },
          "hovermode": "closest",
          "mapbox": {
           "style": "light"
          },
          "paper_bgcolor": "white",
          "plot_bgcolor": "#E5ECF6",
          "polar": {
           "angularaxis": {
            "gridcolor": "white",
            "linecolor": "white",
            "ticks": ""
           },
           "bgcolor": "#E5ECF6",
           "radialaxis": {
            "gridcolor": "white",
            "linecolor": "white",
            "ticks": ""
           }
          },
          "scene": {
           "xaxis": {
            "backgroundcolor": "#E5ECF6",
            "gridcolor": "white",
            "gridwidth": 2,
            "linecolor": "white",
            "showbackground": true,
            "ticks": "",
            "zerolinecolor": "white"
           },
           "yaxis": {
            "backgroundcolor": "#E5ECF6",
            "gridcolor": "white",
            "gridwidth": 2,
            "linecolor": "white",
            "showbackground": true,
            "ticks": "",
            "zerolinecolor": "white"
           },
           "zaxis": {
            "backgroundcolor": "#E5ECF6",
            "gridcolor": "white",
            "gridwidth": 2,
            "linecolor": "white",
            "showbackground": true,
            "ticks": "",
            "zerolinecolor": "white"
           }
          },
          "shapedefaults": {
           "line": {
            "color": "#2a3f5f"
           }
          },
          "ternary": {
           "aaxis": {
            "gridcolor": "white",
            "linecolor": "white",
            "ticks": ""
           },
           "baxis": {
            "gridcolor": "white",
            "linecolor": "white",
            "ticks": ""
           },
           "bgcolor": "#E5ECF6",
           "caxis": {
            "gridcolor": "white",
            "linecolor": "white",
            "ticks": ""
           }
          },
          "title": {
           "x": 0.05
          },
          "xaxis": {
           "automargin": true,
           "gridcolor": "white",
           "linecolor": "white",
           "ticks": "",
           "zerolinecolor": "white",
           "zerolinewidth": 2
          },
          "yaxis": {
           "automargin": true,
           "gridcolor": "white",
           "linecolor": "white",
           "ticks": "",
           "zerolinecolor": "white",
           "zerolinewidth": 2
          }
         }
        },
        "xaxis": {
         "anchor": "y",
         "autorange": true,
         "domain": [
          0,
          0.98
         ],
         "range": [
          -146.5707413487838,
          4173.966973953764
         ],
         "title": {
          "text": "pred"
         },
         "type": "linear"
        },
        "yaxis": {
         "anchor": "x",
         "autorange": true,
         "domain": [
          0,
          1
         ],
         "range": [
          -234.54299357016583,
          4244.592563653784
         ],
         "title": {
          "text": "true"
         },
         "type": "linear"
        }
       }
      },
      "image/png": "[encoded data removed]",
      "text/html": [
       "<div>\n",
       "        \n",
       "        \n",
       "            <div id=\"3024d3d7-2dbc-4bf8-a530-009db518b42f\" class=\"plotly-graph-div\" style=\"height:600px; width:100%;\"></div>\n",
       "            <script type=\"text/javascript\">\n",
       "                require([\"plotly\"], function(Plotly) {\n",
       "                    window.PLOTLYENV=window.PLOTLYENV || {};\n",
       "                    \n",
       "                if (document.getElementById(\"3024d3d7-2dbc-4bf8-a530-009db518b42f\")) {\n",
       "                    Plotly.newPlot(\n",
       "                        '3024d3d7-2dbc-4bf8-a530-009db518b42f',\n",
       "                        [{\"hoverlabel\": {\"namelength\": 0}, \"hovertemplate\": \"pred=%{x}<br>true=%{y}\", \"legendgroup\": \"\", \"marker\": {\"color\": \"#636efa\", \"symbol\": \"circle\"}, \"mode\": \"markers\", \"name\": \"\", \"showlegend\": false, \"type\": \"scatter\", \"x\": [301.05157470703125, 358.7203063964844, 182.62362670898438, 230.75875854492188, 333.176513671875, 327.8858947753906, 674.0927124023438, 647.0977172851562, 3941.390869140625, 700.2504272460938, 423.625244140625, 1173.2532958984375, 202.4102783203125, 257.8710632324219, 220.12347412109375, 289.1766052246094, 252.6282958984375, 466.3365783691406, 163.58621215820312, 100.36963653564453, 343.33502197265625, 236.2279052734375, 368.39935302734375, 224.8172607421875, 404.2864074707031, 192.40774536132812, 173.14369201660156, 784.8658447265625, 235.35055541992188, 151.84466552734375, 293.6872253417969, 740.2766723632812, 161.91754150390625, 173.99920654296875, 867.760498046875, 245.64791870117188, 1193.8018798828125, 189.381591796875, 527.643310546875, 332.6172180175781, 564.41796875, 194.900390625, 201.48260498046875, 1566.561767578125, 797.7957153320312, 246.27947998046875, 256.72918701171875, 824.0655517578125, 3542.002685546875, 445.5435791015625, 152.60089111328125, 182.00454711914062, 335.69122314453125, 1397.44140625, 357.7911071777344, 414.6102294921875, 1402.267578125, 271.634033203125, 210.12210083007812, 637.8598022460938, 160.05374145507812, 251.51168823242188, 86.00536346435547, 2318.854736328125, 155.03924560546875, 198.6149139404297, 636.018798828125, 990.3545532226562, 1390.0819091796875, 316.2281799316406, 264.18524169921875, 464.6175842285156, 213.84237670898438, 145.12353515625, 1557.425537109375, 403.0789794921875, 1327.7022705078125, 485.4801025390625, 285.58697509765625, 829.5578002929688, 646.7843017578125, 2112.18310546875, 499.82598876953125, 647.7567138671875, 833.1962280273438, 188.38978576660156, 380.08038330078125, 241.53526306152344, 510.02044677734375, 268.9403381347656, 504.9927062988281, 194.61114501953125, 268.3067932128906, 291.66949462890625, 482.49298095703125, 296.0611572265625, 277.7119140625, 122.16158294677734, 253.1829833984375, 272.90997314453125, 828.2327880859375, 141.1366729736328, 1272.7071533203125, 173.123779296875, 123.65155029296875, 306.2501220703125, 433.17645263671875, 834.9158325195312, 426.41693115234375, 218.11679077148438, 317.04827880859375, 195.8660888671875, 109.61663055419922, 409.7325744628906, 281.3316650390625, 348.77398681640625, 659.4575805664062, 193.17086791992188, 212.42562866210938, 781.6561889648438, 267.3500671386719, 497.9752502441406, 235.55682373046875, 626.3349609375, 678.9727172851562, 1722.4376220703125, 253.90390014648438, 1975.2061767578125, 266.9295349121094, 201.75860595703125, 374.4210205078125, 486.57000732421875, 324.76080322265625, 342.23211669921875, 359.30389404296875, 181.29014587402344, 421.49371337890625, 824.42578125, 454.8052978515625, 434.7300109863281, 2034.4246826171875, 821.2090454101562, 1709.3819580078125, 119.74976348876953, 1108.68505859375, 254.45645141601562, 213.8720703125, 274.8714599609375, 513.6720581054688, 480.073974609375, 415.83453369140625, 651.61962890625, 442.45599365234375, 115.4163589477539, 145.42529296875, 191.02899169921875, 519.1708374023438, 210.7677459716797, 1966.1207275390625, 684.2262573242188, 133.59136962890625, 409.7813720703125, 248.83584594726562, 239.17080688476562, 183.54808044433594, 138.12583923339844, 213.86692810058594, 1325.587646484375, 243.1804962158203, 1139.7791748046875, 346.0810241699219, 237.2412109375, 243.61334228515625, 203.9633026123047, 390.43328857421875, 271.2066650390625, 906.8381958007812, 848.73681640625, 174.77178955078125, 636.7855224609375, 909.1209106445312, 109.10784912109375, 136.5278778076172, 2287.064208984375, 374.33636474609375, 260.15460205078125, 145.22666931152344, 188.13845825195312, 294.770751953125, 294.84759521484375, 2743.4716796875, 203.07859802246094, 373.55426025390625, 775.6690063476562, 182.503662109375, 236.51617431640625, 1129.45068359375, 191.68089294433594, 1197.0345458984375, 528.0202026367188, 164.2685089111328, 1220.4149169921875, 209.82119750976562, 401.0059814453125, 192.0297393798828, 592.77587890625, 254.17147827148438, 532.3309936523438, 168.07626342773438, 228.01498413085938, 514.7848510742188, 426.1796875, 223.40902709960938, 307.94378662109375, 711.0518798828125, 945.7190551757812, 1226.0137939453125, 266.1059875488281, 121.3947525024414, 407.4105224609375, 427.53228759765625, 341.5223388671875, 360.4081115722656, 575.1843872070312, 379.97003173828125, 426.4363098144531, 607.8314819335938, 501.8739318847656, 225.7427215576172, 182.2484130859375, 378.71929931640625, 140.15211486816406, 264.02423095703125, 814.8827514648438, 109.82463073730469, 397.39752197265625, 437.36016845703125, 204.78671264648438, 261.68109130859375, 553.0562133789062, 479.49627685546875, 218.89498901367188, 616.1886596679688, 128.06039428710938, 330.8499755859375, 327.8619384765625, 823.5053100585938, 224.05841064453125, 204.28860473632812, 172.38426208496094, 350.4648742675781, 106.8199234008789, 697.8214721679688, 1077.4163818359375, 384.7567138671875, 354.89599609375, 2524.882080078125, 1096.588623046875, 464.57928466796875, 712.8729248046875, 172.9441680908203, 227.9090118408203, 355.73052978515625, 463.9958190917969, 222.03131103515625, 265.27203369140625, 507.00360107421875, 153.73699951171875, 2535.601806640625, 618.8340454101562, 178.56661987304688, 852.9754638671875, 311.9284362792969, 171.53372192382812, 112.76398468017578, 202.908203125, 881.8140869140625, 146.128173828125, 1444.4405517578125, 429.0917663574219, 286.1291809082031, 485.1377258300781, 531.6553344726562, 124.58851623535156, 247.69076538085938, 258.06787109375, 358.41949462890625, 1095.5150146484375, 415.6277770996094, 232.149169921875, 150.30625915527344, 371.4883728027344, 87.40454864501953, 970.1370239257812, 194.79025268554688, 331.94256591796875, 229.95684814453125, 729.1950073242188, 378.71929931640625, 379.126708984375, 348.62982177734375, 87.1471176147461, 1214.0413818359375, 363.57049560546875, 382.4569396972656, 1083.8021240234375, 91.85279846191406, 310.60357666015625, 479.49627685546875, 619.5956420898438, 419.69488525390625, 348.66473388671875, 315.45648193359375, 714.5825805664062, 160.64407348632812, 317.9920959472656, 227.83428955078125, 630.2389526367188, 282.99603271484375, 465.3056640625, 1117.472412109375, 378.71929931640625, 159.9616241455078, 249.08779907226562, 200.58901977539062, 1232.7310791015625, 1166.6351318359375, 256.9270324707031, 712.013916015625, 188.08677673339844, 207.83148193359375, 89.93888092041016, 1006.4876098632812, 1463.829345703125, 964.3101196289062, 189.60989379882812, 311.8881530761719, 212.97280883789062, 185.08425903320312, 558.5733032226562, 312.4960632324219, 290.93670654296875, 440.2902526855469, 298.45440673828125, 588.5183715820312, 147.1097412109375, 159.48709106445312, 235.26318359375, 146.4812774658203, 531.5753784179688, 331.445068359375, 195.23712158203125, 151.75576782226562, 359.8707580566406, 945.9625244140625, 606.4810180664062, 1464.6541748046875, 530.551513671875, 304.6787109375, 261.01593017578125, 141.3109893798828, 238.22488403320312, 86.75695037841797, 905.796875, 545.6537475585938, 184.7873077392578, 212.7324981689453, 122.86956024169922, 190.859375, 172.30442810058594, 560.3609008789062, 229.91632080078125, 412.9053955078125, 907.7929077148438, 300.58282470703125, 433.623779296875, 249.96035766601562, 368.70166015625, 617.1580200195312, 663.1821899414062, 217.6688995361328, 141.32461547851562, 173.81243896484375, 251.57955932617188, 865.4306640625, 157.43463134765625, 341.0812683105469, 216.19775390625, 440.7519836425781, 211.81161499023438, 205.90585327148438, 425.1170349121094, 843.1427612304688, 197.2689208984375, 254.96311950683594, 262.3149108886719, 663.4022216796875, 251.08456420898438, 305.22802734375, 533.6605834960938, 554.7183837890625, 167.0587921142578, 860.0958862304688, 1917.1302490234375, 374.683837890625, 382.2464599609375, 206.58090209960938, 315.5296630859375, 305.2798156738281, 256.85955810546875, 380.7035827636719, 359.4344482421875, 310.3909912109375, 1120.4324951171875, 377.9574890136719, 127.50521850585938, 261.00140380859375, 419.4415588378906, 1037.0880126953125, 218.068603515625, 238.1524658203125, 1305.0177001953125, 647.8084106445312, 804.6184692382812, 175.2842254638672, 1329.3372802734375, 157.79293823242188, 228.71002197265625, 235.9669189453125, 817.9730834960938, 298.5782165527344, 196.420654296875, 200.34405517578125, 348.31976318359375, 824.3480834960938, 706.4067993164062, 1421.3701171875, 577.62939453125, 252.06117248535156, 142.9663543701172, 169.501953125, 134.02166748046875, 141.00238037109375, 462.592041015625, 143.92446899414062, 383.31298828125, 352.0758056640625, 361.29583740234375, 547.5418090820312, 326.25274658203125, 692.8609008789062, 444.21124267578125, 171.0609130859375, 315.20587158203125, 879.063232421875, 871.7051391601562, 197.37945556640625, 385.4710693359375, 840.0502319335938, 143.91482543945312, 402.9911193847656, 575.6013793945312, 329.909912109375, 168.95523071289062, 359.3761291503906, 459.1471252441406, 1690.770751953125, 193.37344360351562, 325.4106140136719, 225.84356689453125, 251.34359741210938, 580.7485961914062, 1250.7611083984375, 136.05007934570312, 713.6453857421875, 434.8659362792969, 522.737060546875, 235.61419677734375, 194.75732421875, 626.4182739257812, 291.3475341796875, 1282.7425537109375, 136.55398559570312, 303.3394775390625, 1422.7852783203125, 1161.134033203125, 272.1834411621094, 851.1358032226562, 932.9315185546875, 234.82369995117188, 213.21591186523438, 465.6044921875, 444.87225341796875, 879.8407592773438, 580.5737915039062, 196.4076385498047, 1308.998046875, 487.9239196777344, 880.460693359375, 756.65966796875, 164.3473358154297, 861.915771484375, 238.013671875, 1098.6563720703125, 643.1050415039062, 172.60321044921875, 250.10508728027344, 341.5252685546875, 460.420166015625, 224.4609375, 200.49557495117188, 148.9287109375, 752.7368774414062, 240.26046752929688, 314.2818603515625, 227.7880859375, 241.53526306152344, 286.8787536621094, 248.73199462890625, 344.3258056640625, 219.50375366210938, 172.9459228515625, 218.63681030273438, 275.6592102050781, 393.37176513671875, 506.7236328125, 643.0880737304688, 192.19915771484375, 489.62921142578125, 784.2243041992188, 767.2222900390625, 190.16807556152344, 1207.1314697265625, 425.4637756347656, 342.91717529296875, 132.11581420898438, 332.4326477050781, 149.1909942626953, 637.372802734375, 746.1492309570312, 1201.2430419921875, 180.680419921875, 1043.1419677734375, 208.46640014648438, 222.82894897460938, 90.01358032226562, 397.6094665527344, 865.1837768554688, 814.2969360351562, 497.7354431152344, 389.76605224609375, 322.02001953125, 281.4195556640625, 731.8445434570312, 224.37515258789062, 221.19598388671875, 1188.705078125, 2474.463623046875, 130.60186767578125, 465.365478515625, 206.14926147460938, 2743.28125, 207.07766723632812, 140.90670776367188, 299.19305419921875, 364.234130859375, 1835.5361328125, 429.30218505859375, 209.91281127929688, 174.56626892089844, 3385.8818359375, 128.5771484375, 1022.3054809570312, 183.26101684570312, 385.37994384765625, 407.2364501953125, 318.9610290527344, 195.37205505371094, 615.6554565429688, 493.5228271484375, 435.22039794921875, 325.56365966796875, 293.3435974121094, 207.97032165527344, 930.9829711914062, 153.15792846679688, 548.1934204101562, 821.0831909179688, 1378.8431396484375, 133.75367736816406, 231.49533081054688, 291.3574523925781, 324.70123291015625, 268.7377624511719, 86.8857192993164, 1553.1112060546875, 240.30177307128906, 875.6854858398438, 109.62067413330078, 213.04150390625], \"xaxis\": \"x\", \"y\": [245.3949737548828, 283.96697998046875, 110.56817626953125, 267.30999755859375, 287.42724609375, 242.0230255126953, 776.404296875, 483.6283264160156, 3984.12109375, 792.4104614257812, 308.2537841796875, 1042.3221435546875, 173.89744567871094, 240.589599609375, 302.5765075683594, 289.86492919921875, 262.0463562011719, 377.9421081542969, 48.14426040649414, 65.82244873046875, 207.03175354003906, 187.50350952148438, 397.1641540527344, 122.85965728759766, 435.4654541015625, 138.17410278320312, 218.01356506347656, 1488.9981689453125, 182.63363647460938, 34.612667083740234, 299.6693420410156, 549.7526245117188, 99.29004669189453, 101.04473876953125, 627.8191528320312, 146.19664001464844, 1088.536376953125, 124.29886627197266, 517.2362060546875, 334.8092041015625, 608.2713623046875, 670.1571044921875, 176.79331970214844, 1277.5133056640625, 751.6408081054688, 217.48585510253906, 198.0770721435547, 493.8096618652344, 2584.30712890625, 421.73431396484375, 118.78022003173828, 272.942626953125, 350.3930358886719, 1120.506591796875, 419.59649658203125, 297.556640625, 1630.9090576171875, 269.33013916015625, 211.76377868652344, 723.9487915039062, 77.42633056640625, 220.45407104492188, 152.1003875732422, 2348.958251953125, 242.412841796875, 196.46755981445312, 851.1851196289062, 1077.1082763671875, 1178.41162109375, 287.6935119628906, 305.1585388183594, 345.3371887207031, 204.8520965576172, 28.94281578063965, 1438.623046875, 544.9324340820312, 1261.943603515625, 552.541259765625, 202.196533203125, 818.6580810546875, 462.6025390625, 2100.18798828125, 523.7537841796875, 568.7785034179688, 768.9059448242188, 112.29486846923828, 677.3139038085938, 217.5121307373047, 487.7994689941406, 318.810302734375, 570.6622314453125, 75.0170669555664, 213.4365997314453, 297.2102966308594, 388.0222473144531, 306.019775390625, 281.0293273925781, 66.05929565429688, 206.0552978515625, 274.8033447265625, 845.2069702148438, 141.37753295898438, 936.421875, 82.76415252685547, 1108.219482421875, 143.23446655273438, 319.9895324707031, 1151.760009765625, 447.26318359375, 160.54029846191406, 307.85992431640625, 113.79393768310547, 61.92416000366211, 455.7978820800781, 186.64488220214844, 354.12939453125, 628.912353515625, 66.84010314941406, 27.52914810180664, 714.9765014648438, 200.59695434570312, 439.0237731933594, 75.71437072753906, 868.6787109375, 1289.1275634765625, 1617.8013916015625, 122.00967407226562, 2003.3082275390625, 212.7598114013672, 113.16448211669922, 533.3228149414062, 413.3533935546875, 308.0039978027344, 88.66193389892578, 362.27191162109375, 84.79183197021484, 468.1658935546875, 901.2772216796875, 507.9178771972656, 449.98834228515625, 2325.132568359375, 1011.6503295898438, 2191.5283203125, 715.2268676757812, 1565.177978515625, 124.89447021484375, 50.55546951293945, 330.8437194824219, 395.6172180175781, 523.7274169921875, 476.6416931152344, 497.6809387207031, 252.546630859375, 257.036865234375, 140.82447814941406, 92.95127868652344, 634.1097412109375, 73.31568145751953, 2762.07421875, 557.4668579101562, 99.7035903930664, 341.7083435058594, 114.89435577392578, 217.6239776611328, 103.23951721191406, 25.928476333618164, 46.09358596801758, 1313.0789794921875, 347.75048828125, 892.398193359375, 519.6431274414062, 261.5438537597656, 248.2250518798828, 191.21250915527344, 329.60638427734375, 54.231388092041016, 1193.505615234375, 752.6220092773438, 137.35101318359375, 804.175048828125, 956.6412353515625, 243.8032684326172, 190.3502960205078, 1734.2989501953125, 469.0822448730469, 212.1764373779297, 33.654571533203125, 243.84530639648438, 547.2396240234375, 304.89044189453125, 2502.013427734375, 113.02073669433594, 501.3760986328125, 735.448486328125, 99.81303405761719, 142.65484619140625, 3072.869384765625, 92.52057647705078, 827.7156982421875, 439.1931457519531, 83.31097412109375, 2179.06103515625, 170.29664611816406, 555.7200927734375, 82.00614929199219, 579.3547973632812, 210.54833984375, 461.5679016113281, 161.33213806152344, 82.1076889038086, 476.3894348144531, 445.552734375, 243.46640014648438, 302.7113952636719, 604.6564331054688, 984.8563232421875, 1263.5596923828125, 259.1754150390625, 89.515380859375, 646.3735961914062, 693.8870239257812, 497.6738586425781, 287.493408203125, 665.055419921875, 318.26324462890625, 428.6484375, 533.0130004882812, 407.4671630859375, 142.2108154296875, 287.876708984375, 282.6474304199219, 160.80274963378906, 296.8853454589844, 1438.1700439453125, 241.50828552246094, 342.6291198730469, 230.51736450195312, 208.2490234375, 345.973876953125, 680.7781372070312, 559.3072509765625, 234.31126403808594, 665.0259399414062, 166.11915588378906, 334.79345703125, 946.3717041015625, 694.0665283203125, 257.1092224121094, 63.052738189697266, 128.92588806152344, 316.94122314453125, 30.334518432617188, 280.6880798339844, 880.9629516601562, 280.4745788574219, 409.90399169921875, 2112.780029296875, 1098.685546875, 459.27239990234375, 762.2841186523438, 100.40324401855469, 206.23690795898438, 307.9960021972656, 549.5364379882812, 127.18439483642578, 258.4862976074219, 493.8445739746094, 64.60443878173828, 2105.0849609375, 629.216552734375, 87.73809814453125, 1258.642822265625, 269.1739501953125, 121.95832061767578, 296.7750244140625, 379.65380859375, 1054.0982666015625, 149.9608917236328, 1712.932861328125, 445.6891784667969, 113.02184295654297, 474.9809875488281, 405.9981994628906, 42.499778747558594, 251.99032592773438, 298.7648620605469, 313.3594055175781, 839.6005859375, 238.7244873046875, 82.59306335449219, 127.25322723388672, 319.05853271484375, 53.62175750732422, 682.2813110351562, 204.37899780273438, 265.6334533691406, 876.28564453125, 734.3356323242188, 287.869140625, 367.2705383300781, 280.32281494140625, 82.87962341308594, 1401.63916015625, 315.543701171875, 471.82684326171875, 858.4373168945312, 111.75141906738281, 307.3976135253906, 484.7164611816406, 533.4490356445312, 741.7471923828125, 302.1732177734375, 247.51145935058594, 818.6214599609375, 156.75033569335938, 316.4974060058594, 246.15298461914062, 698.629150390625, 133.1757354736328, 359.6455993652344, 1051.076416015625, 283.5045471191406, 72.4402084350586, 106.96442413330078, 131.1380615234375, 1069.4990234375, 1935.8470458984375, 259.3377990722656, 662.0514526367188, 128.11891174316406, 290.1021423339844, 108.83087921142578, 1113.6695556640625, 1399.1536865234375, 663.211181640625, 167.58181762695312, 209.72740173339844, 1279.7041015625, 214.3868408203125, 684.7922973632812, 427.6186218261719, 255.33258056640625, 399.4574890136719, 117.41743469238281, 558.5319213867188, 430.7874450683594, 188.28431701660156, 204.3323211669922, 30.944339752197266, 485.783203125, 313.799072265625, 110.43885040283203, 814.0552368164062, 489.7666015625, 1140.447998046875, 628.1591796875, 949.5402221679688, 542.8145751953125, 345.3859558105469, 33.61565017700195, 142.55030822753906, 109.6175308227539, 80.34314727783203, 929.690185546875, 625.1547241210938, 145.57559204101562, 172.57406616210938, 128.47010803222656, 51.75934600830078, 117.04643249511719, 714.54443359375, 152.6180419921875, 396.07342529296875, 836.7485961914062, 202.94216918945312, 347.2324523925781, 338.1656799316406, 412.4035949707031, 441.2801513671875, 691.2337646484375, 225.73951721191406, 88.82017517089844, 130.88124084472656, 214.3733367919922, 693.22119140625, 177.02337646484375, 226.410888671875, 166.60902404785156, 360.179443359375, 226.2609405517578, 84.13837432861328, 345.0339660644531, 1013.0972900390625, 271.5121765136719, 280.7777404785156, 270.6672058105469, 796.2816772460938, 349.6133728027344, 230.37619018554688, 517.9290771484375, 341.998046875, 146.32447814941406, 835.8253173828125, 1163.9686279296875, 194.87249755859375, 382.34405517578125, 117.87300872802734, 183.59381103515625, 225.4580078125, 273.5875244140625, 405.8972473144531, 271.8124694824219, 217.3224639892578, 1070.2467041015625, 154.64593505859375, 36.773101806640625, 85.33839416503906, 447.7905578613281, 1040.7464599609375, 310.78839111328125, 782.6456909179688, 1155.2939453125, 1359.3084716796875, 629.562255859375, 203.11868286132812, 2052.83935546875, 110.0738296508789, 179.4195098876953, 121.6879653930664, 637.1677856445312, 160.36410522460938, 72.11426544189453, 154.25796508789062, 346.3074645996094, 734.4208374023438, 785.265380859375, 856.9163818359375, 557.8997192382812, 185.65699768066406, 137.77645874023438, 173.16317749023438, 62.17112731933594, 261.4507751464844, 507.0709228515625, 147.94515991210938, 487.52105712890625, 352.52313232421875, 394.644287109375, 557.0842895507812, 249.0086212158203, 506.9747009277344, 621.966796875, 95.54371643066406, 214.9376678466797, 602.9197387695312, 529.6210327148438, 99.19754791259766, 407.0938720703125, 1264.3968505859375, 285.6408996582031, 306.0877380371094, 792.1260375976562, 323.2305908203125, 273.1697692871094, 346.0801696777344, 481.38262939453125, 1404.9715576171875, 122.825927734375, 246.32022094726562, 230.39089965820312, 137.47183227539062, 529.2749633789062, 1132.520751953125, 263.1504211425781, 832.2298583984375, 427.06396484375, 504.2755432128906, 288.3003234863281, 295.69635009765625, 666.9739379882812, 243.73202514648438, 768.314453125, 85.23184967041016, 114.33189392089844, 849.4332885742188, 1139.203369140625, 165.73968505859375, 948.48291015625, 1122.7232666015625, 140.5593719482422, 203.27719116210938, 485.8771057128906, 579.339599609375, 739.72314453125, 543.839111328125, 180.97068786621094, 1243.421875, 467.97784423828125, 892.0332641601562, 731.49365234375, 240.82249450683594, 554.9323120117188, 59.69054412841797, 949.1586303710938, 514.9933471679688, 90.62617492675781, 248.3343505859375, 268.7535095214844, 470.83709716796875, 102.87960052490234, 138.92147827148438, 92.4696273803711, 643.4360961914062, 54.50074005126953, 516.0800170898438, 275.4081726074219, 217.56558227539062, 189.08828735351562, 243.28709411621094, 286.372802734375, 136.57962036132812, 147.3466033935547, 142.13836669921875, 609.0969848632812, 306.6333923339844, 452.5822448730469, 544.0172729492188, 188.00103759765625, 354.17547607421875, 762.3378295898438, 679.2453002929688, 192.67620849609375, 1172.283203125, 365.7400207519531, 300.8729553222656, 160.77780151367188, 268.4249572753906, 159.69456481933594, 842.1051635742188, 775.317138671875, 1263.570556640625, 46.52903366088867, 1033.9892578125, 205.1877899169922, 133.49171447753906, 48.27211380004883, 337.7312927246094, 905.8029174804688, 1075.0455322265625, 552.1060180664062, 455.91119384765625, 309.4005432128906, 346.6241149902344, 532.8469848632812, 112.2880859375, 174.86093139648438, 1058.6458740234375, 2594.417236328125, 143.00399780273438, 457.95794677734375, 182.89112854003906, 2531.0888671875, 188.66563415527344, 145.2952117919922, 165.31056213378906, 365.8920593261719, 1529.0843505859375, 424.5238952636719, 179.259521484375, 125.87567901611328, 3255.65625, 148.56231689453125, 1338.830078125, 209.63494873046875, 351.11590576171875, 456.11065673828125, 298.30780029296875, 184.5342559814453, 489.6341857910156, 459.5817565917969, 432.5032958984375, 311.5349426269531, 101.42098999023438, 167.81642150878906, 822.0186767578125, 83.57111358642578, 523.5973510742188, 706.5774536132812, 1028.2022705078125, 74.00484466552734, 218.4325408935547, 368.5836486816406, 345.0082702636719, 330.0935363769531, 80.13813018798828, 1593.629638671875, 130.10842895507812, 504.0545654296875, 261.546630859375, 123.15321350097656], \"yaxis\": \"y\"}],\n",
       "                        {\"height\": 600, \"legend\": {\"tracegroupgap\": 0}, \"margin\": {\"t\": 60}, \"template\": {\"data\": {\"bar\": [{\"error_x\": {\"color\": \"#2a3f5f\"}, \"error_y\": {\"color\": \"#2a3f5f\"}, \"marker\": {\"line\": {\"color\": \"#E5ECF6\", \"width\": 0.5}}, \"type\": \"bar\"}], \"barpolar\": [{\"marker\": {\"line\": {\"color\": \"#E5ECF6\", \"width\": 0.5}}, \"type\": \"barpolar\"}], \"carpet\": [{\"aaxis\": {\"endlinecolor\": \"#2a3f5f\", \"gridcolor\": \"white\", \"linecolor\": \"white\", \"minorgridcolor\": \"white\", \"startlinecolor\": \"#2a3f5f\"}, \"baxis\": {\"endlinecolor\": \"#2a3f5f\", \"gridcolor\": \"white\", \"linecolor\": \"white\", \"minorgridcolor\": \"white\", \"startlinecolor\": \"#2a3f5f\"}, \"type\": \"carpet\"}], \"choropleth\": [{\"colorbar\": {\"outlinewidth\": 0, \"ticks\": \"\"}, \"type\": \"choropleth\"}], \"contour\": [{\"colorbar\": {\"outlinewidth\": 0, \"ticks\": \"\"}, \"colorscale\": [[0.0, \"#0d0887\"], [0.1111111111111111, \"#46039f\"], [0.2222222222222222, \"#7201a8\"], [0.3333333333333333, \"#9c179e\"], [0.4444444444444444, \"#bd3786\"], [0.5555555555555556, \"#d8576b\"], [0.6666666666666666, \"#ed7953\"], [0.7777777777777778, \"#fb9f3a\"], [0.8888888888888888, \"#fdca26\"], [1.0, \"#f0f921\"]], \"type\": \"contour\"}], \"contourcarpet\": [{\"colorbar\": {\"outlinewidth\": 0, \"ticks\": \"\"}, \"type\": \"contourcarpet\"}], \"heatmap\": [{\"colorbar\": {\"outlinewidth\": 0, \"ticks\": \"\"}, \"colorscale\": [[0.0, \"#0d0887\"], [0.1111111111111111, \"#46039f\"], [0.2222222222222222, \"#7201a8\"], [0.3333333333333333, \"#9c179e\"], [0.4444444444444444, \"#bd3786\"], [0.5555555555555556, \"#d8576b\"], [0.6666666666666666, \"#ed7953\"], [0.7777777777777778, \"#fb9f3a\"], [0.8888888888888888, \"#fdca26\"], [1.0, \"#f0f921\"]], \"type\": \"heatmap\"}], \"heatmapgl\": [{\"colorbar\": {\"outlinewidth\": 0, \"ticks\": \"\"}, \"colorscale\": [[0.0, \"#0d0887\"], [0.1111111111111111, \"#46039f\"], [0.2222222222222222, \"#7201a8\"], [0.3333333333333333, \"#9c179e\"], [0.4444444444444444, \"#bd3786\"], [0.5555555555555556, \"#d8576b\"], [0.6666666666666666, \"#ed7953\"], [0.7777777777777778, \"#fb9f3a\"], [0.8888888888888888, \"#fdca26\"], [1.0, \"#f0f921\"]], \"type\": \"heatmapgl\"}], \"histogram\": [{\"marker\": {\"colorbar\": {\"outlinewidth\": 0, \"ticks\": \"\"}}, \"type\": \"histogram\"}], \"histogram2d\": [{\"colorbar\": {\"outlinewidth\": 0, \"ticks\": \"\"}, \"colorscale\": [[0.0, \"#0d0887\"], [0.1111111111111111, \"#46039f\"], [0.2222222222222222, \"#7201a8\"], [0.3333333333333333, \"#9c179e\"], [0.4444444444444444, \"#bd3786\"], [0.5555555555555556, \"#d8576b\"], [0.6666666666666666, \"#ed7953\"], [0.7777777777777778, \"#fb9f3a\"], [0.8888888888888888, \"#fdca26\"], [1.0, \"#f0f921\"]], \"type\": \"histogram2d\"}], \"histogram2dcontour\": [{\"colorbar\": {\"outlinewidth\": 0, \"ticks\": \"\"}, \"colorscale\": [[0.0, \"#0d0887\"], [0.1111111111111111, \"#46039f\"], [0.2222222222222222, \"#7201a8\"], [0.3333333333333333, \"#9c179e\"], [0.4444444444444444, \"#bd3786\"], [0.5555555555555556, \"#d8576b\"], [0.6666666666666666, \"#ed7953\"], [0.7777777777777778, \"#fb9f3a\"], [0.8888888888888888, \"#fdca26\"], [1.0, \"#f0f921\"]], \"type\": \"histogram2dcontour\"}], \"mesh3d\": [{\"colorbar\": {\"outlinewidth\": 0, \"ticks\": \"\"}, \"type\": \"mesh3d\"}], \"parcoords\": [{\"line\": {\"colorbar\": {\"outlinewidth\": 0, \"ticks\": \"\"}}, \"type\": \"parcoords\"}], \"scatter\": [{\"marker\": {\"colorbar\": {\"outlinewidth\": 0, \"ticks\": \"\"}}, \"type\": \"scatter\"}], \"scatter3d\": [{\"line\": {\"colorbar\": {\"outlinewidth\": 0, \"ticks\": \"\"}}, \"marker\": {\"colorbar\": {\"outlinewidth\": 0, \"ticks\": \"\"}}, \"type\": \"scatter3d\"}], \"scattercarpet\": [{\"marker\": {\"colorbar\": {\"outlinewidth\": 0, \"ticks\": \"\"}}, \"type\": \"scattercarpet\"}], \"scattergeo\": [{\"marker\": {\"colorbar\": {\"outlinewidth\": 0, \"ticks\": \"\"}}, \"type\": \"scattergeo\"}], \"scattergl\": [{\"marker\": {\"colorbar\": {\"outlinewidth\": 0, \"ticks\": \"\"}}, \"type\": \"scattergl\"}], \"scattermapbox\": [{\"marker\": {\"colorbar\": {\"outlinewidth\": 0, \"ticks\": \"\"}}, \"type\": \"scattermapbox\"}], \"scatterpolar\": [{\"marker\": {\"colorbar\": {\"outlinewidth\": 0, \"ticks\": \"\"}}, \"type\": \"scatterpolar\"}], \"scatterpolargl\": [{\"marker\": {\"colorbar\": {\"outlinewidth\": 0, \"ticks\": \"\"}}, \"type\": \"scatterpolargl\"}], \"scatterternary\": [{\"marker\": {\"colorbar\": {\"outlinewidth\": 0, \"ticks\": \"\"}}, \"type\": \"scatterternary\"}], \"surface\": [{\"colorbar\": {\"outlinewidth\": 0, \"ticks\": \"\"}, \"colorscale\": [[0.0, \"#0d0887\"], [0.1111111111111111, \"#46039f\"], [0.2222222222222222, \"#7201a8\"], [0.3333333333333333, \"#9c179e\"], [0.4444444444444444, \"#bd3786\"], [0.5555555555555556, \"#d8576b\"], [0.6666666666666666, \"#ed7953\"], [0.7777777777777778, \"#fb9f3a\"], [0.8888888888888888, \"#fdca26\"], [1.0, \"#f0f921\"]], \"type\": \"surface\"}], \"table\": [{\"cells\": {\"fill\": {\"color\": \"#EBF0F8\"}, \"line\": {\"color\": \"white\"}}, \"header\": {\"fill\": {\"color\": \"#C8D4E3\"}, \"line\": {\"color\": \"white\"}}, \"type\": \"table\"}]}, \"layout\": {\"annotationdefaults\": {\"arrowcolor\": \"#2a3f5f\", \"arrowhead\": 0, \"arrowwidth\": 1}, \"colorscale\": {\"diverging\": [[0, \"#8e0152\"], [0.1, \"#c51b7d\"], [0.2, \"#de77ae\"], [0.3, \"#f1b6da\"], [0.4, \"#fde0ef\"], [0.5, \"#f7f7f7\"], [0.6, \"#e6f5d0\"], [0.7, \"#b8e186\"], [0.8, \"#7fbc41\"], [0.9, \"#4d9221\"], [1, \"#276419\"]], \"sequential\": [[0.0, \"#0d0887\"], [0.1111111111111111, \"#46039f\"], [0.2222222222222222, \"#7201a8\"], [0.3333333333333333, \"#9c179e\"], [0.4444444444444444, \"#bd3786\"], [0.5555555555555556, \"#d8576b\"], [0.6666666666666666, \"#ed7953\"], [0.7777777777777778, \"#fb9f3a\"], [0.8888888888888888, \"#fdca26\"], [1.0, \"#f0f921\"]], \"sequentialminus\": [[0.0, \"#0d0887\"], [0.1111111111111111, \"#46039f\"], [0.2222222222222222, \"#7201a8\"], [0.3333333333333333, \"#9c179e\"], [0.4444444444444444, \"#bd3786\"], [0.5555555555555556, \"#d8576b\"], [0.6666666666666666, \"#ed7953\"], [0.7777777777777778, \"#fb9f3a\"], [0.8888888888888888, \"#fdca26\"], [1.0, \"#f0f921\"]]}, \"colorway\": [\"#636efa\", \"#EF553B\", \"#00cc96\", \"#ab63fa\", \"#FFA15A\", \"#19d3f3\", \"#FF6692\", \"#B6E880\", \"#FF97FF\", \"#FECB52\"], \"font\": {\"color\": \"#2a3f5f\"}, \"geo\": {\"bgcolor\": \"white\", \"lakecolor\": \"white\", \"landcolor\": \"#E5ECF6\", \"showlakes\": true, \"showland\": true, \"subunitcolor\": \"white\"}, \"hoverlabel\": {\"align\": \"left\"}, \"hovermode\": \"closest\", \"mapbox\": {\"style\": \"light\"}, \"paper_bgcolor\": \"white\", \"plot_bgcolor\": \"#E5ECF6\", \"polar\": {\"angularaxis\": {\"gridcolor\": \"white\", \"linecolor\": \"white\", \"ticks\": \"\"}, \"bgcolor\": \"#E5ECF6\", \"radialaxis\": {\"gridcolor\": \"white\", \"linecolor\": \"white\", \"ticks\": \"\"}}, \"scene\": {\"xaxis\": {\"backgroundcolor\": \"#E5ECF6\", \"gridcolor\": \"white\", \"gridwidth\": 2, \"linecolor\": \"white\", \"showbackground\": true, \"ticks\": \"\", \"zerolinecolor\": \"white\"}, \"yaxis\": {\"backgroundcolor\": \"#E5ECF6\", \"gridcolor\": \"white\", \"gridwidth\": 2, \"linecolor\": \"white\", \"showbackground\": true, \"ticks\": \"\", \"zerolinecolor\": \"white\"}, \"zaxis\": {\"backgroundcolor\": \"#E5ECF6\", \"gridcolor\": \"white\", \"gridwidth\": 2, \"linecolor\": \"white\", \"showbackground\": true, \"ticks\": \"\", \"zerolinecolor\": \"white\"}}, \"shapedefaults\": {\"line\": {\"color\": \"#2a3f5f\"}}, \"ternary\": {\"aaxis\": {\"gridcolor\": \"white\", \"linecolor\": \"white\", \"ticks\": \"\"}, \"baxis\": {\"gridcolor\": \"white\", \"linecolor\": \"white\", \"ticks\": \"\"}, \"bgcolor\": \"#E5ECF6\", \"caxis\": {\"gridcolor\": \"white\", \"linecolor\": \"white\", \"ticks\": \"\"}}, \"title\": {\"x\": 0.05}, \"xaxis\": {\"automargin\": true, \"gridcolor\": \"white\", \"linecolor\": \"white\", \"ticks\": \"\", \"zerolinecolor\": \"white\", \"zerolinewidth\": 2}, \"yaxis\": {\"automargin\": true, \"gridcolor\": \"white\", \"linecolor\": \"white\", \"ticks\": \"\", \"zerolinecolor\": \"white\", \"zerolinewidth\": 2}}}, \"xaxis\": {\"anchor\": \"y\", \"domain\": [0.0, 0.98], \"title\": {\"text\": \"pred\"}}, \"yaxis\": {\"anchor\": \"x\", \"domain\": [0.0, 1.0], \"title\": {\"text\": \"true\"}}},\n",
       "                        {\"responsive\": true}\n",
       "                    ).then(function(){\n",
       "                            \n",
       "var gd = document.getElementById('3024d3d7-2dbc-4bf8-a530-009db518b42f');\n",
       "var x = new MutationObserver(function (mutations, observer) {{\n",
       "        var display = window.getComputedStyle(gd).display;\n",
       "        if (!display || display === 'none') {{\n",
       "            console.log([gd, 'removed!']);\n",
       "            Plotly.purge(gd);\n",
       "            observer.disconnect();\n",
       "        }}\n",
       "}});\n",
       "\n",
       "// Listen for the removal of the full notebook cells\n",
       "var notebookContainer = gd.closest('#notebook-container');\n",
       "if (notebookContainer) {{\n",
       "    x.observe(notebookContainer, {childList: true});\n",
       "}}\n",
       "\n",
       "// Listen for the clearing of the current output cell\n",
       "var outputEl = gd.closest('.output');\n",
       "if (outputEl) {{\n",
       "    x.observe(outputEl, {childList: true});\n",
       "}}\n",
       "\n",
       "                        })\n",
       "                };\n",
       "                });\n",
       "            </script>\n",
       "        </div>"
      ]
     },
     "metadata": {},
     "output_type": "display_data"
    }
   ],
   "source": [
    "fig = px.scatter(pd.DataFrame({'pred': y_pred.flatten(), 'true': y_test.flatten()}), x='pred', y='true')\n",
    "fig.show()"
   ]
  },
  {
   "cell_type": "markdown",
   "metadata": {},
   "source": [
    "### model building with random hyper parameters"
   ]
  },
  {
   "cell_type": "code",
   "execution_count": 25,
   "metadata": {},
   "outputs": [],
   "source": [
    "# --- import necessary libraries\n",
    "\n",
    "from xenonpy.model.nn import Generator1d\n",
    "from xenonpy.model.nn import wrap\n",
    "\n",
    "# 3rd packages\n",
    "from torch.nn import ReLU, Tanh\n",
    "from math import ceil"
   ]
  },
  {
   "cell_type": "code",
   "execution_count": 26,
   "metadata": {},
   "outputs": [],
   "source": [
    "# parameter scheduler\n",
    "def scheduler(i, paras):\n",
    "    n_out = max(ceil(paras['n_out'] * uniform(0.3, 0.8)),5)\n",
    "    return dict(paras, n_out=n_out)\n",
    "\n",
    "# model generator\n",
    "generator = Generator1d(290, 1,  # num of input an output neuron\n",
    "                n_neuron=[ceil(uniform(0.8, 1.0) * 150) for n in range(5)],  # variety of neuron num in each layer\n",
    "                act_func=(ReLU(),),   # variety of activation function in each layer\n",
    "                drop_out=(0.1,),  # variety of dropout rate in each layer\n",
    "                batch_normalize=(wrap.L1.batch_norm(),)\n",
    "               )"
   ]
  },
  {
   "cell_type": "code",
   "execution_count": 30,
   "metadata": {},
   "outputs": [],
   "source": [
    "# --- generate models\n",
    "\n",
    "models = generator(4, n_models=1, replace=True, scheduler=scheduler)"
   ]
  },
  {
   "cell_type": "code",
   "execution_count": 31,
   "metadata": {},
   "outputs": [
    {
     "data": {
      "text/plain": [
       "<generator object Generator1d.__call__ at 0x1a48e97ca8>"
      ]
     },
     "execution_count": 31,
     "metadata": {},
     "output_type": "execute_result"
    }
   ],
   "source": [
    "# --- check the model generator\n",
    "\n",
    "models"
   ]
  },
  {
   "cell_type": "code",
   "execution_count": 32,
   "metadata": {},
   "outputs": [
    {
     "data": {
      "text/plain": [
       "Sequential(\n",
       "  (0): Layer1d(\n",
       "    (layer): Linear(in_features=290, out_features=125, bias=True)\n",
       "    (batch_nor): BatchNorm1d(125, eps=1e-05, momentum=0.1, affine=True, track_running_stats=True)\n",
       "    (act_func): ReLU()\n",
       "    (dropout): Dropout(p=0.1)\n",
       "  )\n",
       "  (1): Layer1d(\n",
       "    (layer): Linear(in_features=125, out_features=69, bias=True)\n",
       "    (batch_nor): BatchNorm1d(69, eps=1e-05, momentum=0.1, affine=True, track_running_stats=True)\n",
       "    (act_func): ReLU()\n",
       "    (dropout): Dropout(p=0.1)\n",
       "  )\n",
       "  (2): Layer1d(\n",
       "    (layer): Linear(in_features=69, out_features=38, bias=True)\n",
       "    (batch_nor): BatchNorm1d(38, eps=1e-05, momentum=0.1, affine=True, track_running_stats=True)\n",
       "    (act_func): ReLU()\n",
       "    (dropout): Dropout(p=0.1)\n",
       "  )\n",
       "  (3): Layer1d(\n",
       "    (layer): Linear(in_features=38, out_features=16, bias=True)\n",
       "    (batch_nor): BatchNorm1d(16, eps=1e-05, momentum=0.1, affine=True, track_running_stats=True)\n",
       "    (act_func): ReLU()\n",
       "    (dropout): Dropout(p=0.1)\n",
       "  )\n",
       "  (4): Linear(in_features=16, out_features=1, bias=True)\n",
       ")"
      ]
     },
     "execution_count": 32,
     "metadata": {},
     "output_type": "execute_result"
    }
   ],
   "source": [
    "model = list(models)[0]\n",
    "model"
   ]
  }
 ],
 "metadata": {
  "kernelspec": {
   "display_name": "Python 3",
   "language": "python",
   "name": "python3"
  },
  "language_info": {
   "codemirror_mode": {
    "name": "ipython",
    "version": 3
   },
   "file_extension": ".py",
   "mimetype": "text/x-python",
   "name": "python",
   "nbconvert_exporter": "python",
   "pygments_lexer": "ipython3",
   "version": "3.7.3"
  }
 },
 "nbformat": 4,
 "nbformat_minor": 4
}
