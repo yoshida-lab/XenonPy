{
 "cells": [
  {
   "cell_type": "code",
   "execution_count": null,
   "metadata": {},
   "outputs": [],
   "source": [
    "%run tools.ipynb"
   ]
  },
  {
   "cell_type": "markdown",
   "metadata": {},
   "source": [
    "### play with NN model"
   ]
  },
  {
   "cell_type": "code",
   "execution_count": 22,
   "metadata": {},
   "outputs": [],
   "source": [
    "# --- import necessary libraries\n",
    "\n",
    "from xenonpy.model.nn import Layer1d\n",
    "from torch.nn import Sequential"
   ]
  },
  {
   "cell_type": "code",
   "execution_count": 23,
   "metadata": {},
   "outputs": [],
   "source": [
    "# --- build nn regression model\n",
    "\n",
    "def Net(n_feature, n_hidden1, n_hidden2, n_hidden3, n_output):\n",
    "    return Sequential(\n",
    "        Layer1d(n_in=n_feature, n_out=n_hidden1), \n",
    "        Layer1d(n_in=n_hidden1, n_out=n_hidden2),\n",
    "        Layer1d(n_in=n_hidden2, n_out=n_hidden3),\n",
    "        Layer1d(n_in=n_hidden3, n_out=n_output, act_func=None, batch_nor=None)\n",
    "    ) \n",
    "\n",
    "nn_model = Net(\n",
    "    n_feature=290,\n",
    "    n_hidden1=200,\n",
    "    n_hidden2=100,\n",
    "    n_hidden3=30,\n",
    "    n_output=1)"
   ]
  },
  {
   "cell_type": "code",
   "execution_count": 24,
   "metadata": {},
   "outputs": [
    {
     "data": {
      "text/plain": [
       "Sequential(\n",
       "  (0): Layer1d(\n",
       "    (layer): Linear(in_features=290, out_features=200, bias=True)\n",
       "    (batch_nor): BatchNorm1d(200, eps=1e-05, momentum=0.1, affine=True, track_running_stats=True)\n",
       "    (act_func): ReLU()\n",
       "  )\n",
       "  (1): Layer1d(\n",
       "    (layer): Linear(in_features=200, out_features=100, bias=True)\n",
       "    (batch_nor): BatchNorm1d(100, eps=1e-05, momentum=0.1, affine=True, track_running_stats=True)\n",
       "    (act_func): ReLU()\n",
       "  )\n",
       "  (2): Layer1d(\n",
       "    (layer): Linear(in_features=100, out_features=30, bias=True)\n",
       "    (batch_nor): BatchNorm1d(30, eps=1e-05, momentum=0.1, affine=True, track_running_stats=True)\n",
       "    (act_func): ReLU()\n",
       "  )\n",
       "  (3): Layer1d(\n",
       "    (layer): Linear(in_features=30, out_features=1, bias=True)\n",
       "  )\n",
       ")"
      ]
     },
     "execution_count": 24,
     "metadata": {},
     "output_type": "execute_result"
    }
   ],
   "source": [
    "# --- check model\n",
    "\n",
    "nn_model"
   ]
  },
  {
   "cell_type": "markdown",
   "metadata": {},
   "source": [
    "### model building with random hyper parameters"
   ]
  },
  {
   "cell_type": "code",
   "execution_count": 25,
   "metadata": {},
   "outputs": [],
   "source": [
    "# --- import necessary libraries\n",
    "\n",
    "from xenonpy.model.nn import Generator1d\n",
    "from xenonpy.model.nn import wrap\n",
    "\n",
    "# 3rd packages\n",
    "from torch.nn import ReLU, Tanh\n",
    "from math import ceil"
   ]
  },
  {
   "cell_type": "code",
   "execution_count": 26,
   "metadata": {},
   "outputs": [],
   "source": [
    "# parameter scheduler\n",
    "def scheduler(i, paras):\n",
    "    n_out = max(ceil(paras['n_out'] * uniform(0.3, 0.8)),5)\n",
    "    return dict(paras, n_out=n_out)\n",
    "\n",
    "# model generator\n",
    "generator = Generator1d(290, 1,  # num of input an output neuron\n",
    "                n_neuron=[ceil(uniform(0.8, 1.0) * 150) for n in range(5)],  # variety of neuron num in each layer\n",
    "                act_func=(ReLU(),),   # variety of activation function in each layer\n",
    "                drop_out=(0.1,),  # variety of dropout rate in each layer\n",
    "                batch_normalize=(wrap.L1.batch_norm(),)\n",
    "               )"
   ]
  },
  {
   "cell_type": "code",
   "execution_count": 30,
   "metadata": {},
   "outputs": [],
   "source": [
    "# --- generate models\n",
    "\n",
    "models = generator(4, n_models=1, replace=True, scheduler=scheduler)"
   ]
  },
  {
   "cell_type": "code",
   "execution_count": 31,
   "metadata": {},
   "outputs": [
    {
     "data": {
      "text/plain": [
       "<generator object Generator1d.__call__ at 0x1a48e97ca8>"
      ]
     },
     "execution_count": 31,
     "metadata": {},
     "output_type": "execute_result"
    }
   ],
   "source": [
    "# --- check the model generator\n",
    "\n",
    "models"
   ]
  },
  {
   "cell_type": "code",
   "execution_count": 32,
   "metadata": {},
   "outputs": [
    {
     "data": {
      "text/plain": [
       "Sequential(\n",
       "  (0): Layer1d(\n",
       "    (layer): Linear(in_features=290, out_features=125, bias=True)\n",
       "    (batch_nor): BatchNorm1d(125, eps=1e-05, momentum=0.1, affine=True, track_running_stats=True)\n",
       "    (act_func): ReLU()\n",
       "    (dropout): Dropout(p=0.1)\n",
       "  )\n",
       "  (1): Layer1d(\n",
       "    (layer): Linear(in_features=125, out_features=69, bias=True)\n",
       "    (batch_nor): BatchNorm1d(69, eps=1e-05, momentum=0.1, affine=True, track_running_stats=True)\n",
       "    (act_func): ReLU()\n",
       "    (dropout): Dropout(p=0.1)\n",
       "  )\n",
       "  (2): Layer1d(\n",
       "    (layer): Linear(in_features=69, out_features=38, bias=True)\n",
       "    (batch_nor): BatchNorm1d(38, eps=1e-05, momentum=0.1, affine=True, track_running_stats=True)\n",
       "    (act_func): ReLU()\n",
       "    (dropout): Dropout(p=0.1)\n",
       "  )\n",
       "  (3): Layer1d(\n",
       "    (layer): Linear(in_features=38, out_features=16, bias=True)\n",
       "    (batch_nor): BatchNorm1d(16, eps=1e-05, momentum=0.1, affine=True, track_running_stats=True)\n",
       "    (act_func): ReLU()\n",
       "    (dropout): Dropout(p=0.1)\n",
       "  )\n",
       "  (4): Linear(in_features=16, out_features=1, bias=True)\n",
       ")"
      ]
     },
     "execution_count": 32,
     "metadata": {},
     "output_type": "execute_result"
    }
   ],
   "source": [
    "model = list(models)[0]\n",
    "model"
   ]
  }
 ],
 "metadata": {
  "kernelspec": {
   "display_name": "Python 3",
   "language": "python",
   "name": "python3"
  },
  "language_info": {
   "codemirror_mode": {
    "name": "ipython",
    "version": 3
   },
   "file_extension": ".py",
   "mimetype": "text/x-python",
   "name": "python",
   "nbconvert_exporter": "python",
   "pygments_lexer": "ipython3",
   "version": "3.6.8"
  }
 },
 "nbformat": 4,
 "nbformat_minor": 2
}
