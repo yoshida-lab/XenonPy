{
 "cells": [
  {
   "cell_type": "code",
   "execution_count": 1,
   "metadata": {},
   "outputs": [],
   "source": [
    "%run tools.ipynb"
   ]
  },
  {
   "cell_type": "markdown",
   "metadata": {},
   "source": [
    "### play with NN model"
   ]
  },
  {
   "cell_type": "code",
   "execution_count": 13,
   "metadata": {},
   "outputs": [],
   "source": [
    "# --- import necessary libraries\n",
    "\n",
    "from xenonpy.model import Layer1d\n",
    "from torch.nn import Sequential\n",
    "import torch\n",
    "import torch.nn.functional as F\n",
    "import matplotlib.pyplot as plt\n",
    "import plotly.express as px"
   ]
  },
  {
   "cell_type": "code",
   "execution_count": 64,
   "metadata": {},
   "outputs": [],
   "source": [
    "# --- build nn regression model\n",
    "\n",
    "def Net(n_feature, n_hidden1, n_hidden2, n_hidden3, n_output):\n",
    "    return Sequential(\n",
    "        Layer1d(n_in=n_feature, n_out=n_hidden1), \n",
    "        Layer1d(n_in=n_hidden1, n_out=n_hidden2),\n",
    "        Layer1d(n_in=n_hidden2, n_out=n_hidden3),\n",
    "        Layer1d(n_in=n_hidden3, n_out=n_output, act_func=None, batch_nor=None)\n",
    "    ) \n",
    "\n",
    "nn_model = Net(\n",
    "    n_feature=290,\n",
    "    n_hidden1=200,\n",
    "    n_hidden2=100,\n",
    "    n_hidden3=30,\n",
    "    n_output=1)"
   ]
  },
  {
   "cell_type": "code",
   "execution_count": 4,
   "metadata": {},
   "outputs": [
    {
     "data": {
      "text/plain": [
       "Sequential(\n",
       "  (0): Layer1d(\n",
       "    (layer): Linear(in_features=290, out_features=200, bias=True)\n",
       "    (batch_nor): BatchNorm1d(200, eps=1e-05, momentum=0.1, affine=True, track_running_stats=True)\n",
       "    (act_func): ReLU()\n",
       "  )\n",
       "  (1): Layer1d(\n",
       "    (layer): Linear(in_features=200, out_features=100, bias=True)\n",
       "    (batch_nor): BatchNorm1d(100, eps=1e-05, momentum=0.1, affine=True, track_running_stats=True)\n",
       "    (act_func): ReLU()\n",
       "  )\n",
       "  (2): Layer1d(\n",
       "    (layer): Linear(in_features=100, out_features=30, bias=True)\n",
       "    (batch_nor): BatchNorm1d(30, eps=1e-05, momentum=0.1, affine=True, track_running_stats=True)\n",
       "    (act_func): ReLU()\n",
       "  )\n",
       "  (3): Layer1d(\n",
       "    (layer): Linear(in_features=30, out_features=1, bias=True)\n",
       "  )\n",
       ")"
      ]
     },
     "execution_count": 4,
     "metadata": {},
     "output_type": "execute_result"
    }
   ],
   "source": [
    "# --- check model\n",
    "\n",
    "nn_model"
   ]
  },
  {
   "cell_type": "code",
   "execution_count": 5,
   "metadata": {},
   "outputs": [],
   "source": [
    "from xenonpy.model.training import Trainer, SGD, MSELoss\n",
    "from xenonpy.model.utils import regression_metrics\n",
    "from xenonpy.model.training.extension import TensorConverter, Validator"
   ]
  },
  {
   "cell_type": "code",
   "execution_count": 26,
   "metadata": {},
   "outputs": [],
   "source": [
    "x = np.linspace(-1, 1, 100)\n",
    "y = np.power(x_val, 2) + 0.2 * np.random.rand(x_val.size)\n",
    "\n",
    "x_val = np.linspace(-1, 1, 100)\n",
    "y_val = np.power(x_val, 2) + 0.2 * np.random.rand(x_val.size)"
   ]
  },
  {
   "cell_type": "code",
   "execution_count": 16,
   "metadata": {},
   "outputs": [],
   "source": [
    "class Net(torch.nn.Module):\n",
    "    def __init__(self, n_feature, n_hidden, n_output):\n",
    "        super(Net, self).__init__()\n",
    "        self.hidden = torch.nn.Linear(n_feature, n_hidden)   # hidden layer\n",
    "        self.predict = torch.nn.Linear(n_hidden, n_output)   # output layer\n",
    "\n",
    "    def forward(self, x):\n",
    "        x = F.relu(self.hidden(x))      # activation function for hidden layer\n",
    "        x = self.predict(x)             # linear output\n",
    "        return x"
   ]
  },
  {
   "cell_type": "code",
   "execution_count": 33,
   "metadata": {},
   "outputs": [
    {
     "data": {
      "text/plain": [
       "<torch._C.Generator at 0x7f83e1f152d0>"
      ]
     },
     "execution_count": 33,
     "metadata": {},
     "output_type": "execute_result"
    },
    {
     "data": {
      "text/plain": [
       "Trainer(cuda=None, epochs=100, loss_func=MSELoss(), lr_scheduler=None,\n",
       "        model=Net(\n",
       "  (hidden): Linear(in_features=1, out_features=10, bias=True)\n",
       "  (predict): Linear(in_features=10, out_features=1, bias=True)\n",
       "),\n",
       "        model_modifier=None,\n",
       "        optimizer=SGD (\n",
       "Parameter Group 0\n",
       "    dampening: 0\n",
       "    lr: 0.01\n",
       "    momentum: 0\n",
       "    nesterov: False\n",
       "    weight_decay: 0\n",
       "),\n",
       "        verbose=True)"
      ]
     },
     "execution_count": 33,
     "metadata": {},
     "output_type": "execute_result"
    }
   ],
   "source": [
    "torch.manual_seed(1)\n",
    "\n",
    "trainer = Trainer(\n",
    "    model=Net(n_feature=1, n_hidden=10, n_output=1),\n",
    "    optimizer=SGD(),\n",
    "    loss_func=MSELoss(),\n",
    "    epochs=100\n",
    ")\n",
    "\n",
    "trainer.extend(\n",
    "    TensorConverter(),\n",
    "    Validator(\n",
    "        x_val=x_val,\n",
    "        y_val=y_val,\n",
    "        metrics_func=regression_metrics),\n",
    ")\n",
    "trainer"
   ]
  },
  {
   "cell_type": "code",
   "execution_count": 34,
   "metadata": {},
   "outputs": [
    {
     "name": "stderr",
     "output_type": "stream",
     "text": [
      "100%|██████████| 100/100 [00:00<00:00, 643.89it/s]\n"
     ]
    }
   ],
   "source": [
    "trainer.fit(x, y)"
   ]
  },
  {
   "cell_type": "code",
   "execution_count": 38,
   "metadata": {},
   "outputs": [
    {
     "data": {
      "application/vnd.plotly.v1+json": {
       "config": {
        "plotlyServerURL": "https://plot.ly"
       },
       "data": [
        {
         "hoverlabel": {
          "namelength": 0
         },
         "hovertemplate": "train_loss=%{x}<br>val_mae=%{y}",
         "legendgroup": "",
         "marker": {
          "color": "#636efa",
          "symbol": "circle"
         },
         "mode": "markers",
         "name": "",
         "showlegend": false,
         "type": "scatter",
         "x": [
          0.004919723570346832,
          0.004551796317100525,
          0.004219645261764526,
          0.0039194154739379886,
          0.003647861182689667,
          0.003402036130428314,
          0.003179323673248291,
          0.002977388799190521,
          0.002794221043586731,
          0.002627991437911987,
          0.0024770577251911163,
          0.002339901179075241,
          0.002215254008769989,
          0.0021019262075424195,
          0.0019988508522510526,
          0.0019050672650337218,
          0.0018197055160999297,
          0.0017419609427452088,
          0.0016711579263210296,
          0.0016066564619541168,
          0.0015478774905204773,
          0.0014942969381809236,
          0.0014454397559165956,
          0.001400875300168991,
          0.0013602127134799958,
          0.0013230976462364197,
          0.0012892083823680877,
          0.001258249282836914,
          0.0012299537658691407,
          0.0012040875107049943,
          0.0011804311722517014,
          0.0011587852239608764,
          0.0011389683932065964,
          0.0011208170652389526,
          0.0011041826009750367,
          0.0010889259725809098,
          0.0010749232023954391,
          0.0010620612651109696,
          0.0010502376407384873,
          0.0010393588244915009,
          0.0010293401032686234,
          0.0010201062262058258,
          0.0010115888714790344,
          0.0010037195682525634,
          0.0009964400529861451,
          0.0009896973520517349,
          0.000983443334698677,
          0.0009776341170072555,
          0.000972229689359665,
          0.0009671937674283982,
          0.0009624932706356049,
          0.0009580962359905243,
          0.0009539727121591568,
          0.000950101837515831,
          0.0009464609622955322,
          0.000943029522895813,
          0.000939788818359375,
          0.0009367217868566513,
          0.0009338129311800003,
          0.0009310481697320938,
          0.0009284146130084991,
          0.0009259006381034851,
          0.0009234955906867981,
          0.0009211897850036621,
          0.0009189743548631668,
          0.0009168414771556855,
          0.000914783701300621,
          0.0009127939492464066,
          0.0009108564257621765,
          0.000908975824713707,
          0.0009071470052003861,
          0.0009053656458854675,
          0.0009036274254322053,
          0.0009019287675619125,
          0.0009002661705017089,
          0.0008986365050077438,
          0.0008970370143651963,
          0.0008954651653766632,
          0.0008939185738563538,
          0.0008923950791358948,
          0.0008908896148204803,
          0.0008893968909978867,
          0.0008879219740629196,
          0.0008864634484052658,
          0.0008850198239088059,
          0.0008835901319980622,
          0.0008821731060743332,
          0.0008807679265737533,
          0.0008793734759092331,
          0.0008779890835285187,
          0.0008766140043735504,
          0.0008752495050430298,
          0.0008738870173692704,
          0.0008725318312644959,
          0.0008711834996938706,
          0.0008698415756225586,
          0.0008685056120157242,
          0.0008671752363443374,
          0.0008658500760793685,
          0.0008645298331975937
         ],
         "xaxis": "x",
         "y": [
          0.5836684285145148,
          0.5552722780447348,
          0.5283369351964339,
          0.5027769550721988,
          0.47850677058509433,
          0.45544800222328746,
          0.4337936340965745,
          0.41361009540672,
          0.39524760747801024,
          0.37842364748260643,
          0.36365311752240337,
          0.35069847525164327,
          0.3392289849533552,
          0.32849485534608536,
          0.31887716366613916,
          0.3105457865749544,
          0.30353537912915785,
          0.2974921074150959,
          0.29223739680041466,
          0.2877223186935349,
          0.28435203854495766,
          0.28140141282731773,
          0.278674970745506,
          0.27616688329591904,
          0.27405746254526947,
          0.2721046055678783,
          0.27039151264471395,
          0.26874888790888174,
          0.2671735478763042,
          0.26573734713505714,
          0.26442606104325267,
          0.263285102974798,
          0.2621993340367334,
          0.26121578245694627,
          0.2603639586047665,
          0.25961562139554184,
          0.25889323426051297,
          0.2581956089810864,
          0.2575761891550728,
          0.2571035478658386,
          0.25668093680843135,
          0.25631336420282147,
          0.25601747550050136,
          0.2557971064750671,
          0.2555908124153137,
          0.2553852500025749,
          0.2551803915206909,
          0.25503756899899155,
          0.254927700505865,
          0.2548381603223208,
          0.2547437215310458,
          0.2546439007383708,
          0.25453988079847134,
          0.25444760568067387,
          0.2543788251988585,
          0.25430440820381,
          0.2542246118895705,
          0.25416369925869126,
          0.2541107765926184,
          0.25405147444141524,
          0.25398609827888624,
          0.2539149261606993,
          0.25383823286426677,
          0.2537562848223509,
          0.2536693207515539,
          0.2535863660483606,
          0.25351541506340575,
          0.25344477287323725,
          0.2533862238267208,
          0.25332470334624957,
          0.25327614612436006,
          0.2532210976586313,
          0.25315985567426397,
          0.2530927184925051,
          0.25301995671844196,
          0.25294184304332445,
          0.25285862423038197,
          0.2527705398902864,
          0.2526778254613848,
          0.2525801155672045,
          0.252476811777112,
          0.25236950404500674,
          0.25226057608003816,
          0.2521586539256116,
          0.25205274779672826,
          0.25194303561325276,
          0.2518297057258626,
          0.25171292860384187,
          0.25159286875601017,
          0.2514696921813031,
          0.251343544315054,
          0.251213120709612,
          0.2510800053584119,
          0.2509443213450452,
          0.25080619622345174,
          0.2506657512890836,
          0.2505230965125104,
          0.2503783338176747,
          0.2502315693008443,
          0.2500828992235204
         ],
         "yaxis": "y"
        }
       ],
       "layout": {
        "autosize": true,
        "legend": {
         "tracegroupgap": 0
        },
        "margin": {
         "t": 60
        },
        "template": {
         "data": {
          "bar": [
           {
            "error_x": {
             "color": "#2a3f5f"
            },
            "error_y": {
             "color": "#2a3f5f"
            },
            "marker": {
             "line": {
              "color": "#E5ECF6",
              "width": 0.5
             }
            },
            "type": "bar"
           }
          ],
          "barpolar": [
           {
            "marker": {
             "line": {
              "color": "#E5ECF6",
              "width": 0.5
             }
            },
            "type": "barpolar"
           }
          ],
          "carpet": [
           {
            "aaxis": {
             "endlinecolor": "#2a3f5f",
             "gridcolor": "white",
             "linecolor": "white",
             "minorgridcolor": "white",
             "startlinecolor": "#2a3f5f"
            },
            "baxis": {
             "endlinecolor": "#2a3f5f",
             "gridcolor": "white",
             "linecolor": "white",
             "minorgridcolor": "white",
             "startlinecolor": "#2a3f5f"
            },
            "type": "carpet"
           }
          ],
          "choropleth": [
           {
            "colorbar": {
             "outlinewidth": 0,
             "ticks": ""
            },
            "type": "choropleth"
           }
          ],
          "contour": [
           {
            "colorbar": {
             "outlinewidth": 0,
             "ticks": ""
            },
            "colorscale": [
             [
              0,
              "#0d0887"
             ],
             [
              0.1111111111111111,
              "#46039f"
             ],
             [
              0.2222222222222222,
              "#7201a8"
             ],
             [
              0.3333333333333333,
              "#9c179e"
             ],
             [
              0.4444444444444444,
              "#bd3786"
             ],
             [
              0.5555555555555556,
              "#d8576b"
             ],
             [
              0.6666666666666666,
              "#ed7953"
             ],
             [
              0.7777777777777778,
              "#fb9f3a"
             ],
             [
              0.8888888888888888,
              "#fdca26"
             ],
             [
              1,
              "#f0f921"
             ]
            ],
            "type": "contour"
           }
          ],
          "contourcarpet": [
           {
            "colorbar": {
             "outlinewidth": 0,
             "ticks": ""
            },
            "type": "contourcarpet"
           }
          ],
          "heatmap": [
           {
            "colorbar": {
             "outlinewidth": 0,
             "ticks": ""
            },
            "colorscale": [
             [
              0,
              "#0d0887"
             ],
             [
              0.1111111111111111,
              "#46039f"
             ],
             [
              0.2222222222222222,
              "#7201a8"
             ],
             [
              0.3333333333333333,
              "#9c179e"
             ],
             [
              0.4444444444444444,
              "#bd3786"
             ],
             [
              0.5555555555555556,
              "#d8576b"
             ],
             [
              0.6666666666666666,
              "#ed7953"
             ],
             [
              0.7777777777777778,
              "#fb9f3a"
             ],
             [
              0.8888888888888888,
              "#fdca26"
             ],
             [
              1,
              "#f0f921"
             ]
            ],
            "type": "heatmap"
           }
          ],
          "heatmapgl": [
           {
            "colorbar": {
             "outlinewidth": 0,
             "ticks": ""
            },
            "colorscale": [
             [
              0,
              "#0d0887"
             ],
             [
              0.1111111111111111,
              "#46039f"
             ],
             [
              0.2222222222222222,
              "#7201a8"
             ],
             [
              0.3333333333333333,
              "#9c179e"
             ],
             [
              0.4444444444444444,
              "#bd3786"
             ],
             [
              0.5555555555555556,
              "#d8576b"
             ],
             [
              0.6666666666666666,
              "#ed7953"
             ],
             [
              0.7777777777777778,
              "#fb9f3a"
             ],
             [
              0.8888888888888888,
              "#fdca26"
             ],
             [
              1,
              "#f0f921"
             ]
            ],
            "type": "heatmapgl"
           }
          ],
          "histogram": [
           {
            "marker": {
             "colorbar": {
              "outlinewidth": 0,
              "ticks": ""
             }
            },
            "type": "histogram"
           }
          ],
          "histogram2d": [
           {
            "colorbar": {
             "outlinewidth": 0,
             "ticks": ""
            },
            "colorscale": [
             [
              0,
              "#0d0887"
             ],
             [
              0.1111111111111111,
              "#46039f"
             ],
             [
              0.2222222222222222,
              "#7201a8"
             ],
             [
              0.3333333333333333,
              "#9c179e"
             ],
             [
              0.4444444444444444,
              "#bd3786"
             ],
             [
              0.5555555555555556,
              "#d8576b"
             ],
             [
              0.6666666666666666,
              "#ed7953"
             ],
             [
              0.7777777777777778,
              "#fb9f3a"
             ],
             [
              0.8888888888888888,
              "#fdca26"
             ],
             [
              1,
              "#f0f921"
             ]
            ],
            "type": "histogram2d"
           }
          ],
          "histogram2dcontour": [
           {
            "colorbar": {
             "outlinewidth": 0,
             "ticks": ""
            },
            "colorscale": [
             [
              0,
              "#0d0887"
             ],
             [
              0.1111111111111111,
              "#46039f"
             ],
             [
              0.2222222222222222,
              "#7201a8"
             ],
             [
              0.3333333333333333,
              "#9c179e"
             ],
             [
              0.4444444444444444,
              "#bd3786"
             ],
             [
              0.5555555555555556,
              "#d8576b"
             ],
             [
              0.6666666666666666,
              "#ed7953"
             ],
             [
              0.7777777777777778,
              "#fb9f3a"
             ],
             [
              0.8888888888888888,
              "#fdca26"
             ],
             [
              1,
              "#f0f921"
             ]
            ],
            "type": "histogram2dcontour"
           }
          ],
          "mesh3d": [
           {
            "colorbar": {
             "outlinewidth": 0,
             "ticks": ""
            },
            "type": "mesh3d"
           }
          ],
          "parcoords": [
           {
            "line": {
             "colorbar": {
              "outlinewidth": 0,
              "ticks": ""
             }
            },
            "type": "parcoords"
           }
          ],
          "scatter": [
           {
            "marker": {
             "colorbar": {
              "outlinewidth": 0,
              "ticks": ""
             }
            },
            "type": "scatter"
           }
          ],
          "scatter3d": [
           {
            "line": {
             "colorbar": {
              "outlinewidth": 0,
              "ticks": ""
             }
            },
            "marker": {
             "colorbar": {
              "outlinewidth": 0,
              "ticks": ""
             }
            },
            "type": "scatter3d"
           }
          ],
          "scattercarpet": [
           {
            "marker": {
             "colorbar": {
              "outlinewidth": 0,
              "ticks": ""
             }
            },
            "type": "scattercarpet"
           }
          ],
          "scattergeo": [
           {
            "marker": {
             "colorbar": {
              "outlinewidth": 0,
              "ticks": ""
             }
            },
            "type": "scattergeo"
           }
          ],
          "scattergl": [
           {
            "marker": {
             "colorbar": {
              "outlinewidth": 0,
              "ticks": ""
             }
            },
            "type": "scattergl"
           }
          ],
          "scattermapbox": [
           {
            "marker": {
             "colorbar": {
              "outlinewidth": 0,
              "ticks": ""
             }
            },
            "type": "scattermapbox"
           }
          ],
          "scatterpolar": [
           {
            "marker": {
             "colorbar": {
              "outlinewidth": 0,
              "ticks": ""
             }
            },
            "type": "scatterpolar"
           }
          ],
          "scatterpolargl": [
           {
            "marker": {
             "colorbar": {
              "outlinewidth": 0,
              "ticks": ""
             }
            },
            "type": "scatterpolargl"
           }
          ],
          "scatterternary": [
           {
            "marker": {
             "colorbar": {
              "outlinewidth": 0,
              "ticks": ""
             }
            },
            "type": "scatterternary"
           }
          ],
          "surface": [
           {
            "colorbar": {
             "outlinewidth": 0,
             "ticks": ""
            },
            "colorscale": [
             [
              0,
              "#0d0887"
             ],
             [
              0.1111111111111111,
              "#46039f"
             ],
             [
              0.2222222222222222,
              "#7201a8"
             ],
             [
              0.3333333333333333,
              "#9c179e"
             ],
             [
              0.4444444444444444,
              "#bd3786"
             ],
             [
              0.5555555555555556,
              "#d8576b"
             ],
             [
              0.6666666666666666,
              "#ed7953"
             ],
             [
              0.7777777777777778,
              "#fb9f3a"
             ],
             [
              0.8888888888888888,
              "#fdca26"
             ],
             [
              1,
              "#f0f921"
             ]
            ],
            "type": "surface"
           }
          ],
          "table": [
           {
            "cells": {
             "fill": {
              "color": "#EBF0F8"
             },
             "line": {
              "color": "white"
             }
            },
            "header": {
             "fill": {
              "color": "#C8D4E3"
             },
             "line": {
              "color": "white"
             }
            },
            "type": "table"
           }
          ]
         },
         "layout": {
          "annotationdefaults": {
           "arrowcolor": "#2a3f5f",
           "arrowhead": 0,
           "arrowwidth": 1
          },
          "colorscale": {
           "diverging": [
            [
             0,
             "#8e0152"
            ],
            [
             0.1,
             "#c51b7d"
            ],
            [
             0.2,
             "#de77ae"
            ],
            [
             0.3,
             "#f1b6da"
            ],
            [
             0.4,
             "#fde0ef"
            ],
            [
             0.5,
             "#f7f7f7"
            ],
            [
             0.6,
             "#e6f5d0"
            ],
            [
             0.7,
             "#b8e186"
            ],
            [
             0.8,
             "#7fbc41"
            ],
            [
             0.9,
             "#4d9221"
            ],
            [
             1,
             "#276419"
            ]
           ],
           "sequential": [
            [
             0,
             "#0d0887"
            ],
            [
             0.1111111111111111,
             "#46039f"
            ],
            [
             0.2222222222222222,
             "#7201a8"
            ],
            [
             0.3333333333333333,
             "#9c179e"
            ],
            [
             0.4444444444444444,
             "#bd3786"
            ],
            [
             0.5555555555555556,
             "#d8576b"
            ],
            [
             0.6666666666666666,
             "#ed7953"
            ],
            [
             0.7777777777777778,
             "#fb9f3a"
            ],
            [
             0.8888888888888888,
             "#fdca26"
            ],
            [
             1,
             "#f0f921"
            ]
           ],
           "sequentialminus": [
            [
             0,
             "#0d0887"
            ],
            [
             0.1111111111111111,
             "#46039f"
            ],
            [
             0.2222222222222222,
             "#7201a8"
            ],
            [
             0.3333333333333333,
             "#9c179e"
            ],
            [
             0.4444444444444444,
             "#bd3786"
            ],
            [
             0.5555555555555556,
             "#d8576b"
            ],
            [
             0.6666666666666666,
             "#ed7953"
            ],
            [
             0.7777777777777778,
             "#fb9f3a"
            ],
            [
             0.8888888888888888,
             "#fdca26"
            ],
            [
             1,
             "#f0f921"
            ]
           ]
          },
          "colorway": [
           "#636efa",
           "#EF553B",
           "#00cc96",
           "#ab63fa",
           "#FFA15A",
           "#19d3f3",
           "#FF6692",
           "#B6E880",
           "#FF97FF",
           "#FECB52"
          ],
          "font": {
           "color": "#2a3f5f"
          },
          "geo": {
           "bgcolor": "white",
           "lakecolor": "white",
           "landcolor": "#E5ECF6",
           "showlakes": true,
           "showland": true,
           "subunitcolor": "white"
          },
          "hoverlabel": {
           "align": "left"
          },
          "hovermode": "closest",
          "mapbox": {
           "style": "light"
          },
          "paper_bgcolor": "white",
          "plot_bgcolor": "#E5ECF6",
          "polar": {
           "angularaxis": {
            "gridcolor": "white",
            "linecolor": "white",
            "ticks": ""
           },
           "bgcolor": "#E5ECF6",
           "radialaxis": {
            "gridcolor": "white",
            "linecolor": "white",
            "ticks": ""
           }
          },
          "scene": {
           "xaxis": {
            "backgroundcolor": "#E5ECF6",
            "gridcolor": "white",
            "gridwidth": 2,
            "linecolor": "white",
            "showbackground": true,
            "ticks": "",
            "zerolinecolor": "white"
           },
           "yaxis": {
            "backgroundcolor": "#E5ECF6",
            "gridcolor": "white",
            "gridwidth": 2,
            "linecolor": "white",
            "showbackground": true,
            "ticks": "",
            "zerolinecolor": "white"
           },
           "zaxis": {
            "backgroundcolor": "#E5ECF6",
            "gridcolor": "white",
            "gridwidth": 2,
            "linecolor": "white",
            "showbackground": true,
            "ticks": "",
            "zerolinecolor": "white"
           }
          },
          "shapedefaults": {
           "line": {
            "color": "#2a3f5f"
           }
          },
          "ternary": {
           "aaxis": {
            "gridcolor": "white",
            "linecolor": "white",
            "ticks": ""
           },
           "baxis": {
            "gridcolor": "white",
            "linecolor": "white",
            "ticks": ""
           },
           "bgcolor": "#E5ECF6",
           "caxis": {
            "gridcolor": "white",
            "linecolor": "white",
            "ticks": ""
           }
          },
          "title": {
           "x": 0.05
          },
          "xaxis": {
           "automargin": true,
           "gridcolor": "white",
           "linecolor": "white",
           "ticks": "",
           "zerolinecolor": "white",
           "zerolinewidth": 2
          },
          "yaxis": {
           "automargin": true,
           "gridcolor": "white",
           "linecolor": "white",
           "ticks": "",
           "zerolinecolor": "white",
           "zerolinewidth": 2
          }
         }
        },
        "xaxis": {
         "anchor": "y",
         "autorange": true,
         "domain": [
          0,
          0.98
         ],
         "range": [
          0.0006225465248013302,
          0.005161706878743096
         ],
         "showspikes": true,
         "title": {
          "text": "train_loss"
         },
         "type": "linear"
        },
        "yaxis": {
         "anchor": "x",
         "autorange": true,
         "domain": [
          0,
          1
         ],
         "range": [
          0.22813108395037376,
          0.6056202437876614
         ],
         "showspikes": true,
         "title": {
          "text": "val_mae"
         },
         "type": "linear"
        }
       }
      },
      "image/png": "[encoded data removed]",
      "text/html": [
       "<div>\n",
       "        \n",
       "        \n",
       "            <div id=\"0b239d14-0b65-4478-8ce0-eab18fe476df\" class=\"plotly-graph-div\" style=\"height:600px; width:100%;\"></div>\n",
       "            <script type=\"text/javascript\">\n",
       "                require([\"plotly\"], function(Plotly) {\n",
       "                    window.PLOTLYENV=window.PLOTLYENV || {};\n",
       "                    \n",
       "                if (document.getElementById(\"0b239d14-0b65-4478-8ce0-eab18fe476df\")) {\n",
       "                    Plotly.newPlot(\n",
       "                        '0b239d14-0b65-4478-8ce0-eab18fe476df',\n",
       "                        [{\"hoverlabel\": {\"namelength\": 0}, \"hovertemplate\": \"train_loss=%{x}<br>val_mae=%{y}\", \"legendgroup\": \"\", \"marker\": {\"color\": \"#636efa\", \"symbol\": \"circle\"}, \"mode\": \"markers\", \"name\": \"\", \"showlegend\": false, \"type\": \"scatter\", \"x\": [0.004919723570346832, 0.004551796317100525, 0.004219645261764526, 0.0039194154739379886, 0.003647861182689667, 0.003402036130428314, 0.003179323673248291, 0.002977388799190521, 0.002794221043586731, 0.002627991437911987, 0.0024770577251911163, 0.002339901179075241, 0.002215254008769989, 0.0021019262075424195, 0.0019988508522510526, 0.0019050672650337218, 0.0018197055160999297, 0.0017419609427452088, 0.0016711579263210296, 0.0016066564619541168, 0.0015478774905204773, 0.0014942969381809236, 0.0014454397559165956, 0.001400875300168991, 0.0013602127134799958, 0.0013230976462364197, 0.0012892083823680877, 0.001258249282836914, 0.0012299537658691407, 0.0012040875107049943, 0.0011804311722517014, 0.0011587852239608764, 0.0011389683932065964, 0.0011208170652389526, 0.0011041826009750367, 0.0010889259725809098, 0.0010749232023954391, 0.0010620612651109696, 0.0010502376407384873, 0.0010393588244915009, 0.0010293401032686234, 0.0010201062262058258, 0.0010115888714790344, 0.0010037195682525634, 0.0009964400529861451, 0.0009896973520517349, 0.000983443334698677, 0.0009776341170072555, 0.000972229689359665, 0.0009671937674283982, 0.0009624932706356049, 0.0009580962359905243, 0.0009539727121591568, 0.000950101837515831, 0.0009464609622955322, 0.000943029522895813, 0.000939788818359375, 0.0009367217868566513, 0.0009338129311800003, 0.0009310481697320938, 0.0009284146130084991, 0.0009259006381034851, 0.0009234955906867981, 0.0009211897850036621, 0.0009189743548631668, 0.0009168414771556855, 0.000914783701300621, 0.0009127939492464066, 0.0009108564257621765, 0.000908975824713707, 0.0009071470052003861, 0.0009053656458854675, 0.0009036274254322053, 0.0009019287675619125, 0.0009002661705017089, 0.0008986365050077438, 0.0008970370143651963, 0.0008954651653766632, 0.0008939185738563538, 0.0008923950791358948, 0.0008908896148204803, 0.0008893968909978867, 0.0008879219740629196, 0.0008864634484052658, 0.0008850198239088059, 0.0008835901319980622, 0.0008821731060743332, 0.0008807679265737533, 0.0008793734759092331, 0.0008779890835285187, 0.0008766140043735504, 0.0008752495050430298, 0.0008738870173692704, 0.0008725318312644959, 0.0008711834996938706, 0.0008698415756225586, 0.0008685056120157242, 0.0008671752363443374, 0.0008658500760793685, 0.0008645298331975937], \"xaxis\": \"x\", \"y\": [0.5836684285145148, 0.5552722780447348, 0.5283369351964339, 0.5027769550721988, 0.47850677058509433, 0.45544800222328746, 0.4337936340965745, 0.41361009540672, 0.39524760747801024, 0.37842364748260643, 0.36365311752240337, 0.35069847525164327, 0.3392289849533552, 0.32849485534608536, 0.31887716366613916, 0.3105457865749544, 0.30353537912915785, 0.2974921074150959, 0.29223739680041466, 0.2877223186935349, 0.28435203854495766, 0.28140141282731773, 0.278674970745506, 0.27616688329591904, 0.27405746254526947, 0.2721046055678783, 0.27039151264471395, 0.26874888790888174, 0.2671735478763042, 0.26573734713505714, 0.26442606104325267, 0.263285102974798, 0.2621993340367334, 0.26121578245694627, 0.2603639586047665, 0.25961562139554184, 0.25889323426051297, 0.2581956089810864, 0.2575761891550728, 0.2571035478658386, 0.25668093680843135, 0.25631336420282147, 0.25601747550050136, 0.2557971064750671, 0.2555908124153137, 0.2553852500025749, 0.2551803915206909, 0.25503756899899155, 0.254927700505865, 0.2548381603223208, 0.2547437215310458, 0.2546439007383708, 0.25453988079847134, 0.25444760568067387, 0.2543788251988585, 0.25430440820381, 0.2542246118895705, 0.25416369925869126, 0.2541107765926184, 0.25405147444141524, 0.25398609827888624, 0.2539149261606993, 0.25383823286426677, 0.2537562848223509, 0.2536693207515539, 0.2535863660483606, 0.25351541506340575, 0.25344477287323725, 0.2533862238267208, 0.25332470334624957, 0.25327614612436006, 0.2532210976586313, 0.25315985567426397, 0.2530927184925051, 0.25301995671844196, 0.25294184304332445, 0.25285862423038197, 0.2527705398902864, 0.2526778254613848, 0.2525801155672045, 0.252476811777112, 0.25236950404500674, 0.25226057608003816, 0.2521586539256116, 0.25205274779672826, 0.25194303561325276, 0.2518297057258626, 0.25171292860384187, 0.25159286875601017, 0.2514696921813031, 0.251343544315054, 0.251213120709612, 0.2510800053584119, 0.2509443213450452, 0.25080619622345174, 0.2506657512890836, 0.2505230965125104, 0.2503783338176747, 0.2502315693008443, 0.2500828992235204], \"yaxis\": \"y\"}],\n",
       "                        {\"height\": 600, \"legend\": {\"tracegroupgap\": 0}, \"margin\": {\"t\": 60}, \"template\": {\"data\": {\"bar\": [{\"error_x\": {\"color\": \"#2a3f5f\"}, \"error_y\": {\"color\": \"#2a3f5f\"}, \"marker\": {\"line\": {\"color\": \"#E5ECF6\", \"width\": 0.5}}, \"type\": \"bar\"}], \"barpolar\": [{\"marker\": {\"line\": {\"color\": \"#E5ECF6\", \"width\": 0.5}}, \"type\": \"barpolar\"}], \"carpet\": [{\"aaxis\": {\"endlinecolor\": \"#2a3f5f\", \"gridcolor\": \"white\", \"linecolor\": \"white\", \"minorgridcolor\": \"white\", \"startlinecolor\": \"#2a3f5f\"}, \"baxis\": {\"endlinecolor\": \"#2a3f5f\", \"gridcolor\": \"white\", \"linecolor\": \"white\", \"minorgridcolor\": \"white\", \"startlinecolor\": \"#2a3f5f\"}, \"type\": \"carpet\"}], \"choropleth\": [{\"colorbar\": {\"outlinewidth\": 0, \"ticks\": \"\"}, \"type\": \"choropleth\"}], \"contour\": [{\"colorbar\": {\"outlinewidth\": 0, \"ticks\": \"\"}, \"colorscale\": [[0.0, \"#0d0887\"], [0.1111111111111111, \"#46039f\"], [0.2222222222222222, \"#7201a8\"], [0.3333333333333333, \"#9c179e\"], [0.4444444444444444, \"#bd3786\"], [0.5555555555555556, \"#d8576b\"], [0.6666666666666666, \"#ed7953\"], [0.7777777777777778, \"#fb9f3a\"], [0.8888888888888888, \"#fdca26\"], [1.0, \"#f0f921\"]], \"type\": \"contour\"}], \"contourcarpet\": [{\"colorbar\": {\"outlinewidth\": 0, \"ticks\": \"\"}, \"type\": \"contourcarpet\"}], \"heatmap\": [{\"colorbar\": {\"outlinewidth\": 0, \"ticks\": \"\"}, \"colorscale\": [[0.0, \"#0d0887\"], [0.1111111111111111, \"#46039f\"], [0.2222222222222222, \"#7201a8\"], [0.3333333333333333, \"#9c179e\"], [0.4444444444444444, \"#bd3786\"], [0.5555555555555556, \"#d8576b\"], [0.6666666666666666, \"#ed7953\"], [0.7777777777777778, \"#fb9f3a\"], [0.8888888888888888, \"#fdca26\"], [1.0, \"#f0f921\"]], \"type\": \"heatmap\"}], \"heatmapgl\": [{\"colorbar\": {\"outlinewidth\": 0, \"ticks\": \"\"}, \"colorscale\": [[0.0, \"#0d0887\"], [0.1111111111111111, \"#46039f\"], [0.2222222222222222, \"#7201a8\"], [0.3333333333333333, \"#9c179e\"], [0.4444444444444444, \"#bd3786\"], [0.5555555555555556, \"#d8576b\"], [0.6666666666666666, \"#ed7953\"], [0.7777777777777778, \"#fb9f3a\"], [0.8888888888888888, \"#fdca26\"], [1.0, \"#f0f921\"]], \"type\": \"heatmapgl\"}], \"histogram\": [{\"marker\": {\"colorbar\": {\"outlinewidth\": 0, \"ticks\": \"\"}}, \"type\": \"histogram\"}], \"histogram2d\": [{\"colorbar\": {\"outlinewidth\": 0, \"ticks\": \"\"}, \"colorscale\": [[0.0, \"#0d0887\"], [0.1111111111111111, \"#46039f\"], [0.2222222222222222, \"#7201a8\"], [0.3333333333333333, \"#9c179e\"], [0.4444444444444444, \"#bd3786\"], [0.5555555555555556, \"#d8576b\"], [0.6666666666666666, \"#ed7953\"], [0.7777777777777778, \"#fb9f3a\"], [0.8888888888888888, \"#fdca26\"], [1.0, \"#f0f921\"]], \"type\": \"histogram2d\"}], \"histogram2dcontour\": [{\"colorbar\": {\"outlinewidth\": 0, \"ticks\": \"\"}, \"colorscale\": [[0.0, \"#0d0887\"], [0.1111111111111111, \"#46039f\"], [0.2222222222222222, \"#7201a8\"], [0.3333333333333333, \"#9c179e\"], [0.4444444444444444, \"#bd3786\"], [0.5555555555555556, \"#d8576b\"], [0.6666666666666666, \"#ed7953\"], [0.7777777777777778, \"#fb9f3a\"], [0.8888888888888888, \"#fdca26\"], [1.0, \"#f0f921\"]], \"type\": \"histogram2dcontour\"}], \"mesh3d\": [{\"colorbar\": {\"outlinewidth\": 0, \"ticks\": \"\"}, \"type\": \"mesh3d\"}], \"parcoords\": [{\"line\": {\"colorbar\": {\"outlinewidth\": 0, \"ticks\": \"\"}}, \"type\": \"parcoords\"}], \"scatter\": [{\"marker\": {\"colorbar\": {\"outlinewidth\": 0, \"ticks\": \"\"}}, \"type\": \"scatter\"}], \"scatter3d\": [{\"line\": {\"colorbar\": {\"outlinewidth\": 0, \"ticks\": \"\"}}, \"marker\": {\"colorbar\": {\"outlinewidth\": 0, \"ticks\": \"\"}}, \"type\": \"scatter3d\"}], \"scattercarpet\": [{\"marker\": {\"colorbar\": {\"outlinewidth\": 0, \"ticks\": \"\"}}, \"type\": \"scattercarpet\"}], \"scattergeo\": [{\"marker\": {\"colorbar\": {\"outlinewidth\": 0, \"ticks\": \"\"}}, \"type\": \"scattergeo\"}], \"scattergl\": [{\"marker\": {\"colorbar\": {\"outlinewidth\": 0, \"ticks\": \"\"}}, \"type\": \"scattergl\"}], \"scattermapbox\": [{\"marker\": {\"colorbar\": {\"outlinewidth\": 0, \"ticks\": \"\"}}, \"type\": \"scattermapbox\"}], \"scatterpolar\": [{\"marker\": {\"colorbar\": {\"outlinewidth\": 0, \"ticks\": \"\"}}, \"type\": \"scatterpolar\"}], \"scatterpolargl\": [{\"marker\": {\"colorbar\": {\"outlinewidth\": 0, \"ticks\": \"\"}}, \"type\": \"scatterpolargl\"}], \"scatterternary\": [{\"marker\": {\"colorbar\": {\"outlinewidth\": 0, \"ticks\": \"\"}}, \"type\": \"scatterternary\"}], \"surface\": [{\"colorbar\": {\"outlinewidth\": 0, \"ticks\": \"\"}, \"colorscale\": [[0.0, \"#0d0887\"], [0.1111111111111111, \"#46039f\"], [0.2222222222222222, \"#7201a8\"], [0.3333333333333333, \"#9c179e\"], [0.4444444444444444, \"#bd3786\"], [0.5555555555555556, \"#d8576b\"], [0.6666666666666666, \"#ed7953\"], [0.7777777777777778, \"#fb9f3a\"], [0.8888888888888888, \"#fdca26\"], [1.0, \"#f0f921\"]], \"type\": \"surface\"}], \"table\": [{\"cells\": {\"fill\": {\"color\": \"#EBF0F8\"}, \"line\": {\"color\": \"white\"}}, \"header\": {\"fill\": {\"color\": \"#C8D4E3\"}, \"line\": {\"color\": \"white\"}}, \"type\": \"table\"}]}, \"layout\": {\"annotationdefaults\": {\"arrowcolor\": \"#2a3f5f\", \"arrowhead\": 0, \"arrowwidth\": 1}, \"colorscale\": {\"diverging\": [[0, \"#8e0152\"], [0.1, \"#c51b7d\"], [0.2, \"#de77ae\"], [0.3, \"#f1b6da\"], [0.4, \"#fde0ef\"], [0.5, \"#f7f7f7\"], [0.6, \"#e6f5d0\"], [0.7, \"#b8e186\"], [0.8, \"#7fbc41\"], [0.9, \"#4d9221\"], [1, \"#276419\"]], \"sequential\": [[0.0, \"#0d0887\"], [0.1111111111111111, \"#46039f\"], [0.2222222222222222, \"#7201a8\"], [0.3333333333333333, \"#9c179e\"], [0.4444444444444444, \"#bd3786\"], [0.5555555555555556, \"#d8576b\"], [0.6666666666666666, \"#ed7953\"], [0.7777777777777778, \"#fb9f3a\"], [0.8888888888888888, \"#fdca26\"], [1.0, \"#f0f921\"]], \"sequentialminus\": [[0.0, \"#0d0887\"], [0.1111111111111111, \"#46039f\"], [0.2222222222222222, \"#7201a8\"], [0.3333333333333333, \"#9c179e\"], [0.4444444444444444, \"#bd3786\"], [0.5555555555555556, \"#d8576b\"], [0.6666666666666666, \"#ed7953\"], [0.7777777777777778, \"#fb9f3a\"], [0.8888888888888888, \"#fdca26\"], [1.0, \"#f0f921\"]]}, \"colorway\": [\"#636efa\", \"#EF553B\", \"#00cc96\", \"#ab63fa\", \"#FFA15A\", \"#19d3f3\", \"#FF6692\", \"#B6E880\", \"#FF97FF\", \"#FECB52\"], \"font\": {\"color\": \"#2a3f5f\"}, \"geo\": {\"bgcolor\": \"white\", \"lakecolor\": \"white\", \"landcolor\": \"#E5ECF6\", \"showlakes\": true, \"showland\": true, \"subunitcolor\": \"white\"}, \"hoverlabel\": {\"align\": \"left\"}, \"hovermode\": \"closest\", \"mapbox\": {\"style\": \"light\"}, \"paper_bgcolor\": \"white\", \"plot_bgcolor\": \"#E5ECF6\", \"polar\": {\"angularaxis\": {\"gridcolor\": \"white\", \"linecolor\": \"white\", \"ticks\": \"\"}, \"bgcolor\": \"#E5ECF6\", \"radialaxis\": {\"gridcolor\": \"white\", \"linecolor\": \"white\", \"ticks\": \"\"}}, \"scene\": {\"xaxis\": {\"backgroundcolor\": \"#E5ECF6\", \"gridcolor\": \"white\", \"gridwidth\": 2, \"linecolor\": \"white\", \"showbackground\": true, \"ticks\": \"\", \"zerolinecolor\": \"white\"}, \"yaxis\": {\"backgroundcolor\": \"#E5ECF6\", \"gridcolor\": \"white\", \"gridwidth\": 2, \"linecolor\": \"white\", \"showbackground\": true, \"ticks\": \"\", \"zerolinecolor\": \"white\"}, \"zaxis\": {\"backgroundcolor\": \"#E5ECF6\", \"gridcolor\": \"white\", \"gridwidth\": 2, \"linecolor\": \"white\", \"showbackground\": true, \"ticks\": \"\", \"zerolinecolor\": \"white\"}}, \"shapedefaults\": {\"line\": {\"color\": \"#2a3f5f\"}}, \"ternary\": {\"aaxis\": {\"gridcolor\": \"white\", \"linecolor\": \"white\", \"ticks\": \"\"}, \"baxis\": {\"gridcolor\": \"white\", \"linecolor\": \"white\", \"ticks\": \"\"}, \"bgcolor\": \"#E5ECF6\", \"caxis\": {\"gridcolor\": \"white\", \"linecolor\": \"white\", \"ticks\": \"\"}}, \"title\": {\"x\": 0.05}, \"xaxis\": {\"automargin\": true, \"gridcolor\": \"white\", \"linecolor\": \"white\", \"ticks\": \"\", \"zerolinecolor\": \"white\", \"zerolinewidth\": 2}, \"yaxis\": {\"automargin\": true, \"gridcolor\": \"white\", \"linecolor\": \"white\", \"ticks\": \"\", \"zerolinecolor\": \"white\", \"zerolinewidth\": 2}}}, \"xaxis\": {\"anchor\": \"y\", \"domain\": [0.0, 0.98], \"title\": {\"text\": \"train_loss\"}}, \"yaxis\": {\"anchor\": \"x\", \"domain\": [0.0, 1.0], \"title\": {\"text\": \"val_mae\"}}},\n",
       "                        {\"responsive\": true}\n",
       "                    ).then(function(){\n",
       "                            \n",
       "var gd = document.getElementById('0b239d14-0b65-4478-8ce0-eab18fe476df');\n",
       "var x = new MutationObserver(function (mutations, observer) {{\n",
       "        var display = window.getComputedStyle(gd).display;\n",
       "        if (!display || display === 'none') {{\n",
       "            console.log([gd, 'removed!']);\n",
       "            Plotly.purge(gd);\n",
       "            observer.disconnect();\n",
       "        }}\n",
       "}});\n",
       "\n",
       "// Listen for the removal of the full notebook cells\n",
       "var notebookContainer = gd.closest('#notebook-container');\n",
       "if (notebookContainer) {{\n",
       "    x.observe(notebookContainer, {childList: true});\n",
       "}}\n",
       "\n",
       "// Listen for the clearing of the current output cell\n",
       "var outputEl = gd.closest('.output');\n",
       "if (outputEl) {{\n",
       "    x.observe(outputEl, {childList: true});\n",
       "}}\n",
       "\n",
       "                        })\n",
       "                };\n",
       "                });\n",
       "            </script>\n",
       "        </div>"
      ]
     },
     "metadata": {},
     "output_type": "display_data"
    }
   ],
   "source": [
    "fig = px.scatter(trainer.step_info, x='train_loss', y='val_mae')\n",
    "fig.show()\n"
   ]
  },
  {
   "cell_type": "markdown",
   "metadata": {},
   "source": [
    "# Model training"
   ]
  },
  {
   "cell_type": "code",
   "execution_count": 44,
   "metadata": {},
   "outputs": [],
   "source": [
    "from xenonpy.model.training import Trainer, SGD, MSELoss, Adam, ReduceLROnPlateau, ExponentialLR\n",
    "from xenonpy.model.training.extension import Validator, TensorConverter\n",
    "from xenonpy.datatools import preset, Splitter\n",
    "from xenonpy.descriptor import Compositions"
   ]
  },
  {
   "cell_type": "code",
   "execution_count": 45,
   "metadata": {},
   "outputs": [
    {
     "data": {
      "text/html": [
       "<div>\n",
       "<style scoped>\n",
       "    .dataframe tbody tr th:only-of-type {\n",
       "        vertical-align: middle;\n",
       "    }\n",
       "\n",
       "    .dataframe tbody tr th {\n",
       "        vertical-align: top;\n",
       "    }\n",
       "\n",
       "    .dataframe thead th {\n",
       "        text-align: right;\n",
       "    }\n",
       "</style>\n",
       "<table border=\"1\" class=\"dataframe\">\n",
       "  <thead>\n",
       "    <tr style=\"text-align: right;\">\n",
       "      <th></th>\n",
       "      <th>band_gap</th>\n",
       "      <th>composition</th>\n",
       "      <th>density</th>\n",
       "      <th>e_above_hull</th>\n",
       "      <th>efermi</th>\n",
       "      <th>elements</th>\n",
       "      <th>final_energy_per_atom</th>\n",
       "      <th>formation_energy_per_atom</th>\n",
       "      <th>has_bandstructure</th>\n",
       "      <th>is_hubbard</th>\n",
       "      <th>is_ordered</th>\n",
       "      <th>n_elemets</th>\n",
       "      <th>nsites</th>\n",
       "      <th>oxide_type</th>\n",
       "      <th>point_group</th>\n",
       "      <th>pretty_formula</th>\n",
       "      <th>space_group</th>\n",
       "      <th>space_group_number</th>\n",
       "      <th>total_magnetization</th>\n",
       "      <th>volume</th>\n",
       "    </tr>\n",
       "  </thead>\n",
       "  <tbody>\n",
       "    <tr>\n",
       "      <th>mp-1217893</th>\n",
       "      <td>0.0000</td>\n",
       "      <td>{'Ta': 1.0, 'Nb': 1.0, 'Al': 6.0}</td>\n",
       "      <td>5.658405</td>\n",
       "      <td>0.003544</td>\n",
       "      <td>NaN</td>\n",
       "      <td>[Al, Nb, Ta]</td>\n",
       "      <td>-5.923998</td>\n",
       "      <td>-0.366836</td>\n",
       "      <td>False</td>\n",
       "      <td>False</td>\n",
       "      <td>True</td>\n",
       "      <td>3</td>\n",
       "      <td>8</td>\n",
       "      <td>None</td>\n",
       "      <td>4/mmm</td>\n",
       "      <td>TaNbAl6</td>\n",
       "      <td>P4/mmm</td>\n",
       "      <td>123</td>\n",
       "      <td>0.000005</td>\n",
       "      <td>127.875084</td>\n",
       "    </tr>\n",
       "    <tr>\n",
       "      <th>mp-1213787</th>\n",
       "      <td>0.5133</td>\n",
       "      <td>{'Cl': 4.0, 'O': 8.0, 'F': 8.0}</td>\n",
       "      <td>2.111373</td>\n",
       "      <td>0.105880</td>\n",
       "      <td>NaN</td>\n",
       "      <td>[Cl, F, O]</td>\n",
       "      <td>-3.242963</td>\n",
       "      <td>-0.730678</td>\n",
       "      <td>False</td>\n",
       "      <td>False</td>\n",
       "      <td>True</td>\n",
       "      <td>3</td>\n",
       "      <td>20</td>\n",
       "      <td>oxide</td>\n",
       "      <td>2/m</td>\n",
       "      <td>Cl(OF)2</td>\n",
       "      <td>C2/m</td>\n",
       "      <td>12</td>\n",
       "      <td>1.000000</td>\n",
       "      <td>331.730170</td>\n",
       "    </tr>\n",
       "    <tr>\n",
       "      <th>mp-554272</th>\n",
       "      <td>0.8347</td>\n",
       "      <td>{'Cu': 24.0, 'Sb': 8.0, 'S': 24.0}</td>\n",
       "      <td>5.027104</td>\n",
       "      <td>0.028412</td>\n",
       "      <td>5.531261</td>\n",
       "      <td>[Cu, S, Sb]</td>\n",
       "      <td>-4.304966</td>\n",
       "      <td>-0.473695</td>\n",
       "      <td>True</td>\n",
       "      <td>False</td>\n",
       "      <td>True</td>\n",
       "      <td>3</td>\n",
       "      <td>56</td>\n",
       "      <td>None</td>\n",
       "      <td>2/m</td>\n",
       "      <td>Cu3SbS3</td>\n",
       "      <td>P2_1/c</td>\n",
       "      <td>14</td>\n",
       "      <td>0.001174</td>\n",
       "      <td>1079.722376</td>\n",
       "    </tr>\n",
       "    <tr>\n",
       "      <th>mp-1204058</th>\n",
       "      <td>0.3799</td>\n",
       "      <td>{'Zn': 3.0, 'Cu': 2.0, 'H': 14.0, 'S': 2.0, 'O...</td>\n",
       "      <td>3.075420</td>\n",
       "      <td>0.025112</td>\n",
       "      <td>NaN</td>\n",
       "      <td>[Cu, H, O, S, Zn]</td>\n",
       "      <td>-5.139538</td>\n",
       "      <td>-1.536961</td>\n",
       "      <td>False</td>\n",
       "      <td>False</td>\n",
       "      <td>True</td>\n",
       "      <td>5</td>\n",
       "      <td>39</td>\n",
       "      <td>hydroxide</td>\n",
       "      <td>-1</td>\n",
       "      <td>Zn3Cu2H14(SO9)2</td>\n",
       "      <td>P-1</td>\n",
       "      <td>2</td>\n",
       "      <td>2.000000</td>\n",
       "      <td>372.314563</td>\n",
       "    </tr>\n",
       "    <tr>\n",
       "      <th>mp-1079878</th>\n",
       "      <td>0.6902</td>\n",
       "      <td>{'Te': 1.0, 'N': 2.0, 'Cl': 6.0}</td>\n",
       "      <td>2.111664</td>\n",
       "      <td>1.010499</td>\n",
       "      <td>NaN</td>\n",
       "      <td>[Cl, N, Te]</td>\n",
       "      <td>-2.554798</td>\n",
       "      <td>0.397476</td>\n",
       "      <td>False</td>\n",
       "      <td>False</td>\n",
       "      <td>True</td>\n",
       "      <td>3</td>\n",
       "      <td>9</td>\n",
       "      <td>None</td>\n",
       "      <td>m-3m</td>\n",
       "      <td>Te(NCl3)2</td>\n",
       "      <td>Fm-3m</td>\n",
       "      <td>225</td>\n",
       "      <td>6.000001</td>\n",
       "      <td>289.642999</td>\n",
       "    </tr>\n",
       "  </tbody>\n",
       "</table>\n",
       "</div>"
      ],
      "text/plain": [
       "            band_gap                                        composition  \\\n",
       "mp-1217893    0.0000                  {'Ta': 1.0, 'Nb': 1.0, 'Al': 6.0}   \n",
       "mp-1213787    0.5133                    {'Cl': 4.0, 'O': 8.0, 'F': 8.0}   \n",
       "mp-554272     0.8347                 {'Cu': 24.0, 'Sb': 8.0, 'S': 24.0}   \n",
       "mp-1204058    0.3799  {'Zn': 3.0, 'Cu': 2.0, 'H': 14.0, 'S': 2.0, 'O...   \n",
       "mp-1079878    0.6902                   {'Te': 1.0, 'N': 2.0, 'Cl': 6.0}   \n",
       "\n",
       "             density  e_above_hull    efermi           elements  \\\n",
       "mp-1217893  5.658405      0.003544       NaN       [Al, Nb, Ta]   \n",
       "mp-1213787  2.111373      0.105880       NaN         [Cl, F, O]   \n",
       "mp-554272   5.027104      0.028412  5.531261        [Cu, S, Sb]   \n",
       "mp-1204058  3.075420      0.025112       NaN  [Cu, H, O, S, Zn]   \n",
       "mp-1079878  2.111664      1.010499       NaN        [Cl, N, Te]   \n",
       "\n",
       "            final_energy_per_atom  formation_energy_per_atom  \\\n",
       "mp-1217893              -5.923998                  -0.366836   \n",
       "mp-1213787              -3.242963                  -0.730678   \n",
       "mp-554272               -4.304966                  -0.473695   \n",
       "mp-1204058              -5.139538                  -1.536961   \n",
       "mp-1079878              -2.554798                   0.397476   \n",
       "\n",
       "            has_bandstructure  is_hubbard  is_ordered  n_elemets  nsites  \\\n",
       "mp-1217893              False       False        True          3       8   \n",
       "mp-1213787              False       False        True          3      20   \n",
       "mp-554272                True       False        True          3      56   \n",
       "mp-1204058              False       False        True          5      39   \n",
       "mp-1079878              False       False        True          3       9   \n",
       "\n",
       "           oxide_type point_group   pretty_formula space_group  \\\n",
       "mp-1217893       None       4/mmm          TaNbAl6      P4/mmm   \n",
       "mp-1213787      oxide         2/m          Cl(OF)2        C2/m   \n",
       "mp-554272        None         2/m          Cu3SbS3      P2_1/c   \n",
       "mp-1204058  hydroxide          -1  Zn3Cu2H14(SO9)2         P-1   \n",
       "mp-1079878       None        m-3m        Te(NCl3)2       Fm-3m   \n",
       "\n",
       "            space_group_number  total_magnetization       volume  \n",
       "mp-1217893                 123             0.000005   127.875084  \n",
       "mp-1213787                  12             1.000000   331.730170  \n",
       "mp-554272                   14             0.001174  1079.722376  \n",
       "mp-1204058                   2             2.000000   372.314563  \n",
       "mp-1079878                 225             6.000001   289.642999  "
      ]
     },
     "execution_count": 45,
     "metadata": {},
     "output_type": "execute_result"
    }
   ],
   "source": [
    "data = preset.mp_inorganic\n",
    "data = data.sample(3000)\n",
    "data.head(5)"
   ]
  },
  {
   "cell_type": "code",
   "execution_count": 46,
   "metadata": {},
   "outputs": [
    {
     "data": {
      "text/html": [
       "<div>\n",
       "<style scoped>\n",
       "    .dataframe tbody tr th:only-of-type {\n",
       "        vertical-align: middle;\n",
       "    }\n",
       "\n",
       "    .dataframe tbody tr th {\n",
       "        vertical-align: top;\n",
       "    }\n",
       "\n",
       "    .dataframe thead th {\n",
       "        text-align: right;\n",
       "    }\n",
       "</style>\n",
       "<table border=\"1\" class=\"dataframe\">\n",
       "  <thead>\n",
       "    <tr style=\"text-align: right;\">\n",
       "      <th></th>\n",
       "      <th>ave:atomic_number</th>\n",
       "      <th>ave:atomic_radius</th>\n",
       "      <th>ave:atomic_radius_rahm</th>\n",
       "      <th>ave:atomic_volume</th>\n",
       "      <th>ave:atomic_weight</th>\n",
       "      <th>ave:boiling_point</th>\n",
       "      <th>ave:bulk_modulus</th>\n",
       "      <th>ave:c6_gb</th>\n",
       "      <th>ave:covalent_radius_cordero</th>\n",
       "      <th>ave:covalent_radius_pyykko</th>\n",
       "      <th>...</th>\n",
       "      <th>min:num_s_valence</th>\n",
       "      <th>min:period</th>\n",
       "      <th>min:specific_heat</th>\n",
       "      <th>min:thermal_conductivity</th>\n",
       "      <th>min:vdw_radius</th>\n",
       "      <th>min:vdw_radius_alvarez</th>\n",
       "      <th>min:vdw_radius_mm3</th>\n",
       "      <th>min:vdw_radius_uff</th>\n",
       "      <th>min:sound_velocity</th>\n",
       "      <th>min:Polarizability</th>\n",
       "    </tr>\n",
       "  </thead>\n",
       "  <tbody>\n",
       "    <tr>\n",
       "      <th>mp-1217893</th>\n",
       "      <td>24.000000</td>\n",
       "      <td>144.125000</td>\n",
       "      <td>242.875000</td>\n",
       "      <td>10.212500</td>\n",
       "      <td>54.467934</td>\n",
       "      <td>3394.125000</td>\n",
       "      <td>103.250000</td>\n",
       "      <td>643.375000</td>\n",
       "      <td>132.500000</td>\n",
       "      <td>131.125000</td>\n",
       "      <td>...</td>\n",
       "      <td>1.0</td>\n",
       "      <td>3.0</td>\n",
       "      <td>0.140000</td>\n",
       "      <td>54.00000</td>\n",
       "      <td>184.0</td>\n",
       "      <td>225.0</td>\n",
       "      <td>236.0</td>\n",
       "      <td>316.500000</td>\n",
       "      <td>3400.0</td>\n",
       "      <td>6.800000</td>\n",
       "    </tr>\n",
       "    <tr>\n",
       "      <th>mp-1213787</th>\n",
       "      <td>10.200000</td>\n",
       "      <td>141.560776</td>\n",
       "      <td>174.800003</td>\n",
       "      <td>16.180000</td>\n",
       "      <td>21.088961</td>\n",
       "      <td>117.800003</td>\n",
       "      <td>49.381992</td>\n",
       "      <td>30.180000</td>\n",
       "      <td>69.599998</td>\n",
       "      <td>70.599998</td>\n",
       "      <td>...</td>\n",
       "      <td>2.0</td>\n",
       "      <td>2.0</td>\n",
       "      <td>0.740458</td>\n",
       "      <td>0.00890</td>\n",
       "      <td>147.0</td>\n",
       "      <td>146.0</td>\n",
       "      <td>171.0</td>\n",
       "      <td>336.399994</td>\n",
       "      <td>206.0</td>\n",
       "      <td>0.557000</td>\n",
       "    </tr>\n",
       "    <tr>\n",
       "      <th>mp-554272</th>\n",
       "      <td>26.571428</td>\n",
       "      <td>132.000000</td>\n",
       "      <td>219.857147</td>\n",
       "      <td>12.314285</td>\n",
       "      <td>58.368286</td>\n",
       "      <td>1797.353149</td>\n",
       "      <td>69.300003</td>\n",
       "      <td>245.142853</td>\n",
       "      <td>121.428574</td>\n",
       "      <td>112.142860</td>\n",
       "      <td>...</td>\n",
       "      <td>1.0</td>\n",
       "      <td>3.0</td>\n",
       "      <td>0.205000</td>\n",
       "      <td>0.20500</td>\n",
       "      <td>180.0</td>\n",
       "      <td>189.0</td>\n",
       "      <td>215.0</td>\n",
       "      <td>349.500000</td>\n",
       "      <td>3420.0</td>\n",
       "      <td>2.900000</td>\n",
       "    </tr>\n",
       "    <tr>\n",
       "      <th>mp-1204058</th>\n",
       "      <td>8.666667</td>\n",
       "      <td>119.528862</td>\n",
       "      <td>173.384613</td>\n",
       "      <td>13.389744</td>\n",
       "      <td>17.678102</td>\n",
       "      <td>322.127899</td>\n",
       "      <td>68.474457</td>\n",
       "      <td>51.993332</td>\n",
       "      <td>63.128204</td>\n",
       "      <td>60.666668</td>\n",
       "      <td>...</td>\n",
       "      <td>1.0</td>\n",
       "      <td>1.0</td>\n",
       "      <td>0.385000</td>\n",
       "      <td>0.02658</td>\n",
       "      <td>110.0</td>\n",
       "      <td>120.0</td>\n",
       "      <td>162.0</td>\n",
       "      <td>276.299988</td>\n",
       "      <td>317.5</td>\n",
       "      <td>0.666793</td>\n",
       "    </tr>\n",
       "    <tr>\n",
       "      <th>mp-1079878</th>\n",
       "      <td>18.666666</td>\n",
       "      <td>136.458099</td>\n",
       "      <td>204.000000</td>\n",
       "      <td>18.588888</td>\n",
       "      <td>40.923779</td>\n",
       "      <td>316.600006</td>\n",
       "      <td>20.703308</td>\n",
       "      <td>122.777779</td>\n",
       "      <td>99.111115</td>\n",
       "      <td>96.888885</td>\n",
       "      <td>...</td>\n",
       "      <td>2.0</td>\n",
       "      <td>2.0</td>\n",
       "      <td>0.201000</td>\n",
       "      <td>0.00890</td>\n",
       "      <td>155.0</td>\n",
       "      <td>166.0</td>\n",
       "      <td>193.0</td>\n",
       "      <td>366.000000</td>\n",
       "      <td>206.0</td>\n",
       "      <td>1.100000</td>\n",
       "    </tr>\n",
       "  </tbody>\n",
       "</table>\n",
       "<p>5 rows × 290 columns</p>\n",
       "</div>"
      ],
      "text/plain": [
       "            ave:atomic_number  ave:atomic_radius  ave:atomic_radius_rahm  \\\n",
       "mp-1217893          24.000000         144.125000              242.875000   \n",
       "mp-1213787          10.200000         141.560776              174.800003   \n",
       "mp-554272           26.571428         132.000000              219.857147   \n",
       "mp-1204058           8.666667         119.528862              173.384613   \n",
       "mp-1079878          18.666666         136.458099              204.000000   \n",
       "\n",
       "            ave:atomic_volume  ave:atomic_weight  ave:boiling_point  \\\n",
       "mp-1217893          10.212500          54.467934        3394.125000   \n",
       "mp-1213787          16.180000          21.088961         117.800003   \n",
       "mp-554272           12.314285          58.368286        1797.353149   \n",
       "mp-1204058          13.389744          17.678102         322.127899   \n",
       "mp-1079878          18.588888          40.923779         316.600006   \n",
       "\n",
       "            ave:bulk_modulus   ave:c6_gb  ave:covalent_radius_cordero  \\\n",
       "mp-1217893        103.250000  643.375000                   132.500000   \n",
       "mp-1213787         49.381992   30.180000                    69.599998   \n",
       "mp-554272          69.300003  245.142853                   121.428574   \n",
       "mp-1204058         68.474457   51.993332                    63.128204   \n",
       "mp-1079878         20.703308  122.777779                    99.111115   \n",
       "\n",
       "            ave:covalent_radius_pyykko  ...  min:num_s_valence  min:period  \\\n",
       "mp-1217893                  131.125000  ...                1.0         3.0   \n",
       "mp-1213787                   70.599998  ...                2.0         2.0   \n",
       "mp-554272                   112.142860  ...                1.0         3.0   \n",
       "mp-1204058                   60.666668  ...                1.0         1.0   \n",
       "mp-1079878                   96.888885  ...                2.0         2.0   \n",
       "\n",
       "            min:specific_heat  min:thermal_conductivity  min:vdw_radius  \\\n",
       "mp-1217893           0.140000                  54.00000           184.0   \n",
       "mp-1213787           0.740458                   0.00890           147.0   \n",
       "mp-554272            0.205000                   0.20500           180.0   \n",
       "mp-1204058           0.385000                   0.02658           110.0   \n",
       "mp-1079878           0.201000                   0.00890           155.0   \n",
       "\n",
       "            min:vdw_radius_alvarez  min:vdw_radius_mm3  min:vdw_radius_uff  \\\n",
       "mp-1217893                   225.0               236.0          316.500000   \n",
       "mp-1213787                   146.0               171.0          336.399994   \n",
       "mp-554272                    189.0               215.0          349.500000   \n",
       "mp-1204058                   120.0               162.0          276.299988   \n",
       "mp-1079878                   166.0               193.0          366.000000   \n",
       "\n",
       "            min:sound_velocity  min:Polarizability  \n",
       "mp-1217893              3400.0            6.800000  \n",
       "mp-1213787               206.0            0.557000  \n",
       "mp-554272               3420.0            2.900000  \n",
       "mp-1204058               317.5            0.666793  \n",
       "mp-1079878               206.0            1.100000  \n",
       "\n",
       "[5 rows x 290 columns]"
      ]
     },
     "execution_count": 46,
     "metadata": {},
     "output_type": "execute_result"
    },
    {
     "data": {
      "text/html": [
       "<div>\n",
       "<style scoped>\n",
       "    .dataframe tbody tr th:only-of-type {\n",
       "        vertical-align: middle;\n",
       "    }\n",
       "\n",
       "    .dataframe tbody tr th {\n",
       "        vertical-align: top;\n",
       "    }\n",
       "\n",
       "    .dataframe thead th {\n",
       "        text-align: right;\n",
       "    }\n",
       "</style>\n",
       "<table border=\"1\" class=\"dataframe\">\n",
       "  <thead>\n",
       "    <tr style=\"text-align: right;\">\n",
       "      <th></th>\n",
       "      <th>volume</th>\n",
       "    </tr>\n",
       "  </thead>\n",
       "  <tbody>\n",
       "    <tr>\n",
       "      <th>mp-1217893</th>\n",
       "      <td>127.875084</td>\n",
       "    </tr>\n",
       "    <tr>\n",
       "      <th>mp-1213787</th>\n",
       "      <td>331.730164</td>\n",
       "    </tr>\n",
       "    <tr>\n",
       "      <th>mp-554272</th>\n",
       "      <td>1079.722412</td>\n",
       "    </tr>\n",
       "    <tr>\n",
       "      <th>mp-1204058</th>\n",
       "      <td>372.314575</td>\n",
       "    </tr>\n",
       "    <tr>\n",
       "      <th>mp-1079878</th>\n",
       "      <td>289.643005</td>\n",
       "    </tr>\n",
       "  </tbody>\n",
       "</table>\n",
       "</div>"
      ],
      "text/plain": [
       "                 volume\n",
       "mp-1217893   127.875084\n",
       "mp-1213787   331.730164\n",
       "mp-554272   1079.722412\n",
       "mp-1204058   372.314575\n",
       "mp-1079878   289.643005"
      ]
     },
     "execution_count": 46,
     "metadata": {},
     "output_type": "execute_result"
    }
   ],
   "source": [
    "desc = Compositions(featurizers='classic').transform(data['composition']).astype('float32')\n",
    "prop = data['volume'].to_frame().astype('float32')\n",
    "\n",
    "desc.head(5)\n",
    "prop.head(5)"
   ]
  },
  {
   "cell_type": "code",
   "execution_count": 47,
   "metadata": {},
   "outputs": [],
   "source": [
    "sp = Splitter(3000)\n",
    "x_train, x_test, y_train, y_test = sp.split(desc, prop)"
   ]
  },
  {
   "cell_type": "code",
   "execution_count": 48,
   "metadata": {},
   "outputs": [
    {
     "data": {
      "text/plain": [
       "(2400, 290)"
      ]
     },
     "execution_count": 48,
     "metadata": {},
     "output_type": "execute_result"
    },
    {
     "data": {
      "text/plain": [
       "(2400, 1)"
      ]
     },
     "execution_count": 48,
     "metadata": {},
     "output_type": "execute_result"
    },
    {
     "data": {
      "text/plain": [
       "(600, 290)"
      ]
     },
     "execution_count": 48,
     "metadata": {},
     "output_type": "execute_result"
    },
    {
     "data": {
      "text/plain": [
       "(600, 1)"
      ]
     },
     "execution_count": 48,
     "metadata": {},
     "output_type": "execute_result"
    }
   ],
   "source": [
    "x_train.shape\n",
    "y_train.shape\n",
    "x_test.shape\n",
    "y_test.shape"
   ]
  },
  {
   "cell_type": "code",
   "execution_count": 65,
   "metadata": {},
   "outputs": [],
   "source": [
    "trainer = Trainer(\n",
    "    model=nn_model,\n",
    "    optimizer=Adam(lr=0.01),\n",
    "    loss_func=MSELoss(),\n",
    "    lr_scheduler=ExponentialLR(gamma=0.8),\n",
    "    epochs=1000,\n",
    ")"
   ]
  },
  {
   "cell_type": "code",
   "execution_count": 66,
   "metadata": {},
   "outputs": [],
   "source": [
    "trainer.extend(\n",
    "    TensorConverter(),\n",
    "    Validator(x_test, y_test,\n",
    "        metrics_func=regression_metrics),\n",
    ")"
   ]
  },
  {
   "cell_type": "code",
   "execution_count": 67,
   "metadata": {},
   "outputs": [
    {
     "name": "stderr",
     "output_type": "stream",
     "text": [
      "100%|██████████| 1000/1000 [00:24<00:00, 40.99it/s]\n"
     ]
    }
   ],
   "source": [
    "trainer.fit(x_train=desc, y_train=prop)"
   ]
  },
  {
   "cell_type": "markdown",
   "metadata": {},
   "source": [
    "# Model testing"
   ]
  },
  {
   "cell_type": "code",
   "execution_count": 68,
   "metadata": {},
   "outputs": [],
   "source": [
    "y_pred = trainer.predict(x_test)"
   ]
  },
  {
   "cell_type": "code",
   "execution_count": 69,
   "metadata": {},
   "outputs": [
    {
     "data": {
      "application/vnd.plotly.v1+json": {
       "config": {
        "plotlyServerURL": "https://plot.ly"
       },
       "data": [
        {
         "hoverlabel": {
          "namelength": 0
         },
         "hovertemplate": "pred=%{x}<br>true=%{y}",
         "legendgroup": "",
         "marker": {
          "color": "#636efa",
          "symbol": "circle"
         },
         "mode": "markers",
         "name": "",
         "showlegend": false,
         "type": "scatter",
         "x": [
          0.7031806111335754,
          -0.022531650960445404,
          0.18887686729431152,
          0.29342883825302124,
          -0.043128177523612976,
          0.28046849370002747,
          -0.15959422290325165,
          0.17464762926101685,
          1.1167410612106323,
          -0.1161462813615799,
          0.46318185329437256,
          1.8954920768737793,
          0.31225717067718506,
          1.358773112297058,
          0.5178964138031006,
          0.7141934037208557,
          -0.07747408747673035,
          0.32108306884765625,
          0.3055880665779114,
          0.5691117644309998,
          0.3438078761100769,
          1.2339564561843872,
          0.5219920873641968,
          0.3056983947753906,
          0.7322384715080261,
          0.3187856674194336,
          0.14990751445293427,
          0.3890115022659302,
          0.7804598808288574,
          0.17933134734630585,
          0.670953631401062,
          0.33044105768203735,
          0.5979751944541931,
          0.7178992629051208,
          -0.11768563091754913,
          3.959277391433716,
          1.8143960237503052,
          0.09709151089191437,
          0.5389118790626526,
          2.214106559753418,
          0.5767123699188232,
          1.2452832460403442,
          1.2857935428619385,
          0.2354004830121994,
          0.27229756116867065,
          0.09373823553323746,
          0.7172003388404846,
          0.4319835305213928,
          0.4562920331954956,
          0.36844688653945923,
          0.24066860973834991,
          0.4125276207923889,
          0.8091215491294861,
          0.8481324315071106,
          0.7079148292541504,
          0.44294947385787964,
          0.33134764432907104,
          0.6621291637420654,
          0.5272414684295654,
          0.9084466099739075,
          0.6626117825508118,
          0.9708740711212158,
          1.9645297527313232,
          1.420637607574463,
          0.3119088411331177,
          0.6707420945167542,
          0.41566014289855957,
          0.4855464696884155,
          0.7020013332366943,
          0.25884395837783813,
          0.31162789463996887,
          0.5452722311019897,
          0.42073947191238403,
          1.5598578453063965,
          1.1422005891799927,
          0.7942078709602356,
          0.48857808113098145,
          0.7892494797706604,
          1.1679943799972534,
          1.5367048978805542,
          0.8741961717605591,
          0.7918271422386169,
          0.3766018748283386,
          0.5414519906044006,
          0.18101555109024048,
          0.7463231682777405,
          0.005334038287401199,
          0.15897975862026215,
          0.26832908391952515,
          0.3878600001335144,
          0.46065330505371094,
          2.4362385272979736,
          0.1361222267150879,
          0.2866072952747345,
          5.1704206466674805,
          1.010277509689331,
          0.4388730525970459,
          1.658543586730957,
          0.6496672034263611,
          0.25121375918388367,
          0.9265807271003723,
          0.8714869618415833,
          2.520744562149048,
          0.7183833718299866,
          0.30698472261428833,
          0.8581425547599792,
          1.0828608274459839,
          0.1562686562538147,
          2.051217794418335,
          0.36646825075149536,
          0.698432207107544,
          0.6078894734382629,
          0.9604756236076355,
          0.8643166422843933,
          0.278268039226532,
          0.4199149012565613,
          0.7828283905982971,
          1.0252808332443237,
          -0.014122426509857178,
          1.025711178779602,
          0.6789165139198303,
          0.5227318406105042,
          1.1495630741119385,
          -0.017268076539039612,
          0.822241485118866,
          0.192480206489563,
          -0.06075982749462128,
          1.2489620447158813,
          0.33820152282714844,
          0.41622841358184814,
          0.5531978011131287,
          0.9686183333396912,
          0.7456068992614746,
          0.23450243473052979,
          1.0313186645507812,
          0.48437654972076416,
          0.6105520129203796,
          0.3980446457862854,
          0.1605602502822876,
          0.39602190256118774,
          0.33796948194503784,
          0.5878070592880249,
          0.5546101331710815,
          0.2294274866580963,
          1.137908697128296,
          -0.13603825867176056,
          0.24869032204151154,
          0.42497068643569946,
          0.40980178117752075,
          0.5548882484436035,
          0.6821990609169006,
          0.8547351956367493,
          -0.013897478580474854,
          0.41874372959136963,
          0.4545748829841614,
          1.1999040842056274,
          0.5742843151092529,
          0.4536053538322449,
          0.4995262026786804,
          0.687778890132904,
          0.1955116242170334,
          0.056608621031045914,
          1.3505743741989136,
          0.6639781594276428,
          0.3530488610267639,
          -0.15457281470298767,
          1.9068355560302734,
          1.0192673206329346,
          0.4162624478340149,
          0.7612311244010925,
          0.821313202381134,
          0.44335508346557617,
          -0.17742212116718292,
          -0.09873145818710327,
          0.35183727741241455,
          0.10230818390846252,
          -0.11309081315994263,
          -0.0017416030168533325,
          0.7123448252677917,
          1.421288013458252,
          0.939021646976471,
          0.38367170095443726,
          0.38875871896743774,
          0.7327126860618591,
          1.234323501586914,
          0.6261220574378967,
          2.049700975418091,
          1.1053699254989624,
          1.1748350858688354,
          0.819564938545227,
          -0.10868407785892487,
          1.392074704170227,
          0.25523507595062256,
          0.5872926115989685,
          -0.018510453402996063,
          0.2987082004547119,
          0.6846104860305786,
          0.37846118211746216,
          0.839851438999176,
          0.6098797917366028,
          1.7136820554733276,
          0.670902669429779,
          -0.10765556991100311,
          0.25685861706733704,
          0.6787787079811096,
          0.32024502754211426,
          0.16471298038959503,
          0.3037368655204773,
          0.35880959033966064,
          0.8411944508552551,
          0.400978684425354,
          0.49332040548324585,
          0.7941480875015259,
          0.9053450226783752,
          0.8524711728096008,
          0.7308940887451172,
          0.7910596132278442,
          0.531684935092926,
          1.327599287033081,
          1.3393824100494385,
          0.22266529500484467,
          0.5147386789321899,
          1.6201039552688599,
          0.24149061739444733,
          0.18113180994987488,
          0.5033919811248779,
          0.27001768350601196,
          1.0709434747695923,
          1.6864149570465088,
          0.44597792625427246,
          0.37812989950180054,
          1.0376629829406738,
          1.5599234104156494,
          0.9697777628898621,
          0.2779899835586548,
          -0.10516592860221863,
          1.5793994665145874,
          0.381405770778656,
          0.050608113408088684,
          0.16171252727508545,
          1.1113005876541138,
          1.017755389213562,
          0.17797085642814636,
          0.4176311492919922,
          0.9434992671012878,
          0.49747228622436523,
          0.42221421003341675,
          0.33586353063583374,
          0.5863307118415833,
          1.127572774887085,
          0.16096380352973938,
          1.3200557231903076,
          0.5061447620391846,
          0.5058853030204773,
          0.5767123699188232,
          0.6850956678390503,
          0.3286946415901184,
          0.4595133662223816,
          0.8530179262161255,
          0.12168177962303162,
          0.725115954875946,
          0.018254395574331284,
          0.3664925694465637,
          1.0298000574111938,
          0.025838028639554977,
          0.400978684425354,
          0.4119148850440979,
          0.9401556253433228,
          0.400978684425354,
          0.4248618483543396,
          0.2730152904987335,
          0.5815523862838745,
          0.26176804304122925,
          0.5109460949897766,
          1.1813762187957764,
          -0.14687152206897736,
          -0.04351113736629486,
          0.8542892336845398,
          4.273738861083984,
          0.6619767546653748,
          0.5138856768608093,
          1.1040937900543213,
          0.5355035066604614,
          -0.03202994167804718,
          0.7007020115852356,
          0.30912160873413086,
          0.6013383865356445,
          0.2729319930076599,
          0.6480705142021179,
          -0.00804920494556427,
          0.9615581631660461,
          0.7659782767295837,
          0.1938449591398239,
          0.5195639729499817,
          0.7259482145309448,
          0.5215067863464355,
          0.1325072944164276,
          0.16339188814163208,
          0.5491757988929749,
          0.7350542545318604,
          0.6457076072692871,
          0.30872178077697754,
          -0.08529171347618103,
          0.4499603509902954,
          -0.06973493099212646,
          1.357803463935852,
          0.5086585879325867,
          0.8989492654800415,
          0.6844295859336853,
          0.6394224762916565,
          0.8150050044059753,
          0.5809029936790466,
          0.3607783317565918,
          0.19272539019584656,
          0.6883101463317871,
          0.611872673034668,
          -0.07122999429702759,
          0.2513006031513214,
          0.6511079668998718,
          0.4651595950126648,
          0.5862563252449036,
          0.1807149201631546,
          0.589250922203064,
          -0.12066422402858734,
          0.2414586991071701,
          0.3738706707954407,
          -0.07607296109199524,
          0.9186781048774719,
          -0.14871597290039062,
          0.6284487843513489,
          0.4614933729171753,
          -0.10960505902767181,
          0.6888014674186707,
          0.5604462027549744,
          0.6782228350639343,
          1.1502591371536255,
          0.3199760317802429,
          0.2995739281177521,
          0.5410017967224121,
          1.4303134679794312,
          0.8746772408485413,
          0.6560516357421875,
          0.7977272868156433,
          0.9268932342529297,
          -0.10595014691352844,
          0.5135780572891235,
          0.6862990260124207,
          0.28055959939956665,
          -0.0370841920375824,
          0.32507359981536865,
          0.8080625534057617,
          0.726762056350708,
          0.3561670780181885,
          -0.18730276823043823,
          1.015215277671814,
          0.5767123699188232,
          -0.054412633180618286,
          0.5172075629234314,
          0.5572843551635742,
          0.12449142336845398,
          0.8032757639884949,
          0.2998815178871155,
          0.42750728130340576,
          0.36809325218200684,
          -0.05321299284696579,
          0.7284855246543884,
          0.23562374711036682,
          0.5484226942062378,
          0.8056535124778748,
          0.9216970801353455,
          0.5341398119926453,
          -0.010126054286956787,
          0.31952571868896484,
          0.343095064163208,
          -0.09350693225860596,
          1.454026699066162,
          0.47807878255844116,
          1.3354793787002563,
          -0.1308508813381195,
          0.6040677428245544,
          0.37142229080200195,
          0.32426542043685913,
          0.5227383971214294,
          0.5573814511299133,
          0.23975932598114014,
          0.2708272337913513,
          1.180358648300171,
          0.49041032791137695,
          0.9083232283592224,
          -0.029010578989982605,
          0.4861310124397278,
          0.3397914171218872,
          0.4856927990913391,
          1.2231570482254028,
          0.28421100974082947,
          0.36522889137268066,
          0.5109980702400208,
          0.24005372822284698,
          -0.10769131779670715,
          0.4625694155693054,
          0.7229405045509338,
          1.0042058229446411,
          0.32248038053512573,
          0.6512545347213745,
          0.34021860361099243,
          0.32376807928085327,
          -0.07107135653495789,
          0.39938294887542725,
          1.0084285736083984,
          0.2339475452899933,
          0.8554051518440247,
          -0.0873563140630722,
          0.17702054977416992,
          0.400978684425354,
          0.8921068906784058,
          0.7079148292541504,
          1.9535024166107178,
          1.1722517013549805,
          -0.06721307337284088,
          0.6384793519973755,
          0.23493704199790955,
          0.3073892593383789,
          0.22132430970668793,
          1.9088622331619263,
          0.6728629469871521,
          2.4233360290527344,
          0.7629214525222778,
          0.4756103754043579,
          0.43385088443756104,
          0.5163424611091614,
          0.22475415468215942,
          -0.1507972627878189,
          0.4341233968734741,
          -0.09530133008956909,
          0.5272831916809082,
          0.6115162968635559,
          0.2339724451303482,
          1.945488452911377,
          1.69912850856781,
          0.5473847389221191,
          1.5717473030090332,
          0.5228468179702759,
          0.8574732542037964,
          0.3292196989059448,
          0.20621569454669952,
          -0.138963520526886,
          1.0981966257095337,
          0.888045608997345,
          0.34890681505203247,
          0.19958505034446716,
          1.3665333986282349,
          0.35972267389297485,
          0.4941067099571228,
          0.32015764713287354,
          1.1213105916976929,
          1.1084705591201782,
          0.3181319236755371,
          -0.03834708034992218,
          -0.11559215188026428,
          0.3084191679954529,
          0.3727400302886963,
          0.2800805866718292,
          0.4286385774612427,
          0.7154673933982849,
          1.3643954992294312,
          1.22417151927948,
          1.549168586730957,
          0.42127442359924316,
          2.8964414596557617,
          1.8460009098052979,
          0.32700902223587036,
          0.5337788462638855,
          0.4799243211746216,
          0.6973108053207397,
          0.7944013476371765,
          -0.1553587168455124,
          1.1070613861083984,
          0.5887947082519531,
          0.4303783178329468,
          0.40462541580200195,
          0.9237549304962158,
          1.4329334497451782,
          0.8191803097724915,
          0.36046063899993896,
          0.7870466113090515,
          0.787578284740448,
          2.0100412368774414,
          1.0087926387786865,
          -0.07888197898864746,
          0.5428605079650879,
          1.0568643808364868,
          0.2828845977783203,
          0.3150066137313843,
          -0.0841103196144104,
          0.0340120792388916,
          0.5218045711517334,
          3.4460034370422363,
          0.2584209442138672,
          2.6190009117126465,
          0.5979751944541931,
          -0.11634460091590881,
          0.649338960647583,
          -0.08682695031166077,
          0.457811176776886,
          1.0585741996765137,
          -0.16513246297836304,
          0.6256515383720398,
          0.4506167769432068,
          1.1825824975967407,
          -0.026726000010967255,
          -0.018827423453330994,
          1.872916340827942,
          2.3840432167053223,
          0.854063093662262,
          0.5124337673187256,
          0.17555935680866241,
          0.5406681895256042,
          0.4224308729171753,
          1.4785492420196533,
          0.3719595670700073,
          0.8849748969078064,
          0.3592885136604309,
          0.30567383766174316,
          0.43248558044433594,
          0.38100868463516235,
          1.4270111322402954,
          0.8779780864715576,
          0.2916538119316101,
          0.3765541911125183,
          0.44603776931762695,
          0.33092498779296875,
          0.2087607979774475,
          0.3290107250213623,
          0.7248815894126892,
          0.5516523718833923,
          0.8101996779441833,
          0.8278267979621887,
          0.5530646443367004,
          0.6636287569999695,
          -0.13230492174625397,
          1.3495582342147827,
          0.9319342970848083,
          0.4299857020378113,
          1.228773832321167,
          0.6939958930015564,
          0.4935946464538574,
          0.3490448594093323,
          0.7203436493873596,
          0.7988678216934204,
          0.8270718455314636,
          2.1475067138671875,
          0.2573612332344055,
          0.5312978625297546,
          1.07032310962677,
          1.2287570238113403,
          -0.062491632997989655,
          0.824897825717926,
          -0.08587011694908142,
          -0.038401536643505096,
          0.47172296047210693,
          2.1359148025512695,
          0.400978684425354,
          0.33046895265579224,
          0.4279932379722595,
          0.7087572813034058,
          1.1239805221557617,
          0.5014819502830505,
          0.3502194285392761,
          -0.017064303159713745,
          0.7655624151229858,
          0.9596697092056274,
          -0.017993591725826263,
          0.7611719965934753,
          0.4488864541053772,
          0.7036153078079224,
          1.0953389406204224,
          1.6372395753860474,
          1.1061581373214722,
          0.08462267369031906,
          -0.1123468428850174,
          2.0832602977752686,
          0.6192831993103027,
          0.7989310026168823,
          0.42125624418258667,
          0.5049800872802734,
          0.9548661112785339,
          0.28085607290267944,
          0.13926786184310913,
          0.8287748694419861,
          0.6107208132743835,
          0.3713913559913635,
          2.137923240661621,
          3.4786434173583984,
          1.1835687160491943,
          0.41118288040161133,
          1.4705742597579956,
          0.12406279146671295,
          0.5648784041404724,
          0.5876926183700562,
          -0.07302418351173401
         ],
         "xaxis": "x",
         "y": [
          390.2405090332031,
          1013.7827758789062,
          447.37554931640625,
          835.2529296875,
          460.9708251953125,
          862.6390380859375,
          46.540409088134766,
          81.27007293701172,
          722.1712036132812,
          1232.615234375,
          517.95751953125,
          1808.0977783203125,
          223.98492431640625,
          687.3819580078125,
          269.34686279296875,
          432.3865051269531,
          94.12674713134766,
          125.79061126708984,
          564.281494140625,
          145.3909454345703,
          226.70404052734375,
          488.19879150390625,
          344.1097106933594,
          155.84152221679688,
          185.35626220703125,
          319.9333801269531,
          102.41224670410156,
          238.88661193847656,
          343.9885559082031,
          133.88426208496094,
          558.375244140625,
          102.33599090576172,
          424.5216369628906,
          602.1139526367188,
          94.6685791015625,
          3417.8984375,
          918.7639770507812,
          109.54022979736328,
          130.4160919189453,
          441.3222961425781,
          232.02476501464844,
          480.0013427734375,
          1164.4932861328125,
          277.6707763671875,
          165.28846740722656,
          19.279367446899414,
          619.3668212890625,
          127.87508392333984,
          49.74559020996094,
          1064.2293701171875,
          90.81600952148438,
          1001.05908203125,
          446.8775329589844,
          188.80101013183594,
          346.2149353027344,
          360.85174560546875,
          48.842506408691406,
          211.65353393554688,
          55.25040054321289,
          283.8260192871094,
          147.4165802001953,
          1106.328857421875,
          1531.7777099609375,
          1634.141845703125,
          51.7320442199707,
          148.6864471435547,
          212.31260681152344,
          361.9996032714844,
          427.846923828125,
          466.7977294921875,
          153.27427673339844,
          187.8135223388672,
          333.1405334472656,
          813.711669921875,
          349.7781677246094,
          376.6286926269531,
          281.94671630859375,
          280.4778747558594,
          1020.6594848632812,
          834.3023071289062,
          362.27191162109375,
          158.292236328125,
          199.90994262695312,
          336.0822448730469,
          912.5250854492188,
          972.234619140625,
          1002.4437255859375,
          81.33479309082031,
          1111.4857177734375,
          97.25067138671875,
          297.0579833984375,
          386.63275146484375,
          66.38134002685547,
          193.52821350097656,
          3113.01123046875,
          314.5797424316406,
          749.0996704101562,
          1410.370361328125,
          278.6229248046875,
          859.16943359375,
          398.2666320800781,
          387.86572265625,
          618.947265625,
          565.7192993164062,
          1130.8919677734375,
          171.6253662109375,
          834.0283203125,
          1554.341552734375,
          1093.0450439453125,
          161.3716583251953,
          373.57537841796875,
          684.84033203125,
          594.9808349609375,
          217.128173828125,
          191.55589294433594,
          307.5695495605469,
          486.9490051269531,
          221.3671417236328,
          406.08837890625,
          1042.322998046875,
          619.8963623046875,
          110.52232360839844,
          966.2952270507812,
          260.9507751464844,
          483.9089660644531,
          247.22677612304688,
          56.30939865112305,
          2591.217041015625,
          230.427490234375,
          284.1489562988281,
          166.26560974121094,
          1213.161376953125,
          71.09500122070312,
          1076.221435546875,
          512.9723510742188,
          89.45916748046875,
          296.4075927734375,
          900.4353637695312,
          143.232666015625,
          260.3316345214844,
          81.95669555664062,
          429.4825134277344,
          233.3106231689453,
          68.4874496459961,
          461.43133544921875,
          93.34864807128906,
          710.5950317382812,
          717.3245849609375,
          99.64763641357422,
          772.2969970703125,
          231.83763122558594,
          237.91441345214844,
          81.6435546875,
          111.92250061035156,
          245.69741821289062,
          1752.49951171875,
          367.7108459472656,
          305.5122375488281,
          316.3801574707031,
          485.416015625,
          308.73828125,
          40.06876754760742,
          772.66552734375,
          356.0113830566406,
          255.96051025390625,
          82.6706314086914,
          1169.592041015625,
          1871.0015869140625,
          615.8396606445312,
          640.7673950195312,
          648.1471557617188,
          397.7919006347656,
          26.777070999145508,
          233.25616455078125,
          718.3134765625,
          165.360107421875,
          98.33739471435547,
          33.787845611572266,
          267.4576721191406,
          1036.689453125,
          845.4320678710938,
          52.42597198486328,
          140.20077514648438,
          258.1190185546875,
          827.7208862304688,
          259.9011535644531,
          1110.3179931640625,
          699.5455932617188,
          734.0809326171875,
          379.2217712402344,
          37.41230392456055,
          970.1111450195312,
          127.25322723388672,
          305.24444580078125,
          87.58950805664062,
          123.43135833740234,
          842.1051635742188,
          200.4088897705078,
          241.01165771484375,
          187.91226196289062,
          1854.8031005859375,
          376.8305358886719,
          745.0498046875,
          453.7654113769531,
          360.17047119140625,
          387.2608947753906,
          141.83905029296875,
          172.0694122314453,
          153.1045379638672,
          260.9664001464844,
          286.711669921875,
          147.34869384765625,
          518.365966796875,
          295.3759460449219,
          608.6128540039062,
          401.9489440917969,
          521.0524291992188,
          894.8060913085938,
          1102.5533447265625,
          992.62060546875,
          208.18028259277344,
          838.5557250976562,
          620.5226440429688,
          74.00515747070312,
          133.01951599121094,
          289.64300537109375,
          252.39215087890625,
          969.9893798828125,
          1344.73193359375,
          102.77539825439453,
          1114.8675537109375,
          1081.7918701171875,
          776.3881225585938,
          470.7981872558594,
          146.569580078125,
          67.56904602050781,
          931.7906494140625,
          293.6146240234375,
          94.99394989013672,
          669.7297973632812,
          497.818603515625,
          396.4029846191406,
          250.65077209472656,
          433.5050964355469,
          539.6574096679688,
          546.7811279296875,
          312.89013671875,
          62.26994705200195,
          567.3585205078125,
          634.7523193359375,
          68.18614196777344,
          1890.620849609375,
          309.1688537597656,
          623.6304931640625,
          202.364990234375,
          208.0457000732422,
          178.71739196777344,
          64.71522521972656,
          258.2127685546875,
          98.20574188232422,
          406.6809997558594,
          1478.1982421875,
          973.7786254882812,
          719.7788696289062,
          88.88157653808594,
          287.3377380371094,
          77.87886810302734,
          481.65673828125,
          285.7861022949219,
          170.14404296875,
          464.8204650878906,
          321.524658203125,
          651.344970703125,
          309.6401672363281,
          178.8650360107422,
          365.2925720214844,
          581.3694458007812,
          478.7907409667969,
          2203.225341796875,
          178.7776336669922,
          339.1333312988281,
          551.6237182617188,
          248.48974609375,
          204.15750122070312,
          317.9870910644531,
          1141.8477783203125,
          359.61279296875,
          75.97067260742188,
          87.59614562988281,
          113.20636749267578,
          994.523193359375,
          515.6300659179688,
          208.46054077148438,
          290.7381896972656,
          107.40341186523438,
          144.95664978027344,
          240.76124572753906,
          110.08431243896484,
          328.04107666015625,
          599.4765625,
          793.2446899414062,
          200.33380126953125,
          296.4772033691406,
          552.9019775390625,
          80.3812255859375,
          1054.5340576171875,
          184.2399444580078,
          376.1456298828125,
          448.1277770996094,
          100.76746368408203,
          517.9400634765625,
          729.7915649414062,
          900.1734619140625,
          651.5882568359375,
          343.08941650390625,
          537.0493774414062,
          118.8030776977539,
          723.4296264648438,
          350.0296325683594,
          87.5154037475586,
          434.1600341796875,
          141.35421752929688,
          63.058040618896484,
          368.6259460449219,
          89.0200424194336,
          373.3084411621094,
          152.1533660888672,
          443.12982177734375,
          91.41065216064453,
          191.06631469726562,
          204.52049255371094,
          224.86135864257812,
          371.208740234375,
          577.466796875,
          592.8552856445312,
          482.7583312988281,
          255.60240173339844,
          138.68817138671875,
          169.57008361816406,
          1465.824462890625,
          415.2479553222656,
          509.22052001953125,
          235.26280212402344,
          517.0017700195312,
          91.25704193115234,
          254.78546142578125,
          149.2527313232422,
          144.62326049804688,
          287.6535949707031,
          210.17019653320312,
          1327.734375,
          239.0008544921875,
          685.1586303710938,
          45.42164611816406,
          1007.1260375976562,
          193.05831909179688,
          234.57412719726562,
          34.51028060913086,
          31.189001083374023,
          107.0073013305664,
          609.1141357421875,
          159.28543090820312,
          137.8092041015625,
          57.71214294433594,
          62.0491943359375,
          362.122802734375,
          39.6472053527832,
          474.44378662109375,
          372.74066162109375,
          551.603759765625,
          377.82171630859375,
          677.3164672851562,
          186.90460205078125,
          235.03858947753906,
          103.13806915283203,
          679.9228515625,
          150.43521118164062,
          542.8840942382812,
          1005.2511596679688,
          483.2375183105469,
          391.5883483886719,
          168.81460571289062,
          274.4384460449219,
          785.7767944335938,
          92.36917877197266,
          54.115177154541016,
          465.3480529785156,
          569.3577880859375,
          325.96636962890625,
          286.047119140625,
          229.72422790527344,
          266.0952453613281,
          410.9758605957031,
          1794.99755859375,
          99.79302215576172,
          182.0381622314453,
          255.05467224121094,
          61.34527587890625,
          267.00030517578125,
          246.50881958007812,
          307.85992431640625,
          206.80039978027344,
          394.1159362792969,
          191.39321899414062,
          1358.3455810546875,
          110.17902374267578,
          117.5683822631836,
          396.6372375488281,
          421.7350769042969,
          134.65524291992188,
          454.3595275878906,
          79.55525970458984,
          580.5177612304688,
          291.6536560058594,
          122.54780578613281,
          344.39794921875,
          2723.051025390625,
          1095.1236572265625,
          271.4902648925781,
          311.9106750488281,
          207.8765411376953,
          75.73867797851562,
          279.92205810546875,
          2239.08154296875,
          752.0720825195312,
          1957.8966064453125,
          548.070556640625,
          286.6632995605469,
          201.51480102539062,
          167.26406860351562,
          95.92430877685547,
          106.31088256835938,
          227.9973907470703,
          251.50062561035156,
          204.8482666015625,
          642.3319091796875,
          76.59891510009766,
          1273.2308349609375,
          1311.6904296875,
          303.44818115234375,
          364.2702331542969,
          251.4124755859375,
          1028.5670166015625,
          297.483154296875,
          76.20330047607422,
          495.9418029785156,
          1610.3553466796875,
          235.41355895996094,
          151.29116821289062,
          251.66017150878906,
          739.7924194335938,
          55.77901840209961,
          193.29408264160156,
          533.1746215820312,
          511.9776611328125,
          272.17364501953125,
          87.08352661132812,
          85.21702575683594,
          1292.9111328125,
          77.64017486572266,
          1020.0772705078125,
          361.5484924316406,
          154.01022338867188,
          330.117919921875,
          1458.8863525390625,
          1532.951171875,
          859.5698852539062,
          447.05712890625,
          3783.339111328125,
          1210.0792236328125,
          399.247802734375,
          159.06777954101562,
          267.4296569824219,
          444.1866760253906,
          516.2001953125,
          44.48691177368164,
          1122.8558349609375,
          201.7225341796875,
          319.14532470703125,
          166.32908630371094,
          861.0071411132812,
          1043.443603515625,
          797.8876342773438,
          194.78372192382812,
          221.47222900390625,
          236.3711700439453,
          1188.717529296875,
          1229.7308349609375,
          369.4367980957031,
          400.1585998535156,
          847.4589233398438,
          161.56686401367188,
          53.36656188964844,
          65.93982696533203,
          349.0087890625,
          500.60211181640625,
          2831.826416015625,
          93.15251922607422,
          6235.984375,
          428.51458740234375,
          234.9669647216797,
          159.50120544433594,
          246.6278533935547,
          182.02578735351562,
          531.1578369140625,
          96.56498718261719,
          333.7383117675781,
          209.70614624023438,
          520.5711669921875,
          580.3436279296875,
          467.7898254394531,
          1158.487548828125,
          1799.2147216796875,
          1210.2918701171875,
          196.60565185546875,
          59.197574615478516,
          259.0682678222656,
          419.1921081542969,
          1968.4315185546875,
          111.6536636352539,
          461.4194030761719,
          280.0619201660156,
          124.3113021850586,
          434.466064453125,
          109.90872192382812,
          1631.9229736328125,
          935.6982421875,
          244.9857940673828,
          56.18257522583008,
          147.21888732910156,
          156.62271118164062,
          125.09626770019531,
          526.3715209960938,
          375.462890625,
          83.66287994384766,
          895.3075561523438,
          201.2249298095703,
          491.76348876953125,
          262.7294616699219,
          109.54317474365234,
          440.9026794433594,
          702.8994750976562,
          283.5551452636719,
          592.2786254882812,
          238.88229370117188,
          122.97612762451172,
          291.3829650878906,
          243.54586791992188,
          335.4327697753906,
          371.4617614746094,
          1896.29052734375,
          59.552921295166016,
          476.1395568847656,
          1100.740478515625,
          204.63421630859375,
          119.00741577148438,
          132.38731384277344,
          1161.7894287109375,
          155.981201171875,
          117.56204223632812,
          1580.8975830078125,
          286.2326354980469,
          215.1129913330078,
          296.5387268066406,
          328.3746337890625,
          730.2457885742188,
          55.71097946166992,
          186.43714904785156,
          485.4942321777344,
          314.00885009765625,
          827.0288696289062,
          271.1347351074219,
          721.5576782226562,
          362.20587158203125,
          320.7526550292969,
          1000.931640625,
          947.463134765625,
          549.8018798828125,
          171.72193908691406,
          79.13310241699219,
          1828.349853515625,
          377.4278259277344,
          451.8287048339844,
          783.3025512695312,
          32.121116638183594,
          726.28466796875,
          57.50712203979492,
          1271.7958984375,
          309.46624755859375,
          394.87066650390625,
          408.12847900390625,
          2036.6947021484375,
          1852.647705078125,
          892.0403442382812,
          269.3140563964844,
          948.4120483398438,
          103.34687805175781,
          204.05809020996094,
          227.40460205078125,
          149.6398468017578
         ],
         "yaxis": "y"
        }
       ],
       "layout": {
        "autosize": true,
        "legend": {
         "tracegroupgap": 0
        },
        "margin": {
         "t": 60
        },
        "template": {
         "data": {
          "bar": [
           {
            "error_x": {
             "color": "#2a3f5f"
            },
            "error_y": {
             "color": "#2a3f5f"
            },
            "marker": {
             "line": {
              "color": "#E5ECF6",
              "width": 0.5
             }
            },
            "type": "bar"
           }
          ],
          "barpolar": [
           {
            "marker": {
             "line": {
              "color": "#E5ECF6",
              "width": 0.5
             }
            },
            "type": "barpolar"
           }
          ],
          "carpet": [
           {
            "aaxis": {
             "endlinecolor": "#2a3f5f",
             "gridcolor": "white",
             "linecolor": "white",
             "minorgridcolor": "white",
             "startlinecolor": "#2a3f5f"
            },
            "baxis": {
             "endlinecolor": "#2a3f5f",
             "gridcolor": "white",
             "linecolor": "white",
             "minorgridcolor": "white",
             "startlinecolor": "#2a3f5f"
            },
            "type": "carpet"
           }
          ],
          "choropleth": [
           {
            "colorbar": {
             "outlinewidth": 0,
             "ticks": ""
            },
            "type": "choropleth"
           }
          ],
          "contour": [
           {
            "colorbar": {
             "outlinewidth": 0,
             "ticks": ""
            },
            "colorscale": [
             [
              0,
              "#0d0887"
             ],
             [
              0.1111111111111111,
              "#46039f"
             ],
             [
              0.2222222222222222,
              "#7201a8"
             ],
             [
              0.3333333333333333,
              "#9c179e"
             ],
             [
              0.4444444444444444,
              "#bd3786"
             ],
             [
              0.5555555555555556,
              "#d8576b"
             ],
             [
              0.6666666666666666,
              "#ed7953"
             ],
             [
              0.7777777777777778,
              "#fb9f3a"
             ],
             [
              0.8888888888888888,
              "#fdca26"
             ],
             [
              1,
              "#f0f921"
             ]
            ],
            "type": "contour"
           }
          ],
          "contourcarpet": [
           {
            "colorbar": {
             "outlinewidth": 0,
             "ticks": ""
            },
            "type": "contourcarpet"
           }
          ],
          "heatmap": [
           {
            "colorbar": {
             "outlinewidth": 0,
             "ticks": ""
            },
            "colorscale": [
             [
              0,
              "#0d0887"
             ],
             [
              0.1111111111111111,
              "#46039f"
             ],
             [
              0.2222222222222222,
              "#7201a8"
             ],
             [
              0.3333333333333333,
              "#9c179e"
             ],
             [
              0.4444444444444444,
              "#bd3786"
             ],
             [
              0.5555555555555556,
              "#d8576b"
             ],
             [
              0.6666666666666666,
              "#ed7953"
             ],
             [
              0.7777777777777778,
              "#fb9f3a"
             ],
             [
              0.8888888888888888,
              "#fdca26"
             ],
             [
              1,
              "#f0f921"
             ]
            ],
            "type": "heatmap"
           }
          ],
          "heatmapgl": [
           {
            "colorbar": {
             "outlinewidth": 0,
             "ticks": ""
            },
            "colorscale": [
             [
              0,
              "#0d0887"
             ],
             [
              0.1111111111111111,
              "#46039f"
             ],
             [
              0.2222222222222222,
              "#7201a8"
             ],
             [
              0.3333333333333333,
              "#9c179e"
             ],
             [
              0.4444444444444444,
              "#bd3786"
             ],
             [
              0.5555555555555556,
              "#d8576b"
             ],
             [
              0.6666666666666666,
              "#ed7953"
             ],
             [
              0.7777777777777778,
              "#fb9f3a"
             ],
             [
              0.8888888888888888,
              "#fdca26"
             ],
             [
              1,
              "#f0f921"
             ]
            ],
            "type": "heatmapgl"
           }
          ],
          "histogram": [
           {
            "marker": {
             "colorbar": {
              "outlinewidth": 0,
              "ticks": ""
             }
            },
            "type": "histogram"
           }
          ],
          "histogram2d": [
           {
            "colorbar": {
             "outlinewidth": 0,
             "ticks": ""
            },
            "colorscale": [
             [
              0,
              "#0d0887"
             ],
             [
              0.1111111111111111,
              "#46039f"
             ],
             [
              0.2222222222222222,
              "#7201a8"
             ],
             [
              0.3333333333333333,
              "#9c179e"
             ],
             [
              0.4444444444444444,
              "#bd3786"
             ],
             [
              0.5555555555555556,
              "#d8576b"
             ],
             [
              0.6666666666666666,
              "#ed7953"
             ],
             [
              0.7777777777777778,
              "#fb9f3a"
             ],
             [
              0.8888888888888888,
              "#fdca26"
             ],
             [
              1,
              "#f0f921"
             ]
            ],
            "type": "histogram2d"
           }
          ],
          "histogram2dcontour": [
           {
            "colorbar": {
             "outlinewidth": 0,
             "ticks": ""
            },
            "colorscale": [
             [
              0,
              "#0d0887"
             ],
             [
              0.1111111111111111,
              "#46039f"
             ],
             [
              0.2222222222222222,
              "#7201a8"
             ],
             [
              0.3333333333333333,
              "#9c179e"
             ],
             [
              0.4444444444444444,
              "#bd3786"
             ],
             [
              0.5555555555555556,
              "#d8576b"
             ],
             [
              0.6666666666666666,
              "#ed7953"
             ],
             [
              0.7777777777777778,
              "#fb9f3a"
             ],
             [
              0.8888888888888888,
              "#fdca26"
             ],
             [
              1,
              "#f0f921"
             ]
            ],
            "type": "histogram2dcontour"
           }
          ],
          "mesh3d": [
           {
            "colorbar": {
             "outlinewidth": 0,
             "ticks": ""
            },
            "type": "mesh3d"
           }
          ],
          "parcoords": [
           {
            "line": {
             "colorbar": {
              "outlinewidth": 0,
              "ticks": ""
             }
            },
            "type": "parcoords"
           }
          ],
          "scatter": [
           {
            "marker": {
             "colorbar": {
              "outlinewidth": 0,
              "ticks": ""
             }
            },
            "type": "scatter"
           }
          ],
          "scatter3d": [
           {
            "line": {
             "colorbar": {
              "outlinewidth": 0,
              "ticks": ""
             }
            },
            "marker": {
             "colorbar": {
              "outlinewidth": 0,
              "ticks": ""
             }
            },
            "type": "scatter3d"
           }
          ],
          "scattercarpet": [
           {
            "marker": {
             "colorbar": {
              "outlinewidth": 0,
              "ticks": ""
             }
            },
            "type": "scattercarpet"
           }
          ],
          "scattergeo": [
           {
            "marker": {
             "colorbar": {
              "outlinewidth": 0,
              "ticks": ""
             }
            },
            "type": "scattergeo"
           }
          ],
          "scattergl": [
           {
            "marker": {
             "colorbar": {
              "outlinewidth": 0,
              "ticks": ""
             }
            },
            "type": "scattergl"
           }
          ],
          "scattermapbox": [
           {
            "marker": {
             "colorbar": {
              "outlinewidth": 0,
              "ticks": ""
             }
            },
            "type": "scattermapbox"
           }
          ],
          "scatterpolar": [
           {
            "marker": {
             "colorbar": {
              "outlinewidth": 0,
              "ticks": ""
             }
            },
            "type": "scatterpolar"
           }
          ],
          "scatterpolargl": [
           {
            "marker": {
             "colorbar": {
              "outlinewidth": 0,
              "ticks": ""
             }
            },
            "type": "scatterpolargl"
           }
          ],
          "scatterternary": [
           {
            "marker": {
             "colorbar": {
              "outlinewidth": 0,
              "ticks": ""
             }
            },
            "type": "scatterternary"
           }
          ],
          "surface": [
           {
            "colorbar": {
             "outlinewidth": 0,
             "ticks": ""
            },
            "colorscale": [
             [
              0,
              "#0d0887"
             ],
             [
              0.1111111111111111,
              "#46039f"
             ],
             [
              0.2222222222222222,
              "#7201a8"
             ],
             [
              0.3333333333333333,
              "#9c179e"
             ],
             [
              0.4444444444444444,
              "#bd3786"
             ],
             [
              0.5555555555555556,
              "#d8576b"
             ],
             [
              0.6666666666666666,
              "#ed7953"
             ],
             [
              0.7777777777777778,
              "#fb9f3a"
             ],
             [
              0.8888888888888888,
              "#fdca26"
             ],
             [
              1,
              "#f0f921"
             ]
            ],
            "type": "surface"
           }
          ],
          "table": [
           {
            "cells": {
             "fill": {
              "color": "#EBF0F8"
             },
             "line": {
              "color": "white"
             }
            },
            "header": {
             "fill": {
              "color": "#C8D4E3"
             },
             "line": {
              "color": "white"
             }
            },
            "type": "table"
           }
          ]
         },
         "layout": {
          "annotationdefaults": {
           "arrowcolor": "#2a3f5f",
           "arrowhead": 0,
           "arrowwidth": 1
          },
          "colorscale": {
           "diverging": [
            [
             0,
             "#8e0152"
            ],
            [
             0.1,
             "#c51b7d"
            ],
            [
             0.2,
             "#de77ae"
            ],
            [
             0.3,
             "#f1b6da"
            ],
            [
             0.4,
             "#fde0ef"
            ],
            [
             0.5,
             "#f7f7f7"
            ],
            [
             0.6,
             "#e6f5d0"
            ],
            [
             0.7,
             "#b8e186"
            ],
            [
             0.8,
             "#7fbc41"
            ],
            [
             0.9,
             "#4d9221"
            ],
            [
             1,
             "#276419"
            ]
           ],
           "sequential": [
            [
             0,
             "#0d0887"
            ],
            [
             0.1111111111111111,
             "#46039f"
            ],
            [
             0.2222222222222222,
             "#7201a8"
            ],
            [
             0.3333333333333333,
             "#9c179e"
            ],
            [
             0.4444444444444444,
             "#bd3786"
            ],
            [
             0.5555555555555556,
             "#d8576b"
            ],
            [
             0.6666666666666666,
             "#ed7953"
            ],
            [
             0.7777777777777778,
             "#fb9f3a"
            ],
            [
             0.8888888888888888,
             "#fdca26"
            ],
            [
             1,
             "#f0f921"
            ]
           ],
           "sequentialminus": [
            [
             0,
             "#0d0887"
            ],
            [
             0.1111111111111111,
             "#46039f"
            ],
            [
             0.2222222222222222,
             "#7201a8"
            ],
            [
             0.3333333333333333,
             "#9c179e"
            ],
            [
             0.4444444444444444,
             "#bd3786"
            ],
            [
             0.5555555555555556,
             "#d8576b"
            ],
            [
             0.6666666666666666,
             "#ed7953"
            ],
            [
             0.7777777777777778,
             "#fb9f3a"
            ],
            [
             0.8888888888888888,
             "#fdca26"
            ],
            [
             1,
             "#f0f921"
            ]
           ]
          },
          "colorway": [
           "#636efa",
           "#EF553B",
           "#00cc96",
           "#ab63fa",
           "#FFA15A",
           "#19d3f3",
           "#FF6692",
           "#B6E880",
           "#FF97FF",
           "#FECB52"
          ],
          "font": {
           "color": "#2a3f5f"
          },
          "geo": {
           "bgcolor": "white",
           "lakecolor": "white",
           "landcolor": "#E5ECF6",
           "showlakes": true,
           "showland": true,
           "subunitcolor": "white"
          },
          "hoverlabel": {
           "align": "left"
          },
          "hovermode": "closest",
          "mapbox": {
           "style": "light"
          },
          "paper_bgcolor": "white",
          "plot_bgcolor": "#E5ECF6",
          "polar": {
           "angularaxis": {
            "gridcolor": "white",
            "linecolor": "white",
            "ticks": ""
           },
           "bgcolor": "#E5ECF6",
           "radialaxis": {
            "gridcolor": "white",
            "linecolor": "white",
            "ticks": ""
           }
          },
          "scene": {
           "xaxis": {
            "backgroundcolor": "#E5ECF6",
            "gridcolor": "white",
            "gridwidth": 2,
            "linecolor": "white",
            "showbackground": true,
            "ticks": "",
            "zerolinecolor": "white"
           },
           "yaxis": {
            "backgroundcolor": "#E5ECF6",
            "gridcolor": "white",
            "gridwidth": 2,
            "linecolor": "white",
            "showbackground": true,
            "ticks": "",
            "zerolinecolor": "white"
           },
           "zaxis": {
            "backgroundcolor": "#E5ECF6",
            "gridcolor": "white",
            "gridwidth": 2,
            "linecolor": "white",
            "showbackground": true,
            "ticks": "",
            "zerolinecolor": "white"
           }
          },
          "shapedefaults": {
           "line": {
            "color": "#2a3f5f"
           }
          },
          "ternary": {
           "aaxis": {
            "gridcolor": "white",
            "linecolor": "white",
            "ticks": ""
           },
           "baxis": {
            "gridcolor": "white",
            "linecolor": "white",
            "ticks": ""
           },
           "bgcolor": "#E5ECF6",
           "caxis": {
            "gridcolor": "white",
            "linecolor": "white",
            "ticks": ""
           }
          },
          "title": {
           "x": 0.05
          },
          "xaxis": {
           "automargin": true,
           "gridcolor": "white",
           "linecolor": "white",
           "ticks": "",
           "zerolinecolor": "white",
           "zerolinewidth": 2
          },
          "yaxis": {
           "automargin": true,
           "gridcolor": "white",
           "linecolor": "white",
           "ticks": "",
           "zerolinecolor": "white",
           "zerolinewidth": 2
          }
         }
        },
        "xaxis": {
         "anchor": "y",
         "autorange": true,
         "domain": [
          0,
          0.98
         ],
         "range": [
          -0.5070112017714057,
          5.490129080208448
         ],
         "title": {
          "text": "pred"
         },
         "type": "linear"
        },
        "yaxis": {
         "anchor": "x",
         "autorange": true,
         "domain": [
          0,
          1
         ],
         "range": [
          -389.81499651877203,
          6645.078738965672
         ],
         "title": {
          "text": "true"
         },
         "type": "linear"
        }
       }
      },
      "image/png": "[encoded data removed]",
      "text/html": [
       "<div>\n",
       "        \n",
       "        \n",
       "            <div id=\"2485a1f9-4304-4c18-bed2-c450e449839a\" class=\"plotly-graph-div\" style=\"height:600px; width:100%;\"></div>\n",
       "            <script type=\"text/javascript\">\n",
       "                require([\"plotly\"], function(Plotly) {\n",
       "                    window.PLOTLYENV=window.PLOTLYENV || {};\n",
       "                    \n",
       "                if (document.getElementById(\"2485a1f9-4304-4c18-bed2-c450e449839a\")) {\n",
       "                    Plotly.newPlot(\n",
       "                        '2485a1f9-4304-4c18-bed2-c450e449839a',\n",
       "                        [{\"hoverlabel\": {\"namelength\": 0}, \"hovertemplate\": \"pred=%{x}<br>true=%{y}\", \"legendgroup\": \"\", \"marker\": {\"color\": \"#636efa\", \"symbol\": \"circle\"}, \"mode\": \"markers\", \"name\": \"\", \"showlegend\": false, \"type\": \"scatter\", \"x\": [0.7031806111335754, -0.022531650960445404, 0.18887686729431152, 0.29342883825302124, -0.043128177523612976, 0.28046849370002747, -0.15959422290325165, 0.17464762926101685, 1.1167410612106323, -0.1161462813615799, 0.46318185329437256, 1.8954920768737793, 0.31225717067718506, 1.358773112297058, 0.5178964138031006, 0.7141934037208557, -0.07747408747673035, 0.32108306884765625, 0.3055880665779114, 0.5691117644309998, 0.3438078761100769, 1.2339564561843872, 0.5219920873641968, 0.3056983947753906, 0.7322384715080261, 0.3187856674194336, 0.14990751445293427, 0.3890115022659302, 0.7804598808288574, 0.17933134734630585, 0.670953631401062, 0.33044105768203735, 0.5979751944541931, 0.7178992629051208, -0.11768563091754913, 3.959277391433716, 1.8143960237503052, 0.09709151089191437, 0.5389118790626526, 2.214106559753418, 0.5767123699188232, 1.2452832460403442, 1.2857935428619385, 0.2354004830121994, 0.27229756116867065, 0.09373823553323746, 0.7172003388404846, 0.4319835305213928, 0.4562920331954956, 0.36844688653945923, 0.24066860973834991, 0.4125276207923889, 0.8091215491294861, 0.8481324315071106, 0.7079148292541504, 0.44294947385787964, 0.33134764432907104, 0.6621291637420654, 0.5272414684295654, 0.9084466099739075, 0.6626117825508118, 0.9708740711212158, 1.9645297527313232, 1.420637607574463, 0.3119088411331177, 0.6707420945167542, 0.41566014289855957, 0.4855464696884155, 0.7020013332366943, 0.25884395837783813, 0.31162789463996887, 0.5452722311019897, 0.42073947191238403, 1.5598578453063965, 1.1422005891799927, 0.7942078709602356, 0.48857808113098145, 0.7892494797706604, 1.1679943799972534, 1.5367048978805542, 0.8741961717605591, 0.7918271422386169, 0.3766018748283386, 0.5414519906044006, 0.18101555109024048, 0.7463231682777405, 0.005334038287401199, 0.15897975862026215, 0.26832908391952515, 0.3878600001335144, 0.46065330505371094, 2.4362385272979736, 0.1361222267150879, 0.2866072952747345, 5.1704206466674805, 1.010277509689331, 0.4388730525970459, 1.658543586730957, 0.6496672034263611, 0.25121375918388367, 0.9265807271003723, 0.8714869618415833, 2.520744562149048, 0.7183833718299866, 0.30698472261428833, 0.8581425547599792, 1.0828608274459839, 0.1562686562538147, 2.051217794418335, 0.36646825075149536, 0.698432207107544, 0.6078894734382629, 0.9604756236076355, 0.8643166422843933, 0.278268039226532, 0.4199149012565613, 0.7828283905982971, 1.0252808332443237, -0.014122426509857178, 1.025711178779602, 0.6789165139198303, 0.5227318406105042, 1.1495630741119385, -0.017268076539039612, 0.822241485118866, 0.192480206489563, -0.06075982749462128, 1.2489620447158813, 0.33820152282714844, 0.41622841358184814, 0.5531978011131287, 0.9686183333396912, 0.7456068992614746, 0.23450243473052979, 1.0313186645507812, 0.48437654972076416, 0.6105520129203796, 0.3980446457862854, 0.1605602502822876, 0.39602190256118774, 0.33796948194503784, 0.5878070592880249, 0.5546101331710815, 0.2294274866580963, 1.137908697128296, -0.13603825867176056, 0.24869032204151154, 0.42497068643569946, 0.40980178117752075, 0.5548882484436035, 0.6821990609169006, 0.8547351956367493, -0.013897478580474854, 0.41874372959136963, 0.4545748829841614, 1.1999040842056274, 0.5742843151092529, 0.4536053538322449, 0.4995262026786804, 0.687778890132904, 0.1955116242170334, 0.056608621031045914, 1.3505743741989136, 0.6639781594276428, 0.3530488610267639, -0.15457281470298767, 1.9068355560302734, 1.0192673206329346, 0.4162624478340149, 0.7612311244010925, 0.821313202381134, 0.44335508346557617, -0.17742212116718292, -0.09873145818710327, 0.35183727741241455, 0.10230818390846252, -0.11309081315994263, -0.0017416030168533325, 0.7123448252677917, 1.421288013458252, 0.939021646976471, 0.38367170095443726, 0.38875871896743774, 0.7327126860618591, 1.234323501586914, 0.6261220574378967, 2.049700975418091, 1.1053699254989624, 1.1748350858688354, 0.819564938545227, -0.10868407785892487, 1.392074704170227, 0.25523507595062256, 0.5872926115989685, -0.018510453402996063, 0.2987082004547119, 0.6846104860305786, 0.37846118211746216, 0.839851438999176, 0.6098797917366028, 1.7136820554733276, 0.670902669429779, -0.10765556991100311, 0.25685861706733704, 0.6787787079811096, 0.32024502754211426, 0.16471298038959503, 0.3037368655204773, 0.35880959033966064, 0.8411944508552551, 0.400978684425354, 0.49332040548324585, 0.7941480875015259, 0.9053450226783752, 0.8524711728096008, 0.7308940887451172, 0.7910596132278442, 0.531684935092926, 1.327599287033081, 1.3393824100494385, 0.22266529500484467, 0.5147386789321899, 1.6201039552688599, 0.24149061739444733, 0.18113180994987488, 0.5033919811248779, 0.27001768350601196, 1.0709434747695923, 1.6864149570465088, 0.44597792625427246, 0.37812989950180054, 1.0376629829406738, 1.5599234104156494, 0.9697777628898621, 0.2779899835586548, -0.10516592860221863, 1.5793994665145874, 0.381405770778656, 0.050608113408088684, 0.16171252727508545, 1.1113005876541138, 1.017755389213562, 0.17797085642814636, 0.4176311492919922, 0.9434992671012878, 0.49747228622436523, 0.42221421003341675, 0.33586353063583374, 0.5863307118415833, 1.127572774887085, 0.16096380352973938, 1.3200557231903076, 0.5061447620391846, 0.5058853030204773, 0.5767123699188232, 0.6850956678390503, 0.3286946415901184, 0.4595133662223816, 0.8530179262161255, 0.12168177962303162, 0.725115954875946, 0.018254395574331284, 0.3664925694465637, 1.0298000574111938, 0.025838028639554977, 0.400978684425354, 0.4119148850440979, 0.9401556253433228, 0.400978684425354, 0.4248618483543396, 0.2730152904987335, 0.5815523862838745, 0.26176804304122925, 0.5109460949897766, 1.1813762187957764, -0.14687152206897736, -0.04351113736629486, 0.8542892336845398, 4.273738861083984, 0.6619767546653748, 0.5138856768608093, 1.1040937900543213, 0.5355035066604614, -0.03202994167804718, 0.7007020115852356, 0.30912160873413086, 0.6013383865356445, 0.2729319930076599, 0.6480705142021179, -0.00804920494556427, 0.9615581631660461, 0.7659782767295837, 0.1938449591398239, 0.5195639729499817, 0.7259482145309448, 0.5215067863464355, 0.1325072944164276, 0.16339188814163208, 0.5491757988929749, 0.7350542545318604, 0.6457076072692871, 0.30872178077697754, -0.08529171347618103, 0.4499603509902954, -0.06973493099212646, 1.357803463935852, 0.5086585879325867, 0.8989492654800415, 0.6844295859336853, 0.6394224762916565, 0.8150050044059753, 0.5809029936790466, 0.3607783317565918, 0.19272539019584656, 0.6883101463317871, 0.611872673034668, -0.07122999429702759, 0.2513006031513214, 0.6511079668998718, 0.4651595950126648, 0.5862563252449036, 0.1807149201631546, 0.589250922203064, -0.12066422402858734, 0.2414586991071701, 0.3738706707954407, -0.07607296109199524, 0.9186781048774719, -0.14871597290039062, 0.6284487843513489, 0.4614933729171753, -0.10960505902767181, 0.6888014674186707, 0.5604462027549744, 0.6782228350639343, 1.1502591371536255, 0.3199760317802429, 0.2995739281177521, 0.5410017967224121, 1.4303134679794312, 0.8746772408485413, 0.6560516357421875, 0.7977272868156433, 0.9268932342529297, -0.10595014691352844, 0.5135780572891235, 0.6862990260124207, 0.28055959939956665, -0.0370841920375824, 0.32507359981536865, 0.8080625534057617, 0.726762056350708, 0.3561670780181885, -0.18730276823043823, 1.015215277671814, 0.5767123699188232, -0.054412633180618286, 0.5172075629234314, 0.5572843551635742, 0.12449142336845398, 0.8032757639884949, 0.2998815178871155, 0.42750728130340576, 0.36809325218200684, -0.05321299284696579, 0.7284855246543884, 0.23562374711036682, 0.5484226942062378, 0.8056535124778748, 0.9216970801353455, 0.5341398119926453, -0.010126054286956787, 0.31952571868896484, 0.343095064163208, -0.09350693225860596, 1.454026699066162, 0.47807878255844116, 1.3354793787002563, -0.1308508813381195, 0.6040677428245544, 0.37142229080200195, 0.32426542043685913, 0.5227383971214294, 0.5573814511299133, 0.23975932598114014, 0.2708272337913513, 1.180358648300171, 0.49041032791137695, 0.9083232283592224, -0.029010578989982605, 0.4861310124397278, 0.3397914171218872, 0.4856927990913391, 1.2231570482254028, 0.28421100974082947, 0.36522889137268066, 0.5109980702400208, 0.24005372822284698, -0.10769131779670715, 0.4625694155693054, 0.7229405045509338, 1.0042058229446411, 0.32248038053512573, 0.6512545347213745, 0.34021860361099243, 0.32376807928085327, -0.07107135653495789, 0.39938294887542725, 1.0084285736083984, 0.2339475452899933, 0.8554051518440247, -0.0873563140630722, 0.17702054977416992, 0.400978684425354, 0.8921068906784058, 0.7079148292541504, 1.9535024166107178, 1.1722517013549805, -0.06721307337284088, 0.6384793519973755, 0.23493704199790955, 0.3073892593383789, 0.22132430970668793, 1.9088622331619263, 0.6728629469871521, 2.4233360290527344, 0.7629214525222778, 0.4756103754043579, 0.43385088443756104, 0.5163424611091614, 0.22475415468215942, -0.1507972627878189, 0.4341233968734741, -0.09530133008956909, 0.5272831916809082, 0.6115162968635559, 0.2339724451303482, 1.945488452911377, 1.69912850856781, 0.5473847389221191, 1.5717473030090332, 0.5228468179702759, 0.8574732542037964, 0.3292196989059448, 0.20621569454669952, -0.138963520526886, 1.0981966257095337, 0.888045608997345, 0.34890681505203247, 0.19958505034446716, 1.3665333986282349, 0.35972267389297485, 0.4941067099571228, 0.32015764713287354, 1.1213105916976929, 1.1084705591201782, 0.3181319236755371, -0.03834708034992218, -0.11559215188026428, 0.3084191679954529, 0.3727400302886963, 0.2800805866718292, 0.4286385774612427, 0.7154673933982849, 1.3643954992294312, 1.22417151927948, 1.549168586730957, 0.42127442359924316, 2.8964414596557617, 1.8460009098052979, 0.32700902223587036, 0.5337788462638855, 0.4799243211746216, 0.6973108053207397, 0.7944013476371765, -0.1553587168455124, 1.1070613861083984, 0.5887947082519531, 0.4303783178329468, 0.40462541580200195, 0.9237549304962158, 1.4329334497451782, 0.8191803097724915, 0.36046063899993896, 0.7870466113090515, 0.787578284740448, 2.0100412368774414, 1.0087926387786865, -0.07888197898864746, 0.5428605079650879, 1.0568643808364868, 0.2828845977783203, 0.3150066137313843, -0.0841103196144104, 0.0340120792388916, 0.5218045711517334, 3.4460034370422363, 0.2584209442138672, 2.6190009117126465, 0.5979751944541931, -0.11634460091590881, 0.649338960647583, -0.08682695031166077, 0.457811176776886, 1.0585741996765137, -0.16513246297836304, 0.6256515383720398, 0.4506167769432068, 1.1825824975967407, -0.026726000010967255, -0.018827423453330994, 1.872916340827942, 2.3840432167053223, 0.854063093662262, 0.5124337673187256, 0.17555935680866241, 0.5406681895256042, 0.4224308729171753, 1.4785492420196533, 0.3719595670700073, 0.8849748969078064, 0.3592885136604309, 0.30567383766174316, 0.43248558044433594, 0.38100868463516235, 1.4270111322402954, 0.8779780864715576, 0.2916538119316101, 0.3765541911125183, 0.44603776931762695, 0.33092498779296875, 0.2087607979774475, 0.3290107250213623, 0.7248815894126892, 0.5516523718833923, 0.8101996779441833, 0.8278267979621887, 0.5530646443367004, 0.6636287569999695, -0.13230492174625397, 1.3495582342147827, 0.9319342970848083, 0.4299857020378113, 1.228773832321167, 0.6939958930015564, 0.4935946464538574, 0.3490448594093323, 0.7203436493873596, 0.7988678216934204, 0.8270718455314636, 2.1475067138671875, 0.2573612332344055, 0.5312978625297546, 1.07032310962677, 1.2287570238113403, -0.062491632997989655, 0.824897825717926, -0.08587011694908142, -0.038401536643505096, 0.47172296047210693, 2.1359148025512695, 0.400978684425354, 0.33046895265579224, 0.4279932379722595, 0.7087572813034058, 1.1239805221557617, 0.5014819502830505, 0.3502194285392761, -0.017064303159713745, 0.7655624151229858, 0.9596697092056274, -0.017993591725826263, 0.7611719965934753, 0.4488864541053772, 0.7036153078079224, 1.0953389406204224, 1.6372395753860474, 1.1061581373214722, 0.08462267369031906, -0.1123468428850174, 2.0832602977752686, 0.6192831993103027, 0.7989310026168823, 0.42125624418258667, 0.5049800872802734, 0.9548661112785339, 0.28085607290267944, 0.13926786184310913, 0.8287748694419861, 0.6107208132743835, 0.3713913559913635, 2.137923240661621, 3.4786434173583984, 1.1835687160491943, 0.41118288040161133, 1.4705742597579956, 0.12406279146671295, 0.5648784041404724, 0.5876926183700562, -0.07302418351173401], \"xaxis\": \"x\", \"y\": [390.2405090332031, 1013.7827758789062, 447.37554931640625, 835.2529296875, 460.9708251953125, 862.6390380859375, 46.540409088134766, 81.27007293701172, 722.1712036132812, 1232.615234375, 517.95751953125, 1808.0977783203125, 223.98492431640625, 687.3819580078125, 269.34686279296875, 432.3865051269531, 94.12674713134766, 125.79061126708984, 564.281494140625, 145.3909454345703, 226.70404052734375, 488.19879150390625, 344.1097106933594, 155.84152221679688, 185.35626220703125, 319.9333801269531, 102.41224670410156, 238.88661193847656, 343.9885559082031, 133.88426208496094, 558.375244140625, 102.33599090576172, 424.5216369628906, 602.1139526367188, 94.6685791015625, 3417.8984375, 918.7639770507812, 109.54022979736328, 130.4160919189453, 441.3222961425781, 232.02476501464844, 480.0013427734375, 1164.4932861328125, 277.6707763671875, 165.28846740722656, 19.279367446899414, 619.3668212890625, 127.87508392333984, 49.74559020996094, 1064.2293701171875, 90.81600952148438, 1001.05908203125, 446.8775329589844, 188.80101013183594, 346.2149353027344, 360.85174560546875, 48.842506408691406, 211.65353393554688, 55.25040054321289, 283.8260192871094, 147.4165802001953, 1106.328857421875, 1531.7777099609375, 1634.141845703125, 51.7320442199707, 148.6864471435547, 212.31260681152344, 361.9996032714844, 427.846923828125, 466.7977294921875, 153.27427673339844, 187.8135223388672, 333.1405334472656, 813.711669921875, 349.7781677246094, 376.6286926269531, 281.94671630859375, 280.4778747558594, 1020.6594848632812, 834.3023071289062, 362.27191162109375, 158.292236328125, 199.90994262695312, 336.0822448730469, 912.5250854492188, 972.234619140625, 1002.4437255859375, 81.33479309082031, 1111.4857177734375, 97.25067138671875, 297.0579833984375, 386.63275146484375, 66.38134002685547, 193.52821350097656, 3113.01123046875, 314.5797424316406, 749.0996704101562, 1410.370361328125, 278.6229248046875, 859.16943359375, 398.2666320800781, 387.86572265625, 618.947265625, 565.7192993164062, 1130.8919677734375, 171.6253662109375, 834.0283203125, 1554.341552734375, 1093.0450439453125, 161.3716583251953, 373.57537841796875, 684.84033203125, 594.9808349609375, 217.128173828125, 191.55589294433594, 307.5695495605469, 486.9490051269531, 221.3671417236328, 406.08837890625, 1042.322998046875, 619.8963623046875, 110.52232360839844, 966.2952270507812, 260.9507751464844, 483.9089660644531, 247.22677612304688, 56.30939865112305, 2591.217041015625, 230.427490234375, 284.1489562988281, 166.26560974121094, 1213.161376953125, 71.09500122070312, 1076.221435546875, 512.9723510742188, 89.45916748046875, 296.4075927734375, 900.4353637695312, 143.232666015625, 260.3316345214844, 81.95669555664062, 429.4825134277344, 233.3106231689453, 68.4874496459961, 461.43133544921875, 93.34864807128906, 710.5950317382812, 717.3245849609375, 99.64763641357422, 772.2969970703125, 231.83763122558594, 237.91441345214844, 81.6435546875, 111.92250061035156, 245.69741821289062, 1752.49951171875, 367.7108459472656, 305.5122375488281, 316.3801574707031, 485.416015625, 308.73828125, 40.06876754760742, 772.66552734375, 356.0113830566406, 255.96051025390625, 82.6706314086914, 1169.592041015625, 1871.0015869140625, 615.8396606445312, 640.7673950195312, 648.1471557617188, 397.7919006347656, 26.777070999145508, 233.25616455078125, 718.3134765625, 165.360107421875, 98.33739471435547, 33.787845611572266, 267.4576721191406, 1036.689453125, 845.4320678710938, 52.42597198486328, 140.20077514648438, 258.1190185546875, 827.7208862304688, 259.9011535644531, 1110.3179931640625, 699.5455932617188, 734.0809326171875, 379.2217712402344, 37.41230392456055, 970.1111450195312, 127.25322723388672, 305.24444580078125, 87.58950805664062, 123.43135833740234, 842.1051635742188, 200.4088897705078, 241.01165771484375, 187.91226196289062, 1854.8031005859375, 376.8305358886719, 745.0498046875, 453.7654113769531, 360.17047119140625, 387.2608947753906, 141.83905029296875, 172.0694122314453, 153.1045379638672, 260.9664001464844, 286.711669921875, 147.34869384765625, 518.365966796875, 295.3759460449219, 608.6128540039062, 401.9489440917969, 521.0524291992188, 894.8060913085938, 1102.5533447265625, 992.62060546875, 208.18028259277344, 838.5557250976562, 620.5226440429688, 74.00515747070312, 133.01951599121094, 289.64300537109375, 252.39215087890625, 969.9893798828125, 1344.73193359375, 102.77539825439453, 1114.8675537109375, 1081.7918701171875, 776.3881225585938, 470.7981872558594, 146.569580078125, 67.56904602050781, 931.7906494140625, 293.6146240234375, 94.99394989013672, 669.7297973632812, 497.818603515625, 396.4029846191406, 250.65077209472656, 433.5050964355469, 539.6574096679688, 546.7811279296875, 312.89013671875, 62.26994705200195, 567.3585205078125, 634.7523193359375, 68.18614196777344, 1890.620849609375, 309.1688537597656, 623.6304931640625, 202.364990234375, 208.0457000732422, 178.71739196777344, 64.71522521972656, 258.2127685546875, 98.20574188232422, 406.6809997558594, 1478.1982421875, 973.7786254882812, 719.7788696289062, 88.88157653808594, 287.3377380371094, 77.87886810302734, 481.65673828125, 285.7861022949219, 170.14404296875, 464.8204650878906, 321.524658203125, 651.344970703125, 309.6401672363281, 178.8650360107422, 365.2925720214844, 581.3694458007812, 478.7907409667969, 2203.225341796875, 178.7776336669922, 339.1333312988281, 551.6237182617188, 248.48974609375, 204.15750122070312, 317.9870910644531, 1141.8477783203125, 359.61279296875, 75.97067260742188, 87.59614562988281, 113.20636749267578, 994.523193359375, 515.6300659179688, 208.46054077148438, 290.7381896972656, 107.40341186523438, 144.95664978027344, 240.76124572753906, 110.08431243896484, 328.04107666015625, 599.4765625, 793.2446899414062, 200.33380126953125, 296.4772033691406, 552.9019775390625, 80.3812255859375, 1054.5340576171875, 184.2399444580078, 376.1456298828125, 448.1277770996094, 100.76746368408203, 517.9400634765625, 729.7915649414062, 900.1734619140625, 651.5882568359375, 343.08941650390625, 537.0493774414062, 118.8030776977539, 723.4296264648438, 350.0296325683594, 87.5154037475586, 434.1600341796875, 141.35421752929688, 63.058040618896484, 368.6259460449219, 89.0200424194336, 373.3084411621094, 152.1533660888672, 443.12982177734375, 91.41065216064453, 191.06631469726562, 204.52049255371094, 224.86135864257812, 371.208740234375, 577.466796875, 592.8552856445312, 482.7583312988281, 255.60240173339844, 138.68817138671875, 169.57008361816406, 1465.824462890625, 415.2479553222656, 509.22052001953125, 235.26280212402344, 517.0017700195312, 91.25704193115234, 254.78546142578125, 149.2527313232422, 144.62326049804688, 287.6535949707031, 210.17019653320312, 1327.734375, 239.0008544921875, 685.1586303710938, 45.42164611816406, 1007.1260375976562, 193.05831909179688, 234.57412719726562, 34.51028060913086, 31.189001083374023, 107.0073013305664, 609.1141357421875, 159.28543090820312, 137.8092041015625, 57.71214294433594, 62.0491943359375, 362.122802734375, 39.6472053527832, 474.44378662109375, 372.74066162109375, 551.603759765625, 377.82171630859375, 677.3164672851562, 186.90460205078125, 235.03858947753906, 103.13806915283203, 679.9228515625, 150.43521118164062, 542.8840942382812, 1005.2511596679688, 483.2375183105469, 391.5883483886719, 168.81460571289062, 274.4384460449219, 785.7767944335938, 92.36917877197266, 54.115177154541016, 465.3480529785156, 569.3577880859375, 325.96636962890625, 286.047119140625, 229.72422790527344, 266.0952453613281, 410.9758605957031, 1794.99755859375, 99.79302215576172, 182.0381622314453, 255.05467224121094, 61.34527587890625, 267.00030517578125, 246.50881958007812, 307.85992431640625, 206.80039978027344, 394.1159362792969, 191.39321899414062, 1358.3455810546875, 110.17902374267578, 117.5683822631836, 396.6372375488281, 421.7350769042969, 134.65524291992188, 454.3595275878906, 79.55525970458984, 580.5177612304688, 291.6536560058594, 122.54780578613281, 344.39794921875, 2723.051025390625, 1095.1236572265625, 271.4902648925781, 311.9106750488281, 207.8765411376953, 75.73867797851562, 279.92205810546875, 2239.08154296875, 752.0720825195312, 1957.8966064453125, 548.070556640625, 286.6632995605469, 201.51480102539062, 167.26406860351562, 95.92430877685547, 106.31088256835938, 227.9973907470703, 251.50062561035156, 204.8482666015625, 642.3319091796875, 76.59891510009766, 1273.2308349609375, 1311.6904296875, 303.44818115234375, 364.2702331542969, 251.4124755859375, 1028.5670166015625, 297.483154296875, 76.20330047607422, 495.9418029785156, 1610.3553466796875, 235.41355895996094, 151.29116821289062, 251.66017150878906, 739.7924194335938, 55.77901840209961, 193.29408264160156, 533.1746215820312, 511.9776611328125, 272.17364501953125, 87.08352661132812, 85.21702575683594, 1292.9111328125, 77.64017486572266, 1020.0772705078125, 361.5484924316406, 154.01022338867188, 330.117919921875, 1458.8863525390625, 1532.951171875, 859.5698852539062, 447.05712890625, 3783.339111328125, 1210.0792236328125, 399.247802734375, 159.06777954101562, 267.4296569824219, 444.1866760253906, 516.2001953125, 44.48691177368164, 1122.8558349609375, 201.7225341796875, 319.14532470703125, 166.32908630371094, 861.0071411132812, 1043.443603515625, 797.8876342773438, 194.78372192382812, 221.47222900390625, 236.3711700439453, 1188.717529296875, 1229.7308349609375, 369.4367980957031, 400.1585998535156, 847.4589233398438, 161.56686401367188, 53.36656188964844, 65.93982696533203, 349.0087890625, 500.60211181640625, 2831.826416015625, 93.15251922607422, 6235.984375, 428.51458740234375, 234.9669647216797, 159.50120544433594, 246.6278533935547, 182.02578735351562, 531.1578369140625, 96.56498718261719, 333.7383117675781, 209.70614624023438, 520.5711669921875, 580.3436279296875, 467.7898254394531, 1158.487548828125, 1799.2147216796875, 1210.2918701171875, 196.60565185546875, 59.197574615478516, 259.0682678222656, 419.1921081542969, 1968.4315185546875, 111.6536636352539, 461.4194030761719, 280.0619201660156, 124.3113021850586, 434.466064453125, 109.90872192382812, 1631.9229736328125, 935.6982421875, 244.9857940673828, 56.18257522583008, 147.21888732910156, 156.62271118164062, 125.09626770019531, 526.3715209960938, 375.462890625, 83.66287994384766, 895.3075561523438, 201.2249298095703, 491.76348876953125, 262.7294616699219, 109.54317474365234, 440.9026794433594, 702.8994750976562, 283.5551452636719, 592.2786254882812, 238.88229370117188, 122.97612762451172, 291.3829650878906, 243.54586791992188, 335.4327697753906, 371.4617614746094, 1896.29052734375, 59.552921295166016, 476.1395568847656, 1100.740478515625, 204.63421630859375, 119.00741577148438, 132.38731384277344, 1161.7894287109375, 155.981201171875, 117.56204223632812, 1580.8975830078125, 286.2326354980469, 215.1129913330078, 296.5387268066406, 328.3746337890625, 730.2457885742188, 55.71097946166992, 186.43714904785156, 485.4942321777344, 314.00885009765625, 827.0288696289062, 271.1347351074219, 721.5576782226562, 362.20587158203125, 320.7526550292969, 1000.931640625, 947.463134765625, 549.8018798828125, 171.72193908691406, 79.13310241699219, 1828.349853515625, 377.4278259277344, 451.8287048339844, 783.3025512695312, 32.121116638183594, 726.28466796875, 57.50712203979492, 1271.7958984375, 309.46624755859375, 394.87066650390625, 408.12847900390625, 2036.6947021484375, 1852.647705078125, 892.0403442382812, 269.3140563964844, 948.4120483398438, 103.34687805175781, 204.05809020996094, 227.40460205078125, 149.6398468017578], \"yaxis\": \"y\"}],\n",
       "                        {\"height\": 600, \"legend\": {\"tracegroupgap\": 0}, \"margin\": {\"t\": 60}, \"template\": {\"data\": {\"bar\": [{\"error_x\": {\"color\": \"#2a3f5f\"}, \"error_y\": {\"color\": \"#2a3f5f\"}, \"marker\": {\"line\": {\"color\": \"#E5ECF6\", \"width\": 0.5}}, \"type\": \"bar\"}], \"barpolar\": [{\"marker\": {\"line\": {\"color\": \"#E5ECF6\", \"width\": 0.5}}, \"type\": \"barpolar\"}], \"carpet\": [{\"aaxis\": {\"endlinecolor\": \"#2a3f5f\", \"gridcolor\": \"white\", \"linecolor\": \"white\", \"minorgridcolor\": \"white\", \"startlinecolor\": \"#2a3f5f\"}, \"baxis\": {\"endlinecolor\": \"#2a3f5f\", \"gridcolor\": \"white\", \"linecolor\": \"white\", \"minorgridcolor\": \"white\", \"startlinecolor\": \"#2a3f5f\"}, \"type\": \"carpet\"}], \"choropleth\": [{\"colorbar\": {\"outlinewidth\": 0, \"ticks\": \"\"}, \"type\": \"choropleth\"}], \"contour\": [{\"colorbar\": {\"outlinewidth\": 0, \"ticks\": \"\"}, \"colorscale\": [[0.0, \"#0d0887\"], [0.1111111111111111, \"#46039f\"], [0.2222222222222222, \"#7201a8\"], [0.3333333333333333, \"#9c179e\"], [0.4444444444444444, \"#bd3786\"], [0.5555555555555556, \"#d8576b\"], [0.6666666666666666, \"#ed7953\"], [0.7777777777777778, \"#fb9f3a\"], [0.8888888888888888, \"#fdca26\"], [1.0, \"#f0f921\"]], \"type\": \"contour\"}], \"contourcarpet\": [{\"colorbar\": {\"outlinewidth\": 0, \"ticks\": \"\"}, \"type\": \"contourcarpet\"}], \"heatmap\": [{\"colorbar\": {\"outlinewidth\": 0, \"ticks\": \"\"}, \"colorscale\": [[0.0, \"#0d0887\"], [0.1111111111111111, \"#46039f\"], [0.2222222222222222, \"#7201a8\"], [0.3333333333333333, \"#9c179e\"], [0.4444444444444444, \"#bd3786\"], [0.5555555555555556, \"#d8576b\"], [0.6666666666666666, \"#ed7953\"], [0.7777777777777778, \"#fb9f3a\"], [0.8888888888888888, \"#fdca26\"], [1.0, \"#f0f921\"]], \"type\": \"heatmap\"}], \"heatmapgl\": [{\"colorbar\": {\"outlinewidth\": 0, \"ticks\": \"\"}, \"colorscale\": [[0.0, \"#0d0887\"], [0.1111111111111111, \"#46039f\"], [0.2222222222222222, \"#7201a8\"], [0.3333333333333333, \"#9c179e\"], [0.4444444444444444, \"#bd3786\"], [0.5555555555555556, \"#d8576b\"], [0.6666666666666666, \"#ed7953\"], [0.7777777777777778, \"#fb9f3a\"], [0.8888888888888888, \"#fdca26\"], [1.0, \"#f0f921\"]], \"type\": \"heatmapgl\"}], \"histogram\": [{\"marker\": {\"colorbar\": {\"outlinewidth\": 0, \"ticks\": \"\"}}, \"type\": \"histogram\"}], \"histogram2d\": [{\"colorbar\": {\"outlinewidth\": 0, \"ticks\": \"\"}, \"colorscale\": [[0.0, \"#0d0887\"], [0.1111111111111111, \"#46039f\"], [0.2222222222222222, \"#7201a8\"], [0.3333333333333333, \"#9c179e\"], [0.4444444444444444, \"#bd3786\"], [0.5555555555555556, \"#d8576b\"], [0.6666666666666666, \"#ed7953\"], [0.7777777777777778, \"#fb9f3a\"], [0.8888888888888888, \"#fdca26\"], [1.0, \"#f0f921\"]], \"type\": \"histogram2d\"}], \"histogram2dcontour\": [{\"colorbar\": {\"outlinewidth\": 0, \"ticks\": \"\"}, \"colorscale\": [[0.0, \"#0d0887\"], [0.1111111111111111, \"#46039f\"], [0.2222222222222222, \"#7201a8\"], [0.3333333333333333, \"#9c179e\"], [0.4444444444444444, \"#bd3786\"], [0.5555555555555556, \"#d8576b\"], [0.6666666666666666, \"#ed7953\"], [0.7777777777777778, \"#fb9f3a\"], [0.8888888888888888, \"#fdca26\"], [1.0, \"#f0f921\"]], \"type\": \"histogram2dcontour\"}], \"mesh3d\": [{\"colorbar\": {\"outlinewidth\": 0, \"ticks\": \"\"}, \"type\": \"mesh3d\"}], \"parcoords\": [{\"line\": {\"colorbar\": {\"outlinewidth\": 0, \"ticks\": \"\"}}, \"type\": \"parcoords\"}], \"scatter\": [{\"marker\": {\"colorbar\": {\"outlinewidth\": 0, \"ticks\": \"\"}}, \"type\": \"scatter\"}], \"scatter3d\": [{\"line\": {\"colorbar\": {\"outlinewidth\": 0, \"ticks\": \"\"}}, \"marker\": {\"colorbar\": {\"outlinewidth\": 0, \"ticks\": \"\"}}, \"type\": \"scatter3d\"}], \"scattercarpet\": [{\"marker\": {\"colorbar\": {\"outlinewidth\": 0, \"ticks\": \"\"}}, \"type\": \"scattercarpet\"}], \"scattergeo\": [{\"marker\": {\"colorbar\": {\"outlinewidth\": 0, \"ticks\": \"\"}}, \"type\": \"scattergeo\"}], \"scattergl\": [{\"marker\": {\"colorbar\": {\"outlinewidth\": 0, \"ticks\": \"\"}}, \"type\": \"scattergl\"}], \"scattermapbox\": [{\"marker\": {\"colorbar\": {\"outlinewidth\": 0, \"ticks\": \"\"}}, \"type\": \"scattermapbox\"}], \"scatterpolar\": [{\"marker\": {\"colorbar\": {\"outlinewidth\": 0, \"ticks\": \"\"}}, \"type\": \"scatterpolar\"}], \"scatterpolargl\": [{\"marker\": {\"colorbar\": {\"outlinewidth\": 0, \"ticks\": \"\"}}, \"type\": \"scatterpolargl\"}], \"scatterternary\": [{\"marker\": {\"colorbar\": {\"outlinewidth\": 0, \"ticks\": \"\"}}, \"type\": \"scatterternary\"}], \"surface\": [{\"colorbar\": {\"outlinewidth\": 0, \"ticks\": \"\"}, \"colorscale\": [[0.0, \"#0d0887\"], [0.1111111111111111, \"#46039f\"], [0.2222222222222222, \"#7201a8\"], [0.3333333333333333, \"#9c179e\"], [0.4444444444444444, \"#bd3786\"], [0.5555555555555556, \"#d8576b\"], [0.6666666666666666, \"#ed7953\"], [0.7777777777777778, \"#fb9f3a\"], [0.8888888888888888, \"#fdca26\"], [1.0, \"#f0f921\"]], \"type\": \"surface\"}], \"table\": [{\"cells\": {\"fill\": {\"color\": \"#EBF0F8\"}, \"line\": {\"color\": \"white\"}}, \"header\": {\"fill\": {\"color\": \"#C8D4E3\"}, \"line\": {\"color\": \"white\"}}, \"type\": \"table\"}]}, \"layout\": {\"annotationdefaults\": {\"arrowcolor\": \"#2a3f5f\", \"arrowhead\": 0, \"arrowwidth\": 1}, \"colorscale\": {\"diverging\": [[0, \"#8e0152\"], [0.1, \"#c51b7d\"], [0.2, \"#de77ae\"], [0.3, \"#f1b6da\"], [0.4, \"#fde0ef\"], [0.5, \"#f7f7f7\"], [0.6, \"#e6f5d0\"], [0.7, \"#b8e186\"], [0.8, \"#7fbc41\"], [0.9, \"#4d9221\"], [1, \"#276419\"]], \"sequential\": [[0.0, \"#0d0887\"], [0.1111111111111111, \"#46039f\"], [0.2222222222222222, \"#7201a8\"], [0.3333333333333333, \"#9c179e\"], [0.4444444444444444, \"#bd3786\"], [0.5555555555555556, \"#d8576b\"], [0.6666666666666666, \"#ed7953\"], [0.7777777777777778, \"#fb9f3a\"], [0.8888888888888888, \"#fdca26\"], [1.0, \"#f0f921\"]], \"sequentialminus\": [[0.0, \"#0d0887\"], [0.1111111111111111, \"#46039f\"], [0.2222222222222222, \"#7201a8\"], [0.3333333333333333, \"#9c179e\"], [0.4444444444444444, \"#bd3786\"], [0.5555555555555556, \"#d8576b\"], [0.6666666666666666, \"#ed7953\"], [0.7777777777777778, \"#fb9f3a\"], [0.8888888888888888, \"#fdca26\"], [1.0, \"#f0f921\"]]}, \"colorway\": [\"#636efa\", \"#EF553B\", \"#00cc96\", \"#ab63fa\", \"#FFA15A\", \"#19d3f3\", \"#FF6692\", \"#B6E880\", \"#FF97FF\", \"#FECB52\"], \"font\": {\"color\": \"#2a3f5f\"}, \"geo\": {\"bgcolor\": \"white\", \"lakecolor\": \"white\", \"landcolor\": \"#E5ECF6\", \"showlakes\": true, \"showland\": true, \"subunitcolor\": \"white\"}, \"hoverlabel\": {\"align\": \"left\"}, \"hovermode\": \"closest\", \"mapbox\": {\"style\": \"light\"}, \"paper_bgcolor\": \"white\", \"plot_bgcolor\": \"#E5ECF6\", \"polar\": {\"angularaxis\": {\"gridcolor\": \"white\", \"linecolor\": \"white\", \"ticks\": \"\"}, \"bgcolor\": \"#E5ECF6\", \"radialaxis\": {\"gridcolor\": \"white\", \"linecolor\": \"white\", \"ticks\": \"\"}}, \"scene\": {\"xaxis\": {\"backgroundcolor\": \"#E5ECF6\", \"gridcolor\": \"white\", \"gridwidth\": 2, \"linecolor\": \"white\", \"showbackground\": true, \"ticks\": \"\", \"zerolinecolor\": \"white\"}, \"yaxis\": {\"backgroundcolor\": \"#E5ECF6\", \"gridcolor\": \"white\", \"gridwidth\": 2, \"linecolor\": \"white\", \"showbackground\": true, \"ticks\": \"\", \"zerolinecolor\": \"white\"}, \"zaxis\": {\"backgroundcolor\": \"#E5ECF6\", \"gridcolor\": \"white\", \"gridwidth\": 2, \"linecolor\": \"white\", \"showbackground\": true, \"ticks\": \"\", \"zerolinecolor\": \"white\"}}, \"shapedefaults\": {\"line\": {\"color\": \"#2a3f5f\"}}, \"ternary\": {\"aaxis\": {\"gridcolor\": \"white\", \"linecolor\": \"white\", \"ticks\": \"\"}, \"baxis\": {\"gridcolor\": \"white\", \"linecolor\": \"white\", \"ticks\": \"\"}, \"bgcolor\": \"#E5ECF6\", \"caxis\": {\"gridcolor\": \"white\", \"linecolor\": \"white\", \"ticks\": \"\"}}, \"title\": {\"x\": 0.05}, \"xaxis\": {\"automargin\": true, \"gridcolor\": \"white\", \"linecolor\": \"white\", \"ticks\": \"\", \"zerolinecolor\": \"white\", \"zerolinewidth\": 2}, \"yaxis\": {\"automargin\": true, \"gridcolor\": \"white\", \"linecolor\": \"white\", \"ticks\": \"\", \"zerolinecolor\": \"white\", \"zerolinewidth\": 2}}}, \"xaxis\": {\"anchor\": \"y\", \"domain\": [0.0, 0.98], \"title\": {\"text\": \"pred\"}}, \"yaxis\": {\"anchor\": \"x\", \"domain\": [0.0, 1.0], \"title\": {\"text\": \"true\"}}},\n",
       "                        {\"responsive\": true}\n",
       "                    ).then(function(){\n",
       "                            \n",
       "var gd = document.getElementById('2485a1f9-4304-4c18-bed2-c450e449839a');\n",
       "var x = new MutationObserver(function (mutations, observer) {{\n",
       "        var display = window.getComputedStyle(gd).display;\n",
       "        if (!display || display === 'none') {{\n",
       "            console.log([gd, 'removed!']);\n",
       "            Plotly.purge(gd);\n",
       "            observer.disconnect();\n",
       "        }}\n",
       "}});\n",
       "\n",
       "// Listen for the removal of the full notebook cells\n",
       "var notebookContainer = gd.closest('#notebook-container');\n",
       "if (notebookContainer) {{\n",
       "    x.observe(notebookContainer, {childList: true});\n",
       "}}\n",
       "\n",
       "// Listen for the clearing of the current output cell\n",
       "var outputEl = gd.closest('.output');\n",
       "if (outputEl) {{\n",
       "    x.observe(outputEl, {childList: true});\n",
       "}}\n",
       "\n",
       "                        })\n",
       "                };\n",
       "                });\n",
       "            </script>\n",
       "        </div>"
      ]
     },
     "metadata": {},
     "output_type": "display_data"
    }
   ],
   "source": [
    "fig = px.scatter(pd.DataFrame({'pred': y_pred.flatten(), 'true': y_test.flatten()}), x='pred', y='true')\n",
    "fig.show()"
   ]
  },
  {
   "cell_type": "code",
   "execution_count": 70,
   "metadata": {},
   "outputs": [
    {
     "data": {
      "application/vnd.plotly.v1+json": {
       "config": {
        "plotlyServerURL": "https://plot.ly"
       },
       "data": [
        {
         "hoverlabel": {
          "namelength": 0
         },
         "hovertemplate": "i_epoch=%{x}<br>train_loss=%{y}",
         "legendgroup": "",
         "line": {
          "color": "#636efa",
          "dash": "solid"
         },
         "mode": "lines",
         "name": "",
         "showlegend": false,
         "type": "scatter",
         "x": [
          1,
          2,
          3,
          4,
          5,
          6,
          7,
          8,
          9,
          10,
          11,
          12,
          13,
          14,
          15,
          16,
          17,
          18,
          19,
          20,
          21,
          22,
          23,
          24,
          25,
          26,
          27,
          28,
          29,
          30,
          31,
          32,
          33,
          34,
          35,
          36,
          37,
          38,
          39,
          40,
          41,
          42,
          43,
          44,
          45,
          46,
          47,
          48,
          49,
          50,
          51,
          52,
          53,
          54,
          55,
          56,
          57,
          58,
          59,
          60,
          61,
          62,
          63,
          64,
          65,
          66,
          67,
          68,
          69,
          70,
          71,
          72,
          73,
          74,
          75,
          76,
          77,
          78,
          79,
          80,
          81,
          82,
          83,
          84,
          85,
          86,
          87,
          88,
          89,
          90,
          91,
          92,
          93,
          94,
          95,
          96,
          97,
          98,
          99,
          100,
          101,
          102,
          103,
          104,
          105,
          106,
          107,
          108,
          109,
          110,
          111,
          112,
          113,
          114,
          115,
          116,
          117,
          118,
          119,
          120,
          121,
          122,
          123,
          124,
          125,
          126,
          127,
          128,
          129,
          130,
          131,
          132,
          133,
          134,
          135,
          136,
          137,
          138,
          139,
          140,
          141,
          142,
          143,
          144,
          145,
          146,
          147,
          148,
          149,
          150,
          151,
          152,
          153,
          154,
          155,
          156,
          157,
          158,
          159,
          160,
          161,
          162,
          163,
          164,
          165,
          166,
          167,
          168,
          169,
          170,
          171,
          172,
          173,
          174,
          175,
          176,
          177,
          178,
          179,
          180,
          181,
          182,
          183,
          184,
          185,
          186,
          187,
          188,
          189,
          190,
          191,
          192,
          193,
          194,
          195,
          196,
          197,
          198,
          199,
          200,
          201,
          202,
          203,
          204,
          205,
          206,
          207,
          208,
          209,
          210,
          211,
          212,
          213,
          214,
          215,
          216,
          217,
          218,
          219,
          220,
          221,
          222,
          223,
          224,
          225,
          226,
          227,
          228,
          229,
          230,
          231,
          232,
          233,
          234,
          235,
          236,
          237,
          238,
          239,
          240,
          241,
          242,
          243,
          244,
          245,
          246,
          247,
          248,
          249,
          250,
          251,
          252,
          253,
          254,
          255,
          256,
          257,
          258,
          259,
          260,
          261,
          262,
          263,
          264,
          265,
          266,
          267,
          268,
          269,
          270,
          271,
          272,
          273,
          274,
          275,
          276,
          277,
          278,
          279,
          280,
          281,
          282,
          283,
          284,
          285,
          286,
          287,
          288,
          289,
          290,
          291,
          292,
          293,
          294,
          295,
          296,
          297,
          298,
          299,
          300,
          301,
          302,
          303,
          304,
          305,
          306,
          307,
          308,
          309,
          310,
          311,
          312,
          313,
          314,
          315,
          316,
          317,
          318,
          319,
          320,
          321,
          322,
          323,
          324,
          325,
          326,
          327,
          328,
          329,
          330,
          331,
          332,
          333,
          334,
          335,
          336,
          337,
          338,
          339,
          340,
          341,
          342,
          343,
          344,
          345,
          346,
          347,
          348,
          349,
          350,
          351,
          352,
          353,
          354,
          355,
          356,
          357,
          358,
          359,
          360,
          361,
          362,
          363,
          364,
          365,
          366,
          367,
          368,
          369,
          370,
          371,
          372,
          373,
          374,
          375,
          376,
          377,
          378,
          379,
          380,
          381,
          382,
          383,
          384,
          385,
          386,
          387,
          388,
          389,
          390,
          391,
          392,
          393,
          394,
          395,
          396,
          397,
          398,
          399,
          400,
          401,
          402,
          403,
          404,
          405,
          406,
          407,
          408,
          409,
          410,
          411,
          412,
          413,
          414,
          415,
          416,
          417,
          418,
          419,
          420,
          421,
          422,
          423,
          424,
          425,
          426,
          427,
          428,
          429,
          430,
          431,
          432,
          433,
          434,
          435,
          436,
          437,
          438,
          439,
          440,
          441,
          442,
          443,
          444,
          445,
          446,
          447,
          448,
          449,
          450,
          451,
          452,
          453,
          454,
          455,
          456,
          457,
          458,
          459,
          460,
          461,
          462,
          463,
          464,
          465,
          466,
          467,
          468,
          469,
          470,
          471,
          472,
          473,
          474,
          475,
          476,
          477,
          478,
          479,
          480,
          481,
          482,
          483,
          484,
          485,
          486,
          487,
          488,
          489,
          490,
          491,
          492,
          493,
          494,
          495,
          496,
          497,
          498,
          499,
          500,
          501,
          502,
          503,
          504,
          505,
          506,
          507,
          508,
          509,
          510,
          511,
          512,
          513,
          514,
          515,
          516,
          517,
          518,
          519,
          520,
          521,
          522,
          523,
          524,
          525,
          526,
          527,
          528,
          529,
          530,
          531,
          532,
          533,
          534,
          535,
          536,
          537,
          538,
          539,
          540,
          541,
          542,
          543,
          544,
          545,
          546,
          547,
          548,
          549,
          550,
          551,
          552,
          553,
          554,
          555,
          556,
          557,
          558,
          559,
          560,
          561,
          562,
          563,
          564,
          565,
          566,
          567,
          568,
          569,
          570,
          571,
          572,
          573,
          574,
          575,
          576,
          577,
          578,
          579,
          580,
          581,
          582,
          583,
          584,
          585,
          586,
          587,
          588,
          589,
          590,
          591,
          592,
          593,
          594,
          595,
          596,
          597,
          598,
          599,
          600,
          601,
          602,
          603,
          604,
          605,
          606,
          607,
          608,
          609,
          610,
          611,
          612,
          613,
          614,
          615,
          616,
          617,
          618,
          619,
          620,
          621,
          622,
          623,
          624,
          625,
          626,
          627,
          628,
          629,
          630,
          631,
          632,
          633,
          634,
          635,
          636,
          637,
          638,
          639,
          640,
          641,
          642,
          643,
          644,
          645,
          646,
          647,
          648,
          649,
          650,
          651,
          652,
          653,
          654,
          655,
          656,
          657,
          658,
          659,
          660,
          661,
          662,
          663,
          664,
          665,
          666,
          667,
          668,
          669,
          670,
          671,
          672,
          673,
          674,
          675,
          676,
          677,
          678,
          679,
          680,
          681,
          682,
          683,
          684,
          685,
          686,
          687,
          688,
          689,
          690,
          691,
          692,
          693,
          694,
          695,
          696,
          697,
          698,
          699,
          700,
          701,
          702,
          703,
          704,
          705,
          706,
          707,
          708,
          709,
          710,
          711,
          712,
          713,
          714,
          715,
          716,
          717,
          718,
          719,
          720,
          721,
          722,
          723,
          724,
          725,
          726,
          727,
          728,
          729,
          730,
          731,
          732,
          733,
          734,
          735,
          736,
          737,
          738,
          739,
          740,
          741,
          742,
          743,
          744,
          745,
          746,
          747,
          748,
          749,
          750,
          751,
          752,
          753,
          754,
          755,
          756,
          757,
          758,
          759,
          760,
          761,
          762,
          763,
          764,
          765,
          766,
          767,
          768,
          769,
          770,
          771,
          772,
          773,
          774,
          775,
          776,
          777,
          778,
          779,
          780,
          781,
          782,
          783,
          784,
          785,
          786,
          787,
          788,
          789,
          790,
          791,
          792,
          793,
          794,
          795,
          796,
          797,
          798,
          799,
          800,
          801,
          802,
          803,
          804,
          805,
          806,
          807,
          808,
          809,
          810,
          811,
          812,
          813,
          814,
          815,
          816,
          817,
          818,
          819,
          820,
          821,
          822,
          823,
          824,
          825,
          826,
          827,
          828,
          829,
          830,
          831,
          832,
          833,
          834,
          835,
          836,
          837,
          838,
          839,
          840,
          841,
          842,
          843,
          844,
          845,
          846,
          847,
          848,
          849,
          850,
          851,
          852,
          853,
          854,
          855,
          856,
          857,
          858,
          859,
          860,
          861,
          862,
          863,
          864,
          865,
          866,
          867,
          868,
          869,
          870,
          871,
          872,
          873,
          874,
          875,
          876,
          877,
          878,
          879,
          880,
          881,
          882,
          883,
          884,
          885,
          886,
          887,
          888,
          889,
          890,
          891,
          892,
          893,
          894,
          895,
          896,
          897,
          898,
          899,
          900,
          901,
          902,
          903,
          904,
          905,
          906,
          907,
          908,
          909,
          910,
          911,
          912,
          913,
          914,
          915,
          916,
          917,
          918,
          919,
          920,
          921,
          922,
          923,
          924,
          925,
          926,
          927,
          928,
          929,
          930,
          931,
          932,
          933,
          934,
          935,
          936,
          937,
          938,
          939,
          940,
          941,
          942,
          943,
          944,
          945,
          946,
          947,
          948,
          949,
          950,
          951,
          952,
          953,
          954,
          955,
          956,
          957,
          958,
          959,
          960,
          961,
          962,
          963,
          964,
          965,
          966,
          967,
          968,
          969,
          970,
          971,
          972,
          973,
          974,
          975,
          976,
          977,
          978,
          979,
          980,
          981,
          982,
          983,
          984,
          985,
          986,
          987,
          988,
          989,
          990,
          991,
          992,
          993,
          994,
          995,
          996,
          997,
          998,
          999,
          1000
         ],
         "xaxis": "x",
         "y": [
          184.00472916666666,
          183.96579166666666,
          183.93141666666668,
          183.90427083333333,
          183.88089583333334,
          183.86020833333333,
          183.84160416666666,
          183.82547916666667,
          183.81097916666667,
          183.79714583333333,
          183.785625,
          183.77502083333334,
          183.76560416666666,
          183.75766666666667,
          183.75064583333332,
          183.7448125,
          183.74,
          183.7359375,
          183.73254166666666,
          183.72972916666666,
          183.72739583333333,
          183.7255,
          183.72391666666667,
          183.72264583333333,
          183.72158333333334,
          183.72072916666667,
          183.72004166666667,
          183.7195,
          183.71904166666667,
          183.7186875,
          183.71839583333335,
          183.71814583333332,
          183.71795833333334,
          183.7178125,
          183.7176875,
          183.71760416666666,
          183.71752083333334,
          183.71745833333333,
          183.71739583333334,
          183.71735416666667,
          183.71733333333333,
          183.7173125,
          183.71729166666665,
          183.71727083333334,
          183.71725,
          183.71725,
          183.71722916666667,
          183.71722916666667,
          183.71722916666667,
          183.71722916666667,
          183.71720833333333,
          183.71720833333333,
          183.71720833333333,
          183.71720833333333,
          183.71720833333333,
          183.71720833333333,
          183.71720833333333,
          183.71720833333333,
          183.71720833333333,
          183.71720833333333,
          183.71720833333333,
          183.71720833333333,
          183.71720833333333,
          183.71720833333333,
          183.71720833333333,
          183.71720833333333,
          183.71720833333333,
          183.71720833333333,
          183.71720833333333,
          183.71720833333333,
          183.71720833333333,
          183.71720833333333,
          183.71720833333333,
          183.71720833333333,
          183.71720833333333,
          183.71720833333333,
          183.71720833333333,
          183.71720833333333,
          183.71720833333333,
          183.71720833333333,
          183.71720833333333,
          183.71720833333333,
          183.71720833333333,
          183.71720833333333,
          183.71720833333333,
          183.71720833333333,
          183.71720833333333,
          183.71720833333333,
          183.71720833333333,
          183.71720833333333,
          183.71720833333333,
          183.71720833333333,
          183.71720833333333,
          183.71720833333333,
          183.71720833333333,
          183.71720833333333,
          183.71720833333333,
          183.71720833333333,
          183.71720833333333,
          183.71720833333333,
          183.71720833333333,
          183.71720833333333,
          183.71720833333333,
          183.71720833333333,
          183.71720833333333,
          183.71720833333333,
          183.71720833333333,
          183.71720833333333,
          183.71720833333333,
          183.71720833333333,
          183.71720833333333,
          183.71720833333333,
          183.71720833333333,
          183.71720833333333,
          183.71720833333333,
          183.71720833333333,
          183.71720833333333,
          183.71720833333333,
          183.71720833333333,
          183.71720833333333,
          183.71720833333333,
          183.71720833333333,
          183.71720833333333,
          183.71720833333333,
          183.71720833333333,
          183.71720833333333,
          183.71720833333333,
          183.71720833333333,
          183.71720833333333,
          183.71720833333333,
          183.71720833333333,
          183.71720833333333,
          183.71720833333333,
          183.71720833333333,
          183.71720833333333,
          183.71720833333333,
          183.71720833333333,
          183.71720833333333,
          183.71720833333333,
          183.71720833333333,
          183.71720833333333,
          183.71720833333333,
          183.71720833333333,
          183.71720833333333,
          183.71720833333333,
          183.71720833333333,
          183.71720833333333,
          183.71720833333333,
          183.71720833333333,
          183.71720833333333,
          183.71720833333333,
          183.71720833333333,
          183.71720833333333,
          183.71720833333333,
          183.71720833333333,
          183.71720833333333,
          183.71720833333333,
          183.71720833333333,
          183.71720833333333,
          183.71720833333333,
          183.71720833333333,
          183.71720833333333,
          183.71720833333333,
          183.71720833333333,
          183.71720833333333,
          183.71720833333333,
          183.71720833333333,
          183.71720833333333,
          183.71720833333333,
          183.71720833333333,
          183.71720833333333,
          183.71720833333333,
          183.71720833333333,
          183.71720833333333,
          183.71720833333333,
          183.71720833333333,
          183.71720833333333,
          183.71720833333333,
          183.71720833333333,
          183.71720833333333,
          183.71720833333333,
          183.71720833333333,
          183.71720833333333,
          183.71720833333333,
          183.71720833333333,
          183.71720833333333,
          183.71720833333333,
          183.71720833333333,
          183.71720833333333,
          183.71720833333333,
          183.71720833333333,
          183.71720833333333,
          183.71720833333333,
          183.71720833333333,
          183.71720833333333,
          183.71720833333333,
          183.71720833333333,
          183.71720833333333,
          183.71720833333333,
          183.71720833333333,
          183.71720833333333,
          183.71720833333333,
          183.71720833333333,
          183.71720833333333,
          183.71720833333333,
          183.71720833333333,
          183.71720833333333,
          183.71720833333333,
          183.71720833333333,
          183.71720833333333,
          183.71720833333333,
          183.71720833333333,
          183.71720833333333,
          183.71720833333333,
          183.71720833333333,
          183.71720833333333,
          183.71720833333333,
          183.71720833333333,
          183.71720833333333,
          183.71720833333333,
          183.71720833333333,
          183.71720833333333,
          183.71720833333333,
          183.71720833333333,
          183.71720833333333,
          183.71720833333333,
          183.71720833333333,
          183.71720833333333,
          183.71720833333333,
          183.71720833333333,
          183.71720833333333,
          183.71720833333333,
          183.71720833333333,
          183.71720833333333,
          183.71720833333333,
          183.71720833333333,
          183.71720833333333,
          183.71720833333333,
          183.71720833333333,
          183.71720833333333,
          183.71720833333333,
          183.71720833333333,
          183.71720833333333,
          183.71720833333333,
          183.71720833333333,
          183.71720833333333,
          183.71720833333333,
          183.71720833333333,
          183.71720833333333,
          183.71720833333333,
          183.71720833333333,
          183.71720833333333,
          183.71720833333333,
          183.71720833333333,
          183.71720833333333,
          183.71720833333333,
          183.71720833333333,
          183.71720833333333,
          183.71720833333333,
          183.71720833333333,
          183.71720833333333,
          183.71720833333333,
          183.71720833333333,
          183.71720833333333,
          183.71720833333333,
          183.71720833333333,
          183.71720833333333,
          183.71720833333333,
          183.71720833333333,
          183.71720833333333,
          183.71720833333333,
          183.71720833333333,
          183.71720833333333,
          183.71720833333333,
          183.71720833333333,
          183.71720833333333,
          183.71720833333333,
          183.71720833333333,
          183.71720833333333,
          183.71720833333333,
          183.71720833333333,
          183.71720833333333,
          183.71720833333333,
          183.71720833333333,
          183.71720833333333,
          183.71720833333333,
          183.71720833333333,
          183.71720833333333,
          183.71720833333333,
          183.71720833333333,
          183.71720833333333,
          183.71720833333333,
          183.71720833333333,
          183.71720833333333,
          183.71720833333333,
          183.71720833333333,
          183.71720833333333,
          183.71720833333333,
          183.71720833333333,
          183.71720833333333,
          183.71720833333333,
          183.71720833333333,
          183.71720833333333,
          183.71720833333333,
          183.71720833333333,
          183.71720833333333,
          183.71720833333333,
          183.71720833333333,
          183.71720833333333,
          183.71720833333333,
          183.71720833333333,
          183.71720833333333,
          183.71720833333333,
          183.71720833333333,
          183.71720833333333,
          183.71720833333333,
          183.71720833333333,
          183.71720833333333,
          183.71720833333333,
          183.71720833333333,
          183.71720833333333,
          183.71720833333333,
          183.71720833333333,
          183.71720833333333,
          183.71720833333333,
          183.71720833333333,
          183.71720833333333,
          183.71720833333333,
          183.71720833333333,
          183.71720833333333,
          183.71720833333333,
          183.71720833333333,
          183.71720833333333,
          183.71720833333333,
          183.71720833333333,
          183.71720833333333,
          183.71720833333333,
          183.71720833333333,
          183.71720833333333,
          183.71720833333333,
          183.71720833333333,
          183.71720833333333,
          183.71720833333333,
          183.71720833333333,
          183.71720833333333,
          183.71720833333333,
          183.71720833333333,
          183.71720833333333,
          183.71720833333333,
          183.71720833333333,
          183.71720833333333,
          183.71720833333333,
          183.71720833333333,
          183.71720833333333,
          183.71720833333333,
          183.71720833333333,
          183.71720833333333,
          183.71720833333333,
          183.71720833333333,
          183.71720833333333,
          183.71720833333333,
          183.71720833333333,
          183.71720833333333,
          183.71720833333333,
          183.71720833333333,
          183.71720833333333,
          183.71720833333333,
          183.71720833333333,
          183.71720833333333,
          183.71720833333333,
          183.71720833333333,
          183.71720833333333,
          183.71720833333333,
          183.71720833333333,
          183.71720833333333,
          183.71720833333333,
          183.71720833333333,
          183.71720833333333,
          183.71720833333333,
          183.71720833333333,
          183.71720833333333,
          183.71720833333333,
          183.71720833333333,
          183.71720833333333,
          183.71720833333333,
          183.71720833333333,
          183.71720833333333,
          183.71720833333333,
          183.71720833333333,
          183.71720833333333,
          183.71720833333333,
          183.71720833333333,
          183.71720833333333,
          183.71720833333333,
          183.71720833333333,
          183.71720833333333,
          183.71720833333333,
          183.71720833333333,
          183.71720833333333,
          183.71720833333333,
          183.71720833333333,
          183.71720833333333,
          183.71720833333333,
          183.71720833333333,
          183.71720833333333,
          183.71720833333333,
          183.71720833333333,
          183.71720833333333,
          183.71720833333333,
          183.71720833333333,
          183.71720833333333,
          183.71720833333333,
          183.71720833333333,
          183.71720833333333,
          183.71720833333333,
          183.71720833333333,
          183.71720833333333,
          183.71720833333333,
          183.71720833333333,
          183.71720833333333,
          183.71720833333333,
          183.71720833333333,
          183.71720833333333,
          183.71720833333333,
          183.71720833333333,
          183.71720833333333,
          183.71720833333333,
          183.71720833333333,
          183.71720833333333,
          183.71720833333333,
          183.71720833333333,
          183.71720833333333,
          183.71720833333333,
          183.71720833333333,
          183.71720833333333,
          183.71720833333333,
          183.71720833333333,
          183.71720833333333,
          183.71720833333333,
          183.71720833333333,
          183.71720833333333,
          183.71720833333333,
          183.71720833333333,
          183.71720833333333,
          183.71720833333333,
          183.71720833333333,
          183.71720833333333,
          183.71720833333333,
          183.71720833333333,
          183.71720833333333,
          183.71720833333333,
          183.71720833333333,
          183.71720833333333,
          183.71720833333333,
          183.71720833333333,
          183.71720833333333,
          183.71720833333333,
          183.71720833333333,
          183.71720833333333,
          183.71720833333333,
          183.71720833333333,
          183.71720833333333,
          183.71720833333333,
          183.71720833333333,
          183.71720833333333,
          183.71720833333333,
          183.71720833333333,
          183.71720833333333,
          183.71720833333333,
          183.71720833333333,
          183.71720833333333,
          183.71720833333333,
          183.71720833333333,
          183.71720833333333,
          183.71720833333333,
          183.71720833333333,
          183.71720833333333,
          183.71720833333333,
          183.71720833333333,
          183.71720833333333,
          183.71720833333333,
          183.71720833333333,
          183.71720833333333,
          183.71720833333333,
          183.71720833333333,
          183.71720833333333,
          183.71720833333333,
          183.71720833333333,
          183.71720833333333,
          183.71720833333333,
          183.71720833333333,
          183.71720833333333,
          183.71720833333333,
          183.71720833333333,
          183.71720833333333,
          183.71720833333333,
          183.71720833333333,
          183.71720833333333,
          183.71720833333333,
          183.71720833333333,
          183.71720833333333,
          183.71720833333333,
          183.71720833333333,
          183.71720833333333,
          183.71720833333333,
          183.71720833333333,
          183.71720833333333,
          183.71720833333333,
          183.71720833333333,
          183.71720833333333,
          183.71720833333333,
          183.71720833333333,
          183.71720833333333,
          183.71720833333333,
          183.71720833333333,
          183.71720833333333,
          183.71720833333333,
          183.71720833333333,
          183.71720833333333,
          183.71720833333333,
          183.71720833333333,
          183.71720833333333,
          183.71720833333333,
          183.71720833333333,
          183.71720833333333,
          183.71720833333333,
          183.71720833333333,
          183.71720833333333,
          183.71720833333333,
          183.71720833333333,
          183.71720833333333,
          183.71720833333333,
          183.71720833333333,
          183.71720833333333,
          183.71720833333333,
          183.71720833333333,
          183.71720833333333,
          183.71720833333333,
          183.71720833333333,
          183.71720833333333,
          183.71720833333333,
          183.71720833333333,
          183.71720833333333,
          183.71720833333333,
          183.71720833333333,
          183.71720833333333,
          183.71720833333333,
          183.71720833333333,
          183.71720833333333,
          183.71720833333333,
          183.71720833333333,
          183.71720833333333,
          183.71720833333333,
          183.71720833333333,
          183.71720833333333,
          183.71720833333333,
          183.71720833333333,
          183.71720833333333,
          183.71720833333333,
          183.71720833333333,
          183.71720833333333,
          183.71720833333333,
          183.71720833333333,
          183.71720833333333,
          183.71720833333333,
          183.71720833333333,
          183.71720833333333,
          183.71720833333333,
          183.71720833333333,
          183.71720833333333,
          183.71720833333333,
          183.71720833333333,
          183.71720833333333,
          183.71720833333333,
          183.71720833333333,
          183.71720833333333,
          183.71720833333333,
          183.71720833333333,
          183.71720833333333,
          183.71720833333333,
          183.71720833333333,
          183.71720833333333,
          183.71720833333333,
          183.71720833333333,
          183.71720833333333,
          183.71720833333333,
          183.71720833333333,
          183.71720833333333,
          183.71720833333333,
          183.71720833333333,
          183.71720833333333,
          183.71720833333333,
          183.71720833333333,
          183.71720833333333,
          183.71720833333333,
          183.71720833333333,
          183.71720833333333,
          183.71720833333333,
          183.71720833333333,
          183.71720833333333,
          183.71720833333333,
          183.71720833333333,
          183.71720833333333,
          183.71720833333333,
          183.71720833333333,
          183.71720833333333,
          183.71720833333333,
          183.71720833333333,
          183.71720833333333,
          183.71720833333333,
          183.71720833333333,
          183.71720833333333,
          183.71720833333333,
          183.71720833333333,
          183.71720833333333,
          183.71720833333333,
          183.71720833333333,
          183.71720833333333,
          183.71720833333333,
          183.71720833333333,
          183.71720833333333,
          183.71720833333333,
          183.71720833333333,
          183.71720833333333,
          183.71720833333333,
          183.71720833333333,
          183.71720833333333,
          183.71720833333333,
          183.71720833333333,
          183.71720833333333,
          183.71720833333333,
          183.71720833333333,
          183.71720833333333,
          183.71720833333333,
          183.71720833333333,
          183.71720833333333,
          183.71720833333333,
          183.71720833333333,
          183.71720833333333,
          183.71720833333333,
          183.71720833333333,
          183.71720833333333,
          183.71720833333333,
          183.71720833333333,
          183.71720833333333,
          183.71720833333333,
          183.71720833333333,
          183.71720833333333,
          183.71720833333333,
          183.71720833333333,
          183.71720833333333,
          183.71720833333333,
          183.71720833333333,
          183.71720833333333,
          183.71720833333333,
          183.71720833333333,
          183.71720833333333,
          183.71720833333333,
          183.71720833333333,
          183.71720833333333,
          183.71720833333333,
          183.71720833333333,
          183.71720833333333,
          183.71720833333333,
          183.71720833333333,
          183.71720833333333,
          183.71720833333333,
          183.71720833333333,
          183.71720833333333,
          183.71720833333333,
          183.71720833333333,
          183.71720833333333,
          183.71720833333333,
          183.71720833333333,
          183.71720833333333,
          183.71720833333333,
          183.71720833333333,
          183.71720833333333,
          183.71720833333333,
          183.71720833333333,
          183.71720833333333,
          183.71720833333333,
          183.71720833333333,
          183.71720833333333,
          183.71720833333333,
          183.71720833333333,
          183.71720833333333,
          183.71720833333333,
          183.71720833333333,
          183.71720833333333,
          183.71720833333333,
          183.71720833333333,
          183.71720833333333,
          183.71720833333333,
          183.71720833333333,
          183.71720833333333,
          183.71720833333333,
          183.71720833333333,
          183.71720833333333,
          183.71720833333333,
          183.71720833333333,
          183.71720833333333,
          183.71720833333333,
          183.71720833333333,
          183.71720833333333,
          183.71720833333333,
          183.71720833333333,
          183.71720833333333,
          183.71720833333333,
          183.71720833333333,
          183.71720833333333,
          183.71720833333333,
          183.71720833333333,
          183.71720833333333,
          183.71720833333333,
          183.71720833333333,
          183.71720833333333,
          183.71720833333333,
          183.71720833333333,
          183.71720833333333,
          183.71720833333333,
          183.71720833333333,
          183.71720833333333,
          183.71720833333333,
          183.71720833333333,
          183.71720833333333,
          183.71720833333333,
          183.71720833333333,
          183.71720833333333,
          183.71720833333333,
          183.71720833333333,
          183.71720833333333,
          183.71720833333333,
          183.71720833333333,
          183.71720833333333,
          183.71720833333333,
          183.71720833333333,
          183.71720833333333,
          183.71720833333333,
          183.71720833333333,
          183.71720833333333,
          183.71720833333333,
          183.71720833333333,
          183.71720833333333,
          183.71720833333333,
          183.71720833333333,
          183.71720833333333,
          183.71720833333333,
          183.71720833333333,
          183.71720833333333,
          183.71720833333333,
          183.71720833333333,
          183.71720833333333,
          183.71720833333333,
          183.71720833333333,
          183.71720833333333,
          183.71720833333333,
          183.71720833333333,
          183.71720833333333,
          183.71720833333333,
          183.71720833333333,
          183.71720833333333,
          183.71720833333333,
          183.71720833333333,
          183.71720833333333,
          183.71720833333333,
          183.71720833333333,
          183.71720833333333,
          183.71720833333333,
          183.71720833333333,
          183.71720833333333,
          183.71720833333333,
          183.71720833333333,
          183.71720833333333,
          183.71720833333333,
          183.71720833333333,
          183.71720833333333,
          183.71720833333333,
          183.71720833333333,
          183.71720833333333,
          183.71720833333333,
          183.71720833333333,
          183.71720833333333,
          183.71720833333333,
          183.71720833333333,
          183.71720833333333,
          183.71720833333333,
          183.71720833333333,
          183.71720833333333,
          183.71720833333333,
          183.71720833333333,
          183.71720833333333,
          183.71720833333333,
          183.71720833333333,
          183.71720833333333,
          183.71720833333333,
          183.71720833333333,
          183.71720833333333,
          183.71720833333333,
          183.71720833333333,
          183.71720833333333,
          183.71720833333333,
          183.71720833333333,
          183.71720833333333,
          183.71720833333333,
          183.71720833333333,
          183.71720833333333,
          183.71720833333333,
          183.71720833333333,
          183.71720833333333,
          183.71720833333333,
          183.71720833333333,
          183.71720833333333,
          183.71720833333333,
          183.71720833333333,
          183.71720833333333,
          183.71720833333333,
          183.71720833333333,
          183.71720833333333,
          183.71720833333333,
          183.71720833333333,
          183.71720833333333,
          183.71720833333333,
          183.71720833333333,
          183.71720833333333,
          183.71720833333333,
          183.71720833333333,
          183.71720833333333,
          183.71720833333333,
          183.71720833333333,
          183.71720833333333,
          183.71720833333333,
          183.71720833333333,
          183.71720833333333,
          183.71720833333333,
          183.71720833333333,
          183.71720833333333,
          183.71720833333333,
          183.71720833333333,
          183.71720833333333,
          183.71720833333333,
          183.71720833333333,
          183.71720833333333,
          183.71720833333333,
          183.71720833333333,
          183.71720833333333,
          183.71720833333333,
          183.71720833333333,
          183.71720833333333,
          183.71720833333333,
          183.71720833333333,
          183.71720833333333,
          183.71720833333333,
          183.71720833333333,
          183.71720833333333,
          183.71720833333333,
          183.71720833333333,
          183.71720833333333,
          183.71720833333333,
          183.71720833333333,
          183.71720833333333,
          183.71720833333333,
          183.71720833333333,
          183.71720833333333,
          183.71720833333333,
          183.71720833333333,
          183.71720833333333,
          183.71720833333333,
          183.71720833333333,
          183.71720833333333,
          183.71720833333333,
          183.71720833333333,
          183.71720833333333,
          183.71720833333333,
          183.71720833333333,
          183.71720833333333,
          183.71720833333333,
          183.71720833333333,
          183.71720833333333,
          183.71720833333333,
          183.71720833333333,
          183.71720833333333,
          183.71720833333333,
          183.71720833333333,
          183.71720833333333,
          183.71720833333333,
          183.71720833333333,
          183.71720833333333,
          183.71720833333333,
          183.71720833333333,
          183.71720833333333,
          183.71720833333333,
          183.71720833333333,
          183.71720833333333,
          183.71720833333333,
          183.71720833333333,
          183.71720833333333,
          183.71720833333333,
          183.71720833333333,
          183.71720833333333,
          183.71720833333333,
          183.71720833333333,
          183.71720833333333,
          183.71720833333333,
          183.71720833333333,
          183.71720833333333,
          183.71720833333333,
          183.71720833333333,
          183.71720833333333,
          183.71720833333333,
          183.71720833333333,
          183.71720833333333,
          183.71720833333333,
          183.71720833333333,
          183.71720833333333,
          183.71720833333333,
          183.71720833333333,
          183.71720833333333,
          183.71720833333333,
          183.71720833333333,
          183.71720833333333,
          183.71720833333333,
          183.71720833333333,
          183.71720833333333,
          183.71720833333333,
          183.71720833333333,
          183.71720833333333,
          183.71720833333333,
          183.71720833333333,
          183.71720833333333,
          183.71720833333333,
          183.71720833333333,
          183.71720833333333,
          183.71720833333333,
          183.71720833333333,
          183.71720833333333,
          183.71720833333333,
          183.71720833333333,
          183.71720833333333,
          183.71720833333333,
          183.71720833333333,
          183.71720833333333,
          183.71720833333333,
          183.71720833333333,
          183.71720833333333,
          183.71720833333333,
          183.71720833333333,
          183.71720833333333,
          183.71720833333333,
          183.71720833333333,
          183.71720833333333,
          183.71720833333333,
          183.71720833333333,
          183.71720833333333,
          183.71720833333333,
          183.71720833333333,
          183.71720833333333,
          183.71720833333333,
          183.71720833333333,
          183.71720833333333,
          183.71720833333333,
          183.71720833333333,
          183.71720833333333,
          183.71720833333333,
          183.71720833333333,
          183.71720833333333,
          183.71720833333333,
          183.71720833333333,
          183.71720833333333,
          183.71720833333333,
          183.71720833333333,
          183.71720833333333,
          183.71720833333333,
          183.71720833333333,
          183.71720833333333,
          183.71720833333333,
          183.71720833333333,
          183.71720833333333,
          183.71720833333333,
          183.71720833333333,
          183.71720833333333,
          183.71720833333333,
          183.71720833333333,
          183.71720833333333,
          183.71720833333333,
          183.71720833333333,
          183.71720833333333,
          183.71720833333333,
          183.71720833333333,
          183.71720833333333,
          183.71720833333333,
          183.71720833333333,
          183.71720833333333,
          183.71720833333333,
          183.71720833333333,
          183.71720833333333,
          183.71720833333333,
          183.71720833333333,
          183.71720833333333,
          183.71720833333333
         ],
         "yaxis": "y"
        }
       ],
       "layout": {
        "autosize": true,
        "legend": {
         "tracegroupgap": 0
        },
        "margin": {
         "t": 60
        },
        "template": {
         "data": {
          "bar": [
           {
            "error_x": {
             "color": "#2a3f5f"
            },
            "error_y": {
             "color": "#2a3f5f"
            },
            "marker": {
             "line": {
              "color": "#E5ECF6",
              "width": 0.5
             }
            },
            "type": "bar"
           }
          ],
          "barpolar": [
           {
            "marker": {
             "line": {
              "color": "#E5ECF6",
              "width": 0.5
             }
            },
            "type": "barpolar"
           }
          ],
          "carpet": [
           {
            "aaxis": {
             "endlinecolor": "#2a3f5f",
             "gridcolor": "white",
             "linecolor": "white",
             "minorgridcolor": "white",
             "startlinecolor": "#2a3f5f"
            },
            "baxis": {
             "endlinecolor": "#2a3f5f",
             "gridcolor": "white",
             "linecolor": "white",
             "minorgridcolor": "white",
             "startlinecolor": "#2a3f5f"
            },
            "type": "carpet"
           }
          ],
          "choropleth": [
           {
            "colorbar": {
             "outlinewidth": 0,
             "ticks": ""
            },
            "type": "choropleth"
           }
          ],
          "contour": [
           {
            "colorbar": {
             "outlinewidth": 0,
             "ticks": ""
            },
            "colorscale": [
             [
              0,
              "#0d0887"
             ],
             [
              0.1111111111111111,
              "#46039f"
             ],
             [
              0.2222222222222222,
              "#7201a8"
             ],
             [
              0.3333333333333333,
              "#9c179e"
             ],
             [
              0.4444444444444444,
              "#bd3786"
             ],
             [
              0.5555555555555556,
              "#d8576b"
             ],
             [
              0.6666666666666666,
              "#ed7953"
             ],
             [
              0.7777777777777778,
              "#fb9f3a"
             ],
             [
              0.8888888888888888,
              "#fdca26"
             ],
             [
              1,
              "#f0f921"
             ]
            ],
            "type": "contour"
           }
          ],
          "contourcarpet": [
           {
            "colorbar": {
             "outlinewidth": 0,
             "ticks": ""
            },
            "type": "contourcarpet"
           }
          ],
          "heatmap": [
           {
            "colorbar": {
             "outlinewidth": 0,
             "ticks": ""
            },
            "colorscale": [
             [
              0,
              "#0d0887"
             ],
             [
              0.1111111111111111,
              "#46039f"
             ],
             [
              0.2222222222222222,
              "#7201a8"
             ],
             [
              0.3333333333333333,
              "#9c179e"
             ],
             [
              0.4444444444444444,
              "#bd3786"
             ],
             [
              0.5555555555555556,
              "#d8576b"
             ],
             [
              0.6666666666666666,
              "#ed7953"
             ],
             [
              0.7777777777777778,
              "#fb9f3a"
             ],
             [
              0.8888888888888888,
              "#fdca26"
             ],
             [
              1,
              "#f0f921"
             ]
            ],
            "type": "heatmap"
           }
          ],
          "heatmapgl": [
           {
            "colorbar": {
             "outlinewidth": 0,
             "ticks": ""
            },
            "colorscale": [
             [
              0,
              "#0d0887"
             ],
             [
              0.1111111111111111,
              "#46039f"
             ],
             [
              0.2222222222222222,
              "#7201a8"
             ],
             [
              0.3333333333333333,
              "#9c179e"
             ],
             [
              0.4444444444444444,
              "#bd3786"
             ],
             [
              0.5555555555555556,
              "#d8576b"
             ],
             [
              0.6666666666666666,
              "#ed7953"
             ],
             [
              0.7777777777777778,
              "#fb9f3a"
             ],
             [
              0.8888888888888888,
              "#fdca26"
             ],
             [
              1,
              "#f0f921"
             ]
            ],
            "type": "heatmapgl"
           }
          ],
          "histogram": [
           {
            "marker": {
             "colorbar": {
              "outlinewidth": 0,
              "ticks": ""
             }
            },
            "type": "histogram"
           }
          ],
          "histogram2d": [
           {
            "colorbar": {
             "outlinewidth": 0,
             "ticks": ""
            },
            "colorscale": [
             [
              0,
              "#0d0887"
             ],
             [
              0.1111111111111111,
              "#46039f"
             ],
             [
              0.2222222222222222,
              "#7201a8"
             ],
             [
              0.3333333333333333,
              "#9c179e"
             ],
             [
              0.4444444444444444,
              "#bd3786"
             ],
             [
              0.5555555555555556,
              "#d8576b"
             ],
             [
              0.6666666666666666,
              "#ed7953"
             ],
             [
              0.7777777777777778,
              "#fb9f3a"
             ],
             [
              0.8888888888888888,
              "#fdca26"
             ],
             [
              1,
              "#f0f921"
             ]
            ],
            "type": "histogram2d"
           }
          ],
          "histogram2dcontour": [
           {
            "colorbar": {
             "outlinewidth": 0,
             "ticks": ""
            },
            "colorscale": [
             [
              0,
              "#0d0887"
             ],
             [
              0.1111111111111111,
              "#46039f"
             ],
             [
              0.2222222222222222,
              "#7201a8"
             ],
             [
              0.3333333333333333,
              "#9c179e"
             ],
             [
              0.4444444444444444,
              "#bd3786"
             ],
             [
              0.5555555555555556,
              "#d8576b"
             ],
             [
              0.6666666666666666,
              "#ed7953"
             ],
             [
              0.7777777777777778,
              "#fb9f3a"
             ],
             [
              0.8888888888888888,
              "#fdca26"
             ],
             [
              1,
              "#f0f921"
             ]
            ],
            "type": "histogram2dcontour"
           }
          ],
          "mesh3d": [
           {
            "colorbar": {
             "outlinewidth": 0,
             "ticks": ""
            },
            "type": "mesh3d"
           }
          ],
          "parcoords": [
           {
            "line": {
             "colorbar": {
              "outlinewidth": 0,
              "ticks": ""
             }
            },
            "type": "parcoords"
           }
          ],
          "scatter": [
           {
            "marker": {
             "colorbar": {
              "outlinewidth": 0,
              "ticks": ""
             }
            },
            "type": "scatter"
           }
          ],
          "scatter3d": [
           {
            "line": {
             "colorbar": {
              "outlinewidth": 0,
              "ticks": ""
             }
            },
            "marker": {
             "colorbar": {
              "outlinewidth": 0,
              "ticks": ""
             }
            },
            "type": "scatter3d"
           }
          ],
          "scattercarpet": [
           {
            "marker": {
             "colorbar": {
              "outlinewidth": 0,
              "ticks": ""
             }
            },
            "type": "scattercarpet"
           }
          ],
          "scattergeo": [
           {
            "marker": {
             "colorbar": {
              "outlinewidth": 0,
              "ticks": ""
             }
            },
            "type": "scattergeo"
           }
          ],
          "scattergl": [
           {
            "marker": {
             "colorbar": {
              "outlinewidth": 0,
              "ticks": ""
             }
            },
            "type": "scattergl"
           }
          ],
          "scattermapbox": [
           {
            "marker": {
             "colorbar": {
              "outlinewidth": 0,
              "ticks": ""
             }
            },
            "type": "scattermapbox"
           }
          ],
          "scatterpolar": [
           {
            "marker": {
             "colorbar": {
              "outlinewidth": 0,
              "ticks": ""
             }
            },
            "type": "scatterpolar"
           }
          ],
          "scatterpolargl": [
           {
            "marker": {
             "colorbar": {
              "outlinewidth": 0,
              "ticks": ""
             }
            },
            "type": "scatterpolargl"
           }
          ],
          "scatterternary": [
           {
            "marker": {
             "colorbar": {
              "outlinewidth": 0,
              "ticks": ""
             }
            },
            "type": "scatterternary"
           }
          ],
          "surface": [
           {
            "colorbar": {
             "outlinewidth": 0,
             "ticks": ""
            },
            "colorscale": [
             [
              0,
              "#0d0887"
             ],
             [
              0.1111111111111111,
              "#46039f"
             ],
             [
              0.2222222222222222,
              "#7201a8"
             ],
             [
              0.3333333333333333,
              "#9c179e"
             ],
             [
              0.4444444444444444,
              "#bd3786"
             ],
             [
              0.5555555555555556,
              "#d8576b"
             ],
             [
              0.6666666666666666,
              "#ed7953"
             ],
             [
              0.7777777777777778,
              "#fb9f3a"
             ],
             [
              0.8888888888888888,
              "#fdca26"
             ],
             [
              1,
              "#f0f921"
             ]
            ],
            "type": "surface"
           }
          ],
          "table": [
           {
            "cells": {
             "fill": {
              "color": "#EBF0F8"
             },
             "line": {
              "color": "white"
             }
            },
            "header": {
             "fill": {
              "color": "#C8D4E3"
             },
             "line": {
              "color": "white"
             }
            },
            "type": "table"
           }
          ]
         },
         "layout": {
          "annotationdefaults": {
           "arrowcolor": "#2a3f5f",
           "arrowhead": 0,
           "arrowwidth": 1
          },
          "colorscale": {
           "diverging": [
            [
             0,
             "#8e0152"
            ],
            [
             0.1,
             "#c51b7d"
            ],
            [
             0.2,
             "#de77ae"
            ],
            [
             0.3,
             "#f1b6da"
            ],
            [
             0.4,
             "#fde0ef"
            ],
            [
             0.5,
             "#f7f7f7"
            ],
            [
             0.6,
             "#e6f5d0"
            ],
            [
             0.7,
             "#b8e186"
            ],
            [
             0.8,
             "#7fbc41"
            ],
            [
             0.9,
             "#4d9221"
            ],
            [
             1,
             "#276419"
            ]
           ],
           "sequential": [
            [
             0,
             "#0d0887"
            ],
            [
             0.1111111111111111,
             "#46039f"
            ],
            [
             0.2222222222222222,
             "#7201a8"
            ],
            [
             0.3333333333333333,
             "#9c179e"
            ],
            [
             0.4444444444444444,
             "#bd3786"
            ],
            [
             0.5555555555555556,
             "#d8576b"
            ],
            [
             0.6666666666666666,
             "#ed7953"
            ],
            [
             0.7777777777777778,
             "#fb9f3a"
            ],
            [
             0.8888888888888888,
             "#fdca26"
            ],
            [
             1,
             "#f0f921"
            ]
           ],
           "sequentialminus": [
            [
             0,
             "#0d0887"
            ],
            [
             0.1111111111111111,
             "#46039f"
            ],
            [
             0.2222222222222222,
             "#7201a8"
            ],
            [
             0.3333333333333333,
             "#9c179e"
            ],
            [
             0.4444444444444444,
             "#bd3786"
            ],
            [
             0.5555555555555556,
             "#d8576b"
            ],
            [
             0.6666666666666666,
             "#ed7953"
            ],
            [
             0.7777777777777778,
             "#fb9f3a"
            ],
            [
             0.8888888888888888,
             "#fdca26"
            ],
            [
             1,
             "#f0f921"
            ]
           ]
          },
          "colorway": [
           "#636efa",
           "#EF553B",
           "#00cc96",
           "#ab63fa",
           "#FFA15A",
           "#19d3f3",
           "#FF6692",
           "#B6E880",
           "#FF97FF",
           "#FECB52"
          ],
          "font": {
           "color": "#2a3f5f"
          },
          "geo": {
           "bgcolor": "white",
           "lakecolor": "white",
           "landcolor": "#E5ECF6",
           "showlakes": true,
           "showland": true,
           "subunitcolor": "white"
          },
          "hoverlabel": {
           "align": "left"
          },
          "hovermode": "closest",
          "mapbox": {
           "style": "light"
          },
          "paper_bgcolor": "white",
          "plot_bgcolor": "#E5ECF6",
          "polar": {
           "angularaxis": {
            "gridcolor": "white",
            "linecolor": "white",
            "ticks": ""
           },
           "bgcolor": "#E5ECF6",
           "radialaxis": {
            "gridcolor": "white",
            "linecolor": "white",
            "ticks": ""
           }
          },
          "scene": {
           "xaxis": {
            "backgroundcolor": "#E5ECF6",
            "gridcolor": "white",
            "gridwidth": 2,
            "linecolor": "white",
            "showbackground": true,
            "ticks": "",
            "zerolinecolor": "white"
           },
           "yaxis": {
            "backgroundcolor": "#E5ECF6",
            "gridcolor": "white",
            "gridwidth": 2,
            "linecolor": "white",
            "showbackground": true,
            "ticks": "",
            "zerolinecolor": "white"
           },
           "zaxis": {
            "backgroundcolor": "#E5ECF6",
            "gridcolor": "white",
            "gridwidth": 2,
            "linecolor": "white",
            "showbackground": true,
            "ticks": "",
            "zerolinecolor": "white"
           }
          },
          "shapedefaults": {
           "line": {
            "color": "#2a3f5f"
           }
          },
          "ternary": {
           "aaxis": {
            "gridcolor": "white",
            "linecolor": "white",
            "ticks": ""
           },
           "baxis": {
            "gridcolor": "white",
            "linecolor": "white",
            "ticks": ""
           },
           "bgcolor": "#E5ECF6",
           "caxis": {
            "gridcolor": "white",
            "linecolor": "white",
            "ticks": ""
           }
          },
          "title": {
           "x": 0.05
          },
          "xaxis": {
           "automargin": true,
           "gridcolor": "white",
           "linecolor": "white",
           "ticks": "",
           "zerolinecolor": "white",
           "zerolinewidth": 2
          },
          "yaxis": {
           "automargin": true,
           "gridcolor": "white",
           "linecolor": "white",
           "ticks": "",
           "zerolinecolor": "white",
           "zerolinewidth": 2
          }
         }
        },
        "xaxis": {
         "anchor": "y",
         "autorange": true,
         "domain": [
          0,
          0.98
         ],
         "range": [
          1,
          1000
         ],
         "title": {
          "text": "i_epoch"
         },
         "type": "linear"
        },
        "yaxis": {
         "anchor": "x",
         "autorange": true,
         "domain": [
          0,
          1
         ],
         "range": [
          183.7012349537037,
          184.0207025462963
         ],
         "title": {
          "text": "train_loss"
         },
         "type": "linear"
        }
       }
      },
      "text/html": [
       "<div>\n",
       "        \n",
       "        \n",
       "            <div id=\"89de8f2f-73a3-4c16-b9d3-a2e7eac32145\" class=\"plotly-graph-div\" style=\"height:600px; width:100%;\"></div>\n",
       "            <script type=\"text/javascript\">\n",
       "                require([\"plotly\"], function(Plotly) {\n",
       "                    window.PLOTLYENV=window.PLOTLYENV || {};\n",
       "                    \n",
       "                if (document.getElementById(\"89de8f2f-73a3-4c16-b9d3-a2e7eac32145\")) {\n",
       "                    Plotly.newPlot(\n",
       "                        '89de8f2f-73a3-4c16-b9d3-a2e7eac32145',\n",
       "                        [{\"hoverlabel\": {\"namelength\": 0}, \"hovertemplate\": \"i_epoch=%{x}<br>train_loss=%{y}\", \"legendgroup\": \"\", \"line\": {\"color\": \"#636efa\", \"dash\": \"solid\"}, \"mode\": \"lines\", \"name\": \"\", \"showlegend\": false, \"type\": \"scatter\", \"x\": [1, 2, 3, 4, 5, 6, 7, 8, 9, 10, 11, 12, 13, 14, 15, 16, 17, 18, 19, 20, 21, 22, 23, 24, 25, 26, 27, 28, 29, 30, 31, 32, 33, 34, 35, 36, 37, 38, 39, 40, 41, 42, 43, 44, 45, 46, 47, 48, 49, 50, 51, 52, 53, 54, 55, 56, 57, 58, 59, 60, 61, 62, 63, 64, 65, 66, 67, 68, 69, 70, 71, 72, 73, 74, 75, 76, 77, 78, 79, 80, 81, 82, 83, 84, 85, 86, 87, 88, 89, 90, 91, 92, 93, 94, 95, 96, 97, 98, 99, 100, 101, 102, 103, 104, 105, 106, 107, 108, 109, 110, 111, 112, 113, 114, 115, 116, 117, 118, 119, 120, 121, 122, 123, 124, 125, 126, 127, 128, 129, 130, 131, 132, 133, 134, 135, 136, 137, 138, 139, 140, 141, 142, 143, 144, 145, 146, 147, 148, 149, 150, 151, 152, 153, 154, 155, 156, 157, 158, 159, 160, 161, 162, 163, 164, 165, 166, 167, 168, 169, 170, 171, 172, 173, 174, 175, 176, 177, 178, 179, 180, 181, 182, 183, 184, 185, 186, 187, 188, 189, 190, 191, 192, 193, 194, 195, 196, 197, 198, 199, 200, 201, 202, 203, 204, 205, 206, 207, 208, 209, 210, 211, 212, 213, 214, 215, 216, 217, 218, 219, 220, 221, 222, 223, 224, 225, 226, 227, 228, 229, 230, 231, 232, 233, 234, 235, 236, 237, 238, 239, 240, 241, 242, 243, 244, 245, 246, 247, 248, 249, 250, 251, 252, 253, 254, 255, 256, 257, 258, 259, 260, 261, 262, 263, 264, 265, 266, 267, 268, 269, 270, 271, 272, 273, 274, 275, 276, 277, 278, 279, 280, 281, 282, 283, 284, 285, 286, 287, 288, 289, 290, 291, 292, 293, 294, 295, 296, 297, 298, 299, 300, 301, 302, 303, 304, 305, 306, 307, 308, 309, 310, 311, 312, 313, 314, 315, 316, 317, 318, 319, 320, 321, 322, 323, 324, 325, 326, 327, 328, 329, 330, 331, 332, 333, 334, 335, 336, 337, 338, 339, 340, 341, 342, 343, 344, 345, 346, 347, 348, 349, 350, 351, 352, 353, 354, 355, 356, 357, 358, 359, 360, 361, 362, 363, 364, 365, 366, 367, 368, 369, 370, 371, 372, 373, 374, 375, 376, 377, 378, 379, 380, 381, 382, 383, 384, 385, 386, 387, 388, 389, 390, 391, 392, 393, 394, 395, 396, 397, 398, 399, 400, 401, 402, 403, 404, 405, 406, 407, 408, 409, 410, 411, 412, 413, 414, 415, 416, 417, 418, 419, 420, 421, 422, 423, 424, 425, 426, 427, 428, 429, 430, 431, 432, 433, 434, 435, 436, 437, 438, 439, 440, 441, 442, 443, 444, 445, 446, 447, 448, 449, 450, 451, 452, 453, 454, 455, 456, 457, 458, 459, 460, 461, 462, 463, 464, 465, 466, 467, 468, 469, 470, 471, 472, 473, 474, 475, 476, 477, 478, 479, 480, 481, 482, 483, 484, 485, 486, 487, 488, 489, 490, 491, 492, 493, 494, 495, 496, 497, 498, 499, 500, 501, 502, 503, 504, 505, 506, 507, 508, 509, 510, 511, 512, 513, 514, 515, 516, 517, 518, 519, 520, 521, 522, 523, 524, 525, 526, 527, 528, 529, 530, 531, 532, 533, 534, 535, 536, 537, 538, 539, 540, 541, 542, 543, 544, 545, 546, 547, 548, 549, 550, 551, 552, 553, 554, 555, 556, 557, 558, 559, 560, 561, 562, 563, 564, 565, 566, 567, 568, 569, 570, 571, 572, 573, 574, 575, 576, 577, 578, 579, 580, 581, 582, 583, 584, 585, 586, 587, 588, 589, 590, 591, 592, 593, 594, 595, 596, 597, 598, 599, 600, 601, 602, 603, 604, 605, 606, 607, 608, 609, 610, 611, 612, 613, 614, 615, 616, 617, 618, 619, 620, 621, 622, 623, 624, 625, 626, 627, 628, 629, 630, 631, 632, 633, 634, 635, 636, 637, 638, 639, 640, 641, 642, 643, 644, 645, 646, 647, 648, 649, 650, 651, 652, 653, 654, 655, 656, 657, 658, 659, 660, 661, 662, 663, 664, 665, 666, 667, 668, 669, 670, 671, 672, 673, 674, 675, 676, 677, 678, 679, 680, 681, 682, 683, 684, 685, 686, 687, 688, 689, 690, 691, 692, 693, 694, 695, 696, 697, 698, 699, 700, 701, 702, 703, 704, 705, 706, 707, 708, 709, 710, 711, 712, 713, 714, 715, 716, 717, 718, 719, 720, 721, 722, 723, 724, 725, 726, 727, 728, 729, 730, 731, 732, 733, 734, 735, 736, 737, 738, 739, 740, 741, 742, 743, 744, 745, 746, 747, 748, 749, 750, 751, 752, 753, 754, 755, 756, 757, 758, 759, 760, 761, 762, 763, 764, 765, 766, 767, 768, 769, 770, 771, 772, 773, 774, 775, 776, 777, 778, 779, 780, 781, 782, 783, 784, 785, 786, 787, 788, 789, 790, 791, 792, 793, 794, 795, 796, 797, 798, 799, 800, 801, 802, 803, 804, 805, 806, 807, 808, 809, 810, 811, 812, 813, 814, 815, 816, 817, 818, 819, 820, 821, 822, 823, 824, 825, 826, 827, 828, 829, 830, 831, 832, 833, 834, 835, 836, 837, 838, 839, 840, 841, 842, 843, 844, 845, 846, 847, 848, 849, 850, 851, 852, 853, 854, 855, 856, 857, 858, 859, 860, 861, 862, 863, 864, 865, 866, 867, 868, 869, 870, 871, 872, 873, 874, 875, 876, 877, 878, 879, 880, 881, 882, 883, 884, 885, 886, 887, 888, 889, 890, 891, 892, 893, 894, 895, 896, 897, 898, 899, 900, 901, 902, 903, 904, 905, 906, 907, 908, 909, 910, 911, 912, 913, 914, 915, 916, 917, 918, 919, 920, 921, 922, 923, 924, 925, 926, 927, 928, 929, 930, 931, 932, 933, 934, 935, 936, 937, 938, 939, 940, 941, 942, 943, 944, 945, 946, 947, 948, 949, 950, 951, 952, 953, 954, 955, 956, 957, 958, 959, 960, 961, 962, 963, 964, 965, 966, 967, 968, 969, 970, 971, 972, 973, 974, 975, 976, 977, 978, 979, 980, 981, 982, 983, 984, 985, 986, 987, 988, 989, 990, 991, 992, 993, 994, 995, 996, 997, 998, 999, 1000], \"xaxis\": \"x\", \"y\": [184.00472916666666, 183.96579166666666, 183.93141666666668, 183.90427083333333, 183.88089583333334, 183.86020833333333, 183.84160416666666, 183.82547916666667, 183.81097916666667, 183.79714583333333, 183.785625, 183.77502083333334, 183.76560416666666, 183.75766666666667, 183.75064583333332, 183.7448125, 183.74, 183.7359375, 183.73254166666666, 183.72972916666666, 183.72739583333333, 183.7255, 183.72391666666667, 183.72264583333333, 183.72158333333334, 183.72072916666667, 183.72004166666667, 183.7195, 183.71904166666667, 183.7186875, 183.71839583333335, 183.71814583333332, 183.71795833333334, 183.7178125, 183.7176875, 183.71760416666666, 183.71752083333334, 183.71745833333333, 183.71739583333334, 183.71735416666667, 183.71733333333333, 183.7173125, 183.71729166666665, 183.71727083333334, 183.71725, 183.71725, 183.71722916666667, 183.71722916666667, 183.71722916666667, 183.71722916666667, 183.71720833333333, 183.71720833333333, 183.71720833333333, 183.71720833333333, 183.71720833333333, 183.71720833333333, 183.71720833333333, 183.71720833333333, 183.71720833333333, 183.71720833333333, 183.71720833333333, 183.71720833333333, 183.71720833333333, 183.71720833333333, 183.71720833333333, 183.71720833333333, 183.71720833333333, 183.71720833333333, 183.71720833333333, 183.71720833333333, 183.71720833333333, 183.71720833333333, 183.71720833333333, 183.71720833333333, 183.71720833333333, 183.71720833333333, 183.71720833333333, 183.71720833333333, 183.71720833333333, 183.71720833333333, 183.71720833333333, 183.71720833333333, 183.71720833333333, 183.71720833333333, 183.71720833333333, 183.71720833333333, 183.71720833333333, 183.71720833333333, 183.71720833333333, 183.71720833333333, 183.71720833333333, 183.71720833333333, 183.71720833333333, 183.71720833333333, 183.71720833333333, 183.71720833333333, 183.71720833333333, 183.71720833333333, 183.71720833333333, 183.71720833333333, 183.71720833333333, 183.71720833333333, 183.71720833333333, 183.71720833333333, 183.71720833333333, 183.71720833333333, 183.71720833333333, 183.71720833333333, 183.71720833333333, 183.71720833333333, 183.71720833333333, 183.71720833333333, 183.71720833333333, 183.71720833333333, 183.71720833333333, 183.71720833333333, 183.71720833333333, 183.71720833333333, 183.71720833333333, 183.71720833333333, 183.71720833333333, 183.71720833333333, 183.71720833333333, 183.71720833333333, 183.71720833333333, 183.71720833333333, 183.71720833333333, 183.71720833333333, 183.71720833333333, 183.71720833333333, 183.71720833333333, 183.71720833333333, 183.71720833333333, 183.71720833333333, 183.71720833333333, 183.71720833333333, 183.71720833333333, 183.71720833333333, 183.71720833333333, 183.71720833333333, 183.71720833333333, 183.71720833333333, 183.71720833333333, 183.71720833333333, 183.71720833333333, 183.71720833333333, 183.71720833333333, 183.71720833333333, 183.71720833333333, 183.71720833333333, 183.71720833333333, 183.71720833333333, 183.71720833333333, 183.71720833333333, 183.71720833333333, 183.71720833333333, 183.71720833333333, 183.71720833333333, 183.71720833333333, 183.71720833333333, 183.71720833333333, 183.71720833333333, 183.71720833333333, 183.71720833333333, 183.71720833333333, 183.71720833333333, 183.71720833333333, 183.71720833333333, 183.71720833333333, 183.71720833333333, 183.71720833333333, 183.71720833333333, 183.71720833333333, 183.71720833333333, 183.71720833333333, 183.71720833333333, 183.71720833333333, 183.71720833333333, 183.71720833333333, 183.71720833333333, 183.71720833333333, 183.71720833333333, 183.71720833333333, 183.71720833333333, 183.71720833333333, 183.71720833333333, 183.71720833333333, 183.71720833333333, 183.71720833333333, 183.71720833333333, 183.71720833333333, 183.71720833333333, 183.71720833333333, 183.71720833333333, 183.71720833333333, 183.71720833333333, 183.71720833333333, 183.71720833333333, 183.71720833333333, 183.71720833333333, 183.71720833333333, 183.71720833333333, 183.71720833333333, 183.71720833333333, 183.71720833333333, 183.71720833333333, 183.71720833333333, 183.71720833333333, 183.71720833333333, 183.71720833333333, 183.71720833333333, 183.71720833333333, 183.71720833333333, 183.71720833333333, 183.71720833333333, 183.71720833333333, 183.71720833333333, 183.71720833333333, 183.71720833333333, 183.71720833333333, 183.71720833333333, 183.71720833333333, 183.71720833333333, 183.71720833333333, 183.71720833333333, 183.71720833333333, 183.71720833333333, 183.71720833333333, 183.71720833333333, 183.71720833333333, 183.71720833333333, 183.71720833333333, 183.71720833333333, 183.71720833333333, 183.71720833333333, 183.71720833333333, 183.71720833333333, 183.71720833333333, 183.71720833333333, 183.71720833333333, 183.71720833333333, 183.71720833333333, 183.71720833333333, 183.71720833333333, 183.71720833333333, 183.71720833333333, 183.71720833333333, 183.71720833333333, 183.71720833333333, 183.71720833333333, 183.71720833333333, 183.71720833333333, 183.71720833333333, 183.71720833333333, 183.71720833333333, 183.71720833333333, 183.71720833333333, 183.71720833333333, 183.71720833333333, 183.71720833333333, 183.71720833333333, 183.71720833333333, 183.71720833333333, 183.71720833333333, 183.71720833333333, 183.71720833333333, 183.71720833333333, 183.71720833333333, 183.71720833333333, 183.71720833333333, 183.71720833333333, 183.71720833333333, 183.71720833333333, 183.71720833333333, 183.71720833333333, 183.71720833333333, 183.71720833333333, 183.71720833333333, 183.71720833333333, 183.71720833333333, 183.71720833333333, 183.71720833333333, 183.71720833333333, 183.71720833333333, 183.71720833333333, 183.71720833333333, 183.71720833333333, 183.71720833333333, 183.71720833333333, 183.71720833333333, 183.71720833333333, 183.71720833333333, 183.71720833333333, 183.71720833333333, 183.71720833333333, 183.71720833333333, 183.71720833333333, 183.71720833333333, 183.71720833333333, 183.71720833333333, 183.71720833333333, 183.71720833333333, 183.71720833333333, 183.71720833333333, 183.71720833333333, 183.71720833333333, 183.71720833333333, 183.71720833333333, 183.71720833333333, 183.71720833333333, 183.71720833333333, 183.71720833333333, 183.71720833333333, 183.71720833333333, 183.71720833333333, 183.71720833333333, 183.71720833333333, 183.71720833333333, 183.71720833333333, 183.71720833333333, 183.71720833333333, 183.71720833333333, 183.71720833333333, 183.71720833333333, 183.71720833333333, 183.71720833333333, 183.71720833333333, 183.71720833333333, 183.71720833333333, 183.71720833333333, 183.71720833333333, 183.71720833333333, 183.71720833333333, 183.71720833333333, 183.71720833333333, 183.71720833333333, 183.71720833333333, 183.71720833333333, 183.71720833333333, 183.71720833333333, 183.71720833333333, 183.71720833333333, 183.71720833333333, 183.71720833333333, 183.71720833333333, 183.71720833333333, 183.71720833333333, 183.71720833333333, 183.71720833333333, 183.71720833333333, 183.71720833333333, 183.71720833333333, 183.71720833333333, 183.71720833333333, 183.71720833333333, 183.71720833333333, 183.71720833333333, 183.71720833333333, 183.71720833333333, 183.71720833333333, 183.71720833333333, 183.71720833333333, 183.71720833333333, 183.71720833333333, 183.71720833333333, 183.71720833333333, 183.71720833333333, 183.71720833333333, 183.71720833333333, 183.71720833333333, 183.71720833333333, 183.71720833333333, 183.71720833333333, 183.71720833333333, 183.71720833333333, 183.71720833333333, 183.71720833333333, 183.71720833333333, 183.71720833333333, 183.71720833333333, 183.71720833333333, 183.71720833333333, 183.71720833333333, 183.71720833333333, 183.71720833333333, 183.71720833333333, 183.71720833333333, 183.71720833333333, 183.71720833333333, 183.71720833333333, 183.71720833333333, 183.71720833333333, 183.71720833333333, 183.71720833333333, 183.71720833333333, 183.71720833333333, 183.71720833333333, 183.71720833333333, 183.71720833333333, 183.71720833333333, 183.71720833333333, 183.71720833333333, 183.71720833333333, 183.71720833333333, 183.71720833333333, 183.71720833333333, 183.71720833333333, 183.71720833333333, 183.71720833333333, 183.71720833333333, 183.71720833333333, 183.71720833333333, 183.71720833333333, 183.71720833333333, 183.71720833333333, 183.71720833333333, 183.71720833333333, 183.71720833333333, 183.71720833333333, 183.71720833333333, 183.71720833333333, 183.71720833333333, 183.71720833333333, 183.71720833333333, 183.71720833333333, 183.71720833333333, 183.71720833333333, 183.71720833333333, 183.71720833333333, 183.71720833333333, 183.71720833333333, 183.71720833333333, 183.71720833333333, 183.71720833333333, 183.71720833333333, 183.71720833333333, 183.71720833333333, 183.71720833333333, 183.71720833333333, 183.71720833333333, 183.71720833333333, 183.71720833333333, 183.71720833333333, 183.71720833333333, 183.71720833333333, 183.71720833333333, 183.71720833333333, 183.71720833333333, 183.71720833333333, 183.71720833333333, 183.71720833333333, 183.71720833333333, 183.71720833333333, 183.71720833333333, 183.71720833333333, 183.71720833333333, 183.71720833333333, 183.71720833333333, 183.71720833333333, 183.71720833333333, 183.71720833333333, 183.71720833333333, 183.71720833333333, 183.71720833333333, 183.71720833333333, 183.71720833333333, 183.71720833333333, 183.71720833333333, 183.71720833333333, 183.71720833333333, 183.71720833333333, 183.71720833333333, 183.71720833333333, 183.71720833333333, 183.71720833333333, 183.71720833333333, 183.71720833333333, 183.71720833333333, 183.71720833333333, 183.71720833333333, 183.71720833333333, 183.71720833333333, 183.71720833333333, 183.71720833333333, 183.71720833333333, 183.71720833333333, 183.71720833333333, 183.71720833333333, 183.71720833333333, 183.71720833333333, 183.71720833333333, 183.71720833333333, 183.71720833333333, 183.71720833333333, 183.71720833333333, 183.71720833333333, 183.71720833333333, 183.71720833333333, 183.71720833333333, 183.71720833333333, 183.71720833333333, 183.71720833333333, 183.71720833333333, 183.71720833333333, 183.71720833333333, 183.71720833333333, 183.71720833333333, 183.71720833333333, 183.71720833333333, 183.71720833333333, 183.71720833333333, 183.71720833333333, 183.71720833333333, 183.71720833333333, 183.71720833333333, 183.71720833333333, 183.71720833333333, 183.71720833333333, 183.71720833333333, 183.71720833333333, 183.71720833333333, 183.71720833333333, 183.71720833333333, 183.71720833333333, 183.71720833333333, 183.71720833333333, 183.71720833333333, 183.71720833333333, 183.71720833333333, 183.71720833333333, 183.71720833333333, 183.71720833333333, 183.71720833333333, 183.71720833333333, 183.71720833333333, 183.71720833333333, 183.71720833333333, 183.71720833333333, 183.71720833333333, 183.71720833333333, 183.71720833333333, 183.71720833333333, 183.71720833333333, 183.71720833333333, 183.71720833333333, 183.71720833333333, 183.71720833333333, 183.71720833333333, 183.71720833333333, 183.71720833333333, 183.71720833333333, 183.71720833333333, 183.71720833333333, 183.71720833333333, 183.71720833333333, 183.71720833333333, 183.71720833333333, 183.71720833333333, 183.71720833333333, 183.71720833333333, 183.71720833333333, 183.71720833333333, 183.71720833333333, 183.71720833333333, 183.71720833333333, 183.71720833333333, 183.71720833333333, 183.71720833333333, 183.71720833333333, 183.71720833333333, 183.71720833333333, 183.71720833333333, 183.71720833333333, 183.71720833333333, 183.71720833333333, 183.71720833333333, 183.71720833333333, 183.71720833333333, 183.71720833333333, 183.71720833333333, 183.71720833333333, 183.71720833333333, 183.71720833333333, 183.71720833333333, 183.71720833333333, 183.71720833333333, 183.71720833333333, 183.71720833333333, 183.71720833333333, 183.71720833333333, 183.71720833333333, 183.71720833333333, 183.71720833333333, 183.71720833333333, 183.71720833333333, 183.71720833333333, 183.71720833333333, 183.71720833333333, 183.71720833333333, 183.71720833333333, 183.71720833333333, 183.71720833333333, 183.71720833333333, 183.71720833333333, 183.71720833333333, 183.71720833333333, 183.71720833333333, 183.71720833333333, 183.71720833333333, 183.71720833333333, 183.71720833333333, 183.71720833333333, 183.71720833333333, 183.71720833333333, 183.71720833333333, 183.71720833333333, 183.71720833333333, 183.71720833333333, 183.71720833333333, 183.71720833333333, 183.71720833333333, 183.71720833333333, 183.71720833333333, 183.71720833333333, 183.71720833333333, 183.71720833333333, 183.71720833333333, 183.71720833333333, 183.71720833333333, 183.71720833333333, 183.71720833333333, 183.71720833333333, 183.71720833333333, 183.71720833333333, 183.71720833333333, 183.71720833333333, 183.71720833333333, 183.71720833333333, 183.71720833333333, 183.71720833333333, 183.71720833333333, 183.71720833333333, 183.71720833333333, 183.71720833333333, 183.71720833333333, 183.71720833333333, 183.71720833333333, 183.71720833333333, 183.71720833333333, 183.71720833333333, 183.71720833333333, 183.71720833333333, 183.71720833333333, 183.71720833333333, 183.71720833333333, 183.71720833333333, 183.71720833333333, 183.71720833333333, 183.71720833333333, 183.71720833333333, 183.71720833333333, 183.71720833333333, 183.71720833333333, 183.71720833333333, 183.71720833333333, 183.71720833333333, 183.71720833333333, 183.71720833333333, 183.71720833333333, 183.71720833333333, 183.71720833333333, 183.71720833333333, 183.71720833333333, 183.71720833333333, 183.71720833333333, 183.71720833333333, 183.71720833333333, 183.71720833333333, 183.71720833333333, 183.71720833333333, 183.71720833333333, 183.71720833333333, 183.71720833333333, 183.71720833333333, 183.71720833333333, 183.71720833333333, 183.71720833333333, 183.71720833333333, 183.71720833333333, 183.71720833333333, 183.71720833333333, 183.71720833333333, 183.71720833333333, 183.71720833333333, 183.71720833333333, 183.71720833333333, 183.71720833333333, 183.71720833333333, 183.71720833333333, 183.71720833333333, 183.71720833333333, 183.71720833333333, 183.71720833333333, 183.71720833333333, 183.71720833333333, 183.71720833333333, 183.71720833333333, 183.71720833333333, 183.71720833333333, 183.71720833333333, 183.71720833333333, 183.71720833333333, 183.71720833333333, 183.71720833333333, 183.71720833333333, 183.71720833333333, 183.71720833333333, 183.71720833333333, 183.71720833333333, 183.71720833333333, 183.71720833333333, 183.71720833333333, 183.71720833333333, 183.71720833333333, 183.71720833333333, 183.71720833333333, 183.71720833333333, 183.71720833333333, 183.71720833333333, 183.71720833333333, 183.71720833333333, 183.71720833333333, 183.71720833333333, 183.71720833333333, 183.71720833333333, 183.71720833333333, 183.71720833333333, 183.71720833333333, 183.71720833333333, 183.71720833333333, 183.71720833333333, 183.71720833333333, 183.71720833333333, 183.71720833333333, 183.71720833333333, 183.71720833333333, 183.71720833333333, 183.71720833333333, 183.71720833333333, 183.71720833333333, 183.71720833333333, 183.71720833333333, 183.71720833333333, 183.71720833333333, 183.71720833333333, 183.71720833333333, 183.71720833333333, 183.71720833333333, 183.71720833333333, 183.71720833333333, 183.71720833333333, 183.71720833333333, 183.71720833333333, 183.71720833333333, 183.71720833333333, 183.71720833333333, 183.71720833333333, 183.71720833333333, 183.71720833333333, 183.71720833333333, 183.71720833333333, 183.71720833333333, 183.71720833333333, 183.71720833333333, 183.71720833333333, 183.71720833333333, 183.71720833333333, 183.71720833333333, 183.71720833333333, 183.71720833333333, 183.71720833333333, 183.71720833333333, 183.71720833333333, 183.71720833333333, 183.71720833333333, 183.71720833333333, 183.71720833333333, 183.71720833333333, 183.71720833333333, 183.71720833333333, 183.71720833333333, 183.71720833333333, 183.71720833333333, 183.71720833333333, 183.71720833333333, 183.71720833333333, 183.71720833333333, 183.71720833333333, 183.71720833333333, 183.71720833333333, 183.71720833333333, 183.71720833333333, 183.71720833333333, 183.71720833333333, 183.71720833333333, 183.71720833333333, 183.71720833333333, 183.71720833333333, 183.71720833333333, 183.71720833333333, 183.71720833333333, 183.71720833333333, 183.71720833333333, 183.71720833333333, 183.71720833333333, 183.71720833333333, 183.71720833333333, 183.71720833333333, 183.71720833333333, 183.71720833333333, 183.71720833333333, 183.71720833333333, 183.71720833333333, 183.71720833333333, 183.71720833333333, 183.71720833333333, 183.71720833333333, 183.71720833333333, 183.71720833333333, 183.71720833333333, 183.71720833333333, 183.71720833333333, 183.71720833333333, 183.71720833333333, 183.71720833333333, 183.71720833333333, 183.71720833333333, 183.71720833333333, 183.71720833333333, 183.71720833333333, 183.71720833333333, 183.71720833333333, 183.71720833333333, 183.71720833333333, 183.71720833333333, 183.71720833333333, 183.71720833333333, 183.71720833333333, 183.71720833333333, 183.71720833333333, 183.71720833333333, 183.71720833333333, 183.71720833333333, 183.71720833333333, 183.71720833333333, 183.71720833333333, 183.71720833333333, 183.71720833333333, 183.71720833333333, 183.71720833333333, 183.71720833333333, 183.71720833333333, 183.71720833333333, 183.71720833333333, 183.71720833333333, 183.71720833333333, 183.71720833333333, 183.71720833333333, 183.71720833333333, 183.71720833333333, 183.71720833333333, 183.71720833333333, 183.71720833333333, 183.71720833333333, 183.71720833333333, 183.71720833333333, 183.71720833333333, 183.71720833333333, 183.71720833333333, 183.71720833333333, 183.71720833333333, 183.71720833333333, 183.71720833333333, 183.71720833333333, 183.71720833333333, 183.71720833333333, 183.71720833333333, 183.71720833333333, 183.71720833333333, 183.71720833333333, 183.71720833333333, 183.71720833333333, 183.71720833333333, 183.71720833333333, 183.71720833333333, 183.71720833333333, 183.71720833333333, 183.71720833333333, 183.71720833333333, 183.71720833333333, 183.71720833333333, 183.71720833333333, 183.71720833333333, 183.71720833333333, 183.71720833333333, 183.71720833333333, 183.71720833333333, 183.71720833333333, 183.71720833333333, 183.71720833333333, 183.71720833333333, 183.71720833333333, 183.71720833333333, 183.71720833333333, 183.71720833333333, 183.71720833333333, 183.71720833333333, 183.71720833333333, 183.71720833333333, 183.71720833333333, 183.71720833333333, 183.71720833333333, 183.71720833333333, 183.71720833333333, 183.71720833333333, 183.71720833333333, 183.71720833333333, 183.71720833333333, 183.71720833333333, 183.71720833333333, 183.71720833333333, 183.71720833333333, 183.71720833333333, 183.71720833333333, 183.71720833333333, 183.71720833333333, 183.71720833333333, 183.71720833333333, 183.71720833333333, 183.71720833333333, 183.71720833333333, 183.71720833333333, 183.71720833333333, 183.71720833333333, 183.71720833333333, 183.71720833333333, 183.71720833333333, 183.71720833333333, 183.71720833333333, 183.71720833333333, 183.71720833333333, 183.71720833333333, 183.71720833333333, 183.71720833333333, 183.71720833333333, 183.71720833333333, 183.71720833333333, 183.71720833333333, 183.71720833333333, 183.71720833333333, 183.71720833333333, 183.71720833333333, 183.71720833333333, 183.71720833333333, 183.71720833333333, 183.71720833333333, 183.71720833333333, 183.71720833333333, 183.71720833333333, 183.71720833333333, 183.71720833333333, 183.71720833333333, 183.71720833333333, 183.71720833333333, 183.71720833333333, 183.71720833333333, 183.71720833333333, 183.71720833333333, 183.71720833333333, 183.71720833333333, 183.71720833333333, 183.71720833333333, 183.71720833333333, 183.71720833333333, 183.71720833333333, 183.71720833333333, 183.71720833333333, 183.71720833333333, 183.71720833333333, 183.71720833333333, 183.71720833333333, 183.71720833333333, 183.71720833333333, 183.71720833333333, 183.71720833333333, 183.71720833333333, 183.71720833333333, 183.71720833333333, 183.71720833333333, 183.71720833333333], \"yaxis\": \"y\"}],\n",
       "                        {\"height\": 600, \"legend\": {\"tracegroupgap\": 0}, \"margin\": {\"t\": 60}, \"template\": {\"data\": {\"bar\": [{\"error_x\": {\"color\": \"#2a3f5f\"}, \"error_y\": {\"color\": \"#2a3f5f\"}, \"marker\": {\"line\": {\"color\": \"#E5ECF6\", \"width\": 0.5}}, \"type\": \"bar\"}], \"barpolar\": [{\"marker\": {\"line\": {\"color\": \"#E5ECF6\", \"width\": 0.5}}, \"type\": \"barpolar\"}], \"carpet\": [{\"aaxis\": {\"endlinecolor\": \"#2a3f5f\", \"gridcolor\": \"white\", \"linecolor\": \"white\", \"minorgridcolor\": \"white\", \"startlinecolor\": \"#2a3f5f\"}, \"baxis\": {\"endlinecolor\": \"#2a3f5f\", \"gridcolor\": \"white\", \"linecolor\": \"white\", \"minorgridcolor\": \"white\", \"startlinecolor\": \"#2a3f5f\"}, \"type\": \"carpet\"}], \"choropleth\": [{\"colorbar\": {\"outlinewidth\": 0, \"ticks\": \"\"}, \"type\": \"choropleth\"}], \"contour\": [{\"colorbar\": {\"outlinewidth\": 0, \"ticks\": \"\"}, \"colorscale\": [[0.0, \"#0d0887\"], [0.1111111111111111, \"#46039f\"], [0.2222222222222222, \"#7201a8\"], [0.3333333333333333, \"#9c179e\"], [0.4444444444444444, \"#bd3786\"], [0.5555555555555556, \"#d8576b\"], [0.6666666666666666, \"#ed7953\"], [0.7777777777777778, \"#fb9f3a\"], [0.8888888888888888, \"#fdca26\"], [1.0, \"#f0f921\"]], \"type\": \"contour\"}], \"contourcarpet\": [{\"colorbar\": {\"outlinewidth\": 0, \"ticks\": \"\"}, \"type\": \"contourcarpet\"}], \"heatmap\": [{\"colorbar\": {\"outlinewidth\": 0, \"ticks\": \"\"}, \"colorscale\": [[0.0, \"#0d0887\"], [0.1111111111111111, \"#46039f\"], [0.2222222222222222, \"#7201a8\"], [0.3333333333333333, \"#9c179e\"], [0.4444444444444444, \"#bd3786\"], [0.5555555555555556, \"#d8576b\"], [0.6666666666666666, \"#ed7953\"], [0.7777777777777778, \"#fb9f3a\"], [0.8888888888888888, \"#fdca26\"], [1.0, \"#f0f921\"]], \"type\": \"heatmap\"}], \"heatmapgl\": [{\"colorbar\": {\"outlinewidth\": 0, \"ticks\": \"\"}, \"colorscale\": [[0.0, \"#0d0887\"], [0.1111111111111111, \"#46039f\"], [0.2222222222222222, \"#7201a8\"], [0.3333333333333333, \"#9c179e\"], [0.4444444444444444, \"#bd3786\"], [0.5555555555555556, \"#d8576b\"], [0.6666666666666666, \"#ed7953\"], [0.7777777777777778, \"#fb9f3a\"], [0.8888888888888888, \"#fdca26\"], [1.0, \"#f0f921\"]], \"type\": \"heatmapgl\"}], \"histogram\": [{\"marker\": {\"colorbar\": {\"outlinewidth\": 0, \"ticks\": \"\"}}, \"type\": \"histogram\"}], \"histogram2d\": [{\"colorbar\": {\"outlinewidth\": 0, \"ticks\": \"\"}, \"colorscale\": [[0.0, \"#0d0887\"], [0.1111111111111111, \"#46039f\"], [0.2222222222222222, \"#7201a8\"], [0.3333333333333333, \"#9c179e\"], [0.4444444444444444, \"#bd3786\"], [0.5555555555555556, \"#d8576b\"], [0.6666666666666666, \"#ed7953\"], [0.7777777777777778, \"#fb9f3a\"], [0.8888888888888888, \"#fdca26\"], [1.0, \"#f0f921\"]], \"type\": \"histogram2d\"}], \"histogram2dcontour\": [{\"colorbar\": {\"outlinewidth\": 0, \"ticks\": \"\"}, \"colorscale\": [[0.0, \"#0d0887\"], [0.1111111111111111, \"#46039f\"], [0.2222222222222222, \"#7201a8\"], [0.3333333333333333, \"#9c179e\"], [0.4444444444444444, \"#bd3786\"], [0.5555555555555556, \"#d8576b\"], [0.6666666666666666, \"#ed7953\"], [0.7777777777777778, \"#fb9f3a\"], [0.8888888888888888, \"#fdca26\"], [1.0, \"#f0f921\"]], \"type\": \"histogram2dcontour\"}], \"mesh3d\": [{\"colorbar\": {\"outlinewidth\": 0, \"ticks\": \"\"}, \"type\": \"mesh3d\"}], \"parcoords\": [{\"line\": {\"colorbar\": {\"outlinewidth\": 0, \"ticks\": \"\"}}, \"type\": \"parcoords\"}], \"scatter\": [{\"marker\": {\"colorbar\": {\"outlinewidth\": 0, \"ticks\": \"\"}}, \"type\": \"scatter\"}], \"scatter3d\": [{\"line\": {\"colorbar\": {\"outlinewidth\": 0, \"ticks\": \"\"}}, \"marker\": {\"colorbar\": {\"outlinewidth\": 0, \"ticks\": \"\"}}, \"type\": \"scatter3d\"}], \"scattercarpet\": [{\"marker\": {\"colorbar\": {\"outlinewidth\": 0, \"ticks\": \"\"}}, \"type\": \"scattercarpet\"}], \"scattergeo\": [{\"marker\": {\"colorbar\": {\"outlinewidth\": 0, \"ticks\": \"\"}}, \"type\": \"scattergeo\"}], \"scattergl\": [{\"marker\": {\"colorbar\": {\"outlinewidth\": 0, \"ticks\": \"\"}}, \"type\": \"scattergl\"}], \"scattermapbox\": [{\"marker\": {\"colorbar\": {\"outlinewidth\": 0, \"ticks\": \"\"}}, \"type\": \"scattermapbox\"}], \"scatterpolar\": [{\"marker\": {\"colorbar\": {\"outlinewidth\": 0, \"ticks\": \"\"}}, \"type\": \"scatterpolar\"}], \"scatterpolargl\": [{\"marker\": {\"colorbar\": {\"outlinewidth\": 0, \"ticks\": \"\"}}, \"type\": \"scatterpolargl\"}], \"scatterternary\": [{\"marker\": {\"colorbar\": {\"outlinewidth\": 0, \"ticks\": \"\"}}, \"type\": \"scatterternary\"}], \"surface\": [{\"colorbar\": {\"outlinewidth\": 0, \"ticks\": \"\"}, \"colorscale\": [[0.0, \"#0d0887\"], [0.1111111111111111, \"#46039f\"], [0.2222222222222222, \"#7201a8\"], [0.3333333333333333, \"#9c179e\"], [0.4444444444444444, \"#bd3786\"], [0.5555555555555556, \"#d8576b\"], [0.6666666666666666, \"#ed7953\"], [0.7777777777777778, \"#fb9f3a\"], [0.8888888888888888, \"#fdca26\"], [1.0, \"#f0f921\"]], \"type\": \"surface\"}], \"table\": [{\"cells\": {\"fill\": {\"color\": \"#EBF0F8\"}, \"line\": {\"color\": \"white\"}}, \"header\": {\"fill\": {\"color\": \"#C8D4E3\"}, \"line\": {\"color\": \"white\"}}, \"type\": \"table\"}]}, \"layout\": {\"annotationdefaults\": {\"arrowcolor\": \"#2a3f5f\", \"arrowhead\": 0, \"arrowwidth\": 1}, \"colorscale\": {\"diverging\": [[0, \"#8e0152\"], [0.1, \"#c51b7d\"], [0.2, \"#de77ae\"], [0.3, \"#f1b6da\"], [0.4, \"#fde0ef\"], [0.5, \"#f7f7f7\"], [0.6, \"#e6f5d0\"], [0.7, \"#b8e186\"], [0.8, \"#7fbc41\"], [0.9, \"#4d9221\"], [1, \"#276419\"]], \"sequential\": [[0.0, \"#0d0887\"], [0.1111111111111111, \"#46039f\"], [0.2222222222222222, \"#7201a8\"], [0.3333333333333333, \"#9c179e\"], [0.4444444444444444, \"#bd3786\"], [0.5555555555555556, \"#d8576b\"], [0.6666666666666666, \"#ed7953\"], [0.7777777777777778, \"#fb9f3a\"], [0.8888888888888888, \"#fdca26\"], [1.0, \"#f0f921\"]], \"sequentialminus\": [[0.0, \"#0d0887\"], [0.1111111111111111, \"#46039f\"], [0.2222222222222222, \"#7201a8\"], [0.3333333333333333, \"#9c179e\"], [0.4444444444444444, \"#bd3786\"], [0.5555555555555556, \"#d8576b\"], [0.6666666666666666, \"#ed7953\"], [0.7777777777777778, \"#fb9f3a\"], [0.8888888888888888, \"#fdca26\"], [1.0, \"#f0f921\"]]}, \"colorway\": [\"#636efa\", \"#EF553B\", \"#00cc96\", \"#ab63fa\", \"#FFA15A\", \"#19d3f3\", \"#FF6692\", \"#B6E880\", \"#FF97FF\", \"#FECB52\"], \"font\": {\"color\": \"#2a3f5f\"}, \"geo\": {\"bgcolor\": \"white\", \"lakecolor\": \"white\", \"landcolor\": \"#E5ECF6\", \"showlakes\": true, \"showland\": true, \"subunitcolor\": \"white\"}, \"hoverlabel\": {\"align\": \"left\"}, \"hovermode\": \"closest\", \"mapbox\": {\"style\": \"light\"}, \"paper_bgcolor\": \"white\", \"plot_bgcolor\": \"#E5ECF6\", \"polar\": {\"angularaxis\": {\"gridcolor\": \"white\", \"linecolor\": \"white\", \"ticks\": \"\"}, \"bgcolor\": \"#E5ECF6\", \"radialaxis\": {\"gridcolor\": \"white\", \"linecolor\": \"white\", \"ticks\": \"\"}}, \"scene\": {\"xaxis\": {\"backgroundcolor\": \"#E5ECF6\", \"gridcolor\": \"white\", \"gridwidth\": 2, \"linecolor\": \"white\", \"showbackground\": true, \"ticks\": \"\", \"zerolinecolor\": \"white\"}, \"yaxis\": {\"backgroundcolor\": \"#E5ECF6\", \"gridcolor\": \"white\", \"gridwidth\": 2, \"linecolor\": \"white\", \"showbackground\": true, \"ticks\": \"\", \"zerolinecolor\": \"white\"}, \"zaxis\": {\"backgroundcolor\": \"#E5ECF6\", \"gridcolor\": \"white\", \"gridwidth\": 2, \"linecolor\": \"white\", \"showbackground\": true, \"ticks\": \"\", \"zerolinecolor\": \"white\"}}, \"shapedefaults\": {\"line\": {\"color\": \"#2a3f5f\"}}, \"ternary\": {\"aaxis\": {\"gridcolor\": \"white\", \"linecolor\": \"white\", \"ticks\": \"\"}, \"baxis\": {\"gridcolor\": \"white\", \"linecolor\": \"white\", \"ticks\": \"\"}, \"bgcolor\": \"#E5ECF6\", \"caxis\": {\"gridcolor\": \"white\", \"linecolor\": \"white\", \"ticks\": \"\"}}, \"title\": {\"x\": 0.05}, \"xaxis\": {\"automargin\": true, \"gridcolor\": \"white\", \"linecolor\": \"white\", \"ticks\": \"\", \"zerolinecolor\": \"white\", \"zerolinewidth\": 2}, \"yaxis\": {\"automargin\": true, \"gridcolor\": \"white\", \"linecolor\": \"white\", \"ticks\": \"\", \"zerolinecolor\": \"white\", \"zerolinewidth\": 2}}}, \"xaxis\": {\"anchor\": \"y\", \"domain\": [0.0, 0.98], \"title\": {\"text\": \"i_epoch\"}}, \"yaxis\": {\"anchor\": \"x\", \"domain\": [0.0, 1.0], \"title\": {\"text\": \"train_loss\"}}},\n",
       "                        {\"responsive\": true}\n",
       "                    ).then(function(){\n",
       "                            \n",
       "var gd = document.getElementById('89de8f2f-73a3-4c16-b9d3-a2e7eac32145');\n",
       "var x = new MutationObserver(function (mutations, observer) {{\n",
       "        var display = window.getComputedStyle(gd).display;\n",
       "        if (!display || display === 'none') {{\n",
       "            console.log([gd, 'removed!']);\n",
       "            Plotly.purge(gd);\n",
       "            observer.disconnect();\n",
       "        }}\n",
       "}});\n",
       "\n",
       "// Listen for the removal of the full notebook cells\n",
       "var notebookContainer = gd.closest('#notebook-container');\n",
       "if (notebookContainer) {{\n",
       "    x.observe(notebookContainer, {childList: true});\n",
       "}}\n",
       "\n",
       "// Listen for the clearing of the current output cell\n",
       "var outputEl = gd.closest('.output');\n",
       "if (outputEl) {{\n",
       "    x.observe(outputEl, {childList: true});\n",
       "}}\n",
       "\n",
       "                        })\n",
       "                };\n",
       "                });\n",
       "            </script>\n",
       "        </div>"
      ]
     },
     "metadata": {},
     "output_type": "display_data"
    }
   ],
   "source": [
    "fig = px.line(trainer.step_info, x='i_epoch', y='train_loss')\n",
    "fig.show()\n"
   ]
  },
  {
   "cell_type": "markdown",
   "metadata": {},
   "source": [
    "### model building with random hyper parameters"
   ]
  },
  {
   "cell_type": "code",
   "execution_count": 25,
   "metadata": {},
   "outputs": [],
   "source": [
    "# --- import necessary libraries\n",
    "\n",
    "from xenonpy.model.nn import Generator1d\n",
    "from xenonpy.model.nn import wrap\n",
    "\n",
    "# 3rd packages\n",
    "from torch.nn import ReLU, Tanh\n",
    "from math import ceil"
   ]
  },
  {
   "cell_type": "code",
   "execution_count": 26,
   "metadata": {},
   "outputs": [],
   "source": [
    "# parameter scheduler\n",
    "def scheduler(i, paras):\n",
    "    n_out = max(ceil(paras['n_out'] * uniform(0.3, 0.8)),5)\n",
    "    return dict(paras, n_out=n_out)\n",
    "\n",
    "# model generator\n",
    "generator = Generator1d(290, 1,  # num of input an output neuron\n",
    "                n_neuron=[ceil(uniform(0.8, 1.0) * 150) for n in range(5)],  # variety of neuron num in each layer\n",
    "                act_func=(ReLU(),),   # variety of activation function in each layer\n",
    "                drop_out=(0.1,),  # variety of dropout rate in each layer\n",
    "                batch_normalize=(wrap.L1.batch_norm(),)\n",
    "               )"
   ]
  },
  {
   "cell_type": "code",
   "execution_count": 30,
   "metadata": {},
   "outputs": [],
   "source": [
    "# --- generate models\n",
    "\n",
    "models = generator(4, n_models=1, replace=True, scheduler=scheduler)"
   ]
  },
  {
   "cell_type": "code",
   "execution_count": 31,
   "metadata": {},
   "outputs": [
    {
     "data": {
      "text/plain": [
       "<generator object Generator1d.__call__ at 0x1a48e97ca8>"
      ]
     },
     "execution_count": 31,
     "metadata": {},
     "output_type": "execute_result"
    }
   ],
   "source": [
    "# --- check the model generator\n",
    "\n",
    "models"
   ]
  },
  {
   "cell_type": "code",
   "execution_count": 32,
   "metadata": {},
   "outputs": [
    {
     "data": {
      "text/plain": [
       "Sequential(\n",
       "  (0): Layer1d(\n",
       "    (layer): Linear(in_features=290, out_features=125, bias=True)\n",
       "    (batch_nor): BatchNorm1d(125, eps=1e-05, momentum=0.1, affine=True, track_running_stats=True)\n",
       "    (act_func): ReLU()\n",
       "    (dropout): Dropout(p=0.1)\n",
       "  )\n",
       "  (1): Layer1d(\n",
       "    (layer): Linear(in_features=125, out_features=69, bias=True)\n",
       "    (batch_nor): BatchNorm1d(69, eps=1e-05, momentum=0.1, affine=True, track_running_stats=True)\n",
       "    (act_func): ReLU()\n",
       "    (dropout): Dropout(p=0.1)\n",
       "  )\n",
       "  (2): Layer1d(\n",
       "    (layer): Linear(in_features=69, out_features=38, bias=True)\n",
       "    (batch_nor): BatchNorm1d(38, eps=1e-05, momentum=0.1, affine=True, track_running_stats=True)\n",
       "    (act_func): ReLU()\n",
       "    (dropout): Dropout(p=0.1)\n",
       "  )\n",
       "  (3): Layer1d(\n",
       "    (layer): Linear(in_features=38, out_features=16, bias=True)\n",
       "    (batch_nor): BatchNorm1d(16, eps=1e-05, momentum=0.1, affine=True, track_running_stats=True)\n",
       "    (act_func): ReLU()\n",
       "    (dropout): Dropout(p=0.1)\n",
       "  )\n",
       "  (4): Linear(in_features=16, out_features=1, bias=True)\n",
       ")"
      ]
     },
     "execution_count": 32,
     "metadata": {},
     "output_type": "execute_result"
    }
   ],
   "source": [
    "model = list(models)[0]\n",
    "model"
   ]
  }
 ],
 "metadata": {
  "kernelspec": {
   "display_name": "Python 3",
   "language": "python",
   "name": "python3"
  },
  "language_info": {
   "codemirror_mode": {
    "name": "ipython",
    "version": 3
   },
   "file_extension": ".py",
   "mimetype": "text/x-python",
   "name": "python",
   "nbconvert_exporter": "python",
   "pygments_lexer": "ipython3",
   "version": "3.7.3"
  }
 },
 "nbformat": 4,
 "nbformat_minor": 4
}
