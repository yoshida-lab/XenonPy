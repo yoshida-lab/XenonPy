{
 "cells": [
  {
   "cell_type": "markdown",
   "metadata": {},
   "source": [
    "## XenonPy-ISMD (Inversed Synthesizable Molecular Design) Totorial"
   ]
  },
  {
   "cell_type": "markdown",
   "metadata": {},
   "source": [
    "This tutorial provides an introduction to ISMD, an inverse molecular design algorithm based on machine learning. By which we show a complete building process of doing your own inverse molecular design algorithm by XenonPy.\n",
    "\n",
    "Overview - ISMD aims at finding reactant sets R, such that the properties Y of their synthetic product have a high probability of falling into a target region U, we want to sample from the posterior probability 𝑝(R|𝑌∈𝑈) that is proportional to 𝑝(𝑌∈𝑈|R)𝑝(R) by the Bayes' theorem. 𝑝(𝑌∈𝑈|R) is the likelihood function, 𝑝(R) is the prior that represents all possible candidates of R. ISMD is a numerical implementation for this Bayesian formulation based on sequential Monte Carlo sampling (SMC), all the building blocks to implement the SMC is supplied by XenonPy, the following of this tutorial will show how to customize each building block to solve the specific task in ISMD."
   ]
  },
  {
   "cell_type": "code",
   "execution_count": 1,
   "metadata": {},
   "outputs": [],
   "source": [
    "import warnings\n",
    "warnings.filterwarnings('ignore')"
   ]
  },
  {
   "cell_type": "markdown",
   "metadata": {},
   "source": [
    "### download data and model\n",
    "download the data and model from the following link:\\\n",
    "https://drive.google.com/drive/folders/1-uHnS4EcV9dQdSEIlt1n8skCrsZJP-3r?usp=sharing \\\n",
    "which will be used in this tutorial. \\\n",
    "In your device, the a folder called ismd_assets should contain the following files:\n",
    "- pool_sim_sparse.npz\n",
    "- STEREO_id_reactant_product_xlogp_tpsa.csv\n",
    "- STEREO_pool_df.csv\n",
    "- STEREO_separated_augm_model_average_20.pt\n",
    "- figure.png"
   ]
  },
  {
   "cell_type": "code",
   "execution_count": 2,
   "metadata": {},
   "outputs": [],
   "source": [
    "import os\n",
    "# set path to the downloaded folder\n",
    "assets_path = \"/home/qiz/data/ismd_assets\"\n",
    "from IPython.display import Image\n",
    "Image(filename=os.path.join(assets_path, 'figure.png'), width=1000, height=600)"
   ]
  },
  {
   "cell_type": "markdown",
   "metadata": {},
   "source": [
    "An illustruction of ISMD algorithm is shown above.\\\n",
    "ISMD is based on sequential Monte Carlo algorithm, which iterate the estimator(likelihood), modifier(prior), resample loop. Both of these blocks are available in XenonPy, however, we can customize them for a specific target.\\\n",
    "We will show how to customize and implement each blocks step by step.\\\n",
    "This tutorial will proceed as follow:\n",
    "1. data introduction\n",
    "  - ground truth\n",
    "  - reactant pool\n",
    "  - similarity matrix\n",
    "  - initial data\n",
    "2. estimator\n",
    "  - featurizer\n",
    "  - forward model\n",
    "2. modifier\n",
    "  - proposal\n",
    "  - lookup pool\n",
    "  - reactor\n",
    "3. a complete ismd run"
   ]
  },
  {
   "cell_type": "markdown",
   "metadata": {},
   "source": [
    "### 1. data introduction\n",
    "#### ground truth\n",
    "Ground truth is a pandas dataframe of real chemical reactions, each row is a chemical reaction record include reactant, product, some physical properties of the product('ECFP', 'MACCS') and the index of each reactant associated with the reactant pool."
   ]
  },
  {
   "cell_type": "code",
   "execution_count": 3,
   "metadata": {},
   "outputs": [
    {
     "data": {
      "text/html": [
       "<div>\n",
       "<style scoped>\n",
       "    .dataframe tbody tr th:only-of-type {\n",
       "        vertical-align: middle;\n",
       "    }\n",
       "\n",
       "    .dataframe tbody tr th {\n",
       "        vertical-align: top;\n",
       "    }\n",
       "\n",
       "    .dataframe thead th {\n",
       "        text-align: right;\n",
       "    }\n",
       "</style>\n",
       "<table border=\"1\" class=\"dataframe\">\n",
       "  <thead>\n",
       "    <tr style=\"text-align: right;\">\n",
       "      <th></th>\n",
       "      <th>reactant_index</th>\n",
       "      <th>reactant</th>\n",
       "      <th>product</th>\n",
       "      <th>XLogP</th>\n",
       "      <th>TPSA</th>\n",
       "    </tr>\n",
       "  </thead>\n",
       "  <tbody>\n",
       "    <tr>\n",
       "      <th>0</th>\n",
       "      <td>12163.22445</td>\n",
       "      <td>CCS(=O)(=O)Cl.OCCBr</td>\n",
       "      <td>CCS(=O)(=O)OCCBr</td>\n",
       "      <td>0.8</td>\n",
       "      <td>51.8</td>\n",
       "    </tr>\n",
       "    <tr>\n",
       "      <th>1</th>\n",
       "      <td>863.20896</td>\n",
       "      <td>CC(C)CS(=O)(=O)Cl.OCCCl</td>\n",
       "      <td>CC(C)CS(=O)(=O)OCCCl</td>\n",
       "      <td>1.6</td>\n",
       "      <td>51.8</td>\n",
       "    </tr>\n",
       "    <tr>\n",
       "      <th>2</th>\n",
       "      <td>249087</td>\n",
       "      <td>O=[N+]([O-])c1cccc2cnc(Cl)cc12</td>\n",
       "      <td>Nc1cccc2cnc(Cl)cc12</td>\n",
       "      <td>2.4</td>\n",
       "      <td>38.9</td>\n",
       "    </tr>\n",
       "    <tr>\n",
       "      <th>3</th>\n",
       "      <td>153658.23440</td>\n",
       "      <td>Cc1cc2c([N+](=O)[O-])cccc2c[n+]1[O-].O=P(Cl)(C...</td>\n",
       "      <td>Cc1cc2c([N+](=O)[O-])cccc2c(Cl)n1</td>\n",
       "      <td>3.3</td>\n",
       "      <td>58.7</td>\n",
       "    </tr>\n",
       "    <tr>\n",
       "      <th>4</th>\n",
       "      <td>297070</td>\n",
       "      <td>CCCCC[C@H](O)C=CC1C=CC(=O)C1CC=CCCCC(=O)O</td>\n",
       "      <td>CCCCC[C@H](O)C=CC1CCC(=O)C1CC=CCCCC(=O)O</td>\n",
       "      <td>3.8</td>\n",
       "      <td>74.6</td>\n",
       "    </tr>\n",
       "  </tbody>\n",
       "</table>\n",
       "</div>"
      ],
      "text/plain": [
       "  reactant_index                                           reactant  \\\n",
       "0    12163.22445                                CCS(=O)(=O)Cl.OCCBr   \n",
       "1      863.20896                            CC(C)CS(=O)(=O)Cl.OCCCl   \n",
       "2         249087                     O=[N+]([O-])c1cccc2cnc(Cl)cc12   \n",
       "3   153658.23440  Cc1cc2c([N+](=O)[O-])cccc2c[n+]1[O-].O=P(Cl)(C...   \n",
       "4         297070          CCCCC[C@H](O)C=CC1C=CC(=O)C1CC=CCCCC(=O)O   \n",
       "\n",
       "                                    product  XLogP  TPSA  \n",
       "0                          CCS(=O)(=O)OCCBr    0.8  51.8  \n",
       "1                      CC(C)CS(=O)(=O)OCCCl    1.6  51.8  \n",
       "2                       Nc1cccc2cnc(Cl)cc12    2.4  38.9  \n",
       "3         Cc1cc2c([N+](=O)[O-])cccc2c(Cl)n1    3.3  58.7  \n",
       "4  CCCCC[C@H](O)C=CC1CCC(=O)C1CC=CCCCC(=O)O    3.8  74.6  "
      ]
     },
     "execution_count": 3,
     "metadata": {},
     "output_type": "execute_result"
    }
   ],
   "source": [
    "import pandas as pd\n",
    "\n",
    "ground_truth_path = os.path.join(assets_path,\"STEREO_id_reactant_product_xlogp_tpsa.csv\")\n",
    "data = pd.read_csv(ground_truth_path)\n",
    "data.head()"
   ]
  },
  {
   "cell_type": "code",
   "execution_count": 4,
   "metadata": {},
   "outputs": [
    {
     "data": {
      "image/png": "[encoded data removed]",
      "text/plain": [
       "<Figure size 360x360 with 1 Axes>"
      ]
     },
     "metadata": {
      "needs_background": "light"
     },
     "output_type": "display_data"
    }
   ],
   "source": [
    "import matplotlib.pyplot as plt\n",
    "# show the property distribution of ground truth\n",
    "plt.figure(figsize=(5,5))\n",
    "plt.scatter(data['XLogP'],data['TPSA'],s=15,c='b',alpha = 0.1)\n",
    "plt.title('iSMD sample data')\n",
    "plt.xlabel('XLogP')\n",
    "plt.ylabel('TPSA')\n",
    "plt.show()"
   ]
  },
  {
   "cell_type": "markdown",
   "metadata": {},
   "source": [
    "#### reactant pool\n",
    "The reactant pool is a pandas dataframe, each row is a reactant which is usable in the reaction.\n",
    "an id column is optional for corresponding to the similarity matrix, if id is not given, use index instead."
   ]
  },
  {
   "cell_type": "code",
   "execution_count": 5,
   "metadata": {},
   "outputs": [
    {
     "name": "stdout",
     "output_type": "stream",
     "text": [
      "Number of reactants is 637645\n"
     ]
    },
    {
     "data": {
      "text/html": [
       "<div>\n",
       "<style scoped>\n",
       "    .dataframe tbody tr th:only-of-type {\n",
       "        vertical-align: middle;\n",
       "    }\n",
       "\n",
       "    .dataframe tbody tr th {\n",
       "        vertical-align: top;\n",
       "    }\n",
       "\n",
       "    .dataframe thead th {\n",
       "        text-align: right;\n",
       "    }\n",
       "</style>\n",
       "<table border=\"1\" class=\"dataframe\">\n",
       "  <thead>\n",
       "    <tr style=\"text-align: right;\">\n",
       "      <th></th>\n",
       "      <th>id</th>\n",
       "      <th>SMILES</th>\n",
       "    </tr>\n",
       "  </thead>\n",
       "  <tbody>\n",
       "    <tr>\n",
       "      <th>0</th>\n",
       "      <td>0</td>\n",
       "      <td>O=C(Cl)Oc1ccc(Cc2ccc(C(F)(F)F)cc2)cc1</td>\n",
       "    </tr>\n",
       "    <tr>\n",
       "      <th>1</th>\n",
       "      <td>1</td>\n",
       "      <td>CCc1cc(C2CCN(C(=O)OC(C)(C)C)CC2)ccc1Nc1ncc(C(F...</td>\n",
       "    </tr>\n",
       "    <tr>\n",
       "      <th>2</th>\n",
       "      <td>2</td>\n",
       "      <td>CC(NC(=O)OCc1ccccc1)C(C)NC(=O)c1ccccc1O</td>\n",
       "    </tr>\n",
       "    <tr>\n",
       "      <th>3</th>\n",
       "      <td>3</td>\n",
       "      <td>OC[C@H]1NCC[C@@H]1O</td>\n",
       "    </tr>\n",
       "    <tr>\n",
       "      <th>4</th>\n",
       "      <td>4</td>\n",
       "      <td>C#CCCN1C(=O)c2ccccc2C1=O</td>\n",
       "    </tr>\n",
       "  </tbody>\n",
       "</table>\n",
       "</div>"
      ],
      "text/plain": [
       "   id                                             SMILES\n",
       "0   0              O=C(Cl)Oc1ccc(Cc2ccc(C(F)(F)F)cc2)cc1\n",
       "1   1  CCc1cc(C2CCN(C(=O)OC(C)(C)C)CC2)ccc1Nc1ncc(C(F...\n",
       "2   2            CC(NC(=O)OCc1ccccc1)C(C)NC(=O)c1ccccc1O\n",
       "3   3                                OC[C@H]1NCC[C@@H]1O\n",
       "4   4                           C#CCCN1C(=O)c2ccccc2C1=O"
      ]
     },
     "execution_count": 5,
     "metadata": {},
     "output_type": "execute_result"
    }
   ],
   "source": [
    "reactant_pool_path = os.path.join(assets_path,\"STEREO_pool_df.csv\")\n",
    "reactant_pool = pd.read_csv(reactant_pool_path)\n",
    "print(\"Number of reactants is {}\".format(len(reactant_pool)))\n",
    "reactant_pool.head()"
   ]
  },
  {
   "cell_type": "markdown",
   "metadata": {},
   "source": [
    "#### similarity matrix\n",
    "The similarity matrix is a pandas dataframe, the number of both row and column is the number of reactant in the reactant pool, each cell is the similarity between the reactant of the row's number and the column's number, so the values on the diagonal is 1.0."
   ]
  },
  {
   "cell_type": "code",
   "execution_count": 6,
   "metadata": {},
   "outputs": [
    {
     "name": "stdout",
     "output_type": "stream",
     "text": [
      "The size of similarity matrix is 637645 * 637645\n",
      "CPU times: user 7.63 s, sys: 175 ms, total: 7.8 s\n",
      "Wall time: 7.81 s\n"
     ]
    }
   ],
   "source": [
    "%%time\n",
    "from scipy import sparse\n",
    "\n",
    "sim_matrix_path = os.path.join(assets_path,\"pool_sim_sparse.npz\")\n",
    "reactant_pool_sim = sparse.load_npz(sim_matrix_path).tocsr()\n",
    "sim_df = pd.DataFrame.sparse.from_spmatrix(reactant_pool_sim)\n",
    "print(\"The size of similarity matrix is {} * {}\".format(len(sim_df), len(list(sim_df))))"
   ]
  },
  {
   "cell_type": "code",
   "execution_count": 7,
   "metadata": {},
   "outputs": [
    {
     "name": "stdout",
     "output_type": "stream",
     "text": [
      "CPU times: user 2min 44s, sys: 427 ms, total: 2min 45s\n",
      "Wall time: 2min 45s\n"
     ]
    },
    {
     "data": {
      "text/html": [
       "<div>\n",
       "<style scoped>\n",
       "    .dataframe tbody tr th:only-of-type {\n",
       "        vertical-align: middle;\n",
       "    }\n",
       "\n",
       "    .dataframe tbody tr th {\n",
       "        vertical-align: top;\n",
       "    }\n",
       "\n",
       "    .dataframe thead th {\n",
       "        text-align: right;\n",
       "    }\n",
       "</style>\n",
       "<table border=\"1\" class=\"dataframe\">\n",
       "  <thead>\n",
       "    <tr style=\"text-align: right;\">\n",
       "      <th></th>\n",
       "      <th>0</th>\n",
       "      <th>1</th>\n",
       "      <th>2</th>\n",
       "      <th>3</th>\n",
       "      <th>4</th>\n",
       "      <th>5</th>\n",
       "      <th>6</th>\n",
       "      <th>7</th>\n",
       "      <th>8</th>\n",
       "      <th>9</th>\n",
       "      <th>...</th>\n",
       "      <th>637635</th>\n",
       "      <th>637636</th>\n",
       "      <th>637637</th>\n",
       "      <th>637638</th>\n",
       "      <th>637639</th>\n",
       "      <th>637640</th>\n",
       "      <th>637641</th>\n",
       "      <th>637642</th>\n",
       "      <th>637643</th>\n",
       "      <th>637644</th>\n",
       "    </tr>\n",
       "  </thead>\n",
       "  <tbody>\n",
       "    <tr>\n",
       "      <th>0</th>\n",
       "      <td>1.0</td>\n",
       "      <td>0.0</td>\n",
       "      <td>0.0</td>\n",
       "      <td>0.0</td>\n",
       "      <td>0.0</td>\n",
       "      <td>0.0</td>\n",
       "      <td>0.0</td>\n",
       "      <td>0.0</td>\n",
       "      <td>0.0</td>\n",
       "      <td>0.0</td>\n",
       "      <td>...</td>\n",
       "      <td>0.0</td>\n",
       "      <td>0.0</td>\n",
       "      <td>0.0</td>\n",
       "      <td>0.0</td>\n",
       "      <td>0.0</td>\n",
       "      <td>0.0</td>\n",
       "      <td>0.0</td>\n",
       "      <td>0.0</td>\n",
       "      <td>0.0</td>\n",
       "      <td>0.0</td>\n",
       "    </tr>\n",
       "    <tr>\n",
       "      <th>1</th>\n",
       "      <td>0.0</td>\n",
       "      <td>1.0</td>\n",
       "      <td>0.0</td>\n",
       "      <td>0.0</td>\n",
       "      <td>0.0</td>\n",
       "      <td>0.0</td>\n",
       "      <td>0.0</td>\n",
       "      <td>0.0</td>\n",
       "      <td>0.0</td>\n",
       "      <td>0.0</td>\n",
       "      <td>...</td>\n",
       "      <td>0.0</td>\n",
       "      <td>0.0</td>\n",
       "      <td>0.0</td>\n",
       "      <td>0.0</td>\n",
       "      <td>0.0</td>\n",
       "      <td>0.0</td>\n",
       "      <td>0.0</td>\n",
       "      <td>0.0</td>\n",
       "      <td>0.0</td>\n",
       "      <td>0.0</td>\n",
       "    </tr>\n",
       "    <tr>\n",
       "      <th>2</th>\n",
       "      <td>0.0</td>\n",
       "      <td>0.0</td>\n",
       "      <td>1.0</td>\n",
       "      <td>0.0</td>\n",
       "      <td>0.0</td>\n",
       "      <td>0.0</td>\n",
       "      <td>0.0</td>\n",
       "      <td>0.0</td>\n",
       "      <td>0.0</td>\n",
       "      <td>0.0</td>\n",
       "      <td>...</td>\n",
       "      <td>0.0</td>\n",
       "      <td>0.0</td>\n",
       "      <td>0.0</td>\n",
       "      <td>0.0</td>\n",
       "      <td>0.0</td>\n",
       "      <td>0.0</td>\n",
       "      <td>0.0</td>\n",
       "      <td>0.0</td>\n",
       "      <td>0.0</td>\n",
       "      <td>0.0</td>\n",
       "    </tr>\n",
       "    <tr>\n",
       "      <th>3</th>\n",
       "      <td>0.0</td>\n",
       "      <td>0.0</td>\n",
       "      <td>0.0</td>\n",
       "      <td>1.0</td>\n",
       "      <td>0.0</td>\n",
       "      <td>0.0</td>\n",
       "      <td>0.0</td>\n",
       "      <td>0.0</td>\n",
       "      <td>0.0</td>\n",
       "      <td>0.0</td>\n",
       "      <td>...</td>\n",
       "      <td>0.0</td>\n",
       "      <td>0.0</td>\n",
       "      <td>0.0</td>\n",
       "      <td>0.0</td>\n",
       "      <td>0.0</td>\n",
       "      <td>0.0</td>\n",
       "      <td>0.0</td>\n",
       "      <td>0.0</td>\n",
       "      <td>0.0</td>\n",
       "      <td>0.0</td>\n",
       "    </tr>\n",
       "    <tr>\n",
       "      <th>4</th>\n",
       "      <td>0.0</td>\n",
       "      <td>0.0</td>\n",
       "      <td>0.0</td>\n",
       "      <td>0.0</td>\n",
       "      <td>1.0</td>\n",
       "      <td>0.0</td>\n",
       "      <td>0.0</td>\n",
       "      <td>0.0</td>\n",
       "      <td>0.0</td>\n",
       "      <td>0.0</td>\n",
       "      <td>...</td>\n",
       "      <td>0.0</td>\n",
       "      <td>0.0</td>\n",
       "      <td>0.0</td>\n",
       "      <td>0.0</td>\n",
       "      <td>0.0</td>\n",
       "      <td>0.0</td>\n",
       "      <td>0.0</td>\n",
       "      <td>0.0</td>\n",
       "      <td>0.0</td>\n",
       "      <td>0.0</td>\n",
       "    </tr>\n",
       "  </tbody>\n",
       "</table>\n",
       "<p>5 rows × 637645 columns</p>\n",
       "</div>"
      ],
      "text/plain": [
       "   0       1       2       3       4       5       6       7       8       \\\n",
       "0     1.0     0.0     0.0     0.0     0.0     0.0     0.0     0.0     0.0   \n",
       "1     0.0     1.0     0.0     0.0     0.0     0.0     0.0     0.0     0.0   \n",
       "2     0.0     0.0     1.0     0.0     0.0     0.0     0.0     0.0     0.0   \n",
       "3     0.0     0.0     0.0     1.0     0.0     0.0     0.0     0.0     0.0   \n",
       "4     0.0     0.0     0.0     0.0     1.0     0.0     0.0     0.0     0.0   \n",
       "\n",
       "   9       ...  637635  637636  637637  637638  637639  637640  637641  \\\n",
       "0     0.0  ...     0.0     0.0     0.0     0.0     0.0     0.0     0.0   \n",
       "1     0.0  ...     0.0     0.0     0.0     0.0     0.0     0.0     0.0   \n",
       "2     0.0  ...     0.0     0.0     0.0     0.0     0.0     0.0     0.0   \n",
       "3     0.0  ...     0.0     0.0     0.0     0.0     0.0     0.0     0.0   \n",
       "4     0.0  ...     0.0     0.0     0.0     0.0     0.0     0.0     0.0   \n",
       "\n",
       "   637642  637643  637644  \n",
       "0     0.0     0.0     0.0  \n",
       "1     0.0     0.0     0.0  \n",
       "2     0.0     0.0     0.0  \n",
       "3     0.0     0.0     0.0  \n",
       "4     0.0     0.0     0.0  \n",
       "\n",
       "[5 rows x 637645 columns]"
      ]
     },
     "execution_count": 7,
     "metadata": {},
     "output_type": "execute_result"
    }
   ],
   "source": [
    "%%time\n",
    "sim_df.head()"
   ]
  },
  {
   "cell_type": "markdown",
   "metadata": {},
   "source": [
    "#### initial data\n",
    "The sample data for SMC is a pandas dataframe which contains the following columns: reactant id, reactant SMILES, product SMILES.\n",
    "In the SMC loop, the description of sample product will be cauculated firstly, then, the resample of reactant id will be performed. So, the initial data should at least contain the product and the reactant id."
   ]
  },
  {
   "cell_type": "code",
   "execution_count": 8,
   "metadata": {},
   "outputs": [
    {
     "data": {
      "text/html": [
       "<div>\n",
       "<style scoped>\n",
       "    .dataframe tbody tr th:only-of-type {\n",
       "        vertical-align: middle;\n",
       "    }\n",
       "\n",
       "    .dataframe tbody tr th {\n",
       "        vertical-align: top;\n",
       "    }\n",
       "\n",
       "    .dataframe thead th {\n",
       "        text-align: right;\n",
       "    }\n",
       "</style>\n",
       "<table border=\"1\" class=\"dataframe\">\n",
       "  <thead>\n",
       "    <tr style=\"text-align: right;\">\n",
       "      <th></th>\n",
       "      <th>reactant_idx</th>\n",
       "      <th>reactant_smiles</th>\n",
       "      <th>product_smiles</th>\n",
       "    </tr>\n",
       "  </thead>\n",
       "  <tbody>\n",
       "    <tr>\n",
       "      <th>0</th>\n",
       "      <td>[49727, 276686]</td>\n",
       "      <td>NaN</td>\n",
       "      <td>Cc1c(N2CCNCC2)ccc[n+]1[O-]</td>\n",
       "    </tr>\n",
       "    <tr>\n",
       "      <th>1</th>\n",
       "      <td>[532821, 37119]</td>\n",
       "      <td>NaN</td>\n",
       "      <td>[N-]=[N+]=Nc1nccc2ncccc12</td>\n",
       "    </tr>\n",
       "    <tr>\n",
       "      <th>2</th>\n",
       "      <td>[67527, 1532]</td>\n",
       "      <td>NaN</td>\n",
       "      <td>Oc1ccc(C(O)C(F)F)cc1</td>\n",
       "    </tr>\n",
       "    <tr>\n",
       "      <th>3</th>\n",
       "      <td>[39810, 28731]</td>\n",
       "      <td>NaN</td>\n",
       "      <td>CON(C)C(=O)c1ccc(Br)cc1</td>\n",
       "    </tr>\n",
       "    <tr>\n",
       "      <th>4</th>\n",
       "      <td>[28482, 36646]</td>\n",
       "      <td>NaN</td>\n",
       "      <td>O=C(O)COC(C(F)(F)F)C(F)(F)F</td>\n",
       "    </tr>\n",
       "  </tbody>\n",
       "</table>\n",
       "</div>"
      ],
      "text/plain": [
       "      reactant_idx  reactant_smiles               product_smiles\n",
       "0  [49727, 276686]              NaN   Cc1c(N2CCNCC2)ccc[n+]1[O-]\n",
       "1  [532821, 37119]              NaN    [N-]=[N+]=Nc1nccc2ncccc12\n",
       "2    [67527, 1532]              NaN         Oc1ccc(C(O)C(F)F)cc1\n",
       "3   [39810, 28731]              NaN      CON(C)C(=O)c1ccc(Br)cc1\n",
       "4   [28482, 36646]              NaN  O=C(O)COC(C(F)(F)F)C(F)(F)F"
      ]
     },
     "execution_count": 8,
     "metadata": {},
     "output_type": "execute_result"
    }
   ],
   "source": [
    "sample_size = 100\n",
    "data_sample = data.query(\"XLogP<3 & TPSA<50\").sample(n=sample_size).reset_index(drop=True)\n",
    "init_samples = pd.DataFrame({'reactant_idx': [],\n",
    "                       'reactant_smiles': [],\n",
    "                       'product_smiles': []})\n",
    "\n",
    "\n",
    "init_samples['reactant_idx'] = [[int(a) for a in idx_str.split('.')] for idx_str in data_sample['reactant_index']]\n",
    "init_samples['product_smiles'] = data_sample['product']\n",
    "init_samples.head()"
   ]
  },
  {
   "cell_type": "markdown",
   "metadata": {},
   "source": [
    "### estimator\n",
    "#### featurizer\n",
    "featurizer calculate the fingerprint of the sample product. We currently support all fingerprints and descriptors in the RDKit (Mordred will be added soon). In this tutorial, we only use the ECFP + MACCS in RDKit. "
   ]
  },
  {
   "cell_type": "code",
   "execution_count": 9,
   "metadata": {},
   "outputs": [
    {
     "name": "stdout",
     "output_type": "stream",
     "text": [
      "CPU times: user 869 ms, sys: 449 ms, total: 1.32 s\n",
      "Wall time: 3.14 s\n"
     ]
    }
   ],
   "source": [
    "%%time\n",
    "\n",
    "from xenonpy.descriptor import Fingerprints\n",
    "product_descriptor = Fingerprints(featurizers=['ECFP', 'MACCS'], input_type='smiles', on_errors='nan', target_col='product_smiles')\n",
    "samples_feature = product_descriptor.transform(init_samples)"
   ]
  },
  {
   "cell_type": "code",
   "execution_count": 10,
   "metadata": {},
   "outputs": [
    {
     "data": {
      "text/html": [
       "<div>\n",
       "<style scoped>\n",
       "    .dataframe tbody tr th:only-of-type {\n",
       "        vertical-align: middle;\n",
       "    }\n",
       "\n",
       "    .dataframe tbody tr th {\n",
       "        vertical-align: top;\n",
       "    }\n",
       "\n",
       "    .dataframe thead th {\n",
       "        text-align: right;\n",
       "    }\n",
       "</style>\n",
       "<table border=\"1\" class=\"dataframe\">\n",
       "  <thead>\n",
       "    <tr style=\"text-align: right;\">\n",
       "      <th></th>\n",
       "      <th>maccs:0</th>\n",
       "      <th>maccs:1</th>\n",
       "      <th>maccs:2</th>\n",
       "      <th>maccs:3</th>\n",
       "      <th>maccs:4</th>\n",
       "      <th>maccs:5</th>\n",
       "      <th>maccs:6</th>\n",
       "      <th>maccs:7</th>\n",
       "      <th>maccs:8</th>\n",
       "      <th>maccs:9</th>\n",
       "      <th>...</th>\n",
       "      <th>ecfp6:2038</th>\n",
       "      <th>ecfp6:2039</th>\n",
       "      <th>ecfp6:2040</th>\n",
       "      <th>ecfp6:2041</th>\n",
       "      <th>ecfp6:2042</th>\n",
       "      <th>ecfp6:2043</th>\n",
       "      <th>ecfp6:2044</th>\n",
       "      <th>ecfp6:2045</th>\n",
       "      <th>ecfp6:2046</th>\n",
       "      <th>ecfp6:2047</th>\n",
       "    </tr>\n",
       "  </thead>\n",
       "  <tbody>\n",
       "    <tr>\n",
       "      <th>0</th>\n",
       "      <td>0</td>\n",
       "      <td>0</td>\n",
       "      <td>0</td>\n",
       "      <td>0</td>\n",
       "      <td>0</td>\n",
       "      <td>0</td>\n",
       "      <td>0</td>\n",
       "      <td>0</td>\n",
       "      <td>0</td>\n",
       "      <td>0</td>\n",
       "      <td>...</td>\n",
       "      <td>0</td>\n",
       "      <td>0</td>\n",
       "      <td>0</td>\n",
       "      <td>0</td>\n",
       "      <td>0</td>\n",
       "      <td>0</td>\n",
       "      <td>0</td>\n",
       "      <td>0</td>\n",
       "      <td>0</td>\n",
       "      <td>0</td>\n",
       "    </tr>\n",
       "    <tr>\n",
       "      <th>1</th>\n",
       "      <td>0</td>\n",
       "      <td>0</td>\n",
       "      <td>0</td>\n",
       "      <td>0</td>\n",
       "      <td>0</td>\n",
       "      <td>0</td>\n",
       "      <td>0</td>\n",
       "      <td>0</td>\n",
       "      <td>0</td>\n",
       "      <td>0</td>\n",
       "      <td>...</td>\n",
       "      <td>0</td>\n",
       "      <td>0</td>\n",
       "      <td>0</td>\n",
       "      <td>0</td>\n",
       "      <td>0</td>\n",
       "      <td>0</td>\n",
       "      <td>0</td>\n",
       "      <td>0</td>\n",
       "      <td>0</td>\n",
       "      <td>0</td>\n",
       "    </tr>\n",
       "    <tr>\n",
       "      <th>2</th>\n",
       "      <td>0</td>\n",
       "      <td>0</td>\n",
       "      <td>0</td>\n",
       "      <td>0</td>\n",
       "      <td>0</td>\n",
       "      <td>0</td>\n",
       "      <td>0</td>\n",
       "      <td>0</td>\n",
       "      <td>0</td>\n",
       "      <td>0</td>\n",
       "      <td>...</td>\n",
       "      <td>0</td>\n",
       "      <td>0</td>\n",
       "      <td>0</td>\n",
       "      <td>0</td>\n",
       "      <td>0</td>\n",
       "      <td>0</td>\n",
       "      <td>0</td>\n",
       "      <td>0</td>\n",
       "      <td>0</td>\n",
       "      <td>0</td>\n",
       "    </tr>\n",
       "    <tr>\n",
       "      <th>3</th>\n",
       "      <td>0</td>\n",
       "      <td>0</td>\n",
       "      <td>0</td>\n",
       "      <td>0</td>\n",
       "      <td>0</td>\n",
       "      <td>0</td>\n",
       "      <td>0</td>\n",
       "      <td>0</td>\n",
       "      <td>0</td>\n",
       "      <td>0</td>\n",
       "      <td>...</td>\n",
       "      <td>0</td>\n",
       "      <td>0</td>\n",
       "      <td>0</td>\n",
       "      <td>0</td>\n",
       "      <td>0</td>\n",
       "      <td>0</td>\n",
       "      <td>0</td>\n",
       "      <td>0</td>\n",
       "      <td>0</td>\n",
       "      <td>0</td>\n",
       "    </tr>\n",
       "    <tr>\n",
       "      <th>4</th>\n",
       "      <td>0</td>\n",
       "      <td>0</td>\n",
       "      <td>0</td>\n",
       "      <td>0</td>\n",
       "      <td>0</td>\n",
       "      <td>0</td>\n",
       "      <td>0</td>\n",
       "      <td>0</td>\n",
       "      <td>0</td>\n",
       "      <td>0</td>\n",
       "      <td>...</td>\n",
       "      <td>0</td>\n",
       "      <td>0</td>\n",
       "      <td>0</td>\n",
       "      <td>0</td>\n",
       "      <td>0</td>\n",
       "      <td>0</td>\n",
       "      <td>0</td>\n",
       "      <td>0</td>\n",
       "      <td>0</td>\n",
       "      <td>0</td>\n",
       "    </tr>\n",
       "  </tbody>\n",
       "</table>\n",
       "<p>5 rows × 2215 columns</p>\n",
       "</div>"
      ],
      "text/plain": [
       "   maccs:0  maccs:1  maccs:2  maccs:3  maccs:4  maccs:5  maccs:6  maccs:7  \\\n",
       "0        0        0        0        0        0        0        0        0   \n",
       "1        0        0        0        0        0        0        0        0   \n",
       "2        0        0        0        0        0        0        0        0   \n",
       "3        0        0        0        0        0        0        0        0   \n",
       "4        0        0        0        0        0        0        0        0   \n",
       "\n",
       "   maccs:8  maccs:9  ...  ecfp6:2038  ecfp6:2039  ecfp6:2040  ecfp6:2041  \\\n",
       "0        0        0  ...           0           0           0           0   \n",
       "1        0        0  ...           0           0           0           0   \n",
       "2        0        0  ...           0           0           0           0   \n",
       "3        0        0  ...           0           0           0           0   \n",
       "4        0        0  ...           0           0           0           0   \n",
       "\n",
       "   ecfp6:2042  ecfp6:2043  ecfp6:2044  ecfp6:2045  ecfp6:2046  ecfp6:2047  \n",
       "0           0           0           0           0           0           0  \n",
       "1           0           0           0           0           0           0  \n",
       "2           0           0           0           0           0           0  \n",
       "3           0           0           0           0           0           0  \n",
       "4           0           0           0           0           0           0  \n",
       "\n",
       "[5 rows x 2215 columns]"
      ]
     },
     "execution_count": 10,
     "metadata": {},
     "output_type": "execute_result"
    }
   ],
   "source": [
    "samples_feature.head()"
   ]
  },
  {
   "cell_type": "markdown",
   "metadata": {},
   "source": [
    "#### forward model\n",
    "Forward model compute the likelihood of the product's property falling into the target likelihood.\\\n",
    "In this tutorial, we train two regerssion models for the two property respectively."
   ]
  },
  {
   "cell_type": "code",
   "execution_count": 11,
   "metadata": {},
   "outputs": [
    {
     "name": "stdout",
     "output_type": "stream",
     "text": [
      "CPU times: user 4min 15s, sys: 5.48 s, total: 4min 21s\n",
      "Wall time: 1min 53s\n"
     ]
    }
   ],
   "source": [
    "%%time\n",
    "from sklearn.linear_model import BayesianRidge\n",
    "from sklearn.model_selection import train_test_split\n",
    "\n",
    "n_train = 100000\n",
    "training_df = data.iloc[:n_train]\n",
    "trainer_descriptor = Fingerprints(featurizers=['ECFP', 'MACCS'], input_type='smiles', on_errors='nan', target_col='product')\n",
    "training_fp = trainer_descriptor.transform(training_df)\n",
    "\n",
    "training_XLogP = training_df[\"XLogP\"].tolist()\n",
    "training_TPSA = training_df[\"TPSA\"].tolist()\n",
    "model_XLogP = BayesianRidge()\n",
    "model_TPSA = BayesianRidge()\n",
    "\n",
    "\n",
    "X_train_XLogP, X_test_XLogP, y_train_XLogP, y_test_XLogP = train_test_split(training_fp, training_XLogP, test_size=0.25, random_state=42)\n",
    "X_train_TPSA, X_test_TPSA, y_train_TPSA, y_test_TPSA = train_test_split(training_fp, training_TPSA, test_size=0.25, random_state=42)\n",
    "\n",
    "model_XLogP.fit(X_train_XLogP, y_train_XLogP)\n",
    "model_TPSA.fit(X_train_TPSA, y_train_TPSA)\n",
    "\n",
    "y_train_XLogP_pred = model_XLogP.predict(X_train_XLogP)\n",
    "y_train_TPSA_pred = model_TPSA.predict(X_train_TPSA)\n",
    "y_test_XLogP_pred = model_XLogP.predict(X_test_XLogP)\n",
    "y_test_TPSA_pred = model_TPSA.predict(X_test_TPSA)"
   ]
  },
  {
   "cell_type": "code",
   "execution_count": 12,
   "metadata": {},
   "outputs": [
    {
     "data": {
      "text/plain": [
       "[<matplotlib.lines.Line2D at 0x7f551f05ff90>]"
      ]
     },
     "execution_count": 12,
     "metadata": {},
     "output_type": "execute_result"
    },
    {
     "data": {
      "image/png": "[encoded data removed]",
      "text/plain": [
       "<Figure size 360x360 with 1 Axes>"
      ]
     },
     "metadata": {
      "needs_background": "light"
     },
     "output_type": "display_data"
    }
   ],
   "source": [
    "import numpy as np\n",
    "\n",
    "y_all = training_XLogP\n",
    "y_train_true = y_train_XLogP\n",
    "y_train_pred = y_train_XLogP_pred\n",
    "y_test_true = y_test_XLogP\n",
    "y_test_pred = y_test_XLogP_pred\n",
    "\n",
    "y_min = min(y_all)*0.95\n",
    "y_max = max(y_all)*1.05\n",
    "y_diff = y_max - y_min\n",
    "\n",
    "plt.figure(figsize=(5,5))\n",
    "plt.scatter(y_train_true, y_train_pred, c='b', alpha=0.1, label='train')\n",
    "plt.scatter(y_test_true, y_test_pred, c='r', alpha=0.2, label='test')\n",
    "plt.text(y_min+y_diff*0.7,y_min+y_diff*0.05,'MAE: {:5.2f}'.format(np.mean(np.abs(y_test_true - y_test_pred)),fontsize=12))\n",
    "plt.xlim(y_min,y_max)\n",
    "plt.ylim(y_min,y_max)\n",
    "plt.legend(loc='upper left')\n",
    "plt.xlabel('Observation')\n",
    "plt.ylabel('Prediction')\n",
    "plt.title('Property: XLogP')\n",
    "plt.plot([y_min,y_max],[y_min,y_max],ls=\"--\",c='k')"
   ]
  },
  {
   "cell_type": "code",
   "execution_count": 13,
   "metadata": {},
   "outputs": [
    {
     "data": {
      "text/plain": [
       "[<matplotlib.lines.Line2D at 0x7f551c195e10>]"
      ]
     },
     "execution_count": 13,
     "metadata": {},
     "output_type": "execute_result"
    },
    {
     "data": {
      "image/png": "[encoded data removed]",
      "text/plain": [
       "<Figure size 360x360 with 1 Axes>"
      ]
     },
     "metadata": {
      "needs_background": "light"
     },
     "output_type": "display_data"
    }
   ],
   "source": [
    "y_all = training_TPSA\n",
    "y_train_true = y_train_TPSA\n",
    "y_train_pred = y_train_TPSA_pred\n",
    "y_test_true = y_test_TPSA\n",
    "y_test_pred = y_test_TPSA_pred\n",
    "\n",
    "y_min = min(y_all)*0.95\n",
    "y_max = max(y_all)*1.05\n",
    "y_diff = y_max - y_min\n",
    "\n",
    "plt.figure(figsize=(5,5))\n",
    "plt.scatter(y_train_true, y_train_pred, c='b', alpha=0.1, label='train')\n",
    "plt.scatter(y_test_true, y_test_pred, c='r', alpha=0.2, label='test')\n",
    "plt.text(y_min+y_diff*0.7,y_min+y_diff*0.05,'MAE: {:5.2f}'.format(np.mean(np.abs(y_test_true - y_test_pred)),fontsize=12))\n",
    "plt.xlim(y_min,y_max)\n",
    "plt.ylim(y_min,y_max)\n",
    "plt.legend(loc='upper left')\n",
    "plt.xlabel('Observation')\n",
    "plt.ylabel('Prediction')\n",
    "plt.title('Property: TPSA')\n",
    "plt.plot([y_min,y_max],[y_min,y_max],ls=\"--\",c='k')"
   ]
  },
  {
   "cell_type": "markdown",
   "metadata": {},
   "source": [
    "Merge the featurizer and forward model into the estimator(likelihood) module, we get the first block of ISMD.\\\n",
    "In this tutorial, we use GaussianLogLikelihood as the the estimator."
   ]
  },
  {
   "cell_type": "code",
   "execution_count": 14,
   "metadata": {},
   "outputs": [
    {
     "data": {
      "text/html": [
       "<div>\n",
       "<style scoped>\n",
       "    .dataframe tbody tr th:only-of-type {\n",
       "        vertical-align: middle;\n",
       "    }\n",
       "\n",
       "    .dataframe tbody tr th {\n",
       "        vertical-align: top;\n",
       "    }\n",
       "\n",
       "    .dataframe thead th {\n",
       "        text-align: right;\n",
       "    }\n",
       "</style>\n",
       "<table border=\"1\" class=\"dataframe\">\n",
       "  <thead>\n",
       "    <tr style=\"text-align: right;\">\n",
       "      <th></th>\n",
       "      <th>XLogP</th>\n",
       "      <th>TPSA</th>\n",
       "    </tr>\n",
       "  </thead>\n",
       "  <tbody>\n",
       "    <tr>\n",
       "      <th>0</th>\n",
       "      <td>-15.916500</td>\n",
       "      <td>-3.485392</td>\n",
       "    </tr>\n",
       "    <tr>\n",
       "      <th>1</th>\n",
       "      <td>-1.933391</td>\n",
       "      <td>-1.256725</td>\n",
       "    </tr>\n",
       "    <tr>\n",
       "      <th>2</th>\n",
       "      <td>-6.868272</td>\n",
       "      <td>-1.424548</td>\n",
       "    </tr>\n",
       "    <tr>\n",
       "      <th>3</th>\n",
       "      <td>-5.751389</td>\n",
       "      <td>-3.338504</td>\n",
       "    </tr>\n",
       "    <tr>\n",
       "      <th>4</th>\n",
       "      <td>-9.345367</td>\n",
       "      <td>-1.402673</td>\n",
       "    </tr>\n",
       "  </tbody>\n",
       "</table>\n",
       "</div>"
      ],
      "text/plain": [
       "       XLogP      TPSA\n",
       "0 -15.916500 -3.485392\n",
       "1  -1.933391 -1.256725\n",
       "2  -6.868272 -1.424548\n",
       "3  -5.751389 -3.338504\n",
       "4  -9.345367 -1.402673"
      ]
     },
     "execution_count": 14,
     "metadata": {},
     "output_type": "execute_result"
    }
   ],
   "source": [
    "from xenonpy.inverse.iqspr import GaussianLogLikelihood\n",
    "\n",
    "## set property target\n",
    "prop = ['XLogP', 'TPSA']\n",
    "target_range = {'XLogP': (5, 10), 'TPSA': (50, 100)}\n",
    "likelihood_calculator = GaussianLogLikelihood(descriptor=product_descriptor, targets=target_range, XLogP=model_XLogP, TPSA=model_TPSA)\n",
    "samples_likelihood = likelihood_calculator(init_samples)\n",
    "samples_likelihood.head()"
   ]
  },
  {
   "cell_type": "markdown",
   "metadata": {},
   "source": [
    "### 3. modifier\n",
    "#### proposal\n",
    "Proposal substitute a randomly selected reactant by a similar one."
   ]
  },
  {
   "cell_type": "code",
   "execution_count": 15,
   "metadata": {},
   "outputs": [
    {
     "name": "stdout",
     "output_type": "stream",
     "text": [
      "CPU times: user 1.18 s, sys: 63.9 ms, total: 1.25 s\n",
      "Wall time: 156 ms\n"
     ]
    }
   ],
   "source": [
    "%%time\n",
    "from xenonpy.contrib.ismd import ReactantPool\n",
    "from xenonpy.contrib.ismd import load_reactor\n",
    "\n",
    "model_path = os.path.join(assets_path,'STEREO_separated_augm_model_average_20.pt')\n",
    "mol_reactor = load_reactor(model_path=model_path, device_id=-1)\n",
    "mol_pool = ReactantPool(pool_df=reactant_pool, sim_df=sim_df, reactor=mol_reactor)"
   ]
  },
  {
   "cell_type": "code",
   "execution_count": 16,
   "metadata": {},
   "outputs": [
    {
     "name": "stdout",
     "output_type": "stream",
     "text": [
      "old idx                   ---> new idx                  \n",
      "[49727, 276686]           ---> [209809, 276686]         \n",
      "[532821, 37119]           ---> [298938, 37119]          \n",
      "[67527, 1532]             ---> [192268, 1532]           \n",
      "[39810, 28731]            ---> [509903, 28731]          \n",
      "[28482, 36646]            ---> [28482, 512484]          \n"
     ]
    }
   ],
   "source": [
    "old_list = [str(r) for r in init_samples[\"reactant_idx\"][:5]]\n",
    "new_list = [mol_pool.single_proposal(reactant) for reactant in init_samples[\"reactant_idx\"]]\n",
    "init_samples[\"reactant_idx\"] = new_list\n",
    "print(\"{:25} ---> {:25}\".format(\"old idx\",\"new idx\"))\n",
    "for o,n in zip(old_list[:5], new_list[:5]):\n",
    "    print(\"{:25} ---> {:25}\".format(str(o),str(n)))"
   ]
  },
  {
   "cell_type": "markdown",
   "metadata": {},
   "source": [
    "#### lookup pool\n",
    "By looking up the reactant pool, convert reactant id to SMILES."
   ]
  },
  {
   "cell_type": "code",
   "execution_count": 17,
   "metadata": {},
   "outputs": [
    {
     "name": "stdout",
     "output_type": "stream",
     "text": [
      "reactant idx              ---> reactant SMILES          \n",
      "[209809, 276686]          ---> C1CNCCNCCNC1.Cc1c(Br)ccc[n+]1[O-]\n",
      "[298938, 37119]           ---> Clc1ccnc2cccnc12.[N-]=[N+]=[N-]\n",
      "[192268, 1532]            ---> OCc1cccc(OCc2ccc3ccc(Cl)cc3n2)c1.Oc1ccccc1\n",
      "[509903, 28731]           ---> CC(C)Cc1ccc(C(CC(=O)O)C(=O)O)s1.O=C(Cl)c1ccc(Br)cc1\n",
      "[28482, 512484]           ---> CCOC(=O)CBr.FC(F)(Cl)OC(C(F)(F)F)C(F)(F)F\n"
     ]
    }
   ],
   "source": [
    "init_samples[\"reactant_smiles\"] = [mol_pool.single_index2reactant(id_str) for id_str in init_samples[\"reactant_idx\"]]\n",
    "print(\"{:25} ---> {:25}\".format(\"reactant idx\",\"reactant SMILES\"))\n",
    "for o,n in zip(init_samples[\"reactant_idx\"][:5], init_samples[\"reactant_smiles\"][:5]):\n",
    "    print(\"{:25} ---> {:25}\".format(str(o),str(n)))"
   ]
  },
  {
   "cell_type": "markdown",
   "metadata": {},
   "source": [
    "#### reactor\n",
    "The reactor can predict the product given the reactant set."
   ]
  },
  {
   "cell_type": "code",
   "execution_count": 18,
   "metadata": {},
   "outputs": [
    {
     "data": {
      "text/html": [
       "<div>\n",
       "<style scoped>\n",
       "    .dataframe tbody tr th:only-of-type {\n",
       "        vertical-align: middle;\n",
       "    }\n",
       "\n",
       "    .dataframe tbody tr th {\n",
       "        vertical-align: top;\n",
       "    }\n",
       "\n",
       "    .dataframe thead th {\n",
       "        text-align: right;\n",
       "    }\n",
       "</style>\n",
       "<table border=\"1\" class=\"dataframe\">\n",
       "  <thead>\n",
       "    <tr style=\"text-align: right;\">\n",
       "      <th></th>\n",
       "      <th>reactant_idx</th>\n",
       "      <th>reactant_smiles</th>\n",
       "      <th>product_smiles</th>\n",
       "    </tr>\n",
       "  </thead>\n",
       "  <tbody>\n",
       "    <tr>\n",
       "      <th>0</th>\n",
       "      <td>[209809, 276686]</td>\n",
       "      <td>C1CNCCNCCNC1.Cc1c(Br)ccc[n+]1[O-]</td>\n",
       "      <td>Cc1c(N2CCCNCCNCCNCC2)ccc[n+]1[O-]</td>\n",
       "    </tr>\n",
       "    <tr>\n",
       "      <th>1</th>\n",
       "      <td>[298938, 37119]</td>\n",
       "      <td>Clc1ccnc2cccnc12.[N-]=[N+]=[N-]</td>\n",
       "      <td>[N-]=[N+]=Nc1ccnc2cccnc12</td>\n",
       "    </tr>\n",
       "    <tr>\n",
       "      <th>2</th>\n",
       "      <td>[192268, 1532]</td>\n",
       "      <td>OCc1cccc(OCc2ccc3ccc(Cl)cc3n2)c1.Oc1ccccc1</td>\n",
       "      <td>Clc1ccc2ccc(COc3cccc(COc4ccccc4)c3)nc2c1</td>\n",
       "    </tr>\n",
       "    <tr>\n",
       "      <th>3</th>\n",
       "      <td>[509903, 28731]</td>\n",
       "      <td>CC(C)Cc1ccc(C(CC(=O)O)C(=O)O)s1.O=C(Cl)c1ccc(B...</td>\n",
       "      <td>CC(C)Cc1ccc(C2CC(=O)OC2=O)s1</td>\n",
       "    </tr>\n",
       "    <tr>\n",
       "      <th>4</th>\n",
       "      <td>[28482, 512484]</td>\n",
       "      <td>CCOC(=O)CBr.FC(F)(Cl)OC(C(F)(F)F)C(F)(F)F</td>\n",
       "      <td>CCOC(=O)C(Br)C(OC(F)(F)Cl)(C(F)(F)F)C(F)(F)F</td>\n",
       "    </tr>\n",
       "  </tbody>\n",
       "</table>\n",
       "</div>"
      ],
      "text/plain": [
       "       reactant_idx                                    reactant_smiles  \\\n",
       "0  [209809, 276686]                  C1CNCCNCCNC1.Cc1c(Br)ccc[n+]1[O-]   \n",
       "1   [298938, 37119]                    Clc1ccnc2cccnc12.[N-]=[N+]=[N-]   \n",
       "2    [192268, 1532]         OCc1cccc(OCc2ccc3ccc(Cl)cc3n2)c1.Oc1ccccc1   \n",
       "3   [509903, 28731]  CC(C)Cc1ccc(C(CC(=O)O)C(=O)O)s1.O=C(Cl)c1ccc(B...   \n",
       "4   [28482, 512484]          CCOC(=O)CBr.FC(F)(Cl)OC(C(F)(F)F)C(F)(F)F   \n",
       "\n",
       "                                 product_smiles  \n",
       "0             Cc1c(N2CCCNCCNCCNCC2)ccc[n+]1[O-]  \n",
       "1                     [N-]=[N+]=Nc1ccnc2cccnc12  \n",
       "2      Clc1ccc2ccc(COc3cccc(COc4ccccc4)c3)nc2c1  \n",
       "3                  CC(C)Cc1ccc(C2CC(=O)OC2=O)s1  \n",
       "4  CCOC(=O)C(Br)C(OC(F)(F)Cl)(C(F)(F)F)C(F)(F)F  "
      ]
     },
     "execution_count": 18,
     "metadata": {},
     "output_type": "execute_result"
    }
   ],
   "source": [
    "init_samples[\"product_smiles\"] = mol_pool._reactor.react(init_samples[\"reactant_smiles\"])\n",
    "init_samples.head()"
   ]
  },
  {
   "cell_type": "markdown",
   "metadata": {},
   "source": [
    "### 4. a complete ismd run\n",
    "In this tutorial, we use IQSPR4DF as the SMC framework, which is usable for pandas dataframe. Merge the estimator and the modifier into the IQSPR4DF module, then, a complete implementation is ready to run."
   ]
  },
  {
   "cell_type": "code",
   "execution_count": 19,
   "metadata": {},
   "outputs": [],
   "source": [
    "from xenonpy.inverse.iqspr import IQSPR4DF\n",
    "\n",
    "ISMD = IQSPR4DF(estimator=likelihood_calculator, modifier=mol_pool, sample_col='product_smiles')"
   ]
  },
  {
   "cell_type": "code",
   "execution_count": 20,
   "metadata": {},
   "outputs": [
    {
     "data": {
      "text/plain": [
       "array([0.01      , 0.02      , 0.03      , 0.04      , 0.05      ,\n",
       "       0.06      , 0.07      , 0.08      , 0.09      , 0.1       ,\n",
       "       0.11      , 0.12      , 0.13      , 0.14      , 0.15      ,\n",
       "       0.16      , 0.17      , 0.18      , 0.19      , 0.2       ,\n",
       "       0.21      , 0.23111111, 0.25222222, 0.27333333, 0.29444444,\n",
       "       0.31555556, 0.33666667, 0.35777778, 0.37888889, 0.4       ,\n",
       "       0.4       , 0.46666667, 0.53333333, 0.6       , 0.66666667,\n",
       "       0.73333333, 0.8       , 0.86666667, 0.93333333, 1.        ,\n",
       "       1.        , 1.        , 1.        , 1.        , 1.        ,\n",
       "       1.        , 1.        , 1.        , 1.        , 1.        ])"
      ]
     },
     "execution_count": 20,
     "metadata": {},
     "output_type": "execute_result"
    }
   ],
   "source": [
    "import numpy as np\n",
    "\n",
    "beta = np.hstack([np.linspace(0.01,0.2,20),np.linspace(0.21,0.4,10),np.linspace(0.4,1,10),np.linspace(1,1,10)])\n",
    "beta"
   ]
  },
  {
   "cell_type": "code",
   "execution_count": 21,
   "metadata": {},
   "outputs": [
    {
     "name": "stdout",
     "output_type": "stream",
     "text": [
      "CPU times: user 44min 59s, sys: 22.9 s, total: 45min 22s\n",
      "Wall time: 7min\n"
     ]
    }
   ],
   "source": [
    "%%time\n",
    "\n",
    "np.random.seed(201906) # fix the random seed\n",
    "# main loop of iQSPR\n",
    "iqspr_samples1, iqspr_loglike1, iqspr_prob1, iqspr_freq1 = [], [], [], []\n",
    "for s, ll, p, freq in ISMD(init_samples, beta, yield_lpf=True):\n",
    "    iqspr_samples1.append(s)\n",
    "    iqspr_loglike1.append(ll)\n",
    "    iqspr_prob1.append(p)\n",
    "    iqspr_freq1.append(freq)\n",
    "# record all outputs\n",
    "iqspr_results_reorder = {\n",
    "    \"samples\": iqspr_samples1,\n",
    "    \"loglike\": iqspr_loglike1,\n",
    "    \"prob\": iqspr_prob1,\n",
    "    \"freq\": iqspr_freq1,\n",
    "    \"beta\": beta\n",
    "}\n"
   ]
  },
  {
   "cell_type": "markdown",
   "metadata": {},
   "source": [
    "By looking at the likelihood of each steps, we can say that after few steps, most of the particles sampled have high likelihood."
   ]
  },
  {
   "cell_type": "code",
   "execution_count": 22,
   "metadata": {},
   "outputs": [
    {
     "data": {
      "image/png": "[encoded data removed]",
      "text/plain": [
       "<Figure size 720x360 with 1 Axes>"
      ]
     },
     "metadata": {
      "needs_background": "light"
     },
     "output_type": "display_data"
    },
    {
     "data": {
      "image/png": "[encoded data removed]",
      "text/plain": [
       "<Figure size 720x360 with 1 Axes>"
      ]
     },
     "metadata": {
      "needs_background": "light"
     },
     "output_type": "display_data"
    }
   ],
   "source": [
    "import matplotlib.pyplot as plt\n",
    "\n",
    "iqspr_results_reorder = {\n",
    "    \"samples\": iqspr_samples1,\n",
    "    \"loglike\": iqspr_loglike1,\n",
    "    \"prob\": iqspr_prob1,\n",
    "    \"freq\": iqspr_freq1,\n",
    "    \"beta\": beta\n",
    "}\n",
    "# set up the min and max boundary for the plots\n",
    "tmp_list = [x.sum(axis = 1, skipna = True).values for x in iqspr_results_reorder[\"loglike\"]]\n",
    "flat_list = np.asarray([item for sublist in tmp_list for item in sublist])\n",
    "y_max, y_min = max(flat_list), min(flat_list)\n",
    "\n",
    "plt.figure(figsize=(10,5))\n",
    "plt.xlim(0,len(iqspr_results_reorder[\"loglike\"]))\n",
    "plt.ylim(-30,y_max)\n",
    "plt.xlabel('Step')\n",
    "plt.ylabel('Log-likelihood')\n",
    "for i, ll in enumerate(tmp_list):\n",
    "    plt.scatter([i]*len(ll), ll ,s=10, c='b', alpha=0.2)\n",
    "plt.show()\n",
    "#plt.savefig('iqspr_loglike_reorder.png',dpi = 500)\n",
    "#plt.close()\n",
    "\n",
    "y_max, y_min = np.exp(y_max), np.exp(y_min)\n",
    "plt.figure(figsize=(10,5))\n",
    "plt.xlim(0,len(iqspr_results_reorder[\"loglike\"]))\n",
    "plt.ylim(y_min,y_max)\n",
    "plt.xlabel('Step')\n",
    "plt.ylabel('Likelihood')\n",
    "for i, ll in enumerate(tmp_list):\n",
    "    plt.scatter([i]*len(ll), np.exp(ll) ,s=10, c='b', alpha=0.2)"
   ]
  },
  {
   "cell_type": "code",
   "execution_count": null,
   "metadata": {},
   "outputs": [],
   "source": []
  }
 ],
 "metadata": {
  "kernelspec": {
   "display_name": "Python 3",
   "language": "python",
   "name": "python3"
  },
  "language_info": {
   "codemirror_mode": {
    "name": "ipython",
    "version": 3
   },
   "file_extension": ".py",
   "mimetype": "text/x-python",
   "name": "python",
   "nbconvert_exporter": "python",
   "pygments_lexer": "ipython3",
   "version": "3.7.9"
  }
 },
 "nbformat": 4,
 "nbformat_minor": 4
}
