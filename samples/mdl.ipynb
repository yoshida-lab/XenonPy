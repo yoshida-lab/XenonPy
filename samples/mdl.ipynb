{
 "cells": [
  {
   "cell_type": "markdown",
   "metadata": {},
   "source": [
    "# Pre-trained model\n",
    "\n",
    "**XenonPy.MDL** is a library of pre-trained models that were obtained by feeding diverse materials data on structure-property relationships into neural networks and some other supervised learning algorithms.\n",
    "XenonPy offers a simple-to-use toolchain to seamlessly perform **transfer learning** with the given **pre-trained models**.\n",
    "\n",
    "In this tutorial, we will focus on model querying and retrieving."
   ]
  },
  {
   "cell_type": "markdown",
   "metadata": {},
   "source": [
    "### useful functions"
   ]
  },
  {
   "cell_type": "code",
   "execution_count": 1,
   "metadata": {},
   "outputs": [],
   "source": [
    "%run tools.ipynb"
   ]
  },
  {
   "cell_type": "markdown",
   "metadata": {},
   "source": [
    "### access pre-trained models with MDL class"
   ]
  },
  {
   "cell_type": "code",
   "execution_count": 2,
   "metadata": {},
   "outputs": [],
   "source": [
    "# --- import necessary libraries\n",
    "\n",
    "from xenonpy.datatools import MDL"
   ]
  },
  {
   "cell_type": "code",
   "execution_count": 3,
   "metadata": {},
   "outputs": [
    {
     "data": {
      "text/plain": [
       "MDL(api_key='', save_to='.')"
      ]
     },
     "execution_count": 3,
     "metadata": {},
     "output_type": "execute_result"
    }
   ],
   "source": [
    "# --- init and check\n",
    "\n",
    "mdl = MDL()\n",
    "mdl"
   ]
  },
  {
   "cell_type": "markdown",
   "metadata": {},
   "source": [
    "Our database system are still in hard working and **API key** is need at this time."
   ]
  },
  {
   "cell_type": "code",
   "execution_count": 11,
   "metadata": {},
   "outputs": [],
   "source": [
    "# --- query data\n",
    "\n",
    "summary = mdl(modelset_has=\"Stable inorganic compounds\",  # query string for model set name \n",
    "              property_has=\"volume\", # query string for property name \n",
    "              save_to=False  #  set to False to prevent download.\n",
    "             )"
   ]
  },
  {
   "cell_type": "code",
   "execution_count": 12,
   "metadata": {},
   "outputs": [
    {
     "data": {
      "text/html": [
       "<div>\n",
       "<style scoped>\n",
       "    .dataframe tbody tr th:only-of-type {\n",
       "        vertical-align: middle;\n",
       "    }\n",
       "\n",
       "    .dataframe tbody tr th {\n",
       "        vertical-align: top;\n",
       "    }\n",
       "\n",
       "    .dataframe thead th {\n",
       "        text-align: right;\n",
       "    }\n",
       "</style>\n",
       "<table border=\"1\" class=\"dataframe\">\n",
       "  <thead>\n",
       "    <tr style=\"text-align: right;\">\n",
       "      <th></th>\n",
       "      <th>descriptor</th>\n",
       "      <th>lang</th>\n",
       "      <th>mae</th>\n",
       "      <th>method</th>\n",
       "      <th>modelSet</th>\n",
       "      <th>property</th>\n",
       "      <th>r</th>\n",
       "      <th>regress</th>\n",
       "      <th>succeed</th>\n",
       "      <th>transferred</th>\n",
       "      <th>url</th>\n",
       "    </tr>\n",
       "    <tr>\n",
       "      <th>mId</th>\n",
       "      <th></th>\n",
       "      <th></th>\n",
       "      <th></th>\n",
       "      <th></th>\n",
       "      <th></th>\n",
       "      <th></th>\n",
       "      <th></th>\n",
       "      <th></th>\n",
       "      <th></th>\n",
       "      <th></th>\n",
       "      <th></th>\n",
       "    </tr>\n",
       "  </thead>\n",
       "  <tbody>\n",
       "    <tr>\n",
       "      <th>M23001</th>\n",
       "      <td>xenonpy.composition</td>\n",
       "      <td>python</td>\n",
       "      <td>22.565939</td>\n",
       "      <td>pytorch.nn.neural_network</td>\n",
       "      <td>Stable inorganic compounds in materials projec...</td>\n",
       "      <td>inorganic.crystal.volume</td>\n",
       "      <td>0.996093</td>\n",
       "      <td>True</td>\n",
       "      <td>True</td>\n",
       "      <td>False</td>\n",
       "      <td>http://xenon.ism.ac.jp/mdl/S1/inorganic.crysta...</td>\n",
       "    </tr>\n",
       "    <tr>\n",
       "      <th>M23002</th>\n",
       "      <td>xenonpy.composition</td>\n",
       "      <td>python</td>\n",
       "      <td>295.966614</td>\n",
       "      <td>pytorch.nn.neural_network</td>\n",
       "      <td>Stable inorganic compounds in materials projec...</td>\n",
       "      <td>inorganic.crystal.volume</td>\n",
       "      <td>0.991945</td>\n",
       "      <td>True</td>\n",
       "      <td>True</td>\n",
       "      <td>False</td>\n",
       "      <td>http://xenon.ism.ac.jp/mdl/S1/inorganic.crysta...</td>\n",
       "    </tr>\n",
       "    <tr>\n",
       "      <th>M23003</th>\n",
       "      <td>xenonpy.composition</td>\n",
       "      <td>python</td>\n",
       "      <td>151.815582</td>\n",
       "      <td>pytorch.nn.neural_network</td>\n",
       "      <td>Stable inorganic compounds in materials projec...</td>\n",
       "      <td>inorganic.crystal.volume</td>\n",
       "      <td>0.994928</td>\n",
       "      <td>True</td>\n",
       "      <td>True</td>\n",
       "      <td>False</td>\n",
       "      <td>http://xenon.ism.ac.jp/mdl/S1/inorganic.crysta...</td>\n",
       "    </tr>\n",
       "    <tr>\n",
       "      <th>M23004</th>\n",
       "      <td>xenonpy.composition</td>\n",
       "      <td>python</td>\n",
       "      <td>50.362647</td>\n",
       "      <td>pytorch.nn.neural_network</td>\n",
       "      <td>Stable inorganic compounds in materials projec...</td>\n",
       "      <td>inorganic.crystal.volume</td>\n",
       "      <td>0.995265</td>\n",
       "      <td>True</td>\n",
       "      <td>True</td>\n",
       "      <td>False</td>\n",
       "      <td>http://xenon.ism.ac.jp/mdl/S1/inorganic.crysta...</td>\n",
       "    </tr>\n",
       "    <tr>\n",
       "      <th>M23005</th>\n",
       "      <td>xenonpy.composition</td>\n",
       "      <td>python</td>\n",
       "      <td>87.297256</td>\n",
       "      <td>pytorch.nn.neural_network</td>\n",
       "      <td>Stable inorganic compounds in materials projec...</td>\n",
       "      <td>inorganic.crystal.volume</td>\n",
       "      <td>0.993133</td>\n",
       "      <td>True</td>\n",
       "      <td>True</td>\n",
       "      <td>False</td>\n",
       "      <td>http://xenon.ism.ac.jp/mdl/S1/inorganic.crysta...</td>\n",
       "    </tr>\n",
       "  </tbody>\n",
       "</table>\n",
       "</div>"
      ],
      "text/plain": [
       "                 descriptor    lang         mae                     method  \\\n",
       "mId                                                                          \n",
       "M23001  xenonpy.composition  python   22.565939  pytorch.nn.neural_network   \n",
       "M23002  xenonpy.composition  python  295.966614  pytorch.nn.neural_network   \n",
       "M23003  xenonpy.composition  python  151.815582  pytorch.nn.neural_network   \n",
       "M23004  xenonpy.composition  python   50.362647  pytorch.nn.neural_network   \n",
       "M23005  xenonpy.composition  python   87.297256  pytorch.nn.neural_network   \n",
       "\n",
       "                                                 modelSet  \\\n",
       "mId                                                         \n",
       "M23001  Stable inorganic compounds in materials projec...   \n",
       "M23002  Stable inorganic compounds in materials projec...   \n",
       "M23003  Stable inorganic compounds in materials projec...   \n",
       "M23004  Stable inorganic compounds in materials projec...   \n",
       "M23005  Stable inorganic compounds in materials projec...   \n",
       "\n",
       "                        property         r  regress  succeed  transferred  \\\n",
       "mId                                                                         \n",
       "M23001  inorganic.crystal.volume  0.996093     True     True        False   \n",
       "M23002  inorganic.crystal.volume  0.991945     True     True        False   \n",
       "M23003  inorganic.crystal.volume  0.994928     True     True        False   \n",
       "M23004  inorganic.crystal.volume  0.995265     True     True        False   \n",
       "M23005  inorganic.crystal.volume  0.993133     True     True        False   \n",
       "\n",
       "                                                      url  \n",
       "mId                                                        \n",
       "M23001  http://xenon.ism.ac.jp/mdl/S1/inorganic.crysta...  \n",
       "M23002  http://xenon.ism.ac.jp/mdl/S1/inorganic.crysta...  \n",
       "M23003  http://xenon.ism.ac.jp/mdl/S1/inorganic.crysta...  \n",
       "M23004  http://xenon.ism.ac.jp/mdl/S1/inorganic.crysta...  \n",
       "M23005  http://xenon.ism.ac.jp/mdl/S1/inorganic.crysta...  "
      ]
     },
     "execution_count": 12,
     "metadata": {},
     "output_type": "execute_result"
    }
   ],
   "source": [
    "summary.head(5)"
   ]
  },
  {
   "cell_type": "markdown",
   "metadata": {},
   "source": [
    "### download models\n",
    "\n",
    "We will download the top 5 models based on the MAE"
   ]
  },
  {
   "cell_type": "code",
   "execution_count": 13,
   "metadata": {},
   "outputs": [
    {
     "data": {
      "text/html": [
       "<div>\n",
       "<style scoped>\n",
       "    .dataframe tbody tr th:only-of-type {\n",
       "        vertical-align: middle;\n",
       "    }\n",
       "\n",
       "    .dataframe tbody tr th {\n",
       "        vertical-align: top;\n",
       "    }\n",
       "\n",
       "    .dataframe thead th {\n",
       "        text-align: right;\n",
       "    }\n",
       "</style>\n",
       "<table border=\"1\" class=\"dataframe\">\n",
       "  <thead>\n",
       "    <tr style=\"text-align: right;\">\n",
       "      <th></th>\n",
       "      <th>descriptor</th>\n",
       "      <th>lang</th>\n",
       "      <th>mae</th>\n",
       "      <th>method</th>\n",
       "      <th>modelSet</th>\n",
       "      <th>property</th>\n",
       "      <th>r</th>\n",
       "      <th>regress</th>\n",
       "      <th>succeed</th>\n",
       "      <th>transferred</th>\n",
       "      <th>url</th>\n",
       "    </tr>\n",
       "    <tr>\n",
       "      <th>mId</th>\n",
       "      <th></th>\n",
       "      <th></th>\n",
       "      <th></th>\n",
       "      <th></th>\n",
       "      <th></th>\n",
       "      <th></th>\n",
       "      <th></th>\n",
       "      <th></th>\n",
       "      <th></th>\n",
       "      <th></th>\n",
       "      <th></th>\n",
       "    </tr>\n",
       "  </thead>\n",
       "  <tbody>\n",
       "    <tr>\n",
       "      <th>M23001</th>\n",
       "      <td>xenonpy.composition</td>\n",
       "      <td>python</td>\n",
       "      <td>22.565939</td>\n",
       "      <td>pytorch.nn.neural_network</td>\n",
       "      <td>Stable inorganic compounds in materials projec...</td>\n",
       "      <td>inorganic.crystal.volume</td>\n",
       "      <td>0.996093</td>\n",
       "      <td>True</td>\n",
       "      <td>True</td>\n",
       "      <td>False</td>\n",
       "      <td>http://xenon.ism.ac.jp/mdl/S1/inorganic.crysta...</td>\n",
       "    </tr>\n",
       "    <tr>\n",
       "      <th>M23265</th>\n",
       "      <td>xenonpy.composition</td>\n",
       "      <td>python</td>\n",
       "      <td>22.759855</td>\n",
       "      <td>pytorch.nn.neural_network</td>\n",
       "      <td>Stable inorganic compounds in materials projec...</td>\n",
       "      <td>inorganic.crystal.volume</td>\n",
       "      <td>0.995420</td>\n",
       "      <td>True</td>\n",
       "      <td>True</td>\n",
       "      <td>False</td>\n",
       "      <td>http://xenon.ism.ac.jp/mdl/S1/inorganic.crysta...</td>\n",
       "    </tr>\n",
       "    <tr>\n",
       "      <th>M24137</th>\n",
       "      <td>xenonpy.composition</td>\n",
       "      <td>python</td>\n",
       "      <td>22.883263</td>\n",
       "      <td>pytorch.nn.neural_network</td>\n",
       "      <td>Stable inorganic compounds in materials projec...</td>\n",
       "      <td>inorganic.crystal.volume</td>\n",
       "      <td>0.995601</td>\n",
       "      <td>True</td>\n",
       "      <td>True</td>\n",
       "      <td>False</td>\n",
       "      <td>http://xenon.ism.ac.jp/mdl/S1/inorganic.crysta...</td>\n",
       "    </tr>\n",
       "    <tr>\n",
       "      <th>M23203</th>\n",
       "      <td>xenonpy.composition</td>\n",
       "      <td>python</td>\n",
       "      <td>22.954258</td>\n",
       "      <td>pytorch.nn.neural_network</td>\n",
       "      <td>Stable inorganic compounds in materials projec...</td>\n",
       "      <td>inorganic.crystal.volume</td>\n",
       "      <td>0.995931</td>\n",
       "      <td>True</td>\n",
       "      <td>True</td>\n",
       "      <td>False</td>\n",
       "      <td>http://xenon.ism.ac.jp/mdl/S1/inorganic.crysta...</td>\n",
       "    </tr>\n",
       "    <tr>\n",
       "      <th>M25054</th>\n",
       "      <td>xenonpy.composition</td>\n",
       "      <td>python</td>\n",
       "      <td>22.983179</td>\n",
       "      <td>pytorch.nn.neural_network</td>\n",
       "      <td>Stable inorganic compounds in materials projec...</td>\n",
       "      <td>inorganic.crystal.volume</td>\n",
       "      <td>0.996287</td>\n",
       "      <td>True</td>\n",
       "      <td>True</td>\n",
       "      <td>False</td>\n",
       "      <td>http://xenon.ism.ac.jp/mdl/S1/inorganic.crysta...</td>\n",
       "    </tr>\n",
       "  </tbody>\n",
       "</table>\n",
       "</div>"
      ],
      "text/plain": [
       "                 descriptor    lang        mae                     method  \\\n",
       "mId                                                                         \n",
       "M23001  xenonpy.composition  python  22.565939  pytorch.nn.neural_network   \n",
       "M23265  xenonpy.composition  python  22.759855  pytorch.nn.neural_network   \n",
       "M24137  xenonpy.composition  python  22.883263  pytorch.nn.neural_network   \n",
       "M23203  xenonpy.composition  python  22.954258  pytorch.nn.neural_network   \n",
       "M25054  xenonpy.composition  python  22.983179  pytorch.nn.neural_network   \n",
       "\n",
       "                                                 modelSet  \\\n",
       "mId                                                         \n",
       "M23001  Stable inorganic compounds in materials projec...   \n",
       "M23265  Stable inorganic compounds in materials projec...   \n",
       "M24137  Stable inorganic compounds in materials projec...   \n",
       "M23203  Stable inorganic compounds in materials projec...   \n",
       "M25054  Stable inorganic compounds in materials projec...   \n",
       "\n",
       "                        property         r  regress  succeed  transferred  \\\n",
       "mId                                                                         \n",
       "M23001  inorganic.crystal.volume  0.996093     True     True        False   \n",
       "M23265  inorganic.crystal.volume  0.995420     True     True        False   \n",
       "M24137  inorganic.crystal.volume  0.995601     True     True        False   \n",
       "M23203  inorganic.crystal.volume  0.995931     True     True        False   \n",
       "M25054  inorganic.crystal.volume  0.996287     True     True        False   \n",
       "\n",
       "                                                      url  \n",
       "mId                                                        \n",
       "M23001  http://xenon.ism.ac.jp/mdl/S1/inorganic.crysta...  \n",
       "M23265  http://xenon.ism.ac.jp/mdl/S1/inorganic.crysta...  \n",
       "M24137  http://xenon.ism.ac.jp/mdl/S1/inorganic.crysta...  \n",
       "M23203  http://xenon.ism.ac.jp/mdl/S1/inorganic.crysta...  \n",
       "M25054  http://xenon.ism.ac.jp/mdl/S1/inorganic.crysta...  "
      ]
     },
     "execution_count": 13,
     "metadata": {},
     "output_type": "execute_result"
    }
   ],
   "source": [
    "summary = summary.sort_values('mae')\n",
    "summary.head(5)"
   ]
  },
  {
   "cell_type": "code",
   "execution_count": 14,
   "metadata": {},
   "outputs": [
    {
     "data": {
      "text/plain": [
       "mId\n",
       "M23001    http://xenon.ism.ac.jp/mdl/S1/inorganic.crysta...\n",
       "M23265    http://xenon.ism.ac.jp/mdl/S1/inorganic.crysta...\n",
       "M24137    http://xenon.ism.ac.jp/mdl/S1/inorganic.crysta...\n",
       "M23203    http://xenon.ism.ac.jp/mdl/S1/inorganic.crysta...\n",
       "M25054    http://xenon.ism.ac.jp/mdl/S1/inorganic.crysta...\n",
       "Name: url, dtype: object"
      ]
     },
     "execution_count": 14,
     "metadata": {},
     "output_type": "execute_result"
    }
   ],
   "source": [
    "urls = summary['url'].iloc[:5]\n",
    "urls"
   ]
  },
  {
   "cell_type": "code",
   "execution_count": 15,
   "metadata": {},
   "outputs": [
    {
     "name": "stderr",
     "output_type": "stream",
     "text": [
      "100%|██████████| 5/5 [00:01<00:00,  4.44it/s]\n"
     ]
    }
   ],
   "source": [
    "# --- use pull method to download models\n",
    "\n",
    "results = mdl.pull(urls)"
   ]
  },
  {
   "cell_type": "code",
   "execution_count": 16,
   "metadata": {},
   "outputs": [
    {
     "data": {
      "text/plain": [
       "['/Users/liuchang/projects/xenonpy/samples/S1/inorganic.crystal.volume/xenonpy.composition/pytorch.nn.neural_network/04cd-290-281-153-75-21@1',\n",
       " '/Users/liuchang/projects/xenonpy/samples/S1/inorganic.crystal.volume/xenonpy.composition/pytorch.nn.neural_network/ajc1-290-261-122-66-25-10@1',\n",
       " '/Users/liuchang/projects/xenonpy/samples/S1/inorganic.crystal.volume/xenonpy.composition/pytorch.nn.neural_network/rzr8-290-285-177-111-58-27@1',\n",
       " '/Users/liuchang/projects/xenonpy/samples/S1/inorganic.crystal.volume/xenonpy.composition/pytorch.nn.neural_network/p0nx-290-285-126-52-22-13@1',\n",
       " '/Users/liuchang/projects/xenonpy/samples/S1/inorganic.crystal.volume/xenonpy.composition/pytorch.nn.neural_network/r4t2-290-243-131-67-23@1']"
      ]
     },
     "execution_count": 16,
     "metadata": {},
     "output_type": "execute_result"
    }
   ],
   "source": [
    "# check results\n",
    "\n",
    "results"
   ]
  },
  {
   "cell_type": "code",
   "execution_count": null,
   "metadata": {},
   "outputs": [],
   "source": []
  }
 ],
 "metadata": {
  "kernelspec": {
   "display_name": "Python 3",
   "language": "python",
   "name": "python3"
  },
  "language_info": {
   "codemirror_mode": {
    "name": "ipython",
    "version": 3
   },
   "file_extension": ".py",
   "mimetype": "text/x-python",
   "name": "python",
   "nbconvert_exporter": "python",
   "pygments_lexer": "ipython3",
   "version": "3.6.8"
  }
 },
 "nbformat": 4,
 "nbformat_minor": 2
}
