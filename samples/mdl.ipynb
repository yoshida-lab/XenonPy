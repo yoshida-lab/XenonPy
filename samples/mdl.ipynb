{
 "cells": [
  {
   "cell_type": "markdown",
   "metadata": {},
   "source": [
    "# Pre-trained Model Library\n",
    "\n",
    "**XenonPy.MDL** is a library of pre-trained models that were obtained by feeding diverse materials data on structure-property relationships into neural networks and some other supervised learning algorithms.\n",
    "\n",
    "XenonPy offers a simple-to-use toolchain to seamlessly perform **transfer learning** with the given **pre-trained models**.In this tutorial, we will focus on model querying and retrieving."
   ]
  },
  {
   "cell_type": "markdown",
   "metadata": {},
   "source": [
    "### useful functions"
   ]
  },
  {
   "cell_type": "code",
   "execution_count": 1,
   "metadata": {},
   "outputs": [],
   "source": [
    "%run tools.ipynb"
   ]
  },
  {
   "cell_type": "markdown",
   "metadata": {},
   "source": [
    "### access pre-trained models with MDL class"
   ]
  },
  {
   "cell_type": "code",
   "execution_count": 2,
   "metadata": {},
   "outputs": [],
   "source": [
    "# --- import necessary libraries\n",
    "\n",
    "from xenonpy.datatools import MDL"
   ]
  },
  {
   "cell_type": "code",
   "execution_count": 3,
   "metadata": {},
   "outputs": [
    {
     "data": {
      "text/plain": [
       "MDL(api_key='', save_to='.')"
      ]
     },
     "execution_count": 3,
     "metadata": {},
     "output_type": "execute_result"
    }
   ],
   "source": [
    "# --- init and check\n",
    "\n",
    "mdl = MDL()\n",
    "mdl"
   ]
  },
  {
   "cell_type": "markdown",
   "metadata": {},
   "source": [
    "Here is a parameter call ``api_key``, but you have not need to worry about that. Our database system are still in hard working, the **API key** is not needed at this time.\n",
    "\n",
    "When we reached here, the querying object ``mdl`` is ready to use. To query models, do something like this:"
   ]
  },
  {
   "cell_type": "code",
   "execution_count": 4,
   "metadata": {},
   "outputs": [],
   "source": [
    "# --- query data\n",
    "\n",
    "summary = mdl(modelset_has=\"Stable inorganic compounds\",  # sub string in the name of modelset\n",
    "              property_has=\"volume\", # substring for property name \n",
    "              save_to=False  #  set to False to prevent download.\n",
    "             )"
   ]
  },
  {
   "cell_type": "markdown",
   "metadata": {},
   "source": [
    "All parameters should be a string contains part of the name. All avaliable names are listed at https://xenonpy.readthedocs.io/en/latest/features.html#xenonpy-mdl\n",
    "\n",
    "\n",
    "In this case, we are querying some models want their modelset's name contain **Stable inorganic compounds** and their prediction property's contain **volume**.\n",
    "\n",
    "If successful, a pandas.DataFrame object contains information of models will be returned."
   ]
  },
  {
   "cell_type": "code",
   "execution_count": 5,
   "metadata": {},
   "outputs": [
    {
     "data": {
      "text/html": [
       "<div>\n",
       "<style scoped>\n",
       "    .dataframe tbody tr th:only-of-type {\n",
       "        vertical-align: middle;\n",
       "    }\n",
       "\n",
       "    .dataframe tbody tr th {\n",
       "        vertical-align: top;\n",
       "    }\n",
       "\n",
       "    .dataframe thead th {\n",
       "        text-align: right;\n",
       "    }\n",
       "</style>\n",
       "<table border=\"1\" class=\"dataframe\">\n",
       "  <thead>\n",
       "    <tr style=\"text-align: right;\">\n",
       "      <th></th>\n",
       "      <th>descriptor</th>\n",
       "      <th>lang</th>\n",
       "      <th>mae</th>\n",
       "      <th>method</th>\n",
       "      <th>modelSet</th>\n",
       "      <th>property</th>\n",
       "      <th>r</th>\n",
       "      <th>regress</th>\n",
       "      <th>succeed</th>\n",
       "      <th>transferred</th>\n",
       "      <th>url</th>\n",
       "    </tr>\n",
       "    <tr>\n",
       "      <th>mId</th>\n",
       "      <th></th>\n",
       "      <th></th>\n",
       "      <th></th>\n",
       "      <th></th>\n",
       "      <th></th>\n",
       "      <th></th>\n",
       "      <th></th>\n",
       "      <th></th>\n",
       "      <th></th>\n",
       "      <th></th>\n",
       "      <th></th>\n",
       "    </tr>\n",
       "  </thead>\n",
       "  <tbody>\n",
       "    <tr>\n",
       "      <th>M23001</th>\n",
       "      <td>xenonpy.composition</td>\n",
       "      <td>python</td>\n",
       "      <td>22.565939</td>\n",
       "      <td>pytorch.nn.neural_network</td>\n",
       "      <td>Stable inorganic compounds in materials projec...</td>\n",
       "      <td>inorganic.crystal.volume</td>\n",
       "      <td>0.996093</td>\n",
       "      <td>True</td>\n",
       "      <td>True</td>\n",
       "      <td>False</td>\n",
       "      <td>http://xenon.ism.ac.jp/mdl/S1/inorganic.crysta...</td>\n",
       "    </tr>\n",
       "    <tr>\n",
       "      <th>M23002</th>\n",
       "      <td>xenonpy.composition</td>\n",
       "      <td>python</td>\n",
       "      <td>295.966614</td>\n",
       "      <td>pytorch.nn.neural_network</td>\n",
       "      <td>Stable inorganic compounds in materials projec...</td>\n",
       "      <td>inorganic.crystal.volume</td>\n",
       "      <td>0.991945</td>\n",
       "      <td>True</td>\n",
       "      <td>True</td>\n",
       "      <td>False</td>\n",
       "      <td>http://xenon.ism.ac.jp/mdl/S1/inorganic.crysta...</td>\n",
       "    </tr>\n",
       "    <tr>\n",
       "      <th>M23003</th>\n",
       "      <td>xenonpy.composition</td>\n",
       "      <td>python</td>\n",
       "      <td>151.815582</td>\n",
       "      <td>pytorch.nn.neural_network</td>\n",
       "      <td>Stable inorganic compounds in materials projec...</td>\n",
       "      <td>inorganic.crystal.volume</td>\n",
       "      <td>0.994928</td>\n",
       "      <td>True</td>\n",
       "      <td>True</td>\n",
       "      <td>False</td>\n",
       "      <td>http://xenon.ism.ac.jp/mdl/S1/inorganic.crysta...</td>\n",
       "    </tr>\n",
       "    <tr>\n",
       "      <th>M23004</th>\n",
       "      <td>xenonpy.composition</td>\n",
       "      <td>python</td>\n",
       "      <td>50.362647</td>\n",
       "      <td>pytorch.nn.neural_network</td>\n",
       "      <td>Stable inorganic compounds in materials projec...</td>\n",
       "      <td>inorganic.crystal.volume</td>\n",
       "      <td>0.995265</td>\n",
       "      <td>True</td>\n",
       "      <td>True</td>\n",
       "      <td>False</td>\n",
       "      <td>http://xenon.ism.ac.jp/mdl/S1/inorganic.crysta...</td>\n",
       "    </tr>\n",
       "    <tr>\n",
       "      <th>M23005</th>\n",
       "      <td>xenonpy.composition</td>\n",
       "      <td>python</td>\n",
       "      <td>87.297256</td>\n",
       "      <td>pytorch.nn.neural_network</td>\n",
       "      <td>Stable inorganic compounds in materials projec...</td>\n",
       "      <td>inorganic.crystal.volume</td>\n",
       "      <td>0.993133</td>\n",
       "      <td>True</td>\n",
       "      <td>True</td>\n",
       "      <td>False</td>\n",
       "      <td>http://xenon.ism.ac.jp/mdl/S1/inorganic.crysta...</td>\n",
       "    </tr>\n",
       "  </tbody>\n",
       "</table>\n",
       "</div>"
      ],
      "text/plain": [
       "                 descriptor    lang         mae                     method  \\\n",
       "mId                                                                          \n",
       "M23001  xenonpy.composition  python   22.565939  pytorch.nn.neural_network   \n",
       "M23002  xenonpy.composition  python  295.966614  pytorch.nn.neural_network   \n",
       "M23003  xenonpy.composition  python  151.815582  pytorch.nn.neural_network   \n",
       "M23004  xenonpy.composition  python   50.362647  pytorch.nn.neural_network   \n",
       "M23005  xenonpy.composition  python   87.297256  pytorch.nn.neural_network   \n",
       "\n",
       "                                                 modelSet  \\\n",
       "mId                                                         \n",
       "M23001  Stable inorganic compounds in materials projec...   \n",
       "M23002  Stable inorganic compounds in materials projec...   \n",
       "M23003  Stable inorganic compounds in materials projec...   \n",
       "M23004  Stable inorganic compounds in materials projec...   \n",
       "M23005  Stable inorganic compounds in materials projec...   \n",
       "\n",
       "                        property         r  regress  succeed  transferred  \\\n",
       "mId                                                                         \n",
       "M23001  inorganic.crystal.volume  0.996093     True     True        False   \n",
       "M23002  inorganic.crystal.volume  0.991945     True     True        False   \n",
       "M23003  inorganic.crystal.volume  0.994928     True     True        False   \n",
       "M23004  inorganic.crystal.volume  0.995265     True     True        False   \n",
       "M23005  inorganic.crystal.volume  0.993133     True     True        False   \n",
       "\n",
       "                                                      url  \n",
       "mId                                                        \n",
       "M23001  http://xenon.ism.ac.jp/mdl/S1/inorganic.crysta...  \n",
       "M23002  http://xenon.ism.ac.jp/mdl/S1/inorganic.crysta...  \n",
       "M23003  http://xenon.ism.ac.jp/mdl/S1/inorganic.crysta...  \n",
       "M23004  http://xenon.ism.ac.jp/mdl/S1/inorganic.crysta...  \n",
       "M23005  http://xenon.ism.ac.jp/mdl/S1/inorganic.crysta...  "
      ]
     },
     "execution_count": 5,
     "metadata": {},
     "output_type": "execute_result"
    }
   ],
   "source": [
    "summary.head(5)"
   ]
  },
  {
   "cell_type": "markdown",
   "metadata": {},
   "source": [
    "### download models\n",
    "\n",
    "To download models, the column named **url** in the querying result is needed. Information in this column show the downloadable http links. By using these links, users can download models in their preferred way.\n",
    "\n",
    "We also offered a simple download function to help user's downloading. Assuming we want to download the top 5 best performance models based on their **MAE**. The downloading procedure is straight-forward as below."
   ]
  },
  {
   "cell_type": "markdown",
   "metadata": {},
   "source": [
    "#### 1. sort models by the value of **MAE**"
   ]
  },
  {
   "cell_type": "code",
   "execution_count": 6,
   "metadata": {},
   "outputs": [
    {
     "data": {
      "text/html": [
       "<div>\n",
       "<style scoped>\n",
       "    .dataframe tbody tr th:only-of-type {\n",
       "        vertical-align: middle;\n",
       "    }\n",
       "\n",
       "    .dataframe tbody tr th {\n",
       "        vertical-align: top;\n",
       "    }\n",
       "\n",
       "    .dataframe thead th {\n",
       "        text-align: right;\n",
       "    }\n",
       "</style>\n",
       "<table border=\"1\" class=\"dataframe\">\n",
       "  <thead>\n",
       "    <tr style=\"text-align: right;\">\n",
       "      <th></th>\n",
       "      <th>descriptor</th>\n",
       "      <th>lang</th>\n",
       "      <th>mae</th>\n",
       "      <th>method</th>\n",
       "      <th>modelSet</th>\n",
       "      <th>property</th>\n",
       "      <th>r</th>\n",
       "      <th>regress</th>\n",
       "      <th>succeed</th>\n",
       "      <th>transferred</th>\n",
       "      <th>url</th>\n",
       "    </tr>\n",
       "    <tr>\n",
       "      <th>mId</th>\n",
       "      <th></th>\n",
       "      <th></th>\n",
       "      <th></th>\n",
       "      <th></th>\n",
       "      <th></th>\n",
       "      <th></th>\n",
       "      <th></th>\n",
       "      <th></th>\n",
       "      <th></th>\n",
       "      <th></th>\n",
       "      <th></th>\n",
       "    </tr>\n",
       "  </thead>\n",
       "  <tbody>\n",
       "    <tr>\n",
       "      <th>M23001</th>\n",
       "      <td>xenonpy.composition</td>\n",
       "      <td>python</td>\n",
       "      <td>22.565939</td>\n",
       "      <td>pytorch.nn.neural_network</td>\n",
       "      <td>Stable inorganic compounds in materials projec...</td>\n",
       "      <td>inorganic.crystal.volume</td>\n",
       "      <td>0.996093</td>\n",
       "      <td>True</td>\n",
       "      <td>True</td>\n",
       "      <td>False</td>\n",
       "      <td>http://xenon.ism.ac.jp/mdl/S1/inorganic.crysta...</td>\n",
       "    </tr>\n",
       "    <tr>\n",
       "      <th>M23265</th>\n",
       "      <td>xenonpy.composition</td>\n",
       "      <td>python</td>\n",
       "      <td>22.759855</td>\n",
       "      <td>pytorch.nn.neural_network</td>\n",
       "      <td>Stable inorganic compounds in materials projec...</td>\n",
       "      <td>inorganic.crystal.volume</td>\n",
       "      <td>0.995420</td>\n",
       "      <td>True</td>\n",
       "      <td>True</td>\n",
       "      <td>False</td>\n",
       "      <td>http://xenon.ism.ac.jp/mdl/S1/inorganic.crysta...</td>\n",
       "    </tr>\n",
       "    <tr>\n",
       "      <th>M24137</th>\n",
       "      <td>xenonpy.composition</td>\n",
       "      <td>python</td>\n",
       "      <td>22.883263</td>\n",
       "      <td>pytorch.nn.neural_network</td>\n",
       "      <td>Stable inorganic compounds in materials projec...</td>\n",
       "      <td>inorganic.crystal.volume</td>\n",
       "      <td>0.995601</td>\n",
       "      <td>True</td>\n",
       "      <td>True</td>\n",
       "      <td>False</td>\n",
       "      <td>http://xenon.ism.ac.jp/mdl/S1/inorganic.crysta...</td>\n",
       "    </tr>\n",
       "    <tr>\n",
       "      <th>M23203</th>\n",
       "      <td>xenonpy.composition</td>\n",
       "      <td>python</td>\n",
       "      <td>22.954258</td>\n",
       "      <td>pytorch.nn.neural_network</td>\n",
       "      <td>Stable inorganic compounds in materials projec...</td>\n",
       "      <td>inorganic.crystal.volume</td>\n",
       "      <td>0.995931</td>\n",
       "      <td>True</td>\n",
       "      <td>True</td>\n",
       "      <td>False</td>\n",
       "      <td>http://xenon.ism.ac.jp/mdl/S1/inorganic.crysta...</td>\n",
       "    </tr>\n",
       "    <tr>\n",
       "      <th>M25054</th>\n",
       "      <td>xenonpy.composition</td>\n",
       "      <td>python</td>\n",
       "      <td>22.983179</td>\n",
       "      <td>pytorch.nn.neural_network</td>\n",
       "      <td>Stable inorganic compounds in materials projec...</td>\n",
       "      <td>inorganic.crystal.volume</td>\n",
       "      <td>0.996287</td>\n",
       "      <td>True</td>\n",
       "      <td>True</td>\n",
       "      <td>False</td>\n",
       "      <td>http://xenon.ism.ac.jp/mdl/S1/inorganic.crysta...</td>\n",
       "    </tr>\n",
       "  </tbody>\n",
       "</table>\n",
       "</div>"
      ],
      "text/plain": [
       "                 descriptor    lang        mae                     method  \\\n",
       "mId                                                                         \n",
       "M23001  xenonpy.composition  python  22.565939  pytorch.nn.neural_network   \n",
       "M23265  xenonpy.composition  python  22.759855  pytorch.nn.neural_network   \n",
       "M24137  xenonpy.composition  python  22.883263  pytorch.nn.neural_network   \n",
       "M23203  xenonpy.composition  python  22.954258  pytorch.nn.neural_network   \n",
       "M25054  xenonpy.composition  python  22.983179  pytorch.nn.neural_network   \n",
       "\n",
       "                                                 modelSet  \\\n",
       "mId                                                         \n",
       "M23001  Stable inorganic compounds in materials projec...   \n",
       "M23265  Stable inorganic compounds in materials projec...   \n",
       "M24137  Stable inorganic compounds in materials projec...   \n",
       "M23203  Stable inorganic compounds in materials projec...   \n",
       "M25054  Stable inorganic compounds in materials projec...   \n",
       "\n",
       "                        property         r  regress  succeed  transferred  \\\n",
       "mId                                                                         \n",
       "M23001  inorganic.crystal.volume  0.996093     True     True        False   \n",
       "M23265  inorganic.crystal.volume  0.995420     True     True        False   \n",
       "M24137  inorganic.crystal.volume  0.995601     True     True        False   \n",
       "M23203  inorganic.crystal.volume  0.995931     True     True        False   \n",
       "M25054  inorganic.crystal.volume  0.996287     True     True        False   \n",
       "\n",
       "                                                      url  \n",
       "mId                                                        \n",
       "M23001  http://xenon.ism.ac.jp/mdl/S1/inorganic.crysta...  \n",
       "M23265  http://xenon.ism.ac.jp/mdl/S1/inorganic.crysta...  \n",
       "M24137  http://xenon.ism.ac.jp/mdl/S1/inorganic.crysta...  \n",
       "M23203  http://xenon.ism.ac.jp/mdl/S1/inorganic.crysta...  \n",
       "M25054  http://xenon.ism.ac.jp/mdl/S1/inorganic.crysta...  "
      ]
     },
     "execution_count": 6,
     "metadata": {},
     "output_type": "execute_result"
    }
   ],
   "source": [
    "summary = summary.sort_values('mae')\n",
    "summary.head(5)"
   ]
  },
  {
   "cell_type": "markdown",
   "metadata": {},
   "source": [
    "#### 2. get the first 5 **url**s"
   ]
  },
  {
   "cell_type": "code",
   "execution_count": 7,
   "metadata": {},
   "outputs": [
    {
     "data": {
      "text/plain": [
       "mId\n",
       "M23001    http://xenon.ism.ac.jp/mdl/S1/inorganic.crysta...\n",
       "M23265    http://xenon.ism.ac.jp/mdl/S1/inorganic.crysta...\n",
       "M24137    http://xenon.ism.ac.jp/mdl/S1/inorganic.crysta...\n",
       "M23203    http://xenon.ism.ac.jp/mdl/S1/inorganic.crysta...\n",
       "M25054    http://xenon.ism.ac.jp/mdl/S1/inorganic.crysta...\n",
       "Name: url, dtype: object"
      ]
     },
     "execution_count": 7,
     "metadata": {},
     "output_type": "execute_result"
    }
   ],
   "source": [
    "urls = summary['url'].iloc[:5]\n",
    "urls"
   ]
  },
  {
   "cell_type": "markdown",
   "metadata": {},
   "source": [
    "#### 3. download models by using ``mdl.pull`` method"
   ]
  },
  {
   "cell_type": "code",
   "execution_count": 8,
   "metadata": {},
   "outputs": [
    {
     "name": "stderr",
     "output_type": "stream",
     "text": [
      "100%|██████████| 5/5 [00:28<00:00,  5.56s/it]\n"
     ]
    }
   ],
   "source": [
    "results = mdl.pull(urls)"
   ]
  },
  {
   "cell_type": "markdown",
   "metadata": {},
   "source": [
    "The ``results`` object is a list contains the local paths where the downloaded models are. You can also specific the savoing path by passing a path to the ``save_to`` parameter of ``mel.pull``."
   ]
  },
  {
   "cell_type": "code",
   "execution_count": 9,
   "metadata": {},
   "outputs": [
    {
     "data": {
      "text/plain": [
       "['/Users/liuchang/projects/XenonPy/samples/S1/inorganic.crystal.volume/xenonpy.composition/pytorch.nn.neural_network/04cd-290-281-153-75-21@1',\n",
       " '/Users/liuchang/projects/XenonPy/samples/S1/inorganic.crystal.volume/xenonpy.composition/pytorch.nn.neural_network/ajc1-290-261-122-66-25-10@1',\n",
       " '/Users/liuchang/projects/XenonPy/samples/S1/inorganic.crystal.volume/xenonpy.composition/pytorch.nn.neural_network/rzr8-290-285-177-111-58-27@1',\n",
       " '/Users/liuchang/projects/XenonPy/samples/S1/inorganic.crystal.volume/xenonpy.composition/pytorch.nn.neural_network/p0nx-290-285-126-52-22-13@1',\n",
       " '/Users/liuchang/projects/XenonPy/samples/S1/inorganic.crystal.volume/xenonpy.composition/pytorch.nn.neural_network/r4t2-290-243-131-67-23@1']"
      ]
     },
     "execution_count": 9,
     "metadata": {},
     "output_type": "execute_result"
    }
   ],
   "source": [
    "results"
   ]
  },
  {
   "cell_type": "markdown",
   "metadata": {},
   "source": [
    "### load downloaded models"
   ]
  },
  {
   "cell_type": "markdown",
   "metadata": {},
   "source": [
    "You can use ``xenonpy.model.nn.Checker`` to load downloaded model."
   ]
  },
  {
   "cell_type": "code",
   "execution_count": 10,
   "metadata": {},
   "outputs": [],
   "source": [
    "# --- import necessary libraries\n",
    "\n",
    "from xenonpy.model.nn import Checker\n",
    "\n",
    "checker = Checker.load('S1/inorganic.crystal.volume/xenonpy.composition/pytorch.nn.neural_network/04cd-290-281-153-75-21@1')"
   ]
  },
  {
   "cell_type": "markdown",
   "metadata": {},
   "source": [
    "If successful, use ``checker.trained_model`` to load your model."
   ]
  },
  {
   "cell_type": "code",
   "execution_count": 11,
   "metadata": {},
   "outputs": [
    {
     "name": "stderr",
     "output_type": "stream",
     "text": [
      "/usr/local/miniconda3/envs/xepy37/lib/python3.7/site-packages/torch/serialization.py:435: SourceChangeWarning: source code of class 'torch.nn.modules.container.Sequential' has changed. you can retrieve the original source code by accessing the object's source attribute or set `torch.nn.Module.dump_patches = True` and use the patch tool to revert the changes.\n",
      "  warnings.warn(msg, SourceChangeWarning)\n",
      "/usr/local/miniconda3/envs/xepy37/lib/python3.7/site-packages/torch/serialization.py:435: SourceChangeWarning: source code of class 'torch.nn.modules.linear.Linear' has changed. you can retrieve the original source code by accessing the object's source attribute or set `torch.nn.Module.dump_patches = True` and use the patch tool to revert the changes.\n",
      "  warnings.warn(msg, SourceChangeWarning)\n",
      "/usr/local/miniconda3/envs/xepy37/lib/python3.7/site-packages/torch/serialization.py:435: SourceChangeWarning: source code of class 'torch.nn.modules.batchnorm.BatchNorm1d' has changed. you can retrieve the original source code by accessing the object's source attribute or set `torch.nn.Module.dump_patches = True` and use the patch tool to revert the changes.\n",
      "  warnings.warn(msg, SourceChangeWarning)\n",
      "/usr/local/miniconda3/envs/xepy37/lib/python3.7/site-packages/torch/serialization.py:435: SourceChangeWarning: source code of class 'torch.nn.modules.activation.ReLU' has changed. you can retrieve the original source code by accessing the object's source attribute or set `torch.nn.Module.dump_patches = True` and use the patch tool to revert the changes.\n",
      "  warnings.warn(msg, SourceChangeWarning)\n",
      "/usr/local/miniconda3/envs/xepy37/lib/python3.7/site-packages/torch/serialization.py:435: SourceChangeWarning: source code of class 'torch.nn.modules.dropout.Dropout' has changed. you can retrieve the original source code by accessing the object's source attribute or set `torch.nn.Module.dump_patches = True` and use the patch tool to revert the changes.\n",
      "  warnings.warn(msg, SourceChangeWarning)\n"
     ]
    },
    {
     "data": {
      "text/plain": [
       "Sequential(\n",
       "  (0): Layer1d(\n",
       "    (layer): Linear(in_features=290, out_features=281, bias=True)\n",
       "    (batch_nor): BatchNorm1d(281, eps=1e-05, momentum=0.1, affine=True, track_running_stats=True)\n",
       "    (act_func): ReLU()\n",
       "    (dropout): Dropout(p=0.1)\n",
       "  )\n",
       "  (1): Layer1d(\n",
       "    (layer): Linear(in_features=281, out_features=153, bias=True)\n",
       "    (batch_nor): BatchNorm1d(153, eps=1e-05, momentum=0.1, affine=True, track_running_stats=True)\n",
       "    (act_func): ReLU()\n",
       "    (dropout): Dropout(p=0.1)\n",
       "  )\n",
       "  (2): Layer1d(\n",
       "    (layer): Linear(in_features=153, out_features=75, bias=True)\n",
       "    (batch_nor): BatchNorm1d(75, eps=1e-05, momentum=0.1, affine=True, track_running_stats=True)\n",
       "    (act_func): ReLU()\n",
       "    (dropout): Dropout(p=0.1)\n",
       "  )\n",
       "  (3): Layer1d(\n",
       "    (layer): Linear(in_features=75, out_features=21, bias=True)\n",
       "    (batch_nor): BatchNorm1d(21, eps=1e-05, momentum=0.1, affine=True, track_running_stats=True)\n",
       "    (act_func): ReLU()\n",
       "    (dropout): Dropout(p=0.1)\n",
       "  )\n",
       "  (4): Layer1d(\n",
       "    (layer): Linear(in_features=21, out_features=1, bias=True)\n",
       "  )\n",
       ")"
      ]
     },
     "execution_count": 11,
     "metadata": {},
     "output_type": "execute_result"
    }
   ],
   "source": [
    "checker.trained_model"
   ]
  },
  {
   "cell_type": "markdown",
   "metadata": {},
   "source": [
    "You can list all the information for a download model by printing the ``checker`` object."
   ]
  },
  {
   "cell_type": "code",
   "execution_count": 12,
   "metadata": {},
   "outputs": [
    {
     "data": {
      "text/plain": [
       "<04cd-290-281-153-75-21@1> under `/Users/liuchang/projects/XenonPy/samples/S1/inorganic.crystal.volume/xenonpy.composition/pytorch.nn.neural_network` includes:\n",
       "\"init_model\": 1\n",
       "\"describe\": 1\n",
       "\"y_true\": 1\n",
       "\"y_pred\": 1\n",
       "\"runner\": 1\n",
       "\"y_indices\": 1\n",
       "\"y_true_fit\": 1\n",
       "\"y_scale\": 1\n",
       "\"scores\": 1\n",
       "\"trained_model\": 1\n",
       "\"x_indices\": 1\n",
       "\"x_scale\": 1\n",
       "\"y_pred_fit\": 1"
      ]
     },
     "execution_count": 12,
     "metadata": {},
     "output_type": "execute_result"
    }
   ],
   "source": [
    "checker"
   ]
  },
  {
   "cell_type": "markdown",
   "metadata": {},
   "source": [
    "Some models did a preprocessing on their descriptors or/and their targets before their training. You can use ``*_scaler`` to load the **scaler** they used then do the same tranform to your data. An example is below:"
   ]
  },
  {
   "cell_type": "code",
   "execution_count": 13,
   "metadata": {},
   "outputs": [
    {
     "name": "stderr",
     "output_type": "stream",
     "text": [
      "/usr/local/miniconda3/envs/xepy36/lib/python3.6/site-packages/sklearn/base.py:251: UserWarning: Trying to unpickle estimator StandardScaler from version 0.19.1 when using version 0.20.2. This might lead to breaking code or invalid results. Use at your own risk.\n",
      "  UserWarning)\n"
     ]
    },
    {
     "data": {
      "text/plain": [
       "array([[-2.49565241, -2.73213484, -2.06566775, ..., -0.58267778,\n",
       "        -1.19611066, -1.09948681],\n",
       "       [-2.65095953, -3.50616758, -1.92142292, ..., -0.58267778,\n",
       "        -0.00833578, -1.09948681],\n",
       "       [-2.89849631, -3.62552256, -2.15598929, ..., -0.58267778,\n",
       "        -0.00833578, -1.09948681],\n",
       "       ...,\n",
       "       [-2.25500815, -2.8593988 , -2.01746408, ..., -0.58267778,\n",
       "        -1.19611066, -1.09948681],\n",
       "       [-2.2047618 , -3.04141036, -2.06635113, ..., -0.58267778,\n",
       "        -1.19611066, -1.09948681],\n",
       "       [-2.53906384, -3.25755408, -2.09805685, ..., -0.58267778,\n",
       "        -1.19611066, -1.09948681]])"
      ]
     },
     "execution_count": 13,
     "metadata": {},
     "output_type": "execute_result"
    }
   ],
   "source": [
    "# --- scale transform\n",
    "\n",
    "X_scaler = check.last('x_scale')\n",
    "pg_desc_ = X_scaler.transform(<your_descrpitor>)\n",
    "pg_desc_"
   ]
  },
  {
   "cell_type": "markdown",
   "metadata": {},
   "source": [
    "### download R model\n",
    "\n",
    "There are also a lot of R models in **XenonPy.MDL**, download them is exactly the same works like we did above. Just use ``lang_has='r'`` when querying."
   ]
  },
  {
   "cell_type": "code",
   "execution_count": 14,
   "metadata": {},
   "outputs": [],
   "source": [
    "from xenonpy.datatools import MDL\n",
    "\n",
    "mdl = MDL()\n",
    "\n",
    "summary = mdl(modelset_has=\"QM9\",  # sub string in the name of modelset\n",
    "              property_has=\"hartree\", # substring for property name\n",
    "              lang_has='r',\n",
    "              save_to=None  #  set to False to prevent download.\n",
    "             )"
   ]
  },
  {
   "cell_type": "code",
   "execution_count": 15,
   "metadata": {},
   "outputs": [
    {
     "data": {
      "text/html": [
       "<div>\n",
       "<style scoped>\n",
       "    .dataframe tbody tr th:only-of-type {\n",
       "        vertical-align: middle;\n",
       "    }\n",
       "\n",
       "    .dataframe tbody tr th {\n",
       "        vertical-align: top;\n",
       "    }\n",
       "\n",
       "    .dataframe thead th {\n",
       "        text-align: right;\n",
       "    }\n",
       "</style>\n",
       "<table border=\"1\" class=\"dataframe\">\n",
       "  <thead>\n",
       "    <tr style=\"text-align: right;\">\n",
       "      <th></th>\n",
       "      <th>descriptor</th>\n",
       "      <th>lang</th>\n",
       "      <th>mae</th>\n",
       "      <th>method</th>\n",
       "      <th>modelSet</th>\n",
       "      <th>property</th>\n",
       "      <th>r</th>\n",
       "      <th>regress</th>\n",
       "      <th>succeed</th>\n",
       "      <th>transferred</th>\n",
       "      <th>url</th>\n",
       "    </tr>\n",
       "    <tr>\n",
       "      <th>mId</th>\n",
       "      <th></th>\n",
       "      <th></th>\n",
       "      <th></th>\n",
       "      <th></th>\n",
       "      <th></th>\n",
       "      <th></th>\n",
       "      <th></th>\n",
       "      <th></th>\n",
       "      <th></th>\n",
       "      <th></th>\n",
       "      <th></th>\n",
       "    </tr>\n",
       "  </thead>\n",
       "  <tbody>\n",
       "    <tr>\n",
       "      <th>M18001</th>\n",
       "      <td>rcdk.fp.fingerprint</td>\n",
       "      <td>r</td>\n",
       "      <td>15.8705</td>\n",
       "      <td>mxnet.nn.neural_network</td>\n",
       "      <td>QM9 Dataset from Quantum-Machine project</td>\n",
       "      <td>organic.nonpolymer.g_hartree</td>\n",
       "      <td>0.8282</td>\n",
       "      <td>True</td>\n",
       "      <td>True</td>\n",
       "      <td>False</td>\n",
       "      <td>http://xenon.ism.ac.jp/mdl/S3/organic.nonpolym...</td>\n",
       "    </tr>\n",
       "    <tr>\n",
       "      <th>M18002</th>\n",
       "      <td>rcdk.fp.fingerprint</td>\n",
       "      <td>r</td>\n",
       "      <td>19.7939</td>\n",
       "      <td>mxnet.nn.neural_network</td>\n",
       "      <td>QM9 Dataset from Quantum-Machine project</td>\n",
       "      <td>organic.nonpolymer.g_hartree</td>\n",
       "      <td>0.7890</td>\n",
       "      <td>True</td>\n",
       "      <td>True</td>\n",
       "      <td>False</td>\n",
       "      <td>http://xenon.ism.ac.jp/mdl/S3/organic.nonpolym...</td>\n",
       "    </tr>\n",
       "    <tr>\n",
       "      <th>M18003</th>\n",
       "      <td>rcdk.fp.fingerprint</td>\n",
       "      <td>r</td>\n",
       "      <td>14.9261</td>\n",
       "      <td>mxnet.nn.neural_network</td>\n",
       "      <td>QM9 Dataset from Quantum-Machine project</td>\n",
       "      <td>organic.nonpolymer.g_hartree</td>\n",
       "      <td>0.8510</td>\n",
       "      <td>True</td>\n",
       "      <td>True</td>\n",
       "      <td>False</td>\n",
       "      <td>http://xenon.ism.ac.jp/mdl/S3/organic.nonpolym...</td>\n",
       "    </tr>\n",
       "  </tbody>\n",
       "</table>\n",
       "</div>"
      ],
      "text/plain": [
       "                 descriptor lang      mae                   method  \\\n",
       "mId                                                                  \n",
       "M18001  rcdk.fp.fingerprint    r  15.8705  mxnet.nn.neural_network   \n",
       "M18002  rcdk.fp.fingerprint    r  19.7939  mxnet.nn.neural_network   \n",
       "M18003  rcdk.fp.fingerprint    r  14.9261  mxnet.nn.neural_network   \n",
       "\n",
       "                                        modelSet  \\\n",
       "mId                                                \n",
       "M18001  QM9 Dataset from Quantum-Machine project   \n",
       "M18002  QM9 Dataset from Quantum-Machine project   \n",
       "M18003  QM9 Dataset from Quantum-Machine project   \n",
       "\n",
       "                            property       r  regress  succeed  transferred  \\\n",
       "mId                                                                           \n",
       "M18001  organic.nonpolymer.g_hartree  0.8282     True     True        False   \n",
       "M18002  organic.nonpolymer.g_hartree  0.7890     True     True        False   \n",
       "M18003  organic.nonpolymer.g_hartree  0.8510     True     True        False   \n",
       "\n",
       "                                                      url  \n",
       "mId                                                        \n",
       "M18001  http://xenon.ism.ac.jp/mdl/S3/organic.nonpolym...  \n",
       "M18002  http://xenon.ism.ac.jp/mdl/S3/organic.nonpolym...  \n",
       "M18003  http://xenon.ism.ac.jp/mdl/S3/organic.nonpolym...  "
      ]
     },
     "execution_count": 15,
     "metadata": {},
     "output_type": "execute_result"
    }
   ],
   "source": [
    "summary.head(3)"
   ]
  },
  {
   "cell_type": "code",
   "execution_count": 16,
   "metadata": {},
   "outputs": [
    {
     "name": "stderr",
     "output_type": "stream",
     "text": [
      "100%|██████████| 3/3 [00:39<00:00, 12.63s/it]\n"
     ]
    }
   ],
   "source": [
    "urls = summary['url'].iloc[:3]\n",
    "results = mdl.pull(urls)"
   ]
  },
  {
   "cell_type": "code",
   "execution_count": 17,
   "metadata": {},
   "outputs": [
    {
     "data": {
      "text/plain": [
       "['/Users/liuchang/projects/XenonPy/samples/S3/organic.nonpolymer.g_hartree/rcdk.fp.fingerprint/mxnet.nn.neural_network/shotgun_G_Hartree_randFP1021_corr-0.8282_mxnet_400-81-10-1_2018-04-20',\n",
       " '/Users/liuchang/projects/XenonPy/samples/S3/organic.nonpolymer.g_hartree/rcdk.fp.fingerprint/mxnet.nn.neural_network/shotgun_G_Hartree_randFP1026_corr-0.789_mxnet_266-127-94-10-1_2018-04-20',\n",
       " '/Users/liuchang/projects/XenonPy/samples/S3/organic.nonpolymer.g_hartree/rcdk.fp.fingerprint/mxnet.nn.neural_network/shotgun_G_Hartree_randFP1033_corr-0.851_mxnet_150-65-21-1_2018-04-20']"
      ]
     },
     "execution_count": 17,
     "metadata": {},
     "output_type": "execute_result"
    }
   ],
   "source": [
    "results"
   ]
  },
  {
   "cell_type": "markdown",
   "metadata": {},
   "source": [
    "**R tutorials will be released later.**"
   ]
  },
  {
   "cell_type": "code",
   "execution_count": null,
   "metadata": {},
   "outputs": [],
   "source": []
  }
 ],
 "metadata": {
  "kernelspec": {
   "display_name": "Python 3",
   "language": "python",
   "name": "python3"
  },
  "language_info": {
   "codemirror_mode": {
    "name": "ipython",
    "version": 3
   },
   "file_extension": ".py",
   "mimetype": "text/x-python",
   "name": "python",
   "nbconvert_exporter": "python",
   "pygments_lexer": "ipython3",
   "version": "3.7.2"
  }
 },
 "nbformat": 4,
 "nbformat_minor": 2
}
