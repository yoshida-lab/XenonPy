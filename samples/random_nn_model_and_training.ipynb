{
 "cells": [
  {
   "cell_type": "markdown",
   "metadata": {
    "slideshow": {
     "slide_type": "-"
    }
   },
   "source": [
    "# Random NN modes"
   ]
  },
  {
   "cell_type": "markdown",
   "metadata": {},
   "source": [
    "This tutorial shows how to calculate descriptors using `xenonpy.descriptor` system. We will calculate compositional and structural descriptors using `xenonpy.descriptor.Compositions` and `xenonpy.descriptor.Structures` respectively.\n",
    "\n",
    "We need some sample data to execute these calculations. If you don't have it, please see https://github.com/yoshida-lab/XenonPy/blob/master/samples/build_sample_data.ipynb."
   ]
  },
  {
   "cell_type": "markdown",
   "metadata": {},
   "source": [
    "### useful functions\n",
    "\n",
    "Run this cell will load some well-used packages such as `numpy`, `pandas`, and so on.\n",
    "The running will also import some valuable functions which are written by ourselves.\n",
    "There is no magic,  see `samples/tools.ipynb` to know what will be imported."
   ]
  },
  {
   "cell_type": "code",
   "execution_count": 1,
   "metadata": {},
   "outputs": [],
   "source": [
    "%run tools.ipynb"
   ]
  },
  {
   "cell_type": "markdown",
   "metadata": {},
   "source": [
    "### sequential linear model"
   ]
  },
  {
   "cell_type": "markdown",
   "metadata": {},
   "source": [
    "`SequentialLinear` is a sequential model."
   ]
  },
  {
   "cell_type": "code",
   "execution_count": 2,
   "metadata": {},
   "outputs": [
    {
     "data": {
      "text/plain": [
       "\u001b[0;31mInit signature:\u001b[0m\n",
       "\u001b[0mSequentialLinear\u001b[0m\u001b[0;34m(\u001b[0m\u001b[0;34m\u001b[0m\n",
       "\u001b[0;34m\u001b[0m    \u001b[0min_features\u001b[0m\u001b[0;34m:\u001b[0m \u001b[0mint\u001b[0m\u001b[0;34m,\u001b[0m\u001b[0;34m\u001b[0m\n",
       "\u001b[0;34m\u001b[0m    \u001b[0mout_features\u001b[0m\u001b[0;34m:\u001b[0m \u001b[0mint\u001b[0m\u001b[0;34m,\u001b[0m\u001b[0;34m\u001b[0m\n",
       "\u001b[0;34m\u001b[0m    \u001b[0mbias\u001b[0m\u001b[0;34m:\u001b[0m \u001b[0mbool\u001b[0m \u001b[0;34m=\u001b[0m \u001b[0;32mTrue\u001b[0m\u001b[0;34m,\u001b[0m\u001b[0;34m\u001b[0m\n",
       "\u001b[0;34m\u001b[0m    \u001b[0;34m*\u001b[0m\u001b[0;34m,\u001b[0m\u001b[0;34m\u001b[0m\n",
       "\u001b[0;34m\u001b[0m    \u001b[0mh_neurons\u001b[0m\u001b[0;34m:\u001b[0m \u001b[0mUnion\u001b[0m\u001b[0;34m[\u001b[0m\u001b[0mTuple\u001b[0m\u001b[0;34m[\u001b[0m\u001b[0mfloat\u001b[0m\u001b[0;34m,\u001b[0m \u001b[0;34m...\u001b[0m\u001b[0;34m]\u001b[0m\u001b[0;34m,\u001b[0m \u001b[0mTuple\u001b[0m\u001b[0;34m[\u001b[0m\u001b[0mint\u001b[0m\u001b[0;34m,\u001b[0m \u001b[0;34m...\u001b[0m\u001b[0;34m]\u001b[0m\u001b[0;34m]\u001b[0m \u001b[0;34m=\u001b[0m \u001b[0;34m(\u001b[0m\u001b[0;34m)\u001b[0m\u001b[0;34m,\u001b[0m\u001b[0;34m\u001b[0m\n",
       "\u001b[0;34m\u001b[0m    \u001b[0mh_bias\u001b[0m\u001b[0;34m:\u001b[0m \u001b[0mUnion\u001b[0m\u001b[0;34m[\u001b[0m\u001b[0mbool\u001b[0m\u001b[0;34m,\u001b[0m \u001b[0mTuple\u001b[0m\u001b[0;34m[\u001b[0m\u001b[0mbool\u001b[0m\u001b[0;34m,\u001b[0m \u001b[0;34m...\u001b[0m\u001b[0;34m]\u001b[0m\u001b[0;34m]\u001b[0m \u001b[0;34m=\u001b[0m \u001b[0;32mTrue\u001b[0m\u001b[0;34m,\u001b[0m\u001b[0;34m\u001b[0m\n",
       "\u001b[0;34m\u001b[0m    \u001b[0mh_dropouts\u001b[0m\u001b[0;34m:\u001b[0m \u001b[0mUnion\u001b[0m\u001b[0;34m[\u001b[0m\u001b[0mfloat\u001b[0m\u001b[0;34m,\u001b[0m \u001b[0mTuple\u001b[0m\u001b[0;34m[\u001b[0m\u001b[0mfloat\u001b[0m\u001b[0;34m,\u001b[0m \u001b[0;34m...\u001b[0m\u001b[0;34m]\u001b[0m\u001b[0;34m]\u001b[0m \u001b[0;34m=\u001b[0m \u001b[0;36m0.1\u001b[0m\u001b[0;34m,\u001b[0m\u001b[0;34m\u001b[0m\n",
       "\u001b[0;34m\u001b[0m    \u001b[0mh_normalizers\u001b[0m\u001b[0;34m:\u001b[0m \u001b[0mUnion\u001b[0m\u001b[0;34m[\u001b[0m\u001b[0mfloat\u001b[0m\u001b[0;34m,\u001b[0m \u001b[0mNoneType\u001b[0m\u001b[0;34m,\u001b[0m \u001b[0mTuple\u001b[0m\u001b[0;34m[\u001b[0m\u001b[0mUnion\u001b[0m\u001b[0;34m[\u001b[0m\u001b[0mfloat\u001b[0m\u001b[0;34m,\u001b[0m \u001b[0mNoneType\u001b[0m\u001b[0;34m]\u001b[0m\u001b[0;34m,\u001b[0m \u001b[0;34m...\u001b[0m\u001b[0;34m]\u001b[0m\u001b[0;34m]\u001b[0m \u001b[0;34m=\u001b[0m \u001b[0;36m0.1\u001b[0m\u001b[0;34m,\u001b[0m\u001b[0;34m\u001b[0m\n",
       "\u001b[0;34m\u001b[0m    \u001b[0mh_activation_funcs\u001b[0m\u001b[0;34m:\u001b[0m \u001b[0mUnion\u001b[0m\u001b[0;34m[\u001b[0m\u001b[0mCallable\u001b[0m\u001b[0;34m,\u001b[0m \u001b[0mNoneType\u001b[0m\u001b[0;34m,\u001b[0m \u001b[0mTuple\u001b[0m\u001b[0;34m[\u001b[0m\u001b[0mUnion\u001b[0m\u001b[0;34m[\u001b[0m\u001b[0mCallable\u001b[0m\u001b[0;34m,\u001b[0m \u001b[0mNoneType\u001b[0m\u001b[0;34m]\u001b[0m\u001b[0;34m,\u001b[0m \u001b[0;34m...\u001b[0m\u001b[0;34m]\u001b[0m\u001b[0;34m]\u001b[0m \u001b[0;34m=\u001b[0m \u001b[0mReLU\u001b[0m\u001b[0;34m(\u001b[0m\u001b[0;34m)\u001b[0m\u001b[0;34m,\u001b[0m\u001b[0;34m\u001b[0m\n",
       "\u001b[0;34m\u001b[0m\u001b[0;34m)\u001b[0m\u001b[0;34m\u001b[0m\u001b[0;34m\u001b[0m\u001b[0m\n",
       "\u001b[0;31mDocstring:\u001b[0m     \n",
       "Sequential model with linear layers and configurable other hype-parameters.\n",
       "e.g. ``dropout``, ``hidden layers``\n",
       "\u001b[0;31mInit docstring:\u001b[0m\n",
       "Parameters\n",
       "----------\n",
       "in_features\n",
       "    Size of input.\n",
       "out_features\n",
       "    Size of output.\n",
       "bias\n",
       "    Enable ``bias`` in input layer.\n",
       "h_neurons\n",
       "    Number of neurons in hidden layers.\n",
       "    Can be a tuple of floats. In that case,\n",
       "    all these numbers will be used to calculate the neuron numbers.\n",
       "    e.g. (0.5, 0.4, ...) will be expanded as (in_features * 0.5, in_features * 0.4, ...)\n",
       "h_bias\n",
       "    ``bias`` in hidden layers.\n",
       "h_dropouts\n",
       "    Probabilities of dropout in hidden layers.\n",
       "h_normalizers\n",
       "    Momentum of batched normalizers in hidden layers.\n",
       "h_activation_funcs\n",
       "    Activation functions in hidden layers.\n",
       "\u001b[0;31mFile:\u001b[0m           ~/projects/xenonpy/xenonpy/model/sequential.py\n",
       "\u001b[0;31mType:\u001b[0m           type\n",
       "\u001b[0;31mSubclasses:\u001b[0m     \n"
      ]
     },
     "metadata": {},
     "output_type": "display_data"
    }
   ],
   "source": [
    "from xenonpy.model import SequentialLinear\n",
    "SequentialLinear?"
   ]
  },
  {
   "cell_type": "code",
   "execution_count": 3,
   "metadata": {},
   "outputs": [
    {
     "data": {
      "text/plain": [
       "SequentialLinear(\n",
       "  (layer_0): LinearLayer(\n",
       "    (linear): Linear(in_features=290, out_features=232, bias=True)\n",
       "    (dropout): Dropout(p=0.1, inplace=False)\n",
       "    (normalizer): BatchNorm1d(232, eps=0.1, momentum=0.1, affine=True, track_running_stats=True)\n",
       "    (activation): ReLU()\n",
       "  )\n",
       "  (layer_1): LinearLayer(\n",
       "    (linear): Linear(in_features=232, out_features=203, bias=True)\n",
       "    (dropout): Dropout(p=0.1, inplace=False)\n",
       "    (normalizer): BatchNorm1d(203, eps=0.1, momentum=0.1, affine=True, track_running_stats=True)\n",
       "    (activation): ReLU()\n",
       "  )\n",
       "  (layer_2): LinearLayer(\n",
       "    (linear): Linear(in_features=203, out_features=174, bias=True)\n",
       "    (dropout): Dropout(p=0.1, inplace=False)\n",
       "    (normalizer): BatchNorm1d(174, eps=0.1, momentum=0.1, affine=True, track_running_stats=True)\n",
       "    (activation): ReLU()\n",
       "  )\n",
       "  (output): Linear(in_features=174, out_features=1, bias=True)\n",
       ")"
      ]
     },
     "execution_count": 3,
     "metadata": {},
     "output_type": "execute_result"
    }
   ],
   "source": [
    "model = SequentialLinear(290, 1, h_neurons=(0.8, 0.7, 0.6))\n",
    "model"
   ]
  },
  {
   "cell_type": "markdown",
   "metadata": {},
   "source": [
    "### fully randomized model"
   ]
  },
  {
   "cell_type": "code",
   "execution_count": 4,
   "metadata": {},
   "outputs": [],
   "source": [
    "from math import ceil\n",
    "from random import uniform\n",
    "\n",
    "from xenonpy.model.utils import ParameterGenerator\n",
    "\n",
    "generator = ParameterGenerator(\n",
    "    in_features=290,\n",
    "    out_features=1,\n",
    "    h_neurons=dict(\n",
    "        data=[ceil(uniform(0.1, 1.2) * 290) for _ in range(100)], \n",
    "        repeat=(2, 3, 4, 5)\n",
    "    )\n",
    ")"
   ]
  },
  {
   "cell_type": "markdown",
   "metadata": {},
   "source": [
    "Call a instance of `ParameterGenerator` will return a generator.\n",
    "This generator can randomly selected parameters from parameter candidate and yield them as a dict.\n",
    "\n",
    "Use `for parameters in pg(num_of_models)` to get these parameters. "
   ]
  },
  {
   "cell_type": "code",
   "execution_count": 5,
   "metadata": {},
   "outputs": [
    {
     "name": "stdout",
     "output_type": "stream",
     "text": [
      "{'in_features': 290, 'out_features': 1, 'h_neurons': (80, 133)}\n",
      "{'in_features': 290, 'out_features': 1, 'h_neurons': (314, 41, 57, 293, 314)}\n",
      "{'in_features': 290, 'out_features': 1, 'h_neurons': (71, 306)}\n",
      "{'in_features': 290, 'out_features': 1, 'h_neurons': (104, 134, 147)}\n",
      "{'in_features': 290, 'out_features': 1, 'h_neurons': (183, 74, 249, 153, 75)}\n",
      "{'in_features': 290, 'out_features': 1, 'h_neurons': (33, 318, 100, 154)}\n",
      "{'in_features': 290, 'out_features': 1, 'h_neurons': (150, 97, 154)}\n",
      "{'in_features': 290, 'out_features': 1, 'h_neurons': (104, 104, 174, 342)}\n",
      "{'in_features': 290, 'out_features': 1, 'h_neurons': (211, 158, 46, 185, 256)}\n",
      "{'in_features': 290, 'out_features': 1, 'h_neurons': (206, 202, 348, 36)}\n"
     ]
    }
   ],
   "source": [
    "for parameters in generator(num=10):\n",
    "    print(parameters)"
   ]
  },
  {
   "cell_type": "markdown",
   "metadata": {},
   "source": [
    "Feed a model class to the call of instance is possible. In that case, model class will be used as a factory function, by feeding generated parameters into the factory function, new models will be yield as the second parameter. "
   ]
  },
  {
   "cell_type": "code",
   "execution_count": 6,
   "metadata": {},
   "outputs": [
    {
     "name": "stdout",
     "output_type": "stream",
     "text": [
      "parameters:  {'in_features': 290, 'out_features': 1, 'h_neurons': (158, 75, 249, 232)}\n",
      "SequentialLinear(\n",
      "  (layer_0): LinearLayer(\n",
      "    (linear): Linear(in_features=290, out_features=158, bias=True)\n",
      "    (dropout): Dropout(p=0.1, inplace=False)\n",
      "    (normalizer): BatchNorm1d(158, eps=0.1, momentum=0.1, affine=True, track_running_stats=True)\n",
      "    (activation): ReLU()\n",
      "  )\n",
      "  (layer_1): LinearLayer(\n",
      "    (linear): Linear(in_features=158, out_features=75, bias=True)\n",
      "    (dropout): Dropout(p=0.1, inplace=False)\n",
      "    (normalizer): BatchNorm1d(75, eps=0.1, momentum=0.1, affine=True, track_running_stats=True)\n",
      "    (activation): ReLU()\n",
      "  )\n",
      "  (layer_2): LinearLayer(\n",
      "    (linear): Linear(in_features=75, out_features=249, bias=True)\n",
      "    (dropout): Dropout(p=0.1, inplace=False)\n",
      "    (normalizer): BatchNorm1d(249, eps=0.1, momentum=0.1, affine=True, track_running_stats=True)\n",
      "    (activation): ReLU()\n",
      "  )\n",
      "  (layer_3): LinearLayer(\n",
      "    (linear): Linear(in_features=249, out_features=232, bias=True)\n",
      "    (dropout): Dropout(p=0.1, inplace=False)\n",
      "    (normalizer): BatchNorm1d(232, eps=0.1, momentum=0.1, affine=True, track_running_stats=True)\n",
      "    (activation): ReLU()\n",
      "  )\n",
      "  (output): Linear(in_features=232, out_features=1, bias=True)\n",
      ")\n"
     ]
    }
   ],
   "source": [
    "for parameters, model in generator(1, factory=SequentialLinear):\n",
    "    print('parameters: ', parameters)\n",
    "    print(model)"
   ]
  },
  {
   "cell_type": "markdown",
   "metadata": {},
   "source": [
    "### scheduled random model"
   ]
  },
  {
   "cell_type": "markdown",
   "metadata": {},
   "source": [
    "Candidate parameters can be a function. In this case, the function return generated parameters follow the input number."
   ]
  },
  {
   "cell_type": "code",
   "execution_count": 7,
   "metadata": {},
   "outputs": [],
   "source": [
    "generator = ParameterGenerator(\n",
    "    in_features=290,\n",
    "    out_features=1,\n",
    "    h_neurons=dict(\n",
    "        data=lambda n: sorted(np.random.uniform(0.2, 0.8, size=n), reverse=True), \n",
    "        repeat=(2, 3, 4, 5)\n",
    "    )\n",
    ")"
   ]
  },
  {
   "cell_type": "code",
   "execution_count": 8,
   "metadata": {},
   "outputs": [
    {
     "name": "stdout",
     "output_type": "stream",
     "text": [
      "parameters:  {'in_features': 290, 'out_features': 1, 'h_neurons': (0.7898911531921178, 0.43208771466307383, 0.39546221430188244)}\n",
      "SequentialLinear(\n",
      "  (layer_0): LinearLayer(\n",
      "    (linear): Linear(in_features=290, out_features=230, bias=True)\n",
      "    (dropout): Dropout(p=0.1, inplace=False)\n",
      "    (normalizer): BatchNorm1d(230, eps=0.1, momentum=0.1, affine=True, track_running_stats=True)\n",
      "    (activation): ReLU()\n",
      "  )\n",
      "  (layer_1): LinearLayer(\n",
      "    (linear): Linear(in_features=230, out_features=126, bias=True)\n",
      "    (dropout): Dropout(p=0.1, inplace=False)\n",
      "    (normalizer): BatchNorm1d(126, eps=0.1, momentum=0.1, affine=True, track_running_stats=True)\n",
      "    (activation): ReLU()\n",
      "  )\n",
      "  (layer_2): LinearLayer(\n",
      "    (linear): Linear(in_features=126, out_features=115, bias=True)\n",
      "    (dropout): Dropout(p=0.1, inplace=False)\n",
      "    (normalizer): BatchNorm1d(115, eps=0.1, momentum=0.1, affine=True, track_running_stats=True)\n",
      "    (activation): ReLU()\n",
      "  )\n",
      "  (output): Linear(in_features=115, out_features=1, bias=True)\n",
      ")\n"
     ]
    }
   ],
   "source": [
    "for parameters, model in generator(1, factory=SequentialLinear):\n",
    "    print('parameters: ', parameters)\n",
    "    print(model)"
   ]
  },
  {
   "cell_type": "markdown",
   "metadata": {},
   "source": [
    "### modle training\n",
    "\n",
    "Use `xenonpy.model.training.Trainer` and plug-ins to train a model."
   ]
  },
  {
   "cell_type": "code",
   "execution_count": 9,
   "metadata": {},
   "outputs": [],
   "source": [
    "import torch\n",
    "import matplotlib.pyplot as plt\n",
    "import plotly.express as px\n",
    "import seaborn as sns\n",
    "from torch.utils.data import DataLoader\n",
    "from pymatgen import Structure\n",
    "\n",
    "from xenonpy.model.training import Trainer, SGD, MSELoss, Adam, ReduceLROnPlateau, ExponentialLR, ClipNorm\n",
    "from xenonpy.model.training.extension import Validator, TensorConverter, Persist\n",
    "from xenonpy.model.training.dataset import ArrayDataset, CrystalGraphDataset\n",
    "from xenonpy.model.utils import regression_metrics\n",
    "\n",
    "from xenonpy.datatools import preset, Splitter\n",
    "from xenonpy.descriptor import Compositions"
   ]
  },
  {
   "cell_type": "code",
   "execution_count": 10,
   "metadata": {},
   "outputs": [
    {
     "data": {
      "text/html": [
       "<div>\n",
       "<style scoped>\n",
       "    .dataframe tbody tr th:only-of-type {\n",
       "        vertical-align: middle;\n",
       "    }\n",
       "\n",
       "    .dataframe tbody tr th {\n",
       "        vertical-align: top;\n",
       "    }\n",
       "\n",
       "    .dataframe thead th {\n",
       "        text-align: right;\n",
       "    }\n",
       "</style>\n",
       "<table border=\"1\" class=\"dataframe\">\n",
       "  <thead>\n",
       "    <tr style=\"text-align: right;\">\n",
       "      <th></th>\n",
       "      <th>band_gap</th>\n",
       "      <th>composition</th>\n",
       "      <th>density</th>\n",
       "      <th>e_above_hull</th>\n",
       "      <th>efermi</th>\n",
       "      <th>elements</th>\n",
       "      <th>final_energy_per_atom</th>\n",
       "      <th>formation_energy_per_atom</th>\n",
       "      <th>pretty_formula</th>\n",
       "      <th>structure</th>\n",
       "      <th>volume</th>\n",
       "    </tr>\n",
       "  </thead>\n",
       "  <tbody>\n",
       "    <tr>\n",
       "      <td>mp-1008807</td>\n",
       "      <td>0.0000</td>\n",
       "      <td>{'Rb': 1.0, 'Cu': 1.0, 'O': 1.0}</td>\n",
       "      <td>4.784634</td>\n",
       "      <td>0.996372</td>\n",
       "      <td>1.100617</td>\n",
       "      <td>[Rb, Cu, O]</td>\n",
       "      <td>-3.302762</td>\n",
       "      <td>-0.186408</td>\n",
       "      <td>RbCuO</td>\n",
       "      <td>[[-3.05935361 -3.05935361 -3.05935361] Rb, [0....</td>\n",
       "      <td>57.268924</td>\n",
       "    </tr>\n",
       "    <tr>\n",
       "      <td>mp-1009640</td>\n",
       "      <td>0.0000</td>\n",
       "      <td>{'Pr': 1.0, 'N': 1.0}</td>\n",
       "      <td>8.145777</td>\n",
       "      <td>0.759393</td>\n",
       "      <td>5.213442</td>\n",
       "      <td>[Pr, N]</td>\n",
       "      <td>-7.082624</td>\n",
       "      <td>-0.714336</td>\n",
       "      <td>PrN</td>\n",
       "      <td>[[0. 0. 0.] Pr, [1.57925232 1.57925232 1.58276...</td>\n",
       "      <td>31.579717</td>\n",
       "    </tr>\n",
       "    <tr>\n",
       "      <td>mp-1016825</td>\n",
       "      <td>0.7745</td>\n",
       "      <td>{'Hf': 1.0, 'Mg': 1.0, 'O': 3.0}</td>\n",
       "      <td>6.165888</td>\n",
       "      <td>0.589550</td>\n",
       "      <td>2.424570</td>\n",
       "      <td>[Hf, Mg, O]</td>\n",
       "      <td>-7.911723</td>\n",
       "      <td>-3.060060</td>\n",
       "      <td>HfMgO3</td>\n",
       "      <td>[[2.03622802 2.03622802 2.03622802] Hf, [0. 0....</td>\n",
       "      <td>67.541269</td>\n",
       "    </tr>\n",
       "    <tr>\n",
       "      <td>mp-1017582</td>\n",
       "      <td>0.0000</td>\n",
       "      <td>{'La': 1.0, 'Pt': 3.0, 'C': 1.0}</td>\n",
       "      <td>14.284261</td>\n",
       "      <td>0.523635</td>\n",
       "      <td>8.160496</td>\n",
       "      <td>[La, Pt, C]</td>\n",
       "      <td>-6.684482</td>\n",
       "      <td>-0.215712</td>\n",
       "      <td>LaPt3C</td>\n",
       "      <td>[[0. 0. 0.] La, [0.         2.20339716 2.20339...</td>\n",
       "      <td>85.579224</td>\n",
       "    </tr>\n",
       "    <tr>\n",
       "      <td>mp-1021511</td>\n",
       "      <td>1.5186</td>\n",
       "      <td>{'Cd': 1.0, 'S': 1.0}</td>\n",
       "      <td>2.582691</td>\n",
       "      <td>0.252860</td>\n",
       "      <td>-2.121180</td>\n",
       "      <td>[Cd, S]</td>\n",
       "      <td>-2.909105</td>\n",
       "      <td>-0.719529</td>\n",
       "      <td>CdS</td>\n",
       "      <td>[[2.12807605 1.22864286 2.67990375] Cd, [-2.46...</td>\n",
       "      <td>92.890725</td>\n",
       "    </tr>\n",
       "  </tbody>\n",
       "</table>\n",
       "</div>"
      ],
      "text/plain": [
       "            band_gap                       composition    density  \\\n",
       "mp-1008807    0.0000  {'Rb': 1.0, 'Cu': 1.0, 'O': 1.0}   4.784634   \n",
       "mp-1009640    0.0000             {'Pr': 1.0, 'N': 1.0}   8.145777   \n",
       "mp-1016825    0.7745  {'Hf': 1.0, 'Mg': 1.0, 'O': 3.0}   6.165888   \n",
       "mp-1017582    0.0000  {'La': 1.0, 'Pt': 3.0, 'C': 1.0}  14.284261   \n",
       "mp-1021511    1.5186             {'Cd': 1.0, 'S': 1.0}   2.582691   \n",
       "\n",
       "            e_above_hull    efermi     elements  final_energy_per_atom  \\\n",
       "mp-1008807      0.996372  1.100617  [Rb, Cu, O]              -3.302762   \n",
       "mp-1009640      0.759393  5.213442      [Pr, N]              -7.082624   \n",
       "mp-1016825      0.589550  2.424570  [Hf, Mg, O]              -7.911723   \n",
       "mp-1017582      0.523635  8.160496  [La, Pt, C]              -6.684482   \n",
       "mp-1021511      0.252860 -2.121180      [Cd, S]              -2.909105   \n",
       "\n",
       "            formation_energy_per_atom pretty_formula  \\\n",
       "mp-1008807                  -0.186408          RbCuO   \n",
       "mp-1009640                  -0.714336            PrN   \n",
       "mp-1016825                  -3.060060         HfMgO3   \n",
       "mp-1017582                  -0.215712         LaPt3C   \n",
       "mp-1021511                  -0.719529            CdS   \n",
       "\n",
       "                                                    structure     volume  \n",
       "mp-1008807  [[-3.05935361 -3.05935361 -3.05935361] Rb, [0....  57.268924  \n",
       "mp-1009640  [[0. 0. 0.] Pr, [1.57925232 1.57925232 1.58276...  31.579717  \n",
       "mp-1016825  [[2.03622802 2.03622802 2.03622802] Hf, [0. 0....  67.541269  \n",
       "mp-1017582  [[0. 0. 0.] La, [0.         2.20339716 2.20339...  85.579224  \n",
       "mp-1021511  [[2.12807605 1.22864286 2.67990375] Cd, [-2.46...  92.890725  "
      ]
     },
     "execution_count": 10,
     "metadata": {},
     "output_type": "execute_result"
    }
   ],
   "source": [
    "# if you have not have the samples data\n",
    "# preset.build('mp_samples', api_key=<your materials project api key>)\n",
    "\n",
    "data = preset.mp_samples\n",
    "data.head(5)"
   ]
  },
  {
   "cell_type": "code",
   "execution_count": 11,
   "metadata": {},
   "outputs": [
    {
     "data": {
      "text/html": [
       "<div>\n",
       "<style scoped>\n",
       "    .dataframe tbody tr th:only-of-type {\n",
       "        vertical-align: middle;\n",
       "    }\n",
       "\n",
       "    .dataframe tbody tr th {\n",
       "        vertical-align: top;\n",
       "    }\n",
       "\n",
       "    .dataframe thead th {\n",
       "        text-align: right;\n",
       "    }\n",
       "</style>\n",
       "<table border=\"1\" class=\"dataframe\">\n",
       "  <thead>\n",
       "    <tr style=\"text-align: right;\">\n",
       "      <th></th>\n",
       "      <th>ave:atomic_number</th>\n",
       "      <th>ave:atomic_radius</th>\n",
       "      <th>ave:atomic_radius_rahm</th>\n",
       "      <th>ave:atomic_volume</th>\n",
       "      <th>ave:atomic_weight</th>\n",
       "      <th>ave:boiling_point</th>\n",
       "      <th>ave:bulk_modulus</th>\n",
       "      <th>ave:c6_gb</th>\n",
       "      <th>ave:covalent_radius_cordero</th>\n",
       "      <th>ave:covalent_radius_pyykko</th>\n",
       "      <th>...</th>\n",
       "      <th>min:num_s_valence</th>\n",
       "      <th>min:period</th>\n",
       "      <th>min:specific_heat</th>\n",
       "      <th>min:thermal_conductivity</th>\n",
       "      <th>min:vdw_radius</th>\n",
       "      <th>min:vdw_radius_alvarez</th>\n",
       "      <th>min:vdw_radius_mm3</th>\n",
       "      <th>min:vdw_radius_uff</th>\n",
       "      <th>min:sound_velocity</th>\n",
       "      <th>min:Polarizability</th>\n",
       "    </tr>\n",
       "  </thead>\n",
       "  <tbody>\n",
       "    <tr>\n",
       "      <td>mp-1008807</td>\n",
       "      <td>24.666667</td>\n",
       "      <td>174.067140</td>\n",
       "      <td>209.333333</td>\n",
       "      <td>25.666667</td>\n",
       "      <td>55.004267</td>\n",
       "      <td>1297.063333</td>\n",
       "      <td>72.868680</td>\n",
       "      <td>1646.90</td>\n",
       "      <td>139.333333</td>\n",
       "      <td>128.333333</td>\n",
       "      <td>...</td>\n",
       "      <td>1.0</td>\n",
       "      <td>2.0</td>\n",
       "      <td>0.360</td>\n",
       "      <td>0.02658</td>\n",
       "      <td>152.0</td>\n",
       "      <td>150.0</td>\n",
       "      <td>182.0</td>\n",
       "      <td>349.5</td>\n",
       "      <td>317.5</td>\n",
       "      <td>0.802</td>\n",
       "    </tr>\n",
       "    <tr>\n",
       "      <td>mp-1009640</td>\n",
       "      <td>33.000000</td>\n",
       "      <td>137.000000</td>\n",
       "      <td>232.500000</td>\n",
       "      <td>19.050000</td>\n",
       "      <td>77.457330</td>\n",
       "      <td>1931.200000</td>\n",
       "      <td>43.182441</td>\n",
       "      <td>1892.85</td>\n",
       "      <td>137.000000</td>\n",
       "      <td>123.500000</td>\n",
       "      <td>...</td>\n",
       "      <td>2.0</td>\n",
       "      <td>2.0</td>\n",
       "      <td>0.192</td>\n",
       "      <td>0.02583</td>\n",
       "      <td>155.0</td>\n",
       "      <td>166.0</td>\n",
       "      <td>193.0</td>\n",
       "      <td>360.6</td>\n",
       "      <td>333.6</td>\n",
       "      <td>1.100</td>\n",
       "    </tr>\n",
       "    <tr>\n",
       "      <td>mp-1016825</td>\n",
       "      <td>21.600000</td>\n",
       "      <td>153.120852</td>\n",
       "      <td>203.400000</td>\n",
       "      <td>13.920000</td>\n",
       "      <td>50.158400</td>\n",
       "      <td>1420.714000</td>\n",
       "      <td>76.663625</td>\n",
       "      <td>343.82</td>\n",
       "      <td>102.800000</td>\n",
       "      <td>96.000000</td>\n",
       "      <td>...</td>\n",
       "      <td>2.0</td>\n",
       "      <td>2.0</td>\n",
       "      <td>0.146</td>\n",
       "      <td>0.02658</td>\n",
       "      <td>152.0</td>\n",
       "      <td>150.0</td>\n",
       "      <td>182.0</td>\n",
       "      <td>302.1</td>\n",
       "      <td>317.5</td>\n",
       "      <td>0.802</td>\n",
       "    </tr>\n",
       "    <tr>\n",
       "      <td>mp-1017582</td>\n",
       "      <td>59.400000</td>\n",
       "      <td>139.000000</td>\n",
       "      <td>232.800000</td>\n",
       "      <td>11.020000</td>\n",
       "      <td>147.233694</td>\n",
       "      <td>4226.000000</td>\n",
       "      <td>150.200000</td>\n",
       "      <td>1037.58</td>\n",
       "      <td>137.600000</td>\n",
       "      <td>124.800000</td>\n",
       "      <td>...</td>\n",
       "      <td>1.0</td>\n",
       "      <td>2.0</td>\n",
       "      <td>0.133</td>\n",
       "      <td>13.00000</td>\n",
       "      <td>170.0</td>\n",
       "      <td>177.0</td>\n",
       "      <td>204.0</td>\n",
       "      <td>275.4</td>\n",
       "      <td>2475.0</td>\n",
       "      <td>1.670</td>\n",
       "    </tr>\n",
       "    <tr>\n",
       "      <td>mp-1021511</td>\n",
       "      <td>32.000000</td>\n",
       "      <td>140.500000</td>\n",
       "      <td>226.000000</td>\n",
       "      <td>14.300000</td>\n",
       "      <td>72.237000</td>\n",
       "      <td>877.912000</td>\n",
       "      <td>24.850000</td>\n",
       "      <td>272.50</td>\n",
       "      <td>124.500000</td>\n",
       "      <td>119.500000</td>\n",
       "      <td>...</td>\n",
       "      <td>2.0</td>\n",
       "      <td>3.0</td>\n",
       "      <td>0.232</td>\n",
       "      <td>0.20500</td>\n",
       "      <td>180.0</td>\n",
       "      <td>189.0</td>\n",
       "      <td>215.0</td>\n",
       "      <td>284.8</td>\n",
       "      <td>2310.0</td>\n",
       "      <td>2.900</td>\n",
       "    </tr>\n",
       "  </tbody>\n",
       "</table>\n",
       "<p>5 rows × 290 columns</p>\n",
       "</div>"
      ],
      "text/plain": [
       "            ave:atomic_number  ave:atomic_radius  ave:atomic_radius_rahm  \\\n",
       "mp-1008807          24.666667         174.067140              209.333333   \n",
       "mp-1009640          33.000000         137.000000              232.500000   \n",
       "mp-1016825          21.600000         153.120852              203.400000   \n",
       "mp-1017582          59.400000         139.000000              232.800000   \n",
       "mp-1021511          32.000000         140.500000              226.000000   \n",
       "\n",
       "            ave:atomic_volume  ave:atomic_weight  ave:boiling_point  \\\n",
       "mp-1008807          25.666667          55.004267        1297.063333   \n",
       "mp-1009640          19.050000          77.457330        1931.200000   \n",
       "mp-1016825          13.920000          50.158400        1420.714000   \n",
       "mp-1017582          11.020000         147.233694        4226.000000   \n",
       "mp-1021511          14.300000          72.237000         877.912000   \n",
       "\n",
       "            ave:bulk_modulus  ave:c6_gb  ave:covalent_radius_cordero  \\\n",
       "mp-1008807         72.868680    1646.90                   139.333333   \n",
       "mp-1009640         43.182441    1892.85                   137.000000   \n",
       "mp-1016825         76.663625     343.82                   102.800000   \n",
       "mp-1017582        150.200000    1037.58                   137.600000   \n",
       "mp-1021511         24.850000     272.50                   124.500000   \n",
       "\n",
       "            ave:covalent_radius_pyykko  ...  min:num_s_valence  min:period  \\\n",
       "mp-1008807                  128.333333  ...                1.0         2.0   \n",
       "mp-1009640                  123.500000  ...                2.0         2.0   \n",
       "mp-1016825                   96.000000  ...                2.0         2.0   \n",
       "mp-1017582                  124.800000  ...                1.0         2.0   \n",
       "mp-1021511                  119.500000  ...                2.0         3.0   \n",
       "\n",
       "            min:specific_heat  min:thermal_conductivity  min:vdw_radius  \\\n",
       "mp-1008807              0.360                   0.02658           152.0   \n",
       "mp-1009640              0.192                   0.02583           155.0   \n",
       "mp-1016825              0.146                   0.02658           152.0   \n",
       "mp-1017582              0.133                  13.00000           170.0   \n",
       "mp-1021511              0.232                   0.20500           180.0   \n",
       "\n",
       "            min:vdw_radius_alvarez  min:vdw_radius_mm3  min:vdw_radius_uff  \\\n",
       "mp-1008807                   150.0               182.0               349.5   \n",
       "mp-1009640                   166.0               193.0               360.6   \n",
       "mp-1016825                   150.0               182.0               302.1   \n",
       "mp-1017582                   177.0               204.0               275.4   \n",
       "mp-1021511                   189.0               215.0               284.8   \n",
       "\n",
       "            min:sound_velocity  min:Polarizability  \n",
       "mp-1008807               317.5               0.802  \n",
       "mp-1009640               333.6               1.100  \n",
       "mp-1016825               317.5               0.802  \n",
       "mp-1017582              2475.0               1.670  \n",
       "mp-1021511              2310.0               2.900  \n",
       "\n",
       "[5 rows x 290 columns]"
      ]
     },
     "execution_count": 11,
     "metadata": {},
     "output_type": "execute_result"
    },
    {
     "data": {
      "text/html": [
       "<div>\n",
       "<style scoped>\n",
       "    .dataframe tbody tr th:only-of-type {\n",
       "        vertical-align: middle;\n",
       "    }\n",
       "\n",
       "    .dataframe tbody tr th {\n",
       "        vertical-align: top;\n",
       "    }\n",
       "\n",
       "    .dataframe thead th {\n",
       "        text-align: right;\n",
       "    }\n",
       "</style>\n",
       "<table border=\"1\" class=\"dataframe\">\n",
       "  <thead>\n",
       "    <tr style=\"text-align: right;\">\n",
       "      <th></th>\n",
       "      <th>volume</th>\n",
       "    </tr>\n",
       "  </thead>\n",
       "  <tbody>\n",
       "    <tr>\n",
       "      <td>mp-1008807</td>\n",
       "      <td>57.268924</td>\n",
       "    </tr>\n",
       "    <tr>\n",
       "      <td>mp-1009640</td>\n",
       "      <td>31.579717</td>\n",
       "    </tr>\n",
       "    <tr>\n",
       "      <td>mp-1016825</td>\n",
       "      <td>67.541269</td>\n",
       "    </tr>\n",
       "    <tr>\n",
       "      <td>mp-1017582</td>\n",
       "      <td>85.579224</td>\n",
       "    </tr>\n",
       "    <tr>\n",
       "      <td>mp-1021511</td>\n",
       "      <td>92.890725</td>\n",
       "    </tr>\n",
       "  </tbody>\n",
       "</table>\n",
       "</div>"
      ],
      "text/plain": [
       "               volume\n",
       "mp-1008807  57.268924\n",
       "mp-1009640  31.579717\n",
       "mp-1016825  67.541269\n",
       "mp-1017582  85.579224\n",
       "mp-1021511  92.890725"
      ]
     },
     "execution_count": 11,
     "metadata": {},
     "output_type": "execute_result"
    }
   ],
   "source": [
    "prop = data[data.volume <= 2500]['volume'].to_frame()\n",
    "desc = Compositions(featurizers='classic').transform(data.loc[prop.index]['composition'])\n",
    "\n",
    "desc.head(5)\n",
    "prop.head(5)"
   ]
  },
  {
   "cell_type": "code",
   "execution_count": 12,
   "metadata": {},
   "outputs": [],
   "source": [
    "sp = Splitter(prop.shape[0])\n",
    "x_train, x_val, y_train, y_val = sp.split(desc, prop)"
   ]
  },
  {
   "cell_type": "code",
   "execution_count": 13,
   "metadata": {},
   "outputs": [
    {
     "data": {
      "text/plain": [
       "(738, 290)"
      ]
     },
     "execution_count": 13,
     "metadata": {},
     "output_type": "execute_result"
    },
    {
     "data": {
      "text/plain": [
       "(738, 1)"
      ]
     },
     "execution_count": 13,
     "metadata": {},
     "output_type": "execute_result"
    },
    {
     "data": {
      "text/plain": [
       "(185, 290)"
      ]
     },
     "execution_count": 13,
     "metadata": {},
     "output_type": "execute_result"
    },
    {
     "data": {
      "text/plain": [
       "(185, 1)"
      ]
     },
     "execution_count": 13,
     "metadata": {},
     "output_type": "execute_result"
    }
   ],
   "source": [
    "x_train.shape\n",
    "y_train.shape\n",
    "x_val.shape\n",
    "y_val.shape"
   ]
  },
  {
   "cell_type": "code",
   "execution_count": 14,
   "metadata": {},
   "outputs": [],
   "source": [
    "trainer = Trainer(\n",
    "    optimizer=Adam(lr=0.01),\n",
    "    loss_func=MSELoss(),\n",
    "#     clip_grad=ClipNorm(max_norm=0.5),\n",
    "#     lr_scheduler=ExponentialLR(gamma=0.99),\n",
    ")"
   ]
  },
  {
   "cell_type": "markdown",
   "metadata": {},
   "source": [
    "plugin-ins"
   ]
  },
  {
   "cell_type": "code",
   "execution_count": 15,
   "metadata": {},
   "outputs": [
    {
     "data": {
      "text/plain": [
       "Trainer(clip_grad=None, cuda=None, epochs=200, loss_func=MSELoss(),\n",
       "        lr_scheduler=None, model=None, non_blocking=False, optimizer=None)"
      ]
     },
     "execution_count": 15,
     "metadata": {},
     "output_type": "execute_result"
    }
   ],
   "source": [
    "trainer.extend(\n",
    "    TensorConverter(),\n",
    "    Validator(metrics_func=regression_metrics, early_stopping=20, trace_order=5, mae=0.0, pearsonr=1.0),\n",
    ")"
   ]
  },
  {
   "cell_type": "code",
   "execution_count": 16,
   "metadata": {},
   "outputs": [],
   "source": [
    "train_dataset = DataLoader(ArrayDataset(x_train, y_train), shuffle=True, batch_size=1000)\n",
    "val_dataset = DataLoader(ArrayDataset(x_val, y_val), batch_size=1000)"
   ]
  },
  {
   "cell_type": "code",
   "execution_count": 17,
   "metadata": {},
   "outputs": [],
   "source": [
    "def make_name(model):\n",
    "    name = []\n",
    "    for n, m in model.named_children():\n",
    "        if 'layer_' in n:\n",
    "            name.append(str(m.linear.in_features))\n",
    "        else:\n",
    "            name.append(str(m.in_features))\n",
    "            name.append(str(m.out_features))\n",
    "    return '-'.join(name)"
   ]
  },
  {
   "cell_type": "code",
   "execution_count": 18,
   "metadata": {},
   "outputs": [],
   "source": [
    "generator = ParameterGenerator(\n",
    "    in_features=290,\n",
    "    out_features=1,\n",
    "    h_neurons=dict(\n",
    "        data=lambda n: sorted(np.random.uniform(0.2, 0.8, size=n), reverse=True), \n",
    "        repeat=(3, 4, 5, 6)\n",
    "    )\n",
    ")"
   ]
  },
  {
   "cell_type": "code",
   "execution_count": 23,
   "metadata": {},
   "outputs": [
    {
     "name": "stderr",
     "output_type": "stream",
     "text": [
      "Training:   0%|          | 2/2000 [00:00<01:51, 17.95it/s]"
     ]
    },
    {
     "name": "stdout",
     "output_type": "stream",
     "text": [
      "SequentialLinear(\n",
      "  (layer_0): LinearLayer(\n",
      "    (linear): Linear(in_features=290, out_features=145, bias=True)\n",
      "    (dropout): Dropout(p=0.1, inplace=False)\n",
      "    (normalizer): BatchNorm1d(145, eps=0.1, momentum=0.1, affine=True, track_running_stats=True)\n",
      "    (activation): ReLU()\n",
      "  )\n",
      "  (layer_1): LinearLayer(\n",
      "    (linear): Linear(in_features=145, out_features=116, bias=True)\n",
      "    (dropout): Dropout(p=0.1, inplace=False)\n",
      "    (normalizer): BatchNorm1d(116, eps=0.1, momentum=0.1, affine=True, track_running_stats=True)\n",
      "    (activation): ReLU()\n",
      "  )\n",
      "  (layer_2): LinearLayer(\n",
      "    (linear): Linear(in_features=116, out_features=98, bias=True)\n",
      "    (dropout): Dropout(p=0.1, inplace=False)\n",
      "    (normalizer): BatchNorm1d(98, eps=0.1, momentum=0.1, affine=True, track_running_stats=True)\n",
      "    (activation): ReLU()\n",
      "  )\n",
      "  (output): Linear(in_features=98, out_features=1, bias=True)\n",
      ")\n"
     ]
    },
    {
     "name": "stderr",
     "output_type": "stream",
     "text": [
      "Training:  20%|█▉        | 397/2000 [00:17<01:11, 22.54it/s]\n",
      "Training:   0%|          | 2/2000 [00:00<02:19, 14.33it/s]"
     ]
    },
    {
     "name": "stdout",
     "output_type": "stream",
     "text": [
      "Early stopping is applied: no improvement for ['mae', 'pearsonr'] since the last 21 iterations, finish training at iteration 397\n",
      "SequentialLinear(\n",
      "  (layer_0): LinearLayer(\n",
      "    (linear): Linear(in_features=290, out_features=217, bias=True)\n",
      "    (dropout): Dropout(p=0.1, inplace=False)\n",
      "    (normalizer): BatchNorm1d(217, eps=0.1, momentum=0.1, affine=True, track_running_stats=True)\n",
      "    (activation): ReLU()\n",
      "  )\n",
      "  (layer_1): LinearLayer(\n",
      "    (linear): Linear(in_features=217, out_features=172, bias=True)\n",
      "    (dropout): Dropout(p=0.1, inplace=False)\n",
      "    (normalizer): BatchNorm1d(172, eps=0.1, momentum=0.1, affine=True, track_running_stats=True)\n",
      "    (activation): ReLU()\n",
      "  )\n",
      "  (layer_2): LinearLayer(\n",
      "    (linear): Linear(in_features=172, out_features=123, bias=True)\n",
      "    (dropout): Dropout(p=0.1, inplace=False)\n",
      "    (normalizer): BatchNorm1d(123, eps=0.1, momentum=0.1, affine=True, track_running_stats=True)\n",
      "    (activation): ReLU()\n",
      "  )\n",
      "  (layer_3): LinearLayer(\n",
      "    (linear): Linear(in_features=123, out_features=111, bias=True)\n",
      "    (dropout): Dropout(p=0.1, inplace=False)\n",
      "    (normalizer): BatchNorm1d(111, eps=0.1, momentum=0.1, affine=True, track_running_stats=True)\n",
      "    (activation): ReLU()\n",
      "  )\n",
      "  (output): Linear(in_features=111, out_features=1, bias=True)\n",
      ")\n"
     ]
    },
    {
     "name": "stderr",
     "output_type": "stream",
     "text": [
      "Training:  17%|█▋        | 343/2000 [00:19<01:35, 17.36it/s]"
     ]
    },
    {
     "name": "stdout",
     "output_type": "stream",
     "text": [
      "Early stopping is applied: no improvement for ['mae', 'pearsonr'] since the last 21 iterations, finish training at iteration 343\n"
     ]
    },
    {
     "name": "stderr",
     "output_type": "stream",
     "text": [
      "\n"
     ]
    }
   ],
   "source": [
    "for para, model in generator(2, factory=SequentialLinear):\n",
    "    print(model)\n",
    "    model_name = make_name(model)\n",
    "    persist = Persist(f'trained_models/{model_name}', increment=False, sync_training_step=True)\n",
    "    _ = trainer.extend(persist)\n",
    "    trainer.reset(to=model)\n",
    "    \n",
    "    trainer.fit(training_dataset=train_dataset, validation_dataset=val_dataset, epochs=2000)"
   ]
  },
  {
   "cell_type": "markdown",
   "metadata": {},
   "source": [
    "The following two graphs are plotted using plotly.\n",
    "If you have not installed plotly and the related juputer lab extensions yet, just skip these."
   ]
  },
  {
   "cell_type": "code",
   "execution_count": 24,
   "metadata": {},
   "outputs": [
    {
     "data": {
      "application/vnd.plotly.v1+json": {
       "config": {
        "plotlyServerURL": "https://plot.ly"
       },
       "data": [
        {
         "hoverlabel": {
          "namelength": 0
         },
         "hovertemplate": "total_iters=%{x}<br>train_mse_loss=%{y}",
         "legendgroup": "",
         "line": {
          "color": "#636efa",
          "dash": "solid"
         },
         "mode": "lines",
         "name": "",
         "showlegend": false,
         "type": "scatter",
         "x": [
          0,
          1,
          2,
          3,
          4,
          5,
          6,
          7,
          8,
          9,
          10,
          11,
          12,
          13,
          14,
          15,
          16,
          17,
          18,
          19,
          20,
          21,
          22,
          23,
          24,
          25,
          26,
          27,
          28,
          29,
          30,
          31,
          32,
          33,
          34,
          35,
          36,
          37,
          38,
          39,
          40,
          41,
          42,
          43,
          44,
          45,
          46,
          47,
          48,
          49,
          50,
          51,
          52,
          53,
          54,
          55,
          56,
          57,
          58,
          59,
          60,
          61,
          62,
          63,
          64,
          65,
          66,
          67,
          68,
          69,
          70,
          71,
          72,
          73,
          74,
          75,
          76,
          77,
          78,
          79,
          80,
          81,
          82,
          83,
          84,
          85,
          86,
          87,
          88,
          89,
          90,
          91,
          92,
          93,
          94,
          95,
          96,
          97,
          98,
          99,
          100,
          101,
          102,
          103,
          104,
          105,
          106,
          107,
          108,
          109,
          110,
          111,
          112,
          113,
          114,
          115,
          116,
          117,
          118,
          119,
          120,
          121,
          122,
          123,
          124,
          125,
          126,
          127,
          128,
          129,
          130,
          131,
          132,
          133,
          134,
          135,
          136,
          137,
          138,
          139,
          140,
          141,
          142,
          143,
          144,
          145,
          146,
          147,
          148,
          149,
          150,
          151,
          152,
          153,
          154,
          155,
          156,
          157,
          158,
          159,
          160,
          161,
          162,
          163,
          164,
          165,
          166,
          167,
          168,
          169,
          170,
          171,
          172,
          173,
          174,
          175,
          176,
          177,
          178,
          179,
          180,
          181,
          182,
          183,
          184,
          185,
          186,
          187,
          188,
          189,
          190,
          191,
          192,
          193,
          194,
          195,
          196,
          197,
          198,
          199,
          200,
          201,
          202,
          203,
          204,
          205,
          206,
          207,
          208,
          209,
          210,
          211,
          212,
          213,
          214,
          215,
          216,
          217,
          218,
          219,
          220,
          221,
          222,
          223,
          224,
          225,
          226,
          227,
          228,
          229,
          230,
          231,
          232,
          233,
          234,
          235,
          236,
          237,
          238,
          239,
          240,
          241,
          242,
          243,
          244,
          245,
          246,
          247,
          248,
          249,
          250,
          251,
          252,
          253,
          254,
          255,
          256,
          257,
          258,
          259,
          260,
          261,
          262,
          263,
          264,
          265,
          266,
          267,
          268,
          269,
          270,
          271,
          272,
          273,
          274,
          275,
          276,
          277,
          278,
          279,
          280,
          281,
          282,
          283,
          284,
          285,
          286,
          287,
          288,
          289,
          290,
          291,
          292,
          293,
          294,
          295,
          296,
          297,
          298,
          299,
          300,
          301,
          302,
          303,
          304,
          305,
          306,
          307,
          308,
          309,
          310,
          311,
          312,
          313,
          314,
          315,
          316,
          317,
          318,
          319,
          320,
          321,
          322,
          323,
          324,
          325,
          326,
          327,
          328,
          329,
          330,
          331,
          332,
          333,
          334,
          335,
          336,
          337,
          338,
          339,
          340,
          341,
          342
         ],
         "xaxis": "x",
         "y": [
          411225.59375,
          410812.375,
          410283.5625,
          409822.78125,
          409375,
          408922.65625,
          408364.125,
          407700.59375,
          406902.875,
          405956.65625,
          404748.46875,
          403607.25,
          402446.1875,
          400258.625,
          398312.125,
          396347.125,
          394670.1875,
          392686.875,
          391226.65625,
          389341.125,
          387570.71875,
          385926.21875,
          383770.6875,
          382052.53125,
          380051.59375,
          377817.8125,
          375681.46875,
          373725.28125,
          371456.5,
          369552.96875,
          367069.09375,
          364716.75,
          362684.40625,
          360089.6875,
          357587.125,
          354686.6875,
          352426.40625,
          349608.25,
          346778.28125,
          343810.90625,
          341526.34375,
          337996.375,
          335467.46875,
          331715.5625,
          329116.46875,
          325573.90625,
          322368.78125,
          319078.25,
          316352.46875,
          313360.03125,
          309078.46875,
          305600.5,
          302434.03125,
          298832.125,
          295647.28125,
          291258.25,
          288486.03125,
          284495.53125,
          280935.65625,
          276946.59375,
          273832.21875,
          269502.28125,
          266118.40625,
          261278.921875,
          258608.328125,
          253804.671875,
          250841.625,
          246082.578125,
          241883.0625,
          238391.484375,
          233634.765625,
          230267.609375,
          225883.90625,
          221901.453125,
          217877.078125,
          213255.484375,
          209543.765625,
          206382.296875,
          202289.96875,
          197201.765625,
          193096.03125,
          189358.34375,
          184722.75,
          181028,
          177346.671875,
          172746.75,
          168995.421875,
          164447.953125,
          160386.765625,
          157649.671875,
          153427.359375,
          148639.640625,
          145324.9375,
          142159.515625,
          137248.453125,
          133270.671875,
          130238.3359375,
          127396.7578125,
          122482.2734375,
          119727.8203125,
          116591.40625,
          112993.3828125,
          108511.828125,
          105876.7265625,
          102582.6875,
          100944.2421875,
          95488.5078125,
          93396.1796875,
          90296.21875,
          86856.2734375,
          83828.0234375,
          81454.8828125,
          78068.25,
          75696.828125,
          74534.0390625,
          69856.3203125,
          67654.4296875,
          64959.24609375,
          64003.234375,
          60658.66015625,
          60040.7421875,
          55696.93359375,
          54519.328125,
          50645.265625,
          50003.40234375,
          48887.51171875,
          45761.72265625,
          43539.5703125,
          42694.1640625,
          40471.33203125,
          38056.47265625,
          35970.5859375,
          34022.75,
          32989.078125,
          31294.685546875,
          30541.00390625,
          29290.509765625,
          27380.455078125,
          26981.60546875,
          24839.615234375,
          24109.072265625,
          22581.435546875,
          21959.806640625,
          21342.455078125,
          20211.45703125,
          19301.767578125,
          17406.646484375,
          18592.53125,
          17144.80078125,
          16536.486328125,
          17206.6484375,
          16221.2216796875,
          14548.6455078125,
          15540.0400390625,
          14689.7197265625,
          13919.7109375,
          13479.66796875,
          11811.7529296875,
          12424.916015625,
          11592.7724609375,
          11250.310546875,
          11382.78515625,
          11056.09765625,
          9885.2216796875,
          10146.1572265625,
          8832.552734375,
          8643.212890625,
          9660.94140625,
          8668.337890625,
          8979.4443359375,
          8417.7001953125,
          8411.44921875,
          7678.94873046875,
          8387.0205078125,
          8201.94140625,
          7085.24267578125,
          8201.193359375,
          7733.0224609375,
          8124.6669921875,
          6865.2734375,
          7916.9560546875,
          6438.09423828125,
          6377.578125,
          6602.9892578125,
          6296.548828125,
          6103.69140625,
          6155.45751953125,
          5973.30517578125,
          5920.7431640625,
          5785.15625,
          6176.1728515625,
          4955.21142578125,
          5991.06005859375,
          5394.611328125,
          5490.56787109375,
          6083.6630859375,
          5640.60009765625,
          5573.84716796875,
          5636.076171875,
          4898.197265625,
          4969.42236328125,
          5637.47705078125,
          5031.923828125,
          5256.9482421875,
          5535.240234375,
          5109.71337890625,
          5497.3681640625,
          5588.31787109375,
          5164.01806640625,
          5611.248046875,
          6083.44091796875,
          5384.4599609375,
          4589.05078125,
          4762.88671875,
          4917.849609375,
          4571.9306640625,
          4456.07470703125,
          4349.89013671875,
          4689.68798828125,
          4297.5478515625,
          4142.83056640625,
          4884.81640625,
          4929.7412109375,
          5237.31103515625,
          5016.1083984375,
          4728.15087890625,
          4455.6611328125,
          4840.34130859375,
          4879.873046875,
          4346.62744140625,
          4293.53466796875,
          4589.8349609375,
          4175.88818359375,
          4106.92529296875,
          4334.37841796875,
          4264.36328125,
          4394.9814453125,
          4428.4697265625,
          4742.13671875,
          4155.18408203125,
          4300.30078125,
          4072.28271484375,
          4446.58349609375,
          4101.7451171875,
          4218.21630859375,
          4643.2158203125,
          4297.55126953125,
          3772.47705078125,
          4363.2158203125,
          3992.18017578125,
          4059.500732421875,
          5071.01220703125,
          4264.7490234375,
          4574.599609375,
          4489.0166015625,
          4782.26904296875,
          4573.99658203125,
          3931.081298828125,
          4161.32666015625,
          4136.12158203125,
          4387.4716796875,
          3895.9130859375,
          4061.287841796875,
          4241.2646484375,
          3915.062255859375,
          3683.9755859375,
          4215.8388671875,
          3767.1923828125,
          3775.89404296875,
          3335.39892578125,
          3771.806396484375,
          3442.959716796875,
          4716.11181640625,
          3504.843505859375,
          3774.822265625,
          3766.435791015625,
          4433.6865234375,
          4057.20751953125,
          4223.359375,
          3954.316650390625,
          3192.01953125,
          3840.0146484375,
          3809.303955078125,
          3333.2490234375,
          3934.4541015625,
          4296.67333984375,
          3543.872802734375,
          3903.70556640625,
          4209.13720703125,
          3930.0048828125,
          3355.5283203125,
          3604.985595703125,
          3434.12548828125,
          3827.7265625,
          4047.3525390625,
          4123.91064453125,
          3351.766845703125,
          3932.232421875,
          4000.13818359375,
          3849.55615234375,
          3519.910888671875,
          3863.485595703125,
          3583.275390625,
          3638.0263671875,
          3992.6455078125,
          3264.12646484375,
          3083.66357421875,
          4153.828125,
          3297.604736328125,
          3371.614501953125,
          3752.34912109375,
          3178.616943359375,
          3618.891845703125,
          2999.037841796875,
          3248.3857421875,
          3559.36181640625,
          3483.719482421875,
          3028.080810546875,
          3151.127685546875,
          3444.212158203125,
          3335.28662109375,
          3403.38623046875,
          2845.00341796875,
          3409.964599609375,
          3067.0419921875,
          3376.375,
          3044.772705078125,
          3040.02392578125,
          3390.6494140625,
          3364.166748046875,
          3255.43115234375,
          3462.355224609375,
          3065.94140625,
          3316.926513671875,
          3843.5888671875,
          3437.623779296875,
          3673.828369140625,
          3874.207275390625,
          3402.20263671875,
          3025.7998046875,
          3226.775390625,
          3513.16015625,
          3322.506591796875
         ],
         "yaxis": "y"
        }
       ],
       "layout": {
        "autosize": true,
        "legend": {
         "tracegroupgap": 0
        },
        "margin": {
         "t": 60
        },
        "template": {
         "data": {
          "bar": [
           {
            "error_x": {
             "color": "#2a3f5f"
            },
            "error_y": {
             "color": "#2a3f5f"
            },
            "marker": {
             "line": {
              "color": "#E5ECF6",
              "width": 0.5
             }
            },
            "type": "bar"
           }
          ],
          "barpolar": [
           {
            "marker": {
             "line": {
              "color": "#E5ECF6",
              "width": 0.5
             }
            },
            "type": "barpolar"
           }
          ],
          "carpet": [
           {
            "aaxis": {
             "endlinecolor": "#2a3f5f",
             "gridcolor": "white",
             "linecolor": "white",
             "minorgridcolor": "white",
             "startlinecolor": "#2a3f5f"
            },
            "baxis": {
             "endlinecolor": "#2a3f5f",
             "gridcolor": "white",
             "linecolor": "white",
             "minorgridcolor": "white",
             "startlinecolor": "#2a3f5f"
            },
            "type": "carpet"
           }
          ],
          "choropleth": [
           {
            "colorbar": {
             "outlinewidth": 0,
             "ticks": ""
            },
            "type": "choropleth"
           }
          ],
          "contour": [
           {
            "colorbar": {
             "outlinewidth": 0,
             "ticks": ""
            },
            "colorscale": [
             [
              0,
              "#0d0887"
             ],
             [
              0.1111111111111111,
              "#46039f"
             ],
             [
              0.2222222222222222,
              "#7201a8"
             ],
             [
              0.3333333333333333,
              "#9c179e"
             ],
             [
              0.4444444444444444,
              "#bd3786"
             ],
             [
              0.5555555555555556,
              "#d8576b"
             ],
             [
              0.6666666666666666,
              "#ed7953"
             ],
             [
              0.7777777777777778,
              "#fb9f3a"
             ],
             [
              0.8888888888888888,
              "#fdca26"
             ],
             [
              1,
              "#f0f921"
             ]
            ],
            "type": "contour"
           }
          ],
          "contourcarpet": [
           {
            "colorbar": {
             "outlinewidth": 0,
             "ticks": ""
            },
            "type": "contourcarpet"
           }
          ],
          "heatmap": [
           {
            "colorbar": {
             "outlinewidth": 0,
             "ticks": ""
            },
            "colorscale": [
             [
              0,
              "#0d0887"
             ],
             [
              0.1111111111111111,
              "#46039f"
             ],
             [
              0.2222222222222222,
              "#7201a8"
             ],
             [
              0.3333333333333333,
              "#9c179e"
             ],
             [
              0.4444444444444444,
              "#bd3786"
             ],
             [
              0.5555555555555556,
              "#d8576b"
             ],
             [
              0.6666666666666666,
              "#ed7953"
             ],
             [
              0.7777777777777778,
              "#fb9f3a"
             ],
             [
              0.8888888888888888,
              "#fdca26"
             ],
             [
              1,
              "#f0f921"
             ]
            ],
            "type": "heatmap"
           }
          ],
          "heatmapgl": [
           {
            "colorbar": {
             "outlinewidth": 0,
             "ticks": ""
            },
            "colorscale": [
             [
              0,
              "#0d0887"
             ],
             [
              0.1111111111111111,
              "#46039f"
             ],
             [
              0.2222222222222222,
              "#7201a8"
             ],
             [
              0.3333333333333333,
              "#9c179e"
             ],
             [
              0.4444444444444444,
              "#bd3786"
             ],
             [
              0.5555555555555556,
              "#d8576b"
             ],
             [
              0.6666666666666666,
              "#ed7953"
             ],
             [
              0.7777777777777778,
              "#fb9f3a"
             ],
             [
              0.8888888888888888,
              "#fdca26"
             ],
             [
              1,
              "#f0f921"
             ]
            ],
            "type": "heatmapgl"
           }
          ],
          "histogram": [
           {
            "marker": {
             "colorbar": {
              "outlinewidth": 0,
              "ticks": ""
             }
            },
            "type": "histogram"
           }
          ],
          "histogram2d": [
           {
            "colorbar": {
             "outlinewidth": 0,
             "ticks": ""
            },
            "colorscale": [
             [
              0,
              "#0d0887"
             ],
             [
              0.1111111111111111,
              "#46039f"
             ],
             [
              0.2222222222222222,
              "#7201a8"
             ],
             [
              0.3333333333333333,
              "#9c179e"
             ],
             [
              0.4444444444444444,
              "#bd3786"
             ],
             [
              0.5555555555555556,
              "#d8576b"
             ],
             [
              0.6666666666666666,
              "#ed7953"
             ],
             [
              0.7777777777777778,
              "#fb9f3a"
             ],
             [
              0.8888888888888888,
              "#fdca26"
             ],
             [
              1,
              "#f0f921"
             ]
            ],
            "type": "histogram2d"
           }
          ],
          "histogram2dcontour": [
           {
            "colorbar": {
             "outlinewidth": 0,
             "ticks": ""
            },
            "colorscale": [
             [
              0,
              "#0d0887"
             ],
             [
              0.1111111111111111,
              "#46039f"
             ],
             [
              0.2222222222222222,
              "#7201a8"
             ],
             [
              0.3333333333333333,
              "#9c179e"
             ],
             [
              0.4444444444444444,
              "#bd3786"
             ],
             [
              0.5555555555555556,
              "#d8576b"
             ],
             [
              0.6666666666666666,
              "#ed7953"
             ],
             [
              0.7777777777777778,
              "#fb9f3a"
             ],
             [
              0.8888888888888888,
              "#fdca26"
             ],
             [
              1,
              "#f0f921"
             ]
            ],
            "type": "histogram2dcontour"
           }
          ],
          "mesh3d": [
           {
            "colorbar": {
             "outlinewidth": 0,
             "ticks": ""
            },
            "type": "mesh3d"
           }
          ],
          "parcoords": [
           {
            "line": {
             "colorbar": {
              "outlinewidth": 0,
              "ticks": ""
             }
            },
            "type": "parcoords"
           }
          ],
          "scatter": [
           {
            "marker": {
             "colorbar": {
              "outlinewidth": 0,
              "ticks": ""
             }
            },
            "type": "scatter"
           }
          ],
          "scatter3d": [
           {
            "line": {
             "colorbar": {
              "outlinewidth": 0,
              "ticks": ""
             }
            },
            "marker": {
             "colorbar": {
              "outlinewidth": 0,
              "ticks": ""
             }
            },
            "type": "scatter3d"
           }
          ],
          "scattercarpet": [
           {
            "marker": {
             "colorbar": {
              "outlinewidth": 0,
              "ticks": ""
             }
            },
            "type": "scattercarpet"
           }
          ],
          "scattergeo": [
           {
            "marker": {
             "colorbar": {
              "outlinewidth": 0,
              "ticks": ""
             }
            },
            "type": "scattergeo"
           }
          ],
          "scattergl": [
           {
            "marker": {
             "colorbar": {
              "outlinewidth": 0,
              "ticks": ""
             }
            },
            "type": "scattergl"
           }
          ],
          "scattermapbox": [
           {
            "marker": {
             "colorbar": {
              "outlinewidth": 0,
              "ticks": ""
             }
            },
            "type": "scattermapbox"
           }
          ],
          "scatterpolar": [
           {
            "marker": {
             "colorbar": {
              "outlinewidth": 0,
              "ticks": ""
             }
            },
            "type": "scatterpolar"
           }
          ],
          "scatterpolargl": [
           {
            "marker": {
             "colorbar": {
              "outlinewidth": 0,
              "ticks": ""
             }
            },
            "type": "scatterpolargl"
           }
          ],
          "scatterternary": [
           {
            "marker": {
             "colorbar": {
              "outlinewidth": 0,
              "ticks": ""
             }
            },
            "type": "scatterternary"
           }
          ],
          "surface": [
           {
            "colorbar": {
             "outlinewidth": 0,
             "ticks": ""
            },
            "colorscale": [
             [
              0,
              "#0d0887"
             ],
             [
              0.1111111111111111,
              "#46039f"
             ],
             [
              0.2222222222222222,
              "#7201a8"
             ],
             [
              0.3333333333333333,
              "#9c179e"
             ],
             [
              0.4444444444444444,
              "#bd3786"
             ],
             [
              0.5555555555555556,
              "#d8576b"
             ],
             [
              0.6666666666666666,
              "#ed7953"
             ],
             [
              0.7777777777777778,
              "#fb9f3a"
             ],
             [
              0.8888888888888888,
              "#fdca26"
             ],
             [
              1,
              "#f0f921"
             ]
            ],
            "type": "surface"
           }
          ],
          "table": [
           {
            "cells": {
             "fill": {
              "color": "#EBF0F8"
             },
             "line": {
              "color": "white"
             }
            },
            "header": {
             "fill": {
              "color": "#C8D4E3"
             },
             "line": {
              "color": "white"
             }
            },
            "type": "table"
           }
          ]
         },
         "layout": {
          "annotationdefaults": {
           "arrowcolor": "#2a3f5f",
           "arrowhead": 0,
           "arrowwidth": 1
          },
          "colorscale": {
           "diverging": [
            [
             0,
             "#8e0152"
            ],
            [
             0.1,
             "#c51b7d"
            ],
            [
             0.2,
             "#de77ae"
            ],
            [
             0.3,
             "#f1b6da"
            ],
            [
             0.4,
             "#fde0ef"
            ],
            [
             0.5,
             "#f7f7f7"
            ],
            [
             0.6,
             "#e6f5d0"
            ],
            [
             0.7,
             "#b8e186"
            ],
            [
             0.8,
             "#7fbc41"
            ],
            [
             0.9,
             "#4d9221"
            ],
            [
             1,
             "#276419"
            ]
           ],
           "sequential": [
            [
             0,
             "#0d0887"
            ],
            [
             0.1111111111111111,
             "#46039f"
            ],
            [
             0.2222222222222222,
             "#7201a8"
            ],
            [
             0.3333333333333333,
             "#9c179e"
            ],
            [
             0.4444444444444444,
             "#bd3786"
            ],
            [
             0.5555555555555556,
             "#d8576b"
            ],
            [
             0.6666666666666666,
             "#ed7953"
            ],
            [
             0.7777777777777778,
             "#fb9f3a"
            ],
            [
             0.8888888888888888,
             "#fdca26"
            ],
            [
             1,
             "#f0f921"
            ]
           ],
           "sequentialminus": [
            [
             0,
             "#0d0887"
            ],
            [
             0.1111111111111111,
             "#46039f"
            ],
            [
             0.2222222222222222,
             "#7201a8"
            ],
            [
             0.3333333333333333,
             "#9c179e"
            ],
            [
             0.4444444444444444,
             "#bd3786"
            ],
            [
             0.5555555555555556,
             "#d8576b"
            ],
            [
             0.6666666666666666,
             "#ed7953"
            ],
            [
             0.7777777777777778,
             "#fb9f3a"
            ],
            [
             0.8888888888888888,
             "#fdca26"
            ],
            [
             1,
             "#f0f921"
            ]
           ]
          },
          "colorway": [
           "#636efa",
           "#EF553B",
           "#00cc96",
           "#ab63fa",
           "#FFA15A",
           "#19d3f3",
           "#FF6692",
           "#B6E880",
           "#FF97FF",
           "#FECB52"
          ],
          "font": {
           "color": "#2a3f5f"
          },
          "geo": {
           "bgcolor": "white",
           "lakecolor": "white",
           "landcolor": "#E5ECF6",
           "showlakes": true,
           "showland": true,
           "subunitcolor": "white"
          },
          "hoverlabel": {
           "align": "left"
          },
          "hovermode": "closest",
          "mapbox": {
           "style": "light"
          },
          "paper_bgcolor": "white",
          "plot_bgcolor": "#E5ECF6",
          "polar": {
           "angularaxis": {
            "gridcolor": "white",
            "linecolor": "white",
            "ticks": ""
           },
           "bgcolor": "#E5ECF6",
           "radialaxis": {
            "gridcolor": "white",
            "linecolor": "white",
            "ticks": ""
           }
          },
          "scene": {
           "xaxis": {
            "backgroundcolor": "#E5ECF6",
            "gridcolor": "white",
            "gridwidth": 2,
            "linecolor": "white",
            "showbackground": true,
            "ticks": "",
            "zerolinecolor": "white"
           },
           "yaxis": {
            "backgroundcolor": "#E5ECF6",
            "gridcolor": "white",
            "gridwidth": 2,
            "linecolor": "white",
            "showbackground": true,
            "ticks": "",
            "zerolinecolor": "white"
           },
           "zaxis": {
            "backgroundcolor": "#E5ECF6",
            "gridcolor": "white",
            "gridwidth": 2,
            "linecolor": "white",
            "showbackground": true,
            "ticks": "",
            "zerolinecolor": "white"
           }
          },
          "shapedefaults": {
           "line": {
            "color": "#2a3f5f"
           }
          },
          "ternary": {
           "aaxis": {
            "gridcolor": "white",
            "linecolor": "white",
            "ticks": ""
           },
           "baxis": {
            "gridcolor": "white",
            "linecolor": "white",
            "ticks": ""
           },
           "bgcolor": "#E5ECF6",
           "caxis": {
            "gridcolor": "white",
            "linecolor": "white",
            "ticks": ""
           }
          },
          "title": {
           "x": 0.05
          },
          "xaxis": {
           "automargin": true,
           "gridcolor": "white",
           "linecolor": "white",
           "ticks": "",
           "zerolinecolor": "white",
           "zerolinewidth": 2
          },
          "yaxis": {
           "automargin": true,
           "gridcolor": "white",
           "linecolor": "white",
           "ticks": "",
           "zerolinecolor": "white",
           "zerolinewidth": 2
          }
         }
        },
        "xaxis": {
         "anchor": "y",
         "autorange": true,
         "domain": [
          0,
          0.98
         ],
         "range": [
          0,
          342
         ],
         "title": {
          "text": "total_iters"
         },
         "type": "linear"
        },
        "yaxis": {
         "anchor": "x",
         "autorange": true,
         "domain": [
          0,
          1
         ],
         "range": [
          -19842.807156032984,
          433913.40432400175
         ],
         "title": {
          "text": "train_mse_loss"
         },
         "type": "linear"
        }
       }
      },
      "image/png": "[encoded data removed]",
      "text/html": [
       "<div>\n",
       "        \n",
       "        \n",
       "            <div id=\"4768a454-77e1-47ae-b808-d42e05cec618\" class=\"plotly-graph-div\" style=\"height:600px; width:100%;\"></div>\n",
       "            <script type=\"text/javascript\">\n",
       "                require([\"plotly\"], function(Plotly) {\n",
       "                    window.PLOTLYENV=window.PLOTLYENV || {};\n",
       "                    \n",
       "                if (document.getElementById(\"4768a454-77e1-47ae-b808-d42e05cec618\")) {\n",
       "                    Plotly.newPlot(\n",
       "                        '4768a454-77e1-47ae-b808-d42e05cec618',\n",
       "                        [{\"hoverlabel\": {\"namelength\": 0}, \"hovertemplate\": \"total_iters=%{x}<br>train_mse_loss=%{y}\", \"legendgroup\": \"\", \"line\": {\"color\": \"#636efa\", \"dash\": \"solid\"}, \"mode\": \"lines\", \"name\": \"\", \"showlegend\": false, \"type\": \"scatter\", \"x\": [0, 1, 2, 3, 4, 5, 6, 7, 8, 9, 10, 11, 12, 13, 14, 15, 16, 17, 18, 19, 20, 21, 22, 23, 24, 25, 26, 27, 28, 29, 30, 31, 32, 33, 34, 35, 36, 37, 38, 39, 40, 41, 42, 43, 44, 45, 46, 47, 48, 49, 50, 51, 52, 53, 54, 55, 56, 57, 58, 59, 60, 61, 62, 63, 64, 65, 66, 67, 68, 69, 70, 71, 72, 73, 74, 75, 76, 77, 78, 79, 80, 81, 82, 83, 84, 85, 86, 87, 88, 89, 90, 91, 92, 93, 94, 95, 96, 97, 98, 99, 100, 101, 102, 103, 104, 105, 106, 107, 108, 109, 110, 111, 112, 113, 114, 115, 116, 117, 118, 119, 120, 121, 122, 123, 124, 125, 126, 127, 128, 129, 130, 131, 132, 133, 134, 135, 136, 137, 138, 139, 140, 141, 142, 143, 144, 145, 146, 147, 148, 149, 150, 151, 152, 153, 154, 155, 156, 157, 158, 159, 160, 161, 162, 163, 164, 165, 166, 167, 168, 169, 170, 171, 172, 173, 174, 175, 176, 177, 178, 179, 180, 181, 182, 183, 184, 185, 186, 187, 188, 189, 190, 191, 192, 193, 194, 195, 196, 197, 198, 199, 200, 201, 202, 203, 204, 205, 206, 207, 208, 209, 210, 211, 212, 213, 214, 215, 216, 217, 218, 219, 220, 221, 222, 223, 224, 225, 226, 227, 228, 229, 230, 231, 232, 233, 234, 235, 236, 237, 238, 239, 240, 241, 242, 243, 244, 245, 246, 247, 248, 249, 250, 251, 252, 253, 254, 255, 256, 257, 258, 259, 260, 261, 262, 263, 264, 265, 266, 267, 268, 269, 270, 271, 272, 273, 274, 275, 276, 277, 278, 279, 280, 281, 282, 283, 284, 285, 286, 287, 288, 289, 290, 291, 292, 293, 294, 295, 296, 297, 298, 299, 300, 301, 302, 303, 304, 305, 306, 307, 308, 309, 310, 311, 312, 313, 314, 315, 316, 317, 318, 319, 320, 321, 322, 323, 324, 325, 326, 327, 328, 329, 330, 331, 332, 333, 334, 335, 336, 337, 338, 339, 340, 341, 342], \"xaxis\": \"x\", \"y\": [411225.59375, 410812.375, 410283.5625, 409822.78125, 409375.0, 408922.65625, 408364.125, 407700.59375, 406902.875, 405956.65625, 404748.46875, 403607.25, 402446.1875, 400258.625, 398312.125, 396347.125, 394670.1875, 392686.875, 391226.65625, 389341.125, 387570.71875, 385926.21875, 383770.6875, 382052.53125, 380051.59375, 377817.8125, 375681.46875, 373725.28125, 371456.5, 369552.96875, 367069.09375, 364716.75, 362684.40625, 360089.6875, 357587.125, 354686.6875, 352426.40625, 349608.25, 346778.28125, 343810.90625, 341526.34375, 337996.375, 335467.46875, 331715.5625, 329116.46875, 325573.90625, 322368.78125, 319078.25, 316352.46875, 313360.03125, 309078.46875, 305600.5, 302434.03125, 298832.125, 295647.28125, 291258.25, 288486.03125, 284495.53125, 280935.65625, 276946.59375, 273832.21875, 269502.28125, 266118.40625, 261278.921875, 258608.328125, 253804.671875, 250841.625, 246082.578125, 241883.0625, 238391.484375, 233634.765625, 230267.609375, 225883.90625, 221901.453125, 217877.078125, 213255.484375, 209543.765625, 206382.296875, 202289.96875, 197201.765625, 193096.03125, 189358.34375, 184722.75, 181028.0, 177346.671875, 172746.75, 168995.421875, 164447.953125, 160386.765625, 157649.671875, 153427.359375, 148639.640625, 145324.9375, 142159.515625, 137248.453125, 133270.671875, 130238.3359375, 127396.7578125, 122482.2734375, 119727.8203125, 116591.40625, 112993.3828125, 108511.828125, 105876.7265625, 102582.6875, 100944.2421875, 95488.5078125, 93396.1796875, 90296.21875, 86856.2734375, 83828.0234375, 81454.8828125, 78068.25, 75696.828125, 74534.0390625, 69856.3203125, 67654.4296875, 64959.24609375, 64003.234375, 60658.66015625, 60040.7421875, 55696.93359375, 54519.328125, 50645.265625, 50003.40234375, 48887.51171875, 45761.72265625, 43539.5703125, 42694.1640625, 40471.33203125, 38056.47265625, 35970.5859375, 34022.75, 32989.078125, 31294.685546875, 30541.00390625, 29290.509765625, 27380.455078125, 26981.60546875, 24839.615234375, 24109.072265625, 22581.435546875, 21959.806640625, 21342.455078125, 20211.45703125, 19301.767578125, 17406.646484375, 18592.53125, 17144.80078125, 16536.486328125, 17206.6484375, 16221.2216796875, 14548.6455078125, 15540.0400390625, 14689.7197265625, 13919.7109375, 13479.66796875, 11811.7529296875, 12424.916015625, 11592.7724609375, 11250.310546875, 11382.78515625, 11056.09765625, 9885.2216796875, 10146.1572265625, 8832.552734375, 8643.212890625, 9660.94140625, 8668.337890625, 8979.4443359375, 8417.7001953125, 8411.44921875, 7678.94873046875, 8387.0205078125, 8201.94140625, 7085.24267578125, 8201.193359375, 7733.0224609375, 8124.6669921875, 6865.2734375, 7916.9560546875, 6438.09423828125, 6377.578125, 6602.9892578125, 6296.548828125, 6103.69140625, 6155.45751953125, 5973.30517578125, 5920.7431640625, 5785.15625, 6176.1728515625, 4955.21142578125, 5991.06005859375, 5394.611328125, 5490.56787109375, 6083.6630859375, 5640.60009765625, 5573.84716796875, 5636.076171875, 4898.197265625, 4969.42236328125, 5637.47705078125, 5031.923828125, 5256.9482421875, 5535.240234375, 5109.71337890625, 5497.3681640625, 5588.31787109375, 5164.01806640625, 5611.248046875, 6083.44091796875, 5384.4599609375, 4589.05078125, 4762.88671875, 4917.849609375, 4571.9306640625, 4456.07470703125, 4349.89013671875, 4689.68798828125, 4297.5478515625, 4142.83056640625, 4884.81640625, 4929.7412109375, 5237.31103515625, 5016.1083984375, 4728.15087890625, 4455.6611328125, 4840.34130859375, 4879.873046875, 4346.62744140625, 4293.53466796875, 4589.8349609375, 4175.88818359375, 4106.92529296875, 4334.37841796875, 4264.36328125, 4394.9814453125, 4428.4697265625, 4742.13671875, 4155.18408203125, 4300.30078125, 4072.28271484375, 4446.58349609375, 4101.7451171875, 4218.21630859375, 4643.2158203125, 4297.55126953125, 3772.47705078125, 4363.2158203125, 3992.18017578125, 4059.500732421875, 5071.01220703125, 4264.7490234375, 4574.599609375, 4489.0166015625, 4782.26904296875, 4573.99658203125, 3931.081298828125, 4161.32666015625, 4136.12158203125, 4387.4716796875, 3895.9130859375, 4061.287841796875, 4241.2646484375, 3915.062255859375, 3683.9755859375, 4215.8388671875, 3767.1923828125, 3775.89404296875, 3335.39892578125, 3771.806396484375, 3442.959716796875, 4716.11181640625, 3504.843505859375, 3774.822265625, 3766.435791015625, 4433.6865234375, 4057.20751953125, 4223.359375, 3954.316650390625, 3192.01953125, 3840.0146484375, 3809.303955078125, 3333.2490234375, 3934.4541015625, 4296.67333984375, 3543.872802734375, 3903.70556640625, 4209.13720703125, 3930.0048828125, 3355.5283203125, 3604.985595703125, 3434.12548828125, 3827.7265625, 4047.3525390625, 4123.91064453125, 3351.766845703125, 3932.232421875, 4000.13818359375, 3849.55615234375, 3519.910888671875, 3863.485595703125, 3583.275390625, 3638.0263671875, 3992.6455078125, 3264.12646484375, 3083.66357421875, 4153.828125, 3297.604736328125, 3371.614501953125, 3752.34912109375, 3178.616943359375, 3618.891845703125, 2999.037841796875, 3248.3857421875, 3559.36181640625, 3483.719482421875, 3028.080810546875, 3151.127685546875, 3444.212158203125, 3335.28662109375, 3403.38623046875, 2845.00341796875, 3409.964599609375, 3067.0419921875, 3376.375, 3044.772705078125, 3040.02392578125, 3390.6494140625, 3364.166748046875, 3255.43115234375, 3462.355224609375, 3065.94140625, 3316.926513671875, 3843.5888671875, 3437.623779296875, 3673.828369140625, 3874.207275390625, 3402.20263671875, 3025.7998046875, 3226.775390625, 3513.16015625, 3322.506591796875], \"yaxis\": \"y\"}],\n",
       "                        {\"height\": 600, \"legend\": {\"tracegroupgap\": 0}, \"margin\": {\"t\": 60}, \"template\": {\"data\": {\"bar\": [{\"error_x\": {\"color\": \"#2a3f5f\"}, \"error_y\": {\"color\": \"#2a3f5f\"}, \"marker\": {\"line\": {\"color\": \"#E5ECF6\", \"width\": 0.5}}, \"type\": \"bar\"}], \"barpolar\": [{\"marker\": {\"line\": {\"color\": \"#E5ECF6\", \"width\": 0.5}}, \"type\": \"barpolar\"}], \"carpet\": [{\"aaxis\": {\"endlinecolor\": \"#2a3f5f\", \"gridcolor\": \"white\", \"linecolor\": \"white\", \"minorgridcolor\": \"white\", \"startlinecolor\": \"#2a3f5f\"}, \"baxis\": {\"endlinecolor\": \"#2a3f5f\", \"gridcolor\": \"white\", \"linecolor\": \"white\", \"minorgridcolor\": \"white\", \"startlinecolor\": \"#2a3f5f\"}, \"type\": \"carpet\"}], \"choropleth\": [{\"colorbar\": {\"outlinewidth\": 0, \"ticks\": \"\"}, \"type\": \"choropleth\"}], \"contour\": [{\"colorbar\": {\"outlinewidth\": 0, \"ticks\": \"\"}, \"colorscale\": [[0.0, \"#0d0887\"], [0.1111111111111111, \"#46039f\"], [0.2222222222222222, \"#7201a8\"], [0.3333333333333333, \"#9c179e\"], [0.4444444444444444, \"#bd3786\"], [0.5555555555555556, \"#d8576b\"], [0.6666666666666666, \"#ed7953\"], [0.7777777777777778, \"#fb9f3a\"], [0.8888888888888888, \"#fdca26\"], [1.0, \"#f0f921\"]], \"type\": \"contour\"}], \"contourcarpet\": [{\"colorbar\": {\"outlinewidth\": 0, \"ticks\": \"\"}, \"type\": \"contourcarpet\"}], \"heatmap\": [{\"colorbar\": {\"outlinewidth\": 0, \"ticks\": \"\"}, \"colorscale\": [[0.0, \"#0d0887\"], [0.1111111111111111, \"#46039f\"], [0.2222222222222222, \"#7201a8\"], [0.3333333333333333, \"#9c179e\"], [0.4444444444444444, \"#bd3786\"], [0.5555555555555556, \"#d8576b\"], [0.6666666666666666, \"#ed7953\"], [0.7777777777777778, \"#fb9f3a\"], [0.8888888888888888, \"#fdca26\"], [1.0, \"#f0f921\"]], \"type\": \"heatmap\"}], \"heatmapgl\": [{\"colorbar\": {\"outlinewidth\": 0, \"ticks\": \"\"}, \"colorscale\": [[0.0, \"#0d0887\"], [0.1111111111111111, \"#46039f\"], [0.2222222222222222, \"#7201a8\"], [0.3333333333333333, \"#9c179e\"], [0.4444444444444444, \"#bd3786\"], [0.5555555555555556, \"#d8576b\"], [0.6666666666666666, \"#ed7953\"], [0.7777777777777778, \"#fb9f3a\"], [0.8888888888888888, \"#fdca26\"], [1.0, \"#f0f921\"]], \"type\": \"heatmapgl\"}], \"histogram\": [{\"marker\": {\"colorbar\": {\"outlinewidth\": 0, \"ticks\": \"\"}}, \"type\": \"histogram\"}], \"histogram2d\": [{\"colorbar\": {\"outlinewidth\": 0, \"ticks\": \"\"}, \"colorscale\": [[0.0, \"#0d0887\"], [0.1111111111111111, \"#46039f\"], [0.2222222222222222, \"#7201a8\"], [0.3333333333333333, \"#9c179e\"], [0.4444444444444444, \"#bd3786\"], [0.5555555555555556, \"#d8576b\"], [0.6666666666666666, \"#ed7953\"], [0.7777777777777778, \"#fb9f3a\"], [0.8888888888888888, \"#fdca26\"], [1.0, \"#f0f921\"]], \"type\": \"histogram2d\"}], \"histogram2dcontour\": [{\"colorbar\": {\"outlinewidth\": 0, \"ticks\": \"\"}, \"colorscale\": [[0.0, \"#0d0887\"], [0.1111111111111111, \"#46039f\"], [0.2222222222222222, \"#7201a8\"], [0.3333333333333333, \"#9c179e\"], [0.4444444444444444, \"#bd3786\"], [0.5555555555555556, \"#d8576b\"], [0.6666666666666666, \"#ed7953\"], [0.7777777777777778, \"#fb9f3a\"], [0.8888888888888888, \"#fdca26\"], [1.0, \"#f0f921\"]], \"type\": \"histogram2dcontour\"}], \"mesh3d\": [{\"colorbar\": {\"outlinewidth\": 0, \"ticks\": \"\"}, \"type\": \"mesh3d\"}], \"parcoords\": [{\"line\": {\"colorbar\": {\"outlinewidth\": 0, \"ticks\": \"\"}}, \"type\": \"parcoords\"}], \"scatter\": [{\"marker\": {\"colorbar\": {\"outlinewidth\": 0, \"ticks\": \"\"}}, \"type\": \"scatter\"}], \"scatter3d\": [{\"line\": {\"colorbar\": {\"outlinewidth\": 0, \"ticks\": \"\"}}, \"marker\": {\"colorbar\": {\"outlinewidth\": 0, \"ticks\": \"\"}}, \"type\": \"scatter3d\"}], \"scattercarpet\": [{\"marker\": {\"colorbar\": {\"outlinewidth\": 0, \"ticks\": \"\"}}, \"type\": \"scattercarpet\"}], \"scattergeo\": [{\"marker\": {\"colorbar\": {\"outlinewidth\": 0, \"ticks\": \"\"}}, \"type\": \"scattergeo\"}], \"scattergl\": [{\"marker\": {\"colorbar\": {\"outlinewidth\": 0, \"ticks\": \"\"}}, \"type\": \"scattergl\"}], \"scattermapbox\": [{\"marker\": {\"colorbar\": {\"outlinewidth\": 0, \"ticks\": \"\"}}, \"type\": \"scattermapbox\"}], \"scatterpolar\": [{\"marker\": {\"colorbar\": {\"outlinewidth\": 0, \"ticks\": \"\"}}, \"type\": \"scatterpolar\"}], \"scatterpolargl\": [{\"marker\": {\"colorbar\": {\"outlinewidth\": 0, \"ticks\": \"\"}}, \"type\": \"scatterpolargl\"}], \"scatterternary\": [{\"marker\": {\"colorbar\": {\"outlinewidth\": 0, \"ticks\": \"\"}}, \"type\": \"scatterternary\"}], \"surface\": [{\"colorbar\": {\"outlinewidth\": 0, \"ticks\": \"\"}, \"colorscale\": [[0.0, \"#0d0887\"], [0.1111111111111111, \"#46039f\"], [0.2222222222222222, \"#7201a8\"], [0.3333333333333333, \"#9c179e\"], [0.4444444444444444, \"#bd3786\"], [0.5555555555555556, \"#d8576b\"], [0.6666666666666666, \"#ed7953\"], [0.7777777777777778, \"#fb9f3a\"], [0.8888888888888888, \"#fdca26\"], [1.0, \"#f0f921\"]], \"type\": \"surface\"}], \"table\": [{\"cells\": {\"fill\": {\"color\": \"#EBF0F8\"}, \"line\": {\"color\": \"white\"}}, \"header\": {\"fill\": {\"color\": \"#C8D4E3\"}, \"line\": {\"color\": \"white\"}}, \"type\": \"table\"}]}, \"layout\": {\"annotationdefaults\": {\"arrowcolor\": \"#2a3f5f\", \"arrowhead\": 0, \"arrowwidth\": 1}, \"colorscale\": {\"diverging\": [[0, \"#8e0152\"], [0.1, \"#c51b7d\"], [0.2, \"#de77ae\"], [0.3, \"#f1b6da\"], [0.4, \"#fde0ef\"], [0.5, \"#f7f7f7\"], [0.6, \"#e6f5d0\"], [0.7, \"#b8e186\"], [0.8, \"#7fbc41\"], [0.9, \"#4d9221\"], [1, \"#276419\"]], \"sequential\": [[0.0, \"#0d0887\"], [0.1111111111111111, \"#46039f\"], [0.2222222222222222, \"#7201a8\"], [0.3333333333333333, \"#9c179e\"], [0.4444444444444444, \"#bd3786\"], [0.5555555555555556, \"#d8576b\"], [0.6666666666666666, \"#ed7953\"], [0.7777777777777778, \"#fb9f3a\"], [0.8888888888888888, \"#fdca26\"], [1.0, \"#f0f921\"]], \"sequentialminus\": [[0.0, \"#0d0887\"], [0.1111111111111111, \"#46039f\"], [0.2222222222222222, \"#7201a8\"], [0.3333333333333333, \"#9c179e\"], [0.4444444444444444, \"#bd3786\"], [0.5555555555555556, \"#d8576b\"], [0.6666666666666666, \"#ed7953\"], [0.7777777777777778, \"#fb9f3a\"], [0.8888888888888888, \"#fdca26\"], [1.0, \"#f0f921\"]]}, \"colorway\": [\"#636efa\", \"#EF553B\", \"#00cc96\", \"#ab63fa\", \"#FFA15A\", \"#19d3f3\", \"#FF6692\", \"#B6E880\", \"#FF97FF\", \"#FECB52\"], \"font\": {\"color\": \"#2a3f5f\"}, \"geo\": {\"bgcolor\": \"white\", \"lakecolor\": \"white\", \"landcolor\": \"#E5ECF6\", \"showlakes\": true, \"showland\": true, \"subunitcolor\": \"white\"}, \"hoverlabel\": {\"align\": \"left\"}, \"hovermode\": \"closest\", \"mapbox\": {\"style\": \"light\"}, \"paper_bgcolor\": \"white\", \"plot_bgcolor\": \"#E5ECF6\", \"polar\": {\"angularaxis\": {\"gridcolor\": \"white\", \"linecolor\": \"white\", \"ticks\": \"\"}, \"bgcolor\": \"#E5ECF6\", \"radialaxis\": {\"gridcolor\": \"white\", \"linecolor\": \"white\", \"ticks\": \"\"}}, \"scene\": {\"xaxis\": {\"backgroundcolor\": \"#E5ECF6\", \"gridcolor\": \"white\", \"gridwidth\": 2, \"linecolor\": \"white\", \"showbackground\": true, \"ticks\": \"\", \"zerolinecolor\": \"white\"}, \"yaxis\": {\"backgroundcolor\": \"#E5ECF6\", \"gridcolor\": \"white\", \"gridwidth\": 2, \"linecolor\": \"white\", \"showbackground\": true, \"ticks\": \"\", \"zerolinecolor\": \"white\"}, \"zaxis\": {\"backgroundcolor\": \"#E5ECF6\", \"gridcolor\": \"white\", \"gridwidth\": 2, \"linecolor\": \"white\", \"showbackground\": true, \"ticks\": \"\", \"zerolinecolor\": \"white\"}}, \"shapedefaults\": {\"line\": {\"color\": \"#2a3f5f\"}}, \"ternary\": {\"aaxis\": {\"gridcolor\": \"white\", \"linecolor\": \"white\", \"ticks\": \"\"}, \"baxis\": {\"gridcolor\": \"white\", \"linecolor\": \"white\", \"ticks\": \"\"}, \"bgcolor\": \"#E5ECF6\", \"caxis\": {\"gridcolor\": \"white\", \"linecolor\": \"white\", \"ticks\": \"\"}}, \"title\": {\"x\": 0.05}, \"xaxis\": {\"automargin\": true, \"gridcolor\": \"white\", \"linecolor\": \"white\", \"ticks\": \"\", \"zerolinecolor\": \"white\", \"zerolinewidth\": 2}, \"yaxis\": {\"automargin\": true, \"gridcolor\": \"white\", \"linecolor\": \"white\", \"ticks\": \"\", \"zerolinecolor\": \"white\", \"zerolinewidth\": 2}}}, \"xaxis\": {\"anchor\": \"y\", \"domain\": [0.0, 0.98], \"title\": {\"text\": \"total_iters\"}}, \"yaxis\": {\"anchor\": \"x\", \"domain\": [0.0, 1.0], \"title\": {\"text\": \"train_mse_loss\"}}},\n",
       "                        {\"responsive\": true}\n",
       "                    ).then(function(){\n",
       "                            \n",
       "var gd = document.getElementById('4768a454-77e1-47ae-b808-d42e05cec618');\n",
       "var x = new MutationObserver(function (mutations, observer) {{\n",
       "        var display = window.getComputedStyle(gd).display;\n",
       "        if (!display || display === 'none') {{\n",
       "            console.log([gd, 'removed!']);\n",
       "            Plotly.purge(gd);\n",
       "            observer.disconnect();\n",
       "        }}\n",
       "}});\n",
       "\n",
       "// Listen for the removal of the full notebook cells\n",
       "var notebookContainer = gd.closest('#notebook-container');\n",
       "if (notebookContainer) {{\n",
       "    x.observe(notebookContainer, {childList: true});\n",
       "}}\n",
       "\n",
       "// Listen for the clearing of the current output cell\n",
       "var outputEl = gd.closest('.output');\n",
       "if (outputEl) {{\n",
       "    x.observe(outputEl, {childList: true});\n",
       "}}\n",
       "\n",
       "                        })\n",
       "                };\n",
       "                });\n",
       "            </script>\n",
       "        </div>"
      ]
     },
     "metadata": {},
     "output_type": "display_data"
    }
   ],
   "source": [
    "fig = px.line(trainer.training_info, x='total_iters', y='train_mse_loss')\n",
    "fig.show()\n"
   ]
  },
  {
   "cell_type": "code",
   "execution_count": 25,
   "metadata": {},
   "outputs": [
    {
     "data": {
      "application/vnd.plotly.v1+json": {
       "config": {
        "plotlyServerURL": "https://plot.ly"
       },
       "data": [
        {
         "hoverlabel": {
          "namelength": 0
         },
         "hovertemplate": "total_iters=%{x}<br>val_mse=%{y}",
         "legendgroup": "",
         "line": {
          "color": "#636efa",
          "dash": "solid"
         },
         "mode": "lines",
         "name": "",
         "showlegend": false,
         "type": "scatter",
         "x": [
          0,
          1,
          2,
          3,
          4,
          5,
          6,
          7,
          8,
          9,
          10,
          11,
          12,
          13,
          14,
          15,
          16,
          17,
          18,
          19,
          20,
          21,
          22,
          23,
          24,
          25,
          26,
          27,
          28,
          29,
          30,
          31,
          32,
          33,
          34,
          35,
          36,
          37,
          38,
          39,
          40,
          41,
          42,
          43,
          44,
          45,
          46,
          47,
          48,
          49,
          50,
          51,
          52,
          53,
          54,
          55,
          56,
          57,
          58,
          59,
          60,
          61,
          62,
          63,
          64,
          65,
          66,
          67,
          68,
          69,
          70,
          71,
          72,
          73,
          74,
          75,
          76,
          77,
          78,
          79,
          80,
          81,
          82,
          83,
          84,
          85,
          86,
          87,
          88,
          89,
          90,
          91,
          92,
          93,
          94,
          95,
          96,
          97,
          98,
          99,
          100,
          101,
          102,
          103,
          104,
          105,
          106,
          107,
          108,
          109,
          110,
          111,
          112,
          113,
          114,
          115,
          116,
          117,
          118,
          119,
          120,
          121,
          122,
          123,
          124,
          125,
          126,
          127,
          128,
          129,
          130,
          131,
          132,
          133,
          134,
          135,
          136,
          137,
          138,
          139,
          140,
          141,
          142,
          143,
          144,
          145,
          146,
          147,
          148,
          149,
          150,
          151,
          152,
          153,
          154,
          155,
          156,
          157,
          158,
          159,
          160,
          161,
          162,
          163,
          164,
          165,
          166,
          167,
          168,
          169,
          170,
          171,
          172,
          173,
          174,
          175,
          176,
          177,
          178,
          179,
          180,
          181,
          182,
          183,
          184,
          185,
          186,
          187,
          188,
          189,
          190,
          191,
          192,
          193,
          194,
          195,
          196,
          197,
          198,
          199,
          200,
          201,
          202,
          203,
          204,
          205,
          206,
          207,
          208,
          209,
          210,
          211,
          212,
          213,
          214,
          215,
          216,
          217,
          218,
          219,
          220,
          221,
          222,
          223,
          224,
          225,
          226,
          227,
          228,
          229,
          230,
          231,
          232,
          233,
          234,
          235,
          236,
          237,
          238,
          239,
          240,
          241,
          242,
          243,
          244,
          245,
          246,
          247,
          248,
          249,
          250,
          251,
          252,
          253,
          254,
          255,
          256,
          257,
          258,
          259,
          260,
          261,
          262,
          263,
          264,
          265,
          266,
          267,
          268,
          269,
          270,
          271,
          272,
          273,
          274,
          275,
          276,
          277,
          278,
          279,
          280,
          281,
          282,
          283,
          284,
          285,
          286,
          287,
          288,
          289,
          290,
          291,
          292,
          293,
          294,
          295,
          296,
          297,
          298,
          299,
          300,
          301,
          302,
          303,
          304,
          305,
          306,
          307,
          308,
          309,
          310,
          311,
          312,
          313,
          314,
          315,
          316,
          317,
          318,
          319,
          320,
          321,
          322,
          323,
          324,
          325,
          326,
          327,
          328,
          329,
          330,
          331,
          332,
          333,
          334,
          335,
          336,
          337,
          338,
          339,
          340,
          341,
          342
         ],
         "xaxis": "x",
         "y": [
          391008.65625,
          388972.3125,
          386834.96875,
          385245.0625,
          384916.59375,
          385676.5,
          386701.40625,
          387383.78125,
          387554.6875,
          386764.28125,
          383121.125,
          381613.3125,
          377750.0625,
          365841.375,
          362527.5625,
          354867.34375,
          343489.21875,
          324904.9375,
          310946.40625,
          313237.15625,
          313308.90625,
          308281.28125,
          305754.03125,
          303569.5,
          309329.375,
          308691.25,
          310207.1875,
          300578.21875,
          306510.875,
          314167.75,
          304093.375,
          297029.625,
          310494.6875,
          309575.6875,
          304302.34375,
          297985.15625,
          305999.1875,
          305720.625,
          297502.5,
          290126.90625,
          296618.96875,
          295694.0625,
          286037.34375,
          276470.1875,
          286707.6875,
          288037.59375,
          277771.0625,
          272163.59375,
          282899.6875,
          278682.40625,
          271241.9375,
          261464.828125,
          257587.984375,
          251206.25,
          249194.6875,
          247143.34375,
          246811.421875,
          251139.9375,
          245778.25,
          239370.59375,
          238631.5625,
          228480.4375,
          223120.9375,
          219193.34375,
          228909.3125,
          211886.015625,
          208801.90625,
          222690.53125,
          216567.984375,
          201742.46875,
          196408.65625,
          181007.25,
          189696.609375,
          192178.15625,
          175999.5,
          184662.25,
          196741.171875,
          165646.609375,
          181239.453125,
          169925.3125,
          153243.265625,
          166070.640625,
          181369.0625,
          161083.828125,
          164335.8125,
          170852.875,
          163516.09375,
          155221.90625,
          153177.734375,
          166226.265625,
          149807.3125,
          152079.640625,
          153646.875,
          157544.265625,
          153122.046875,
          143796.390625,
          150213.953125,
          131759.84375,
          140774.890625,
          145455.84375,
          123593.5,
          117790.375,
          125520.6484375,
          106231.7265625,
          79306.7265625,
          99261.34375,
          95015.375,
          74049.4375,
          85102.9296875,
          82340.3671875,
          68244.7421875,
          71004.59375,
          67052.078125,
          77062.34375,
          93515.546875,
          75537.484375,
          73268.8515625,
          78448.078125,
          72636.765625,
          47480.46484375,
          50286.40625,
          70924.796875,
          54371.09375,
          41329.03515625,
          61962.8125,
          48649.8984375,
          33699.953125,
          38832.78125,
          47937.85546875,
          42838.421875,
          40464.1640625,
          51964.62890625,
          54754.06640625,
          48287.42578125,
          50304.3828125,
          60104.09375,
          54116.0234375,
          46264.67578125,
          53800.66015625,
          54307.18359375,
          44279.328125,
          44667.69140625,
          40362.69921875,
          32407.3359375,
          38705.109375,
          32642.5234375,
          30631.3828125,
          37605.703125,
          31718.189453125,
          26042.033203125,
          34694.9453125,
          33463.46484375,
          29009.5078125,
          46242.43359375,
          35933.03125,
          23773.66015625,
          29199.576171875,
          33823.22265625,
          25908.689453125,
          21360.546875,
          24315.416015625,
          27933.900390625,
          22744.205078125,
          20079.046875,
          24830.125,
          27208.6171875,
          21779.1015625,
          24133.33984375,
          33392.8203125,
          23404.259765625,
          19478.03515625,
          19908.197265625,
          24764.23828125,
          22143.208984375,
          21114.31640625,
          22129.52734375,
          18878.724609375,
          19936.82421875,
          20457.23828125,
          20483.119140625,
          19519.61328125,
          19709.0078125,
          20457.162109375,
          17467.146484375,
          16102.546875,
          18170.830078125,
          19494.080078125,
          18488.1328125,
          19915.09375,
          21202.576171875,
          19724.984375,
          17653.478515625,
          17415.34375,
          18598.138671875,
          18033.33203125,
          14897.365234375,
          15119.4052734375,
          19416.16796875,
          17897.0234375,
          18324.572265625,
          19648.439453125,
          20611.333984375,
          19196.994140625,
          17497.546875,
          19837.8984375,
          21245.65625,
          17055.046875,
          17792.44140625,
          22824.134765625,
          21009.513671875,
          19779.79296875,
          21164.861328125,
          24678.583984375,
          22335.05859375,
          20836.669921875,
          20485.66015625,
          18234.1171875,
          17196.529296875,
          18287.8984375,
          21188.94140625,
          23112.48046875,
          22229.1328125,
          22103.974609375,
          20309.203125,
          20691.447265625,
          23072.423828125,
          23992.0703125,
          21065.80859375,
          23651.138671875,
          25369.125,
          21044.150390625,
          19222.11328125,
          20741.5859375,
          20591.60546875,
          20191.33984375,
          22271.150390625,
          22963.28125,
          20922.02734375,
          18610.8828125,
          20002.951171875,
          20366.056640625,
          19598.330078125,
          18128.44140625,
          18228.564453125,
          19444.107421875,
          18764.275390625,
          17650.080078125,
          20185.873046875,
          19748.99609375,
          18407.251953125,
          17357.396484375,
          20533.107421875,
          22715.470703125,
          18000.53515625,
          18149.224609375,
          19519.26171875,
          20168.28125,
          18986.537109375,
          18999.98828125,
          17875.69140625,
          16240.3974609375,
          17018.537109375,
          19539.541015625,
          20377.572265625,
          17196.306640625,
          16396.94921875,
          19319.302734375,
          18340.234375,
          16908.76171875,
          17353.05859375,
          19562.59375,
          18814.69140625,
          18932.765625,
          19373.6015625,
          19796.634765625,
          22260.1328125,
          23178.908203125,
          19788.08984375,
          18114.908203125,
          18035.26953125,
          19416.69921875,
          18361.7265625,
          18469.951171875,
          19432.869140625,
          22162.01171875,
          21293.599609375,
          18689.873046875,
          18947.912109375,
          19715.31640625,
          20164.248046875,
          18550.12109375,
          18485.970703125,
          19037.583984375,
          18173.970703125,
          18412.177734375,
          16738.51953125,
          17103.001953125,
          16578.435546875,
          16245.97265625,
          17569.34375,
          17660.728515625,
          17627.357421875,
          17807.251953125,
          18427.33984375,
          20025.806640625,
          17449.037109375,
          15873.34765625,
          17443.373046875,
          18531.873046875,
          18363.501953125,
          18423.59375,
          18448.91796875,
          17895.857421875,
          20289.958984375,
          21209.875,
          20363.681640625,
          19847.37109375,
          19731.275390625,
          19862.67578125,
          18240.87890625,
          15864.2353515625,
          16472.61328125,
          17068.94921875,
          17238.34375,
          17187.78515625,
          18446.634765625,
          19062.501953125,
          18355.716796875,
          19140.533203125,
          19179.818359375,
          18890.90234375,
          17029.154296875,
          17709.986328125,
          18479.94140625,
          19714.02734375,
          18717.16796875,
          18255.3671875,
          19111.7734375,
          18513.720703125,
          17993.865234375,
          17304.64453125,
          17872.09375,
          17020.517578125
         ],
         "yaxis": "y"
        }
       ],
       "layout": {
        "autosize": true,
        "legend": {
         "tracegroupgap": 0
        },
        "margin": {
         "t": 60
        },
        "template": {
         "data": {
          "bar": [
           {
            "error_x": {
             "color": "#2a3f5f"
            },
            "error_y": {
             "color": "#2a3f5f"
            },
            "marker": {
             "line": {
              "color": "#E5ECF6",
              "width": 0.5
             }
            },
            "type": "bar"
           }
          ],
          "barpolar": [
           {
            "marker": {
             "line": {
              "color": "#E5ECF6",
              "width": 0.5
             }
            },
            "type": "barpolar"
           }
          ],
          "carpet": [
           {
            "aaxis": {
             "endlinecolor": "#2a3f5f",
             "gridcolor": "white",
             "linecolor": "white",
             "minorgridcolor": "white",
             "startlinecolor": "#2a3f5f"
            },
            "baxis": {
             "endlinecolor": "#2a3f5f",
             "gridcolor": "white",
             "linecolor": "white",
             "minorgridcolor": "white",
             "startlinecolor": "#2a3f5f"
            },
            "type": "carpet"
           }
          ],
          "choropleth": [
           {
            "colorbar": {
             "outlinewidth": 0,
             "ticks": ""
            },
            "type": "choropleth"
           }
          ],
          "contour": [
           {
            "colorbar": {
             "outlinewidth": 0,
             "ticks": ""
            },
            "colorscale": [
             [
              0,
              "#0d0887"
             ],
             [
              0.1111111111111111,
              "#46039f"
             ],
             [
              0.2222222222222222,
              "#7201a8"
             ],
             [
              0.3333333333333333,
              "#9c179e"
             ],
             [
              0.4444444444444444,
              "#bd3786"
             ],
             [
              0.5555555555555556,
              "#d8576b"
             ],
             [
              0.6666666666666666,
              "#ed7953"
             ],
             [
              0.7777777777777778,
              "#fb9f3a"
             ],
             [
              0.8888888888888888,
              "#fdca26"
             ],
             [
              1,
              "#f0f921"
             ]
            ],
            "type": "contour"
           }
          ],
          "contourcarpet": [
           {
            "colorbar": {
             "outlinewidth": 0,
             "ticks": ""
            },
            "type": "contourcarpet"
           }
          ],
          "heatmap": [
           {
            "colorbar": {
             "outlinewidth": 0,
             "ticks": ""
            },
            "colorscale": [
             [
              0,
              "#0d0887"
             ],
             [
              0.1111111111111111,
              "#46039f"
             ],
             [
              0.2222222222222222,
              "#7201a8"
             ],
             [
              0.3333333333333333,
              "#9c179e"
             ],
             [
              0.4444444444444444,
              "#bd3786"
             ],
             [
              0.5555555555555556,
              "#d8576b"
             ],
             [
              0.6666666666666666,
              "#ed7953"
             ],
             [
              0.7777777777777778,
              "#fb9f3a"
             ],
             [
              0.8888888888888888,
              "#fdca26"
             ],
             [
              1,
              "#f0f921"
             ]
            ],
            "type": "heatmap"
           }
          ],
          "heatmapgl": [
           {
            "colorbar": {
             "outlinewidth": 0,
             "ticks": ""
            },
            "colorscale": [
             [
              0,
              "#0d0887"
             ],
             [
              0.1111111111111111,
              "#46039f"
             ],
             [
              0.2222222222222222,
              "#7201a8"
             ],
             [
              0.3333333333333333,
              "#9c179e"
             ],
             [
              0.4444444444444444,
              "#bd3786"
             ],
             [
              0.5555555555555556,
              "#d8576b"
             ],
             [
              0.6666666666666666,
              "#ed7953"
             ],
             [
              0.7777777777777778,
              "#fb9f3a"
             ],
             [
              0.8888888888888888,
              "#fdca26"
             ],
             [
              1,
              "#f0f921"
             ]
            ],
            "type": "heatmapgl"
           }
          ],
          "histogram": [
           {
            "marker": {
             "colorbar": {
              "outlinewidth": 0,
              "ticks": ""
             }
            },
            "type": "histogram"
           }
          ],
          "histogram2d": [
           {
            "colorbar": {
             "outlinewidth": 0,
             "ticks": ""
            },
            "colorscale": [
             [
              0,
              "#0d0887"
             ],
             [
              0.1111111111111111,
              "#46039f"
             ],
             [
              0.2222222222222222,
              "#7201a8"
             ],
             [
              0.3333333333333333,
              "#9c179e"
             ],
             [
              0.4444444444444444,
              "#bd3786"
             ],
             [
              0.5555555555555556,
              "#d8576b"
             ],
             [
              0.6666666666666666,
              "#ed7953"
             ],
             [
              0.7777777777777778,
              "#fb9f3a"
             ],
             [
              0.8888888888888888,
              "#fdca26"
             ],
             [
              1,
              "#f0f921"
             ]
            ],
            "type": "histogram2d"
           }
          ],
          "histogram2dcontour": [
           {
            "colorbar": {
             "outlinewidth": 0,
             "ticks": ""
            },
            "colorscale": [
             [
              0,
              "#0d0887"
             ],
             [
              0.1111111111111111,
              "#46039f"
             ],
             [
              0.2222222222222222,
              "#7201a8"
             ],
             [
              0.3333333333333333,
              "#9c179e"
             ],
             [
              0.4444444444444444,
              "#bd3786"
             ],
             [
              0.5555555555555556,
              "#d8576b"
             ],
             [
              0.6666666666666666,
              "#ed7953"
             ],
             [
              0.7777777777777778,
              "#fb9f3a"
             ],
             [
              0.8888888888888888,
              "#fdca26"
             ],
             [
              1,
              "#f0f921"
             ]
            ],
            "type": "histogram2dcontour"
           }
          ],
          "mesh3d": [
           {
            "colorbar": {
             "outlinewidth": 0,
             "ticks": ""
            },
            "type": "mesh3d"
           }
          ],
          "parcoords": [
           {
            "line": {
             "colorbar": {
              "outlinewidth": 0,
              "ticks": ""
             }
            },
            "type": "parcoords"
           }
          ],
          "scatter": [
           {
            "marker": {
             "colorbar": {
              "outlinewidth": 0,
              "ticks": ""
             }
            },
            "type": "scatter"
           }
          ],
          "scatter3d": [
           {
            "line": {
             "colorbar": {
              "outlinewidth": 0,
              "ticks": ""
             }
            },
            "marker": {
             "colorbar": {
              "outlinewidth": 0,
              "ticks": ""
             }
            },
            "type": "scatter3d"
           }
          ],
          "scattercarpet": [
           {
            "marker": {
             "colorbar": {
              "outlinewidth": 0,
              "ticks": ""
             }
            },
            "type": "scattercarpet"
           }
          ],
          "scattergeo": [
           {
            "marker": {
             "colorbar": {
              "outlinewidth": 0,
              "ticks": ""
             }
            },
            "type": "scattergeo"
           }
          ],
          "scattergl": [
           {
            "marker": {
             "colorbar": {
              "outlinewidth": 0,
              "ticks": ""
             }
            },
            "type": "scattergl"
           }
          ],
          "scattermapbox": [
           {
            "marker": {
             "colorbar": {
              "outlinewidth": 0,
              "ticks": ""
             }
            },
            "type": "scattermapbox"
           }
          ],
          "scatterpolar": [
           {
            "marker": {
             "colorbar": {
              "outlinewidth": 0,
              "ticks": ""
             }
            },
            "type": "scatterpolar"
           }
          ],
          "scatterpolargl": [
           {
            "marker": {
             "colorbar": {
              "outlinewidth": 0,
              "ticks": ""
             }
            },
            "type": "scatterpolargl"
           }
          ],
          "scatterternary": [
           {
            "marker": {
             "colorbar": {
              "outlinewidth": 0,
              "ticks": ""
             }
            },
            "type": "scatterternary"
           }
          ],
          "surface": [
           {
            "colorbar": {
             "outlinewidth": 0,
             "ticks": ""
            },
            "colorscale": [
             [
              0,
              "#0d0887"
             ],
             [
              0.1111111111111111,
              "#46039f"
             ],
             [
              0.2222222222222222,
              "#7201a8"
             ],
             [
              0.3333333333333333,
              "#9c179e"
             ],
             [
              0.4444444444444444,
              "#bd3786"
             ],
             [
              0.5555555555555556,
              "#d8576b"
             ],
             [
              0.6666666666666666,
              "#ed7953"
             ],
             [
              0.7777777777777778,
              "#fb9f3a"
             ],
             [
              0.8888888888888888,
              "#fdca26"
             ],
             [
              1,
              "#f0f921"
             ]
            ],
            "type": "surface"
           }
          ],
          "table": [
           {
            "cells": {
             "fill": {
              "color": "#EBF0F8"
             },
             "line": {
              "color": "white"
             }
            },
            "header": {
             "fill": {
              "color": "#C8D4E3"
             },
             "line": {
              "color": "white"
             }
            },
            "type": "table"
           }
          ]
         },
         "layout": {
          "annotationdefaults": {
           "arrowcolor": "#2a3f5f",
           "arrowhead": 0,
           "arrowwidth": 1
          },
          "colorscale": {
           "diverging": [
            [
             0,
             "#8e0152"
            ],
            [
             0.1,
             "#c51b7d"
            ],
            [
             0.2,
             "#de77ae"
            ],
            [
             0.3,
             "#f1b6da"
            ],
            [
             0.4,
             "#fde0ef"
            ],
            [
             0.5,
             "#f7f7f7"
            ],
            [
             0.6,
             "#e6f5d0"
            ],
            [
             0.7,
             "#b8e186"
            ],
            [
             0.8,
             "#7fbc41"
            ],
            [
             0.9,
             "#4d9221"
            ],
            [
             1,
             "#276419"
            ]
           ],
           "sequential": [
            [
             0,
             "#0d0887"
            ],
            [
             0.1111111111111111,
             "#46039f"
            ],
            [
             0.2222222222222222,
             "#7201a8"
            ],
            [
             0.3333333333333333,
             "#9c179e"
            ],
            [
             0.4444444444444444,
             "#bd3786"
            ],
            [
             0.5555555555555556,
             "#d8576b"
            ],
            [
             0.6666666666666666,
             "#ed7953"
            ],
            [
             0.7777777777777778,
             "#fb9f3a"
            ],
            [
             0.8888888888888888,
             "#fdca26"
            ],
            [
             1,
             "#f0f921"
            ]
           ],
           "sequentialminus": [
            [
             0,
             "#0d0887"
            ],
            [
             0.1111111111111111,
             "#46039f"
            ],
            [
             0.2222222222222222,
             "#7201a8"
            ],
            [
             0.3333333333333333,
             "#9c179e"
            ],
            [
             0.4444444444444444,
             "#bd3786"
            ],
            [
             0.5555555555555556,
             "#d8576b"
            ],
            [
             0.6666666666666666,
             "#ed7953"
            ],
            [
             0.7777777777777778,
             "#fb9f3a"
            ],
            [
             0.8888888888888888,
             "#fdca26"
            ],
            [
             1,
             "#f0f921"
            ]
           ]
          },
          "colorway": [
           "#636efa",
           "#EF553B",
           "#00cc96",
           "#ab63fa",
           "#FFA15A",
           "#19d3f3",
           "#FF6692",
           "#B6E880",
           "#FF97FF",
           "#FECB52"
          ],
          "font": {
           "color": "#2a3f5f"
          },
          "geo": {
           "bgcolor": "white",
           "lakecolor": "white",
           "landcolor": "#E5ECF6",
           "showlakes": true,
           "showland": true,
           "subunitcolor": "white"
          },
          "hoverlabel": {
           "align": "left"
          },
          "hovermode": "closest",
          "mapbox": {
           "style": "light"
          },
          "paper_bgcolor": "white",
          "plot_bgcolor": "#E5ECF6",
          "polar": {
           "angularaxis": {
            "gridcolor": "white",
            "linecolor": "white",
            "ticks": ""
           },
           "bgcolor": "#E5ECF6",
           "radialaxis": {
            "gridcolor": "white",
            "linecolor": "white",
            "ticks": ""
           }
          },
          "scene": {
           "xaxis": {
            "backgroundcolor": "#E5ECF6",
            "gridcolor": "white",
            "gridwidth": 2,
            "linecolor": "white",
            "showbackground": true,
            "ticks": "",
            "zerolinecolor": "white"
           },
           "yaxis": {
            "backgroundcolor": "#E5ECF6",
            "gridcolor": "white",
            "gridwidth": 2,
            "linecolor": "white",
            "showbackground": true,
            "ticks": "",
            "zerolinecolor": "white"
           },
           "zaxis": {
            "backgroundcolor": "#E5ECF6",
            "gridcolor": "white",
            "gridwidth": 2,
            "linecolor": "white",
            "showbackground": true,
            "ticks": "",
            "zerolinecolor": "white"
           }
          },
          "shapedefaults": {
           "line": {
            "color": "#2a3f5f"
           }
          },
          "ternary": {
           "aaxis": {
            "gridcolor": "white",
            "linecolor": "white",
            "ticks": ""
           },
           "baxis": {
            "gridcolor": "white",
            "linecolor": "white",
            "ticks": ""
           },
           "bgcolor": "#E5ECF6",
           "caxis": {
            "gridcolor": "white",
            "linecolor": "white",
            "ticks": ""
           }
          },
          "title": {
           "x": 0.05
          },
          "xaxis": {
           "automargin": true,
           "gridcolor": "white",
           "linecolor": "white",
           "ticks": "",
           "zerolinecolor": "white",
           "zerolinewidth": 2
          },
          "yaxis": {
           "automargin": true,
           "gridcolor": "white",
           "linecolor": "white",
           "ticks": "",
           "zerolinecolor": "white",
           "zerolinewidth": 2
          }
         }
        },
        "xaxis": {
         "anchor": "y",
         "autorange": true,
         "domain": [
          0,
          0.98
         ],
         "range": [
          0,
          342
         ],
         "title": {
          "text": "total_iters"
         },
         "type": "linear"
        },
        "yaxis": {
         "anchor": "x",
         "autorange": true,
         "domain": [
          0,
          1
         ],
         "range": [
          -5997.706488715277,
          411903.72797309025
         ],
         "title": {
          "text": "val_mse"
         },
         "type": "linear"
        }
       }
      },
      "image/png": "[encoded data removed]",
      "text/html": [
       "<div>\n",
       "        \n",
       "        \n",
       "            <div id=\"2baeeada-9889-4ae5-9fd7-03bc73d686aa\" class=\"plotly-graph-div\" style=\"height:600px; width:100%;\"></div>\n",
       "            <script type=\"text/javascript\">\n",
       "                require([\"plotly\"], function(Plotly) {\n",
       "                    window.PLOTLYENV=window.PLOTLYENV || {};\n",
       "                    \n",
       "                if (document.getElementById(\"2baeeada-9889-4ae5-9fd7-03bc73d686aa\")) {\n",
       "                    Plotly.newPlot(\n",
       "                        '2baeeada-9889-4ae5-9fd7-03bc73d686aa',\n",
       "                        [{\"hoverlabel\": {\"namelength\": 0}, \"hovertemplate\": \"total_iters=%{x}<br>val_mse=%{y}\", \"legendgroup\": \"\", \"line\": {\"color\": \"#636efa\", \"dash\": \"solid\"}, \"mode\": \"lines\", \"name\": \"\", \"showlegend\": false, \"type\": \"scatter\", \"x\": [0, 1, 2, 3, 4, 5, 6, 7, 8, 9, 10, 11, 12, 13, 14, 15, 16, 17, 18, 19, 20, 21, 22, 23, 24, 25, 26, 27, 28, 29, 30, 31, 32, 33, 34, 35, 36, 37, 38, 39, 40, 41, 42, 43, 44, 45, 46, 47, 48, 49, 50, 51, 52, 53, 54, 55, 56, 57, 58, 59, 60, 61, 62, 63, 64, 65, 66, 67, 68, 69, 70, 71, 72, 73, 74, 75, 76, 77, 78, 79, 80, 81, 82, 83, 84, 85, 86, 87, 88, 89, 90, 91, 92, 93, 94, 95, 96, 97, 98, 99, 100, 101, 102, 103, 104, 105, 106, 107, 108, 109, 110, 111, 112, 113, 114, 115, 116, 117, 118, 119, 120, 121, 122, 123, 124, 125, 126, 127, 128, 129, 130, 131, 132, 133, 134, 135, 136, 137, 138, 139, 140, 141, 142, 143, 144, 145, 146, 147, 148, 149, 150, 151, 152, 153, 154, 155, 156, 157, 158, 159, 160, 161, 162, 163, 164, 165, 166, 167, 168, 169, 170, 171, 172, 173, 174, 175, 176, 177, 178, 179, 180, 181, 182, 183, 184, 185, 186, 187, 188, 189, 190, 191, 192, 193, 194, 195, 196, 197, 198, 199, 200, 201, 202, 203, 204, 205, 206, 207, 208, 209, 210, 211, 212, 213, 214, 215, 216, 217, 218, 219, 220, 221, 222, 223, 224, 225, 226, 227, 228, 229, 230, 231, 232, 233, 234, 235, 236, 237, 238, 239, 240, 241, 242, 243, 244, 245, 246, 247, 248, 249, 250, 251, 252, 253, 254, 255, 256, 257, 258, 259, 260, 261, 262, 263, 264, 265, 266, 267, 268, 269, 270, 271, 272, 273, 274, 275, 276, 277, 278, 279, 280, 281, 282, 283, 284, 285, 286, 287, 288, 289, 290, 291, 292, 293, 294, 295, 296, 297, 298, 299, 300, 301, 302, 303, 304, 305, 306, 307, 308, 309, 310, 311, 312, 313, 314, 315, 316, 317, 318, 319, 320, 321, 322, 323, 324, 325, 326, 327, 328, 329, 330, 331, 332, 333, 334, 335, 336, 337, 338, 339, 340, 341, 342], \"xaxis\": \"x\", \"y\": [391008.65625, 388972.3125, 386834.96875, 385245.0625, 384916.59375, 385676.5, 386701.40625, 387383.78125, 387554.6875, 386764.28125, 383121.125, 381613.3125, 377750.0625, 365841.375, 362527.5625, 354867.34375, 343489.21875, 324904.9375, 310946.40625, 313237.15625, 313308.90625, 308281.28125, 305754.03125, 303569.5, 309329.375, 308691.25, 310207.1875, 300578.21875, 306510.875, 314167.75, 304093.375, 297029.625, 310494.6875, 309575.6875, 304302.34375, 297985.15625, 305999.1875, 305720.625, 297502.5, 290126.90625, 296618.96875, 295694.0625, 286037.34375, 276470.1875, 286707.6875, 288037.59375, 277771.0625, 272163.59375, 282899.6875, 278682.40625, 271241.9375, 261464.828125, 257587.984375, 251206.25, 249194.6875, 247143.34375, 246811.421875, 251139.9375, 245778.25, 239370.59375, 238631.5625, 228480.4375, 223120.9375, 219193.34375, 228909.3125, 211886.015625, 208801.90625, 222690.53125, 216567.984375, 201742.46875, 196408.65625, 181007.25, 189696.609375, 192178.15625, 175999.5, 184662.25, 196741.171875, 165646.609375, 181239.453125, 169925.3125, 153243.265625, 166070.640625, 181369.0625, 161083.828125, 164335.8125, 170852.875, 163516.09375, 155221.90625, 153177.734375, 166226.265625, 149807.3125, 152079.640625, 153646.875, 157544.265625, 153122.046875, 143796.390625, 150213.953125, 131759.84375, 140774.890625, 145455.84375, 123593.5, 117790.375, 125520.6484375, 106231.7265625, 79306.7265625, 99261.34375, 95015.375, 74049.4375, 85102.9296875, 82340.3671875, 68244.7421875, 71004.59375, 67052.078125, 77062.34375, 93515.546875, 75537.484375, 73268.8515625, 78448.078125, 72636.765625, 47480.46484375, 50286.40625, 70924.796875, 54371.09375, 41329.03515625, 61962.8125, 48649.8984375, 33699.953125, 38832.78125, 47937.85546875, 42838.421875, 40464.1640625, 51964.62890625, 54754.06640625, 48287.42578125, 50304.3828125, 60104.09375, 54116.0234375, 46264.67578125, 53800.66015625, 54307.18359375, 44279.328125, 44667.69140625, 40362.69921875, 32407.3359375, 38705.109375, 32642.5234375, 30631.3828125, 37605.703125, 31718.189453125, 26042.033203125, 34694.9453125, 33463.46484375, 29009.5078125, 46242.43359375, 35933.03125, 23773.66015625, 29199.576171875, 33823.22265625, 25908.689453125, 21360.546875, 24315.416015625, 27933.900390625, 22744.205078125, 20079.046875, 24830.125, 27208.6171875, 21779.1015625, 24133.33984375, 33392.8203125, 23404.259765625, 19478.03515625, 19908.197265625, 24764.23828125, 22143.208984375, 21114.31640625, 22129.52734375, 18878.724609375, 19936.82421875, 20457.23828125, 20483.119140625, 19519.61328125, 19709.0078125, 20457.162109375, 17467.146484375, 16102.546875, 18170.830078125, 19494.080078125, 18488.1328125, 19915.09375, 21202.576171875, 19724.984375, 17653.478515625, 17415.34375, 18598.138671875, 18033.33203125, 14897.365234375, 15119.4052734375, 19416.16796875, 17897.0234375, 18324.572265625, 19648.439453125, 20611.333984375, 19196.994140625, 17497.546875, 19837.8984375, 21245.65625, 17055.046875, 17792.44140625, 22824.134765625, 21009.513671875, 19779.79296875, 21164.861328125, 24678.583984375, 22335.05859375, 20836.669921875, 20485.66015625, 18234.1171875, 17196.529296875, 18287.8984375, 21188.94140625, 23112.48046875, 22229.1328125, 22103.974609375, 20309.203125, 20691.447265625, 23072.423828125, 23992.0703125, 21065.80859375, 23651.138671875, 25369.125, 21044.150390625, 19222.11328125, 20741.5859375, 20591.60546875, 20191.33984375, 22271.150390625, 22963.28125, 20922.02734375, 18610.8828125, 20002.951171875, 20366.056640625, 19598.330078125, 18128.44140625, 18228.564453125, 19444.107421875, 18764.275390625, 17650.080078125, 20185.873046875, 19748.99609375, 18407.251953125, 17357.396484375, 20533.107421875, 22715.470703125, 18000.53515625, 18149.224609375, 19519.26171875, 20168.28125, 18986.537109375, 18999.98828125, 17875.69140625, 16240.3974609375, 17018.537109375, 19539.541015625, 20377.572265625, 17196.306640625, 16396.94921875, 19319.302734375, 18340.234375, 16908.76171875, 17353.05859375, 19562.59375, 18814.69140625, 18932.765625, 19373.6015625, 19796.634765625, 22260.1328125, 23178.908203125, 19788.08984375, 18114.908203125, 18035.26953125, 19416.69921875, 18361.7265625, 18469.951171875, 19432.869140625, 22162.01171875, 21293.599609375, 18689.873046875, 18947.912109375, 19715.31640625, 20164.248046875, 18550.12109375, 18485.970703125, 19037.583984375, 18173.970703125, 18412.177734375, 16738.51953125, 17103.001953125, 16578.435546875, 16245.97265625, 17569.34375, 17660.728515625, 17627.357421875, 17807.251953125, 18427.33984375, 20025.806640625, 17449.037109375, 15873.34765625, 17443.373046875, 18531.873046875, 18363.501953125, 18423.59375, 18448.91796875, 17895.857421875, 20289.958984375, 21209.875, 20363.681640625, 19847.37109375, 19731.275390625, 19862.67578125, 18240.87890625, 15864.2353515625, 16472.61328125, 17068.94921875, 17238.34375, 17187.78515625, 18446.634765625, 19062.501953125, 18355.716796875, 19140.533203125, 19179.818359375, 18890.90234375, 17029.154296875, 17709.986328125, 18479.94140625, 19714.02734375, 18717.16796875, 18255.3671875, 19111.7734375, 18513.720703125, 17993.865234375, 17304.64453125, 17872.09375, 17020.517578125], \"yaxis\": \"y\"}],\n",
       "                        {\"height\": 600, \"legend\": {\"tracegroupgap\": 0}, \"margin\": {\"t\": 60}, \"template\": {\"data\": {\"bar\": [{\"error_x\": {\"color\": \"#2a3f5f\"}, \"error_y\": {\"color\": \"#2a3f5f\"}, \"marker\": {\"line\": {\"color\": \"#E5ECF6\", \"width\": 0.5}}, \"type\": \"bar\"}], \"barpolar\": [{\"marker\": {\"line\": {\"color\": \"#E5ECF6\", \"width\": 0.5}}, \"type\": \"barpolar\"}], \"carpet\": [{\"aaxis\": {\"endlinecolor\": \"#2a3f5f\", \"gridcolor\": \"white\", \"linecolor\": \"white\", \"minorgridcolor\": \"white\", \"startlinecolor\": \"#2a3f5f\"}, \"baxis\": {\"endlinecolor\": \"#2a3f5f\", \"gridcolor\": \"white\", \"linecolor\": \"white\", \"minorgridcolor\": \"white\", \"startlinecolor\": \"#2a3f5f\"}, \"type\": \"carpet\"}], \"choropleth\": [{\"colorbar\": {\"outlinewidth\": 0, \"ticks\": \"\"}, \"type\": \"choropleth\"}], \"contour\": [{\"colorbar\": {\"outlinewidth\": 0, \"ticks\": \"\"}, \"colorscale\": [[0.0, \"#0d0887\"], [0.1111111111111111, \"#46039f\"], [0.2222222222222222, \"#7201a8\"], [0.3333333333333333, \"#9c179e\"], [0.4444444444444444, \"#bd3786\"], [0.5555555555555556, \"#d8576b\"], [0.6666666666666666, \"#ed7953\"], [0.7777777777777778, \"#fb9f3a\"], [0.8888888888888888, \"#fdca26\"], [1.0, \"#f0f921\"]], \"type\": \"contour\"}], \"contourcarpet\": [{\"colorbar\": {\"outlinewidth\": 0, \"ticks\": \"\"}, \"type\": \"contourcarpet\"}], \"heatmap\": [{\"colorbar\": {\"outlinewidth\": 0, \"ticks\": \"\"}, \"colorscale\": [[0.0, \"#0d0887\"], [0.1111111111111111, \"#46039f\"], [0.2222222222222222, \"#7201a8\"], [0.3333333333333333, \"#9c179e\"], [0.4444444444444444, \"#bd3786\"], [0.5555555555555556, \"#d8576b\"], [0.6666666666666666, \"#ed7953\"], [0.7777777777777778, \"#fb9f3a\"], [0.8888888888888888, \"#fdca26\"], [1.0, \"#f0f921\"]], \"type\": \"heatmap\"}], \"heatmapgl\": [{\"colorbar\": {\"outlinewidth\": 0, \"ticks\": \"\"}, \"colorscale\": [[0.0, \"#0d0887\"], [0.1111111111111111, \"#46039f\"], [0.2222222222222222, \"#7201a8\"], [0.3333333333333333, \"#9c179e\"], [0.4444444444444444, \"#bd3786\"], [0.5555555555555556, \"#d8576b\"], [0.6666666666666666, \"#ed7953\"], [0.7777777777777778, \"#fb9f3a\"], [0.8888888888888888, \"#fdca26\"], [1.0, \"#f0f921\"]], \"type\": \"heatmapgl\"}], \"histogram\": [{\"marker\": {\"colorbar\": {\"outlinewidth\": 0, \"ticks\": \"\"}}, \"type\": \"histogram\"}], \"histogram2d\": [{\"colorbar\": {\"outlinewidth\": 0, \"ticks\": \"\"}, \"colorscale\": [[0.0, \"#0d0887\"], [0.1111111111111111, \"#46039f\"], [0.2222222222222222, \"#7201a8\"], [0.3333333333333333, \"#9c179e\"], [0.4444444444444444, \"#bd3786\"], [0.5555555555555556, \"#d8576b\"], [0.6666666666666666, \"#ed7953\"], [0.7777777777777778, \"#fb9f3a\"], [0.8888888888888888, \"#fdca26\"], [1.0, \"#f0f921\"]], \"type\": \"histogram2d\"}], \"histogram2dcontour\": [{\"colorbar\": {\"outlinewidth\": 0, \"ticks\": \"\"}, \"colorscale\": [[0.0, \"#0d0887\"], [0.1111111111111111, \"#46039f\"], [0.2222222222222222, \"#7201a8\"], [0.3333333333333333, \"#9c179e\"], [0.4444444444444444, \"#bd3786\"], [0.5555555555555556, \"#d8576b\"], [0.6666666666666666, \"#ed7953\"], [0.7777777777777778, \"#fb9f3a\"], [0.8888888888888888, \"#fdca26\"], [1.0, \"#f0f921\"]], \"type\": \"histogram2dcontour\"}], \"mesh3d\": [{\"colorbar\": {\"outlinewidth\": 0, \"ticks\": \"\"}, \"type\": \"mesh3d\"}], \"parcoords\": [{\"line\": {\"colorbar\": {\"outlinewidth\": 0, \"ticks\": \"\"}}, \"type\": \"parcoords\"}], \"scatter\": [{\"marker\": {\"colorbar\": {\"outlinewidth\": 0, \"ticks\": \"\"}}, \"type\": \"scatter\"}], \"scatter3d\": [{\"line\": {\"colorbar\": {\"outlinewidth\": 0, \"ticks\": \"\"}}, \"marker\": {\"colorbar\": {\"outlinewidth\": 0, \"ticks\": \"\"}}, \"type\": \"scatter3d\"}], \"scattercarpet\": [{\"marker\": {\"colorbar\": {\"outlinewidth\": 0, \"ticks\": \"\"}}, \"type\": \"scattercarpet\"}], \"scattergeo\": [{\"marker\": {\"colorbar\": {\"outlinewidth\": 0, \"ticks\": \"\"}}, \"type\": \"scattergeo\"}], \"scattergl\": [{\"marker\": {\"colorbar\": {\"outlinewidth\": 0, \"ticks\": \"\"}}, \"type\": \"scattergl\"}], \"scattermapbox\": [{\"marker\": {\"colorbar\": {\"outlinewidth\": 0, \"ticks\": \"\"}}, \"type\": \"scattermapbox\"}], \"scatterpolar\": [{\"marker\": {\"colorbar\": {\"outlinewidth\": 0, \"ticks\": \"\"}}, \"type\": \"scatterpolar\"}], \"scatterpolargl\": [{\"marker\": {\"colorbar\": {\"outlinewidth\": 0, \"ticks\": \"\"}}, \"type\": \"scatterpolargl\"}], \"scatterternary\": [{\"marker\": {\"colorbar\": {\"outlinewidth\": 0, \"ticks\": \"\"}}, \"type\": \"scatterternary\"}], \"surface\": [{\"colorbar\": {\"outlinewidth\": 0, \"ticks\": \"\"}, \"colorscale\": [[0.0, \"#0d0887\"], [0.1111111111111111, \"#46039f\"], [0.2222222222222222, \"#7201a8\"], [0.3333333333333333, \"#9c179e\"], [0.4444444444444444, \"#bd3786\"], [0.5555555555555556, \"#d8576b\"], [0.6666666666666666, \"#ed7953\"], [0.7777777777777778, \"#fb9f3a\"], [0.8888888888888888, \"#fdca26\"], [1.0, \"#f0f921\"]], \"type\": \"surface\"}], \"table\": [{\"cells\": {\"fill\": {\"color\": \"#EBF0F8\"}, \"line\": {\"color\": \"white\"}}, \"header\": {\"fill\": {\"color\": \"#C8D4E3\"}, \"line\": {\"color\": \"white\"}}, \"type\": \"table\"}]}, \"layout\": {\"annotationdefaults\": {\"arrowcolor\": \"#2a3f5f\", \"arrowhead\": 0, \"arrowwidth\": 1}, \"colorscale\": {\"diverging\": [[0, \"#8e0152\"], [0.1, \"#c51b7d\"], [0.2, \"#de77ae\"], [0.3, \"#f1b6da\"], [0.4, \"#fde0ef\"], [0.5, \"#f7f7f7\"], [0.6, \"#e6f5d0\"], [0.7, \"#b8e186\"], [0.8, \"#7fbc41\"], [0.9, \"#4d9221\"], [1, \"#276419\"]], \"sequential\": [[0.0, \"#0d0887\"], [0.1111111111111111, \"#46039f\"], [0.2222222222222222, \"#7201a8\"], [0.3333333333333333, \"#9c179e\"], [0.4444444444444444, \"#bd3786\"], [0.5555555555555556, \"#d8576b\"], [0.6666666666666666, \"#ed7953\"], [0.7777777777777778, \"#fb9f3a\"], [0.8888888888888888, \"#fdca26\"], [1.0, \"#f0f921\"]], \"sequentialminus\": [[0.0, \"#0d0887\"], [0.1111111111111111, \"#46039f\"], [0.2222222222222222, \"#7201a8\"], [0.3333333333333333, \"#9c179e\"], [0.4444444444444444, \"#bd3786\"], [0.5555555555555556, \"#d8576b\"], [0.6666666666666666, \"#ed7953\"], [0.7777777777777778, \"#fb9f3a\"], [0.8888888888888888, \"#fdca26\"], [1.0, \"#f0f921\"]]}, \"colorway\": [\"#636efa\", \"#EF553B\", \"#00cc96\", \"#ab63fa\", \"#FFA15A\", \"#19d3f3\", \"#FF6692\", \"#B6E880\", \"#FF97FF\", \"#FECB52\"], \"font\": {\"color\": \"#2a3f5f\"}, \"geo\": {\"bgcolor\": \"white\", \"lakecolor\": \"white\", \"landcolor\": \"#E5ECF6\", \"showlakes\": true, \"showland\": true, \"subunitcolor\": \"white\"}, \"hoverlabel\": {\"align\": \"left\"}, \"hovermode\": \"closest\", \"mapbox\": {\"style\": \"light\"}, \"paper_bgcolor\": \"white\", \"plot_bgcolor\": \"#E5ECF6\", \"polar\": {\"angularaxis\": {\"gridcolor\": \"white\", \"linecolor\": \"white\", \"ticks\": \"\"}, \"bgcolor\": \"#E5ECF6\", \"radialaxis\": {\"gridcolor\": \"white\", \"linecolor\": \"white\", \"ticks\": \"\"}}, \"scene\": {\"xaxis\": {\"backgroundcolor\": \"#E5ECF6\", \"gridcolor\": \"white\", \"gridwidth\": 2, \"linecolor\": \"white\", \"showbackground\": true, \"ticks\": \"\", \"zerolinecolor\": \"white\"}, \"yaxis\": {\"backgroundcolor\": \"#E5ECF6\", \"gridcolor\": \"white\", \"gridwidth\": 2, \"linecolor\": \"white\", \"showbackground\": true, \"ticks\": \"\", \"zerolinecolor\": \"white\"}, \"zaxis\": {\"backgroundcolor\": \"#E5ECF6\", \"gridcolor\": \"white\", \"gridwidth\": 2, \"linecolor\": \"white\", \"showbackground\": true, \"ticks\": \"\", \"zerolinecolor\": \"white\"}}, \"shapedefaults\": {\"line\": {\"color\": \"#2a3f5f\"}}, \"ternary\": {\"aaxis\": {\"gridcolor\": \"white\", \"linecolor\": \"white\", \"ticks\": \"\"}, \"baxis\": {\"gridcolor\": \"white\", \"linecolor\": \"white\", \"ticks\": \"\"}, \"bgcolor\": \"#E5ECF6\", \"caxis\": {\"gridcolor\": \"white\", \"linecolor\": \"white\", \"ticks\": \"\"}}, \"title\": {\"x\": 0.05}, \"xaxis\": {\"automargin\": true, \"gridcolor\": \"white\", \"linecolor\": \"white\", \"ticks\": \"\", \"zerolinecolor\": \"white\", \"zerolinewidth\": 2}, \"yaxis\": {\"automargin\": true, \"gridcolor\": \"white\", \"linecolor\": \"white\", \"ticks\": \"\", \"zerolinecolor\": \"white\", \"zerolinewidth\": 2}}}, \"xaxis\": {\"anchor\": \"y\", \"domain\": [0.0, 0.98], \"title\": {\"text\": \"total_iters\"}}, \"yaxis\": {\"anchor\": \"x\", \"domain\": [0.0, 1.0], \"title\": {\"text\": \"val_mse\"}}},\n",
       "                        {\"responsive\": true}\n",
       "                    ).then(function(){\n",
       "                            \n",
       "var gd = document.getElementById('2baeeada-9889-4ae5-9fd7-03bc73d686aa');\n",
       "var x = new MutationObserver(function (mutations, observer) {{\n",
       "        var display = window.getComputedStyle(gd).display;\n",
       "        if (!display || display === 'none') {{\n",
       "            console.log([gd, 'removed!']);\n",
       "            Plotly.purge(gd);\n",
       "            observer.disconnect();\n",
       "        }}\n",
       "}});\n",
       "\n",
       "// Listen for the removal of the full notebook cells\n",
       "var notebookContainer = gd.closest('#notebook-container');\n",
       "if (notebookContainer) {{\n",
       "    x.observe(notebookContainer, {childList: true});\n",
       "}}\n",
       "\n",
       "// Listen for the clearing of the current output cell\n",
       "var outputEl = gd.closest('.output');\n",
       "if (outputEl) {{\n",
       "    x.observe(outputEl, {childList: true});\n",
       "}}\n",
       "\n",
       "                        })\n",
       "                };\n",
       "                });\n",
       "            </script>\n",
       "        </div>"
      ]
     },
     "metadata": {},
     "output_type": "display_data"
    }
   ],
   "source": [
    "fig = px.line(trainer.training_info, x='total_iters', y='val_mse')\n",
    "fig.show()\n"
   ]
  },
  {
   "cell_type": "code",
   "execution_count": 26,
   "metadata": {},
   "outputs": [
    {
     "name": "stdout",
     "output_type": "stream",
     "text": [
      "Missing directory and/or file name information!\n"
     ]
    },
    {
     "data": {
      "image/png": "[encoded data removed]",
      "text/plain": [
       "<Figure size 720x720 with 1 Axes>"
      ]
     },
     "metadata": {},
     "output_type": "display_data"
    }
   ],
   "source": [
    "y_pred, y_true = trainer.predict(dataset=val_dataset, checkpoint='pearsonr:1')\n",
    "y_fit_pred, y_fit_true = trainer.predict(dataset=train_dataset, checkpoint='pearsonr:1')\n",
    "draw(y_true, y_pred, y_fit_true, y_fit_pred, prop_name='Volume ($\\AA^3$)')"
   ]
  },
  {
   "cell_type": "code",
   "execution_count": 30,
   "metadata": {},
   "outputs": [],
   "source": [
    "from torch import nn\n",
    "from collections import OrderedDict\n",
    "\n",
    "model = nn.Sequential(\n",
    "    nn.Sequential(OrderedDict(layer=nn.Linear(10, 7), act_func=nn.ReLU())),\n",
    "    nn.Sequential(OrderedDict(layer=nn.Linear(7, 4), act_func=nn.ReLU())),\n",
    "    nn.Sequential(OrderedDict(layer=nn.Linear(4, 1))),\n",
    ")"
   ]
  },
  {
   "cell_type": "code",
   "execution_count": 34,
   "metadata": {},
   "outputs": [
    {
     "name": "stdout",
     "output_type": "stream",
     "text": [
      "0 Linear(in_features=10, out_features=7, bias=True)\n",
      "1 Linear(in_features=7, out_features=4, bias=True)\n",
      "2 Linear(in_features=4, out_features=1, bias=True)\n"
     ]
    }
   ],
   "source": [
    "for n, m in model.named_children():\n",
    "    print(n, m.layer)"
   ]
  },
  {
   "cell_type": "code",
   "execution_count": null,
   "metadata": {},
   "outputs": [],
   "source": []
  }
 ],
 "metadata": {
  "kernelspec": {
   "display_name": "Python 3",
   "language": "python",
   "name": "python3"
  },
  "language_info": {
   "codemirror_mode": {
    "name": "ipython",
    "version": 3
   },
   "file_extension": ".py",
   "mimetype": "text/x-python",
   "name": "python",
   "nbconvert_exporter": "python",
   "pygments_lexer": "ipython3",
   "version": "3.7.4"
  }
 },
 "nbformat": 4,
 "nbformat_minor": 4
}
