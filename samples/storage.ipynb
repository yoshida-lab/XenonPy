{
 "cells": [
  {
   "cell_type": "markdown",
   "metadata": {},
   "source": [
    "# XenonPy datatools\n",
    "\n",
    "**XenonPy** comes with a dataset system to help users' data loading.\n",
    "In this sample, we will explain the conception and demonstrate how to use these to play with date in **XenonPy**."
   ]
  },
  {
   "cell_type": "markdown",
   "metadata": {},
   "source": [
    "## conception"
   ]
  },
  {
   "cell_type": "markdown",
   "metadata": {},
   "source": [
    "### Loader\n",
    "\n",
    "Using `xenonpy.datatools.Loader` class to load preset dataset that comes with XenonPy or load a `LocalStorage` object.\n",
    "\n",
    "Initialized with None parameters means to load data in ``~/.xenonpy/cached`` or ``~/.xenonpy/dataset`` dir, like this:"
   ]
  },
  {
   "cell_type": "code",
   "execution_count": 1,
   "metadata": {},
   "outputs": [
    {
     "name": "stdout",
     "output_type": "stream",
     "text": [
      "<class 'pandas.core.frame.DataFrame'>\n",
      "Index: 94 entries, H to Pu\n",
      "Data columns (total 58 columns):\n",
      "atomic_number                    94 non-null float64\n",
      "atomic_radius                    94 non-null float64\n",
      "atomic_radius_rahm               94 non-null float64\n",
      "atomic_volume                    94 non-null float64\n",
      "atomic_weight                    94 non-null float64\n",
      "boiling_point                    94 non-null float64\n",
      "bulk_modulus                     94 non-null float64\n",
      "c6_gb                            94 non-null float64\n",
      "covalent_radius_cordero          94 non-null float64\n",
      "covalent_radius_pyykko           94 non-null float64\n",
      "covalent_radius_pyykko_double    94 non-null float64\n",
      "covalent_radius_pyykko_triple    94 non-null float64\n",
      "covalent_radius_slater           94 non-null float64\n",
      "density                          94 non-null float64\n",
      "dipole_polarizability            94 non-null float64\n",
      "electron_negativity              94 non-null float64\n",
      "electron_affinity                94 non-null float64\n",
      "en_allen                         94 non-null float64\n",
      "en_ghosh                         94 non-null float64\n",
      "en_pauling                       94 non-null float64\n",
      "first_ion_en                     94 non-null float64\n",
      "fusion_enthalpy                  94 non-null float64\n",
      "gs_bandgap                       94 non-null float64\n",
      "gs_energy                        94 non-null float64\n",
      "gs_est_bcc_latcnt                94 non-null float64\n",
      "gs_est_fcc_latcnt                94 non-null float64\n",
      "gs_mag_moment                    94 non-null float64\n",
      "gs_volume_per                    94 non-null float64\n",
      "hhi_p                            94 non-null float64\n",
      "hhi_r                            94 non-null float64\n",
      "heat_capacity_mass               94 non-null float64\n",
      "heat_capacity_molar              94 non-null float64\n",
      "icsd_volume                      94 non-null float64\n",
      "evaporation_heat                 94 non-null float64\n",
      "heat_of_formation                94 non-null float64\n",
      "lattice_constant                 94 non-null float64\n",
      "mendeleev_number                 94 non-null float64\n",
      "melting_point                    94 non-null float64\n",
      "molar_volume                     94 non-null float64\n",
      "num_unfilled                     94 non-null float64\n",
      "num_valance                      94 non-null float64\n",
      "num_d_unfilled                   94 non-null float64\n",
      "num_d_valence                    94 non-null float64\n",
      "num_f_unfilled                   94 non-null float64\n",
      "num_f_valence                    94 non-null float64\n",
      "num_p_unfilled                   94 non-null float64\n",
      "num_p_valence                    94 non-null float64\n",
      "num_s_unfilled                   94 non-null float64\n",
      "num_s_valence                    94 non-null float64\n",
      "period                           94 non-null float64\n",
      "specific_heat                    94 non-null float64\n",
      "thermal_conductivity             94 non-null float64\n",
      "vdw_radius                       94 non-null float64\n",
      "vdw_radius_alvarez               94 non-null float64\n",
      "vdw_radius_mm3                   94 non-null float64\n",
      "vdw_radius_uff                   94 non-null float64\n",
      "sound_velocity                   94 non-null float64\n",
      "Polarizability                   94 non-null float64\n",
      "dtypes: float64(58)\n",
      "memory usage: 43.3+ KB\n"
     ]
    }
   ],
   "source": [
    "from xenonpy.datatools import preset\n",
    "\n",
    "ele = preset('elements_completed')\n",
    "ele.info()"
   ]
  },
  {
   "cell_type": "markdown",
   "metadata": {},
   "source": [
    "### For embed dataset, `Loader` class has correspond property to retrieved data directly"
   ]
  },
  {
   "cell_type": "code",
   "execution_count": 2,
   "metadata": {},
   "outputs": [
    {
     "name": "stdout",
     "output_type": "stream",
     "text": [
      "<class 'pandas.core.frame.DataFrame'>\n",
      "Index: 94 entries, H to Pu\n",
      "Data columns (total 58 columns):\n",
      "atomic_number                    94 non-null float64\n",
      "atomic_radius                    94 non-null float64\n",
      "atomic_radius_rahm               94 non-null float64\n",
      "atomic_volume                    94 non-null float64\n",
      "atomic_weight                    94 non-null float64\n",
      "boiling_point                    94 non-null float64\n",
      "bulk_modulus                     94 non-null float64\n",
      "c6_gb                            94 non-null float64\n",
      "covalent_radius_cordero          94 non-null float64\n",
      "covalent_radius_pyykko           94 non-null float64\n",
      "covalent_radius_pyykko_double    94 non-null float64\n",
      "covalent_radius_pyykko_triple    94 non-null float64\n",
      "covalent_radius_slater           94 non-null float64\n",
      "density                          94 non-null float64\n",
      "dipole_polarizability            94 non-null float64\n",
      "electron_negativity              94 non-null float64\n",
      "electron_affinity                94 non-null float64\n",
      "en_allen                         94 non-null float64\n",
      "en_ghosh                         94 non-null float64\n",
      "en_pauling                       94 non-null float64\n",
      "first_ion_en                     94 non-null float64\n",
      "fusion_enthalpy                  94 non-null float64\n",
      "gs_bandgap                       94 non-null float64\n",
      "gs_energy                        94 non-null float64\n",
      "gs_est_bcc_latcnt                94 non-null float64\n",
      "gs_est_fcc_latcnt                94 non-null float64\n",
      "gs_mag_moment                    94 non-null float64\n",
      "gs_volume_per                    94 non-null float64\n",
      "hhi_p                            94 non-null float64\n",
      "hhi_r                            94 non-null float64\n",
      "heat_capacity_mass               94 non-null float64\n",
      "heat_capacity_molar              94 non-null float64\n",
      "icsd_volume                      94 non-null float64\n",
      "evaporation_heat                 94 non-null float64\n",
      "heat_of_formation                94 non-null float64\n",
      "lattice_constant                 94 non-null float64\n",
      "mendeleev_number                 94 non-null float64\n",
      "melting_point                    94 non-null float64\n",
      "molar_volume                     94 non-null float64\n",
      "num_unfilled                     94 non-null float64\n",
      "num_valance                      94 non-null float64\n",
      "num_d_unfilled                   94 non-null float64\n",
      "num_d_valence                    94 non-null float64\n",
      "num_f_unfilled                   94 non-null float64\n",
      "num_f_valence                    94 non-null float64\n",
      "num_p_unfilled                   94 non-null float64\n",
      "num_p_valence                    94 non-null float64\n",
      "num_s_unfilled                   94 non-null float64\n",
      "num_s_valence                    94 non-null float64\n",
      "period                           94 non-null float64\n",
      "specific_heat                    94 non-null float64\n",
      "thermal_conductivity             94 non-null float64\n",
      "vdw_radius                       94 non-null float64\n",
      "vdw_radius_alvarez               94 non-null float64\n",
      "vdw_radius_mm3                   94 non-null float64\n",
      "vdw_radius_uff                   94 non-null float64\n",
      "sound_velocity                   94 non-null float64\n",
      "Polarizability                   94 non-null float64\n",
      "dtypes: float64(58)\n",
      "memory usage: 43.3+ KB\n"
     ]
    }
   ],
   "source": [
    "preset.elements_completed.info()"
   ]
  },
  {
   "cell_type": "markdown",
   "metadata": {},
   "source": [
    "For general perpouse, you can load any resource from a http-request.\n",
    "\n",
    "Assume we want to fetch https://raw.githubusercontent.com/yoshida-lab/XenonPy/master/requirements.txt"
   ]
  },
  {
   "cell_type": "markdown",
   "metadata": {},
   "source": [
    "### save\n",
    "\n",
    "Using `xenonpy.datatools.LocalStorage` class to save data.\n",
    "You can save any python object and retriever them at any time."
   ]
  },
  {
   "cell_type": "code",
   "execution_count": 3,
   "metadata": {},
   "outputs": [
    {
     "name": "stdout",
     "output_type": "stream",
     "text": [
      "data:  [5 0 3 3 7] retriever data:  [5 0 3 3 7]\n",
      "<test_data> include:\n",
      "\"unnamed\": 1 \n",
      "\n",
      "new data:  [6 8 7 9 5] retriever new data:  [6 8 7 9 5]\n",
      "<test_data> include:\n",
      "\"unnamed\": 2 \n",
      "\n",
      "retriever oldest data:  [5 0 3 3 7]\n",
      "<test_data> include:\n"
     ]
    }
   ],
   "source": [
    "from xenonpy.datatools import LocalStorage\n",
    "import numpy as np\n",
    "np.random.seed(0)\n",
    "\n",
    "# name our data\n",
    "test_data = LocalStorage('test_data')\n",
    "\n",
    "# generate some data\n",
    "data1 = np.random.randint(0, 10, 5)  # load it back\n",
    "test_data(data1)  # save it\n",
    "data1 = test_data.last()  # load it\n",
    "\n",
    "\n",
    "print('data: ', data1, 'retriever data: ', data1)\n",
    "print(test_data, '\\n')\n",
    "\n",
    "\n",
    "\n",
    "# update\n",
    "data2 = np.random.randint(5, 10, 5)\n",
    "test_data(data2)\n",
    "data2 = test_data.last()\n",
    "\n",
    "print('new data: ', data2, 'retriever new data: ', data2)\n",
    "print(test_data, '\\n')\n",
    "\n",
    "# get old data\n",
    "data2 = test_data[0]\n",
    "print('retriever oldest data: ', data2)\n",
    "\n",
    "# delete all\n",
    "test_data.clean()\n",
    "print(test_data)"
   ]
  },
  {
   "cell_type": "markdown",
   "metadata": {},
   "source": [
    "### You can name you data"
   ]
  },
  {
   "cell_type": "code",
   "execution_count": 4,
   "metadata": {},
   "outputs": [
    {
     "name": "stdout",
     "output_type": "stream",
     "text": [
      "<test_data> include:\n",
      "\"data1\": 1\n",
      "\"data2\": 1 \n",
      "\n",
      "data1:  [5 0 3 3 7] ; retriever data1:  [5 0 3 3 7] \n",
      "\n",
      "data1 at index 0:  [5 0 3 3 7]\n"
     ]
    }
   ],
   "source": [
    "test_data(data1=data1, data2=data2)\n",
    "print(test_data, '\\n')\n",
    "\n",
    "# retriver by name\n",
    "data1 = test_data.last('data1')\n",
    "print('data1: ', data1, '; retriever data1: ', data1, '\\n')\n",
    "\n",
    "# by name and index or slice\n",
    "data1 = test_data['data1', 0]\n",
    "print('data1 at index 0: ', data1)"
   ]
  },
  {
   "cell_type": "markdown",
   "metadata": {},
   "source": [
    "Combin them together"
   ]
  },
  {
   "cell_type": "code",
   "execution_count": 5,
   "metadata": {},
   "outputs": [
    {
     "name": "stdout",
     "output_type": "stream",
     "text": [
      "<test_data> include:\n",
      "\"unnamed\": 2\n",
      "\"data1\": 1\n",
      "\"data2\": 1\n",
      "/Users/liuchang/test/test_data-2018-06-15_21-05-07_462302.pkl.z\n"
     ]
    }
   ],
   "source": [
    "test_data(data1, data2)\n",
    "print(test_data)\n",
    "\n",
    "# dump all last to file\n",
    "test_data.dump('~/test')\n",
    "\n",
    "from pathlib import Path\n",
    "files = Path('~/test').expanduser().iterdir()\n",
    "for f in files:\n",
    "    print(f)"
   ]
  },
  {
   "cell_type": "code",
   "execution_count": null,
   "metadata": {},
   "outputs": [],
   "source": []
  }
 ],
 "metadata": {
  "kernelspec": {
   "display_name": "Python 3",
   "language": "python",
   "name": "python3"
  },
  "language_info": {
   "codemirror_mode": {
    "name": "ipython",
    "version": 3
   },
   "file_extension": ".py",
   "mimetype": "text/x-python",
   "name": "python",
   "nbconvert_exporter": "python",
   "pygments_lexer": "ipython3",
   "version": "3.6.8"
  }
 },
 "nbformat": 4,
 "nbformat_minor": 2
}
