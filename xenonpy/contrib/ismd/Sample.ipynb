{
 "cells": [
  {
   "cell_type": "markdown",
   "metadata": {},
   "source": [
    "## ISMD (Inversed Synthesizable Molecular Design) Totorial\n",
    "\n",
    "This tutorial will proceed as follow:\n",
    "\n",
    "1. initial setup and data preparation\n",
    "2. descriptor preparation for forward model (likelihood)\n",
    "3. forward model (likelihood) preparation\n",
    "4. proposal mdoel preparation \n",
    "5. a complete ismd run"
   ]
  },
  {
   "cell_type": "markdown",
   "metadata": {},
   "source": [
    "### 1.1 import packages"
   ]
  },
  {
   "cell_type": "code",
   "execution_count": 1,
   "metadata": {},
   "outputs": [],
   "source": [
    "import warnings\n",
    "warnings.filterwarnings('ignore')\n",
    "\n",
    "import xenonpy\n",
    "import onmt\n",
    "from xenonpy.descriptor import Fingerprints\n",
    "from xenonpy.inverse.iqspr import GaussianLogLikelihood\n",
    "from xenonpy.contrib.ismd import ReactionDescriptor\n",
    "from xenonpy.contrib.ismd import ReactantPool\n",
    "from xenonpy.contrib.ismd import Reactor\n",
    "\n",
    "import numpy as np\n",
    "import matplotlib.pyplot as plt\n",
    "import pandas as pd\n",
    "import scipy"
   ]
  },
  {
   "cell_type": "markdown",
   "metadata": {},
   "source": [
    "### 1.2 load data"
   ]
  },
  {
   "cell_type": "code",
   "execution_count": 2,
   "metadata": {},
   "outputs": [
    {
     "data": {
      "text/html": [
       "<div>\n",
       "<style scoped>\n",
       "    .dataframe tbody tr th:only-of-type {\n",
       "        vertical-align: middle;\n",
       "    }\n",
       "\n",
       "    .dataframe tbody tr th {\n",
       "        vertical-align: top;\n",
       "    }\n",
       "\n",
       "    .dataframe thead th {\n",
       "        text-align: right;\n",
       "    }\n",
       "</style>\n",
       "<table border=\"1\" class=\"dataframe\">\n",
       "  <thead>\n",
       "    <tr style=\"text-align: right;\">\n",
       "      <th></th>\n",
       "      <th>reactant_index</th>\n",
       "      <th>reactant</th>\n",
       "      <th>product</th>\n",
       "      <th>XLogP</th>\n",
       "      <th>TPSA</th>\n",
       "    </tr>\n",
       "  </thead>\n",
       "  <tbody>\n",
       "    <tr>\n",
       "      <th>0</th>\n",
       "      <td>12163.22445</td>\n",
       "      <td>CCS(=O)(=O)Cl.OCCBr</td>\n",
       "      <td>CCS(=O)(=O)OCCBr</td>\n",
       "      <td>0.8</td>\n",
       "      <td>51.8</td>\n",
       "    </tr>\n",
       "    <tr>\n",
       "      <th>1</th>\n",
       "      <td>863.20896</td>\n",
       "      <td>CC(C)CS(=O)(=O)Cl.OCCCl</td>\n",
       "      <td>CC(C)CS(=O)(=O)OCCCl</td>\n",
       "      <td>1.6</td>\n",
       "      <td>51.8</td>\n",
       "    </tr>\n",
       "    <tr>\n",
       "      <th>2</th>\n",
       "      <td>249087</td>\n",
       "      <td>O=[N+]([O-])c1cccc2cnc(Cl)cc12</td>\n",
       "      <td>Nc1cccc2cnc(Cl)cc12</td>\n",
       "      <td>2.4</td>\n",
       "      <td>38.9</td>\n",
       "    </tr>\n",
       "    <tr>\n",
       "      <th>3</th>\n",
       "      <td>153658.23440</td>\n",
       "      <td>Cc1cc2c([N+](=O)[O-])cccc2c[n+]1[O-].O=P(Cl)(C...</td>\n",
       "      <td>Cc1cc2c([N+](=O)[O-])cccc2c(Cl)n1</td>\n",
       "      <td>3.3</td>\n",
       "      <td>58.7</td>\n",
       "    </tr>\n",
       "    <tr>\n",
       "      <th>4</th>\n",
       "      <td>297070</td>\n",
       "      <td>CCCCC[C@H](O)C=CC1C=CC(=O)C1CC=CCCCC(=O)O</td>\n",
       "      <td>CCCCC[C@H](O)C=CC1CCC(=O)C1CC=CCCCC(=O)O</td>\n",
       "      <td>3.8</td>\n",
       "      <td>74.6</td>\n",
       "    </tr>\n",
       "  </tbody>\n",
       "</table>\n",
       "</div>"
      ],
      "text/plain": [
       "  reactant_index                                           reactant  \\\n",
       "0    12163.22445                                CCS(=O)(=O)Cl.OCCBr   \n",
       "1      863.20896                            CC(C)CS(=O)(=O)Cl.OCCCl   \n",
       "2         249087                     O=[N+]([O-])c1cccc2cnc(Cl)cc12   \n",
       "3   153658.23440  Cc1cc2c([N+](=O)[O-])cccc2c[n+]1[O-].O=P(Cl)(C...   \n",
       "4         297070          CCCCC[C@H](O)C=CC1C=CC(=O)C1CC=CCCCC(=O)O   \n",
       "\n",
       "                                    product  XLogP  TPSA  \n",
       "0                          CCS(=O)(=O)OCCBr    0.8  51.8  \n",
       "1                      CC(C)CS(=O)(=O)OCCCl    1.6  51.8  \n",
       "2                       Nc1cccc2cnc(Cl)cc12    2.4  38.9  \n",
       "3         Cc1cc2c([N+](=O)[O-])cccc2c(Cl)n1    3.3  58.7  \n",
       "4  CCCCC[C@H](O)C=CC1CCC(=O)C1CC=CCCCC(=O)O    3.8  74.6  "
      ]
     },
     "execution_count": 2,
     "metadata": {},
     "output_type": "execute_result"
    }
   ],
   "source": [
    "# ground truth data\n",
    "ground_truth_path = \"/home/qiz/data/lab_database/ismd_data/STEREO_id_reactant_product_xlogp_tpsa.csv\"\n",
    "data = pd.read_csv(ground_truth_path)[:10000]\n",
    "data.head()"
   ]
  },
  {
   "cell_type": "code",
   "execution_count": 3,
   "metadata": {},
   "outputs": [
    {
     "name": "stdout",
     "output_type": "stream",
     "text": [
      "['O=C(Cl)Oc1ccc(Cc2ccc(C(F)(F)F)cc2)cc1', 'CCc1cc(C2CCN(C(=O)OC(C)(C)C)CC2)ccc1Nc1ncc(C(F)(F)F)c(C#Cc2ccccc2CC(=O)OC)n1', 'CC(NC(=O)OCc1ccccc1)C(C)NC(=O)c1ccccc1O']\n"
     ]
    }
   ],
   "source": [
    "# reactant pool\n",
    "reactant_pool_path = \"/home/qiz/data/lab_database/ismd_data/STEREO_pool.txt\"\n",
    "\n",
    "with open(reactant_pool_path, 'r') as f: \n",
    "    reactant_pool = f.read().splitlines()  # len(reactant_pool)=637645\n",
    "\n",
    "# show the first three elements in the reactant pool\n",
    "print(reactant_pool[:3])"
   ]
  },
  {
   "cell_type": "code",
   "execution_count": 4,
   "metadata": {
    "scrolled": true
   },
   "outputs": [
    {
     "name": "stdout",
     "output_type": "stream",
     "text": [
      "[0, 9850, 11897, 23561, 25594, 28947, 30750, 31361, 44204, 46017, 76945, 118108, 145556, 145734, 164311, 186671, 205326, 207174, 209595, 215653, 218310, 222491, 224002, 232232, 233447, 252758, 274284, 278177, 288659, 291331, 294003, 294172, 300867, 306289, 307663, 331897, 334538, 335455, 343644, 360531, 364663, 365676, 376086, 378821, 412563, 442160, 443411, 452943, 460860, 479253, 487849, 491373, 499241, 500259, 523929, 525478, 528040, 559770, 567735, 568783, 582833, 584542, 586316, 588491, 595094, 599275, 601808, 603887, 617189]\n"
     ]
    }
   ],
   "source": [
    "# similarity matrix of reactant pool\n",
    "sim_matrix_path = \"/home/qiz/data/lab_database/ismd_data/ZINC_sim_sparse.npz\"\n",
    "reactant_pool_sim = scipy.sparse.load_npz(sim_matrix_path).tocsr()\n",
    "\n",
    "# show the list of indice whose molecule is similar to the first one in the reactant pool\n",
    "print(reactant_pool_sim[0,:].nonzero()[1].tolist())"
   ]
  },
  {
   "cell_type": "markdown",
   "metadata": {},
   "source": [
    "### 2.1 descripter\n",
    "data is transformed in the following flow:\n",
    "\n",
    "index of reactant -> smiles of reactant -> smiles of product -> fingerprint of product"
   ]
  },
  {
   "cell_type": "code",
   "execution_count": 5,
   "metadata": {},
   "outputs": [
    {
     "name": "stdout",
     "output_type": "stream",
     "text": [
      "['12163.22445', '863.20896', '249087', '153658.23440', '297070', '208421', '412634.601987', '10425.19854', '9361.387984.30667', '50995.305035']\n"
     ]
    }
   ],
   "source": [
    "# take some samples (index of reactant)\n",
    "samples = data[\"reactant_index\"][:10].tolist()\n",
    "print(samples)"
   ]
  },
  {
   "cell_type": "markdown",
   "metadata": {},
   "source": [
    "### 2.1.1 index of reactant -> smiles of reactant\n",
    "Obtain the smiles by ReactantPool module via index\n",
    "\n",
    "Note: the ReactantPool also used as proposal model in step 4"
   ]
  },
  {
   "cell_type": "code",
   "execution_count": 6,
   "metadata": {},
   "outputs": [],
   "source": [
    "        pool_obj = ReactantPool(pool_data=reactant_pool, similarity_matrix=reactant_pool_sim, splitter='.')"
   ]
  },
  {
   "cell_type": "code",
   "execution_count": 7,
   "metadata": {},
   "outputs": [
    {
     "data": {
      "text/plain": [
       "['CCS(=O)(=O)Cl.OCCBr',\n",
       " 'CC(C)CS(=O)(=O)Cl.OCCCl',\n",
       " 'O=[N+]([O-])c1cccc2cnc(Cl)cc12',\n",
       " 'Cc1cc2c([N+](=O)[O-])cccc2c[n+]1[O-].O=P(Cl)(Cl)Cl',\n",
       " 'CCCCC[C@H](O)C=CC1C=CC(=O)C1CC=CCCCC(=O)O',\n",
       " 'CC(=O)OCC1=C(C(=O)O)N2C(=O)[C@@H](NC(=O)C(OC(C)=O)c3ccccc3)[C@H]2SC1',\n",
       " 'COc1cccc(C2(CC(Cl)(Cl)Cl)CO2)c1.ClC(Cl)(Cl)CC1(c2ccc(Br)cc2)CO1',\n",
       " 'COc1cc2ccccc2cc1C(=O)O.O=S(Cl)Cl',\n",
       " 'CCN(CC)CC.O.O=C(Cl)Oc1ccccc1',\n",
       " 'CCOC(N)=O.Cc1ccc(N=C=O)cc1N=C=O']"
      ]
     },
     "execution_count": 7,
     "metadata": {},
     "output_type": "execute_result"
    }
   ],
   "source": [
    "pool_obj.index2reactant(samples)"
   ]
  },
  {
   "cell_type": "markdown",
   "metadata": {},
   "source": [
    "### 2.1.2 smiles of reactant -> fingerprint of product"
   ]
  },
  {
   "cell_type": "code",
   "execution_count": 8,
   "metadata": {},
   "outputs": [],
   "source": [
    "# build molecular transformer (smiles of reactant -> smiles of product)\n",
    "reactor_path = \"/home/qiz/data/lab_database/models/STEREO_mixed_augm_model_average_20.pt\"\n",
    "ChemicalReactor = Reactor()\n",
    "ChemicalReactor.BuildReactor(model_list=[reactor_path], max_length=100, n_best=1, gpu=0)"
   ]
  },
  {
   "cell_type": "code",
   "execution_count": 9,
   "metadata": {},
   "outputs": [],
   "source": [
    "# build fingerprint descriptor (smiles of product -> fingerprint of product)\n",
    "\n",
    "RDKit_FPs = Fingerprints(featurizers=['ECFP', 'MACCS'], input_type='smiles')"
   ]
  },
  {
   "cell_type": "code",
   "execution_count": 10,
   "metadata": {},
   "outputs": [],
   "source": [
    "# build reaction descriptor (index of reactant -> fingerprint of product)\n",
    "# a combination of reactor and fingerprint descripter\n",
    "\n",
    "RD = ReactionDescriptor(descriptor_calculator=RDKit_FPs,reactor=ChemicalReactor,reactant_pool=pool_obj)"
   ]
  },
  {
   "cell_type": "code",
   "execution_count": 11,
   "metadata": {},
   "outputs": [
    {
     "data": {
      "text/html": [
       "<div>\n",
       "<style scoped>\n",
       "    .dataframe tbody tr th:only-of-type {\n",
       "        vertical-align: middle;\n",
       "    }\n",
       "\n",
       "    .dataframe tbody tr th {\n",
       "        vertical-align: top;\n",
       "    }\n",
       "\n",
       "    .dataframe thead th {\n",
       "        text-align: right;\n",
       "    }\n",
       "</style>\n",
       "<table border=\"1\" class=\"dataframe\">\n",
       "  <thead>\n",
       "    <tr style=\"text-align: right;\">\n",
       "      <th></th>\n",
       "      <th>maccs:0</th>\n",
       "      <th>maccs:1</th>\n",
       "      <th>maccs:2</th>\n",
       "      <th>maccs:3</th>\n",
       "      <th>maccs:4</th>\n",
       "      <th>maccs:5</th>\n",
       "      <th>maccs:6</th>\n",
       "      <th>maccs:7</th>\n",
       "      <th>maccs:8</th>\n",
       "      <th>maccs:9</th>\n",
       "      <th>...</th>\n",
       "      <th>ecfp3:2038</th>\n",
       "      <th>ecfp3:2039</th>\n",
       "      <th>ecfp3:2040</th>\n",
       "      <th>ecfp3:2041</th>\n",
       "      <th>ecfp3:2042</th>\n",
       "      <th>ecfp3:2043</th>\n",
       "      <th>ecfp3:2044</th>\n",
       "      <th>ecfp3:2045</th>\n",
       "      <th>ecfp3:2046</th>\n",
       "      <th>ecfp3:2047</th>\n",
       "    </tr>\n",
       "  </thead>\n",
       "  <tbody>\n",
       "    <tr>\n",
       "      <th>0</th>\n",
       "      <td>0</td>\n",
       "      <td>0</td>\n",
       "      <td>0</td>\n",
       "      <td>0</td>\n",
       "      <td>0</td>\n",
       "      <td>0</td>\n",
       "      <td>0</td>\n",
       "      <td>0</td>\n",
       "      <td>0</td>\n",
       "      <td>0</td>\n",
       "      <td>...</td>\n",
       "      <td>0</td>\n",
       "      <td>0</td>\n",
       "      <td>0</td>\n",
       "      <td>0</td>\n",
       "      <td>0</td>\n",
       "      <td>0</td>\n",
       "      <td>0</td>\n",
       "      <td>0</td>\n",
       "      <td>0</td>\n",
       "      <td>0</td>\n",
       "    </tr>\n",
       "    <tr>\n",
       "      <th>1</th>\n",
       "      <td>0</td>\n",
       "      <td>0</td>\n",
       "      <td>0</td>\n",
       "      <td>0</td>\n",
       "      <td>0</td>\n",
       "      <td>0</td>\n",
       "      <td>0</td>\n",
       "      <td>0</td>\n",
       "      <td>0</td>\n",
       "      <td>0</td>\n",
       "      <td>...</td>\n",
       "      <td>0</td>\n",
       "      <td>0</td>\n",
       "      <td>0</td>\n",
       "      <td>0</td>\n",
       "      <td>0</td>\n",
       "      <td>0</td>\n",
       "      <td>0</td>\n",
       "      <td>0</td>\n",
       "      <td>0</td>\n",
       "      <td>0</td>\n",
       "    </tr>\n",
       "    <tr>\n",
       "      <th>2</th>\n",
       "      <td>0</td>\n",
       "      <td>0</td>\n",
       "      <td>0</td>\n",
       "      <td>0</td>\n",
       "      <td>0</td>\n",
       "      <td>0</td>\n",
       "      <td>0</td>\n",
       "      <td>0</td>\n",
       "      <td>0</td>\n",
       "      <td>0</td>\n",
       "      <td>...</td>\n",
       "      <td>0</td>\n",
       "      <td>0</td>\n",
       "      <td>0</td>\n",
       "      <td>0</td>\n",
       "      <td>0</td>\n",
       "      <td>0</td>\n",
       "      <td>0</td>\n",
       "      <td>0</td>\n",
       "      <td>0</td>\n",
       "      <td>0</td>\n",
       "    </tr>\n",
       "  </tbody>\n",
       "</table>\n",
       "<p>3 rows × 2215 columns</p>\n",
       "</div>"
      ],
      "text/plain": [
       "   maccs:0  maccs:1  maccs:2  maccs:3  maccs:4  maccs:5  maccs:6  maccs:7  \\\n",
       "0        0        0        0        0        0        0        0        0   \n",
       "1        0        0        0        0        0        0        0        0   \n",
       "2        0        0        0        0        0        0        0        0   \n",
       "\n",
       "   maccs:8  maccs:9  ...  ecfp3:2038  ecfp3:2039  ecfp3:2040  ecfp3:2041  \\\n",
       "0        0        0  ...           0           0           0           0   \n",
       "1        0        0  ...           0           0           0           0   \n",
       "2        0        0  ...           0           0           0           0   \n",
       "\n",
       "   ecfp3:2042  ecfp3:2043  ecfp3:2044  ecfp3:2045  ecfp3:2046  ecfp3:2047  \n",
       "0           0           0           0           0           0           0  \n",
       "1           0           0           0           0           0           0  \n",
       "2           0           0           0           0           0           0  \n",
       "\n",
       "[3 rows x 2215 columns]"
      ]
     },
     "execution_count": 11,
     "metadata": {},
     "output_type": "execute_result"
    }
   ],
   "source": [
    "sample_fps = RD.transform(samples)\n",
    "sample_fps.head(3)"
   ]
  },
  {
   "cell_type": "markdown",
   "metadata": {},
   "source": [
    "### 3 Log-likelihood calculator\n",
    "\n",
    "Compute the log-likelihood given the samples(index of reactant)"
   ]
  },
  {
   "cell_type": "code",
   "execution_count": 12,
   "metadata": {},
   "outputs": [],
   "source": [
    "# set target\n",
    "prop = ['XLogP', 'TPSA']\n",
    "target_range = {'XLogP': (-2, 2), 'TPSA': (0, 25)}\n",
    "\n",
    "# build Gaussian likelihood calculator and set the target of region of the properties\n",
    "likelihood_calculator = GaussianLogLikelihood(descriptor=RD, targets = target_range)"
   ]
  },
  {
   "cell_type": "code",
   "execution_count": 13,
   "metadata": {
    "scrolled": true
   },
   "outputs": [
    {
     "name": "stderr",
     "output_type": "stream",
     "text": [
      "RDKit ERROR: [15:07:29] Can't kekulize mol.  Unkekulized atoms: 1 2 3 4 5 6 13\n",
      "RDKit ERROR: \n",
      "RDKit ERROR: [15:07:29] Can't kekulize mol.  Unkekulized atoms: 6 13 14 15 22 23 24\n",
      "RDKit ERROR: \n",
      "RDKit ERROR: [15:07:29] Can't kekulize mol.  Unkekulized atoms: 9 10 11 13 14 15 16 18 19\n",
      "RDKit ERROR: \n",
      "RDKit ERROR: [15:07:29] Can't kekulize mol.  Unkekulized atoms: 9 10 11 13 14 15 16 18 19\n",
      "RDKit ERROR: \n",
      "RDKit ERROR: [15:07:29] SMILES Parse Error: unclosed ring for input: 'CC(=O)O[C@H]1[C@]2(O)C[C@]3(O)SS[C@]4(CO)C(=O)N(C)C(=O)N3[C@@H]2C[C@@]13OC(C)C(C)(C)C3=O'\n",
      "RDKit ERROR: [15:07:29] SMILES Parse Error: unclosed ring for input: 'COc1cccc(C23CCc4[nH]nc(O)c4C2)c1'\n",
      "RDKit ERROR: [15:07:29] Can't kekulize mol.  Unkekulized atoms: 1 2 3 4 5 7 8 9 10 12 13\n",
      "RDKit ERROR: \n",
      "RDKit ERROR: [15:07:29] SMILES Parse Error: syntax error while parsing: CC[C@H](C)[C@H](NC(=O)[C@H](C)NC(=O)[C@@H](NC(=O)[C@H](CCC(N)=O)NC(=O)[C@@H]1CCCN1C(=O)[C@H](Cc1ccccc1)NC(=O)[C@@H](NC(=O)OCc1ccccc1)[C@@H](\n",
      "RDKit ERROR: [15:07:29] SMILES Parse Error: Failed parsing SMILES 'CC[C@H](C)[C@H](NC(=O)[C@H](C)NC(=O)[C@@H](NC(=O)[C@H](CCC(N)=O)NC(=O)[C@@H]1CCCN1C(=O)[C@H](Cc1ccccc1)NC(=O)[C@@H](NC(=O)OCc1ccccc1)[C@@H](' for input: 'CC[C@H](C)[C@H](NC(=O)[C@H](C)NC(=O)[C@@H](NC(=O)[C@H](CCC(N)=O)NC(=O)[C@@H]1CCCN1C(=O)[C@H](Cc1ccccc1)NC(=O)[C@@H](NC(=O)OCc1ccccc1)[C@@H]('\n",
      "RDKit ERROR: [15:07:29] SMILES Parse Error: syntax error while parsing: C[C@@H](OC(C)(C)C)[C@H](NC(=O)OCc1ccccc1)C(=O)N[C@@H](Cc1ccc(OC(C)(C)C)cc1)C(=O)N[C@H](C(=O)N[C@@H](CCC(N)=O)C(=O)N[C@@H](CC(N)=\n",
      "RDKit ERROR: [15:07:29] SMILES Parse Error: Failed parsing SMILES 'C[C@@H](OC(C)(C)C)[C@H](NC(=O)OCc1ccccc1)C(=O)N[C@@H](Cc1ccc(OC(C)(C)C)cc1)C(=O)N[C@H](C(=O)N[C@@H](CCC(N)=O)C(=O)N[C@@H](CC(N)=' for input: 'C[C@@H](OC(C)(C)C)[C@H](NC(=O)OCc1ccccc1)C(=O)N[C@@H](Cc1ccc(OC(C)(C)C)cc1)C(=O)N[C@H](C(=O)N[C@@H](CCC(N)=O)C(=O)N[C@@H](CC(N)='\n",
      "RDKit ERROR: [15:07:29] SMILES Parse Error: extra open parentheses for input: 'CC[C@H](C)[C@H](NC(=O)[C@H](C)NC(=O)[C@@H](NC(=O)[C@H](CCC(N)=O)NC(=O)[C@@H]1CCCN1C(=O)[C@H](Cc1ccccc1)NC(=O)[C@H](Cc1c[nH]cn1)NC(=O)[C@H](Cc'\n",
      "RDKit ERROR: [15:07:29] Can't kekulize mol.  Unkekulized atoms: 3 4 5 8 9 10 11 13 14\n",
      "RDKit ERROR: \n",
      "RDKit ERROR: [15:07:29] SMILES Parse Error: unclosed ring for input: 'COc1cccc(C2(C#N)C(CCCN(C)C)=CC(=O)N3CCOCC3)c1'\n",
      "RDKit ERROR: [15:07:29] Can't kekulize mol.  Unkekulized atoms: 4 5 6 7 8 12 13 15 17\n",
      "RDKit ERROR: \n",
      "RDKit ERROR: [15:07:29] SMILES Parse Error: unclosed ring for input: 'Fc1ccc(C2CCCN2CCC(c2ccc(Cl)cc2)CC2)cc1'\n",
      "RDKit ERROR: [15:07:29] SMILES Parse Error: unclosed ring for input: 'C1CC2CC1CC2OC1CCC2C1'\n",
      "RDKit ERROR: [15:07:29] Can't kekulize mol.  Unkekulized atoms: 2 3 4 6 12 13 14\n",
      "RDKit ERROR: \n",
      "RDKit ERROR: [15:07:29] SMILES Parse Error: extra open parentheses for input: 'CC(=O)[C@@]1(O)CC[C@H]2[C@@H]3C=C(F)C4=C(C(=O)[C@@H]5C[C@@H]5[C@@]4(C)[C@H]3CC[C@@]21C'\n",
      "RDKit ERROR: [15:07:30] Can't kekulize mol.  Unkekulized atoms: 3 10 11 12 13 14 15\n",
      "RDKit ERROR: \n",
      "RDKit ERROR: [15:07:30] Can't kekulize mol.  Unkekulized atoms: 1 2 3 5 6\n",
      "RDKit ERROR: \n",
      "RDKit ERROR: [15:07:30] SMILES Parse Error: syntax error while parsing: CCCCCCN1C(=O)N(CCCCCCN2C(=O)N(CCCCCC)C(C)(CCc3cc(C(C)(C)C)c(O)c(C(C)(C)C)c3)C2=O)C(=O)C1(C)CCc1cc(C(\n",
      "RDKit ERROR: [15:07:30] SMILES Parse Error: Failed parsing SMILES 'CCCCCCN1C(=O)N(CCCCCCN2C(=O)N(CCCCCC)C(C)(CCc3cc(C(C)(C)C)c(O)c(C(C)(C)C)c3)C2=O)C(=O)C1(C)CCc1cc(C(' for input: 'CCCCCCN1C(=O)N(CCCCCCN2C(=O)N(CCCCCC)C(C)(CCc3cc(C(C)(C)C)c(O)c(C(C)(C)C)c3)C2=O)C(=O)C1(C)CCc1cc(C('\n",
      "RDKit ERROR: [15:07:30] SMILES Parse Error: unclosed ring for input: 'CC(C)(C)OC(=O)C(N1C(=O)C(NC(c2ccccc2)(c2ccccc2)c2ccccc2)C1SCC#Cc1ccc(F)cc1)=P(c1ccccc1)(c1ccccc1)c1c'\n",
      "RDKit ERROR: [15:07:30] SMILES Parse Error: unclosed ring for input: 'CC(C)(C)OC(=O)C(N1C(=O)C(NC(c2ccccc2)(c2ccccc2)c2ccccc2)C1SCC#Cc1ccc(F)cc1)=P(c1ccccc1)(c1ccccc1)c1c'\n",
      "RDKit ERROR: [15:07:30] Can't kekulize mol.  Unkekulized atoms: 2 3 7\n",
      "RDKit ERROR: \n",
      "RDKit ERROR: [15:07:30] SMILES Parse Error: extra open parentheses for input: 'CC(C)(C)OC(=O)CC[C@H](NC(=O)CNC(=O)[C@H](CSC(c1ccccc1)(c1ccccc1)c1ccccc1)NC(c1ccccc1)(c1ccccc1)c1ccccc1)C(=O'\n",
      "RDKit ERROR: [15:07:30] SMILES Parse Error: unclosed ring for input: 'O=C(c1ccc(Nc2nc(Nc3ccc(C(=O)c4ccc(C(=O)O)c(C(=O)O)c4)cc3)nc(N(c3ccccc3)c3ccccc3)n2)cc1)c1ccc(C(=O)O)'\n",
      "RDKit ERROR: [15:07:30] Can't kekulize mol.  Unkekulized atoms: 7 8 9 10 12\n",
      "RDKit ERROR: \n",
      "RDKit ERROR: [15:07:30] Can't kekulize mol.  Unkekulized atoms: 0 1 2 3 4 5 6 7 8 9 17\n",
      "RDKit ERROR: \n",
      "RDKit ERROR: [15:07:30] SMILES Parse Error: syntax error while parsing: C=CCN(CC=C)CCCOC(=O)c1ccc2c(c1)-c1ccc(C(=O)Nc3c(F)c(F)c(NC(=O)c4ccc5c(c4)-c4cccc-5c4)c(F)c3F)c3cccc-\n",
      "RDKit ERROR: [15:07:30] SMILES Parse Error: Failed parsing SMILES 'C=CCN(CC=C)CCCOC(=O)c1ccc2c(c1)-c1ccc(C(=O)Nc3c(F)c(F)c(NC(=O)c4ccc5c(c4)-c4cccc-5c4)c(F)c3F)c3cccc-' for input: 'C=CCN(CC=C)CCCOC(=O)c1ccc2c(c1)-c1ccc(C(=O)Nc3c(F)c(F)c(NC(=O)c4ccc5c(c4)-c4cccc-5c4)c(F)c3F)c3cccc-'\n",
      "RDKit ERROR: [15:07:30] Can't kekulize mol.  Unkekulized atoms: 3 5 6\n",
      "RDKit ERROR: \n",
      "RDKit ERROR: [15:07:30] SMILES Parse Error: extra open parentheses for input: 'CC[C@H](C)[C@H](NC(=O)[C@H](CCC(N)=O)NC(=O)[C@@H]1CCCN1C(=O)[C@H](CCCNC(=N)N)NC(=O)[C@@H]1CCCN1C(=O)[C@H](Cc1c[nH]c2ccccc12)NC(=O)[C@@H]1C'\n",
      "RDKit ERROR: [15:07:30] SMILES Parse Error: unclosed ring for input: 'O=C1C2=C(c3cc(-c4ccccc4)[nH]n3)CCCC2'\n",
      "RDKit ERROR: [15:07:30] SMILES Parse Error: unclosed ring for input: 'CCC(C(=O)C(C)C(O)C(C)CCc1c(N=Nc2cc(C)c(O)c(C(=O)O)c2CCC(C)(O)C2CCC(O)(CC)C(C)O2)cc(C)c(O)c1C(=O)O)C1'\n",
      "RDKit ERROR: [15:07:30] Can't kekulize mol.  Unkekulized atoms: 3 4 5 6 7 8 9 10 11 13 14\n",
      "RDKit ERROR: \n",
      "RDKit ERROR: [15:07:30] SMILES Parse Error: extra open parentheses for input: 'O=C1CC[C@@H](C(=O)N[C@@H](Cc2c[nH]cn2)C(=O)N[C@@H](Cc2c[nH]c3ccccc23)C(=O)N[C@@H](CO)C(=O)N[C@@H](Cc2ccc(OCc3ccccc3)cc2)C(=O)OCc2cc'\n",
      "RDKit ERROR: [15:07:30] SMILES Parse Error: syntax error while parsing: CC(C)C[C@H](NC(=O)CNC(=O)[C@H](Cc1ccc(O)cc1)NC(=O)[C@H](CO)NC(=O)[C@H](Cc1c[nH]c2ccccc12)NC(=O)[C@H](Cc1c[nH]cn1)NC(=O)[C@@H]1CCC(=\n",
      "RDKit ERROR: [15:07:30] SMILES Parse Error: Failed parsing SMILES 'CC(C)C[C@H](NC(=O)CNC(=O)[C@H](Cc1ccc(O)cc1)NC(=O)[C@H](CO)NC(=O)[C@H](Cc1c[nH]c2ccccc12)NC(=O)[C@H](Cc1c[nH]cn1)NC(=O)[C@@H]1CCC(=' for input: 'CC(C)C[C@H](NC(=O)CNC(=O)[C@H](Cc1ccc(O)cc1)NC(=O)[C@H](CO)NC(=O)[C@H](Cc1c[nH]c2ccccc12)NC(=O)[C@H](Cc1c[nH]cn1)NC(=O)[C@@H]1CCC(='\n",
      "RDKit ERROR: [15:07:30] SMILES Parse Error: extra open parentheses for input: 'COC(=O)CNC(=O)[C@@H]1CCCN1C(=O)[C@H](CCCN=C(N)N)NC(=O)[C@H](Cc1c[nH]cn1)NC(=O)[C@H](CO)NC(=O)[C@H](Cc1ccc(O)cc1)NC(=O)[C@H](Cc1c'\n",
      "RDKit ERROR: [15:07:30] SMILES Parse Error: extra open parentheses for input: 'CC(C)(C)OC[C@H](NC(=O)[C@H](CCC(=O)OC(C)(C)C)NC(=O)[C@H](CC(=O)OC(C)(C)C)NC(=O)[C@H](CCC(=O)OC(C)(C)C)NC(=O)OCc1cccc'\n",
      "RDKit ERROR: [15:07:30] SMILES Parse Error: extra open parentheses for input: 'CC(C)(C)OC[C@H](NC(=O)[C@H](CCC(=O)OC(C)(C)C)NC(=O)[C@H](CC(=O)OC(C)(C)C)NC(=O)[C@H](CCC(=O)OC(C)(C)C)NC(=O)[C@H](CCC(=O'\n",
      "RDKit ERROR: [15:07:30] SMILES Parse Error: extra open parentheses for input: 'C[C@H](N)C(=O)N[C@@H](CCC(=O)O)C(=O)N[C@@H](CC(=O)O)C(=O)N[C@@H](CCC(=O)O)C(=O)N[C@@H](CCC(=O)O)C(=O)N[C@@H](COC(C)(C)C)C(=O)OC(C'\n",
      "RDKit ERROR: [15:07:30] SMILES Parse Error: syntax error while parsing: C[C@H](NC(=O)[C@H](CO)NC(=O)[C@H](CCC(=O)OC(C)(C)C)NC(=O)[C@H](CC(=O)OC(C)(C)C)NC(=O)[C@H](CC(=O)OC(C)(C)C)NC(=O)[C@H](CCC(=\n",
      "RDKit ERROR: [15:07:30] SMILES Parse Error: Failed parsing SMILES 'C[C@H](NC(=O)[C@H](CO)NC(=O)[C@H](CCC(=O)OC(C)(C)C)NC(=O)[C@H](CC(=O)OC(C)(C)C)NC(=O)[C@H](CC(=O)OC(C)(C)C)NC(=O)[C@H](CCC(=' for input: 'C[C@H](NC(=O)[C@H](CO)NC(=O)[C@H](CCC(=O)OC(C)(C)C)NC(=O)[C@H](CC(=O)OC(C)(C)C)NC(=O)[C@H](CC(=O)OC(C)(C)C)NC(=O)[C@H](CCC(='\n",
      "RDKit ERROR: [15:07:30] SMILES Parse Error: syntax error while parsing: C[C@H](NC(=O)CNC(=O)[C@H](CC(N)=O)NC(=O)OCc1ccccc1)C(=O)N[C@@H](CCC(=O)OC(C)(C)C)C(=O)N[C@@H](CC(=O)OC(C)(C)C)C(=O)N[C@@H](\n",
      "RDKit ERROR: [15:07:30] SMILES Parse Error: Failed parsing SMILES 'C[C@H](NC(=O)CNC(=O)[C@H](CC(N)=O)NC(=O)OCc1ccccc1)C(=O)N[C@@H](CCC(=O)OC(C)(C)C)C(=O)N[C@@H](CC(=O)OC(C)(C)C)C(=O)N[C@@H](' for input: 'C[C@H](NC(=O)CNC(=O)[C@H](CC(N)=O)NC(=O)OCc1ccccc1)C(=O)N[C@@H](CCC(=O)OC(C)(C)C)C(=O)N[C@@H](CC(=O)OC(C)(C)C)C(=O)N[C@@H]('\n",
      "RDKit ERROR: [15:07:30] SMILES Parse Error: extra open parentheses for input: 'C[C@H](NC(=O)CNC(=O)[C@@H](N)CC(N)=O)C(=O)N[C@@H](CCC(=O)OC(C)(C)C)C(=O)N[C@@H](CC(=O)OC(C)(C)C)C(=O)N[C@@H](CCC(=O)OC(C)(C)'\n",
      "RDKit ERROR: [15:07:30] SMILES Parse Error: syntax error while parsing: CC(C)[C@H](NC(=O)[C@H](CCCCNC(=O)OC(C)(C)C)NC(=O)[C@@H]1CCCN1C(=O)[C@H](CCCNC(=N)N[N+](=O)[O-])NC(=O)[C@H](CCCNC(=N)N[N+](=O)[O-])NC(\n",
      "RDKit ERROR: [15:07:30] SMILES Parse Error: Failed parsing SMILES 'CC(C)[C@H](NC(=O)[C@H](CCCCNC(=O)OC(C)(C)C)NC(=O)[C@@H]1CCCN1C(=O)[C@H](CCCNC(=N)N[N+](=O)[O-])NC(=O)[C@H](CCCNC(=N)N[N+](=O)[O-])NC(' for input: 'CC(C)[C@H](NC(=O)[C@H](CCCCNC(=O)OC(C)(C)C)NC(=O)[C@@H]1CCCN1C(=O)[C@H](CCCNC(=N)N[N+](=O)[O-])NC(=O)[C@H](CCCNC(=N)N[N+](=O)[O-])NC('\n",
      "RDKit ERROR: [15:07:30] SMILES Parse Error: extra open parentheses for input: 'CC(C)C[C@H](NC(=O)[C@@H]1CCCN1C(=O)[C@H](Cc1ccccc1)NC(=O)[C@H](C)NC(=O)[C@H](CCC(=O)OC(C)(C)C)NC(=O)[C@H](C)NC(=O)[C@H](CO)NC(=O)'\n",
      "RDKit ERROR: [15:07:30] SMILES Parse Error: extra open parentheses for input: 'CC(C)C[C@H](NC(=O)[C@@H]1CCCN1C(=O)[C@H](Cc1ccccc1)NC(=O)[C@H](C)NC(=O)[C@H](CCC(=O)OC(C)(C)C)NC(=O)[C@H](C)NC(=O)[C@H](CO)NC(=O)'\n",
      "RDKit ERROR: [15:07:30] SMILES Parse Error: extra open parentheses for input: 'CC(C)C[C@H](NC(=O)[C@@H]1CCCN1C(=O)[C@H](Cc1ccccc1)NC(=O)[C@H](C)NC(=O)[C@H](CCC(=O)OC(C)(C)C)NC(=O)[C@H](C)NC(=O)[C@H](CO)NC(=O)'\n",
      "RDKit ERROR: [15:07:30] SMILES Parse Error: unclosed ring for input: 'O=C(NCCCCCCNC(=O)N1C(=O)C2(CCCCC2)NC12CCCCC2)NC12CCCCC2'\n",
      "RDKit ERROR: [15:07:30] Can't kekulize mol.  Unkekulized atoms: 6 7 38\n",
      "RDKit ERROR: \n",
      "RDKit ERROR: [15:07:30] SMILES Parse Error: extra open parentheses for input: 'CCCCCCCCC(O)CN(CCNCCNCCN(CCN(CCC#N)CCC#N)CC(O)CCCCCCCCC'\n",
      "RDKit ERROR: [15:07:30] SMILES Parse Error: syntax error while parsing: C[C@@H](OC(C)(C)C)[C@H](NC(=O)[C@H](CCC(=O)OC(C)(C)C)NC(=O)[C@@H]1CCCN1C(=O)CNC(=O)[C@H](Cc1ccccc1)NC(=O)CN)C(=O)N1CCC[C@H]1C(\n",
      "RDKit ERROR: [15:07:30] SMILES Parse Error: Failed parsing SMILES 'C[C@@H](OC(C)(C)C)[C@H](NC(=O)[C@H](CCC(=O)OC(C)(C)C)NC(=O)[C@@H]1CCCN1C(=O)CNC(=O)[C@H](Cc1ccccc1)NC(=O)CN)C(=O)N1CCC[C@H]1C(' for input: 'C[C@@H](OC(C)(C)C)[C@H](NC(=O)[C@H](CCC(=O)OC(C)(C)C)NC(=O)[C@@H]1CCCN1C(=O)CNC(=O)[C@H](Cc1ccccc1)NC(=O)CN)C(=O)N1CCC[C@H]1C('\n",
      "RDKit ERROR: [15:07:30] SMILES Parse Error: extra open parentheses for input: 'CC(C)C[C@H](NC(=O)[C@H](CC(N)=O)NC(=O)[C@H](CO)NC(=O)[C@H](CSCc1ccccc1)NC(=O)OC(C)(C)C)C(=O)N[C@@H](CO)C(=O)N[C@H](C(=O)O)[C@@H](C'\n",
      "RDKit ERROR: [15:07:30] SMILES Parse Error: syntax error while parsing: CC(C)C[C@H](NC(=O)[C@@H](NC(=O)[C@H](CSCc1ccccc1)NC(=O)[C@@H](NC(=O)[C@H](CO)NC(=O)[C@H](CO)NC(=O)[C@H](CC(N)=O)NC(=O)[C@H](CC(C)C)NC(\n",
      "RDKit ERROR: [15:07:30] SMILES Parse Error: Failed parsing SMILES 'CC(C)C[C@H](NC(=O)[C@@H](NC(=O)[C@H](CSCc1ccccc1)NC(=O)[C@@H](NC(=O)[C@H](CO)NC(=O)[C@H](CO)NC(=O)[C@H](CC(N)=O)NC(=O)[C@H](CC(C)C)NC(' for input: 'CC(C)C[C@H](NC(=O)[C@@H](NC(=O)[C@H](CSCc1ccccc1)NC(=O)[C@@H](NC(=O)[C@H](CO)NC(=O)[C@H](CO)NC(=O)[C@H](CC(N)=O)NC(=O)[C@H](CC(C)C)NC('\n",
      "RDKit ERROR: [15:07:30] SMILES Parse Error: syntax error while parsing: C[C@@H](OC(C)(C)C)[C@H](NC(=O)[C@H](CCC(=O)OC(C)(C)C)NC(=O)[C@@H]1CCCN1C(=O)CNC(=O)[C@H](Cc1ccccc1)NC(=O)CN)C(=O)N1CCC[C@H]1C(\n",
      "RDKit ERROR: [15:07:30] SMILES Parse Error: Failed parsing SMILES 'C[C@@H](OC(C)(C)C)[C@H](NC(=O)[C@H](CCC(=O)OC(C)(C)C)NC(=O)[C@@H]1CCCN1C(=O)CNC(=O)[C@H](Cc1ccccc1)NC(=O)CN)C(=O)N1CCC[C@H]1C(' for input: 'C[C@@H](OC(C)(C)C)[C@H](NC(=O)[C@H](CCC(=O)OC(C)(C)C)NC(=O)[C@@H]1CCCN1C(=O)CNC(=O)[C@H](Cc1ccccc1)NC(=O)CN)C(=O)N1CCC[C@H]1C('\n",
      "RDKit ERROR: [15:07:30] Can't kekulize mol.  Unkekulized atoms: 15 16 17 18 19 20 22\n",
      "RDKit ERROR: \n",
      "RDKit ERROR: [15:07:30] Explicit valence for atom # 16 O, 3, is greater than permitted\n",
      "RDKit ERROR: [15:07:30] SMILES Parse Error: unclosed ring for input: 'CC(C)(C)OC(=O)C(N1C(=O)C(NC(c2ccccc2)(c2ccccc2)c2ccccc2)C1SCC#CCOC1CCCCO1)=P(c1ccccc1)(c1ccccc1)c1cc'\n",
      "RDKit ERROR: [15:07:30] SMILES Parse Error: unclosed ring for input: 'CCC12CCC3(CCC(C)c4cc(OC)ccc43)(CCC1=O)OCCO3'\n",
      "RDKit ERROR: [15:07:30] Can't kekulize mol.  Unkekulized atoms: 1 2 3 7 11 18 19 20 21\n",
      "RDKit ERROR: \n",
      "RDKit ERROR: [15:07:30] Can't kekulize mol.  Unkekulized atoms: 1 2 3 4 5 6 7 8 9 11 13 14 15\n",
      "RDKit ERROR: \n",
      "RDKit ERROR: [15:07:30] Can't kekulize mol.  Unkekulized atoms: 2 3 4 5 6 7 8 9 10 12 13 14 16\n",
      "RDKit ERROR: \n",
      "RDKit ERROR: [15:07:30] SMILES Parse Error: unclosed ring for input: 'COc1cccc2c1CC1SC(=S)NC1=O'\n",
      "RDKit ERROR: [15:07:30] SMILES Parse Error: extra open parentheses for input: 'CC(C)(C)c1cc(CCC(=O)OC2C(C)(C)C(OC(=O)CCc3cc(C(C)(C)C)c(O)c(C(C)(C)C)c3)C(C)(C)C(OC(=O)CCc3cc(C(C)(C'\n",
      "RDKit ERROR: [15:07:30] SMILES Parse Error: unclosed ring for input: 'Cc1ccc2c3c(nn2CCN(C)C)-c2ccccc2Oc2c(C)cccc12'\n",
      "RDKit ERROR: [15:07:30] Explicit valence for atom # 18 O, 4, is greater than permitted\n",
      "RDKit ERROR: [15:07:30] Can't kekulize mol.  Unkekulized atoms: 1 2 3 4 5 9 10 12 13 14 15 16 17\n",
      "RDKit ERROR: \n",
      "RDKit ERROR: [15:07:30] Can't kekulize mol.  Unkekulized atoms: 0 1 2 3 4 5 6 7 8 9 10 11 12 13 14\n",
      "RDKit ERROR: \n",
      "RDKit ERROR: [15:07:30] Can't kekulize mol.  Unkekulized atoms: 5 6 9\n",
      "RDKit ERROR: \n",
      "RDKit ERROR: [15:07:30] Can't kekulize mol.  Unkekulized atoms: 5 6 9\n",
      "RDKit ERROR: \n",
      "RDKit ERROR: [15:07:30] SMILES Parse Error: unclosed ring for input: 'c1ccc2c(c1)CCc1cccc3[nH]cnc1c12'\n",
      "RDKit ERROR: [15:07:30] SMILES Parse Error: extra close parentheses while parsing: CC1CCOc2cc(Cl)c(N)c3c2C(=O)c2ccccc2C3=O)C1\n",
      "RDKit ERROR: [15:07:30] \n",
      "RDKit ERROR: \n",
      "RDKit ERROR: ****\n",
      "RDKit ERROR: Pre-condition Violation\n",
      "RDKit ERROR: no atoms\n",
      "RDKit ERROR: Violation occurred on line 179 in file /opt/conda/conda-bld/rdkit_1585461230488/work/Code/GraphMol/ROMol.cpp\n",
      "RDKit ERROR: Failed Expression: getNumAtoms() > 0\n",
      "RDKit ERROR: ****\n",
      "RDKit ERROR: \n",
      "RDKit ERROR: [15:07:30] Can't kekulize mol.  Unkekulized atoms: 10 11 12\n",
      "RDKit ERROR: \n",
      "RDKit ERROR: [15:07:31] SMILES Parse Error: unclosed ring for input: 'CN(C)C(=O)CC12C(=O)C3c4ccccc4C1C1c3ccccc3C12'\n",
      "RDKit ERROR: [15:07:31] Can't kekulize mol.  Unkekulized atoms: 2 3 4 5 6 11 14 15 16\n",
      "RDKit ERROR: \n",
      "RDKit ERROR: [15:07:31] Can't kekulize mol.  Unkekulized atoms: 9 10 11 12 13 14 15\n",
      "RDKit ERROR: \n",
      "RDKit ERROR: [15:07:31] Can't kekulize mol.  Unkekulized atoms: 5 6 7 8 9 10 11\n",
      "RDKit ERROR: \n",
      "RDKit ERROR: [15:07:31] SMILES Parse Error: unclosed ring for input: 'c1cc2c3c(c[nH]c3c1)Cn1c-2n[nH]c1-c1ccccc1-3'\n",
      "RDKit ERROR: [15:07:31] SMILES Parse Error: unclosed ring for input: 'CCCCCCCCCCCCCCCC(=O)NC1CC(O)C(O)NC(=O)C2C(O)C(C)CN2C(=O)C(C(C)O)NC(=O)C2CC(O)CN2C(=O)C(C(C)O)NC(=O)C'\n",
      "RDKit ERROR: [15:07:31] Can't kekulize mol.  Unkekulized atoms: 2 3 4 5 6 7 8 9 11\n",
      "RDKit ERROR: \n",
      "RDKit ERROR: [15:07:31] Can't kekulize mol.  Unkekulized atoms: 11 12 13 14 15 16 17\n",
      "RDKit ERROR: \n",
      "RDKit ERROR: [15:07:31] Can't kekulize mol.  Unkekulized atoms: 2 3 4 5 6 7 8 9 10\n",
      "RDKit ERROR: \n",
      "RDKit ERROR: [15:07:31] SMILES Parse Error: unclosed ring for input: 'CC[C@@]1(O)C[C@H](O[C@H]2C[C@H](N(C)C)[C@H](O[C@H]3C[C@H](O)[C@H](O[C@H]4CCC(=O)[C@H](C)O4)[C@H](C)O3)[C@H](C)O2)c2c(cc3c(c2O)C(=O)c2c(O)cccc2C3=O)[C@H]'\n",
      "RDKit ERROR: [15:07:31] Can't kekulize mol.  Unkekulized atoms: 2 4 5 6 7 8 9 10 11\n",
      "RDKit ERROR: \n",
      "RDKit ERROR: [15:07:31] Can't kekulize mol.  Unkekulized atoms: 6 8 9 10 11 12 13\n",
      "RDKit ERROR: \n",
      "RDKit ERROR: [15:07:31] SMILES Parse Error: unclosed ring for input: 'CCN1CCn2c(-c3ccc(Br)cc3)cc3c2CCSC3'\n"
     ]
    },
    {
     "name": "stdout",
     "output_type": "stream",
     "text": [
      "CPU times: user 5min, sys: 6.32 s, total: 5min 6s\n",
      "Wall time: 2min 27s\n"
     ]
    }
   ],
   "source": [
    "%%time\n",
    "\n",
    "# train forward models inside ismd\n",
    "likelihood_calculator.fit(data['reactant_index'], data[prop])"
   ]
  },
  {
   "cell_type": "code",
   "execution_count": 14,
   "metadata": {
    "scrolled": true
   },
   "outputs": [
    {
     "name": "stdout",
     "output_type": "stream",
     "text": [
      "   XLogP: mean  XLogP: std  TPSA: mean  TPSA: std\n",
      "0     3.272444    1.983178   60.023316  40.707506\n",
      "1     3.136484    1.990339   57.212363  40.886018\n",
      "2     2.871614    1.992173   63.011102  40.944258\n",
      "3     3.153963    1.996201   52.194247  41.033427\n",
      "4     2.989754    2.007697   77.616376  41.269624\n"
     ]
    }
   ],
   "source": [
    "# predicted properties of samples\n",
    "property_prediction = likelihood_calculator.predict(samples)\n",
    "print(property_prediction.head())"
   ]
  },
  {
   "cell_type": "code",
   "execution_count": 15,
   "metadata": {
    "scrolled": true
   },
   "outputs": [
    {
     "name": "stdout",
     "output_type": "stream",
     "text": [
      "      XLogP      TPSA\n",
      "0 -1.360093 -2.082480\n",
      "1 -1.276294 -2.005964\n",
      "2 -1.128147 -2.165423\n",
      "3 -1.284850 -1.883462\n",
      "4 -1.188948 -2.642831\n"
     ]
    }
   ],
   "source": [
    "# compute the log likelihood of samples\n",
    "likelihood_prediction = likelihood_calculator(samples, **target_range)\n",
    "print(likelihood_prediction.head())"
   ]
  },
  {
   "cell_type": "markdown",
   "metadata": {},
   "source": [
    "### 4 proposal model\n",
    "\n",
    "proposal from the given reactant pool, sample(index of reactant) is modified by randomly changing one reactant to a similar one."
   ]
  },
  {
   "cell_type": "code",
   "execution_count": 16,
   "metadata": {},
   "outputs": [
    {
     "name": "stdout",
     "output_type": "stream",
     "text": [
      "['12163.22445', '863.20896', '249087', '153658.23440', '297070', '208421', '412634.601987', '10425.19854', '9361.387984.30667', '50995.305035']\n",
      "['12163.28507', '22124.20896', '200136', '153658.438826', '491549', '59664', '146642.601987', '28023.19854', '9361.290513.30667', '303868.305035']\n"
     ]
    }
   ],
   "source": [
    "# proposal based on samples\n",
    "new_samples = pool_obj.proposal(samples)\n",
    "print(samples)\n",
    "print(new_samples)"
   ]
  },
  {
   "cell_type": "markdown",
   "metadata": {},
   "source": [
    "### 5 complete run of ismd"
   ]
  },
  {
   "cell_type": "code",
   "execution_count": 17,
   "metadata": {},
   "outputs": [
    {
     "name": "stdout",
     "output_type": "stream",
     "text": [
      "['3512.448559' '340658' '208158.118041.16794' '167733.537503' '409062'\n",
      " '456078.36953' '52646.15893' '14376.18781' '159186.505934' '549477']\n"
     ]
    }
   ],
   "source": [
    "# set up initial reactants\n",
    "cans = [smi for i, smi in enumerate(data['reactant_index'])\n",
    "        if (data['XLogP'].iloc[i] > 4)]\n",
    "init_samples = np.random.choice(cans, 10)\n",
    "print(init_samples)"
   ]
  },
  {
   "cell_type": "code",
   "execution_count": 18,
   "metadata": {},
   "outputs": [
    {
     "name": "stdout",
     "output_type": "stream",
     "text": [
      "Number of steps: 50\n",
      "[0.01       0.02       0.03       0.04       0.05       0.06\n",
      " 0.07       0.08       0.09       0.1        0.11       0.12\n",
      " 0.13       0.14       0.15       0.16       0.17       0.18\n",
      " 0.19       0.2        0.21       0.23111111 0.25222222 0.27333333\n",
      " 0.29444444 0.31555556 0.33666667 0.35777778 0.37888889 0.4\n",
      " 0.4        0.46666667 0.53333333 0.6        0.66666667 0.73333333\n",
      " 0.8        0.86666667 0.93333333 1.         1.         1.\n",
      " 1.         1.         1.         1.         1.         1.\n",
      " 1.         1.        ]\n"
     ]
    }
   ],
   "source": [
    "# set up annealing schedule\n",
    "beta = np.hstack([np.linspace(0.01,0.2,20),np.linspace(0.21,0.4,10),np.linspace(0.4,1,10),np.linspace(1,1,10)])\n",
    "print('Number of steps: %i' % len(beta))\n",
    "print(beta)"
   ]
  },
  {
   "cell_type": "code",
   "execution_count": 19,
   "metadata": {
    "scrolled": true
   },
   "outputs": [
    {
     "name": "stderr",
     "output_type": "stream",
     "text": [
      "RDKit ERROR: [15:08:05] SMILES Parse Error: extra open parentheses for input: 'CC(C)(C)OC(=O)N1CC[C@@H](Cc2nn(-c3ccc(C(c4ccccc4)(c4ccccc4)n4cccn4)cc3)c(=O)n2-c2ccc(-c3ccc4cccnc4c3)cc2F'\n",
      "RDKit ERROR: [15:08:05] SMILES Parse Error: extra open parentheses for input: 'CC(C)(C)OC(=O)N1CC[C@@H](Cc2nn(-c3cnn(C(c4ccccc4)(c4ccccc4)c4ccccc4)c3)c(=O)n2-c2ccc(-c3ccc4cccnc4c3)cc2F'\n",
      "RDKit ERROR: [15:08:17] Can't kekulize mol.  Unkekulized atoms: 1 2 3 4 5 13 14 15 17 18 19\n",
      "RDKit ERROR: \n",
      "RDKit ERROR: [15:08:22] SMILES Parse Error: extra open parentheses for input: 'Cc1cc(-n2c(C[C@@H]3CCN(C(=O)C4CC4)C3)nn(C(=O)C(CCCSC(c3ccccc3)(c3ccccc3)c3ccccc3)CC(=O)OC(C)(C)C)c2=O)c(F'\n",
      "RDKit ERROR: [15:08:23] SMILES Parse Error: unclosed ring for input: 'Cc1nc(-c2cn(C(c3ccccc3)(c3ccccc3)c3ccccc3)c(=O)n2C[C@@H]2CCN(C(=O)C3CC3)C2)cn1C(c1ccccc1)(c1ccccc1)c1cccc'\n",
      "RDKit ERROR: [15:08:26] SMILES Parse Error: unclosed ring for input: 'CC(=O)N1CC[C@@H](Cc2nn(C(=O)C(CC(=O)NOC(c3ccccc3)(c3ccccc3)c3ccccc3)CC(=O)OC(C)(C)C)c(=O)n2-c2ccc(Br)cc2)C'\n",
      "RDKit ERROR: [15:08:29] SMILES Parse Error: extra open parentheses for input: 'O=C(C1CC1)N1CC[C@@H](Cc2nn(CCOC(c3ccccc3)(c3ccccc3)c3ccccc3)c(=O)n2-c2ccc(Br)cc2OCCOC(c2ccccc2)(c2ccccc2)c'\n",
      "RDKit ERROR: [15:08:29] SMILES Parse Error: unclosed ring for input: 'CN(C)C(=O)N1CC[C@@H](Cc2nn(C(=O)C(CCCSC(c3ccccc3)(c3ccccc3)c3ccccc3)CC(=O)OC(C)(C)C)c(=O)n2-c2ccc(Br)cc2F)'\n",
      "RDKit ERROR: [15:08:31] SMILES Parse Error: syntax error while parsing: COC(=O)c1cc(CC(CCCSC(c2ccccc2)(c2ccccc2)c2ccccc2)(C(=O)O)C(=O)N2CC[C@@H](Cc3n[nH]c(=O)n3-c3ccc(Br)cc3F)C2)cc(\n",
      "RDKit ERROR: [15:08:31] SMILES Parse Error: Failed parsing SMILES 'COC(=O)c1cc(CC(CCCSC(c2ccccc2)(c2ccccc2)c2ccccc2)(C(=O)O)C(=O)N2CC[C@@H](Cc3n[nH]c(=O)n3-c3ccc(Br)cc3F)C2)cc(' for input: 'COC(=O)c1cc(CC(CCCSC(c2ccccc2)(c2ccccc2)c2ccccc2)(C(=O)O)C(=O)N2CC[C@@H](Cc3n[nH]c(=O)n3-c3ccc(Br)cc3F)C2)cc('\n",
      "RDKit ERROR: [15:08:42] Can't kekulize mol.  Unkekulized atoms: 10 11 13\n",
      "RDKit ERROR: \n",
      "RDKit ERROR: [15:08:43] SMILES Parse Error: extra open parentheses for input: 'COC(=O)CC[C@H](NC(=O)c1cn(C(c2ccccc2)(c2ccccc2)c2ccccc2)c(-c2nc(C[C@@H]3CCN(C(=O)C4CC4)C3)cn2C(c2ccccc2)(c2cc'\n",
      "RDKit ERROR: [15:08:46] SMILES Parse Error: unclosed ring for input: 'COc1c(C#N)ccc2c1c(/C=C/c1cc(F)c(-n3c(C[C@@H]4CCN(C(=O)C5CC5)C4)n[nH]c3=O)cc1Cl)nn2C(c1ccccc1)(c1ccccc1)c1cccc'\n",
      "RDKit ERROR: [15:08:46] SMILES Parse Error: unclosed ring for input: 'COc1c(C#N)ccc2c1c(/C=C/c1cc(F)c(-n3c(C[C@@H]4CCN(C(=O)C5CC5)C4)n[nH]c3=O)c(Cl)c1)nn2C(c1ccccc1)(c1ccccc1)c1cc'\n",
      "RDKit ERROR: [15:08:48] SMILES Parse Error: unclosed ring for input: 'COc1c(C#N)ccc2c1c(/C=C/c1ccc(-n3c(C[C@@H]4CCN(C(=O)C5CC5)C4)n[nH]c3=O)c(F)c1F)nn2C(c1ccccc1)(c1ccccc1)c1cccc'\n",
      "RDKit ERROR: [15:08:48] SMILES Parse Error: unclosed ring for input: 'CCC(=O)N1CC[C@@H](Cc2nn(-c3ccc(C(O)(c4cn(C(c5ccccc5)(c5ccccc5)c5ccccc5)cn4)C(C)C)cc3)c(=O)n2-c2ccc(Br)cc2)'\n",
      "RDKit ERROR: [15:08:50] SMILES Parse Error: extra open parentheses for input: 'O=C(C1CC1)N1CC[C@@H](Cc2n[nH]c(=O)n2-c2cc(F)c(Nc3ccc4c(c3)c(-c3ccc(F)cc3)nn4C(c3ccccc3)(c3ccccc3)c3ccccc3)cc'\n",
      "RDKit ERROR: [15:08:55] SMILES Parse Error: extra open parentheses for input: 'COc1cc(-n2c(C[C@@H]3CCN(C(=O)C4CC4)C3)nn(-c3ncc4c(-c5cccc(Br)c5)nn(C(c5ccccc5)(c5ccccc5)c5ccccc5)c4n3)c2=O'\n",
      "RDKit ERROR: [15:08:55] SMILES Parse Error: extra open parentheses for input: 'COc1ccc(-c2ccc(-n3c(C[C@@H]4CCN(C(=O)OC(C)(C)C)C4)nn(-c4cnc5c(n4)c([N+](=O)[O-])cn5C(c4ccccc4)(c4ccccc4)c4ccccc'\n",
      "RDKit ERROR: [15:09:00] SMILES Parse Error: extra open parentheses for input: 'CC(C)(C)OC(=O)N1CCC(COc2ncc(-c3ccc(COc4nn(C(c5ccccc5)(c5ccccc5)c5ccccc5)c5ccnc(OC6CCOCC6)c45)cc3)cn2'\n",
      "RDKit ERROR: [15:09:00] SMILES Parse Error: extra open parentheses for input: 'COc1cc(-n2c(C[C@@H]3CCN(C(=O)C4CC4)C3)n[nH]c2=O)ccc1-c1nn(C(c2ccccc2)(c2ccccc2)c2ccccc2)c2cc(NC(=O)N[C@H](C)c3cc'\n",
      "RDKit ERROR: [15:09:04] SMILES Parse Error: extra open parentheses for input: 'COc1nn(C(c2ccccc2)(c2ccccc2)c2ccccc2)c2cc(Cl)nc(C(C)(O)c3nc(Cl)cc4c3c(OC)nn4C(c3ccccc3)(c3ccccc3)c3ccc'\n",
      "RDKit ERROR: [15:09:04] SMILES Parse Error: unclosed ring for input: 'COc1cc(-c2nn(C(c3ccccc3)(c3ccccc3)c3ccccc3)c3ccc(Nc4ccc(-n5c(C[C@H]6CCN(C(=O)C7CC7)C6)n[nH]c5=O)cc4)cc23)cc'\n"
     ]
    }
   ],
   "source": [
    "# library for running ismd in XenonPy-iQSPR\n",
    "from xenonpy.inverse.iqspr import IQSPR\n",
    "\n",
    "# set up likelihood and modifier models in iQSPR\n",
    "ismd = IQSPR(estimator=likelihood_calculator, modifier=pool_obj)\n",
    "    \n",
    "np.random.seed(201906) # fix the random seed\n",
    "# main loop of iQSPR\n",
    "ismd_samples, ismd_loglike, ismd_prob, ismd_freq = [], [], [], []\n",
    "for s, ll, p, freq in ismd(init_samples, beta, yield_lpf=True):\n",
    "    ismd_samples.append(s)\n",
    "    ismd_loglike.append(ll)\n",
    "    ismd_prob.append(p)\n",
    "    ismd_freq.append(freq)\n",
    "# record all outputs\n",
    "ismd_results = {\n",
    "    \"samples\": ismd_samples,\n",
    "    \"loglike\": ismd_loglike,\n",
    "    \"prob\": ismd_prob,\n",
    "    \"freq\": ismd_freq,\n",
    "    \"beta\": beta\n",
    "}\n"
   ]
  },
  {
   "cell_type": "code",
   "execution_count": 20,
   "metadata": {},
   "outputs": [
    {
     "data": {
      "text/html": [
       "<div>\n",
       "<style scoped>\n",
       "    .dataframe tbody tr th:only-of-type {\n",
       "        vertical-align: middle;\n",
       "    }\n",
       "\n",
       "    .dataframe tbody tr th {\n",
       "        vertical-align: top;\n",
       "    }\n",
       "\n",
       "    .dataframe thead th {\n",
       "        text-align: right;\n",
       "    }\n",
       "</style>\n",
       "<table border=\"1\" class=\"dataframe\">\n",
       "  <thead>\n",
       "    <tr style=\"text-align: right;\">\n",
       "      <th></th>\n",
       "      <th>samples</th>\n",
       "      <th>loglike</th>\n",
       "      <th>prob</th>\n",
       "      <th>freq</th>\n",
       "      <th>beta</th>\n",
       "    </tr>\n",
       "  </thead>\n",
       "  <tbody>\n",
       "    <tr>\n",
       "      <th>0</th>\n",
       "      <td>[14376.18781, 159186.505934, 167733.537503, 20...</td>\n",
       "      <td>XLogP      TPSA\n",
       "0 -1.449954 -2.420606\n",
       "1 ...</td>\n",
       "      <td>[0.09955269694814026, 0.09953953740960717, 0.1...</td>\n",
       "      <td>[1, 1, 1, 1, 1, 1, 1, 1, 1, 1]</td>\n",
       "      <td>0.01</td>\n",
       "    </tr>\n",
       "    <tr>\n",
       "      <th>1</th>\n",
       "      <td>[14376.390089, 159186.30602, 254641.505934, 27...</td>\n",
       "      <td>XLogP      TPSA\n",
       "0 -1.618544 -2.126752\n",
       "1 ...</td>\n",
       "      <td>[0.09961361469186743, 0.09904500956466293, 0.1...</td>\n",
       "      <td>[1, 1, 1, 1, 1, 1, 1, 1, 1, 1]</td>\n",
       "      <td>0.02</td>\n",
       "    </tr>\n",
       "    <tr>\n",
       "      <th>2</th>\n",
       "      <td>[160654.395970, 194191, 238605.505934, 3512.17...</td>\n",
       "      <td>XLogP      TPSA\n",
       "0 -1.148370 -2.290254\n",
       "1 ...</td>\n",
       "      <td>[0.10017170718377574, 0.19991690246637525, 0.1...</td>\n",
       "      <td>[1, 2, 1, 1, 1, 1, 1, 1, 1]</td>\n",
       "      <td>0.03</td>\n",
       "    </tr>\n",
       "    <tr>\n",
       "      <th>3</th>\n",
       "      <td>[181233, 1901, 238605.265663, 253001.337619, 2...</td>\n",
       "      <td>XLogP      TPSA\n",
       "0 -1.111461 -2.096320\n",
       "1 ...</td>\n",
       "      <td>[0.10111233182431391, 0.09915898303393672, 0.0...</td>\n",
       "      <td>[1, 1, 1, 1, 1, 1, 1, 1, 1, 1]</td>\n",
       "      <td>0.04</td>\n",
       "    </tr>\n",
       "    <tr>\n",
       "      <th>4</th>\n",
       "      <td>[147331.337619, 324069.265663, 410297.18781, 4...</td>\n",
       "      <td>XLogP      TPSA\n",
       "0 -0.838483 -2.220596\n",
       "1 ...</td>\n",
       "      <td>[0.10156296098223812, 0.0996687845349864, 0.09...</td>\n",
       "      <td>[1, 1, 1, 1, 1, 1, 1, 1, 1, 1]</td>\n",
       "      <td>0.05</td>\n",
       "    </tr>\n",
       "  </tbody>\n",
       "</table>\n",
       "</div>"
      ],
      "text/plain": [
       "                                             samples  \\\n",
       "0  [14376.18781, 159186.505934, 167733.537503, 20...   \n",
       "1  [14376.390089, 159186.30602, 254641.505934, 27...   \n",
       "2  [160654.395970, 194191, 238605.505934, 3512.17...   \n",
       "3  [181233, 1901, 238605.265663, 253001.337619, 2...   \n",
       "4  [147331.337619, 324069.265663, 410297.18781, 4...   \n",
       "\n",
       "                                             loglike  \\\n",
       "0        XLogP      TPSA\n",
       "0 -1.449954 -2.420606\n",
       "1 ...   \n",
       "1        XLogP      TPSA\n",
       "0 -1.618544 -2.126752\n",
       "1 ...   \n",
       "2        XLogP      TPSA\n",
       "0 -1.148370 -2.290254\n",
       "1 ...   \n",
       "3        XLogP      TPSA\n",
       "0 -1.111461 -2.096320\n",
       "1 ...   \n",
       "4        XLogP      TPSA\n",
       "0 -0.838483 -2.220596\n",
       "1 ...   \n",
       "\n",
       "                                                prob  \\\n",
       "0  [0.09955269694814026, 0.09953953740960717, 0.1...   \n",
       "1  [0.09961361469186743, 0.09904500956466293, 0.1...   \n",
       "2  [0.10017170718377574, 0.19991690246637525, 0.1...   \n",
       "3  [0.10111233182431391, 0.09915898303393672, 0.0...   \n",
       "4  [0.10156296098223812, 0.0996687845349864, 0.09...   \n",
       "\n",
       "                             freq  beta  \n",
       "0  [1, 1, 1, 1, 1, 1, 1, 1, 1, 1]  0.01  \n",
       "1  [1, 1, 1, 1, 1, 1, 1, 1, 1, 1]  0.02  \n",
       "2     [1, 2, 1, 1, 1, 1, 1, 1, 1]  0.03  \n",
       "3  [1, 1, 1, 1, 1, 1, 1, 1, 1, 1]  0.04  \n",
       "4  [1, 1, 1, 1, 1, 1, 1, 1, 1, 1]  0.05  "
      ]
     },
     "execution_count": 20,
     "metadata": {},
     "output_type": "execute_result"
    }
   ],
   "source": [
    "# have a look at the result\n",
    "ismd_result_df = pd.DataFrame(ismd_results)\n",
    "ismd_result_df.head()"
   ]
  },
  {
   "cell_type": "code",
   "execution_count": 21,
   "metadata": {},
   "outputs": [
    {
     "data": {
      "text/plain": [
       "array(['14376.18781', '159186.505934', '167733.537503',\n",
       "       '208158.118041.16794', '340658', '3512.448559', '409062',\n",
       "       '456078.36953', '52646.15893', '549477'], dtype='<U32')"
      ]
     },
     "execution_count": 21,
     "metadata": {},
     "output_type": "execute_result"
    }
   ],
   "source": [
    "ismd_result_df['samples'][0]"
   ]
  },
  {
   "cell_type": "code",
   "execution_count": 22,
   "metadata": {},
   "outputs": [
    {
     "data": {
      "text/html": [
       "<div>\n",
       "<style scoped>\n",
       "    .dataframe tbody tr th:only-of-type {\n",
       "        vertical-align: middle;\n",
       "    }\n",
       "\n",
       "    .dataframe tbody tr th {\n",
       "        vertical-align: top;\n",
       "    }\n",
       "\n",
       "    .dataframe thead th {\n",
       "        text-align: right;\n",
       "    }\n",
       "</style>\n",
       "<table border=\"1\" class=\"dataframe\">\n",
       "  <thead>\n",
       "    <tr style=\"text-align: right;\">\n",
       "      <th></th>\n",
       "      <th>XLogP</th>\n",
       "      <th>TPSA</th>\n",
       "    </tr>\n",
       "  </thead>\n",
       "  <tbody>\n",
       "    <tr>\n",
       "      <th>0</th>\n",
       "      <td>-1.449954</td>\n",
       "      <td>-2.420606</td>\n",
       "    </tr>\n",
       "    <tr>\n",
       "      <th>1</th>\n",
       "      <td>-1.345152</td>\n",
       "      <td>-2.538628</td>\n",
       "    </tr>\n",
       "    <tr>\n",
       "      <th>2</th>\n",
       "      <td>-1.105808</td>\n",
       "      <td>-2.138121</td>\n",
       "    </tr>\n",
       "    <tr>\n",
       "      <th>3</th>\n",
       "      <td>-1.356044</td>\n",
       "      <td>-2.385798</td>\n",
       "    </tr>\n",
       "    <tr>\n",
       "      <th>4</th>\n",
       "      <td>-0.873934</td>\n",
       "      <td>-2.164831</td>\n",
       "    </tr>\n",
       "    <tr>\n",
       "      <th>5</th>\n",
       "      <td>-1.630458</td>\n",
       "      <td>-2.380833</td>\n",
       "    </tr>\n",
       "    <tr>\n",
       "      <th>6</th>\n",
       "      <td>-0.947385</td>\n",
       "      <td>-1.893932</td>\n",
       "    </tr>\n",
       "    <tr>\n",
       "      <th>7</th>\n",
       "      <td>-0.937115</td>\n",
       "      <td>-2.032380</td>\n",
       "    </tr>\n",
       "    <tr>\n",
       "      <th>8</th>\n",
       "      <td>-1.258988</td>\n",
       "      <td>-2.337640</td>\n",
       "    </tr>\n",
       "    <tr>\n",
       "      <th>9</th>\n",
       "      <td>-1.172434</td>\n",
       "      <td>-1.861330</td>\n",
       "    </tr>\n",
       "  </tbody>\n",
       "</table>\n",
       "</div>"
      ],
      "text/plain": [
       "      XLogP      TPSA\n",
       "0 -1.449954 -2.420606\n",
       "1 -1.345152 -2.538628\n",
       "2 -1.105808 -2.138121\n",
       "3 -1.356044 -2.385798\n",
       "4 -0.873934 -2.164831\n",
       "5 -1.630458 -2.380833\n",
       "6 -0.947385 -1.893932\n",
       "7 -0.937115 -2.032380\n",
       "8 -1.258988 -2.337640\n",
       "9 -1.172434 -1.861330"
      ]
     },
     "execution_count": 22,
     "metadata": {},
     "output_type": "execute_result"
    }
   ],
   "source": [
    "ismd_result_df['loglike'][0]"
   ]
  },
  {
   "cell_type": "code",
   "execution_count": 23,
   "metadata": {},
   "outputs": [
    {
     "data": {
      "text/plain": [
       "array([0.0995527 , 0.09953954, 0.10017848, 0.09968092, 0.10038423,\n",
       "       0.09941269, 0.10058263, 0.10045379, 0.09982578, 0.10038925])"
      ]
     },
     "execution_count": 23,
     "metadata": {},
     "output_type": "execute_result"
    }
   ],
   "source": [
    "ismd_result_df['prob'][0]"
   ]
  }
 ],
 "metadata": {
  "kernelspec": {
   "display_name": "Python 3",
   "language": "python",
   "name": "python3"
  },
  "language_info": {
   "codemirror_mode": {
    "name": "ipython",
    "version": 3
   },
   "file_extension": ".py",
   "mimetype": "text/x-python",
   "name": "python",
   "nbconvert_exporter": "python",
   "pygments_lexer": "ipython3",
   "version": "3.7.7"
  }
 },
 "nbformat": 4,
 "nbformat_minor": 4
}
